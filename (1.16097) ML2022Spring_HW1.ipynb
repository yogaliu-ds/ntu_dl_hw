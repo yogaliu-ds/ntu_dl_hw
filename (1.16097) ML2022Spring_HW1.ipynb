{
  "cells": [
    {
      "cell_type": "markdown",
      "metadata": {
        "id": "view-in-github",
        "colab_type": "text"
      },
      "source": [
        "<a href=\"https://colab.research.google.com/github/yogaliu-ds/ntu_dl_hw/blob/main/(1.16097)%20ML2022Spring_HW1.ipynb\" target=\"_parent\"><img src=\"https://colab.research.google.com/assets/colab-badge.svg\" alt=\"Open In Colab\"/></a>"
      ]
    },
    {
      "cell_type": "markdown",
      "metadata": {
        "id": "guE34D3Fj2R9"
      },
      "source": [
        "# **Homework 1: COVID-19 Cases Prediction (Regression)**"
      ]
    },
    {
      "cell_type": "markdown",
      "metadata": {
        "id": "V57zhcTp1Xxb"
      },
      "source": [
        "Objectives:\n",
        "* Solve a regression problem with deep neural networks (DNN).\n",
        "* Understand basic DNN training tips.\n",
        "* Familiarize yourself with PyTorch.\n",
        "\n",
        "If you have any questions, please contact the TAs via TA hours, NTU COOL, or email to mlta-2022-spring@googlegroups.com"
      ]
    },
    {
      "cell_type": "markdown",
      "metadata": {
        "id": "Tm2aXcb-j9Fc"
      },
      "source": [
        "# Download data\n",
        "If the Google Drive links below do not work, you can download data from [Kaggle](https://www.kaggle.com/t/a3ebd5b5542f0f55e828d4f00de8e59a), and upload data manually to the workspace."
      ]
    },
    {
      "cell_type": "code",
      "execution_count": 102,
      "metadata": {
        "colab": {
          "base_uri": "https://localhost:8080/"
        },
        "id": "YPmfl-awlKZA",
        "outputId": "0ed97d08-0810-4c56-a95a-fb4275493ffd"
      },
      "outputs": [
        {
          "output_type": "stream",
          "name": "stdout",
          "text": [
            "/usr/local/lib/python3.7/dist-packages/gdown/cli.py:131: FutureWarning: Option `--id` was deprecated in version 4.3.1 and will be removed in 5.0. You don't need to pass it anymore to use a file ID.\n",
            "  category=FutureWarning,\n",
            "Downloading...\n",
            "From: https://drive.google.com/uc?id=1kLSW_-cW2Huj7bh84YTdimGBOJaODiOS\n",
            "To: /content/covid.train.csv\n",
            "100% 2.49M/2.49M [00:00<00:00, 225MB/s]\n",
            "/usr/local/lib/python3.7/dist-packages/gdown/cli.py:131: FutureWarning: Option `--id` was deprecated in version 4.3.1 and will be removed in 5.0. You don't need to pass it anymore to use a file ID.\n",
            "  category=FutureWarning,\n",
            "Downloading...\n",
            "From: https://drive.google.com/uc?id=1iiI5qROrAhZn-o4FPqsE97bMzDEFvIdg\n",
            "To: /content/covid.test.csv\n",
            "100% 993k/993k [00:00<00:00, 130MB/s]\n"
          ]
        }
      ],
      "source": [
        "!gdown --id '1kLSW_-cW2Huj7bh84YTdimGBOJaODiOS' --output covid.train.csv\n",
        "!gdown --id '1iiI5qROrAhZn-o4FPqsE97bMzDEFvIdg' --output covid.test.csv"
      ]
    },
    {
      "cell_type": "markdown",
      "metadata": {
        "id": "igqIMEgu64-F"
      },
      "source": [
        "# Import packages"
      ]
    },
    {
      "cell_type": "code",
      "execution_count": 103,
      "metadata": {
        "id": "xybQNYCXYu13"
      },
      "outputs": [],
      "source": [
        "# Numerical Operations\n",
        "import math\n",
        "import numpy as np\n",
        "\n",
        "# Reading/Writing Data\n",
        "import pandas as pd\n",
        "import os\n",
        "import csv\n",
        "\n",
        "# For Progress Bar\n",
        "from tqdm import tqdm\n",
        "\n",
        "# Pytorch\n",
        "import torch \n",
        "import torch.nn as nn\n",
        "from torch.utils.data import Dataset, DataLoader, random_split\n",
        "\n",
        "# For plotting learning curve\n",
        "from torch.utils.tensorboard import SummaryWriter"
      ]
    },
    {
      "cell_type": "markdown",
      "metadata": {
        "id": "fTAVqRfc2KK3"
      },
      "source": [
        "# Some Utility Functions\n",
        "\n",
        "You do not need to modify this part."
      ]
    },
    {
      "cell_type": "code",
      "execution_count": 104,
      "metadata": {
        "id": "RbrcpfYN2I-H"
      },
      "outputs": [],
      "source": [
        "def same_seed(seed): \n",
        "    '''Fixes random number generator seeds for reproducibility.'''\n",
        "    torch.backends.cudnn.deterministic = True\n",
        "    torch.backends.cudnn.benchmark = False\n",
        "    np.random.seed(seed)\n",
        "    torch.manual_seed(seed)\n",
        "    if torch.cuda.is_available():\n",
        "        torch.cuda.manual_seed_all(seed)\n",
        "\n",
        "def train_valid_split(data_set, valid_ratio, seed):\n",
        "    '''Split provided training data into training set and validation set'''\n",
        "    valid_set_size = int(valid_ratio * len(data_set)) \n",
        "    train_set_size = len(data_set) - valid_set_size\n",
        "    train_set, valid_set = random_split(data_set, [train_set_size, valid_set_size], generator=torch.Generator().manual_seed(seed))\n",
        "    return np.array(train_set), np.array(valid_set)\n",
        "\n",
        "def predict(test_loader, model, device):\n",
        "    model.eval() # Set your model to evaluation mode.\n",
        "    preds = []\n",
        "    for x in tqdm(test_loader):\n",
        "        x = x.to(device)                        \n",
        "        with torch.no_grad():                   \n",
        "            pred = model(x)                     \n",
        "            preds.append(pred.detach().cpu())   \n",
        "    preds = torch.cat(preds, dim=0).numpy()  \n",
        "    return preds"
      ]
    },
    {
      "cell_type": "markdown",
      "metadata": {
        "id": "IqO3lTm78nNO"
      },
      "source": [
        "# Dataset"
      ]
    },
    {
      "cell_type": "code",
      "execution_count": 105,
      "metadata": {
        "id": "-mjaJM0wprMs"
      },
      "outputs": [],
      "source": [
        "class COVID19Dataset(Dataset):\n",
        "    '''\n",
        "    x: Features.\n",
        "    y: Targets, if none, do prediction.\n",
        "    '''\n",
        "    def __init__(self, x, y=None):\n",
        "        if y is None:\n",
        "            self.y = y\n",
        "        else:\n",
        "            self.y = torch.FloatTensor(y)\n",
        "        self.x = torch.FloatTensor(x)\n",
        "\n",
        "    def __getitem__(self, idx):\n",
        "        if self.y is None:\n",
        "            return self.x[idx]\n",
        "        else:\n",
        "            return self.x[idx], self.y[idx]\n",
        "\n",
        "    def __len__(self):\n",
        "        return len(self.x)"
      ]
    },
    {
      "cell_type": "markdown",
      "metadata": {
        "id": "m73ooU75CL_j"
      },
      "source": [
        "# Neural Network Model\n",
        "Try out different model architectures by modifying the class below."
      ]
    },
    {
      "cell_type": "code",
      "execution_count": 106,
      "metadata": {
        "id": "Qn97_WvvrEkG"
      },
      "outputs": [],
      "source": [
        "class My_Model(nn.Module):\n",
        "    def __init__(self, input_dim):\n",
        "        super(My_Model, self).__init__()\n",
        "        # TODO: modify model's structure, be aware of dimensions. \n",
        "        self.layers = nn.Sequential(\n",
        "            nn.Linear(input_dim, 16),\n",
        "            nn.ReLU(),\n",
        "            nn.Linear(16, 1),\n",
        "        )\n",
        "\n",
        "    def forward(self, x):\n",
        "        x = self.layers(x)\n",
        "        x = x.squeeze(1) # (B, 1) -> (B)\n",
        "        return x"
      ]
    },
    {
      "cell_type": "markdown",
      "metadata": {
        "id": "x5-LKF6R8xeq"
      },
      "source": [
        "# Feature Selection\n",
        "Choose features you deem useful by modifying the function below."
      ]
    },
    {
      "cell_type": "code",
      "execution_count": 107,
      "metadata": {
        "id": "0FEnKRaIIeKp"
      },
      "outputs": [],
      "source": [
        "def select_feat(train_data, valid_data, test_data, select_all=True):\n",
        "    '''Selects useful features to perform regression'''\n",
        "    y_train, y_valid = train_data[:,-1], valid_data[:,-1]\n",
        "    raw_x_train, raw_x_valid, raw_x_test = train_data[:,:-1], valid_data[:,:-1], test_data\n",
        "\n",
        "    if select_all:\n",
        "        feat_idx = list(range(raw_x_train.shape[1]))\n",
        "    else:\n",
        "        feat_idx = [0,1,2,3,4] # TODO: Select suitable feature columns.\n",
        "        \n",
        "    return raw_x_train[:,feat_idx], raw_x_valid[:,feat_idx], raw_x_test[:,feat_idx], y_train, y_valid"
      ]
    },
    {
      "cell_type": "markdown",
      "metadata": {
        "id": "kADIPNQ2Ih5X"
      },
      "source": [
        "# Training Loop"
      ]
    },
    {
      "cell_type": "code",
      "execution_count": 108,
      "metadata": {
        "id": "k4Rq8_TztAhq"
      },
      "outputs": [],
      "source": [
        "def trainer(train_loader, valid_loader, model, config, device):\n",
        "\n",
        "    criterion = nn.MSELoss(reduction='mean') # Define your loss function, do not modify this.\n",
        "\n",
        "    # Define your optimization algorithm. \n",
        "    # TODO: Please check https://pytorch.org/docs/stable/optim.html to get more available algorithms.\n",
        "    # TODO: L2 regularization (optimizer(weight decay...) or implement by your self).\n",
        "    # optimizer = torch.optim.SGD(model.parameters(), lr=config['learning_rate'], momentum=0.9) \n",
        "\n",
        "    optimizer = torch.optim.Adam(model.parameters(), lr=config['learning_rate'])\n",
        "\n",
        "    writer = SummaryWriter() # Writer of tensoboard.\n",
        "\n",
        "    if not os.path.isdir('./models'):\n",
        "        os.mkdir('./models') # Create directory of saving models.\n",
        "\n",
        "    n_epochs, best_loss, step, early_stop_count = config['n_epochs'], math.inf, 0, 0\n",
        "\n",
        "    for epoch in range(n_epochs):\n",
        "        model.train() # Set your model to train mode.\n",
        "        loss_record = []\n",
        "\n",
        "        # tqdm is a package to visualize your training progress.\n",
        "        train_pbar = tqdm(train_loader, position=0, leave=True)\n",
        "\n",
        "        for x, y in train_pbar:\n",
        "            optimizer.zero_grad()               # Set gradient to zero.\n",
        "            x, y = x.to(device), y.to(device)   # Move your data to device. \n",
        "            pred = model(x)             \n",
        "            loss = criterion(pred, y)\n",
        "            loss.backward()                     # Compute gradient(backpropagation).\n",
        "            optimizer.step()                    # Update parameters.\n",
        "            step += 1\n",
        "            loss_record.append(loss.detach().item())\n",
        "            \n",
        "            # Display current epoch number and loss on tqdm progress bar.\n",
        "            train_pbar.set_description(f'Epoch [{epoch+1}/{n_epochs}]')\n",
        "            train_pbar.set_postfix({'loss': loss.detach().item()})\n",
        "\n",
        "        mean_train_loss = sum(loss_record)/len(loss_record)\n",
        "        writer.add_scalar('Loss/train', mean_train_loss, step)\n",
        "\n",
        "        model.eval() # Set your model to evaluation mode.\n",
        "        loss_record = []\n",
        "        for x, y in valid_loader:\n",
        "            x, y = x.to(device), y.to(device)\n",
        "            with torch.no_grad():\n",
        "                pred = model(x)\n",
        "                loss = criterion(pred, y)\n",
        "\n",
        "            loss_record.append(loss.item())\n",
        "            \n",
        "        mean_valid_loss = sum(loss_record)/len(loss_record)\n",
        "        print(f'Epoch [{epoch+1}/{n_epochs}]: Train loss: {mean_train_loss:.4f}, Valid loss: {mean_valid_loss:.4f}')\n",
        "        writer.add_scalar('Loss/valid', mean_valid_loss, step)\n",
        "\n",
        "        if mean_valid_loss < best_loss:\n",
        "            best_loss = mean_valid_loss\n",
        "            torch.save(model.state_dict(), config['save_path']) # Save your best model\n",
        "            print('Saving model with loss {:.3f}...'.format(best_loss))\n",
        "            early_stop_count = 0\n",
        "        else: \n",
        "            early_stop_count += 1\n",
        "\n",
        "        if early_stop_count >= config['early_stop']:\n",
        "            print('\\nModel is not improving, so we halt the training session.')\n",
        "            return"
      ]
    },
    {
      "cell_type": "markdown",
      "metadata": {
        "id": "0pgkOh2e9UjE"
      },
      "source": [
        "# Configurations\n",
        "`config` contains hyper-parameters for training and the path to save your model."
      ]
    },
    {
      "cell_type": "code",
      "execution_count": 109,
      "metadata": {
        "id": "QoWPUahCtoT6"
      },
      "outputs": [],
      "source": [
        "device = 'cuda' if torch.cuda.is_available() else 'cpu'\n",
        "config = {\n",
        "    'seed': 5201314,      # Your seed number, you can pick your lucky number. :)\n",
        "    'select_all': True,   # Whether to use all features.\n",
        "    'valid_ratio': 0.2,   # validation_size = train_size * valid_ratio\n",
        "    'n_epochs': 3000,     # Number of epochs.            \n",
        "    'batch_size': 256, \n",
        "    'learning_rate': 1e-4,              \n",
        "    'early_stop': 400,    # If model has not improved for this many consecutive epochs, stop training.     \n",
        "    'save_path': './models/model.ckpt'  # Your model will be saved here.\n",
        "}"
      ]
    },
    {
      "cell_type": "markdown",
      "metadata": {
        "id": "lrS-aJJh9XkW"
      },
      "source": [
        "# Dataloader\n",
        "Read data from files and set up training, validation, and testing sets. You do not need to modify this part."
      ]
    },
    {
      "cell_type": "code",
      "execution_count": 110,
      "metadata": {
        "colab": {
          "base_uri": "https://localhost:8080/"
        },
        "id": "2jc7ZfDot2t9",
        "outputId": "915099ea-80b1-41e2-d1b8-766eb5d580da"
      },
      "outputs": [
        {
          "output_type": "stream",
          "name": "stdout",
          "text": [
            "train_data size: (2160, 118) \n",
            "valid_data size: (539, 118) \n",
            "test_data size: (1078, 117)\n",
            "number of features: 117\n"
          ]
        }
      ],
      "source": [
        "# Set seed for reproducibility\n",
        "same_seed(config['seed'])\n",
        "\n",
        "\n",
        "# train_data size: 2699 x 118 (id + 37 states + 16 features x 5 days) \n",
        "# test_data size: 1078 x 117 (without last day's positive rate)\n",
        "train_data, test_data = pd.read_csv('./covid.train.csv').values, pd.read_csv('./covid.test.csv').values\n",
        "train_data, valid_data = train_valid_split(train_data, config['valid_ratio'], config['seed'])\n",
        "\n",
        "# Print out the data size.\n",
        "print(f\"\"\"train_data size: {train_data.shape} \n",
        "valid_data size: {valid_data.shape} \n",
        "test_data size: {test_data.shape}\"\"\")\n",
        "\n",
        "# Select features\n",
        "x_train, x_valid, x_test, y_train, y_valid = select_feat(train_data, valid_data, test_data, config['select_all'])\n",
        "\n",
        "# Print out the number of features.\n",
        "print(f'number of features: {x_train.shape[1]}')\n",
        "\n",
        "train_dataset, valid_dataset, test_dataset = COVID19Dataset(x_train, y_train), \\\n",
        "                                            COVID19Dataset(x_valid, y_valid), \\\n",
        "                                            COVID19Dataset(x_test)\n",
        "\n",
        "# Pytorch data loader loads pytorch dataset into batches.\n",
        "train_loader = DataLoader(train_dataset, batch_size=config['batch_size'], shuffle=True, pin_memory=True)\n",
        "valid_loader = DataLoader(valid_dataset, batch_size=config['batch_size'], shuffle=True, pin_memory=True)\n",
        "test_loader = DataLoader(test_dataset, batch_size=config['batch_size'], shuffle=False, pin_memory=True)"
      ]
    },
    {
      "cell_type": "code",
      "execution_count": 111,
      "metadata": {
        "colab": {
          "base_uri": "https://localhost:8080/"
        },
        "id": "8H79NbX4JHca",
        "outputId": "d3158aff-2ef4-4a79-a0a2-4c698d1e4710"
      },
      "outputs": [
        {
          "output_type": "execute_result",
          "data": {
            "text/plain": [
              "118"
            ]
          },
          "metadata": {},
          "execution_count": 111
        }
      ],
      "source": [
        "len(train_data[2])"
      ]
    },
    {
      "cell_type": "markdown",
      "metadata": {
        "id": "0OBYgjCA-YwD"
      },
      "source": [
        "# Start training!"
      ]
    },
    {
      "cell_type": "code",
      "execution_count": 112,
      "metadata": {
        "colab": {
          "base_uri": "https://localhost:8080/"
        },
        "id": "YdttVRkAfu2t",
        "outputId": "c74408b3-8f2e-4efa-e225-48c171f80f4f"
      },
      "outputs": [
        {
          "output_type": "stream",
          "name": "stderr",
          "text": [
            "Epoch [1/3000]: 100%|██████████| 9/9 [00:00<00:00, 117.91it/s, loss=70.1]\n"
          ]
        },
        {
          "output_type": "stream",
          "name": "stdout",
          "text": [
            "Epoch [1/3000]: Train loss: 88.6626, Valid loss: 73.8963\n",
            "Saving model with loss 73.896...\n"
          ]
        },
        {
          "output_type": "stream",
          "name": "stderr",
          "text": [
            "Epoch [2/3000]: 100%|██████████| 9/9 [00:00<00:00, 102.97it/s, loss=46.8]\n"
          ]
        },
        {
          "output_type": "stream",
          "name": "stdout",
          "text": [
            "Epoch [2/3000]: Train loss: 60.8189, Valid loss: 52.3145\n",
            "Saving model with loss 52.314...\n"
          ]
        },
        {
          "output_type": "stream",
          "name": "stderr",
          "text": [
            "Epoch [3/3000]: 100%|██████████| 9/9 [00:00<00:00, 91.14it/s, loss=35.9]\n"
          ]
        },
        {
          "output_type": "stream",
          "name": "stdout",
          "text": [
            "Epoch [3/3000]: Train loss: 47.7520, Valid loss: 51.6854\n",
            "Saving model with loss 51.685...\n"
          ]
        },
        {
          "output_type": "stream",
          "name": "stderr",
          "text": [
            "Epoch [4/3000]: 100%|██████████| 9/9 [00:00<00:00, 83.07it/s, loss=45.5]\n"
          ]
        },
        {
          "output_type": "stream",
          "name": "stdout",
          "text": [
            "Epoch [4/3000]: Train loss: 44.5333, Valid loss: 51.3757\n",
            "Saving model with loss 51.376...\n"
          ]
        },
        {
          "output_type": "stream",
          "name": "stderr",
          "text": [
            "Epoch [5/3000]: 100%|██████████| 9/9 [00:00<00:00, 85.48it/s, loss=46.4]\n"
          ]
        },
        {
          "output_type": "stream",
          "name": "stdout",
          "text": [
            "Epoch [5/3000]: Train loss: 43.2092, Valid loss: 41.3902\n",
            "Saving model with loss 41.390...\n"
          ]
        },
        {
          "output_type": "stream",
          "name": "stderr",
          "text": [
            "Epoch [6/3000]: 100%|██████████| 9/9 [00:00<00:00, 90.13it/s, loss=32.9]\n"
          ]
        },
        {
          "output_type": "stream",
          "name": "stdout",
          "text": [
            "Epoch [6/3000]: Train loss: 40.8486, Valid loss: 42.8518\n"
          ]
        },
        {
          "output_type": "stream",
          "name": "stderr",
          "text": [
            "Epoch [7/3000]: 100%|██████████| 9/9 [00:00<00:00, 95.97it/s, loss=35.8]\n"
          ]
        },
        {
          "output_type": "stream",
          "name": "stdout",
          "text": [
            "Epoch [7/3000]: Train loss: 39.3556, Valid loss: 45.5686\n"
          ]
        },
        {
          "output_type": "stream",
          "name": "stderr",
          "text": [
            "Epoch [8/3000]: 100%|██████████| 9/9 [00:00<00:00, 89.78it/s, loss=33.1]\n"
          ]
        },
        {
          "output_type": "stream",
          "name": "stdout",
          "text": [
            "Epoch [8/3000]: Train loss: 37.7462, Valid loss: 43.0585\n"
          ]
        },
        {
          "output_type": "stream",
          "name": "stderr",
          "text": [
            "Epoch [9/3000]: 100%|██████████| 9/9 [00:00<00:00, 82.27it/s, loss=35.9]\n"
          ]
        },
        {
          "output_type": "stream",
          "name": "stdout",
          "text": [
            "Epoch [9/3000]: Train loss: 36.5685, Valid loss: 37.1557\n",
            "Saving model with loss 37.156...\n"
          ]
        },
        {
          "output_type": "stream",
          "name": "stderr",
          "text": [
            "Epoch [10/3000]: 100%|██████████| 9/9 [00:00<00:00, 91.31it/s, loss=44.6]\n"
          ]
        },
        {
          "output_type": "stream",
          "name": "stdout",
          "text": [
            "Epoch [10/3000]: Train loss: 35.8894, Valid loss: 40.0924\n"
          ]
        },
        {
          "output_type": "stream",
          "name": "stderr",
          "text": [
            "Epoch [11/3000]: 100%|██████████| 9/9 [00:00<00:00, 83.34it/s, loss=30.3]\n"
          ]
        },
        {
          "output_type": "stream",
          "name": "stdout",
          "text": [
            "Epoch [11/3000]: Train loss: 33.8114, Valid loss: 32.8318\n",
            "Saving model with loss 32.832...\n"
          ]
        },
        {
          "output_type": "stream",
          "name": "stderr",
          "text": [
            "Epoch [12/3000]: 100%|██████████| 9/9 [00:00<00:00, 84.45it/s, loss=31.9]\n"
          ]
        },
        {
          "output_type": "stream",
          "name": "stdout",
          "text": [
            "Epoch [12/3000]: Train loss: 32.8530, Valid loss: 34.0685\n"
          ]
        },
        {
          "output_type": "stream",
          "name": "stderr",
          "text": [
            "Epoch [13/3000]: 100%|██████████| 9/9 [00:00<00:00, 88.53it/s, loss=31.9]\n"
          ]
        },
        {
          "output_type": "stream",
          "name": "stdout",
          "text": [
            "Epoch [13/3000]: Train loss: 31.9055, Valid loss: 35.2024\n"
          ]
        },
        {
          "output_type": "stream",
          "name": "stderr",
          "text": [
            "Epoch [14/3000]: 100%|██████████| 9/9 [00:00<00:00, 88.48it/s, loss=33.5]\n"
          ]
        },
        {
          "output_type": "stream",
          "name": "stdout",
          "text": [
            "Epoch [14/3000]: Train loss: 31.1247, Valid loss: 32.2385\n",
            "Saving model with loss 32.239...\n"
          ]
        },
        {
          "output_type": "stream",
          "name": "stderr",
          "text": [
            "Epoch [15/3000]: 100%|██████████| 9/9 [00:00<00:00, 85.47it/s, loss=24.6]\n"
          ]
        },
        {
          "output_type": "stream",
          "name": "stdout",
          "text": [
            "Epoch [15/3000]: Train loss: 29.6990, Valid loss: 30.5172\n",
            "Saving model with loss 30.517...\n"
          ]
        },
        {
          "output_type": "stream",
          "name": "stderr",
          "text": [
            "Epoch [16/3000]: 100%|██████████| 9/9 [00:00<00:00, 93.13it/s, loss=33.2]\n"
          ]
        },
        {
          "output_type": "stream",
          "name": "stdout",
          "text": [
            "Epoch [16/3000]: Train loss: 29.3993, Valid loss: 29.0760\n",
            "Saving model with loss 29.076...\n"
          ]
        },
        {
          "output_type": "stream",
          "name": "stderr",
          "text": [
            "Epoch [17/3000]: 100%|██████████| 9/9 [00:00<00:00, 82.97it/s, loss=28.2]\n"
          ]
        },
        {
          "output_type": "stream",
          "name": "stdout",
          "text": [
            "Epoch [17/3000]: Train loss: 28.2601, Valid loss: 27.4991\n",
            "Saving model with loss 27.499...\n"
          ]
        },
        {
          "output_type": "stream",
          "name": "stderr",
          "text": [
            "Epoch [18/3000]: 100%|██████████| 9/9 [00:00<00:00, 95.20it/s, loss=32.1]\n"
          ]
        },
        {
          "output_type": "stream",
          "name": "stdout",
          "text": [
            "Epoch [18/3000]: Train loss: 27.6818, Valid loss: 32.1844\n"
          ]
        },
        {
          "output_type": "stream",
          "name": "stderr",
          "text": [
            "Epoch [19/3000]: 100%|██████████| 9/9 [00:00<00:00, 108.20it/s, loss=36.2]\n"
          ]
        },
        {
          "output_type": "stream",
          "name": "stdout",
          "text": [
            "Epoch [19/3000]: Train loss: 27.1527, Valid loss: 28.5875\n"
          ]
        },
        {
          "output_type": "stream",
          "name": "stderr",
          "text": [
            "Epoch [20/3000]: 100%|██████████| 9/9 [00:00<00:00, 91.15it/s, loss=27.5]\n"
          ]
        },
        {
          "output_type": "stream",
          "name": "stdout",
          "text": [
            "Epoch [20/3000]: Train loss: 25.8434, Valid loss: 26.6811\n",
            "Saving model with loss 26.681...\n"
          ]
        },
        {
          "output_type": "stream",
          "name": "stderr",
          "text": [
            "Epoch [21/3000]: 100%|██████████| 9/9 [00:00<00:00, 91.52it/s, loss=29]\n"
          ]
        },
        {
          "output_type": "stream",
          "name": "stdout",
          "text": [
            "Epoch [21/3000]: Train loss: 25.1549, Valid loss: 25.5006\n",
            "Saving model with loss 25.501...\n"
          ]
        },
        {
          "output_type": "stream",
          "name": "stderr",
          "text": [
            "Epoch [22/3000]: 100%|██████████| 9/9 [00:00<00:00, 105.24it/s, loss=26.6]\n"
          ]
        },
        {
          "output_type": "stream",
          "name": "stdout",
          "text": [
            "Epoch [22/3000]: Train loss: 24.2735, Valid loss: 24.4144\n",
            "Saving model with loss 24.414...\n"
          ]
        },
        {
          "output_type": "stream",
          "name": "stderr",
          "text": [
            "Epoch [23/3000]: 100%|██████████| 9/9 [00:00<00:00, 100.72it/s, loss=23.3]\n"
          ]
        },
        {
          "output_type": "stream",
          "name": "stdout",
          "text": [
            "Epoch [23/3000]: Train loss: 23.3475, Valid loss: 25.1139\n"
          ]
        },
        {
          "output_type": "stream",
          "name": "stderr",
          "text": [
            "Epoch [24/3000]: 100%|██████████| 9/9 [00:00<00:00, 97.09it/s, loss=25.6]\n"
          ]
        },
        {
          "output_type": "stream",
          "name": "stdout",
          "text": [
            "Epoch [24/3000]: Train loss: 22.7967, Valid loss: 22.7161\n",
            "Saving model with loss 22.716...\n"
          ]
        },
        {
          "output_type": "stream",
          "name": "stderr",
          "text": [
            "Epoch [25/3000]: 100%|██████████| 9/9 [00:00<00:00, 84.44it/s, loss=18.9]\n"
          ]
        },
        {
          "output_type": "stream",
          "name": "stdout",
          "text": [
            "Epoch [25/3000]: Train loss: 21.7016, Valid loss: 22.8997\n"
          ]
        },
        {
          "output_type": "stream",
          "name": "stderr",
          "text": [
            "Epoch [26/3000]: 100%|██████████| 9/9 [00:00<00:00, 105.98it/s, loss=18.3]\n"
          ]
        },
        {
          "output_type": "stream",
          "name": "stdout",
          "text": [
            "Epoch [26/3000]: Train loss: 21.0250, Valid loss: 24.5087\n"
          ]
        },
        {
          "output_type": "stream",
          "name": "stderr",
          "text": [
            "Epoch [27/3000]: 100%|██████████| 9/9 [00:00<00:00, 81.51it/s, loss=25]\n"
          ]
        },
        {
          "output_type": "stream",
          "name": "stdout",
          "text": [
            "Epoch [27/3000]: Train loss: 20.7984, Valid loss: 23.9000\n"
          ]
        },
        {
          "output_type": "stream",
          "name": "stderr",
          "text": [
            "Epoch [28/3000]: 100%|██████████| 9/9 [00:00<00:00, 95.21it/s, loss=19.7]\n"
          ]
        },
        {
          "output_type": "stream",
          "name": "stdout",
          "text": [
            "Epoch [28/3000]: Train loss: 19.8287, Valid loss: 22.1166\n",
            "Saving model with loss 22.117...\n"
          ]
        },
        {
          "output_type": "stream",
          "name": "stderr",
          "text": [
            "Epoch [29/3000]: 100%|██████████| 9/9 [00:00<00:00, 83.19it/s, loss=17.3]\n"
          ]
        },
        {
          "output_type": "stream",
          "name": "stdout",
          "text": [
            "Epoch [29/3000]: Train loss: 19.0743, Valid loss: 23.6933\n"
          ]
        },
        {
          "output_type": "stream",
          "name": "stderr",
          "text": [
            "Epoch [30/3000]: 100%|██████████| 9/9 [00:00<00:00, 81.68it/s, loss=16.5]\n"
          ]
        },
        {
          "output_type": "stream",
          "name": "stdout",
          "text": [
            "Epoch [30/3000]: Train loss: 18.4431, Valid loss: 19.0087\n",
            "Saving model with loss 19.009...\n"
          ]
        },
        {
          "output_type": "stream",
          "name": "stderr",
          "text": [
            "Epoch [31/3000]: 100%|██████████| 9/9 [00:00<00:00, 76.90it/s, loss=15.2]\n"
          ]
        },
        {
          "output_type": "stream",
          "name": "stdout",
          "text": [
            "Epoch [31/3000]: Train loss: 17.7728, Valid loss: 19.3775\n"
          ]
        },
        {
          "output_type": "stream",
          "name": "stderr",
          "text": [
            "Epoch [32/3000]: 100%|██████████| 9/9 [00:00<00:00, 88.64it/s, loss=18.5]\n"
          ]
        },
        {
          "output_type": "stream",
          "name": "stdout",
          "text": [
            "Epoch [32/3000]: Train loss: 17.4086, Valid loss: 18.3515\n",
            "Saving model with loss 18.351...\n"
          ]
        },
        {
          "output_type": "stream",
          "name": "stderr",
          "text": [
            "Epoch [33/3000]: 100%|██████████| 9/9 [00:00<00:00, 106.78it/s, loss=14.9]\n"
          ]
        },
        {
          "output_type": "stream",
          "name": "stdout",
          "text": [
            "Epoch [33/3000]: Train loss: 16.6527, Valid loss: 16.5448\n",
            "Saving model with loss 16.545...\n"
          ]
        },
        {
          "output_type": "stream",
          "name": "stderr",
          "text": [
            "Epoch [34/3000]: 100%|██████████| 9/9 [00:00<00:00, 97.09it/s, loss=12.8]\n"
          ]
        },
        {
          "output_type": "stream",
          "name": "stdout",
          "text": [
            "Epoch [34/3000]: Train loss: 15.9465, Valid loss: 17.4821\n"
          ]
        },
        {
          "output_type": "stream",
          "name": "stderr",
          "text": [
            "Epoch [35/3000]: 100%|██████████| 9/9 [00:00<00:00, 85.59it/s, loss=15.9]\n"
          ]
        },
        {
          "output_type": "stream",
          "name": "stdout",
          "text": [
            "Epoch [35/3000]: Train loss: 15.5999, Valid loss: 15.7905\n",
            "Saving model with loss 15.790...\n"
          ]
        },
        {
          "output_type": "stream",
          "name": "stderr",
          "text": [
            "Epoch [36/3000]: 100%|██████████| 9/9 [00:00<00:00, 99.72it/s, loss=15.7]\n"
          ]
        },
        {
          "output_type": "stream",
          "name": "stdout",
          "text": [
            "Epoch [36/3000]: Train loss: 15.0254, Valid loss: 14.7950\n",
            "Saving model with loss 14.795...\n"
          ]
        },
        {
          "output_type": "stream",
          "name": "stderr",
          "text": [
            "Epoch [37/3000]: 100%|██████████| 9/9 [00:00<00:00, 83.99it/s, loss=15.2]\n"
          ]
        },
        {
          "output_type": "stream",
          "name": "stdout",
          "text": [
            "Epoch [37/3000]: Train loss: 14.4731, Valid loss: 13.8663\n",
            "Saving model with loss 13.866...\n"
          ]
        },
        {
          "output_type": "stream",
          "name": "stderr",
          "text": [
            "Epoch [38/3000]: 100%|██████████| 9/9 [00:00<00:00, 81.33it/s, loss=13.3]\n"
          ]
        },
        {
          "output_type": "stream",
          "name": "stdout",
          "text": [
            "Epoch [38/3000]: Train loss: 13.7940, Valid loss: 14.3501\n"
          ]
        },
        {
          "output_type": "stream",
          "name": "stderr",
          "text": [
            "Epoch [39/3000]: 100%|██████████| 9/9 [00:00<00:00, 99.16it/s, loss=18.3]\n"
          ]
        },
        {
          "output_type": "stream",
          "name": "stdout",
          "text": [
            "Epoch [39/3000]: Train loss: 13.5890, Valid loss: 13.2591\n",
            "Saving model with loss 13.259...\n"
          ]
        },
        {
          "output_type": "stream",
          "name": "stderr",
          "text": [
            "Epoch [40/3000]: 100%|██████████| 9/9 [00:00<00:00, 87.57it/s, loss=10.2]\n"
          ]
        },
        {
          "output_type": "stream",
          "name": "stdout",
          "text": [
            "Epoch [40/3000]: Train loss: 12.5121, Valid loss: 13.1400\n",
            "Saving model with loss 13.140...\n"
          ]
        },
        {
          "output_type": "stream",
          "name": "stderr",
          "text": [
            "Epoch [41/3000]: 100%|██████████| 9/9 [00:00<00:00, 93.72it/s, loss=10.7]\n"
          ]
        },
        {
          "output_type": "stream",
          "name": "stdout",
          "text": [
            "Epoch [41/3000]: Train loss: 11.9556, Valid loss: 14.0820\n"
          ]
        },
        {
          "output_type": "stream",
          "name": "stderr",
          "text": [
            "Epoch [42/3000]: 100%|██████████| 9/9 [00:00<00:00, 98.01it/s, loss=7.75]\n"
          ]
        },
        {
          "output_type": "stream",
          "name": "stdout",
          "text": [
            "Epoch [42/3000]: Train loss: 11.1193, Valid loss: 11.9021\n",
            "Saving model with loss 11.902...\n"
          ]
        },
        {
          "output_type": "stream",
          "name": "stderr",
          "text": [
            "Epoch [43/3000]: 100%|██████████| 9/9 [00:00<00:00, 105.14it/s, loss=9.89]\n"
          ]
        },
        {
          "output_type": "stream",
          "name": "stdout",
          "text": [
            "Epoch [43/3000]: Train loss: 10.4669, Valid loss: 11.6823\n",
            "Saving model with loss 11.682...\n"
          ]
        },
        {
          "output_type": "stream",
          "name": "stderr",
          "text": [
            "Epoch [44/3000]: 100%|██████████| 9/9 [00:00<00:00, 96.06it/s, loss=5.7]\n"
          ]
        },
        {
          "output_type": "stream",
          "name": "stdout",
          "text": [
            "Epoch [44/3000]: Train loss: 9.5135, Valid loss: 9.5016\n",
            "Saving model with loss 9.502...\n"
          ]
        },
        {
          "output_type": "stream",
          "name": "stderr",
          "text": [
            "Epoch [45/3000]: 100%|██████████| 9/9 [00:00<00:00, 82.54it/s, loss=7.48]\n"
          ]
        },
        {
          "output_type": "stream",
          "name": "stdout",
          "text": [
            "Epoch [45/3000]: Train loss: 9.0932, Valid loss: 10.4572\n"
          ]
        },
        {
          "output_type": "stream",
          "name": "stderr",
          "text": [
            "Epoch [46/3000]: 100%|██████████| 9/9 [00:00<00:00, 102.48it/s, loss=10.1]\n"
          ]
        },
        {
          "output_type": "stream",
          "name": "stdout",
          "text": [
            "Epoch [46/3000]: Train loss: 8.8147, Valid loss: 7.7456\n",
            "Saving model with loss 7.746...\n"
          ]
        },
        {
          "output_type": "stream",
          "name": "stderr",
          "text": [
            "Epoch [47/3000]: 100%|██████████| 9/9 [00:00<00:00, 90.02it/s, loss=7.47]\n"
          ]
        },
        {
          "output_type": "stream",
          "name": "stdout",
          "text": [
            "Epoch [47/3000]: Train loss: 8.2998, Valid loss: 8.1199\n"
          ]
        },
        {
          "output_type": "stream",
          "name": "stderr",
          "text": [
            "Epoch [48/3000]: 100%|██████████| 9/9 [00:00<00:00, 94.09it/s, loss=5.72]\n"
          ]
        },
        {
          "output_type": "stream",
          "name": "stdout",
          "text": [
            "Epoch [48/3000]: Train loss: 7.8728, Valid loss: 7.6509\n",
            "Saving model with loss 7.651...\n"
          ]
        },
        {
          "output_type": "stream",
          "name": "stderr",
          "text": [
            "Epoch [49/3000]: 100%|██████████| 9/9 [00:00<00:00, 47.55it/s, loss=7.55]\n"
          ]
        },
        {
          "output_type": "stream",
          "name": "stdout",
          "text": [
            "Epoch [49/3000]: Train loss: 7.7186, Valid loss: 9.2365\n"
          ]
        },
        {
          "output_type": "stream",
          "name": "stderr",
          "text": [
            "Epoch [50/3000]: 100%|██████████| 9/9 [00:00<00:00, 100.60it/s, loss=6.79]\n"
          ]
        },
        {
          "output_type": "stream",
          "name": "stdout",
          "text": [
            "Epoch [50/3000]: Train loss: 7.4454, Valid loss: 6.7596\n",
            "Saving model with loss 6.760...\n"
          ]
        },
        {
          "output_type": "stream",
          "name": "stderr",
          "text": [
            "Epoch [51/3000]: 100%|██████████| 9/9 [00:00<00:00, 86.10it/s, loss=6.85]\n"
          ]
        },
        {
          "output_type": "stream",
          "name": "stdout",
          "text": [
            "Epoch [51/3000]: Train loss: 7.2603, Valid loss: 7.3901\n"
          ]
        },
        {
          "output_type": "stream",
          "name": "stderr",
          "text": [
            "Epoch [52/3000]: 100%|██████████| 9/9 [00:00<00:00, 81.04it/s, loss=7.8]\n"
          ]
        },
        {
          "output_type": "stream",
          "name": "stdout",
          "text": [
            "Epoch [52/3000]: Train loss: 7.1352, Valid loss: 6.2829\n",
            "Saving model with loss 6.283...\n"
          ]
        },
        {
          "output_type": "stream",
          "name": "stderr",
          "text": [
            "Epoch [53/3000]: 100%|██████████| 9/9 [00:00<00:00, 78.92it/s, loss=5.67]\n"
          ]
        },
        {
          "output_type": "stream",
          "name": "stdout",
          "text": [
            "Epoch [53/3000]: Train loss: 6.8359, Valid loss: 7.5738\n"
          ]
        },
        {
          "output_type": "stream",
          "name": "stderr",
          "text": [
            "Epoch [54/3000]: 100%|██████████| 9/9 [00:00<00:00, 94.29it/s, loss=6.39]\n"
          ]
        },
        {
          "output_type": "stream",
          "name": "stdout",
          "text": [
            "Epoch [54/3000]: Train loss: 6.7421, Valid loss: 7.3569\n"
          ]
        },
        {
          "output_type": "stream",
          "name": "stderr",
          "text": [
            "Epoch [55/3000]: 100%|██████████| 9/9 [00:00<00:00, 95.75it/s, loss=8.59]\n"
          ]
        },
        {
          "output_type": "stream",
          "name": "stdout",
          "text": [
            "Epoch [55/3000]: Train loss: 6.7608, Valid loss: 6.4664\n"
          ]
        },
        {
          "output_type": "stream",
          "name": "stderr",
          "text": [
            "Epoch [56/3000]: 100%|██████████| 9/9 [00:00<00:00, 93.29it/s, loss=6.07]\n"
          ]
        },
        {
          "output_type": "stream",
          "name": "stdout",
          "text": [
            "Epoch [56/3000]: Train loss: 6.4884, Valid loss: 6.7877\n"
          ]
        },
        {
          "output_type": "stream",
          "name": "stderr",
          "text": [
            "Epoch [57/3000]: 100%|██████████| 9/9 [00:00<00:00, 75.76it/s, loss=6.2]\n"
          ]
        },
        {
          "output_type": "stream",
          "name": "stdout",
          "text": [
            "Epoch [57/3000]: Train loss: 6.4066, Valid loss: 6.5264\n"
          ]
        },
        {
          "output_type": "stream",
          "name": "stderr",
          "text": [
            "Epoch [58/3000]: 100%|██████████| 9/9 [00:00<00:00, 83.45it/s, loss=7]\n"
          ]
        },
        {
          "output_type": "stream",
          "name": "stdout",
          "text": [
            "Epoch [58/3000]: Train loss: 6.4086, Valid loss: 5.7722\n",
            "Saving model with loss 5.772...\n"
          ]
        },
        {
          "output_type": "stream",
          "name": "stderr",
          "text": [
            "Epoch [59/3000]: 100%|██████████| 9/9 [00:00<00:00, 96.49it/s, loss=7.88]\n"
          ]
        },
        {
          "output_type": "stream",
          "name": "stdout",
          "text": [
            "Epoch [59/3000]: Train loss: 6.3766, Valid loss: 6.1811\n"
          ]
        },
        {
          "output_type": "stream",
          "name": "stderr",
          "text": [
            "Epoch [60/3000]: 100%|██████████| 9/9 [00:00<00:00, 95.28it/s, loss=6.62]\n"
          ]
        },
        {
          "output_type": "stream",
          "name": "stdout",
          "text": [
            "Epoch [60/3000]: Train loss: 6.2123, Valid loss: 6.4160\n"
          ]
        },
        {
          "output_type": "stream",
          "name": "stderr",
          "text": [
            "Epoch [61/3000]: 100%|██████████| 9/9 [00:00<00:00, 81.58it/s, loss=6.42]\n"
          ]
        },
        {
          "output_type": "stream",
          "name": "stdout",
          "text": [
            "Epoch [61/3000]: Train loss: 6.1210, Valid loss: 6.3574\n"
          ]
        },
        {
          "output_type": "stream",
          "name": "stderr",
          "text": [
            "Epoch [62/3000]: 100%|██████████| 9/9 [00:00<00:00, 102.74it/s, loss=5.85]\n"
          ]
        },
        {
          "output_type": "stream",
          "name": "stdout",
          "text": [
            "Epoch [62/3000]: Train loss: 6.0326, Valid loss: 5.5114\n",
            "Saving model with loss 5.511...\n"
          ]
        },
        {
          "output_type": "stream",
          "name": "stderr",
          "text": [
            "Epoch [63/3000]: 100%|██████████| 9/9 [00:00<00:00, 99.08it/s, loss=7.47]\n"
          ]
        },
        {
          "output_type": "stream",
          "name": "stdout",
          "text": [
            "Epoch [63/3000]: Train loss: 6.0980, Valid loss: 5.8004\n"
          ]
        },
        {
          "output_type": "stream",
          "name": "stderr",
          "text": [
            "Epoch [64/3000]: 100%|██████████| 9/9 [00:00<00:00, 95.24it/s, loss=5.71]\n"
          ]
        },
        {
          "output_type": "stream",
          "name": "stdout",
          "text": [
            "Epoch [64/3000]: Train loss: 5.9575, Valid loss: 6.6645\n"
          ]
        },
        {
          "output_type": "stream",
          "name": "stderr",
          "text": [
            "Epoch [65/3000]: 100%|██████████| 9/9 [00:00<00:00, 105.07it/s, loss=6.46]\n"
          ]
        },
        {
          "output_type": "stream",
          "name": "stdout",
          "text": [
            "Epoch [65/3000]: Train loss: 5.9397, Valid loss: 5.3594\n",
            "Saving model with loss 5.359...\n"
          ]
        },
        {
          "output_type": "stream",
          "name": "stderr",
          "text": [
            "Epoch [66/3000]: 100%|██████████| 9/9 [00:00<00:00, 110.07it/s, loss=5.59]\n"
          ]
        },
        {
          "output_type": "stream",
          "name": "stdout",
          "text": [
            "Epoch [66/3000]: Train loss: 5.8365, Valid loss: 5.5574\n"
          ]
        },
        {
          "output_type": "stream",
          "name": "stderr",
          "text": [
            "Epoch [67/3000]: 100%|██████████| 9/9 [00:00<00:00, 116.60it/s, loss=6.52]\n"
          ]
        },
        {
          "output_type": "stream",
          "name": "stdout",
          "text": [
            "Epoch [67/3000]: Train loss: 5.8601, Valid loss: 5.8326\n"
          ]
        },
        {
          "output_type": "stream",
          "name": "stderr",
          "text": [
            "Epoch [68/3000]: 100%|██████████| 9/9 [00:00<00:00, 92.94it/s, loss=8.71]\n"
          ]
        },
        {
          "output_type": "stream",
          "name": "stdout",
          "text": [
            "Epoch [68/3000]: Train loss: 5.9673, Valid loss: 5.6658\n"
          ]
        },
        {
          "output_type": "stream",
          "name": "stderr",
          "text": [
            "Epoch [69/3000]: 100%|██████████| 9/9 [00:00<00:00, 90.71it/s, loss=6.33]\n"
          ]
        },
        {
          "output_type": "stream",
          "name": "stdout",
          "text": [
            "Epoch [69/3000]: Train loss: 5.7975, Valid loss: 5.8703\n"
          ]
        },
        {
          "output_type": "stream",
          "name": "stderr",
          "text": [
            "Epoch [70/3000]: 100%|██████████| 9/9 [00:00<00:00, 97.76it/s, loss=5.79]\n"
          ]
        },
        {
          "output_type": "stream",
          "name": "stdout",
          "text": [
            "Epoch [70/3000]: Train loss: 5.7310, Valid loss: 7.2574\n"
          ]
        },
        {
          "output_type": "stream",
          "name": "stderr",
          "text": [
            "Epoch [71/3000]: 100%|██████████| 9/9 [00:00<00:00, 115.08it/s, loss=5.3]\n"
          ]
        },
        {
          "output_type": "stream",
          "name": "stdout",
          "text": [
            "Epoch [71/3000]: Train loss: 5.6639, Valid loss: 5.9295\n"
          ]
        },
        {
          "output_type": "stream",
          "name": "stderr",
          "text": [
            "Epoch [72/3000]: 100%|██████████| 9/9 [00:00<00:00, 101.72it/s, loss=5.72]\n"
          ]
        },
        {
          "output_type": "stream",
          "name": "stdout",
          "text": [
            "Epoch [72/3000]: Train loss: 5.6820, Valid loss: 4.6662\n",
            "Saving model with loss 4.666...\n"
          ]
        },
        {
          "output_type": "stream",
          "name": "stderr",
          "text": [
            "Epoch [73/3000]: 100%|██████████| 9/9 [00:00<00:00, 82.13it/s, loss=5.4]\n"
          ]
        },
        {
          "output_type": "stream",
          "name": "stdout",
          "text": [
            "Epoch [73/3000]: Train loss: 5.6315, Valid loss: 5.4024\n"
          ]
        },
        {
          "output_type": "stream",
          "name": "stderr",
          "text": [
            "Epoch [74/3000]: 100%|██████████| 9/9 [00:00<00:00, 100.83it/s, loss=6.05]\n"
          ]
        },
        {
          "output_type": "stream",
          "name": "stdout",
          "text": [
            "Epoch [74/3000]: Train loss: 5.6611, Valid loss: 5.1377\n"
          ]
        },
        {
          "output_type": "stream",
          "name": "stderr",
          "text": [
            "Epoch [75/3000]: 100%|██████████| 9/9 [00:00<00:00, 109.99it/s, loss=5.34]\n"
          ]
        },
        {
          "output_type": "stream",
          "name": "stdout",
          "text": [
            "Epoch [75/3000]: Train loss: 5.5934, Valid loss: 5.2056\n"
          ]
        },
        {
          "output_type": "stream",
          "name": "stderr",
          "text": [
            "Epoch [76/3000]: 100%|██████████| 9/9 [00:00<00:00, 101.86it/s, loss=4.29]\n"
          ]
        },
        {
          "output_type": "stream",
          "name": "stdout",
          "text": [
            "Epoch [76/3000]: Train loss: 5.4983, Valid loss: 5.8379\n"
          ]
        },
        {
          "output_type": "stream",
          "name": "stderr",
          "text": [
            "Epoch [77/3000]: 100%|██████████| 9/9 [00:00<00:00, 77.70it/s, loss=5.94]\n"
          ]
        },
        {
          "output_type": "stream",
          "name": "stdout",
          "text": [
            "Epoch [77/3000]: Train loss: 5.5718, Valid loss: 4.8597\n"
          ]
        },
        {
          "output_type": "stream",
          "name": "stderr",
          "text": [
            "Epoch [78/3000]: 100%|██████████| 9/9 [00:00<00:00, 97.83it/s, loss=5.19]\n"
          ]
        },
        {
          "output_type": "stream",
          "name": "stdout",
          "text": [
            "Epoch [78/3000]: Train loss: 5.4981, Valid loss: 5.1350\n"
          ]
        },
        {
          "output_type": "stream",
          "name": "stderr",
          "text": [
            "Epoch [79/3000]: 100%|██████████| 9/9 [00:00<00:00, 99.22it/s, loss=5.81]\n"
          ]
        },
        {
          "output_type": "stream",
          "name": "stdout",
          "text": [
            "Epoch [79/3000]: Train loss: 5.5189, Valid loss: 5.2670\n"
          ]
        },
        {
          "output_type": "stream",
          "name": "stderr",
          "text": [
            "Epoch [80/3000]: 100%|██████████| 9/9 [00:00<00:00, 101.43it/s, loss=7.66]\n"
          ]
        },
        {
          "output_type": "stream",
          "name": "stdout",
          "text": [
            "Epoch [80/3000]: Train loss: 5.6167, Valid loss: 5.2243\n"
          ]
        },
        {
          "output_type": "stream",
          "name": "stderr",
          "text": [
            "Epoch [81/3000]: 100%|██████████| 9/9 [00:00<00:00, 115.61it/s, loss=6.69]"
          ]
        },
        {
          "output_type": "stream",
          "name": "stdout",
          "text": [
            "Epoch [81/3000]: Train loss: 5.5453, Valid loss: 4.9676"
          ]
        },
        {
          "output_type": "stream",
          "name": "stderr",
          "text": [
            "\n"
          ]
        },
        {
          "output_type": "stream",
          "name": "stdout",
          "text": [
            "\n"
          ]
        },
        {
          "output_type": "stream",
          "name": "stderr",
          "text": [
            "Epoch [82/3000]: 100%|██████████| 9/9 [00:00<00:00, 114.58it/s, loss=5.04]\n"
          ]
        },
        {
          "output_type": "stream",
          "name": "stdout",
          "text": [
            "Epoch [82/3000]: Train loss: 5.4142, Valid loss: 5.6953\n"
          ]
        },
        {
          "output_type": "stream",
          "name": "stderr",
          "text": [
            "Epoch [83/3000]: 100%|██████████| 9/9 [00:00<00:00, 116.70it/s, loss=6.51]\n"
          ]
        },
        {
          "output_type": "stream",
          "name": "stdout",
          "text": [
            "Epoch [83/3000]: Train loss: 5.4856, Valid loss: 4.7547\n"
          ]
        },
        {
          "output_type": "stream",
          "name": "stderr",
          "text": [
            "Epoch [84/3000]: 100%|██████████| 9/9 [00:00<00:00, 103.66it/s, loss=6.68]\n"
          ]
        },
        {
          "output_type": "stream",
          "name": "stdout",
          "text": [
            "Epoch [84/3000]: Train loss: 5.4789, Valid loss: 5.8954\n"
          ]
        },
        {
          "output_type": "stream",
          "name": "stderr",
          "text": [
            "Epoch [85/3000]: 100%|██████████| 9/9 [00:00<00:00, 115.96it/s, loss=6.5]\n"
          ]
        },
        {
          "output_type": "stream",
          "name": "stdout",
          "text": [
            "Epoch [85/3000]: Train loss: 5.4403, Valid loss: 5.5594\n"
          ]
        },
        {
          "output_type": "stream",
          "name": "stderr",
          "text": [
            "Epoch [86/3000]: 100%|██████████| 9/9 [00:00<00:00, 115.97it/s, loss=5.41]\n"
          ]
        },
        {
          "output_type": "stream",
          "name": "stdout",
          "text": [
            "Epoch [86/3000]: Train loss: 5.3660, Valid loss: 4.3843\n",
            "Saving model with loss 4.384...\n"
          ]
        },
        {
          "output_type": "stream",
          "name": "stderr",
          "text": [
            "Epoch [87/3000]: 100%|██████████| 9/9 [00:00<00:00, 93.47it/s, loss=7.23]\n"
          ]
        },
        {
          "output_type": "stream",
          "name": "stdout",
          "text": [
            "Epoch [87/3000]: Train loss: 5.4582, Valid loss: 5.1245\n"
          ]
        },
        {
          "output_type": "stream",
          "name": "stderr",
          "text": [
            "Epoch [88/3000]: 100%|██████████| 9/9 [00:00<00:00, 84.19it/s, loss=6.06]\n"
          ]
        },
        {
          "output_type": "stream",
          "name": "stdout",
          "text": [
            "Epoch [88/3000]: Train loss: 5.3610, Valid loss: 5.5097\n"
          ]
        },
        {
          "output_type": "stream",
          "name": "stderr",
          "text": [
            "Epoch [89/3000]: 100%|██████████| 9/9 [00:00<00:00, 102.61it/s, loss=6.61]\n"
          ]
        },
        {
          "output_type": "stream",
          "name": "stdout",
          "text": [
            "Epoch [89/3000]: Train loss: 5.3815, Valid loss: 5.4821\n"
          ]
        },
        {
          "output_type": "stream",
          "name": "stderr",
          "text": [
            "Epoch [90/3000]: 100%|██████████| 9/9 [00:00<00:00, 90.15it/s, loss=4.7]\n"
          ]
        },
        {
          "output_type": "stream",
          "name": "stdout",
          "text": [
            "Epoch [90/3000]: Train loss: 5.2363, Valid loss: 4.7379\n"
          ]
        },
        {
          "output_type": "stream",
          "name": "stderr",
          "text": [
            "Epoch [91/3000]: 100%|██████████| 9/9 [00:00<00:00, 84.26it/s, loss=4.62]\n"
          ]
        },
        {
          "output_type": "stream",
          "name": "stdout",
          "text": [
            "Epoch [91/3000]: Train loss: 5.2172, Valid loss: 4.6297\n"
          ]
        },
        {
          "output_type": "stream",
          "name": "stderr",
          "text": [
            "Epoch [92/3000]: 100%|██████████| 9/9 [00:00<00:00, 114.22it/s, loss=4.51]\n"
          ]
        },
        {
          "output_type": "stream",
          "name": "stdout",
          "text": [
            "Epoch [92/3000]: Train loss: 5.2009, Valid loss: 5.1392\n"
          ]
        },
        {
          "output_type": "stream",
          "name": "stderr",
          "text": [
            "Epoch [93/3000]: 100%|██████████| 9/9 [00:00<00:00, 121.34it/s, loss=4.96]\n"
          ]
        },
        {
          "output_type": "stream",
          "name": "stdout",
          "text": [
            "Epoch [93/3000]: Train loss: 5.1987, Valid loss: 5.7101\n"
          ]
        },
        {
          "output_type": "stream",
          "name": "stderr",
          "text": [
            "Epoch [94/3000]: 100%|██████████| 9/9 [00:00<00:00, 103.11it/s, loss=4.48]\n"
          ]
        },
        {
          "output_type": "stream",
          "name": "stdout",
          "text": [
            "Epoch [94/3000]: Train loss: 5.1528, Valid loss: 4.8032\n"
          ]
        },
        {
          "output_type": "stream",
          "name": "stderr",
          "text": [
            "Epoch [95/3000]: 100%|██████████| 9/9 [00:00<00:00, 91.25it/s, loss=5.62]\n"
          ]
        },
        {
          "output_type": "stream",
          "name": "stdout",
          "text": [
            "Epoch [95/3000]: Train loss: 5.2059, Valid loss: 5.3572\n"
          ]
        },
        {
          "output_type": "stream",
          "name": "stderr",
          "text": [
            "Epoch [96/3000]: 100%|██████████| 9/9 [00:00<00:00, 94.70it/s, loss=5.25]\n"
          ]
        },
        {
          "output_type": "stream",
          "name": "stdout",
          "text": [
            "Epoch [96/3000]: Train loss: 5.1657, Valid loss: 5.0187\n"
          ]
        },
        {
          "output_type": "stream",
          "name": "stderr",
          "text": [
            "Epoch [97/3000]: 100%|██████████| 9/9 [00:00<00:00, 89.62it/s, loss=5.98]\n"
          ]
        },
        {
          "output_type": "stream",
          "name": "stdout",
          "text": [
            "Epoch [97/3000]: Train loss: 5.1934, Valid loss: 5.6562\n"
          ]
        },
        {
          "output_type": "stream",
          "name": "stderr",
          "text": [
            "Epoch [98/3000]: 100%|██████████| 9/9 [00:00<00:00, 95.89it/s, loss=6.37]\n"
          ]
        },
        {
          "output_type": "stream",
          "name": "stdout",
          "text": [
            "Epoch [98/3000]: Train loss: 5.2055, Valid loss: 4.5877\n"
          ]
        },
        {
          "output_type": "stream",
          "name": "stderr",
          "text": [
            "Epoch [99/3000]: 100%|██████████| 9/9 [00:00<00:00, 95.62it/s, loss=4.4]\n"
          ]
        },
        {
          "output_type": "stream",
          "name": "stdout",
          "text": [
            "Epoch [99/3000]: Train loss: 5.0885, Valid loss: 6.5104\n"
          ]
        },
        {
          "output_type": "stream",
          "name": "stderr",
          "text": [
            "Epoch [100/3000]: 100%|██████████| 9/9 [00:00<00:00, 97.29it/s, loss=6.13]\n"
          ]
        },
        {
          "output_type": "stream",
          "name": "stdout",
          "text": [
            "Epoch [100/3000]: Train loss: 5.1718, Valid loss: 5.3874\n"
          ]
        },
        {
          "output_type": "stream",
          "name": "stderr",
          "text": [
            "Epoch [101/3000]: 100%|██████████| 9/9 [00:00<00:00, 80.45it/s, loss=5.39]\n"
          ]
        },
        {
          "output_type": "stream",
          "name": "stdout",
          "text": [
            "Epoch [101/3000]: Train loss: 5.1117, Valid loss: 4.4195\n"
          ]
        },
        {
          "output_type": "stream",
          "name": "stderr",
          "text": [
            "Epoch [102/3000]: 100%|██████████| 9/9 [00:00<00:00, 89.70it/s, loss=4.89]\n"
          ]
        },
        {
          "output_type": "stream",
          "name": "stdout",
          "text": [
            "Epoch [102/3000]: Train loss: 5.0493, Valid loss: 5.1362\n"
          ]
        },
        {
          "output_type": "stream",
          "name": "stderr",
          "text": [
            "Epoch [103/3000]: 100%|██████████| 9/9 [00:00<00:00, 104.14it/s, loss=7.55]\n"
          ]
        },
        {
          "output_type": "stream",
          "name": "stdout",
          "text": [
            "Epoch [103/3000]: Train loss: 5.1872, Valid loss: 4.7254\n"
          ]
        },
        {
          "output_type": "stream",
          "name": "stderr",
          "text": [
            "Epoch [104/3000]: 100%|██████████| 9/9 [00:00<00:00, 101.93it/s, loss=4.17]\n"
          ]
        },
        {
          "output_type": "stream",
          "name": "stdout",
          "text": [
            "Epoch [104/3000]: Train loss: 4.9606, Valid loss: 5.5193\n"
          ]
        },
        {
          "output_type": "stream",
          "name": "stderr",
          "text": [
            "Epoch [105/3000]: 100%|██████████| 9/9 [00:00<00:00, 98.58it/s, loss=5]\n"
          ]
        },
        {
          "output_type": "stream",
          "name": "stdout",
          "text": [
            "Epoch [105/3000]: Train loss: 4.9946, Valid loss: 4.8611\n"
          ]
        },
        {
          "output_type": "stream",
          "name": "stderr",
          "text": [
            "Epoch [106/3000]: 100%|██████████| 9/9 [00:00<00:00, 79.63it/s, loss=4.84]\n"
          ]
        },
        {
          "output_type": "stream",
          "name": "stdout",
          "text": [
            "Epoch [106/3000]: Train loss: 4.9662, Valid loss: 4.9973\n"
          ]
        },
        {
          "output_type": "stream",
          "name": "stderr",
          "text": [
            "Epoch [107/3000]: 100%|██████████| 9/9 [00:00<00:00, 91.89it/s, loss=4.68]\n"
          ]
        },
        {
          "output_type": "stream",
          "name": "stdout",
          "text": [
            "Epoch [107/3000]: Train loss: 4.9652, Valid loss: 5.0316\n"
          ]
        },
        {
          "output_type": "stream",
          "name": "stderr",
          "text": [
            "Epoch [108/3000]: 100%|██████████| 9/9 [00:00<00:00, 92.87it/s, loss=4.81]\n"
          ]
        },
        {
          "output_type": "stream",
          "name": "stdout",
          "text": [
            "Epoch [108/3000]: Train loss: 4.9390, Valid loss: 5.2317\n"
          ]
        },
        {
          "output_type": "stream",
          "name": "stderr",
          "text": [
            "Epoch [109/3000]: 100%|██████████| 9/9 [00:00<00:00, 102.13it/s, loss=4.89]\n"
          ]
        },
        {
          "output_type": "stream",
          "name": "stdout",
          "text": [
            "Epoch [109/3000]: Train loss: 4.9191, Valid loss: 4.7827\n"
          ]
        },
        {
          "output_type": "stream",
          "name": "stderr",
          "text": [
            "Epoch [110/3000]: 100%|██████████| 9/9 [00:00<00:00, 101.59it/s, loss=5.29]\n"
          ]
        },
        {
          "output_type": "stream",
          "name": "stdout",
          "text": [
            "Epoch [110/3000]: Train loss: 4.9262, Valid loss: 5.2074\n"
          ]
        },
        {
          "output_type": "stream",
          "name": "stderr",
          "text": [
            "Epoch [111/3000]: 100%|██████████| 9/9 [00:00<00:00, 79.37it/s, loss=5.14]\n"
          ]
        },
        {
          "output_type": "stream",
          "name": "stdout",
          "text": [
            "Epoch [111/3000]: Train loss: 4.9014, Valid loss: 4.6405\n"
          ]
        },
        {
          "output_type": "stream",
          "name": "stderr",
          "text": [
            "Epoch [112/3000]: 100%|██████████| 9/9 [00:00<00:00, 91.80it/s, loss=4.59]\n"
          ]
        },
        {
          "output_type": "stream",
          "name": "stdout",
          "text": [
            "Epoch [112/3000]: Train loss: 4.8745, Valid loss: 5.1620\n"
          ]
        },
        {
          "output_type": "stream",
          "name": "stderr",
          "text": [
            "Epoch [113/3000]: 100%|██████████| 9/9 [00:00<00:00, 90.94it/s, loss=4.82]\n"
          ]
        },
        {
          "output_type": "stream",
          "name": "stdout",
          "text": [
            "Epoch [113/3000]: Train loss: 4.8991, Valid loss: 4.6768\n"
          ]
        },
        {
          "output_type": "stream",
          "name": "stderr",
          "text": [
            "Epoch [114/3000]: 100%|██████████| 9/9 [00:00<00:00, 84.72it/s, loss=4.4]\n"
          ]
        },
        {
          "output_type": "stream",
          "name": "stdout",
          "text": [
            "Epoch [114/3000]: Train loss: 4.8066, Valid loss: 4.8669\n"
          ]
        },
        {
          "output_type": "stream",
          "name": "stderr",
          "text": [
            "Epoch [115/3000]: 100%|██████████| 9/9 [00:00<00:00, 101.05it/s, loss=5.63]\n"
          ]
        },
        {
          "output_type": "stream",
          "name": "stdout",
          "text": [
            "Epoch [115/3000]: Train loss: 4.8674, Valid loss: 4.6001\n"
          ]
        },
        {
          "output_type": "stream",
          "name": "stderr",
          "text": [
            "Epoch [116/3000]: 100%|██████████| 9/9 [00:00<00:00, 92.47it/s, loss=4.89]\n"
          ]
        },
        {
          "output_type": "stream",
          "name": "stdout",
          "text": [
            "Epoch [116/3000]: Train loss: 4.8068, Valid loss: 4.2640\n",
            "Saving model with loss 4.264...\n"
          ]
        },
        {
          "output_type": "stream",
          "name": "stderr",
          "text": [
            "Epoch [117/3000]: 100%|██████████| 9/9 [00:00<00:00, 93.30it/s, loss=5.46]\n"
          ]
        },
        {
          "output_type": "stream",
          "name": "stdout",
          "text": [
            "Epoch [117/3000]: Train loss: 4.8476, Valid loss: 5.7287\n"
          ]
        },
        {
          "output_type": "stream",
          "name": "stderr",
          "text": [
            "Epoch [118/3000]: 100%|██████████| 9/9 [00:00<00:00, 88.56it/s, loss=4.87]\n"
          ]
        },
        {
          "output_type": "stream",
          "name": "stdout",
          "text": [
            "Epoch [118/3000]: Train loss: 4.7722, Valid loss: 5.4991\n"
          ]
        },
        {
          "output_type": "stream",
          "name": "stderr",
          "text": [
            "Epoch [119/3000]: 100%|██████████| 9/9 [00:00<00:00, 110.59it/s, loss=4.43]\n"
          ]
        },
        {
          "output_type": "stream",
          "name": "stdout",
          "text": [
            "Epoch [119/3000]: Train loss: 4.7283, Valid loss: 4.9219\n"
          ]
        },
        {
          "output_type": "stream",
          "name": "stderr",
          "text": [
            "Epoch [120/3000]: 100%|██████████| 9/9 [00:00<00:00, 116.32it/s, loss=5.58]\n"
          ]
        },
        {
          "output_type": "stream",
          "name": "stdout",
          "text": [
            "Epoch [120/3000]: Train loss: 4.7883, Valid loss: 4.7289\n"
          ]
        },
        {
          "output_type": "stream",
          "name": "stderr",
          "text": [
            "Epoch [121/3000]: 100%|██████████| 9/9 [00:00<00:00, 93.91it/s, loss=5.02]\n"
          ]
        },
        {
          "output_type": "stream",
          "name": "stdout",
          "text": [
            "Epoch [121/3000]: Train loss: 4.7384, Valid loss: 5.4444\n"
          ]
        },
        {
          "output_type": "stream",
          "name": "stderr",
          "text": [
            "Epoch [122/3000]: 100%|██████████| 9/9 [00:00<00:00, 97.17it/s, loss=5.23]\n"
          ]
        },
        {
          "output_type": "stream",
          "name": "stdout",
          "text": [
            "Epoch [122/3000]: Train loss: 4.7398, Valid loss: 4.3355\n"
          ]
        },
        {
          "output_type": "stream",
          "name": "stderr",
          "text": [
            "Epoch [123/3000]: 100%|██████████| 9/9 [00:00<00:00, 86.54it/s, loss=5.55]\n"
          ]
        },
        {
          "output_type": "stream",
          "name": "stdout",
          "text": [
            "Epoch [123/3000]: Train loss: 4.7352, Valid loss: 4.9596\n"
          ]
        },
        {
          "output_type": "stream",
          "name": "stderr",
          "text": [
            "Epoch [124/3000]: 100%|██████████| 9/9 [00:00<00:00, 72.26it/s, loss=4.79]\n"
          ]
        },
        {
          "output_type": "stream",
          "name": "stdout",
          "text": [
            "Epoch [124/3000]: Train loss: 4.6698, Valid loss: 4.2808\n"
          ]
        },
        {
          "output_type": "stream",
          "name": "stderr",
          "text": [
            "Epoch [125/3000]: 100%|██████████| 9/9 [00:00<00:00, 53.52it/s, loss=4.05]\n"
          ]
        },
        {
          "output_type": "stream",
          "name": "stdout",
          "text": [
            "Epoch [125/3000]: Train loss: 4.6095, Valid loss: 4.9554\n"
          ]
        },
        {
          "output_type": "stream",
          "name": "stderr",
          "text": [
            "Epoch [126/3000]: 100%|██████████| 9/9 [00:00<00:00, 81.98it/s, loss=4.38]\n"
          ]
        },
        {
          "output_type": "stream",
          "name": "stdout",
          "text": [
            "Epoch [126/3000]: Train loss: 4.6207, Valid loss: 4.0918\n",
            "Saving model with loss 4.092...\n"
          ]
        },
        {
          "output_type": "stream",
          "name": "stderr",
          "text": [
            "Epoch [127/3000]: 100%|██████████| 9/9 [00:00<00:00, 110.44it/s, loss=4.75]\n"
          ]
        },
        {
          "output_type": "stream",
          "name": "stdout",
          "text": [
            "Epoch [127/3000]: Train loss: 4.6340, Valid loss: 4.5497\n"
          ]
        },
        {
          "output_type": "stream",
          "name": "stderr",
          "text": [
            "Epoch [128/3000]: 100%|██████████| 9/9 [00:00<00:00, 96.74it/s, loss=3.91]\n"
          ]
        },
        {
          "output_type": "stream",
          "name": "stdout",
          "text": [
            "Epoch [128/3000]: Train loss: 4.5738, Valid loss: 4.7055\n"
          ]
        },
        {
          "output_type": "stream",
          "name": "stderr",
          "text": [
            "Epoch [129/3000]: 100%|██████████| 9/9 [00:00<00:00, 102.17it/s, loss=4.95]\n"
          ]
        },
        {
          "output_type": "stream",
          "name": "stdout",
          "text": [
            "Epoch [129/3000]: Train loss: 4.5974, Valid loss: 4.5770\n"
          ]
        },
        {
          "output_type": "stream",
          "name": "stderr",
          "text": [
            "Epoch [130/3000]: 100%|██████████| 9/9 [00:00<00:00, 111.49it/s, loss=5.47]\n"
          ]
        },
        {
          "output_type": "stream",
          "name": "stdout",
          "text": [
            "Epoch [130/3000]: Train loss: 4.6162, Valid loss: 4.3387\n"
          ]
        },
        {
          "output_type": "stream",
          "name": "stderr",
          "text": [
            "Epoch [131/3000]: 100%|██████████| 9/9 [00:00<00:00, 93.00it/s, loss=4.89]\n"
          ]
        },
        {
          "output_type": "stream",
          "name": "stdout",
          "text": [
            "Epoch [131/3000]: Train loss: 4.5642, Valid loss: 4.4112\n"
          ]
        },
        {
          "output_type": "stream",
          "name": "stderr",
          "text": [
            "Epoch [132/3000]: 100%|██████████| 9/9 [00:00<00:00, 107.42it/s, loss=4.63]\n"
          ]
        },
        {
          "output_type": "stream",
          "name": "stdout",
          "text": [
            "Epoch [132/3000]: Train loss: 4.5534, Valid loss: 4.3330\n"
          ]
        },
        {
          "output_type": "stream",
          "name": "stderr",
          "text": [
            "Epoch [133/3000]: 100%|██████████| 9/9 [00:00<00:00, 103.93it/s, loss=4.26]\n"
          ]
        },
        {
          "output_type": "stream",
          "name": "stdout",
          "text": [
            "Epoch [133/3000]: Train loss: 4.4949, Valid loss: 5.0034\n"
          ]
        },
        {
          "output_type": "stream",
          "name": "stderr",
          "text": [
            "Epoch [134/3000]: 100%|██████████| 9/9 [00:00<00:00, 97.96it/s, loss=4.21]\n"
          ]
        },
        {
          "output_type": "stream",
          "name": "stdout",
          "text": [
            "Epoch [134/3000]: Train loss: 4.4942, Valid loss: 3.9114\n",
            "Saving model with loss 3.911...\n"
          ]
        },
        {
          "output_type": "stream",
          "name": "stderr",
          "text": [
            "Epoch [135/3000]: 100%|██████████| 9/9 [00:00<00:00, 93.30it/s, loss=4.91]\n"
          ]
        },
        {
          "output_type": "stream",
          "name": "stdout",
          "text": [
            "Epoch [135/3000]: Train loss: 4.5089, Valid loss: 4.8368\n"
          ]
        },
        {
          "output_type": "stream",
          "name": "stderr",
          "text": [
            "Epoch [136/3000]: 100%|██████████| 9/9 [00:00<00:00, 91.34it/s, loss=6.17]\n"
          ]
        },
        {
          "output_type": "stream",
          "name": "stdout",
          "text": [
            "Epoch [136/3000]: Train loss: 4.5960, Valid loss: 4.1252\n"
          ]
        },
        {
          "output_type": "stream",
          "name": "stderr",
          "text": [
            "Epoch [137/3000]: 100%|██████████| 9/9 [00:00<00:00, 91.20it/s, loss=4.68]\n"
          ]
        },
        {
          "output_type": "stream",
          "name": "stdout",
          "text": [
            "Epoch [137/3000]: Train loss: 4.4916, Valid loss: 4.4011\n"
          ]
        },
        {
          "output_type": "stream",
          "name": "stderr",
          "text": [
            "Epoch [138/3000]: 100%|██████████| 9/9 [00:00<00:00, 96.79it/s, loss=3.74]\n"
          ]
        },
        {
          "output_type": "stream",
          "name": "stdout",
          "text": [
            "Epoch [138/3000]: Train loss: 4.4006, Valid loss: 4.5931\n"
          ]
        },
        {
          "output_type": "stream",
          "name": "stderr",
          "text": [
            "Epoch [139/3000]: 100%|██████████| 9/9 [00:00<00:00, 102.75it/s, loss=4.17]\n"
          ]
        },
        {
          "output_type": "stream",
          "name": "stdout",
          "text": [
            "Epoch [139/3000]: Train loss: 4.4082, Valid loss: 4.3247\n"
          ]
        },
        {
          "output_type": "stream",
          "name": "stderr",
          "text": [
            "Epoch [140/3000]: 100%|██████████| 9/9 [00:00<00:00, 95.75it/s, loss=3.55]\n"
          ]
        },
        {
          "output_type": "stream",
          "name": "stdout",
          "text": [
            "Epoch [140/3000]: Train loss: 4.3486, Valid loss: 4.4068\n"
          ]
        },
        {
          "output_type": "stream",
          "name": "stderr",
          "text": [
            "Epoch [141/3000]: 100%|██████████| 9/9 [00:00<00:00, 90.37it/s, loss=4.53]\n"
          ]
        },
        {
          "output_type": "stream",
          "name": "stdout",
          "text": [
            "Epoch [141/3000]: Train loss: 4.3907, Valid loss: 4.3740\n"
          ]
        },
        {
          "output_type": "stream",
          "name": "stderr",
          "text": [
            "Epoch [142/3000]: 100%|██████████| 9/9 [00:00<00:00, 104.79it/s, loss=5.42]\n"
          ]
        },
        {
          "output_type": "stream",
          "name": "stdout",
          "text": [
            "Epoch [142/3000]: Train loss: 4.4335, Valid loss: 4.0454\n"
          ]
        },
        {
          "output_type": "stream",
          "name": "stderr",
          "text": [
            "Epoch [143/3000]: 100%|██████████| 9/9 [00:00<00:00, 95.91it/s, loss=4.84]\n"
          ]
        },
        {
          "output_type": "stream",
          "name": "stdout",
          "text": [
            "Epoch [143/3000]: Train loss: 4.3738, Valid loss: 3.7735\n",
            "Saving model with loss 3.773...\n"
          ]
        },
        {
          "output_type": "stream",
          "name": "stderr",
          "text": [
            "Epoch [144/3000]: 100%|██████████| 9/9 [00:00<00:00, 100.53it/s, loss=4.58]\n"
          ]
        },
        {
          "output_type": "stream",
          "name": "stdout",
          "text": [
            "Epoch [144/3000]: Train loss: 4.3487, Valid loss: 4.5044\n"
          ]
        },
        {
          "output_type": "stream",
          "name": "stderr",
          "text": [
            "Epoch [145/3000]: 100%|██████████| 9/9 [00:00<00:00, 105.88it/s, loss=3.57]\n"
          ]
        },
        {
          "output_type": "stream",
          "name": "stdout",
          "text": [
            "Epoch [145/3000]: Train loss: 4.2705, Valid loss: 4.2704\n"
          ]
        },
        {
          "output_type": "stream",
          "name": "stderr",
          "text": [
            "Epoch [146/3000]: 100%|██████████| 9/9 [00:00<00:00, 99.33it/s, loss=3.55]\n"
          ]
        },
        {
          "output_type": "stream",
          "name": "stdout",
          "text": [
            "Epoch [146/3000]: Train loss: 4.2536, Valid loss: 4.4106\n"
          ]
        },
        {
          "output_type": "stream",
          "name": "stderr",
          "text": [
            "Epoch [147/3000]: 100%|██████████| 9/9 [00:00<00:00, 85.42it/s, loss=5.75]\n"
          ]
        },
        {
          "output_type": "stream",
          "name": "stdout",
          "text": [
            "Epoch [147/3000]: Train loss: 4.3745, Valid loss: 4.0061\n"
          ]
        },
        {
          "output_type": "stream",
          "name": "stderr",
          "text": [
            "Epoch [148/3000]: 100%|██████████| 9/9 [00:00<00:00, 86.18it/s, loss=3.18]\n"
          ]
        },
        {
          "output_type": "stream",
          "name": "stdout",
          "text": [
            "Epoch [148/3000]: Train loss: 4.2059, Valid loss: 4.4490\n"
          ]
        },
        {
          "output_type": "stream",
          "name": "stderr",
          "text": [
            "Epoch [149/3000]: 100%|██████████| 9/9 [00:00<00:00, 110.53it/s, loss=5.19]\n"
          ]
        },
        {
          "output_type": "stream",
          "name": "stdout",
          "text": [
            "Epoch [149/3000]: Train loss: 4.3192, Valid loss: 4.3295\n"
          ]
        },
        {
          "output_type": "stream",
          "name": "stderr",
          "text": [
            "Epoch [150/3000]: 100%|██████████| 9/9 [00:00<00:00, 96.63it/s, loss=4.24]\n"
          ]
        },
        {
          "output_type": "stream",
          "name": "stdout",
          "text": [
            "Epoch [150/3000]: Train loss: 4.3057, Valid loss: 4.1004\n"
          ]
        },
        {
          "output_type": "stream",
          "name": "stderr",
          "text": [
            "Epoch [151/3000]: 100%|██████████| 9/9 [00:00<00:00, 93.53it/s, loss=4.93]\n"
          ]
        },
        {
          "output_type": "stream",
          "name": "stdout",
          "text": [
            "Epoch [151/3000]: Train loss: 4.2878, Valid loss: 4.6852\n"
          ]
        },
        {
          "output_type": "stream",
          "name": "stderr",
          "text": [
            "Epoch [152/3000]: 100%|██████████| 9/9 [00:00<00:00, 94.86it/s, loss=3.98]\n"
          ]
        },
        {
          "output_type": "stream",
          "name": "stdout",
          "text": [
            "Epoch [152/3000]: Train loss: 4.2028, Valid loss: 5.2144\n"
          ]
        },
        {
          "output_type": "stream",
          "name": "stderr",
          "text": [
            "Epoch [153/3000]: 100%|██████████| 9/9 [00:00<00:00, 92.65it/s, loss=3.78]\n"
          ]
        },
        {
          "output_type": "stream",
          "name": "stdout",
          "text": [
            "Epoch [153/3000]: Train loss: 4.1616, Valid loss: 3.9646\n"
          ]
        },
        {
          "output_type": "stream",
          "name": "stderr",
          "text": [
            "Epoch [154/3000]: 100%|██████████| 9/9 [00:00<00:00, 105.77it/s, loss=4.54]\n"
          ]
        },
        {
          "output_type": "stream",
          "name": "stdout",
          "text": [
            "Epoch [154/3000]: Train loss: 4.1985, Valid loss: 4.0864\n"
          ]
        },
        {
          "output_type": "stream",
          "name": "stderr",
          "text": [
            "Epoch [155/3000]: 100%|██████████| 9/9 [00:00<00:00, 113.69it/s, loss=5.37]\n"
          ]
        },
        {
          "output_type": "stream",
          "name": "stdout",
          "text": [
            "Epoch [155/3000]: Train loss: 4.2319, Valid loss: 3.7484\n",
            "Saving model with loss 3.748...\n"
          ]
        },
        {
          "output_type": "stream",
          "name": "stderr",
          "text": [
            "Epoch [156/3000]: 100%|██████████| 9/9 [00:00<00:00, 115.66it/s, loss=3.79]\n"
          ]
        },
        {
          "output_type": "stream",
          "name": "stdout",
          "text": [
            "Epoch [156/3000]: Train loss: 4.1286, Valid loss: 3.8771\n"
          ]
        },
        {
          "output_type": "stream",
          "name": "stderr",
          "text": [
            "Epoch [157/3000]: 100%|██████████| 9/9 [00:00<00:00, 120.58it/s, loss=3.71]\n"
          ]
        },
        {
          "output_type": "stream",
          "name": "stdout",
          "text": [
            "Epoch [157/3000]: Train loss: 4.1020, Valid loss: 3.8780\n"
          ]
        },
        {
          "output_type": "stream",
          "name": "stderr",
          "text": [
            "Epoch [158/3000]: 100%|██████████| 9/9 [00:00<00:00, 98.93it/s, loss=4.73]\n"
          ]
        },
        {
          "output_type": "stream",
          "name": "stdout",
          "text": [
            "Epoch [158/3000]: Train loss: 4.1611, Valid loss: 4.3592\n"
          ]
        },
        {
          "output_type": "stream",
          "name": "stderr",
          "text": [
            "Epoch [159/3000]: 100%|██████████| 9/9 [00:00<00:00, 113.91it/s, loss=3.15]\n"
          ]
        },
        {
          "output_type": "stream",
          "name": "stdout",
          "text": [
            "Epoch [159/3000]: Train loss: 4.0401, Valid loss: 4.1769\n"
          ]
        },
        {
          "output_type": "stream",
          "name": "stderr",
          "text": [
            "Epoch [160/3000]: 100%|██████████| 9/9 [00:00<00:00, 116.34it/s, loss=4.34]\n"
          ]
        },
        {
          "output_type": "stream",
          "name": "stdout",
          "text": [
            "Epoch [160/3000]: Train loss: 4.1011, Valid loss: 4.1587\n"
          ]
        },
        {
          "output_type": "stream",
          "name": "stderr",
          "text": [
            "Epoch [161/3000]: 100%|██████████| 9/9 [00:00<00:00, 112.49it/s, loss=4.79]\n"
          ]
        },
        {
          "output_type": "stream",
          "name": "stdout",
          "text": [
            "Epoch [161/3000]: Train loss: 4.1155, Valid loss: 4.1853\n"
          ]
        },
        {
          "output_type": "stream",
          "name": "stderr",
          "text": [
            "Epoch [162/3000]: 100%|██████████| 9/9 [00:00<00:00, 111.11it/s, loss=2.72]\n"
          ]
        },
        {
          "output_type": "stream",
          "name": "stdout",
          "text": [
            "Epoch [162/3000]: Train loss: 4.0032, Valid loss: 4.4775\n"
          ]
        },
        {
          "output_type": "stream",
          "name": "stderr",
          "text": [
            "Epoch [163/3000]: 100%|██████████| 9/9 [00:00<00:00, 31.43it/s, loss=4.41]\n"
          ]
        },
        {
          "output_type": "stream",
          "name": "stdout",
          "text": [
            "Epoch [163/3000]: Train loss: 4.0971, Valid loss: 3.7081\n",
            "Saving model with loss 3.708...\n"
          ]
        },
        {
          "output_type": "stream",
          "name": "stderr",
          "text": [
            "Epoch [164/3000]: 100%|██████████| 9/9 [00:00<00:00, 110.19it/s, loss=4.43]\n"
          ]
        },
        {
          "output_type": "stream",
          "name": "stdout",
          "text": [
            "Epoch [164/3000]: Train loss: 4.0552, Valid loss: 4.7078\n"
          ]
        },
        {
          "output_type": "stream",
          "name": "stderr",
          "text": [
            "Epoch [165/3000]: 100%|██████████| 9/9 [00:00<00:00, 100.12it/s, loss=3.56]\n"
          ]
        },
        {
          "output_type": "stream",
          "name": "stdout",
          "text": [
            "Epoch [165/3000]: Train loss: 3.9830, Valid loss: 3.6745\n",
            "Saving model with loss 3.674...\n"
          ]
        },
        {
          "output_type": "stream",
          "name": "stderr",
          "text": [
            "Epoch [166/3000]: 100%|██████████| 9/9 [00:00<00:00, 96.65it/s, loss=4.77]\n"
          ]
        },
        {
          "output_type": "stream",
          "name": "stdout",
          "text": [
            "Epoch [166/3000]: Train loss: 4.0401, Valid loss: 4.2020\n"
          ]
        },
        {
          "output_type": "stream",
          "name": "stderr",
          "text": [
            "Epoch [167/3000]: 100%|██████████| 9/9 [00:00<00:00, 98.62it/s, loss=3.5]\n"
          ]
        },
        {
          "output_type": "stream",
          "name": "stdout",
          "text": [
            "Epoch [167/3000]: Train loss: 3.9469, Valid loss: 4.0389\n"
          ]
        },
        {
          "output_type": "stream",
          "name": "stderr",
          "text": [
            "Epoch [168/3000]: 100%|██████████| 9/9 [00:00<00:00, 95.50it/s, loss=2.44]\n"
          ]
        },
        {
          "output_type": "stream",
          "name": "stdout",
          "text": [
            "Epoch [168/3000]: Train loss: 3.8689, Valid loss: 4.1291\n"
          ]
        },
        {
          "output_type": "stream",
          "name": "stderr",
          "text": [
            "Epoch [169/3000]: 100%|██████████| 9/9 [00:00<00:00, 103.86it/s, loss=4.52]\n"
          ]
        },
        {
          "output_type": "stream",
          "name": "stdout",
          "text": [
            "Epoch [169/3000]: Train loss: 3.9878, Valid loss: 4.0496\n"
          ]
        },
        {
          "output_type": "stream",
          "name": "stderr",
          "text": [
            "Epoch [170/3000]: 100%|██████████| 9/9 [00:00<00:00, 97.54it/s, loss=4.92]\n"
          ]
        },
        {
          "output_type": "stream",
          "name": "stdout",
          "text": [
            "Epoch [170/3000]: Train loss: 4.0023, Valid loss: 3.9187\n"
          ]
        },
        {
          "output_type": "stream",
          "name": "stderr",
          "text": [
            "Epoch [171/3000]: 100%|██████████| 9/9 [00:00<00:00, 95.11it/s, loss=4.36]\n"
          ]
        },
        {
          "output_type": "stream",
          "name": "stdout",
          "text": [
            "Epoch [171/3000]: Train loss: 3.9791, Valid loss: 3.8556\n"
          ]
        },
        {
          "output_type": "stream",
          "name": "stderr",
          "text": [
            "Epoch [172/3000]: 100%|██████████| 9/9 [00:00<00:00, 106.60it/s, loss=4.32]\n"
          ]
        },
        {
          "output_type": "stream",
          "name": "stdout",
          "text": [
            "Epoch [172/3000]: Train loss: 3.9389, Valid loss: 3.6323\n",
            "Saving model with loss 3.632...\n"
          ]
        },
        {
          "output_type": "stream",
          "name": "stderr",
          "text": [
            "Epoch [173/3000]: 100%|██████████| 9/9 [00:00<00:00, 121.28it/s, loss=3.36]\n"
          ]
        },
        {
          "output_type": "stream",
          "name": "stdout",
          "text": [
            "Epoch [173/3000]: Train loss: 3.8595, Valid loss: 3.8933\n"
          ]
        },
        {
          "output_type": "stream",
          "name": "stderr",
          "text": [
            "Epoch [174/3000]: 100%|██████████| 9/9 [00:00<00:00, 93.29it/s, loss=4.62]\n"
          ]
        },
        {
          "output_type": "stream",
          "name": "stdout",
          "text": [
            "Epoch [174/3000]: Train loss: 3.9225, Valid loss: 3.7176\n"
          ]
        },
        {
          "output_type": "stream",
          "name": "stderr",
          "text": [
            "Epoch [175/3000]: 100%|██████████| 9/9 [00:00<00:00, 109.34it/s, loss=3.02]\n"
          ]
        },
        {
          "output_type": "stream",
          "name": "stdout",
          "text": [
            "Epoch [175/3000]: Train loss: 3.8112, Valid loss: 3.9558\n"
          ]
        },
        {
          "output_type": "stream",
          "name": "stderr",
          "text": [
            "Epoch [176/3000]: 100%|██████████| 9/9 [00:00<00:00, 113.85it/s, loss=3.12]\n"
          ]
        },
        {
          "output_type": "stream",
          "name": "stdout",
          "text": [
            "Epoch [176/3000]: Train loss: 3.8044, Valid loss: 4.1330\n"
          ]
        },
        {
          "output_type": "stream",
          "name": "stderr",
          "text": [
            "Epoch [177/3000]: 100%|██████████| 9/9 [00:00<00:00, 96.82it/s, loss=3.08]\n"
          ]
        },
        {
          "output_type": "stream",
          "name": "stdout",
          "text": [
            "Epoch [177/3000]: Train loss: 3.7953, Valid loss: 4.7873\n"
          ]
        },
        {
          "output_type": "stream",
          "name": "stderr",
          "text": [
            "Epoch [178/3000]: 100%|██████████| 9/9 [00:00<00:00, 93.36it/s, loss=3.06]\n"
          ]
        },
        {
          "output_type": "stream",
          "name": "stdout",
          "text": [
            "Epoch [178/3000]: Train loss: 3.7803, Valid loss: 3.3095\n",
            "Saving model with loss 3.310...\n"
          ]
        },
        {
          "output_type": "stream",
          "name": "stderr",
          "text": [
            "Epoch [179/3000]: 100%|██████████| 9/9 [00:00<00:00, 103.12it/s, loss=4.04]\n"
          ]
        },
        {
          "output_type": "stream",
          "name": "stdout",
          "text": [
            "Epoch [179/3000]: Train loss: 3.8192, Valid loss: 3.8390\n"
          ]
        },
        {
          "output_type": "stream",
          "name": "stderr",
          "text": [
            "Epoch [180/3000]: 100%|██████████| 9/9 [00:00<00:00, 88.30it/s, loss=2.9]\n"
          ]
        },
        {
          "output_type": "stream",
          "name": "stdout",
          "text": [
            "Epoch [180/3000]: Train loss: 3.7492, Valid loss: 3.6897\n"
          ]
        },
        {
          "output_type": "stream",
          "name": "stderr",
          "text": [
            "Epoch [181/3000]: 100%|██████████| 9/9 [00:00<00:00, 94.21it/s, loss=2.95]\n"
          ]
        },
        {
          "output_type": "stream",
          "name": "stdout",
          "text": [
            "Epoch [181/3000]: Train loss: 3.7621, Valid loss: 3.2743\n",
            "Saving model with loss 3.274...\n"
          ]
        },
        {
          "output_type": "stream",
          "name": "stderr",
          "text": [
            "Epoch [182/3000]: 100%|██████████| 9/9 [00:00<00:00, 94.95it/s, loss=4.22]\n"
          ]
        },
        {
          "output_type": "stream",
          "name": "stdout",
          "text": [
            "Epoch [182/3000]: Train loss: 3.8083, Valid loss: 3.9179\n"
          ]
        },
        {
          "output_type": "stream",
          "name": "stderr",
          "text": [
            "Epoch [183/3000]: 100%|██████████| 9/9 [00:00<00:00, 97.56it/s, loss=3.71]\n"
          ]
        },
        {
          "output_type": "stream",
          "name": "stdout",
          "text": [
            "Epoch [183/3000]: Train loss: 3.7487, Valid loss: 3.2193\n",
            "Saving model with loss 3.219...\n"
          ]
        },
        {
          "output_type": "stream",
          "name": "stderr",
          "text": [
            "Epoch [184/3000]: 100%|██████████| 9/9 [00:00<00:00, 93.18it/s, loss=3.03]\n"
          ]
        },
        {
          "output_type": "stream",
          "name": "stdout",
          "text": [
            "Epoch [184/3000]: Train loss: 3.6942, Valid loss: 3.8609\n"
          ]
        },
        {
          "output_type": "stream",
          "name": "stderr",
          "text": [
            "Epoch [185/3000]: 100%|██████████| 9/9 [00:00<00:00, 95.49it/s, loss=2.86]\n"
          ]
        },
        {
          "output_type": "stream",
          "name": "stdout",
          "text": [
            "Epoch [185/3000]: Train loss: 3.6880, Valid loss: 3.1349\n",
            "Saving model with loss 3.135...\n"
          ]
        },
        {
          "output_type": "stream",
          "name": "stderr",
          "text": [
            "Epoch [186/3000]: 100%|██████████| 9/9 [00:00<00:00, 74.35it/s, loss=3.77]\n"
          ]
        },
        {
          "output_type": "stream",
          "name": "stdout",
          "text": [
            "Epoch [186/3000]: Train loss: 3.7176, Valid loss: 3.8083\n"
          ]
        },
        {
          "output_type": "stream",
          "name": "stderr",
          "text": [
            "Epoch [187/3000]: 100%|██████████| 9/9 [00:00<00:00, 98.46it/s, loss=3.86]\n"
          ]
        },
        {
          "output_type": "stream",
          "name": "stdout",
          "text": [
            "Epoch [187/3000]: Train loss: 3.7151, Valid loss: 4.8935\n"
          ]
        },
        {
          "output_type": "stream",
          "name": "stderr",
          "text": [
            "Epoch [188/3000]: 100%|██████████| 9/9 [00:00<00:00, 87.96it/s, loss=3.54]\n"
          ]
        },
        {
          "output_type": "stream",
          "name": "stdout",
          "text": [
            "Epoch [188/3000]: Train loss: 3.6784, Valid loss: 3.7039\n"
          ]
        },
        {
          "output_type": "stream",
          "name": "stderr",
          "text": [
            "Epoch [189/3000]: 100%|██████████| 9/9 [00:00<00:00, 106.16it/s, loss=2.94]\n"
          ]
        },
        {
          "output_type": "stream",
          "name": "stdout",
          "text": [
            "Epoch [189/3000]: Train loss: 3.6438, Valid loss: 3.8776\n"
          ]
        },
        {
          "output_type": "stream",
          "name": "stderr",
          "text": [
            "Epoch [190/3000]: 100%|██████████| 9/9 [00:00<00:00, 78.32it/s, loss=4.44]\n"
          ]
        },
        {
          "output_type": "stream",
          "name": "stdout",
          "text": [
            "Epoch [190/3000]: Train loss: 3.7274, Valid loss: 3.6828\n"
          ]
        },
        {
          "output_type": "stream",
          "name": "stderr",
          "text": [
            "Epoch [191/3000]: 100%|██████████| 9/9 [00:00<00:00, 92.71it/s, loss=2.65]\n"
          ]
        },
        {
          "output_type": "stream",
          "name": "stdout",
          "text": [
            "Epoch [191/3000]: Train loss: 3.5842, Valid loss: 3.5034\n"
          ]
        },
        {
          "output_type": "stream",
          "name": "stderr",
          "text": [
            "Epoch [192/3000]: 100%|██████████| 9/9 [00:00<00:00, 72.30it/s, loss=2.94]\n"
          ]
        },
        {
          "output_type": "stream",
          "name": "stdout",
          "text": [
            "Epoch [192/3000]: Train loss: 3.5890, Valid loss: 3.8267\n"
          ]
        },
        {
          "output_type": "stream",
          "name": "stderr",
          "text": [
            "Epoch [193/3000]: 100%|██████████| 9/9 [00:00<00:00, 95.35it/s, loss=3.99]\n"
          ]
        },
        {
          "output_type": "stream",
          "name": "stdout",
          "text": [
            "Epoch [193/3000]: Train loss: 3.6377, Valid loss: 3.9264\n"
          ]
        },
        {
          "output_type": "stream",
          "name": "stderr",
          "text": [
            "Epoch [194/3000]: 100%|██████████| 9/9 [00:00<00:00, 93.62it/s, loss=3.74]\n"
          ]
        },
        {
          "output_type": "stream",
          "name": "stdout",
          "text": [
            "Epoch [194/3000]: Train loss: 3.6237, Valid loss: 3.8442\n"
          ]
        },
        {
          "output_type": "stream",
          "name": "stderr",
          "text": [
            "Epoch [195/3000]: 100%|██████████| 9/9 [00:00<00:00, 106.62it/s, loss=2.84]\n"
          ]
        },
        {
          "output_type": "stream",
          "name": "stdout",
          "text": [
            "Epoch [195/3000]: Train loss: 3.5559, Valid loss: 3.7964\n"
          ]
        },
        {
          "output_type": "stream",
          "name": "stderr",
          "text": [
            "Epoch [196/3000]: 100%|██████████| 9/9 [00:00<00:00, 101.58it/s, loss=3.27]\n"
          ]
        },
        {
          "output_type": "stream",
          "name": "stdout",
          "text": [
            "Epoch [196/3000]: Train loss: 3.5528, Valid loss: 3.8026\n"
          ]
        },
        {
          "output_type": "stream",
          "name": "stderr",
          "text": [
            "Epoch [197/3000]: 100%|██████████| 9/9 [00:00<00:00, 94.13it/s, loss=3.31]\n"
          ]
        },
        {
          "output_type": "stream",
          "name": "stdout",
          "text": [
            "Epoch [197/3000]: Train loss: 3.5484, Valid loss: 3.7467\n"
          ]
        },
        {
          "output_type": "stream",
          "name": "stderr",
          "text": [
            "Epoch [198/3000]: 100%|██████████| 9/9 [00:00<00:00, 106.15it/s, loss=3.92]\n"
          ]
        },
        {
          "output_type": "stream",
          "name": "stdout",
          "text": [
            "Epoch [198/3000]: Train loss: 3.5790, Valid loss: 3.6198\n"
          ]
        },
        {
          "output_type": "stream",
          "name": "stderr",
          "text": [
            "Epoch [199/3000]: 100%|██████████| 9/9 [00:00<00:00, 111.31it/s, loss=2.67]\n"
          ]
        },
        {
          "output_type": "stream",
          "name": "stdout",
          "text": [
            "Epoch [199/3000]: Train loss: 3.4932, Valid loss: 4.3452\n"
          ]
        },
        {
          "output_type": "stream",
          "name": "stderr",
          "text": [
            "Epoch [200/3000]: 100%|██████████| 9/9 [00:00<00:00, 116.74it/s, loss=4]\n"
          ]
        },
        {
          "output_type": "stream",
          "name": "stdout",
          "text": [
            "Epoch [200/3000]: Train loss: 3.5506, Valid loss: 3.7267\n"
          ]
        },
        {
          "output_type": "stream",
          "name": "stderr",
          "text": [
            "Epoch [201/3000]: 100%|██████████| 9/9 [00:00<00:00, 115.29it/s, loss=3.76]\n"
          ]
        },
        {
          "output_type": "stream",
          "name": "stdout",
          "text": [
            "Epoch [201/3000]: Train loss: 3.5313, Valid loss: 3.4561\n"
          ]
        },
        {
          "output_type": "stream",
          "name": "stderr",
          "text": [
            "Epoch [202/3000]: 100%|██████████| 9/9 [00:00<00:00, 121.82it/s, loss=3.01]\n"
          ]
        },
        {
          "output_type": "stream",
          "name": "stdout",
          "text": [
            "Epoch [202/3000]: Train loss: 3.4679, Valid loss: 3.5586\n"
          ]
        },
        {
          "output_type": "stream",
          "name": "stderr",
          "text": [
            "Epoch [203/3000]: 100%|██████████| 9/9 [00:00<00:00, 120.13it/s, loss=3.44]\n"
          ]
        },
        {
          "output_type": "stream",
          "name": "stdout",
          "text": [
            "Epoch [203/3000]: Train loss: 3.4910, Valid loss: 3.4681\n"
          ]
        },
        {
          "output_type": "stream",
          "name": "stderr",
          "text": [
            "Epoch [204/3000]: 100%|██████████| 9/9 [00:00<00:00, 118.11it/s, loss=4.04]\n"
          ]
        },
        {
          "output_type": "stream",
          "name": "stdout",
          "text": [
            "Epoch [204/3000]: Train loss: 3.5064, Valid loss: 3.1967\n"
          ]
        },
        {
          "output_type": "stream",
          "name": "stderr",
          "text": [
            "Epoch [205/3000]: 100%|██████████| 9/9 [00:00<00:00, 114.91it/s, loss=4.06]\n"
          ]
        },
        {
          "output_type": "stream",
          "name": "stdout",
          "text": [
            "Epoch [205/3000]: Train loss: 3.4971, Valid loss: 3.3615\n"
          ]
        },
        {
          "output_type": "stream",
          "name": "stderr",
          "text": [
            "Epoch [206/3000]: 100%|██████████| 9/9 [00:00<00:00, 102.49it/s, loss=2.9]\n"
          ]
        },
        {
          "output_type": "stream",
          "name": "stdout",
          "text": [
            "Epoch [206/3000]: Train loss: 3.4123, Valid loss: 3.8699\n"
          ]
        },
        {
          "output_type": "stream",
          "name": "stderr",
          "text": [
            "Epoch [207/3000]: 100%|██████████| 9/9 [00:00<00:00, 114.94it/s, loss=3.97]"
          ]
        },
        {
          "output_type": "stream",
          "name": "stdout",
          "text": [
            "Epoch [207/3000]: Train loss: 3.4761, Valid loss: 3.2506"
          ]
        },
        {
          "output_type": "stream",
          "name": "stderr",
          "text": [
            "\n"
          ]
        },
        {
          "output_type": "stream",
          "name": "stdout",
          "text": [
            "\n"
          ]
        },
        {
          "output_type": "stream",
          "name": "stderr",
          "text": [
            "Epoch [208/3000]: 100%|██████████| 9/9 [00:00<00:00, 105.92it/s, loss=3.32]\n"
          ]
        },
        {
          "output_type": "stream",
          "name": "stdout",
          "text": [
            "Epoch [208/3000]: Train loss: 3.4117, Valid loss: 3.6920\n"
          ]
        },
        {
          "output_type": "stream",
          "name": "stderr",
          "text": [
            "Epoch [209/3000]: 100%|██████████| 9/9 [00:00<00:00, 85.65it/s, loss=3.51]\n"
          ]
        },
        {
          "output_type": "stream",
          "name": "stdout",
          "text": [
            "Epoch [209/3000]: Train loss: 3.4266, Valid loss: 4.1696\n"
          ]
        },
        {
          "output_type": "stream",
          "name": "stderr",
          "text": [
            "Epoch [210/3000]: 100%|██████████| 9/9 [00:00<00:00, 76.53it/s, loss=4.1]\n"
          ]
        },
        {
          "output_type": "stream",
          "name": "stdout",
          "text": [
            "Epoch [210/3000]: Train loss: 3.4444, Valid loss: 3.6158\n"
          ]
        },
        {
          "output_type": "stream",
          "name": "stderr",
          "text": [
            "Epoch [211/3000]: 100%|██████████| 9/9 [00:00<00:00, 99.74it/s, loss=3.4]\n"
          ]
        },
        {
          "output_type": "stream",
          "name": "stdout",
          "text": [
            "Epoch [211/3000]: Train loss: 3.3895, Valid loss: 3.3139\n"
          ]
        },
        {
          "output_type": "stream",
          "name": "stderr",
          "text": [
            "Epoch [212/3000]: 100%|██████████| 9/9 [00:00<00:00, 91.65it/s, loss=3.59]\n"
          ]
        },
        {
          "output_type": "stream",
          "name": "stdout",
          "text": [
            "Epoch [212/3000]: Train loss: 3.3806, Valid loss: 3.2762\n"
          ]
        },
        {
          "output_type": "stream",
          "name": "stderr",
          "text": [
            "Epoch [213/3000]: 100%|██████████| 9/9 [00:00<00:00, 87.38it/s, loss=2.77]\n"
          ]
        },
        {
          "output_type": "stream",
          "name": "stdout",
          "text": [
            "Epoch [213/3000]: Train loss: 3.3259, Valid loss: 3.1950\n"
          ]
        },
        {
          "output_type": "stream",
          "name": "stderr",
          "text": [
            "Epoch [214/3000]: 100%|██████████| 9/9 [00:00<00:00, 82.54it/s, loss=3.63]\n"
          ]
        },
        {
          "output_type": "stream",
          "name": "stdout",
          "text": [
            "Epoch [214/3000]: Train loss: 3.3671, Valid loss: 3.9164\n"
          ]
        },
        {
          "output_type": "stream",
          "name": "stderr",
          "text": [
            "Epoch [215/3000]: 100%|██████████| 9/9 [00:00<00:00, 92.28it/s, loss=3.75]\n"
          ]
        },
        {
          "output_type": "stream",
          "name": "stdout",
          "text": [
            "Epoch [215/3000]: Train loss: 3.3747, Valid loss: 3.0819\n",
            "Saving model with loss 3.082...\n"
          ]
        },
        {
          "output_type": "stream",
          "name": "stderr",
          "text": [
            "Epoch [216/3000]: 100%|██████████| 9/9 [00:00<00:00, 96.77it/s, loss=2.65]\n"
          ]
        },
        {
          "output_type": "stream",
          "name": "stdout",
          "text": [
            "Epoch [216/3000]: Train loss: 3.2863, Valid loss: 2.9406\n",
            "Saving model with loss 2.941...\n"
          ]
        },
        {
          "output_type": "stream",
          "name": "stderr",
          "text": [
            "Epoch [217/3000]: 100%|██████████| 9/9 [00:00<00:00, 97.41it/s, loss=2.93]\n"
          ]
        },
        {
          "output_type": "stream",
          "name": "stdout",
          "text": [
            "Epoch [217/3000]: Train loss: 3.2951, Valid loss: 3.4972\n"
          ]
        },
        {
          "output_type": "stream",
          "name": "stderr",
          "text": [
            "Epoch [218/3000]: 100%|██████████| 9/9 [00:00<00:00, 78.24it/s, loss=4.64]\n"
          ]
        },
        {
          "output_type": "stream",
          "name": "stdout",
          "text": [
            "Epoch [218/3000]: Train loss: 3.3815, Valid loss: 3.6874\n"
          ]
        },
        {
          "output_type": "stream",
          "name": "stderr",
          "text": [
            "Epoch [219/3000]: 100%|██████████| 9/9 [00:00<00:00, 68.40it/s, loss=4.21]\n"
          ]
        },
        {
          "output_type": "stream",
          "name": "stdout",
          "text": [
            "Epoch [219/3000]: Train loss: 3.3954, Valid loss: 3.1967\n"
          ]
        },
        {
          "output_type": "stream",
          "name": "stderr",
          "text": [
            "Epoch [220/3000]: 100%|██████████| 9/9 [00:00<00:00, 82.77it/s, loss=3.01]\n"
          ]
        },
        {
          "output_type": "stream",
          "name": "stdout",
          "text": [
            "Epoch [220/3000]: Train loss: 3.2567, Valid loss: 2.8861\n",
            "Saving model with loss 2.886...\n"
          ]
        },
        {
          "output_type": "stream",
          "name": "stderr",
          "text": [
            "Epoch [221/3000]: 100%|██████████| 9/9 [00:00<00:00, 100.66it/s, loss=4.45]\n"
          ]
        },
        {
          "output_type": "stream",
          "name": "stdout",
          "text": [
            "Epoch [221/3000]: Train loss: 3.3394, Valid loss: 3.1325\n"
          ]
        },
        {
          "output_type": "stream",
          "name": "stderr",
          "text": [
            "Epoch [222/3000]: 100%|██████████| 9/9 [00:00<00:00, 113.02it/s, loss=2.99]\n"
          ]
        },
        {
          "output_type": "stream",
          "name": "stdout",
          "text": [
            "Epoch [222/3000]: Train loss: 3.2386, Valid loss: 3.6513\n"
          ]
        },
        {
          "output_type": "stream",
          "name": "stderr",
          "text": [
            "Epoch [223/3000]: 100%|██████████| 9/9 [00:00<00:00, 116.15it/s, loss=2.8]\n"
          ]
        },
        {
          "output_type": "stream",
          "name": "stdout",
          "text": [
            "Epoch [223/3000]: Train loss: 3.2223, Valid loss: 3.2282\n"
          ]
        },
        {
          "output_type": "stream",
          "name": "stderr",
          "text": [
            "Epoch [224/3000]: 100%|██████████| 9/9 [00:00<00:00, 93.66it/s, loss=2.83]\n"
          ]
        },
        {
          "output_type": "stream",
          "name": "stdout",
          "text": [
            "Epoch [224/3000]: Train loss: 3.2140, Valid loss: 3.2952\n"
          ]
        },
        {
          "output_type": "stream",
          "name": "stderr",
          "text": [
            "Epoch [225/3000]: 100%|██████████| 9/9 [00:00<00:00, 82.08it/s, loss=4.13]\n"
          ]
        },
        {
          "output_type": "stream",
          "name": "stdout",
          "text": [
            "Epoch [225/3000]: Train loss: 3.2902, Valid loss: 3.1569\n"
          ]
        },
        {
          "output_type": "stream",
          "name": "stderr",
          "text": [
            "Epoch [226/3000]: 100%|██████████| 9/9 [00:00<00:00, 90.25it/s, loss=2.58]\n"
          ]
        },
        {
          "output_type": "stream",
          "name": "stdout",
          "text": [
            "Epoch [226/3000]: Train loss: 3.1719, Valid loss: 3.0777\n"
          ]
        },
        {
          "output_type": "stream",
          "name": "stderr",
          "text": [
            "Epoch [227/3000]: 100%|██████████| 9/9 [00:00<00:00, 84.17it/s, loss=3.47]\n"
          ]
        },
        {
          "output_type": "stream",
          "name": "stdout",
          "text": [
            "Epoch [227/3000]: Train loss: 3.2213, Valid loss: 3.0803\n"
          ]
        },
        {
          "output_type": "stream",
          "name": "stderr",
          "text": [
            "Epoch [228/3000]: 100%|██████████| 9/9 [00:00<00:00, 77.00it/s, loss=3.43]\n"
          ]
        },
        {
          "output_type": "stream",
          "name": "stdout",
          "text": [
            "Epoch [228/3000]: Train loss: 3.2027, Valid loss: 3.6498\n"
          ]
        },
        {
          "output_type": "stream",
          "name": "stderr",
          "text": [
            "Epoch [229/3000]: 100%|██████████| 9/9 [00:00<00:00, 99.00it/s, loss=2.93]\n"
          ]
        },
        {
          "output_type": "stream",
          "name": "stdout",
          "text": [
            "Epoch [229/3000]: Train loss: 3.1698, Valid loss: 3.3824\n"
          ]
        },
        {
          "output_type": "stream",
          "name": "stderr",
          "text": [
            "Epoch [230/3000]: 100%|██████████| 9/9 [00:00<00:00, 98.39it/s, loss=2.58]\n"
          ]
        },
        {
          "output_type": "stream",
          "name": "stdout",
          "text": [
            "Epoch [230/3000]: Train loss: 3.1289, Valid loss: 3.7052\n"
          ]
        },
        {
          "output_type": "stream",
          "name": "stderr",
          "text": [
            "Epoch [231/3000]: 100%|██████████| 9/9 [00:00<00:00, 101.81it/s, loss=3.52]\n"
          ]
        },
        {
          "output_type": "stream",
          "name": "stdout",
          "text": [
            "Epoch [231/3000]: Train loss: 3.1738, Valid loss: 3.3716\n"
          ]
        },
        {
          "output_type": "stream",
          "name": "stderr",
          "text": [
            "Epoch [232/3000]: 100%|██████████| 9/9 [00:00<00:00, 94.87it/s, loss=3.95]\n"
          ]
        },
        {
          "output_type": "stream",
          "name": "stdout",
          "text": [
            "Epoch [232/3000]: Train loss: 3.1959, Valid loss: 3.7519\n"
          ]
        },
        {
          "output_type": "stream",
          "name": "stderr",
          "text": [
            "Epoch [233/3000]: 100%|██████████| 9/9 [00:00<00:00, 104.59it/s, loss=3.66]\n"
          ]
        },
        {
          "output_type": "stream",
          "name": "stdout",
          "text": [
            "Epoch [233/3000]: Train loss: 3.1602, Valid loss: 3.2260\n"
          ]
        },
        {
          "output_type": "stream",
          "name": "stderr",
          "text": [
            "Epoch [234/3000]: 100%|██████████| 9/9 [00:00<00:00, 99.19it/s, loss=3.41]\n"
          ]
        },
        {
          "output_type": "stream",
          "name": "stdout",
          "text": [
            "Epoch [234/3000]: Train loss: 3.1324, Valid loss: 3.0290\n"
          ]
        },
        {
          "output_type": "stream",
          "name": "stderr",
          "text": [
            "Epoch [235/3000]: 100%|██████████| 9/9 [00:00<00:00, 80.76it/s, loss=3.1]\n"
          ]
        },
        {
          "output_type": "stream",
          "name": "stdout",
          "text": [
            "Epoch [235/3000]: Train loss: 3.1024, Valid loss: 2.9064\n"
          ]
        },
        {
          "output_type": "stream",
          "name": "stderr",
          "text": [
            "Epoch [236/3000]: 100%|██████████| 9/9 [00:00<00:00, 99.72it/s, loss=2.7]\n"
          ]
        },
        {
          "output_type": "stream",
          "name": "stdout",
          "text": [
            "Epoch [236/3000]: Train loss: 3.0661, Valid loss: 3.4511\n"
          ]
        },
        {
          "output_type": "stream",
          "name": "stderr",
          "text": [
            "Epoch [237/3000]: 100%|██████████| 9/9 [00:00<00:00, 87.58it/s, loss=2.41]\n"
          ]
        },
        {
          "output_type": "stream",
          "name": "stdout",
          "text": [
            "Epoch [237/3000]: Train loss: 3.0422, Valid loss: 3.1751\n"
          ]
        },
        {
          "output_type": "stream",
          "name": "stderr",
          "text": [
            "Epoch [238/3000]: 100%|██████████| 9/9 [00:00<00:00, 102.87it/s, loss=1.94]\n"
          ]
        },
        {
          "output_type": "stream",
          "name": "stdout",
          "text": [
            "Epoch [238/3000]: Train loss: 3.0128, Valid loss: 2.7172\n",
            "Saving model with loss 2.717...\n"
          ]
        },
        {
          "output_type": "stream",
          "name": "stderr",
          "text": [
            "Epoch [239/3000]: 100%|██████████| 9/9 [00:00<00:00, 100.55it/s, loss=2.25]\n"
          ]
        },
        {
          "output_type": "stream",
          "name": "stdout",
          "text": [
            "Epoch [239/3000]: Train loss: 3.0105, Valid loss: 3.3447\n"
          ]
        },
        {
          "output_type": "stream",
          "name": "stderr",
          "text": [
            "Epoch [240/3000]: 100%|██████████| 9/9 [00:00<00:00, 92.55it/s, loss=2.68]\n"
          ]
        },
        {
          "output_type": "stream",
          "name": "stdout",
          "text": [
            "Epoch [240/3000]: Train loss: 3.0230, Valid loss: 3.5407\n"
          ]
        },
        {
          "output_type": "stream",
          "name": "stderr",
          "text": [
            "Epoch [241/3000]: 100%|██████████| 9/9 [00:00<00:00, 101.37it/s, loss=3.47]\n"
          ]
        },
        {
          "output_type": "stream",
          "name": "stdout",
          "text": [
            "Epoch [241/3000]: Train loss: 3.0658, Valid loss: 2.9810\n"
          ]
        },
        {
          "output_type": "stream",
          "name": "stderr",
          "text": [
            "Epoch [242/3000]: 100%|██████████| 9/9 [00:00<00:00, 92.12it/s, loss=2.82]\n"
          ]
        },
        {
          "output_type": "stream",
          "name": "stdout",
          "text": [
            "Epoch [242/3000]: Train loss: 3.0115, Valid loss: 2.8479\n"
          ]
        },
        {
          "output_type": "stream",
          "name": "stderr",
          "text": [
            "Epoch [243/3000]: 100%|██████████| 9/9 [00:00<00:00, 95.92it/s, loss=2.57]\n"
          ]
        },
        {
          "output_type": "stream",
          "name": "stdout",
          "text": [
            "Epoch [243/3000]: Train loss: 2.9882, Valid loss: 2.4785\n",
            "Saving model with loss 2.478...\n"
          ]
        },
        {
          "output_type": "stream",
          "name": "stderr",
          "text": [
            "Epoch [244/3000]: 100%|██████████| 9/9 [00:00<00:00, 92.32it/s, loss=2.8]\n"
          ]
        },
        {
          "output_type": "stream",
          "name": "stdout",
          "text": [
            "Epoch [244/3000]: Train loss: 2.9907, Valid loss: 3.2556\n"
          ]
        },
        {
          "output_type": "stream",
          "name": "stderr",
          "text": [
            "Epoch [245/3000]: 100%|██████████| 9/9 [00:00<00:00, 112.48it/s, loss=3]\n"
          ]
        },
        {
          "output_type": "stream",
          "name": "stdout",
          "text": [
            "Epoch [245/3000]: Train loss: 2.9947, Valid loss: 2.8897\n"
          ]
        },
        {
          "output_type": "stream",
          "name": "stderr",
          "text": [
            "Epoch [246/3000]: 100%|██████████| 9/9 [00:00<00:00, 98.07it/s, loss=2.98]\n"
          ]
        },
        {
          "output_type": "stream",
          "name": "stdout",
          "text": [
            "Epoch [246/3000]: Train loss: 2.9913, Valid loss: 3.4304\n"
          ]
        },
        {
          "output_type": "stream",
          "name": "stderr",
          "text": [
            "Epoch [247/3000]: 100%|██████████| 9/9 [00:00<00:00, 92.25it/s, loss=2.14]\n"
          ]
        },
        {
          "output_type": "stream",
          "name": "stdout",
          "text": [
            "Epoch [247/3000]: Train loss: 2.9456, Valid loss: 3.0046\n"
          ]
        },
        {
          "output_type": "stream",
          "name": "stderr",
          "text": [
            "Epoch [248/3000]: 100%|██████████| 9/9 [00:00<00:00, 109.52it/s, loss=3.82]\n"
          ]
        },
        {
          "output_type": "stream",
          "name": "stdout",
          "text": [
            "Epoch [248/3000]: Train loss: 3.0209, Valid loss: 2.6432\n"
          ]
        },
        {
          "output_type": "stream",
          "name": "stderr",
          "text": [
            "Epoch [249/3000]: 100%|██████████| 9/9 [00:00<00:00, 114.54it/s, loss=2.82]\n"
          ]
        },
        {
          "output_type": "stream",
          "name": "stdout",
          "text": [
            "Epoch [249/3000]: Train loss: 2.9472, Valid loss: 2.5858\n"
          ]
        },
        {
          "output_type": "stream",
          "name": "stderr",
          "text": [
            "Epoch [250/3000]: 100%|██████████| 9/9 [00:00<00:00, 92.32it/s, loss=3.11]\n"
          ]
        },
        {
          "output_type": "stream",
          "name": "stdout",
          "text": [
            "Epoch [250/3000]: Train loss: 2.9532, Valid loss: 2.8198\n"
          ]
        },
        {
          "output_type": "stream",
          "name": "stderr",
          "text": [
            "Epoch [251/3000]: 100%|██████████| 9/9 [00:00<00:00, 83.24it/s, loss=2.73]\n"
          ]
        },
        {
          "output_type": "stream",
          "name": "stdout",
          "text": [
            "Epoch [251/3000]: Train loss: 2.9183, Valid loss: 3.2694\n"
          ]
        },
        {
          "output_type": "stream",
          "name": "stderr",
          "text": [
            "Epoch [252/3000]: 100%|██████████| 9/9 [00:00<00:00, 100.71it/s, loss=3.4]\n"
          ]
        },
        {
          "output_type": "stream",
          "name": "stdout",
          "text": [
            "Epoch [252/3000]: Train loss: 2.9487, Valid loss: 2.6085\n"
          ]
        },
        {
          "output_type": "stream",
          "name": "stderr",
          "text": [
            "Epoch [253/3000]: 100%|██████████| 9/9 [00:00<00:00, 81.10it/s, loss=2.74]\n"
          ]
        },
        {
          "output_type": "stream",
          "name": "stdout",
          "text": [
            "Epoch [253/3000]: Train loss: 2.9091, Valid loss: 2.5922\n"
          ]
        },
        {
          "output_type": "stream",
          "name": "stderr",
          "text": [
            "Epoch [254/3000]: 100%|██████████| 9/9 [00:00<00:00, 103.33it/s, loss=3.82]\n"
          ]
        },
        {
          "output_type": "stream",
          "name": "stdout",
          "text": [
            "Epoch [254/3000]: Train loss: 2.9579, Valid loss: 2.9802\n"
          ]
        },
        {
          "output_type": "stream",
          "name": "stderr",
          "text": [
            "Epoch [255/3000]: 100%|██████████| 9/9 [00:00<00:00, 103.52it/s, loss=3.25]\n"
          ]
        },
        {
          "output_type": "stream",
          "name": "stdout",
          "text": [
            "Epoch [255/3000]: Train loss: 2.9152, Valid loss: 2.8704\n"
          ]
        },
        {
          "output_type": "stream",
          "name": "stderr",
          "text": [
            "Epoch [256/3000]: 100%|██████████| 9/9 [00:00<00:00, 91.51it/s, loss=2.79]\n"
          ]
        },
        {
          "output_type": "stream",
          "name": "stdout",
          "text": [
            "Epoch [256/3000]: Train loss: 2.8780, Valid loss: 3.6584\n"
          ]
        },
        {
          "output_type": "stream",
          "name": "stderr",
          "text": [
            "Epoch [257/3000]: 100%|██████████| 9/9 [00:00<00:00, 92.77it/s, loss=2.28]\n"
          ]
        },
        {
          "output_type": "stream",
          "name": "stdout",
          "text": [
            "Epoch [257/3000]: Train loss: 2.8491, Valid loss: 2.6295\n"
          ]
        },
        {
          "output_type": "stream",
          "name": "stderr",
          "text": [
            "Epoch [258/3000]: 100%|██████████| 9/9 [00:00<00:00, 98.13it/s, loss=2.33]\n"
          ]
        },
        {
          "output_type": "stream",
          "name": "stdout",
          "text": [
            "Epoch [258/3000]: Train loss: 2.8335, Valid loss: 2.8862\n"
          ]
        },
        {
          "output_type": "stream",
          "name": "stderr",
          "text": [
            "Epoch [259/3000]: 100%|██████████| 9/9 [00:00<00:00, 94.51it/s, loss=2.78]\n"
          ]
        },
        {
          "output_type": "stream",
          "name": "stdout",
          "text": [
            "Epoch [259/3000]: Train loss: 2.8448, Valid loss: 2.8251\n"
          ]
        },
        {
          "output_type": "stream",
          "name": "stderr",
          "text": [
            "Epoch [260/3000]: 100%|██████████| 9/9 [00:00<00:00, 84.81it/s, loss=3.07]\n"
          ]
        },
        {
          "output_type": "stream",
          "name": "stdout",
          "text": [
            "Epoch [260/3000]: Train loss: 2.8552, Valid loss: 2.6453\n"
          ]
        },
        {
          "output_type": "stream",
          "name": "stderr",
          "text": [
            "Epoch [261/3000]: 100%|██████████| 9/9 [00:00<00:00, 100.56it/s, loss=3.29]\n"
          ]
        },
        {
          "output_type": "stream",
          "name": "stdout",
          "text": [
            "Epoch [261/3000]: Train loss: 2.8595, Valid loss: 3.0041\n"
          ]
        },
        {
          "output_type": "stream",
          "name": "stderr",
          "text": [
            "Epoch [262/3000]: 100%|██████████| 9/9 [00:00<00:00, 115.75it/s, loss=3.51]\n"
          ]
        },
        {
          "output_type": "stream",
          "name": "stdout",
          "text": [
            "Epoch [262/3000]: Train loss: 2.8629, Valid loss: 3.3180\n"
          ]
        },
        {
          "output_type": "stream",
          "name": "stderr",
          "text": [
            "Epoch [263/3000]: 100%|██████████| 9/9 [00:00<00:00, 116.63it/s, loss=2.52]\n"
          ]
        },
        {
          "output_type": "stream",
          "name": "stdout",
          "text": [
            "Epoch [263/3000]: Train loss: 2.7932, Valid loss: 3.3656\n"
          ]
        },
        {
          "output_type": "stream",
          "name": "stderr",
          "text": [
            "Epoch [264/3000]: 100%|██████████| 9/9 [00:00<00:00, 111.96it/s, loss=2.1]\n"
          ]
        },
        {
          "output_type": "stream",
          "name": "stdout",
          "text": [
            "Epoch [264/3000]: Train loss: 2.7623, Valid loss: 3.0389\n"
          ]
        },
        {
          "output_type": "stream",
          "name": "stderr",
          "text": [
            "Epoch [265/3000]: 100%|██████████| 9/9 [00:00<00:00, 115.16it/s, loss=2.56]\n"
          ]
        },
        {
          "output_type": "stream",
          "name": "stdout",
          "text": [
            "Epoch [265/3000]: Train loss: 2.7830, Valid loss: 2.9201\n"
          ]
        },
        {
          "output_type": "stream",
          "name": "stderr",
          "text": [
            "Epoch [266/3000]: 100%|██████████| 9/9 [00:00<00:00, 102.86it/s, loss=3.01]\n"
          ]
        },
        {
          "output_type": "stream",
          "name": "stdout",
          "text": [
            "Epoch [266/3000]: Train loss: 2.8021, Valid loss: 2.9580\n"
          ]
        },
        {
          "output_type": "stream",
          "name": "stderr",
          "text": [
            "Epoch [267/3000]: 100%|██████████| 9/9 [00:00<00:00, 105.55it/s, loss=2.33]\n"
          ]
        },
        {
          "output_type": "stream",
          "name": "stdout",
          "text": [
            "Epoch [267/3000]: Train loss: 2.7448, Valid loss: 2.6854\n"
          ]
        },
        {
          "output_type": "stream",
          "name": "stderr",
          "text": [
            "Epoch [268/3000]: 100%|██████████| 9/9 [00:00<00:00, 109.26it/s, loss=2.53]\n"
          ]
        },
        {
          "output_type": "stream",
          "name": "stdout",
          "text": [
            "Epoch [268/3000]: Train loss: 2.7609, Valid loss: 3.0282\n"
          ]
        },
        {
          "output_type": "stream",
          "name": "stderr",
          "text": [
            "Epoch [269/3000]: 100%|██████████| 9/9 [00:00<00:00, 97.33it/s, loss=2.56]\n"
          ]
        },
        {
          "output_type": "stream",
          "name": "stdout",
          "text": [
            "Epoch [269/3000]: Train loss: 2.7428, Valid loss: 2.5576\n"
          ]
        },
        {
          "output_type": "stream",
          "name": "stderr",
          "text": [
            "Epoch [270/3000]: 100%|██████████| 9/9 [00:00<00:00, 125.25it/s, loss=2.65]\n"
          ]
        },
        {
          "output_type": "stream",
          "name": "stdout",
          "text": [
            "Epoch [270/3000]: Train loss: 2.7554, Valid loss: 3.0376\n"
          ]
        },
        {
          "output_type": "stream",
          "name": "stderr",
          "text": [
            "Epoch [271/3000]: 100%|██████████| 9/9 [00:00<00:00, 119.40it/s, loss=2.86]\n"
          ]
        },
        {
          "output_type": "stream",
          "name": "stdout",
          "text": [
            "Epoch [271/3000]: Train loss: 2.7668, Valid loss: 2.8175\n"
          ]
        },
        {
          "output_type": "stream",
          "name": "stderr",
          "text": [
            "Epoch [272/3000]: 100%|██████████| 9/9 [00:00<00:00, 115.71it/s, loss=2.16]\n"
          ]
        },
        {
          "output_type": "stream",
          "name": "stdout",
          "text": [
            "Epoch [272/3000]: Train loss: 2.7031, Valid loss: 2.4786\n"
          ]
        },
        {
          "output_type": "stream",
          "name": "stderr",
          "text": [
            "Epoch [273/3000]: 100%|██████████| 9/9 [00:00<00:00, 110.20it/s, loss=2.69]\n"
          ]
        },
        {
          "output_type": "stream",
          "name": "stdout",
          "text": [
            "Epoch [273/3000]: Train loss: 2.7375, Valid loss: 2.6743\n"
          ]
        },
        {
          "output_type": "stream",
          "name": "stderr",
          "text": [
            "Epoch [274/3000]: 100%|██████████| 9/9 [00:00<00:00, 94.82it/s, loss=2.09]\n"
          ]
        },
        {
          "output_type": "stream",
          "name": "stdout",
          "text": [
            "Epoch [274/3000]: Train loss: 2.6836, Valid loss: 2.2378\n",
            "Saving model with loss 2.238...\n"
          ]
        },
        {
          "output_type": "stream",
          "name": "stderr",
          "text": [
            "Epoch [275/3000]: 100%|██████████| 9/9 [00:00<00:00, 111.50it/s, loss=2.48]\n"
          ]
        },
        {
          "output_type": "stream",
          "name": "stdout",
          "text": [
            "Epoch [275/3000]: Train loss: 2.6895, Valid loss: 2.4881\n"
          ]
        },
        {
          "output_type": "stream",
          "name": "stderr",
          "text": [
            "Epoch [276/3000]: 100%|██████████| 9/9 [00:00<00:00, 121.39it/s, loss=2.78]\n"
          ]
        },
        {
          "output_type": "stream",
          "name": "stdout",
          "text": [
            "Epoch [276/3000]: Train loss: 2.7054, Valid loss: 2.6257\n"
          ]
        },
        {
          "output_type": "stream",
          "name": "stderr",
          "text": [
            "Epoch [277/3000]: 100%|██████████| 9/9 [00:00<00:00, 104.66it/s, loss=2.5]\n"
          ]
        },
        {
          "output_type": "stream",
          "name": "stdout",
          "text": [
            "Epoch [277/3000]: Train loss: 2.6903, Valid loss: 3.0781\n"
          ]
        },
        {
          "output_type": "stream",
          "name": "stderr",
          "text": [
            "Epoch [278/3000]: 100%|██████████| 9/9 [00:00<00:00, 79.54it/s, loss=2.2]\n"
          ]
        },
        {
          "output_type": "stream",
          "name": "stdout",
          "text": [
            "Epoch [278/3000]: Train loss: 2.6505, Valid loss: 3.4066\n"
          ]
        },
        {
          "output_type": "stream",
          "name": "stderr",
          "text": [
            "Epoch [279/3000]: 100%|██████████| 9/9 [00:00<00:00, 99.33it/s, loss=2.05]\n"
          ]
        },
        {
          "output_type": "stream",
          "name": "stdout",
          "text": [
            "Epoch [279/3000]: Train loss: 2.6306, Valid loss: 2.7328\n"
          ]
        },
        {
          "output_type": "stream",
          "name": "stderr",
          "text": [
            "Epoch [280/3000]: 100%|██████████| 9/9 [00:00<00:00, 104.85it/s, loss=2.34]\n"
          ]
        },
        {
          "output_type": "stream",
          "name": "stdout",
          "text": [
            "Epoch [280/3000]: Train loss: 2.6394, Valid loss: 2.8388\n"
          ]
        },
        {
          "output_type": "stream",
          "name": "stderr",
          "text": [
            "Epoch [281/3000]: 100%|██████████| 9/9 [00:00<00:00, 101.07it/s, loss=2.47]\n"
          ]
        },
        {
          "output_type": "stream",
          "name": "stdout",
          "text": [
            "Epoch [281/3000]: Train loss: 2.6550, Valid loss: 2.5432\n"
          ]
        },
        {
          "output_type": "stream",
          "name": "stderr",
          "text": [
            "Epoch [282/3000]: 100%|██████████| 9/9 [00:00<00:00, 98.86it/s, loss=1.9]\n"
          ]
        },
        {
          "output_type": "stream",
          "name": "stdout",
          "text": [
            "Epoch [282/3000]: Train loss: 2.5979, Valid loss: 2.9129\n"
          ]
        },
        {
          "output_type": "stream",
          "name": "stderr",
          "text": [
            "Epoch [283/3000]: 100%|██████████| 9/9 [00:00<00:00, 96.96it/s, loss=2.55]\n"
          ]
        },
        {
          "output_type": "stream",
          "name": "stdout",
          "text": [
            "Epoch [283/3000]: Train loss: 2.6288, Valid loss: 2.5918\n"
          ]
        },
        {
          "output_type": "stream",
          "name": "stderr",
          "text": [
            "Epoch [284/3000]: 100%|██████████| 9/9 [00:00<00:00, 92.75it/s, loss=3.87]\n"
          ]
        },
        {
          "output_type": "stream",
          "name": "stdout",
          "text": [
            "Epoch [284/3000]: Train loss: 2.7207, Valid loss: 2.4321\n"
          ]
        },
        {
          "output_type": "stream",
          "name": "stderr",
          "text": [
            "Epoch [285/3000]: 100%|██████████| 9/9 [00:00<00:00, 95.01it/s, loss=3.19]\n"
          ]
        },
        {
          "output_type": "stream",
          "name": "stdout",
          "text": [
            "Epoch [285/3000]: Train loss: 2.6664, Valid loss: 2.7223\n"
          ]
        },
        {
          "output_type": "stream",
          "name": "stderr",
          "text": [
            "Epoch [286/3000]: 100%|██████████| 9/9 [00:00<00:00, 104.55it/s, loss=2.39]\n"
          ]
        },
        {
          "output_type": "stream",
          "name": "stdout",
          "text": [
            "Epoch [286/3000]: Train loss: 2.6132, Valid loss: 2.2280\n",
            "Saving model with loss 2.228...\n"
          ]
        },
        {
          "output_type": "stream",
          "name": "stderr",
          "text": [
            "Epoch [287/3000]: 100%|██████████| 9/9 [00:00<00:00, 112.34it/s, loss=2.47]\n"
          ]
        },
        {
          "output_type": "stream",
          "name": "stdout",
          "text": [
            "Epoch [287/3000]: Train loss: 2.6020, Valid loss: 2.6988\n"
          ]
        },
        {
          "output_type": "stream",
          "name": "stderr",
          "text": [
            "Epoch [288/3000]: 100%|██████████| 9/9 [00:00<00:00, 111.77it/s, loss=2.94]\n"
          ]
        },
        {
          "output_type": "stream",
          "name": "stdout",
          "text": [
            "Epoch [288/3000]: Train loss: 2.6214, Valid loss: 2.3457\n"
          ]
        },
        {
          "output_type": "stream",
          "name": "stderr",
          "text": [
            "Epoch [289/3000]: 100%|██████████| 9/9 [00:00<00:00, 106.72it/s, loss=2.31]\n"
          ]
        },
        {
          "output_type": "stream",
          "name": "stdout",
          "text": [
            "Epoch [289/3000]: Train loss: 2.5682, Valid loss: 2.0809\n",
            "Saving model with loss 2.081...\n"
          ]
        },
        {
          "output_type": "stream",
          "name": "stderr",
          "text": [
            "Epoch [290/3000]: 100%|██████████| 9/9 [00:00<00:00, 86.39it/s, loss=2.61]\n"
          ]
        },
        {
          "output_type": "stream",
          "name": "stdout",
          "text": [
            "Epoch [290/3000]: Train loss: 2.5944, Valid loss: 2.5094\n"
          ]
        },
        {
          "output_type": "stream",
          "name": "stderr",
          "text": [
            "Epoch [291/3000]: 100%|██████████| 9/9 [00:00<00:00, 91.37it/s, loss=2.66]\n"
          ]
        },
        {
          "output_type": "stream",
          "name": "stdout",
          "text": [
            "Epoch [291/3000]: Train loss: 2.5763, Valid loss: 2.7694\n"
          ]
        },
        {
          "output_type": "stream",
          "name": "stderr",
          "text": [
            "Epoch [292/3000]: 100%|██████████| 9/9 [00:00<00:00, 92.31it/s, loss=2.41]\n"
          ]
        },
        {
          "output_type": "stream",
          "name": "stdout",
          "text": [
            "Epoch [292/3000]: Train loss: 2.5724, Valid loss: 3.2245\n"
          ]
        },
        {
          "output_type": "stream",
          "name": "stderr",
          "text": [
            "Epoch [293/3000]: 100%|██████████| 9/9 [00:00<00:00, 101.99it/s, loss=2.96]\n"
          ]
        },
        {
          "output_type": "stream",
          "name": "stdout",
          "text": [
            "Epoch [293/3000]: Train loss: 2.6111, Valid loss: 2.8026\n"
          ]
        },
        {
          "output_type": "stream",
          "name": "stderr",
          "text": [
            "Epoch [294/3000]: 100%|██████████| 9/9 [00:00<00:00, 74.45it/s, loss=2.44]\n"
          ]
        },
        {
          "output_type": "stream",
          "name": "stdout",
          "text": [
            "Epoch [294/3000]: Train loss: 2.5512, Valid loss: 2.3493\n"
          ]
        },
        {
          "output_type": "stream",
          "name": "stderr",
          "text": [
            "Epoch [295/3000]: 100%|██████████| 9/9 [00:00<00:00, 104.37it/s, loss=3.73]\n"
          ]
        },
        {
          "output_type": "stream",
          "name": "stdout",
          "text": [
            "Epoch [295/3000]: Train loss: 2.6192, Valid loss: 2.6057\n"
          ]
        },
        {
          "output_type": "stream",
          "name": "stderr",
          "text": [
            "Epoch [296/3000]: 100%|██████████| 9/9 [00:00<00:00, 84.15it/s, loss=2.82]\n"
          ]
        },
        {
          "output_type": "stream",
          "name": "stdout",
          "text": [
            "Epoch [296/3000]: Train loss: 2.5500, Valid loss: 2.9809\n"
          ]
        },
        {
          "output_type": "stream",
          "name": "stderr",
          "text": [
            "Epoch [297/3000]: 100%|██████████| 9/9 [00:00<00:00, 109.34it/s, loss=2.27]\n"
          ]
        },
        {
          "output_type": "stream",
          "name": "stdout",
          "text": [
            "Epoch [297/3000]: Train loss: 2.5095, Valid loss: 2.6814\n"
          ]
        },
        {
          "output_type": "stream",
          "name": "stderr",
          "text": [
            "Epoch [298/3000]: 100%|██████████| 9/9 [00:00<00:00, 88.76it/s, loss=2.82]\n"
          ]
        },
        {
          "output_type": "stream",
          "name": "stdout",
          "text": [
            "Epoch [298/3000]: Train loss: 2.5348, Valid loss: 2.4531\n"
          ]
        },
        {
          "output_type": "stream",
          "name": "stderr",
          "text": [
            "Epoch [299/3000]: 100%|██████████| 9/9 [00:00<00:00, 79.74it/s, loss=2.79]\n"
          ]
        },
        {
          "output_type": "stream",
          "name": "stdout",
          "text": [
            "Epoch [299/3000]: Train loss: 2.5402, Valid loss: 2.3999\n"
          ]
        },
        {
          "output_type": "stream",
          "name": "stderr",
          "text": [
            "Epoch [300/3000]: 100%|██████████| 9/9 [00:00<00:00, 79.01it/s, loss=2.93]\n"
          ]
        },
        {
          "output_type": "stream",
          "name": "stdout",
          "text": [
            "Epoch [300/3000]: Train loss: 2.5271, Valid loss: 2.3844\n"
          ]
        },
        {
          "output_type": "stream",
          "name": "stderr",
          "text": [
            "Epoch [301/3000]: 100%|██████████| 9/9 [00:00<00:00, 96.29it/s, loss=3.1]\n"
          ]
        },
        {
          "output_type": "stream",
          "name": "stdout",
          "text": [
            "Epoch [301/3000]: Train loss: 2.5335, Valid loss: 2.2497\n"
          ]
        },
        {
          "output_type": "stream",
          "name": "stderr",
          "text": [
            "Epoch [302/3000]: 100%|██████████| 9/9 [00:00<00:00, 91.57it/s, loss=2.29]\n"
          ]
        },
        {
          "output_type": "stream",
          "name": "stdout",
          "text": [
            "Epoch [302/3000]: Train loss: 2.4718, Valid loss: 3.2386\n"
          ]
        },
        {
          "output_type": "stream",
          "name": "stderr",
          "text": [
            "Epoch [303/3000]: 100%|██████████| 9/9 [00:00<00:00, 93.12it/s, loss=2.45]\n"
          ]
        },
        {
          "output_type": "stream",
          "name": "stdout",
          "text": [
            "Epoch [303/3000]: Train loss: 2.4777, Valid loss: 2.7196\n"
          ]
        },
        {
          "output_type": "stream",
          "name": "stderr",
          "text": [
            "Epoch [304/3000]: 100%|██████████| 9/9 [00:00<00:00, 85.34it/s, loss=2.64]\n"
          ]
        },
        {
          "output_type": "stream",
          "name": "stdout",
          "text": [
            "Epoch [304/3000]: Train loss: 2.4982, Valid loss: 2.6007\n"
          ]
        },
        {
          "output_type": "stream",
          "name": "stderr",
          "text": [
            "Epoch [305/3000]: 100%|██████████| 9/9 [00:00<00:00, 102.18it/s, loss=2.76]\n"
          ]
        },
        {
          "output_type": "stream",
          "name": "stdout",
          "text": [
            "Epoch [305/3000]: Train loss: 2.5039, Valid loss: 3.0255\n"
          ]
        },
        {
          "output_type": "stream",
          "name": "stderr",
          "text": [
            "Epoch [306/3000]: 100%|██████████| 9/9 [00:00<00:00, 111.47it/s, loss=2.26]\n"
          ]
        },
        {
          "output_type": "stream",
          "name": "stdout",
          "text": [
            "Epoch [306/3000]: Train loss: 2.4548, Valid loss: 2.6160\n"
          ]
        },
        {
          "output_type": "stream",
          "name": "stderr",
          "text": [
            "Epoch [307/3000]: 100%|██████████| 9/9 [00:00<00:00, 104.70it/s, loss=2.54]\n"
          ]
        },
        {
          "output_type": "stream",
          "name": "stdout",
          "text": [
            "Epoch [307/3000]: Train loss: 2.5102, Valid loss: 2.8089\n"
          ]
        },
        {
          "output_type": "stream",
          "name": "stderr",
          "text": [
            "Epoch [308/3000]: 100%|██████████| 9/9 [00:00<00:00, 93.70it/s, loss=1.81]\n"
          ]
        },
        {
          "output_type": "stream",
          "name": "stdout",
          "text": [
            "Epoch [308/3000]: Train loss: 2.4171, Valid loss: 3.1344\n"
          ]
        },
        {
          "output_type": "stream",
          "name": "stderr",
          "text": [
            "Epoch [309/3000]: 100%|██████████| 9/9 [00:00<00:00, 90.00it/s, loss=3.11]\n"
          ]
        },
        {
          "output_type": "stream",
          "name": "stdout",
          "text": [
            "Epoch [309/3000]: Train loss: 2.4946, Valid loss: 2.5445\n"
          ]
        },
        {
          "output_type": "stream",
          "name": "stderr",
          "text": [
            "Epoch [310/3000]: 100%|██████████| 9/9 [00:00<00:00, 102.55it/s, loss=1.91]\n"
          ]
        },
        {
          "output_type": "stream",
          "name": "stdout",
          "text": [
            "Epoch [310/3000]: Train loss: 2.4065, Valid loss: 2.9762\n"
          ]
        },
        {
          "output_type": "stream",
          "name": "stderr",
          "text": [
            "Epoch [311/3000]: 100%|██████████| 9/9 [00:00<00:00, 85.07it/s, loss=2.43]\n"
          ]
        },
        {
          "output_type": "stream",
          "name": "stdout",
          "text": [
            "Epoch [311/3000]: Train loss: 2.4692, Valid loss: 2.2263\n"
          ]
        },
        {
          "output_type": "stream",
          "name": "stderr",
          "text": [
            "Epoch [312/3000]: 100%|██████████| 9/9 [00:00<00:00, 93.85it/s, loss=1.59]\n"
          ]
        },
        {
          "output_type": "stream",
          "name": "stdout",
          "text": [
            "Epoch [312/3000]: Train loss: 2.3933, Valid loss: 2.2194\n"
          ]
        },
        {
          "output_type": "stream",
          "name": "stderr",
          "text": [
            "Epoch [313/3000]: 100%|██████████| 9/9 [00:00<00:00, 100.24it/s, loss=3.18]\n"
          ]
        },
        {
          "output_type": "stream",
          "name": "stdout",
          "text": [
            "Epoch [313/3000]: Train loss: 2.4933, Valid loss: 2.4541\n"
          ]
        },
        {
          "output_type": "stream",
          "name": "stderr",
          "text": [
            "Epoch [314/3000]: 100%|██████████| 9/9 [00:00<00:00, 80.10it/s, loss=2.53]\n"
          ]
        },
        {
          "output_type": "stream",
          "name": "stdout",
          "text": [
            "Epoch [314/3000]: Train loss: 2.4201, Valid loss: 2.5407\n"
          ]
        },
        {
          "output_type": "stream",
          "name": "stderr",
          "text": [
            "Epoch [315/3000]: 100%|██████████| 9/9 [00:00<00:00, 86.04it/s, loss=2.74]\n"
          ]
        },
        {
          "output_type": "stream",
          "name": "stdout",
          "text": [
            "Epoch [315/3000]: Train loss: 2.4186, Valid loss: 2.8780\n"
          ]
        },
        {
          "output_type": "stream",
          "name": "stderr",
          "text": [
            "Epoch [316/3000]: 100%|██████████| 9/9 [00:00<00:00, 101.96it/s, loss=2.5]\n"
          ]
        },
        {
          "output_type": "stream",
          "name": "stdout",
          "text": [
            "Epoch [316/3000]: Train loss: 2.3929, Valid loss: 2.2115\n"
          ]
        },
        {
          "output_type": "stream",
          "name": "stderr",
          "text": [
            "Epoch [317/3000]: 100%|██████████| 9/9 [00:00<00:00, 103.72it/s, loss=2.42]\n"
          ]
        },
        {
          "output_type": "stream",
          "name": "stdout",
          "text": [
            "Epoch [317/3000]: Train loss: 2.3857, Valid loss: 2.2906\n"
          ]
        },
        {
          "output_type": "stream",
          "name": "stderr",
          "text": [
            "Epoch [318/3000]: 100%|██████████| 9/9 [00:00<00:00, 93.75it/s, loss=2.7]\n"
          ]
        },
        {
          "output_type": "stream",
          "name": "stdout",
          "text": [
            "Epoch [318/3000]: Train loss: 2.4000, Valid loss: 3.0576\n"
          ]
        },
        {
          "output_type": "stream",
          "name": "stderr",
          "text": [
            "Epoch [319/3000]: 100%|██████████| 9/9 [00:00<00:00, 92.52it/s, loss=2.24]\n"
          ]
        },
        {
          "output_type": "stream",
          "name": "stdout",
          "text": [
            "Epoch [319/3000]: Train loss: 2.3621, Valid loss: 2.6067\n"
          ]
        },
        {
          "output_type": "stream",
          "name": "stderr",
          "text": [
            "Epoch [320/3000]: 100%|██████████| 9/9 [00:00<00:00, 107.15it/s, loss=2.27]\n"
          ]
        },
        {
          "output_type": "stream",
          "name": "stdout",
          "text": [
            "Epoch [320/3000]: Train loss: 2.3555, Valid loss: 2.5507\n"
          ]
        },
        {
          "output_type": "stream",
          "name": "stderr",
          "text": [
            "Epoch [321/3000]: 100%|██████████| 9/9 [00:00<00:00, 105.30it/s, loss=2.3]\n"
          ]
        },
        {
          "output_type": "stream",
          "name": "stdout",
          "text": [
            "Epoch [321/3000]: Train loss: 2.3664, Valid loss: 2.6535\n"
          ]
        },
        {
          "output_type": "stream",
          "name": "stderr",
          "text": [
            "Epoch [322/3000]: 100%|██████████| 9/9 [00:00<00:00, 103.83it/s, loss=2.33]\n"
          ]
        },
        {
          "output_type": "stream",
          "name": "stdout",
          "text": [
            "Epoch [322/3000]: Train loss: 2.3542, Valid loss: 2.7187\n"
          ]
        },
        {
          "output_type": "stream",
          "name": "stderr",
          "text": [
            "Epoch [323/3000]: 100%|██████████| 9/9 [00:00<00:00, 114.25it/s, loss=2.02]\n"
          ]
        },
        {
          "output_type": "stream",
          "name": "stdout",
          "text": [
            "Epoch [323/3000]: Train loss: 2.3371, Valid loss: 2.6097\n"
          ]
        },
        {
          "output_type": "stream",
          "name": "stderr",
          "text": [
            "Epoch [324/3000]: 100%|██████████| 9/9 [00:00<00:00, 115.57it/s, loss=2.53]\n"
          ]
        },
        {
          "output_type": "stream",
          "name": "stdout",
          "text": [
            "Epoch [324/3000]: Train loss: 2.3568, Valid loss: 2.6073\n"
          ]
        },
        {
          "output_type": "stream",
          "name": "stderr",
          "text": [
            "Epoch [325/3000]: 100%|██████████| 9/9 [00:00<00:00, 96.11it/s, loss=2.21]\n"
          ]
        },
        {
          "output_type": "stream",
          "name": "stdout",
          "text": [
            "Epoch [325/3000]: Train loss: 2.3331, Valid loss: 2.2379\n"
          ]
        },
        {
          "output_type": "stream",
          "name": "stderr",
          "text": [
            "Epoch [326/3000]: 100%|██████████| 9/9 [00:00<00:00, 112.65it/s, loss=1.56]\n"
          ]
        },
        {
          "output_type": "stream",
          "name": "stdout",
          "text": [
            "Epoch [326/3000]: Train loss: 2.2916, Valid loss: 2.5438\n"
          ]
        },
        {
          "output_type": "stream",
          "name": "stderr",
          "text": [
            "Epoch [327/3000]: 100%|██████████| 9/9 [00:00<00:00, 79.35it/s, loss=2.16]\n"
          ]
        },
        {
          "output_type": "stream",
          "name": "stdout",
          "text": [
            "Epoch [327/3000]: Train loss: 2.3129, Valid loss: 2.9575\n"
          ]
        },
        {
          "output_type": "stream",
          "name": "stderr",
          "text": [
            "Epoch [328/3000]: 100%|██████████| 9/9 [00:00<00:00, 92.23it/s, loss=2.41]\n"
          ]
        },
        {
          "output_type": "stream",
          "name": "stdout",
          "text": [
            "Epoch [328/3000]: Train loss: 2.3256, Valid loss: 2.6414\n"
          ]
        },
        {
          "output_type": "stream",
          "name": "stderr",
          "text": [
            "Epoch [329/3000]: 100%|██████████| 9/9 [00:00<00:00, 97.40it/s, loss=2.5]\n"
          ]
        },
        {
          "output_type": "stream",
          "name": "stdout",
          "text": [
            "Epoch [329/3000]: Train loss: 2.3339, Valid loss: 2.6051\n"
          ]
        },
        {
          "output_type": "stream",
          "name": "stderr",
          "text": [
            "Epoch [330/3000]: 100%|██████████| 9/9 [00:00<00:00, 81.84it/s, loss=2.52]\n"
          ]
        },
        {
          "output_type": "stream",
          "name": "stdout",
          "text": [
            "Epoch [330/3000]: Train loss: 2.3574, Valid loss: 2.1044\n"
          ]
        },
        {
          "output_type": "stream",
          "name": "stderr",
          "text": [
            "Epoch [331/3000]: 100%|██████████| 9/9 [00:00<00:00, 84.91it/s, loss=2.69]\n"
          ]
        },
        {
          "output_type": "stream",
          "name": "stdout",
          "text": [
            "Epoch [331/3000]: Train loss: 2.3307, Valid loss: 2.1455\n"
          ]
        },
        {
          "output_type": "stream",
          "name": "stderr",
          "text": [
            "Epoch [332/3000]: 100%|██████████| 9/9 [00:00<00:00, 106.81it/s, loss=3.03]\n"
          ]
        },
        {
          "output_type": "stream",
          "name": "stdout",
          "text": [
            "Epoch [332/3000]: Train loss: 2.3501, Valid loss: 2.6508\n"
          ]
        },
        {
          "output_type": "stream",
          "name": "stderr",
          "text": [
            "Epoch [333/3000]: 100%|██████████| 9/9 [00:00<00:00, 95.96it/s, loss=2.12]\n"
          ]
        },
        {
          "output_type": "stream",
          "name": "stdout",
          "text": [
            "Epoch [333/3000]: Train loss: 2.2856, Valid loss: 2.9835\n"
          ]
        },
        {
          "output_type": "stream",
          "name": "stderr",
          "text": [
            "Epoch [334/3000]: 100%|██████████| 9/9 [00:00<00:00, 94.41it/s, loss=2.89]\n"
          ]
        },
        {
          "output_type": "stream",
          "name": "stdout",
          "text": [
            "Epoch [334/3000]: Train loss: 2.3241, Valid loss: 2.1216\n"
          ]
        },
        {
          "output_type": "stream",
          "name": "stderr",
          "text": [
            "Epoch [335/3000]: 100%|██████████| 9/9 [00:00<00:00, 96.97it/s, loss=2.37]\n"
          ]
        },
        {
          "output_type": "stream",
          "name": "stdout",
          "text": [
            "Epoch [335/3000]: Train loss: 2.2897, Valid loss: 2.3328\n"
          ]
        },
        {
          "output_type": "stream",
          "name": "stderr",
          "text": [
            "Epoch [336/3000]: 100%|██████████| 9/9 [00:00<00:00, 34.60it/s, loss=3.23]\n"
          ]
        },
        {
          "output_type": "stream",
          "name": "stdout",
          "text": [
            "Epoch [336/3000]: Train loss: 2.3394, Valid loss: 2.1596\n"
          ]
        },
        {
          "output_type": "stream",
          "name": "stderr",
          "text": [
            "Epoch [337/3000]: 100%|██████████| 9/9 [00:00<00:00, 83.45it/s, loss=2.59]\n"
          ]
        },
        {
          "output_type": "stream",
          "name": "stdout",
          "text": [
            "Epoch [337/3000]: Train loss: 2.2831, Valid loss: 3.2944\n"
          ]
        },
        {
          "output_type": "stream",
          "name": "stderr",
          "text": [
            "Epoch [338/3000]: 100%|██████████| 9/9 [00:00<00:00, 99.38it/s, loss=2.36]\n"
          ]
        },
        {
          "output_type": "stream",
          "name": "stdout",
          "text": [
            "Epoch [338/3000]: Train loss: 2.2696, Valid loss: 2.0165\n",
            "Saving model with loss 2.016...\n"
          ]
        },
        {
          "output_type": "stream",
          "name": "stderr",
          "text": [
            "Epoch [339/3000]: 100%|██████████| 9/9 [00:00<00:00, 91.91it/s, loss=1.66]\n"
          ]
        },
        {
          "output_type": "stream",
          "name": "stdout",
          "text": [
            "Epoch [339/3000]: Train loss: 2.2184, Valid loss: 2.3815\n"
          ]
        },
        {
          "output_type": "stream",
          "name": "stderr",
          "text": [
            "Epoch [340/3000]: 100%|██████████| 9/9 [00:00<00:00, 92.99it/s, loss=2.53]\n"
          ]
        },
        {
          "output_type": "stream",
          "name": "stdout",
          "text": [
            "Epoch [340/3000]: Train loss: 2.2822, Valid loss: 2.8044\n"
          ]
        },
        {
          "output_type": "stream",
          "name": "stderr",
          "text": [
            "Epoch [341/3000]: 100%|██████████| 9/9 [00:00<00:00, 90.86it/s, loss=2.05]\n"
          ]
        },
        {
          "output_type": "stream",
          "name": "stdout",
          "text": [
            "Epoch [341/3000]: Train loss: 2.2526, Valid loss: 2.2787\n"
          ]
        },
        {
          "output_type": "stream",
          "name": "stderr",
          "text": [
            "Epoch [342/3000]: 100%|██████████| 9/9 [00:00<00:00, 77.21it/s, loss=2.26]\n"
          ]
        },
        {
          "output_type": "stream",
          "name": "stdout",
          "text": [
            "Epoch [342/3000]: Train loss: 2.2640, Valid loss: 2.5781\n"
          ]
        },
        {
          "output_type": "stream",
          "name": "stderr",
          "text": [
            "Epoch [343/3000]: 100%|██████████| 9/9 [00:00<00:00, 75.35it/s, loss=2.27]\n"
          ]
        },
        {
          "output_type": "stream",
          "name": "stdout",
          "text": [
            "Epoch [343/3000]: Train loss: 2.2417, Valid loss: 2.3088\n"
          ]
        },
        {
          "output_type": "stream",
          "name": "stderr",
          "text": [
            "Epoch [344/3000]: 100%|██████████| 9/9 [00:00<00:00, 88.02it/s, loss=2.33]\n"
          ]
        },
        {
          "output_type": "stream",
          "name": "stdout",
          "text": [
            "Epoch [344/3000]: Train loss: 2.2337, Valid loss: 2.4095\n"
          ]
        },
        {
          "output_type": "stream",
          "name": "stderr",
          "text": [
            "Epoch [345/3000]: 100%|██████████| 9/9 [00:00<00:00, 92.26it/s, loss=1.88]\n"
          ]
        },
        {
          "output_type": "stream",
          "name": "stdout",
          "text": [
            "Epoch [345/3000]: Train loss: 2.2057, Valid loss: 2.7802\n"
          ]
        },
        {
          "output_type": "stream",
          "name": "stderr",
          "text": [
            "Epoch [346/3000]: 100%|██████████| 9/9 [00:00<00:00, 88.48it/s, loss=2.33]\n"
          ]
        },
        {
          "output_type": "stream",
          "name": "stdout",
          "text": [
            "Epoch [346/3000]: Train loss: 2.2292, Valid loss: 2.6295\n"
          ]
        },
        {
          "output_type": "stream",
          "name": "stderr",
          "text": [
            "Epoch [347/3000]: 100%|██████████| 9/9 [00:00<00:00, 78.13it/s, loss=2.45]\n"
          ]
        },
        {
          "output_type": "stream",
          "name": "stdout",
          "text": [
            "Epoch [347/3000]: Train loss: 2.2312, Valid loss: 2.1986\n"
          ]
        },
        {
          "output_type": "stream",
          "name": "stderr",
          "text": [
            "Epoch [348/3000]: 100%|██████████| 9/9 [00:00<00:00, 85.06it/s, loss=2.57]\n"
          ]
        },
        {
          "output_type": "stream",
          "name": "stdout",
          "text": [
            "Epoch [348/3000]: Train loss: 2.2302, Valid loss: 2.2753\n"
          ]
        },
        {
          "output_type": "stream",
          "name": "stderr",
          "text": [
            "Epoch [349/3000]: 100%|██████████| 9/9 [00:00<00:00, 96.68it/s, loss=2.02]\n"
          ]
        },
        {
          "output_type": "stream",
          "name": "stdout",
          "text": [
            "Epoch [349/3000]: Train loss: 2.2009, Valid loss: 2.3607\n"
          ]
        },
        {
          "output_type": "stream",
          "name": "stderr",
          "text": [
            "Epoch [350/3000]: 100%|██████████| 9/9 [00:00<00:00, 97.26it/s, loss=2.09]\n"
          ]
        },
        {
          "output_type": "stream",
          "name": "stdout",
          "text": [
            "Epoch [350/3000]: Train loss: 2.1981, Valid loss: 2.6619\n"
          ]
        },
        {
          "output_type": "stream",
          "name": "stderr",
          "text": [
            "Epoch [351/3000]: 100%|██████████| 9/9 [00:00<00:00, 79.74it/s, loss=1.69]\n"
          ]
        },
        {
          "output_type": "stream",
          "name": "stdout",
          "text": [
            "Epoch [351/3000]: Train loss: 2.1606, Valid loss: 2.1578\n"
          ]
        },
        {
          "output_type": "stream",
          "name": "stderr",
          "text": [
            "Epoch [352/3000]: 100%|██████████| 9/9 [00:00<00:00, 91.09it/s, loss=1.78]\n"
          ]
        },
        {
          "output_type": "stream",
          "name": "stdout",
          "text": [
            "Epoch [352/3000]: Train loss: 2.1700, Valid loss: 2.3862\n"
          ]
        },
        {
          "output_type": "stream",
          "name": "stderr",
          "text": [
            "Epoch [353/3000]: 100%|██████████| 9/9 [00:00<00:00, 96.45it/s, loss=1.81]\n"
          ]
        },
        {
          "output_type": "stream",
          "name": "stdout",
          "text": [
            "Epoch [353/3000]: Train loss: 2.1643, Valid loss: 2.3892\n"
          ]
        },
        {
          "output_type": "stream",
          "name": "stderr",
          "text": [
            "Epoch [354/3000]: 100%|██████████| 9/9 [00:00<00:00, 91.27it/s, loss=2.13]\n"
          ]
        },
        {
          "output_type": "stream",
          "name": "stdout",
          "text": [
            "Epoch [354/3000]: Train loss: 2.1841, Valid loss: 2.5662\n"
          ]
        },
        {
          "output_type": "stream",
          "name": "stderr",
          "text": [
            "Epoch [355/3000]: 100%|██████████| 9/9 [00:00<00:00, 97.87it/s, loss=2.03]\n"
          ]
        },
        {
          "output_type": "stream",
          "name": "stdout",
          "text": [
            "Epoch [355/3000]: Train loss: 2.1661, Valid loss: 2.4611\n"
          ]
        },
        {
          "output_type": "stream",
          "name": "stderr",
          "text": [
            "Epoch [356/3000]: 100%|██████████| 9/9 [00:00<00:00, 97.83it/s, loss=1.78]\n"
          ]
        },
        {
          "output_type": "stream",
          "name": "stdout",
          "text": [
            "Epoch [356/3000]: Train loss: 2.1536, Valid loss: 2.2159\n"
          ]
        },
        {
          "output_type": "stream",
          "name": "stderr",
          "text": [
            "Epoch [357/3000]: 100%|██████████| 9/9 [00:00<00:00, 82.41it/s, loss=2.28]\n"
          ]
        },
        {
          "output_type": "stream",
          "name": "stdout",
          "text": [
            "Epoch [357/3000]: Train loss: 2.1824, Valid loss: 2.2898\n"
          ]
        },
        {
          "output_type": "stream",
          "name": "stderr",
          "text": [
            "Epoch [358/3000]: 100%|██████████| 9/9 [00:00<00:00, 91.74it/s, loss=2.27]\n"
          ]
        },
        {
          "output_type": "stream",
          "name": "stdout",
          "text": [
            "Epoch [358/3000]: Train loss: 2.1760, Valid loss: 2.8326\n"
          ]
        },
        {
          "output_type": "stream",
          "name": "stderr",
          "text": [
            "Epoch [359/3000]: 100%|██████████| 9/9 [00:00<00:00, 98.40it/s, loss=1.71]\n"
          ]
        },
        {
          "output_type": "stream",
          "name": "stdout",
          "text": [
            "Epoch [359/3000]: Train loss: 2.1499, Valid loss: 2.3880\n"
          ]
        },
        {
          "output_type": "stream",
          "name": "stderr",
          "text": [
            "Epoch [360/3000]: 100%|██████████| 9/9 [00:00<00:00, 103.79it/s, loss=2.58]\n"
          ]
        },
        {
          "output_type": "stream",
          "name": "stdout",
          "text": [
            "Epoch [360/3000]: Train loss: 2.2024, Valid loss: 2.2910\n"
          ]
        },
        {
          "output_type": "stream",
          "name": "stderr",
          "text": [
            "Epoch [361/3000]: 100%|██████████| 9/9 [00:00<00:00, 95.42it/s, loss=2.36]\n"
          ]
        },
        {
          "output_type": "stream",
          "name": "stdout",
          "text": [
            "Epoch [361/3000]: Train loss: 2.1632, Valid loss: 2.7262\n"
          ]
        },
        {
          "output_type": "stream",
          "name": "stderr",
          "text": [
            "Epoch [362/3000]: 100%|██████████| 9/9 [00:00<00:00, 102.82it/s, loss=1.67]\n"
          ]
        },
        {
          "output_type": "stream",
          "name": "stdout",
          "text": [
            "Epoch [362/3000]: Train loss: 2.1153, Valid loss: 2.3612\n"
          ]
        },
        {
          "output_type": "stream",
          "name": "stderr",
          "text": [
            "Epoch [363/3000]: 100%|██████████| 9/9 [00:00<00:00, 103.45it/s, loss=2.16]\n"
          ]
        },
        {
          "output_type": "stream",
          "name": "stdout",
          "text": [
            "Epoch [363/3000]: Train loss: 2.1827, Valid loss: 2.1277\n"
          ]
        },
        {
          "output_type": "stream",
          "name": "stderr",
          "text": [
            "Epoch [364/3000]: 100%|██████████| 9/9 [00:00<00:00, 103.52it/s, loss=1.9]\n"
          ]
        },
        {
          "output_type": "stream",
          "name": "stdout",
          "text": [
            "Epoch [364/3000]: Train loss: 2.1196, Valid loss: 2.4177\n"
          ]
        },
        {
          "output_type": "stream",
          "name": "stderr",
          "text": [
            "Epoch [365/3000]: 100%|██████████| 9/9 [00:00<00:00, 78.05it/s, loss=1.65]\n"
          ]
        },
        {
          "output_type": "stream",
          "name": "stdout",
          "text": [
            "Epoch [365/3000]: Train loss: 2.1096, Valid loss: 2.8863\n"
          ]
        },
        {
          "output_type": "stream",
          "name": "stderr",
          "text": [
            "Epoch [366/3000]: 100%|██████████| 9/9 [00:00<00:00, 86.32it/s, loss=1.87]\n"
          ]
        },
        {
          "output_type": "stream",
          "name": "stdout",
          "text": [
            "Epoch [366/3000]: Train loss: 2.1166, Valid loss: 2.2159\n"
          ]
        },
        {
          "output_type": "stream",
          "name": "stderr",
          "text": [
            "Epoch [367/3000]: 100%|██████████| 9/9 [00:00<00:00, 84.61it/s, loss=2.87]\n"
          ]
        },
        {
          "output_type": "stream",
          "name": "stdout",
          "text": [
            "Epoch [367/3000]: Train loss: 2.1688, Valid loss: 2.5716\n"
          ]
        },
        {
          "output_type": "stream",
          "name": "stderr",
          "text": [
            "Epoch [368/3000]: 100%|██████████| 9/9 [00:00<00:00, 85.35it/s, loss=2.61]\n"
          ]
        },
        {
          "output_type": "stream",
          "name": "stdout",
          "text": [
            "Epoch [368/3000]: Train loss: 2.1554, Valid loss: 2.6850\n"
          ]
        },
        {
          "output_type": "stream",
          "name": "stderr",
          "text": [
            "Epoch [369/3000]: 100%|██████████| 9/9 [00:00<00:00, 87.16it/s, loss=1.61]\n"
          ]
        },
        {
          "output_type": "stream",
          "name": "stdout",
          "text": [
            "Epoch [369/3000]: Train loss: 2.0934, Valid loss: 2.7277\n"
          ]
        },
        {
          "output_type": "stream",
          "name": "stderr",
          "text": [
            "Epoch [370/3000]: 100%|██████████| 9/9 [00:00<00:00, 78.59it/s, loss=2.1]\n"
          ]
        },
        {
          "output_type": "stream",
          "name": "stdout",
          "text": [
            "Epoch [370/3000]: Train loss: 2.1142, Valid loss: 2.1271\n"
          ]
        },
        {
          "output_type": "stream",
          "name": "stderr",
          "text": [
            "Epoch [371/3000]: 100%|██████████| 9/9 [00:00<00:00, 80.67it/s, loss=2.28]\n"
          ]
        },
        {
          "output_type": "stream",
          "name": "stdout",
          "text": [
            "Epoch [371/3000]: Train loss: 2.1370, Valid loss: 2.4200\n"
          ]
        },
        {
          "output_type": "stream",
          "name": "stderr",
          "text": [
            "Epoch [372/3000]: 100%|██████████| 9/9 [00:00<00:00, 85.21it/s, loss=2.44]\n"
          ]
        },
        {
          "output_type": "stream",
          "name": "stdout",
          "text": [
            "Epoch [372/3000]: Train loss: 2.1368, Valid loss: 2.4189\n"
          ]
        },
        {
          "output_type": "stream",
          "name": "stderr",
          "text": [
            "Epoch [373/3000]: 100%|██████████| 9/9 [00:00<00:00, 82.06it/s, loss=2.29]\n"
          ]
        },
        {
          "output_type": "stream",
          "name": "stdout",
          "text": [
            "Epoch [373/3000]: Train loss: 2.1200, Valid loss: 2.1105\n"
          ]
        },
        {
          "output_type": "stream",
          "name": "stderr",
          "text": [
            "Epoch [374/3000]: 100%|██████████| 9/9 [00:00<00:00, 97.17it/s, loss=1.62]\n"
          ]
        },
        {
          "output_type": "stream",
          "name": "stdout",
          "text": [
            "Epoch [374/3000]: Train loss: 2.0672, Valid loss: 2.6362\n"
          ]
        },
        {
          "output_type": "stream",
          "name": "stderr",
          "text": [
            "Epoch [375/3000]: 100%|██████████| 9/9 [00:00<00:00, 94.42it/s, loss=1.98]\n"
          ]
        },
        {
          "output_type": "stream",
          "name": "stdout",
          "text": [
            "Epoch [375/3000]: Train loss: 2.0823, Valid loss: 2.2571\n"
          ]
        },
        {
          "output_type": "stream",
          "name": "stderr",
          "text": [
            "Epoch [376/3000]: 100%|██████████| 9/9 [00:00<00:00, 97.69it/s, loss=2.57]\n"
          ]
        },
        {
          "output_type": "stream",
          "name": "stdout",
          "text": [
            "Epoch [376/3000]: Train loss: 2.1421, Valid loss: 2.1961\n"
          ]
        },
        {
          "output_type": "stream",
          "name": "stderr",
          "text": [
            "Epoch [377/3000]: 100%|██████████| 9/9 [00:00<00:00, 79.51it/s, loss=1.73]\n"
          ]
        },
        {
          "output_type": "stream",
          "name": "stdout",
          "text": [
            "Epoch [377/3000]: Train loss: 2.0893, Valid loss: 2.7829\n"
          ]
        },
        {
          "output_type": "stream",
          "name": "stderr",
          "text": [
            "Epoch [378/3000]: 100%|██████████| 9/9 [00:00<00:00, 92.70it/s, loss=2.32]\n"
          ]
        },
        {
          "output_type": "stream",
          "name": "stdout",
          "text": [
            "Epoch [378/3000]: Train loss: 2.1214, Valid loss: 2.5754\n"
          ]
        },
        {
          "output_type": "stream",
          "name": "stderr",
          "text": [
            "Epoch [379/3000]: 100%|██████████| 9/9 [00:00<00:00, 95.64it/s, loss=1.87]\n"
          ]
        },
        {
          "output_type": "stream",
          "name": "stdout",
          "text": [
            "Epoch [379/3000]: Train loss: 2.0808, Valid loss: 2.4730\n"
          ]
        },
        {
          "output_type": "stream",
          "name": "stderr",
          "text": [
            "Epoch [380/3000]: 100%|██████████| 9/9 [00:00<00:00, 90.15it/s, loss=2.4]\n"
          ]
        },
        {
          "output_type": "stream",
          "name": "stdout",
          "text": [
            "Epoch [380/3000]: Train loss: 2.1107, Valid loss: 2.2366\n"
          ]
        },
        {
          "output_type": "stream",
          "name": "stderr",
          "text": [
            "Epoch [381/3000]: 100%|██████████| 9/9 [00:00<00:00, 79.91it/s, loss=2.17]\n"
          ]
        },
        {
          "output_type": "stream",
          "name": "stdout",
          "text": [
            "Epoch [381/3000]: Train loss: 2.1145, Valid loss: 2.0547\n"
          ]
        },
        {
          "output_type": "stream",
          "name": "stderr",
          "text": [
            "Epoch [382/3000]: 100%|██████████| 9/9 [00:00<00:00, 86.75it/s, loss=2.02]\n"
          ]
        },
        {
          "output_type": "stream",
          "name": "stdout",
          "text": [
            "Epoch [382/3000]: Train loss: 2.0844, Valid loss: 2.3940\n"
          ]
        },
        {
          "output_type": "stream",
          "name": "stderr",
          "text": [
            "Epoch [383/3000]: 100%|██████████| 9/9 [00:00<00:00, 72.67it/s, loss=1.82]\n"
          ]
        },
        {
          "output_type": "stream",
          "name": "stdout",
          "text": [
            "Epoch [383/3000]: Train loss: 2.0680, Valid loss: 2.0275\n"
          ]
        },
        {
          "output_type": "stream",
          "name": "stderr",
          "text": [
            "Epoch [384/3000]: 100%|██████████| 9/9 [00:00<00:00, 103.34it/s, loss=2.62]\n"
          ]
        },
        {
          "output_type": "stream",
          "name": "stdout",
          "text": [
            "Epoch [384/3000]: Train loss: 2.0977, Valid loss: 2.4102\n"
          ]
        },
        {
          "output_type": "stream",
          "name": "stderr",
          "text": [
            "Epoch [385/3000]: 100%|██████████| 9/9 [00:00<00:00, 82.18it/s, loss=2.22]\n"
          ]
        },
        {
          "output_type": "stream",
          "name": "stdout",
          "text": [
            "Epoch [385/3000]: Train loss: 2.0781, Valid loss: 2.4120\n"
          ]
        },
        {
          "output_type": "stream",
          "name": "stderr",
          "text": [
            "Epoch [386/3000]: 100%|██████████| 9/9 [00:00<00:00, 102.79it/s, loss=2.63]\n"
          ]
        },
        {
          "output_type": "stream",
          "name": "stdout",
          "text": [
            "Epoch [386/3000]: Train loss: 2.1016, Valid loss: 2.2385\n"
          ]
        },
        {
          "output_type": "stream",
          "name": "stderr",
          "text": [
            "Epoch [387/3000]: 100%|██████████| 9/9 [00:00<00:00, 97.76it/s, loss=2.33]\n"
          ]
        },
        {
          "output_type": "stream",
          "name": "stdout",
          "text": [
            "Epoch [387/3000]: Train loss: 2.0779, Valid loss: 2.3172\n"
          ]
        },
        {
          "output_type": "stream",
          "name": "stderr",
          "text": [
            "Epoch [388/3000]: 100%|██████████| 9/9 [00:00<00:00, 100.88it/s, loss=1.62]\n"
          ]
        },
        {
          "output_type": "stream",
          "name": "stdout",
          "text": [
            "Epoch [388/3000]: Train loss: 2.0259, Valid loss: 2.3502\n"
          ]
        },
        {
          "output_type": "stream",
          "name": "stderr",
          "text": [
            "Epoch [389/3000]: 100%|██████████| 9/9 [00:00<00:00, 77.00it/s, loss=2.04]\n"
          ]
        },
        {
          "output_type": "stream",
          "name": "stdout",
          "text": [
            "Epoch [389/3000]: Train loss: 2.0471, Valid loss: 1.9463\n",
            "Saving model with loss 1.946...\n"
          ]
        },
        {
          "output_type": "stream",
          "name": "stderr",
          "text": [
            "Epoch [390/3000]: 100%|██████████| 9/9 [00:00<00:00, 107.51it/s, loss=2.34]\n"
          ]
        },
        {
          "output_type": "stream",
          "name": "stdout",
          "text": [
            "Epoch [390/3000]: Train loss: 2.0659, Valid loss: 2.3291\n"
          ]
        },
        {
          "output_type": "stream",
          "name": "stderr",
          "text": [
            "Epoch [391/3000]: 100%|██████████| 9/9 [00:00<00:00, 92.29it/s, loss=2.15]\n"
          ]
        },
        {
          "output_type": "stream",
          "name": "stdout",
          "text": [
            "Epoch [391/3000]: Train loss: 2.0549, Valid loss: 2.2561\n"
          ]
        },
        {
          "output_type": "stream",
          "name": "stderr",
          "text": [
            "Epoch [392/3000]: 100%|██████████| 9/9 [00:00<00:00, 107.51it/s, loss=2.23]\n"
          ]
        },
        {
          "output_type": "stream",
          "name": "stdout",
          "text": [
            "Epoch [392/3000]: Train loss: 2.0518, Valid loss: 2.5464\n"
          ]
        },
        {
          "output_type": "stream",
          "name": "stderr",
          "text": [
            "Epoch [393/3000]: 100%|██████████| 9/9 [00:00<00:00, 108.16it/s, loss=1.78]\n"
          ]
        },
        {
          "output_type": "stream",
          "name": "stdout",
          "text": [
            "Epoch [393/3000]: Train loss: 2.0155, Valid loss: 2.1948\n"
          ]
        },
        {
          "output_type": "stream",
          "name": "stderr",
          "text": [
            "Epoch [394/3000]: 100%|██████████| 9/9 [00:00<00:00, 113.92it/s, loss=2.58]\n"
          ]
        },
        {
          "output_type": "stream",
          "name": "stdout",
          "text": [
            "Epoch [394/3000]: Train loss: 2.0566, Valid loss: 2.2054\n"
          ]
        },
        {
          "output_type": "stream",
          "name": "stderr",
          "text": [
            "Epoch [395/3000]: 100%|██████████| 9/9 [00:00<00:00, 97.18it/s, loss=1.79]\n"
          ]
        },
        {
          "output_type": "stream",
          "name": "stdout",
          "text": [
            "Epoch [395/3000]: Train loss: 2.0021, Valid loss: 2.1284\n"
          ]
        },
        {
          "output_type": "stream",
          "name": "stderr",
          "text": [
            "Epoch [396/3000]: 100%|██████████| 9/9 [00:00<00:00, 86.98it/s, loss=2.17]\n"
          ]
        },
        {
          "output_type": "stream",
          "name": "stdout",
          "text": [
            "Epoch [396/3000]: Train loss: 2.0407, Valid loss: 2.3915\n"
          ]
        },
        {
          "output_type": "stream",
          "name": "stderr",
          "text": [
            "Epoch [397/3000]: 100%|██████████| 9/9 [00:00<00:00, 97.51it/s, loss=1.87]\n"
          ]
        },
        {
          "output_type": "stream",
          "name": "stdout",
          "text": [
            "Epoch [397/3000]: Train loss: 2.0058, Valid loss: 2.3581\n"
          ]
        },
        {
          "output_type": "stream",
          "name": "stderr",
          "text": [
            "Epoch [398/3000]: 100%|██████████| 9/9 [00:00<00:00, 72.24it/s, loss=1.78]\n"
          ]
        },
        {
          "output_type": "stream",
          "name": "stdout",
          "text": [
            "Epoch [398/3000]: Train loss: 1.9965, Valid loss: 2.3708\n"
          ]
        },
        {
          "output_type": "stream",
          "name": "stderr",
          "text": [
            "Epoch [399/3000]: 100%|██████████| 9/9 [00:00<00:00, 107.36it/s, loss=1.7]\n"
          ]
        },
        {
          "output_type": "stream",
          "name": "stdout",
          "text": [
            "Epoch [399/3000]: Train loss: 2.0012, Valid loss: 2.8420\n"
          ]
        },
        {
          "output_type": "stream",
          "name": "stderr",
          "text": [
            "Epoch [400/3000]: 100%|██████████| 9/9 [00:00<00:00, 97.33it/s, loss=1.86]\n"
          ]
        },
        {
          "output_type": "stream",
          "name": "stdout",
          "text": [
            "Epoch [400/3000]: Train loss: 2.0023, Valid loss: 2.3566\n"
          ]
        },
        {
          "output_type": "stream",
          "name": "stderr",
          "text": [
            "Epoch [401/3000]: 100%|██████████| 9/9 [00:00<00:00, 75.51it/s, loss=1.83]\n"
          ]
        },
        {
          "output_type": "stream",
          "name": "stdout",
          "text": [
            "Epoch [401/3000]: Train loss: 2.0096, Valid loss: 2.1235\n"
          ]
        },
        {
          "output_type": "stream",
          "name": "stderr",
          "text": [
            "Epoch [402/3000]: 100%|██████████| 9/9 [00:00<00:00, 78.59it/s, loss=1.85]\n"
          ]
        },
        {
          "output_type": "stream",
          "name": "stdout",
          "text": [
            "Epoch [402/3000]: Train loss: 2.0257, Valid loss: 2.2278\n"
          ]
        },
        {
          "output_type": "stream",
          "name": "stderr",
          "text": [
            "Epoch [403/3000]: 100%|██████████| 9/9 [00:00<00:00, 109.16it/s, loss=2.28]\n"
          ]
        },
        {
          "output_type": "stream",
          "name": "stdout",
          "text": [
            "Epoch [403/3000]: Train loss: 2.0263, Valid loss: 2.3942\n"
          ]
        },
        {
          "output_type": "stream",
          "name": "stderr",
          "text": [
            "Epoch [404/3000]: 100%|██████████| 9/9 [00:00<00:00, 104.44it/s, loss=1.94]\n"
          ]
        },
        {
          "output_type": "stream",
          "name": "stdout",
          "text": [
            "Epoch [404/3000]: Train loss: 1.9864, Valid loss: 2.1058\n"
          ]
        },
        {
          "output_type": "stream",
          "name": "stderr",
          "text": [
            "Epoch [405/3000]: 100%|██████████| 9/9 [00:00<00:00, 106.96it/s, loss=2.27]\n"
          ]
        },
        {
          "output_type": "stream",
          "name": "stdout",
          "text": [
            "Epoch [405/3000]: Train loss: 2.0026, Valid loss: 2.4014\n"
          ]
        },
        {
          "output_type": "stream",
          "name": "stderr",
          "text": [
            "Epoch [406/3000]: 100%|██████████| 9/9 [00:00<00:00, 107.06it/s, loss=2.53]\n"
          ]
        },
        {
          "output_type": "stream",
          "name": "stdout",
          "text": [
            "Epoch [406/3000]: Train loss: 2.0175, Valid loss: 2.4551\n"
          ]
        },
        {
          "output_type": "stream",
          "name": "stderr",
          "text": [
            "Epoch [407/3000]: 100%|██████████| 9/9 [00:00<00:00, 113.97it/s, loss=1.68]\n"
          ]
        },
        {
          "output_type": "stream",
          "name": "stdout",
          "text": [
            "Epoch [407/3000]: Train loss: 1.9649, Valid loss: 2.3443\n"
          ]
        },
        {
          "output_type": "stream",
          "name": "stderr",
          "text": [
            "Epoch [408/3000]: 100%|██████████| 9/9 [00:00<00:00, 116.86it/s, loss=1.96]\n"
          ]
        },
        {
          "output_type": "stream",
          "name": "stdout",
          "text": [
            "Epoch [408/3000]: Train loss: 1.9786, Valid loss: 2.0296\n"
          ]
        },
        {
          "output_type": "stream",
          "name": "stderr",
          "text": [
            "Epoch [409/3000]: 100%|██████████| 9/9 [00:00<00:00, 81.79it/s, loss=1.5]\n"
          ]
        },
        {
          "output_type": "stream",
          "name": "stdout",
          "text": [
            "Epoch [409/3000]: Train loss: 1.9652, Valid loss: 1.9734\n"
          ]
        },
        {
          "output_type": "stream",
          "name": "stderr",
          "text": [
            "Epoch [410/3000]: 100%|██████████| 9/9 [00:00<00:00, 92.57it/s, loss=1.6]\n"
          ]
        },
        {
          "output_type": "stream",
          "name": "stdout",
          "text": [
            "Epoch [410/3000]: Train loss: 1.9458, Valid loss: 2.2391\n"
          ]
        },
        {
          "output_type": "stream",
          "name": "stderr",
          "text": [
            "Epoch [411/3000]: 100%|██████████| 9/9 [00:00<00:00, 100.39it/s, loss=2.39]\n"
          ]
        },
        {
          "output_type": "stream",
          "name": "stdout",
          "text": [
            "Epoch [411/3000]: Train loss: 2.0116, Valid loss: 2.0738\n"
          ]
        },
        {
          "output_type": "stream",
          "name": "stderr",
          "text": [
            "Epoch [412/3000]: 100%|██████████| 9/9 [00:00<00:00, 81.21it/s, loss=1.67]\n"
          ]
        },
        {
          "output_type": "stream",
          "name": "stdout",
          "text": [
            "Epoch [412/3000]: Train loss: 1.9705, Valid loss: 2.3521\n"
          ]
        },
        {
          "output_type": "stream",
          "name": "stderr",
          "text": [
            "Epoch [413/3000]: 100%|██████████| 9/9 [00:00<00:00, 89.90it/s, loss=1.77]\n"
          ]
        },
        {
          "output_type": "stream",
          "name": "stdout",
          "text": [
            "Epoch [413/3000]: Train loss: 1.9517, Valid loss: 2.6576\n"
          ]
        },
        {
          "output_type": "stream",
          "name": "stderr",
          "text": [
            "Epoch [414/3000]: 100%|██████████| 9/9 [00:00<00:00, 78.92it/s, loss=2.8]\n"
          ]
        },
        {
          "output_type": "stream",
          "name": "stdout",
          "text": [
            "Epoch [414/3000]: Train loss: 2.0108, Valid loss: 2.1564\n"
          ]
        },
        {
          "output_type": "stream",
          "name": "stderr",
          "text": [
            "Epoch [415/3000]: 100%|██████████| 9/9 [00:00<00:00, 78.93it/s, loss=1.93]\n"
          ]
        },
        {
          "output_type": "stream",
          "name": "stdout",
          "text": [
            "Epoch [415/3000]: Train loss: 1.9752, Valid loss: 2.0717\n"
          ]
        },
        {
          "output_type": "stream",
          "name": "stderr",
          "text": [
            "Epoch [416/3000]: 100%|██████████| 9/9 [00:00<00:00, 90.47it/s, loss=2.26]\n"
          ]
        },
        {
          "output_type": "stream",
          "name": "stdout",
          "text": [
            "Epoch [416/3000]: Train loss: 2.0173, Valid loss: 2.6996\n"
          ]
        },
        {
          "output_type": "stream",
          "name": "stderr",
          "text": [
            "Epoch [417/3000]: 100%|██████████| 9/9 [00:00<00:00, 95.33it/s, loss=2.29]\n"
          ]
        },
        {
          "output_type": "stream",
          "name": "stdout",
          "text": [
            "Epoch [417/3000]: Train loss: 1.9920, Valid loss: 2.1113\n"
          ]
        },
        {
          "output_type": "stream",
          "name": "stderr",
          "text": [
            "Epoch [418/3000]: 100%|██████████| 9/9 [00:00<00:00, 87.17it/s, loss=2.29]\n"
          ]
        },
        {
          "output_type": "stream",
          "name": "stdout",
          "text": [
            "Epoch [418/3000]: Train loss: 1.9844, Valid loss: 1.9737\n"
          ]
        },
        {
          "output_type": "stream",
          "name": "stderr",
          "text": [
            "Epoch [419/3000]: 100%|██████████| 9/9 [00:00<00:00, 85.55it/s, loss=1.75]\n"
          ]
        },
        {
          "output_type": "stream",
          "name": "stdout",
          "text": [
            "Epoch [419/3000]: Train loss: 1.9323, Valid loss: 1.9983\n"
          ]
        },
        {
          "output_type": "stream",
          "name": "stderr",
          "text": [
            "Epoch [420/3000]: 100%|██████████| 9/9 [00:00<00:00, 111.35it/s, loss=2.11]\n"
          ]
        },
        {
          "output_type": "stream",
          "name": "stdout",
          "text": [
            "Epoch [420/3000]: Train loss: 1.9585, Valid loss: 2.3937\n"
          ]
        },
        {
          "output_type": "stream",
          "name": "stderr",
          "text": [
            "Epoch [421/3000]: 100%|██████████| 9/9 [00:00<00:00, 93.85it/s, loss=1.48]\n"
          ]
        },
        {
          "output_type": "stream",
          "name": "stdout",
          "text": [
            "Epoch [421/3000]: Train loss: 1.9160, Valid loss: 2.0509\n"
          ]
        },
        {
          "output_type": "stream",
          "name": "stderr",
          "text": [
            "Epoch [422/3000]: 100%|██████████| 9/9 [00:00<00:00, 97.22it/s, loss=2.1]\n"
          ]
        },
        {
          "output_type": "stream",
          "name": "stdout",
          "text": [
            "Epoch [422/3000]: Train loss: 1.9494, Valid loss: 2.1678\n"
          ]
        },
        {
          "output_type": "stream",
          "name": "stderr",
          "text": [
            "Epoch [423/3000]: 100%|██████████| 9/9 [00:00<00:00, 85.37it/s, loss=2.18]\n"
          ]
        },
        {
          "output_type": "stream",
          "name": "stdout",
          "text": [
            "Epoch [423/3000]: Train loss: 1.9489, Valid loss: 2.1413\n"
          ]
        },
        {
          "output_type": "stream",
          "name": "stderr",
          "text": [
            "Epoch [424/3000]: 100%|██████████| 9/9 [00:00<00:00, 102.89it/s, loss=2.56]\n"
          ]
        },
        {
          "output_type": "stream",
          "name": "stdout",
          "text": [
            "Epoch [424/3000]: Train loss: 1.9781, Valid loss: 1.9461\n",
            "Saving model with loss 1.946...\n"
          ]
        },
        {
          "output_type": "stream",
          "name": "stderr",
          "text": [
            "Epoch [425/3000]: 100%|██████████| 9/9 [00:00<00:00, 111.37it/s, loss=1.65]\n"
          ]
        },
        {
          "output_type": "stream",
          "name": "stdout",
          "text": [
            "Epoch [425/3000]: Train loss: 1.9101, Valid loss: 1.9017\n",
            "Saving model with loss 1.902...\n"
          ]
        },
        {
          "output_type": "stream",
          "name": "stderr",
          "text": [
            "Epoch [426/3000]: 100%|██████████| 9/9 [00:00<00:00, 112.82it/s, loss=1.49]\n"
          ]
        },
        {
          "output_type": "stream",
          "name": "stdout",
          "text": [
            "Epoch [426/3000]: Train loss: 1.8975, Valid loss: 1.9575\n"
          ]
        },
        {
          "output_type": "stream",
          "name": "stderr",
          "text": [
            "Epoch [427/3000]: 100%|██████████| 9/9 [00:00<00:00, 93.97it/s, loss=2.02]\n"
          ]
        },
        {
          "output_type": "stream",
          "name": "stdout",
          "text": [
            "Epoch [427/3000]: Train loss: 1.9570, Valid loss: 2.5139\n"
          ]
        },
        {
          "output_type": "stream",
          "name": "stderr",
          "text": [
            "Epoch [428/3000]: 100%|██████████| 9/9 [00:00<00:00, 85.12it/s, loss=2.03]\n"
          ]
        },
        {
          "output_type": "stream",
          "name": "stdout",
          "text": [
            "Epoch [428/3000]: Train loss: 1.9387, Valid loss: 2.0348\n"
          ]
        },
        {
          "output_type": "stream",
          "name": "stderr",
          "text": [
            "Epoch [429/3000]: 100%|██████████| 9/9 [00:00<00:00, 98.51it/s, loss=1.79]\n"
          ]
        },
        {
          "output_type": "stream",
          "name": "stdout",
          "text": [
            "Epoch [429/3000]: Train loss: 1.9086, Valid loss: 2.3990\n"
          ]
        },
        {
          "output_type": "stream",
          "name": "stderr",
          "text": [
            "Epoch [430/3000]: 100%|██████████| 9/9 [00:00<00:00, 77.06it/s, loss=2.02]\n"
          ]
        },
        {
          "output_type": "stream",
          "name": "stdout",
          "text": [
            "Epoch [430/3000]: Train loss: 1.9213, Valid loss: 2.1757\n"
          ]
        },
        {
          "output_type": "stream",
          "name": "stderr",
          "text": [
            "Epoch [431/3000]: 100%|██████████| 9/9 [00:00<00:00, 80.39it/s, loss=1.81]\n"
          ]
        },
        {
          "output_type": "stream",
          "name": "stdout",
          "text": [
            "Epoch [431/3000]: Train loss: 1.9472, Valid loss: 2.2836\n"
          ]
        },
        {
          "output_type": "stream",
          "name": "stderr",
          "text": [
            "Epoch [432/3000]: 100%|██████████| 9/9 [00:00<00:00, 90.52it/s, loss=1.97]\n"
          ]
        },
        {
          "output_type": "stream",
          "name": "stdout",
          "text": [
            "Epoch [432/3000]: Train loss: 1.9203, Valid loss: 2.3286\n"
          ]
        },
        {
          "output_type": "stream",
          "name": "stderr",
          "text": [
            "Epoch [433/3000]: 100%|██████████| 9/9 [00:00<00:00, 84.52it/s, loss=1.5]\n"
          ]
        },
        {
          "output_type": "stream",
          "name": "stdout",
          "text": [
            "Epoch [433/3000]: Train loss: 1.8905, Valid loss: 2.3847\n"
          ]
        },
        {
          "output_type": "stream",
          "name": "stderr",
          "text": [
            "Epoch [434/3000]: 100%|██████████| 9/9 [00:00<00:00, 97.75it/s, loss=2.19]\n"
          ]
        },
        {
          "output_type": "stream",
          "name": "stdout",
          "text": [
            "Epoch [434/3000]: Train loss: 1.9234, Valid loss: 2.0642\n"
          ]
        },
        {
          "output_type": "stream",
          "name": "stderr",
          "text": [
            "Epoch [435/3000]: 100%|██████████| 9/9 [00:00<00:00, 104.88it/s, loss=2.09]\n"
          ]
        },
        {
          "output_type": "stream",
          "name": "stdout",
          "text": [
            "Epoch [435/3000]: Train loss: 1.9189, Valid loss: 2.7577\n"
          ]
        },
        {
          "output_type": "stream",
          "name": "stderr",
          "text": [
            "Epoch [436/3000]: 100%|██████████| 9/9 [00:00<00:00, 94.43it/s, loss=2.04]\n"
          ]
        },
        {
          "output_type": "stream",
          "name": "stdout",
          "text": [
            "Epoch [436/3000]: Train loss: 1.9594, Valid loss: 1.9082\n"
          ]
        },
        {
          "output_type": "stream",
          "name": "stderr",
          "text": [
            "Epoch [437/3000]: 100%|██████████| 9/9 [00:00<00:00, 107.32it/s, loss=1.83]\n"
          ]
        },
        {
          "output_type": "stream",
          "name": "stdout",
          "text": [
            "Epoch [437/3000]: Train loss: 1.9383, Valid loss: 2.4344\n"
          ]
        },
        {
          "output_type": "stream",
          "name": "stderr",
          "text": [
            "Epoch [438/3000]: 100%|██████████| 9/9 [00:00<00:00, 91.26it/s, loss=1.89]\n"
          ]
        },
        {
          "output_type": "stream",
          "name": "stdout",
          "text": [
            "Epoch [438/3000]: Train loss: 1.9125, Valid loss: 2.2147\n"
          ]
        },
        {
          "output_type": "stream",
          "name": "stderr",
          "text": [
            "Epoch [439/3000]: 100%|██████████| 9/9 [00:00<00:00, 107.55it/s, loss=1.94]\n"
          ]
        },
        {
          "output_type": "stream",
          "name": "stdout",
          "text": [
            "Epoch [439/3000]: Train loss: 1.9162, Valid loss: 2.0124\n"
          ]
        },
        {
          "output_type": "stream",
          "name": "stderr",
          "text": [
            "Epoch [440/3000]: 100%|██████████| 9/9 [00:00<00:00, 83.33it/s, loss=2.12]\n"
          ]
        },
        {
          "output_type": "stream",
          "name": "stdout",
          "text": [
            "Epoch [440/3000]: Train loss: 1.9127, Valid loss: 2.0085\n"
          ]
        },
        {
          "output_type": "stream",
          "name": "stderr",
          "text": [
            "Epoch [441/3000]: 100%|██████████| 9/9 [00:00<00:00, 93.97it/s, loss=2.04]\n"
          ]
        },
        {
          "output_type": "stream",
          "name": "stdout",
          "text": [
            "Epoch [441/3000]: Train loss: 1.9026, Valid loss: 2.5056\n"
          ]
        },
        {
          "output_type": "stream",
          "name": "stderr",
          "text": [
            "Epoch [442/3000]: 100%|██████████| 9/9 [00:00<00:00, 102.82it/s, loss=2.03]\n"
          ]
        },
        {
          "output_type": "stream",
          "name": "stdout",
          "text": [
            "Epoch [442/3000]: Train loss: 1.8938, Valid loss: 2.0304\n"
          ]
        },
        {
          "output_type": "stream",
          "name": "stderr",
          "text": [
            "Epoch [443/3000]: 100%|██████████| 9/9 [00:00<00:00, 101.23it/s, loss=2.36]\n"
          ]
        },
        {
          "output_type": "stream",
          "name": "stdout",
          "text": [
            "Epoch [443/3000]: Train loss: 1.9240, Valid loss: 2.1216\n"
          ]
        },
        {
          "output_type": "stream",
          "name": "stderr",
          "text": [
            "Epoch [444/3000]: 100%|██████████| 9/9 [00:00<00:00, 87.01it/s, loss=2.02]\n"
          ]
        },
        {
          "output_type": "stream",
          "name": "stdout",
          "text": [
            "Epoch [444/3000]: Train loss: 1.8974, Valid loss: 2.2059\n"
          ]
        },
        {
          "output_type": "stream",
          "name": "stderr",
          "text": [
            "Epoch [445/3000]: 100%|██████████| 9/9 [00:00<00:00, 84.95it/s, loss=1.74]\n"
          ]
        },
        {
          "output_type": "stream",
          "name": "stdout",
          "text": [
            "Epoch [445/3000]: Train loss: 1.9152, Valid loss: 2.0096\n"
          ]
        },
        {
          "output_type": "stream",
          "name": "stderr",
          "text": [
            "Epoch [446/3000]: 100%|██████████| 9/9 [00:00<00:00, 103.12it/s, loss=2.45]\n"
          ]
        },
        {
          "output_type": "stream",
          "name": "stdout",
          "text": [
            "Epoch [446/3000]: Train loss: 1.9239, Valid loss: 1.8169\n",
            "Saving model with loss 1.817...\n"
          ]
        },
        {
          "output_type": "stream",
          "name": "stderr",
          "text": [
            "Epoch [447/3000]: 100%|██████████| 9/9 [00:00<00:00, 93.17it/s, loss=1.56]\n"
          ]
        },
        {
          "output_type": "stream",
          "name": "stdout",
          "text": [
            "Epoch [447/3000]: Train loss: 1.8657, Valid loss: 2.2640\n"
          ]
        },
        {
          "output_type": "stream",
          "name": "stderr",
          "text": [
            "Epoch [448/3000]: 100%|██████████| 9/9 [00:00<00:00, 78.42it/s, loss=1.83]\n"
          ]
        },
        {
          "output_type": "stream",
          "name": "stdout",
          "text": [
            "Epoch [448/3000]: Train loss: 1.8765, Valid loss: 1.9243\n"
          ]
        },
        {
          "output_type": "stream",
          "name": "stderr",
          "text": [
            "Epoch [449/3000]: 100%|██████████| 9/9 [00:00<00:00, 83.44it/s, loss=1.76]\n"
          ]
        },
        {
          "output_type": "stream",
          "name": "stdout",
          "text": [
            "Epoch [449/3000]: Train loss: 1.8634, Valid loss: 2.1970\n"
          ]
        },
        {
          "output_type": "stream",
          "name": "stderr",
          "text": [
            "Epoch [450/3000]: 100%|██████████| 9/9 [00:00<00:00, 84.43it/s, loss=1.7]\n"
          ]
        },
        {
          "output_type": "stream",
          "name": "stdout",
          "text": [
            "Epoch [450/3000]: Train loss: 1.8554, Valid loss: 2.5519\n"
          ]
        },
        {
          "output_type": "stream",
          "name": "stderr",
          "text": [
            "Epoch [451/3000]: 100%|██████████| 9/9 [00:00<00:00, 103.83it/s, loss=2.37]\n"
          ]
        },
        {
          "output_type": "stream",
          "name": "stdout",
          "text": [
            "Epoch [451/3000]: Train loss: 1.9166, Valid loss: 2.3914\n"
          ]
        },
        {
          "output_type": "stream",
          "name": "stderr",
          "text": [
            "Epoch [452/3000]: 100%|██████████| 9/9 [00:00<00:00, 97.69it/s, loss=2.64]\n"
          ]
        },
        {
          "output_type": "stream",
          "name": "stdout",
          "text": [
            "Epoch [452/3000]: Train loss: 1.9226, Valid loss: 1.9951\n"
          ]
        },
        {
          "output_type": "stream",
          "name": "stderr",
          "text": [
            "Epoch [453/3000]: 100%|██████████| 9/9 [00:00<00:00, 91.49it/s, loss=2.32]\n"
          ]
        },
        {
          "output_type": "stream",
          "name": "stdout",
          "text": [
            "Epoch [453/3000]: Train loss: 1.8953, Valid loss: 2.3504\n"
          ]
        },
        {
          "output_type": "stream",
          "name": "stderr",
          "text": [
            "Epoch [454/3000]: 100%|██████████| 9/9 [00:00<00:00, 93.45it/s, loss=2.38]\n"
          ]
        },
        {
          "output_type": "stream",
          "name": "stdout",
          "text": [
            "Epoch [454/3000]: Train loss: 1.9055, Valid loss: 2.2373\n"
          ]
        },
        {
          "output_type": "stream",
          "name": "stderr",
          "text": [
            "Epoch [455/3000]: 100%|██████████| 9/9 [00:00<00:00, 106.82it/s, loss=1.93]\n"
          ]
        },
        {
          "output_type": "stream",
          "name": "stdout",
          "text": [
            "Epoch [455/3000]: Train loss: 1.8811, Valid loss: 2.3735\n"
          ]
        },
        {
          "output_type": "stream",
          "name": "stderr",
          "text": [
            "Epoch [456/3000]: 100%|██████████| 9/9 [00:00<00:00, 97.08it/s, loss=1.75]\n"
          ]
        },
        {
          "output_type": "stream",
          "name": "stdout",
          "text": [
            "Epoch [456/3000]: Train loss: 1.8590, Valid loss: 1.9177\n"
          ]
        },
        {
          "output_type": "stream",
          "name": "stderr",
          "text": [
            "Epoch [457/3000]: 100%|██████████| 9/9 [00:00<00:00, 93.69it/s, loss=2.2]\n"
          ]
        },
        {
          "output_type": "stream",
          "name": "stdout",
          "text": [
            "Epoch [457/3000]: Train loss: 1.8821, Valid loss: 2.0009\n"
          ]
        },
        {
          "output_type": "stream",
          "name": "stderr",
          "text": [
            "Epoch [458/3000]: 100%|██████████| 9/9 [00:00<00:00, 85.54it/s, loss=1.94]\n"
          ]
        },
        {
          "output_type": "stream",
          "name": "stdout",
          "text": [
            "Epoch [458/3000]: Train loss: 1.9061, Valid loss: 2.2522\n"
          ]
        },
        {
          "output_type": "stream",
          "name": "stderr",
          "text": [
            "Epoch [459/3000]: 100%|██████████| 9/9 [00:00<00:00, 84.47it/s, loss=2.06]\n"
          ]
        },
        {
          "output_type": "stream",
          "name": "stdout",
          "text": [
            "Epoch [459/3000]: Train loss: 1.8712, Valid loss: 2.1675\n"
          ]
        },
        {
          "output_type": "stream",
          "name": "stderr",
          "text": [
            "Epoch [460/3000]: 100%|██████████| 9/9 [00:00<00:00, 97.58it/s, loss=1.16]\n"
          ]
        },
        {
          "output_type": "stream",
          "name": "stdout",
          "text": [
            "Epoch [460/3000]: Train loss: 1.8062, Valid loss: 1.9363\n"
          ]
        },
        {
          "output_type": "stream",
          "name": "stderr",
          "text": [
            "Epoch [461/3000]: 100%|██████████| 9/9 [00:00<00:00, 98.98it/s, loss=1.81]\n"
          ]
        },
        {
          "output_type": "stream",
          "name": "stdout",
          "text": [
            "Epoch [461/3000]: Train loss: 1.8356, Valid loss: 1.9476\n"
          ]
        },
        {
          "output_type": "stream",
          "name": "stderr",
          "text": [
            "Epoch [462/3000]: 100%|██████████| 9/9 [00:00<00:00, 78.51it/s, loss=1.6]\n"
          ]
        },
        {
          "output_type": "stream",
          "name": "stdout",
          "text": [
            "Epoch [462/3000]: Train loss: 1.8221, Valid loss: 2.0832\n"
          ]
        },
        {
          "output_type": "stream",
          "name": "stderr",
          "text": [
            "Epoch [463/3000]: 100%|██████████| 9/9 [00:00<00:00, 91.07it/s, loss=2.39]\n"
          ]
        },
        {
          "output_type": "stream",
          "name": "stdout",
          "text": [
            "Epoch [463/3000]: Train loss: 1.8743, Valid loss: 1.9485\n"
          ]
        },
        {
          "output_type": "stream",
          "name": "stderr",
          "text": [
            "Epoch [464/3000]: 100%|██████████| 9/9 [00:00<00:00, 86.63it/s, loss=2.13]\n"
          ]
        },
        {
          "output_type": "stream",
          "name": "stdout",
          "text": [
            "Epoch [464/3000]: Train loss: 1.8557, Valid loss: 2.2097\n"
          ]
        },
        {
          "output_type": "stream",
          "name": "stderr",
          "text": [
            "Epoch [465/3000]: 100%|██████████| 9/9 [00:00<00:00, 111.06it/s, loss=1.51]\n"
          ]
        },
        {
          "output_type": "stream",
          "name": "stdout",
          "text": [
            "Epoch [465/3000]: Train loss: 1.8582, Valid loss: 1.9119\n"
          ]
        },
        {
          "output_type": "stream",
          "name": "stderr",
          "text": [
            "Epoch [466/3000]: 100%|██████████| 9/9 [00:00<00:00, 95.96it/s, loss=2.28]\n"
          ]
        },
        {
          "output_type": "stream",
          "name": "stdout",
          "text": [
            "Epoch [466/3000]: Train loss: 1.8721, Valid loss: 2.4421\n"
          ]
        },
        {
          "output_type": "stream",
          "name": "stderr",
          "text": [
            "Epoch [467/3000]: 100%|██████████| 9/9 [00:00<00:00, 71.30it/s, loss=1.92]\n"
          ]
        },
        {
          "output_type": "stream",
          "name": "stdout",
          "text": [
            "Epoch [467/3000]: Train loss: 1.8581, Valid loss: 1.9774\n"
          ]
        },
        {
          "output_type": "stream",
          "name": "stderr",
          "text": [
            "Epoch [468/3000]: 100%|██████████| 9/9 [00:00<00:00, 83.21it/s, loss=1.96]\n"
          ]
        },
        {
          "output_type": "stream",
          "name": "stdout",
          "text": [
            "Epoch [468/3000]: Train loss: 1.8354, Valid loss: 1.9454\n"
          ]
        },
        {
          "output_type": "stream",
          "name": "stderr",
          "text": [
            "Epoch [469/3000]: 100%|██████████| 9/9 [00:00<00:00, 99.33it/s, loss=1.6]\n"
          ]
        },
        {
          "output_type": "stream",
          "name": "stdout",
          "text": [
            "Epoch [469/3000]: Train loss: 1.8175, Valid loss: 2.1748\n"
          ]
        },
        {
          "output_type": "stream",
          "name": "stderr",
          "text": [
            "Epoch [470/3000]: 100%|██████████| 9/9 [00:00<00:00, 99.84it/s, loss=1.62]\n"
          ]
        },
        {
          "output_type": "stream",
          "name": "stdout",
          "text": [
            "Epoch [470/3000]: Train loss: 1.8196, Valid loss: 1.7429\n",
            "Saving model with loss 1.743...\n"
          ]
        },
        {
          "output_type": "stream",
          "name": "stderr",
          "text": [
            "Epoch [471/3000]: 100%|██████████| 9/9 [00:00<00:00, 92.46it/s, loss=1.97]\n"
          ]
        },
        {
          "output_type": "stream",
          "name": "stdout",
          "text": [
            "Epoch [471/3000]: Train loss: 1.8308, Valid loss: 2.4991\n"
          ]
        },
        {
          "output_type": "stream",
          "name": "stderr",
          "text": [
            "Epoch [472/3000]: 100%|██████████| 9/9 [00:00<00:00, 94.75it/s, loss=1.93]\n"
          ]
        },
        {
          "output_type": "stream",
          "name": "stdout",
          "text": [
            "Epoch [472/3000]: Train loss: 1.8261, Valid loss: 1.9854\n"
          ]
        },
        {
          "output_type": "stream",
          "name": "stderr",
          "text": [
            "Epoch [473/3000]: 100%|██████████| 9/9 [00:00<00:00, 85.03it/s, loss=1.84]\n"
          ]
        },
        {
          "output_type": "stream",
          "name": "stdout",
          "text": [
            "Epoch [473/3000]: Train loss: 1.8202, Valid loss: 2.1312\n"
          ]
        },
        {
          "output_type": "stream",
          "name": "stderr",
          "text": [
            "Epoch [474/3000]: 100%|██████████| 9/9 [00:00<00:00, 93.48it/s, loss=2.48]\n"
          ]
        },
        {
          "output_type": "stream",
          "name": "stdout",
          "text": [
            "Epoch [474/3000]: Train loss: 1.8531, Valid loss: 2.5608\n"
          ]
        },
        {
          "output_type": "stream",
          "name": "stderr",
          "text": [
            "Epoch [475/3000]: 100%|██████████| 9/9 [00:00<00:00, 110.28it/s, loss=1.68]\n"
          ]
        },
        {
          "output_type": "stream",
          "name": "stdout",
          "text": [
            "Epoch [475/3000]: Train loss: 1.8047, Valid loss: 1.9920\n"
          ]
        },
        {
          "output_type": "stream",
          "name": "stderr",
          "text": [
            "Epoch [476/3000]: 100%|██████████| 9/9 [00:00<00:00, 90.41it/s, loss=1.62]\n"
          ]
        },
        {
          "output_type": "stream",
          "name": "stdout",
          "text": [
            "Epoch [476/3000]: Train loss: 1.8017, Valid loss: 2.0540\n"
          ]
        },
        {
          "output_type": "stream",
          "name": "stderr",
          "text": [
            "Epoch [477/3000]: 100%|██████████| 9/9 [00:00<00:00, 92.55it/s, loss=1.2]\n"
          ]
        },
        {
          "output_type": "stream",
          "name": "stdout",
          "text": [
            "Epoch [477/3000]: Train loss: 1.7850, Valid loss: 2.1554\n"
          ]
        },
        {
          "output_type": "stream",
          "name": "stderr",
          "text": [
            "Epoch [478/3000]: 100%|██████████| 9/9 [00:00<00:00, 102.80it/s, loss=1.55]\n"
          ]
        },
        {
          "output_type": "stream",
          "name": "stdout",
          "text": [
            "Epoch [478/3000]: Train loss: 1.7912, Valid loss: 2.0200\n"
          ]
        },
        {
          "output_type": "stream",
          "name": "stderr",
          "text": [
            "Epoch [479/3000]: 100%|██████████| 9/9 [00:00<00:00, 109.04it/s, loss=1.9]\n"
          ]
        },
        {
          "output_type": "stream",
          "name": "stdout",
          "text": [
            "Epoch [479/3000]: Train loss: 1.8153, Valid loss: 1.9550\n"
          ]
        },
        {
          "output_type": "stream",
          "name": "stderr",
          "text": [
            "Epoch [480/3000]: 100%|██████████| 9/9 [00:00<00:00, 110.64it/s, loss=1.5]\n"
          ]
        },
        {
          "output_type": "stream",
          "name": "stdout",
          "text": [
            "Epoch [480/3000]: Train loss: 1.7986, Valid loss: 2.6970\n"
          ]
        },
        {
          "output_type": "stream",
          "name": "stderr",
          "text": [
            "Epoch [481/3000]: 100%|██████████| 9/9 [00:00<00:00, 101.06it/s, loss=3.19]\n"
          ]
        },
        {
          "output_type": "stream",
          "name": "stdout",
          "text": [
            "Epoch [481/3000]: Train loss: 1.9032, Valid loss: 2.0423\n"
          ]
        },
        {
          "output_type": "stream",
          "name": "stderr",
          "text": [
            "Epoch [482/3000]: 100%|██████████| 9/9 [00:00<00:00, 97.38it/s, loss=2.01]\n"
          ]
        },
        {
          "output_type": "stream",
          "name": "stdout",
          "text": [
            "Epoch [482/3000]: Train loss: 1.8262, Valid loss: 2.0272\n"
          ]
        },
        {
          "output_type": "stream",
          "name": "stderr",
          "text": [
            "Epoch [483/3000]: 100%|██████████| 9/9 [00:00<00:00, 117.96it/s, loss=1.63]\n"
          ]
        },
        {
          "output_type": "stream",
          "name": "stdout",
          "text": [
            "Epoch [483/3000]: Train loss: 1.7993, Valid loss: 2.0327\n"
          ]
        },
        {
          "output_type": "stream",
          "name": "stderr",
          "text": [
            "Epoch [484/3000]: 100%|██████████| 9/9 [00:00<00:00, 98.12it/s, loss=1.86]\n"
          ]
        },
        {
          "output_type": "stream",
          "name": "stdout",
          "text": [
            "Epoch [484/3000]: Train loss: 1.8138, Valid loss: 2.4800\n"
          ]
        },
        {
          "output_type": "stream",
          "name": "stderr",
          "text": [
            "Epoch [485/3000]: 100%|██████████| 9/9 [00:00<00:00, 115.57it/s, loss=1.82]\n"
          ]
        },
        {
          "output_type": "stream",
          "name": "stdout",
          "text": [
            "Epoch [485/3000]: Train loss: 1.8037, Valid loss: 2.0895\n"
          ]
        },
        {
          "output_type": "stream",
          "name": "stderr",
          "text": [
            "Epoch [486/3000]: 100%|██████████| 9/9 [00:00<00:00, 94.36it/s, loss=1.84]\n"
          ]
        },
        {
          "output_type": "stream",
          "name": "stdout",
          "text": [
            "Epoch [486/3000]: Train loss: 1.7895, Valid loss: 1.7986\n"
          ]
        },
        {
          "output_type": "stream",
          "name": "stderr",
          "text": [
            "Epoch [487/3000]: 100%|██████████| 9/9 [00:00<00:00, 83.30it/s, loss=1.78]\n"
          ]
        },
        {
          "output_type": "stream",
          "name": "stdout",
          "text": [
            "Epoch [487/3000]: Train loss: 1.7875, Valid loss: 1.9838\n"
          ]
        },
        {
          "output_type": "stream",
          "name": "stderr",
          "text": [
            "Epoch [488/3000]: 100%|██████████| 9/9 [00:00<00:00, 100.54it/s, loss=1.52]\n"
          ]
        },
        {
          "output_type": "stream",
          "name": "stdout",
          "text": [
            "Epoch [488/3000]: Train loss: 1.7661, Valid loss: 2.4361\n"
          ]
        },
        {
          "output_type": "stream",
          "name": "stderr",
          "text": [
            "Epoch [489/3000]: 100%|██████████| 9/9 [00:00<00:00, 84.42it/s, loss=2.09]\n"
          ]
        },
        {
          "output_type": "stream",
          "name": "stdout",
          "text": [
            "Epoch [489/3000]: Train loss: 1.8008, Valid loss: 2.6984\n"
          ]
        },
        {
          "output_type": "stream",
          "name": "stderr",
          "text": [
            "Epoch [490/3000]: 100%|██████████| 9/9 [00:00<00:00, 108.48it/s, loss=1.61]\n"
          ]
        },
        {
          "output_type": "stream",
          "name": "stdout",
          "text": [
            "Epoch [490/3000]: Train loss: 1.7721, Valid loss: 2.0409\n"
          ]
        },
        {
          "output_type": "stream",
          "name": "stderr",
          "text": [
            "Epoch [491/3000]: 100%|██████████| 9/9 [00:00<00:00, 106.31it/s, loss=1.9]\n"
          ]
        },
        {
          "output_type": "stream",
          "name": "stdout",
          "text": [
            "Epoch [491/3000]: Train loss: 1.7894, Valid loss: 2.4030\n"
          ]
        },
        {
          "output_type": "stream",
          "name": "stderr",
          "text": [
            "Epoch [492/3000]: 100%|██████████| 9/9 [00:00<00:00, 116.27it/s, loss=1.46]\n"
          ]
        },
        {
          "output_type": "stream",
          "name": "stdout",
          "text": [
            "Epoch [492/3000]: Train loss: 1.7852, Valid loss: 2.1930\n"
          ]
        },
        {
          "output_type": "stream",
          "name": "stderr",
          "text": [
            "Epoch [493/3000]: 100%|██████████| 9/9 [00:00<00:00, 117.25it/s, loss=2.35]\n"
          ]
        },
        {
          "output_type": "stream",
          "name": "stdout",
          "text": [
            "Epoch [493/3000]: Train loss: 1.8695, Valid loss: 2.4454\n"
          ]
        },
        {
          "output_type": "stream",
          "name": "stderr",
          "text": [
            "Epoch [494/3000]: 100%|██████████| 9/9 [00:00<00:00, 110.42it/s, loss=1.69]\n"
          ]
        },
        {
          "output_type": "stream",
          "name": "stdout",
          "text": [
            "Epoch [494/3000]: Train loss: 1.7785, Valid loss: 2.1800\n"
          ]
        },
        {
          "output_type": "stream",
          "name": "stderr",
          "text": [
            "Epoch [495/3000]: 100%|██████████| 9/9 [00:00<00:00, 98.18it/s, loss=2.1]\n"
          ]
        },
        {
          "output_type": "stream",
          "name": "stdout",
          "text": [
            "Epoch [495/3000]: Train loss: 1.7901, Valid loss: 1.9241\n"
          ]
        },
        {
          "output_type": "stream",
          "name": "stderr",
          "text": [
            "Epoch [496/3000]: 100%|██████████| 9/9 [00:00<00:00, 91.75it/s, loss=2.01]\n"
          ]
        },
        {
          "output_type": "stream",
          "name": "stdout",
          "text": [
            "Epoch [496/3000]: Train loss: 1.7873, Valid loss: 2.0751\n"
          ]
        },
        {
          "output_type": "stream",
          "name": "stderr",
          "text": [
            "Epoch [497/3000]: 100%|██████████| 9/9 [00:00<00:00, 99.67it/s, loss=1.63]\n"
          ]
        },
        {
          "output_type": "stream",
          "name": "stdout",
          "text": [
            "Epoch [497/3000]: Train loss: 1.7563, Valid loss: 2.7393\n"
          ]
        },
        {
          "output_type": "stream",
          "name": "stderr",
          "text": [
            "Epoch [498/3000]: 100%|██████████| 9/9 [00:00<00:00, 116.44it/s, loss=1.97]\n"
          ]
        },
        {
          "output_type": "stream",
          "name": "stdout",
          "text": [
            "Epoch [498/3000]: Train loss: 1.7831, Valid loss: 1.7710\n"
          ]
        },
        {
          "output_type": "stream",
          "name": "stderr",
          "text": [
            "Epoch [499/3000]: 100%|██████████| 9/9 [00:00<00:00, 86.26it/s, loss=1.58]\n"
          ]
        },
        {
          "output_type": "stream",
          "name": "stdout",
          "text": [
            "Epoch [499/3000]: Train loss: 1.7550, Valid loss: 2.5409\n"
          ]
        },
        {
          "output_type": "stream",
          "name": "stderr",
          "text": [
            "Epoch [500/3000]: 100%|██████████| 9/9 [00:00<00:00, 93.33it/s, loss=2.06]\n"
          ]
        },
        {
          "output_type": "stream",
          "name": "stdout",
          "text": [
            "Epoch [500/3000]: Train loss: 1.7805, Valid loss: 2.0882\n"
          ]
        },
        {
          "output_type": "stream",
          "name": "stderr",
          "text": [
            "Epoch [501/3000]: 100%|██████████| 9/9 [00:00<00:00, 94.88it/s, loss=2.23]\n"
          ]
        },
        {
          "output_type": "stream",
          "name": "stdout",
          "text": [
            "Epoch [501/3000]: Train loss: 1.8007, Valid loss: 1.9441\n"
          ]
        },
        {
          "output_type": "stream",
          "name": "stderr",
          "text": [
            "Epoch [502/3000]: 100%|██████████| 9/9 [00:00<00:00, 93.50it/s, loss=1.75]\n"
          ]
        },
        {
          "output_type": "stream",
          "name": "stdout",
          "text": [
            "Epoch [502/3000]: Train loss: 1.7794, Valid loss: 2.0595\n"
          ]
        },
        {
          "output_type": "stream",
          "name": "stderr",
          "text": [
            "Epoch [503/3000]: 100%|██████████| 9/9 [00:00<00:00, 82.08it/s, loss=2.09]\n"
          ]
        },
        {
          "output_type": "stream",
          "name": "stdout",
          "text": [
            "Epoch [503/3000]: Train loss: 1.8096, Valid loss: 2.0376\n"
          ]
        },
        {
          "output_type": "stream",
          "name": "stderr",
          "text": [
            "Epoch [504/3000]: 100%|██████████| 9/9 [00:00<00:00, 97.35it/s, loss=1.92]\n"
          ]
        },
        {
          "output_type": "stream",
          "name": "stdout",
          "text": [
            "Epoch [504/3000]: Train loss: 1.7961, Valid loss: 1.7551\n"
          ]
        },
        {
          "output_type": "stream",
          "name": "stderr",
          "text": [
            "Epoch [505/3000]: 100%|██████████| 9/9 [00:00<00:00, 90.99it/s, loss=1.55]\n"
          ]
        },
        {
          "output_type": "stream",
          "name": "stdout",
          "text": [
            "Epoch [505/3000]: Train loss: 1.7705, Valid loss: 1.9673\n"
          ]
        },
        {
          "output_type": "stream",
          "name": "stderr",
          "text": [
            "Epoch [506/3000]: 100%|██████████| 9/9 [00:00<00:00, 83.80it/s, loss=2.08]\n"
          ]
        },
        {
          "output_type": "stream",
          "name": "stdout",
          "text": [
            "Epoch [506/3000]: Train loss: 1.7990, Valid loss: 1.7736\n"
          ]
        },
        {
          "output_type": "stream",
          "name": "stderr",
          "text": [
            "Epoch [507/3000]: 100%|██████████| 9/9 [00:00<00:00, 93.64it/s, loss=2.07]\n"
          ]
        },
        {
          "output_type": "stream",
          "name": "stdout",
          "text": [
            "Epoch [507/3000]: Train loss: 1.7770, Valid loss: 1.7951\n"
          ]
        },
        {
          "output_type": "stream",
          "name": "stderr",
          "text": [
            "Epoch [508/3000]: 100%|██████████| 9/9 [00:00<00:00, 98.56it/s, loss=1.41]\n"
          ]
        },
        {
          "output_type": "stream",
          "name": "stdout",
          "text": [
            "Epoch [508/3000]: Train loss: 1.7500, Valid loss: 2.0156\n"
          ]
        },
        {
          "output_type": "stream",
          "name": "stderr",
          "text": [
            "Epoch [509/3000]: 100%|██████████| 9/9 [00:00<00:00, 34.13it/s, loss=1.66]\n"
          ]
        },
        {
          "output_type": "stream",
          "name": "stdout",
          "text": [
            "Epoch [509/3000]: Train loss: 1.7567, Valid loss: 2.2512\n"
          ]
        },
        {
          "output_type": "stream",
          "name": "stderr",
          "text": [
            "Epoch [510/3000]: 100%|██████████| 9/9 [00:00<00:00, 109.71it/s, loss=1.59]\n"
          ]
        },
        {
          "output_type": "stream",
          "name": "stdout",
          "text": [
            "Epoch [510/3000]: Train loss: 1.7572, Valid loss: 2.0778\n"
          ]
        },
        {
          "output_type": "stream",
          "name": "stderr",
          "text": [
            "Epoch [511/3000]: 100%|██████████| 9/9 [00:00<00:00, 109.98it/s, loss=2.57]\n"
          ]
        },
        {
          "output_type": "stream",
          "name": "stdout",
          "text": [
            "Epoch [511/3000]: Train loss: 1.8192, Valid loss: 1.7966\n"
          ]
        },
        {
          "output_type": "stream",
          "name": "stderr",
          "text": [
            "Epoch [512/3000]: 100%|██████████| 9/9 [00:00<00:00, 111.00it/s, loss=1.93]\n"
          ]
        },
        {
          "output_type": "stream",
          "name": "stdout",
          "text": [
            "Epoch [512/3000]: Train loss: 1.7717, Valid loss: 2.1213\n"
          ]
        },
        {
          "output_type": "stream",
          "name": "stderr",
          "text": [
            "Epoch [513/3000]: 100%|██████████| 9/9 [00:00<00:00, 109.79it/s, loss=2.36]\n"
          ]
        },
        {
          "output_type": "stream",
          "name": "stdout",
          "text": [
            "Epoch [513/3000]: Train loss: 1.7850, Valid loss: 2.0588\n"
          ]
        },
        {
          "output_type": "stream",
          "name": "stderr",
          "text": [
            "Epoch [514/3000]: 100%|██████████| 9/9 [00:00<00:00, 104.12it/s, loss=1.59]\n"
          ]
        },
        {
          "output_type": "stream",
          "name": "stdout",
          "text": [
            "Epoch [514/3000]: Train loss: 1.7268, Valid loss: 2.1653\n"
          ]
        },
        {
          "output_type": "stream",
          "name": "stderr",
          "text": [
            "Epoch [515/3000]: 100%|██████████| 9/9 [00:00<00:00, 112.81it/s, loss=1.18]\n"
          ]
        },
        {
          "output_type": "stream",
          "name": "stdout",
          "text": [
            "Epoch [515/3000]: Train loss: 1.7052, Valid loss: 1.8351\n"
          ]
        },
        {
          "output_type": "stream",
          "name": "stderr",
          "text": [
            "Epoch [516/3000]: 100%|██████████| 9/9 [00:00<00:00, 102.63it/s, loss=1.75]\n"
          ]
        },
        {
          "output_type": "stream",
          "name": "stdout",
          "text": [
            "Epoch [516/3000]: Train loss: 1.7321, Valid loss: 2.0974\n"
          ]
        },
        {
          "output_type": "stream",
          "name": "stderr",
          "text": [
            "Epoch [517/3000]: 100%|██████████| 9/9 [00:00<00:00, 94.78it/s, loss=1.44]\n"
          ]
        },
        {
          "output_type": "stream",
          "name": "stdout",
          "text": [
            "Epoch [517/3000]: Train loss: 1.7282, Valid loss: 1.7888\n"
          ]
        },
        {
          "output_type": "stream",
          "name": "stderr",
          "text": [
            "Epoch [518/3000]: 100%|██████████| 9/9 [00:00<00:00, 76.79it/s, loss=1.79]\n"
          ]
        },
        {
          "output_type": "stream",
          "name": "stdout",
          "text": [
            "Epoch [518/3000]: Train loss: 1.7331, Valid loss: 2.1137\n"
          ]
        },
        {
          "output_type": "stream",
          "name": "stderr",
          "text": [
            "Epoch [519/3000]: 100%|██████████| 9/9 [00:00<00:00, 96.43it/s, loss=1.98]\n"
          ]
        },
        {
          "output_type": "stream",
          "name": "stdout",
          "text": [
            "Epoch [519/3000]: Train loss: 1.7467, Valid loss: 2.1257\n"
          ]
        },
        {
          "output_type": "stream",
          "name": "stderr",
          "text": [
            "Epoch [520/3000]: 100%|██████████| 9/9 [00:00<00:00, 94.69it/s, loss=1.72]\n"
          ]
        },
        {
          "output_type": "stream",
          "name": "stdout",
          "text": [
            "Epoch [520/3000]: Train loss: 1.7871, Valid loss: 1.8503\n"
          ]
        },
        {
          "output_type": "stream",
          "name": "stderr",
          "text": [
            "Epoch [521/3000]: 100%|██████████| 9/9 [00:00<00:00, 93.68it/s, loss=1.72]\n"
          ]
        },
        {
          "output_type": "stream",
          "name": "stdout",
          "text": [
            "Epoch [521/3000]: Train loss: 1.7611, Valid loss: 2.0332\n"
          ]
        },
        {
          "output_type": "stream",
          "name": "stderr",
          "text": [
            "Epoch [522/3000]: 100%|██████████| 9/9 [00:00<00:00, 97.06it/s, loss=1.86]\n"
          ]
        },
        {
          "output_type": "stream",
          "name": "stdout",
          "text": [
            "Epoch [522/3000]: Train loss: 1.7866, Valid loss: 1.9680\n"
          ]
        },
        {
          "output_type": "stream",
          "name": "stderr",
          "text": [
            "Epoch [523/3000]: 100%|██████████| 9/9 [00:00<00:00, 96.17it/s, loss=1.72]\n"
          ]
        },
        {
          "output_type": "stream",
          "name": "stdout",
          "text": [
            "Epoch [523/3000]: Train loss: 1.7930, Valid loss: 2.0633\n"
          ]
        },
        {
          "output_type": "stream",
          "name": "stderr",
          "text": [
            "Epoch [524/3000]: 100%|██████████| 9/9 [00:00<00:00, 94.95it/s, loss=2.06]\n"
          ]
        },
        {
          "output_type": "stream",
          "name": "stdout",
          "text": [
            "Epoch [524/3000]: Train loss: 1.8179, Valid loss: 2.0463\n"
          ]
        },
        {
          "output_type": "stream",
          "name": "stderr",
          "text": [
            "Epoch [525/3000]: 100%|██████████| 9/9 [00:00<00:00, 90.45it/s, loss=2.06]\n"
          ]
        },
        {
          "output_type": "stream",
          "name": "stdout",
          "text": [
            "Epoch [525/3000]: Train loss: 1.7797, Valid loss: 2.4158\n"
          ]
        },
        {
          "output_type": "stream",
          "name": "stderr",
          "text": [
            "Epoch [526/3000]: 100%|██████████| 9/9 [00:00<00:00, 92.02it/s, loss=1.75]\n"
          ]
        },
        {
          "output_type": "stream",
          "name": "stdout",
          "text": [
            "Epoch [526/3000]: Train loss: 1.7293, Valid loss: 1.8187\n"
          ]
        },
        {
          "output_type": "stream",
          "name": "stderr",
          "text": [
            "Epoch [527/3000]: 100%|██████████| 9/9 [00:00<00:00, 82.35it/s, loss=1.56]\n"
          ]
        },
        {
          "output_type": "stream",
          "name": "stdout",
          "text": [
            "Epoch [527/3000]: Train loss: 1.7260, Valid loss: 2.1864\n"
          ]
        },
        {
          "output_type": "stream",
          "name": "stderr",
          "text": [
            "Epoch [528/3000]: 100%|██████████| 9/9 [00:00<00:00, 75.39it/s, loss=1.52]\n"
          ]
        },
        {
          "output_type": "stream",
          "name": "stdout",
          "text": [
            "Epoch [528/3000]: Train loss: 1.7269, Valid loss: 2.0937\n"
          ]
        },
        {
          "output_type": "stream",
          "name": "stderr",
          "text": [
            "Epoch [529/3000]: 100%|██████████| 9/9 [00:00<00:00, 74.53it/s, loss=2.28]\n"
          ]
        },
        {
          "output_type": "stream",
          "name": "stdout",
          "text": [
            "Epoch [529/3000]: Train loss: 1.7516, Valid loss: 1.9890\n"
          ]
        },
        {
          "output_type": "stream",
          "name": "stderr",
          "text": [
            "Epoch [530/3000]: 100%|██████████| 9/9 [00:00<00:00, 91.53it/s, loss=1.4]\n"
          ]
        },
        {
          "output_type": "stream",
          "name": "stdout",
          "text": [
            "Epoch [530/3000]: Train loss: 1.6970, Valid loss: 2.1728\n"
          ]
        },
        {
          "output_type": "stream",
          "name": "stderr",
          "text": [
            "Epoch [531/3000]: 100%|██████████| 9/9 [00:00<00:00, 110.41it/s, loss=1.71]\n"
          ]
        },
        {
          "output_type": "stream",
          "name": "stdout",
          "text": [
            "Epoch [531/3000]: Train loss: 1.7159, Valid loss: 1.9827\n"
          ]
        },
        {
          "output_type": "stream",
          "name": "stderr",
          "text": [
            "Epoch [532/3000]: 100%|██████████| 9/9 [00:00<00:00, 77.50it/s, loss=2.02]\n"
          ]
        },
        {
          "output_type": "stream",
          "name": "stdout",
          "text": [
            "Epoch [532/3000]: Train loss: 1.7304, Valid loss: 1.7690\n"
          ]
        },
        {
          "output_type": "stream",
          "name": "stderr",
          "text": [
            "Epoch [533/3000]: 100%|██████████| 9/9 [00:00<00:00, 94.80it/s, loss=1.49]\n"
          ]
        },
        {
          "output_type": "stream",
          "name": "stdout",
          "text": [
            "Epoch [533/3000]: Train loss: 1.6969, Valid loss: 1.9086\n"
          ]
        },
        {
          "output_type": "stream",
          "name": "stderr",
          "text": [
            "Epoch [534/3000]: 100%|██████████| 9/9 [00:00<00:00, 94.91it/s, loss=1.59]\n"
          ]
        },
        {
          "output_type": "stream",
          "name": "stdout",
          "text": [
            "Epoch [534/3000]: Train loss: 1.6986, Valid loss: 1.8261\n"
          ]
        },
        {
          "output_type": "stream",
          "name": "stderr",
          "text": [
            "Epoch [535/3000]: 100%|██████████| 9/9 [00:00<00:00, 100.76it/s, loss=1.59]\n"
          ]
        },
        {
          "output_type": "stream",
          "name": "stdout",
          "text": [
            "Epoch [535/3000]: Train loss: 1.7081, Valid loss: 1.7394\n",
            "Saving model with loss 1.739...\n"
          ]
        },
        {
          "output_type": "stream",
          "name": "stderr",
          "text": [
            "Epoch [536/3000]: 100%|██████████| 9/9 [00:00<00:00, 101.93it/s, loss=2.01]\n"
          ]
        },
        {
          "output_type": "stream",
          "name": "stdout",
          "text": [
            "Epoch [536/3000]: Train loss: 1.7408, Valid loss: 2.2202\n"
          ]
        },
        {
          "output_type": "stream",
          "name": "stderr",
          "text": [
            "Epoch [537/3000]: 100%|██████████| 9/9 [00:00<00:00, 76.77it/s, loss=1.94]\n"
          ]
        },
        {
          "output_type": "stream",
          "name": "stdout",
          "text": [
            "Epoch [537/3000]: Train loss: 1.7289, Valid loss: 2.0213\n"
          ]
        },
        {
          "output_type": "stream",
          "name": "stderr",
          "text": [
            "Epoch [538/3000]: 100%|██████████| 9/9 [00:00<00:00, 99.15it/s, loss=1.81]\n"
          ]
        },
        {
          "output_type": "stream",
          "name": "stdout",
          "text": [
            "Epoch [538/3000]: Train loss: 1.7371, Valid loss: 2.1095\n"
          ]
        },
        {
          "output_type": "stream",
          "name": "stderr",
          "text": [
            "Epoch [539/3000]: 100%|██████████| 9/9 [00:00<00:00, 94.26it/s, loss=2.03]\n"
          ]
        },
        {
          "output_type": "stream",
          "name": "stdout",
          "text": [
            "Epoch [539/3000]: Train loss: 1.7221, Valid loss: 1.7873\n"
          ]
        },
        {
          "output_type": "stream",
          "name": "stderr",
          "text": [
            "Epoch [540/3000]: 100%|██████████| 9/9 [00:00<00:00, 104.05it/s, loss=1.62]\n"
          ]
        },
        {
          "output_type": "stream",
          "name": "stdout",
          "text": [
            "Epoch [540/3000]: Train loss: 1.6937, Valid loss: 2.0246\n"
          ]
        },
        {
          "output_type": "stream",
          "name": "stderr",
          "text": [
            "Epoch [541/3000]: 100%|██████████| 9/9 [00:00<00:00, 83.56it/s, loss=1.57]\n"
          ]
        },
        {
          "output_type": "stream",
          "name": "stdout",
          "text": [
            "Epoch [541/3000]: Train loss: 1.6854, Valid loss: 2.2974\n"
          ]
        },
        {
          "output_type": "stream",
          "name": "stderr",
          "text": [
            "Epoch [542/3000]: 100%|██████████| 9/9 [00:00<00:00, 91.76it/s, loss=1.53]\n"
          ]
        },
        {
          "output_type": "stream",
          "name": "stdout",
          "text": [
            "Epoch [542/3000]: Train loss: 1.6772, Valid loss: 1.8745\n"
          ]
        },
        {
          "output_type": "stream",
          "name": "stderr",
          "text": [
            "Epoch [543/3000]: 100%|██████████| 9/9 [00:00<00:00, 75.78it/s, loss=1.76]\n"
          ]
        },
        {
          "output_type": "stream",
          "name": "stdout",
          "text": [
            "Epoch [543/3000]: Train loss: 1.7110, Valid loss: 1.9864\n"
          ]
        },
        {
          "output_type": "stream",
          "name": "stderr",
          "text": [
            "Epoch [544/3000]: 100%|██████████| 9/9 [00:00<00:00, 85.18it/s, loss=2.08]\n"
          ]
        },
        {
          "output_type": "stream",
          "name": "stdout",
          "text": [
            "Epoch [544/3000]: Train loss: 1.7110, Valid loss: 1.9640\n"
          ]
        },
        {
          "output_type": "stream",
          "name": "stderr",
          "text": [
            "Epoch [545/3000]: 100%|██████████| 9/9 [00:00<00:00, 79.30it/s, loss=1.63]\n"
          ]
        },
        {
          "output_type": "stream",
          "name": "stdout",
          "text": [
            "Epoch [545/3000]: Train loss: 1.6831, Valid loss: 2.1490\n"
          ]
        },
        {
          "output_type": "stream",
          "name": "stderr",
          "text": [
            "Epoch [546/3000]: 100%|██████████| 9/9 [00:00<00:00, 77.58it/s, loss=1.65]\n"
          ]
        },
        {
          "output_type": "stream",
          "name": "stdout",
          "text": [
            "Epoch [546/3000]: Train loss: 1.7004, Valid loss: 2.1357\n"
          ]
        },
        {
          "output_type": "stream",
          "name": "stderr",
          "text": [
            "Epoch [547/3000]: 100%|██████████| 9/9 [00:00<00:00, 91.34it/s, loss=1.52]\n"
          ]
        },
        {
          "output_type": "stream",
          "name": "stdout",
          "text": [
            "Epoch [547/3000]: Train loss: 1.6883, Valid loss: 1.9206\n"
          ]
        },
        {
          "output_type": "stream",
          "name": "stderr",
          "text": [
            "Epoch [548/3000]: 100%|██████████| 9/9 [00:00<00:00, 100.99it/s, loss=1.12]\n"
          ]
        },
        {
          "output_type": "stream",
          "name": "stdout",
          "text": [
            "Epoch [548/3000]: Train loss: 1.6522, Valid loss: 1.8988\n"
          ]
        },
        {
          "output_type": "stream",
          "name": "stderr",
          "text": [
            "Epoch [549/3000]: 100%|██████████| 9/9 [00:00<00:00, 94.72it/s, loss=1.82]\n"
          ]
        },
        {
          "output_type": "stream",
          "name": "stdout",
          "text": [
            "Epoch [549/3000]: Train loss: 1.7017, Valid loss: 2.6301\n"
          ]
        },
        {
          "output_type": "stream",
          "name": "stderr",
          "text": [
            "Epoch [550/3000]: 100%|██████████| 9/9 [00:00<00:00, 92.78it/s, loss=1.45]\n"
          ]
        },
        {
          "output_type": "stream",
          "name": "stdout",
          "text": [
            "Epoch [550/3000]: Train loss: 1.6690, Valid loss: 2.2878\n"
          ]
        },
        {
          "output_type": "stream",
          "name": "stderr",
          "text": [
            "Epoch [551/3000]: 100%|██████████| 9/9 [00:00<00:00, 118.38it/s, loss=1.59]\n"
          ]
        },
        {
          "output_type": "stream",
          "name": "stdout",
          "text": [
            "Epoch [551/3000]: Train loss: 1.6733, Valid loss: 1.9804\n"
          ]
        },
        {
          "output_type": "stream",
          "name": "stderr",
          "text": [
            "Epoch [552/3000]: 100%|██████████| 9/9 [00:00<00:00, 112.46it/s, loss=1.84]\n"
          ]
        },
        {
          "output_type": "stream",
          "name": "stdout",
          "text": [
            "Epoch [552/3000]: Train loss: 1.6895, Valid loss: 2.1158\n"
          ]
        },
        {
          "output_type": "stream",
          "name": "stderr",
          "text": [
            "Epoch [553/3000]: 100%|██████████| 9/9 [00:00<00:00, 84.38it/s, loss=2.03]\n"
          ]
        },
        {
          "output_type": "stream",
          "name": "stdout",
          "text": [
            "Epoch [553/3000]: Train loss: 1.7018, Valid loss: 1.7766\n"
          ]
        },
        {
          "output_type": "stream",
          "name": "stderr",
          "text": [
            "Epoch [554/3000]: 100%|██████████| 9/9 [00:00<00:00, 95.62it/s, loss=1.88]\n"
          ]
        },
        {
          "output_type": "stream",
          "name": "stdout",
          "text": [
            "Epoch [554/3000]: Train loss: 1.6807, Valid loss: 1.6869\n",
            "Saving model with loss 1.687...\n"
          ]
        },
        {
          "output_type": "stream",
          "name": "stderr",
          "text": [
            "Epoch [555/3000]: 100%|██████████| 9/9 [00:00<00:00, 74.98it/s, loss=1.45]\n"
          ]
        },
        {
          "output_type": "stream",
          "name": "stdout",
          "text": [
            "Epoch [555/3000]: Train loss: 1.6587, Valid loss: 2.1170\n"
          ]
        },
        {
          "output_type": "stream",
          "name": "stderr",
          "text": [
            "Epoch [556/3000]: 100%|██████████| 9/9 [00:00<00:00, 110.20it/s, loss=2.06]\n"
          ]
        },
        {
          "output_type": "stream",
          "name": "stdout",
          "text": [
            "Epoch [556/3000]: Train loss: 1.6953, Valid loss: 1.9243\n"
          ]
        },
        {
          "output_type": "stream",
          "name": "stderr",
          "text": [
            "Epoch [557/3000]: 100%|██████████| 9/9 [00:00<00:00, 103.96it/s, loss=1.57]\n"
          ]
        },
        {
          "output_type": "stream",
          "name": "stdout",
          "text": [
            "Epoch [557/3000]: Train loss: 1.6587, Valid loss: 2.0525\n"
          ]
        },
        {
          "output_type": "stream",
          "name": "stderr",
          "text": [
            "Epoch [558/3000]: 100%|██████████| 9/9 [00:00<00:00, 107.48it/s, loss=1.42]\n"
          ]
        },
        {
          "output_type": "stream",
          "name": "stdout",
          "text": [
            "Epoch [558/3000]: Train loss: 1.6522, Valid loss: 2.1154\n"
          ]
        },
        {
          "output_type": "stream",
          "name": "stderr",
          "text": [
            "Epoch [559/3000]: 100%|██████████| 9/9 [00:00<00:00, 76.82it/s, loss=1.77]\n"
          ]
        },
        {
          "output_type": "stream",
          "name": "stdout",
          "text": [
            "Epoch [559/3000]: Train loss: 1.6691, Valid loss: 1.6564\n",
            "Saving model with loss 1.656...\n"
          ]
        },
        {
          "output_type": "stream",
          "name": "stderr",
          "text": [
            "Epoch [560/3000]: 100%|██████████| 9/9 [00:00<00:00, 98.72it/s, loss=2.11]\n"
          ]
        },
        {
          "output_type": "stream",
          "name": "stdout",
          "text": [
            "Epoch [560/3000]: Train loss: 1.6889, Valid loss: 1.7883\n"
          ]
        },
        {
          "output_type": "stream",
          "name": "stderr",
          "text": [
            "Epoch [561/3000]: 100%|██████████| 9/9 [00:00<00:00, 83.22it/s, loss=1.43]\n"
          ]
        },
        {
          "output_type": "stream",
          "name": "stdout",
          "text": [
            "Epoch [561/3000]: Train loss: 1.6433, Valid loss: 1.9833\n"
          ]
        },
        {
          "output_type": "stream",
          "name": "stderr",
          "text": [
            "Epoch [562/3000]: 100%|██████████| 9/9 [00:00<00:00, 100.10it/s, loss=1.81]\n"
          ]
        },
        {
          "output_type": "stream",
          "name": "stdout",
          "text": [
            "Epoch [562/3000]: Train loss: 1.6680, Valid loss: 1.8490\n"
          ]
        },
        {
          "output_type": "stream",
          "name": "stderr",
          "text": [
            "Epoch [563/3000]: 100%|██████████| 9/9 [00:00<00:00, 115.71it/s, loss=1.24]"
          ]
        },
        {
          "output_type": "stream",
          "name": "stdout",
          "text": [
            "Epoch [563/3000]: Train loss: 1.6379, Valid loss: 2.0495"
          ]
        },
        {
          "output_type": "stream",
          "name": "stderr",
          "text": [
            "\n"
          ]
        },
        {
          "output_type": "stream",
          "name": "stdout",
          "text": [
            "\n"
          ]
        },
        {
          "output_type": "stream",
          "name": "stderr",
          "text": [
            "Epoch [564/3000]: 100%|██████████| 9/9 [00:00<00:00, 96.47it/s, loss=1.73]\n"
          ]
        },
        {
          "output_type": "stream",
          "name": "stdout",
          "text": [
            "Epoch [564/3000]: Train loss: 1.6714, Valid loss: 2.0173\n"
          ]
        },
        {
          "output_type": "stream",
          "name": "stderr",
          "text": [
            "Epoch [565/3000]: 100%|██████████| 9/9 [00:00<00:00, 103.86it/s, loss=1.75]\n"
          ]
        },
        {
          "output_type": "stream",
          "name": "stdout",
          "text": [
            "Epoch [565/3000]: Train loss: 1.6927, Valid loss: 1.9152\n"
          ]
        },
        {
          "output_type": "stream",
          "name": "stderr",
          "text": [
            "Epoch [566/3000]: 100%|██████████| 9/9 [00:00<00:00, 104.23it/s, loss=1.82]\n"
          ]
        },
        {
          "output_type": "stream",
          "name": "stdout",
          "text": [
            "Epoch [566/3000]: Train loss: 1.6890, Valid loss: 1.9652\n"
          ]
        },
        {
          "output_type": "stream",
          "name": "stderr",
          "text": [
            "Epoch [567/3000]: 100%|██████████| 9/9 [00:00<00:00, 111.67it/s, loss=1.28]\n"
          ]
        },
        {
          "output_type": "stream",
          "name": "stdout",
          "text": [
            "Epoch [567/3000]: Train loss: 1.6306, Valid loss: 1.7451\n"
          ]
        },
        {
          "output_type": "stream",
          "name": "stderr",
          "text": [
            "Epoch [568/3000]: 100%|██████████| 9/9 [00:00<00:00, 81.23it/s, loss=1.6]\n"
          ]
        },
        {
          "output_type": "stream",
          "name": "stdout",
          "text": [
            "Epoch [568/3000]: Train loss: 1.6436, Valid loss: 1.9992\n"
          ]
        },
        {
          "output_type": "stream",
          "name": "stderr",
          "text": [
            "Epoch [569/3000]: 100%|██████████| 9/9 [00:00<00:00, 88.12it/s, loss=2.29]\n"
          ]
        },
        {
          "output_type": "stream",
          "name": "stdout",
          "text": [
            "Epoch [569/3000]: Train loss: 1.6897, Valid loss: 1.7114\n"
          ]
        },
        {
          "output_type": "stream",
          "name": "stderr",
          "text": [
            "Epoch [570/3000]: 100%|██████████| 9/9 [00:00<00:00, 95.82it/s, loss=2.34]\n"
          ]
        },
        {
          "output_type": "stream",
          "name": "stdout",
          "text": [
            "Epoch [570/3000]: Train loss: 1.6891, Valid loss: 1.9583\n"
          ]
        },
        {
          "output_type": "stream",
          "name": "stderr",
          "text": [
            "Epoch [571/3000]: 100%|██████████| 9/9 [00:00<00:00, 108.12it/s, loss=1.72]\n"
          ]
        },
        {
          "output_type": "stream",
          "name": "stdout",
          "text": [
            "Epoch [571/3000]: Train loss: 1.6486, Valid loss: 2.1767\n"
          ]
        },
        {
          "output_type": "stream",
          "name": "stderr",
          "text": [
            "Epoch [572/3000]: 100%|██████████| 9/9 [00:00<00:00, 92.64it/s, loss=1.56]\n"
          ]
        },
        {
          "output_type": "stream",
          "name": "stdout",
          "text": [
            "Epoch [572/3000]: Train loss: 1.6371, Valid loss: 1.9030\n"
          ]
        },
        {
          "output_type": "stream",
          "name": "stderr",
          "text": [
            "Epoch [573/3000]: 100%|██████████| 9/9 [00:00<00:00, 70.27it/s, loss=1.84]\n"
          ]
        },
        {
          "output_type": "stream",
          "name": "stdout",
          "text": [
            "Epoch [573/3000]: Train loss: 1.6504, Valid loss: 1.9574\n"
          ]
        },
        {
          "output_type": "stream",
          "name": "stderr",
          "text": [
            "Epoch [574/3000]: 100%|██████████| 9/9 [00:00<00:00, 86.56it/s, loss=1.36]\n"
          ]
        },
        {
          "output_type": "stream",
          "name": "stdout",
          "text": [
            "Epoch [574/3000]: Train loss: 1.6309, Valid loss: 1.9571\n"
          ]
        },
        {
          "output_type": "stream",
          "name": "stderr",
          "text": [
            "Epoch [575/3000]: 100%|██████████| 9/9 [00:00<00:00, 99.61it/s, loss=1.36]\n"
          ]
        },
        {
          "output_type": "stream",
          "name": "stdout",
          "text": [
            "Epoch [575/3000]: Train loss: 1.6243, Valid loss: 1.7510\n"
          ]
        },
        {
          "output_type": "stream",
          "name": "stderr",
          "text": [
            "Epoch [576/3000]: 100%|██████████| 9/9 [00:00<00:00, 101.95it/s, loss=1.71]\n"
          ]
        },
        {
          "output_type": "stream",
          "name": "stdout",
          "text": [
            "Epoch [576/3000]: Train loss: 1.6393, Valid loss: 1.9390\n"
          ]
        },
        {
          "output_type": "stream",
          "name": "stderr",
          "text": [
            "Epoch [577/3000]: 100%|██████████| 9/9 [00:00<00:00, 99.78it/s, loss=1.71]\n"
          ]
        },
        {
          "output_type": "stream",
          "name": "stdout",
          "text": [
            "Epoch [577/3000]: Train loss: 1.6387, Valid loss: 1.8982\n"
          ]
        },
        {
          "output_type": "stream",
          "name": "stderr",
          "text": [
            "Epoch [578/3000]: 100%|██████████| 9/9 [00:00<00:00, 90.07it/s, loss=1.42]\n"
          ]
        },
        {
          "output_type": "stream",
          "name": "stdout",
          "text": [
            "Epoch [578/3000]: Train loss: 1.6241, Valid loss: 2.0941\n"
          ]
        },
        {
          "output_type": "stream",
          "name": "stderr",
          "text": [
            "Epoch [579/3000]: 100%|██████████| 9/9 [00:00<00:00, 86.77it/s, loss=2.07]\n"
          ]
        },
        {
          "output_type": "stream",
          "name": "stdout",
          "text": [
            "Epoch [579/3000]: Train loss: 1.6603, Valid loss: 1.7953\n"
          ]
        },
        {
          "output_type": "stream",
          "name": "stderr",
          "text": [
            "Epoch [580/3000]: 100%|██████████| 9/9 [00:00<00:00, 116.04it/s, loss=1.74]\n"
          ]
        },
        {
          "output_type": "stream",
          "name": "stdout",
          "text": [
            "Epoch [580/3000]: Train loss: 1.6486, Valid loss: 1.9106\n"
          ]
        },
        {
          "output_type": "stream",
          "name": "stderr",
          "text": [
            "Epoch [581/3000]: 100%|██████████| 9/9 [00:00<00:00, 116.02it/s, loss=1.51]\n"
          ]
        },
        {
          "output_type": "stream",
          "name": "stdout",
          "text": [
            "Epoch [581/3000]: Train loss: 1.6453, Valid loss: 2.0215\n"
          ]
        },
        {
          "output_type": "stream",
          "name": "stderr",
          "text": [
            "Epoch [582/3000]: 100%|██████████| 9/9 [00:00<00:00, 113.54it/s, loss=1.61]\n"
          ]
        },
        {
          "output_type": "stream",
          "name": "stdout",
          "text": [
            "Epoch [582/3000]: Train loss: 1.6417, Valid loss: 1.8588\n"
          ]
        },
        {
          "output_type": "stream",
          "name": "stderr",
          "text": [
            "Epoch [583/3000]: 100%|██████████| 9/9 [00:00<00:00, 117.55it/s, loss=1.71]\n"
          ]
        },
        {
          "output_type": "stream",
          "name": "stdout",
          "text": [
            "Epoch [583/3000]: Train loss: 1.6461, Valid loss: 1.8132\n"
          ]
        },
        {
          "output_type": "stream",
          "name": "stderr",
          "text": [
            "Epoch [584/3000]: 100%|██████████| 9/9 [00:00<00:00, 118.01it/s, loss=1.76]\n"
          ]
        },
        {
          "output_type": "stream",
          "name": "stdout",
          "text": [
            "Epoch [584/3000]: Train loss: 1.6653, Valid loss: 2.1315\n"
          ]
        },
        {
          "output_type": "stream",
          "name": "stderr",
          "text": [
            "Epoch [585/3000]: 100%|██████████| 9/9 [00:00<00:00, 118.05it/s, loss=1.67]\n"
          ]
        },
        {
          "output_type": "stream",
          "name": "stdout",
          "text": [
            "Epoch [585/3000]: Train loss: 1.6246, Valid loss: 1.8828\n"
          ]
        },
        {
          "output_type": "stream",
          "name": "stderr",
          "text": [
            "Epoch [586/3000]: 100%|██████████| 9/9 [00:00<00:00, 117.55it/s, loss=2.02]\n"
          ]
        },
        {
          "output_type": "stream",
          "name": "stdout",
          "text": [
            "Epoch [586/3000]: Train loss: 1.6586, Valid loss: 2.1351\n"
          ]
        },
        {
          "output_type": "stream",
          "name": "stderr",
          "text": [
            "Epoch [587/3000]: 100%|██████████| 9/9 [00:00<00:00, 96.01it/s, loss=2.18]\n"
          ]
        },
        {
          "output_type": "stream",
          "name": "stdout",
          "text": [
            "Epoch [587/3000]: Train loss: 1.6551, Valid loss: 2.0274\n"
          ]
        },
        {
          "output_type": "stream",
          "name": "stderr",
          "text": [
            "Epoch [588/3000]: 100%|██████████| 9/9 [00:00<00:00, 99.36it/s, loss=1.76]\n"
          ]
        },
        {
          "output_type": "stream",
          "name": "stdout",
          "text": [
            "Epoch [588/3000]: Train loss: 1.6330, Valid loss: 2.1136\n"
          ]
        },
        {
          "output_type": "stream",
          "name": "stderr",
          "text": [
            "Epoch [589/3000]: 100%|██████████| 9/9 [00:00<00:00, 86.55it/s, loss=1.7]\n"
          ]
        },
        {
          "output_type": "stream",
          "name": "stdout",
          "text": [
            "Epoch [589/3000]: Train loss: 1.6216, Valid loss: 2.2130\n"
          ]
        },
        {
          "output_type": "stream",
          "name": "stderr",
          "text": [
            "Epoch [590/3000]: 100%|██████████| 9/9 [00:00<00:00, 82.59it/s, loss=1.23]\n"
          ]
        },
        {
          "output_type": "stream",
          "name": "stdout",
          "text": [
            "Epoch [590/3000]: Train loss: 1.5891, Valid loss: 2.1118\n"
          ]
        },
        {
          "output_type": "stream",
          "name": "stderr",
          "text": [
            "Epoch [591/3000]: 100%|██████████| 9/9 [00:00<00:00, 85.78it/s, loss=1.83]\n"
          ]
        },
        {
          "output_type": "stream",
          "name": "stdout",
          "text": [
            "Epoch [591/3000]: Train loss: 1.6443, Valid loss: 2.1946\n"
          ]
        },
        {
          "output_type": "stream",
          "name": "stderr",
          "text": [
            "Epoch [592/3000]: 100%|██████████| 9/9 [00:00<00:00, 98.93it/s, loss=2.12]\n"
          ]
        },
        {
          "output_type": "stream",
          "name": "stdout",
          "text": [
            "Epoch [592/3000]: Train loss: 1.6435, Valid loss: 1.7962\n"
          ]
        },
        {
          "output_type": "stream",
          "name": "stderr",
          "text": [
            "Epoch [593/3000]: 100%|██████████| 9/9 [00:00<00:00, 98.47it/s, loss=1.66]\n"
          ]
        },
        {
          "output_type": "stream",
          "name": "stdout",
          "text": [
            "Epoch [593/3000]: Train loss: 1.6218, Valid loss: 1.6860\n"
          ]
        },
        {
          "output_type": "stream",
          "name": "stderr",
          "text": [
            "Epoch [594/3000]: 100%|██████████| 9/9 [00:00<00:00, 100.68it/s, loss=1.57]\n"
          ]
        },
        {
          "output_type": "stream",
          "name": "stdout",
          "text": [
            "Epoch [594/3000]: Train loss: 1.6233, Valid loss: 2.3107\n"
          ]
        },
        {
          "output_type": "stream",
          "name": "stderr",
          "text": [
            "Epoch [595/3000]: 100%|██████████| 9/9 [00:00<00:00, 104.43it/s, loss=1.33]\n"
          ]
        },
        {
          "output_type": "stream",
          "name": "stdout",
          "text": [
            "Epoch [595/3000]: Train loss: 1.5994, Valid loss: 1.9097\n"
          ]
        },
        {
          "output_type": "stream",
          "name": "stderr",
          "text": [
            "Epoch [596/3000]: 100%|██████████| 9/9 [00:00<00:00, 90.14it/s, loss=2.46]\n"
          ]
        },
        {
          "output_type": "stream",
          "name": "stdout",
          "text": [
            "Epoch [596/3000]: Train loss: 1.6701, Valid loss: 1.8033\n"
          ]
        },
        {
          "output_type": "stream",
          "name": "stderr",
          "text": [
            "Epoch [597/3000]: 100%|██████████| 9/9 [00:00<00:00, 97.63it/s, loss=2.28]\n"
          ]
        },
        {
          "output_type": "stream",
          "name": "stdout",
          "text": [
            "Epoch [597/3000]: Train loss: 1.6704, Valid loss: 2.1302\n"
          ]
        },
        {
          "output_type": "stream",
          "name": "stderr",
          "text": [
            "Epoch [598/3000]: 100%|██████████| 9/9 [00:00<00:00, 92.04it/s, loss=1.01]\n"
          ]
        },
        {
          "output_type": "stream",
          "name": "stdout",
          "text": [
            "Epoch [598/3000]: Train loss: 1.5838, Valid loss: 2.0031\n"
          ]
        },
        {
          "output_type": "stream",
          "name": "stderr",
          "text": [
            "Epoch [599/3000]: 100%|██████████| 9/9 [00:00<00:00, 84.17it/s, loss=1.47]\n"
          ]
        },
        {
          "output_type": "stream",
          "name": "stdout",
          "text": [
            "Epoch [599/3000]: Train loss: 1.6469, Valid loss: 1.6638\n"
          ]
        },
        {
          "output_type": "stream",
          "name": "stderr",
          "text": [
            "Epoch [600/3000]: 100%|██████████| 9/9 [00:00<00:00, 88.09it/s, loss=1.48]\n"
          ]
        },
        {
          "output_type": "stream",
          "name": "stdout",
          "text": [
            "Epoch [600/3000]: Train loss: 1.6179, Valid loss: 2.2519\n"
          ]
        },
        {
          "output_type": "stream",
          "name": "stderr",
          "text": [
            "Epoch [601/3000]: 100%|██████████| 9/9 [00:00<00:00, 102.60it/s, loss=1.55]\n"
          ]
        },
        {
          "output_type": "stream",
          "name": "stdout",
          "text": [
            "Epoch [601/3000]: Train loss: 1.6102, Valid loss: 2.0896\n"
          ]
        },
        {
          "output_type": "stream",
          "name": "stderr",
          "text": [
            "Epoch [602/3000]: 100%|██████████| 9/9 [00:00<00:00, 95.30it/s, loss=1.46]\n"
          ]
        },
        {
          "output_type": "stream",
          "name": "stdout",
          "text": [
            "Epoch [602/3000]: Train loss: 1.6009, Valid loss: 1.7197\n"
          ]
        },
        {
          "output_type": "stream",
          "name": "stderr",
          "text": [
            "Epoch [603/3000]: 100%|██████████| 9/9 [00:00<00:00, 80.40it/s, loss=1.73]\n"
          ]
        },
        {
          "output_type": "stream",
          "name": "stdout",
          "text": [
            "Epoch [603/3000]: Train loss: 1.6112, Valid loss: 2.2273\n"
          ]
        },
        {
          "output_type": "stream",
          "name": "stderr",
          "text": [
            "Epoch [604/3000]: 100%|██████████| 9/9 [00:00<00:00, 122.55it/s, loss=1.79]\n"
          ]
        },
        {
          "output_type": "stream",
          "name": "stdout",
          "text": [
            "Epoch [604/3000]: Train loss: 1.6130, Valid loss: 2.0903\n"
          ]
        },
        {
          "output_type": "stream",
          "name": "stderr",
          "text": [
            "Epoch [605/3000]: 100%|██████████| 9/9 [00:00<00:00, 110.31it/s, loss=1.44]\n"
          ]
        },
        {
          "output_type": "stream",
          "name": "stdout",
          "text": [
            "Epoch [605/3000]: Train loss: 1.5882, Valid loss: 1.9342\n"
          ]
        },
        {
          "output_type": "stream",
          "name": "stderr",
          "text": [
            "Epoch [606/3000]: 100%|██████████| 9/9 [00:00<00:00, 77.20it/s, loss=1.64]\n"
          ]
        },
        {
          "output_type": "stream",
          "name": "stdout",
          "text": [
            "Epoch [606/3000]: Train loss: 1.5975, Valid loss: 1.6229\n",
            "Saving model with loss 1.623...\n"
          ]
        },
        {
          "output_type": "stream",
          "name": "stderr",
          "text": [
            "Epoch [607/3000]: 100%|██████████| 9/9 [00:00<00:00, 100.41it/s, loss=1.87]\n"
          ]
        },
        {
          "output_type": "stream",
          "name": "stdout",
          "text": [
            "Epoch [607/3000]: Train loss: 1.6114, Valid loss: 2.3039\n"
          ]
        },
        {
          "output_type": "stream",
          "name": "stderr",
          "text": [
            "Epoch [608/3000]: 100%|██████████| 9/9 [00:00<00:00, 75.61it/s, loss=1.69]\n"
          ]
        },
        {
          "output_type": "stream",
          "name": "stdout",
          "text": [
            "Epoch [608/3000]: Train loss: 1.6007, Valid loss: 1.8608\n"
          ]
        },
        {
          "output_type": "stream",
          "name": "stderr",
          "text": [
            "Epoch [609/3000]: 100%|██████████| 9/9 [00:00<00:00, 103.65it/s, loss=1.56]\n"
          ]
        },
        {
          "output_type": "stream",
          "name": "stdout",
          "text": [
            "Epoch [609/3000]: Train loss: 1.5906, Valid loss: 1.7170\n"
          ]
        },
        {
          "output_type": "stream",
          "name": "stderr",
          "text": [
            "Epoch [610/3000]: 100%|██████████| 9/9 [00:00<00:00, 99.62it/s, loss=1.46]\n"
          ]
        },
        {
          "output_type": "stream",
          "name": "stdout",
          "text": [
            "Epoch [610/3000]: Train loss: 1.5791, Valid loss: 2.0033\n"
          ]
        },
        {
          "output_type": "stream",
          "name": "stderr",
          "text": [
            "Epoch [611/3000]: 100%|██████████| 9/9 [00:00<00:00, 99.71it/s, loss=1.22]\n"
          ]
        },
        {
          "output_type": "stream",
          "name": "stdout",
          "text": [
            "Epoch [611/3000]: Train loss: 1.5585, Valid loss: 1.6639\n"
          ]
        },
        {
          "output_type": "stream",
          "name": "stderr",
          "text": [
            "Epoch [612/3000]: 100%|██████████| 9/9 [00:00<00:00, 76.21it/s, loss=1.41]\n"
          ]
        },
        {
          "output_type": "stream",
          "name": "stdout",
          "text": [
            "Epoch [612/3000]: Train loss: 1.5750, Valid loss: 1.8845\n"
          ]
        },
        {
          "output_type": "stream",
          "name": "stderr",
          "text": [
            "Epoch [613/3000]: 100%|██████████| 9/9 [00:00<00:00, 67.56it/s, loss=1.41]\n"
          ]
        },
        {
          "output_type": "stream",
          "name": "stdout",
          "text": [
            "Epoch [613/3000]: Train loss: 1.5773, Valid loss: 2.1419\n"
          ]
        },
        {
          "output_type": "stream",
          "name": "stderr",
          "text": [
            "Epoch [614/3000]: 100%|██████████| 9/9 [00:00<00:00, 81.69it/s, loss=1.87]\n"
          ]
        },
        {
          "output_type": "stream",
          "name": "stdout",
          "text": [
            "Epoch [614/3000]: Train loss: 1.5980, Valid loss: 2.0696\n"
          ]
        },
        {
          "output_type": "stream",
          "name": "stderr",
          "text": [
            "Epoch [615/3000]: 100%|██████████| 9/9 [00:00<00:00, 100.75it/s, loss=1.63]\n"
          ]
        },
        {
          "output_type": "stream",
          "name": "stdout",
          "text": [
            "Epoch [615/3000]: Train loss: 1.5835, Valid loss: 1.9969\n"
          ]
        },
        {
          "output_type": "stream",
          "name": "stderr",
          "text": [
            "Epoch [616/3000]: 100%|██████████| 9/9 [00:00<00:00, 106.09it/s, loss=1.27]\n"
          ]
        },
        {
          "output_type": "stream",
          "name": "stdout",
          "text": [
            "Epoch [616/3000]: Train loss: 1.5648, Valid loss: 2.1887\n"
          ]
        },
        {
          "output_type": "stream",
          "name": "stderr",
          "text": [
            "Epoch [617/3000]: 100%|██████████| 9/9 [00:00<00:00, 106.54it/s, loss=1.95]\n"
          ]
        },
        {
          "output_type": "stream",
          "name": "stdout",
          "text": [
            "Epoch [617/3000]: Train loss: 1.6136, Valid loss: 2.1783\n"
          ]
        },
        {
          "output_type": "stream",
          "name": "stderr",
          "text": [
            "Epoch [618/3000]: 100%|██████████| 9/9 [00:00<00:00, 94.55it/s, loss=1.55]\n"
          ]
        },
        {
          "output_type": "stream",
          "name": "stdout",
          "text": [
            "Epoch [618/3000]: Train loss: 1.5768, Valid loss: 2.3745\n"
          ]
        },
        {
          "output_type": "stream",
          "name": "stderr",
          "text": [
            "Epoch [619/3000]: 100%|██████████| 9/9 [00:00<00:00, 92.63it/s, loss=1.82]\n"
          ]
        },
        {
          "output_type": "stream",
          "name": "stdout",
          "text": [
            "Epoch [619/3000]: Train loss: 1.5903, Valid loss: 1.9712\n"
          ]
        },
        {
          "output_type": "stream",
          "name": "stderr",
          "text": [
            "Epoch [620/3000]: 100%|██████████| 9/9 [00:00<00:00, 101.57it/s, loss=1.34]\n"
          ]
        },
        {
          "output_type": "stream",
          "name": "stdout",
          "text": [
            "Epoch [620/3000]: Train loss: 1.5718, Valid loss: 1.8767\n"
          ]
        },
        {
          "output_type": "stream",
          "name": "stderr",
          "text": [
            "Epoch [621/3000]: 100%|██████████| 9/9 [00:00<00:00, 98.11it/s, loss=1.96]\n"
          ]
        },
        {
          "output_type": "stream",
          "name": "stdout",
          "text": [
            "Epoch [621/3000]: Train loss: 1.6149, Valid loss: 1.7177\n"
          ]
        },
        {
          "output_type": "stream",
          "name": "stderr",
          "text": [
            "Epoch [622/3000]: 100%|██████████| 9/9 [00:00<00:00, 79.94it/s, loss=1.34]\n"
          ]
        },
        {
          "output_type": "stream",
          "name": "stdout",
          "text": [
            "Epoch [622/3000]: Train loss: 1.5649, Valid loss: 2.1665\n"
          ]
        },
        {
          "output_type": "stream",
          "name": "stderr",
          "text": [
            "Epoch [623/3000]: 100%|██████████| 9/9 [00:00<00:00, 86.19it/s, loss=1.59]\n"
          ]
        },
        {
          "output_type": "stream",
          "name": "stdout",
          "text": [
            "Epoch [623/3000]: Train loss: 1.5845, Valid loss: 1.8597\n"
          ]
        },
        {
          "output_type": "stream",
          "name": "stderr",
          "text": [
            "Epoch [624/3000]: 100%|██████████| 9/9 [00:00<00:00, 95.05it/s, loss=1.66]\n"
          ]
        },
        {
          "output_type": "stream",
          "name": "stdout",
          "text": [
            "Epoch [624/3000]: Train loss: 1.5893, Valid loss: 1.7454\n"
          ]
        },
        {
          "output_type": "stream",
          "name": "stderr",
          "text": [
            "Epoch [625/3000]: 100%|██████████| 9/9 [00:00<00:00, 92.72it/s, loss=1.68]\n"
          ]
        },
        {
          "output_type": "stream",
          "name": "stdout",
          "text": [
            "Epoch [625/3000]: Train loss: 1.5824, Valid loss: 2.2723\n"
          ]
        },
        {
          "output_type": "stream",
          "name": "stderr",
          "text": [
            "Epoch [626/3000]: 100%|██████████| 9/9 [00:00<00:00, 87.37it/s, loss=1.64]\n"
          ]
        },
        {
          "output_type": "stream",
          "name": "stdout",
          "text": [
            "Epoch [626/3000]: Train loss: 1.5748, Valid loss: 1.9975\n"
          ]
        },
        {
          "output_type": "stream",
          "name": "stderr",
          "text": [
            "Epoch [627/3000]: 100%|██████████| 9/9 [00:00<00:00, 92.01it/s, loss=1.13]\n"
          ]
        },
        {
          "output_type": "stream",
          "name": "stdout",
          "text": [
            "Epoch [627/3000]: Train loss: 1.5544, Valid loss: 1.7221\n"
          ]
        },
        {
          "output_type": "stream",
          "name": "stderr",
          "text": [
            "Epoch [628/3000]: 100%|██████████| 9/9 [00:00<00:00, 93.75it/s, loss=1.57]\n"
          ]
        },
        {
          "output_type": "stream",
          "name": "stdout",
          "text": [
            "Epoch [628/3000]: Train loss: 1.5702, Valid loss: 2.1364\n"
          ]
        },
        {
          "output_type": "stream",
          "name": "stderr",
          "text": [
            "Epoch [629/3000]: 100%|██████████| 9/9 [00:00<00:00, 74.51it/s, loss=1.37]\n"
          ]
        },
        {
          "output_type": "stream",
          "name": "stdout",
          "text": [
            "Epoch [629/3000]: Train loss: 1.5664, Valid loss: 1.8802\n"
          ]
        },
        {
          "output_type": "stream",
          "name": "stderr",
          "text": [
            "Epoch [630/3000]: 100%|██████████| 9/9 [00:00<00:00, 107.76it/s, loss=1.64]\n"
          ]
        },
        {
          "output_type": "stream",
          "name": "stdout",
          "text": [
            "Epoch [630/3000]: Train loss: 1.5738, Valid loss: 2.0834\n"
          ]
        },
        {
          "output_type": "stream",
          "name": "stderr",
          "text": [
            "Epoch [631/3000]: 100%|██████████| 9/9 [00:00<00:00, 97.35it/s, loss=2.03]\n"
          ]
        },
        {
          "output_type": "stream",
          "name": "stdout",
          "text": [
            "Epoch [631/3000]: Train loss: 1.5864, Valid loss: 2.0579\n"
          ]
        },
        {
          "output_type": "stream",
          "name": "stderr",
          "text": [
            "Epoch [632/3000]: 100%|██████████| 9/9 [00:00<00:00, 107.66it/s, loss=1.53]\n"
          ]
        },
        {
          "output_type": "stream",
          "name": "stdout",
          "text": [
            "Epoch [632/3000]: Train loss: 1.5600, Valid loss: 1.8881\n"
          ]
        },
        {
          "output_type": "stream",
          "name": "stderr",
          "text": [
            "Epoch [633/3000]: 100%|██████████| 9/9 [00:00<00:00, 105.15it/s, loss=1.6]\n"
          ]
        },
        {
          "output_type": "stream",
          "name": "stdout",
          "text": [
            "Epoch [633/3000]: Train loss: 1.5578, Valid loss: 1.8177\n"
          ]
        },
        {
          "output_type": "stream",
          "name": "stderr",
          "text": [
            "Epoch [634/3000]: 100%|██████████| 9/9 [00:00<00:00, 84.90it/s, loss=1.5]\n"
          ]
        },
        {
          "output_type": "stream",
          "name": "stdout",
          "text": [
            "Epoch [634/3000]: Train loss: 1.5478, Valid loss: 1.8382\n"
          ]
        },
        {
          "output_type": "stream",
          "name": "stderr",
          "text": [
            "Epoch [635/3000]: 100%|██████████| 9/9 [00:00<00:00, 102.39it/s, loss=1.73]\n"
          ]
        },
        {
          "output_type": "stream",
          "name": "stdout",
          "text": [
            "Epoch [635/3000]: Train loss: 1.5636, Valid loss: 1.9343\n"
          ]
        },
        {
          "output_type": "stream",
          "name": "stderr",
          "text": [
            "Epoch [636/3000]: 100%|██████████| 9/9 [00:00<00:00, 108.42it/s, loss=1.39]\n"
          ]
        },
        {
          "output_type": "stream",
          "name": "stdout",
          "text": [
            "Epoch [636/3000]: Train loss: 1.5387, Valid loss: 1.9944\n"
          ]
        },
        {
          "output_type": "stream",
          "name": "stderr",
          "text": [
            "Epoch [637/3000]: 100%|██████████| 9/9 [00:00<00:00, 102.00it/s, loss=1.65]\n"
          ]
        },
        {
          "output_type": "stream",
          "name": "stdout",
          "text": [
            "Epoch [637/3000]: Train loss: 1.5621, Valid loss: 2.1774\n"
          ]
        },
        {
          "output_type": "stream",
          "name": "stderr",
          "text": [
            "Epoch [638/3000]: 100%|██████████| 9/9 [00:00<00:00, 90.16it/s, loss=1.21]\n"
          ]
        },
        {
          "output_type": "stream",
          "name": "stdout",
          "text": [
            "Epoch [638/3000]: Train loss: 1.5442, Valid loss: 1.5684\n",
            "Saving model with loss 1.568...\n"
          ]
        },
        {
          "output_type": "stream",
          "name": "stderr",
          "text": [
            "Epoch [639/3000]: 100%|██████████| 9/9 [00:00<00:00, 87.88it/s, loss=1.61]\n"
          ]
        },
        {
          "output_type": "stream",
          "name": "stdout",
          "text": [
            "Epoch [639/3000]: Train loss: 1.5544, Valid loss: 2.0479\n"
          ]
        },
        {
          "output_type": "stream",
          "name": "stderr",
          "text": [
            "Epoch [640/3000]: 100%|██████████| 9/9 [00:00<00:00, 106.39it/s, loss=1.62]\n"
          ]
        },
        {
          "output_type": "stream",
          "name": "stdout",
          "text": [
            "Epoch [640/3000]: Train loss: 1.5792, Valid loss: 1.6619\n"
          ]
        },
        {
          "output_type": "stream",
          "name": "stderr",
          "text": [
            "Epoch [641/3000]: 100%|██████████| 9/9 [00:00<00:00, 109.70it/s, loss=1.91]\n"
          ]
        },
        {
          "output_type": "stream",
          "name": "stdout",
          "text": [
            "Epoch [641/3000]: Train loss: 1.5799, Valid loss: 2.0368\n"
          ]
        },
        {
          "output_type": "stream",
          "name": "stderr",
          "text": [
            "Epoch [642/3000]: 100%|██████████| 9/9 [00:00<00:00, 101.88it/s, loss=1.48]\n"
          ]
        },
        {
          "output_type": "stream",
          "name": "stdout",
          "text": [
            "Epoch [642/3000]: Train loss: 1.5432, Valid loss: 2.0041\n"
          ]
        },
        {
          "output_type": "stream",
          "name": "stderr",
          "text": [
            "Epoch [643/3000]: 100%|██████████| 9/9 [00:00<00:00, 102.50it/s, loss=1.37]\n"
          ]
        },
        {
          "output_type": "stream",
          "name": "stdout",
          "text": [
            "Epoch [643/3000]: Train loss: 1.5394, Valid loss: 1.6082\n"
          ]
        },
        {
          "output_type": "stream",
          "name": "stderr",
          "text": [
            "Epoch [644/3000]: 100%|██████████| 9/9 [00:00<00:00, 98.08it/s, loss=1.54]\n"
          ]
        },
        {
          "output_type": "stream",
          "name": "stdout",
          "text": [
            "Epoch [644/3000]: Train loss: 1.5404, Valid loss: 1.7441\n"
          ]
        },
        {
          "output_type": "stream",
          "name": "stderr",
          "text": [
            "Epoch [645/3000]: 100%|██████████| 9/9 [00:00<00:00, 98.15it/s, loss=2.49]\n"
          ]
        },
        {
          "output_type": "stream",
          "name": "stdout",
          "text": [
            "Epoch [645/3000]: Train loss: 1.6321, Valid loss: 1.8265\n"
          ]
        },
        {
          "output_type": "stream",
          "name": "stderr",
          "text": [
            "Epoch [646/3000]: 100%|██████████| 9/9 [00:00<00:00, 95.28it/s, loss=1.61]\n"
          ]
        },
        {
          "output_type": "stream",
          "name": "stdout",
          "text": [
            "Epoch [646/3000]: Train loss: 1.5731, Valid loss: 1.7284\n"
          ]
        },
        {
          "output_type": "stream",
          "name": "stderr",
          "text": [
            "Epoch [647/3000]: 100%|██████████| 9/9 [00:00<00:00, 85.72it/s, loss=1.11]\n"
          ]
        },
        {
          "output_type": "stream",
          "name": "stdout",
          "text": [
            "Epoch [647/3000]: Train loss: 1.5305, Valid loss: 1.8542\n"
          ]
        },
        {
          "output_type": "stream",
          "name": "stderr",
          "text": [
            "Epoch [648/3000]: 100%|██████████| 9/9 [00:00<00:00, 94.62it/s, loss=1.78]\n"
          ]
        },
        {
          "output_type": "stream",
          "name": "stdout",
          "text": [
            "Epoch [648/3000]: Train loss: 1.5478, Valid loss: 1.8217\n"
          ]
        },
        {
          "output_type": "stream",
          "name": "stderr",
          "text": [
            "Epoch [649/3000]: 100%|██████████| 9/9 [00:00<00:00, 90.50it/s, loss=1.19]\n"
          ]
        },
        {
          "output_type": "stream",
          "name": "stdout",
          "text": [
            "Epoch [649/3000]: Train loss: 1.5208, Valid loss: 1.9352\n"
          ]
        },
        {
          "output_type": "stream",
          "name": "stderr",
          "text": [
            "Epoch [650/3000]: 100%|██████████| 9/9 [00:00<00:00, 84.59it/s, loss=1.65]\n"
          ]
        },
        {
          "output_type": "stream",
          "name": "stdout",
          "text": [
            "Epoch [650/3000]: Train loss: 1.5567, Valid loss: 1.8304\n"
          ]
        },
        {
          "output_type": "stream",
          "name": "stderr",
          "text": [
            "Epoch [651/3000]: 100%|██████████| 9/9 [00:00<00:00, 97.75it/s, loss=1.52]\n"
          ]
        },
        {
          "output_type": "stream",
          "name": "stdout",
          "text": [
            "Epoch [651/3000]: Train loss: 1.5443, Valid loss: 1.7274\n"
          ]
        },
        {
          "output_type": "stream",
          "name": "stderr",
          "text": [
            "Epoch [652/3000]: 100%|██████████| 9/9 [00:00<00:00, 104.67it/s, loss=1.58]\n"
          ]
        },
        {
          "output_type": "stream",
          "name": "stdout",
          "text": [
            "Epoch [652/3000]: Train loss: 1.5336, Valid loss: 1.9326\n"
          ]
        },
        {
          "output_type": "stream",
          "name": "stderr",
          "text": [
            "Epoch [653/3000]: 100%|██████████| 9/9 [00:00<00:00, 111.95it/s, loss=1.17]\n"
          ]
        },
        {
          "output_type": "stream",
          "name": "stdout",
          "text": [
            "Epoch [653/3000]: Train loss: 1.5058, Valid loss: 1.9663\n"
          ]
        },
        {
          "output_type": "stream",
          "name": "stderr",
          "text": [
            "Epoch [654/3000]: 100%|██████████| 9/9 [00:00<00:00, 107.29it/s, loss=2.35]\n"
          ]
        },
        {
          "output_type": "stream",
          "name": "stdout",
          "text": [
            "Epoch [654/3000]: Train loss: 1.5754, Valid loss: 1.7234\n"
          ]
        },
        {
          "output_type": "stream",
          "name": "stderr",
          "text": [
            "Epoch [655/3000]: 100%|██████████| 9/9 [00:00<00:00, 103.94it/s, loss=1.96]\n"
          ]
        },
        {
          "output_type": "stream",
          "name": "stdout",
          "text": [
            "Epoch [655/3000]: Train loss: 1.5566, Valid loss: 1.6350\n"
          ]
        },
        {
          "output_type": "stream",
          "name": "stderr",
          "text": [
            "Epoch [656/3000]: 100%|██████████| 9/9 [00:00<00:00, 109.66it/s, loss=1.85]\n"
          ]
        },
        {
          "output_type": "stream",
          "name": "stdout",
          "text": [
            "Epoch [656/3000]: Train loss: 1.5558, Valid loss: 1.7086\n"
          ]
        },
        {
          "output_type": "stream",
          "name": "stderr",
          "text": [
            "Epoch [657/3000]: 100%|██████████| 9/9 [00:00<00:00, 89.43it/s, loss=1.26]\n"
          ]
        },
        {
          "output_type": "stream",
          "name": "stdout",
          "text": [
            "Epoch [657/3000]: Train loss: 1.5168, Valid loss: 1.8628\n"
          ]
        },
        {
          "output_type": "stream",
          "name": "stderr",
          "text": [
            "Epoch [658/3000]: 100%|██████████| 9/9 [00:00<00:00, 83.94it/s, loss=1.55]\n"
          ]
        },
        {
          "output_type": "stream",
          "name": "stdout",
          "text": [
            "Epoch [658/3000]: Train loss: 1.5223, Valid loss: 2.0338\n"
          ]
        },
        {
          "output_type": "stream",
          "name": "stderr",
          "text": [
            "Epoch [659/3000]: 100%|██████████| 9/9 [00:00<00:00, 91.68it/s, loss=1.59]\n"
          ]
        },
        {
          "output_type": "stream",
          "name": "stdout",
          "text": [
            "Epoch [659/3000]: Train loss: 1.5239, Valid loss: 1.7850\n"
          ]
        },
        {
          "output_type": "stream",
          "name": "stderr",
          "text": [
            "Epoch [660/3000]: 100%|██████████| 9/9 [00:00<00:00, 84.06it/s, loss=1.61]\n"
          ]
        },
        {
          "output_type": "stream",
          "name": "stdout",
          "text": [
            "Epoch [660/3000]: Train loss: 1.5320, Valid loss: 1.8041\n"
          ]
        },
        {
          "output_type": "stream",
          "name": "stderr",
          "text": [
            "Epoch [661/3000]: 100%|██████████| 9/9 [00:00<00:00, 91.51it/s, loss=2.3]\n"
          ]
        },
        {
          "output_type": "stream",
          "name": "stdout",
          "text": [
            "Epoch [661/3000]: Train loss: 1.5657, Valid loss: 1.7187\n"
          ]
        },
        {
          "output_type": "stream",
          "name": "stderr",
          "text": [
            "Epoch [662/3000]: 100%|██████████| 9/9 [00:00<00:00, 104.08it/s, loss=1.58]\n"
          ]
        },
        {
          "output_type": "stream",
          "name": "stdout",
          "text": [
            "Epoch [662/3000]: Train loss: 1.5243, Valid loss: 1.7582\n"
          ]
        },
        {
          "output_type": "stream",
          "name": "stderr",
          "text": [
            "Epoch [663/3000]: 100%|██████████| 9/9 [00:00<00:00, 85.76it/s, loss=1.71]\n"
          ]
        },
        {
          "output_type": "stream",
          "name": "stdout",
          "text": [
            "Epoch [663/3000]: Train loss: 1.5342, Valid loss: 1.8118\n"
          ]
        },
        {
          "output_type": "stream",
          "name": "stderr",
          "text": [
            "Epoch [664/3000]: 100%|██████████| 9/9 [00:00<00:00, 100.84it/s, loss=1.15]\n"
          ]
        },
        {
          "output_type": "stream",
          "name": "stdout",
          "text": [
            "Epoch [664/3000]: Train loss: 1.4919, Valid loss: 1.9728\n"
          ]
        },
        {
          "output_type": "stream",
          "name": "stderr",
          "text": [
            "Epoch [665/3000]: 100%|██████████| 9/9 [00:00<00:00, 90.06it/s, loss=1.2]\n"
          ]
        },
        {
          "output_type": "stream",
          "name": "stdout",
          "text": [
            "Epoch [665/3000]: Train loss: 1.5069, Valid loss: 1.9668\n"
          ]
        },
        {
          "output_type": "stream",
          "name": "stderr",
          "text": [
            "Epoch [666/3000]: 100%|██████████| 9/9 [00:00<00:00, 96.74it/s, loss=1.79]\n"
          ]
        },
        {
          "output_type": "stream",
          "name": "stdout",
          "text": [
            "Epoch [666/3000]: Train loss: 1.5424, Valid loss: 1.9679\n"
          ]
        },
        {
          "output_type": "stream",
          "name": "stderr",
          "text": [
            "Epoch [667/3000]: 100%|██████████| 9/9 [00:00<00:00, 93.90it/s, loss=1.42]\n"
          ]
        },
        {
          "output_type": "stream",
          "name": "stdout",
          "text": [
            "Epoch [667/3000]: Train loss: 1.4991, Valid loss: 1.9208\n"
          ]
        },
        {
          "output_type": "stream",
          "name": "stderr",
          "text": [
            "Epoch [668/3000]: 100%|██████████| 9/9 [00:00<00:00, 90.85it/s, loss=2.05]\n"
          ]
        },
        {
          "output_type": "stream",
          "name": "stdout",
          "text": [
            "Epoch [668/3000]: Train loss: 1.5420, Valid loss: 1.6718\n"
          ]
        },
        {
          "output_type": "stream",
          "name": "stderr",
          "text": [
            "Epoch [669/3000]: 100%|██████████| 9/9 [00:00<00:00, 92.38it/s, loss=1.37]\n"
          ]
        },
        {
          "output_type": "stream",
          "name": "stdout",
          "text": [
            "Epoch [669/3000]: Train loss: 1.5108, Valid loss: 1.8115\n"
          ]
        },
        {
          "output_type": "stream",
          "name": "stderr",
          "text": [
            "Epoch [670/3000]: 100%|██████████| 9/9 [00:00<00:00, 112.89it/s, loss=1.34]\n"
          ]
        },
        {
          "output_type": "stream",
          "name": "stdout",
          "text": [
            "Epoch [670/3000]: Train loss: 1.5115, Valid loss: 1.6625\n"
          ]
        },
        {
          "output_type": "stream",
          "name": "stderr",
          "text": [
            "Epoch [671/3000]: 100%|██████████| 9/9 [00:00<00:00, 82.78it/s, loss=1.14]\n"
          ]
        },
        {
          "output_type": "stream",
          "name": "stdout",
          "text": [
            "Epoch [671/3000]: Train loss: 1.4915, Valid loss: 1.7686\n"
          ]
        },
        {
          "output_type": "stream",
          "name": "stderr",
          "text": [
            "Epoch [672/3000]: 100%|██████████| 9/9 [00:00<00:00, 91.00it/s, loss=1.38]\n"
          ]
        },
        {
          "output_type": "stream",
          "name": "stdout",
          "text": [
            "Epoch [672/3000]: Train loss: 1.4980, Valid loss: 1.8047\n"
          ]
        },
        {
          "output_type": "stream",
          "name": "stderr",
          "text": [
            "Epoch [673/3000]: 100%|██████████| 9/9 [00:00<00:00, 78.56it/s, loss=1.51]\n"
          ]
        },
        {
          "output_type": "stream",
          "name": "stdout",
          "text": [
            "Epoch [673/3000]: Train loss: 1.5196, Valid loss: 1.8593\n"
          ]
        },
        {
          "output_type": "stream",
          "name": "stderr",
          "text": [
            "Epoch [674/3000]: 100%|██████████| 9/9 [00:00<00:00, 93.93it/s, loss=1.77]\n"
          ]
        },
        {
          "output_type": "stream",
          "name": "stdout",
          "text": [
            "Epoch [674/3000]: Train loss: 1.5381, Valid loss: 2.2062\n"
          ]
        },
        {
          "output_type": "stream",
          "name": "stderr",
          "text": [
            "Epoch [675/3000]: 100%|██████████| 9/9 [00:00<00:00, 113.16it/s, loss=1.48]\n"
          ]
        },
        {
          "output_type": "stream",
          "name": "stdout",
          "text": [
            "Epoch [675/3000]: Train loss: 1.5057, Valid loss: 1.9551\n"
          ]
        },
        {
          "output_type": "stream",
          "name": "stderr",
          "text": [
            "Epoch [676/3000]: 100%|██████████| 9/9 [00:00<00:00, 94.77it/s, loss=2.11]\n"
          ]
        },
        {
          "output_type": "stream",
          "name": "stdout",
          "text": [
            "Epoch [676/3000]: Train loss: 1.5483, Valid loss: 1.6032\n"
          ]
        },
        {
          "output_type": "stream",
          "name": "stderr",
          "text": [
            "Epoch [677/3000]: 100%|██████████| 9/9 [00:00<00:00, 107.25it/s, loss=1.38]\n"
          ]
        },
        {
          "output_type": "stream",
          "name": "stdout",
          "text": [
            "Epoch [677/3000]: Train loss: 1.4937, Valid loss: 2.1559\n"
          ]
        },
        {
          "output_type": "stream",
          "name": "stderr",
          "text": [
            "Epoch [678/3000]: 100%|██████████| 9/9 [00:00<00:00, 79.47it/s, loss=1.47]\n"
          ]
        },
        {
          "output_type": "stream",
          "name": "stdout",
          "text": [
            "Epoch [678/3000]: Train loss: 1.4978, Valid loss: 1.6109\n"
          ]
        },
        {
          "output_type": "stream",
          "name": "stderr",
          "text": [
            "Epoch [679/3000]: 100%|██████████| 9/9 [00:00<00:00, 95.29it/s, loss=1.04]\n"
          ]
        },
        {
          "output_type": "stream",
          "name": "stdout",
          "text": [
            "Epoch [679/3000]: Train loss: 1.4725, Valid loss: 1.6893\n"
          ]
        },
        {
          "output_type": "stream",
          "name": "stderr",
          "text": [
            "Epoch [680/3000]: 100%|██████████| 9/9 [00:00<00:00, 90.94it/s, loss=1.57]\n"
          ]
        },
        {
          "output_type": "stream",
          "name": "stdout",
          "text": [
            "Epoch [680/3000]: Train loss: 1.4989, Valid loss: 1.4071\n",
            "Saving model with loss 1.407...\n"
          ]
        },
        {
          "output_type": "stream",
          "name": "stderr",
          "text": [
            "Epoch [681/3000]: 100%|██████████| 9/9 [00:00<00:00, 95.99it/s, loss=1.62]\n"
          ]
        },
        {
          "output_type": "stream",
          "name": "stdout",
          "text": [
            "Epoch [681/3000]: Train loss: 1.5137, Valid loss: 1.9357\n"
          ]
        },
        {
          "output_type": "stream",
          "name": "stderr",
          "text": [
            "Epoch [682/3000]: 100%|██████████| 9/9 [00:00<00:00, 28.09it/s, loss=2.1]\n"
          ]
        },
        {
          "output_type": "stream",
          "name": "stdout",
          "text": [
            "Epoch [682/3000]: Train loss: 1.5840, Valid loss: 1.8728\n"
          ]
        },
        {
          "output_type": "stream",
          "name": "stderr",
          "text": [
            "Epoch [683/3000]: 100%|██████████| 9/9 [00:00<00:00, 100.39it/s, loss=1.31]\n"
          ]
        },
        {
          "output_type": "stream",
          "name": "stdout",
          "text": [
            "Epoch [683/3000]: Train loss: 1.5024, Valid loss: 1.9982\n"
          ]
        },
        {
          "output_type": "stream",
          "name": "stderr",
          "text": [
            "Epoch [684/3000]: 100%|██████████| 9/9 [00:00<00:00, 91.19it/s, loss=1.51]\n"
          ]
        },
        {
          "output_type": "stream",
          "name": "stdout",
          "text": [
            "Epoch [684/3000]: Train loss: 1.5119, Valid loss: 1.9799\n"
          ]
        },
        {
          "output_type": "stream",
          "name": "stderr",
          "text": [
            "Epoch [685/3000]: 100%|██████████| 9/9 [00:00<00:00, 93.47it/s, loss=1.26]\n"
          ]
        },
        {
          "output_type": "stream",
          "name": "stdout",
          "text": [
            "Epoch [685/3000]: Train loss: 1.4836, Valid loss: 1.8122\n"
          ]
        },
        {
          "output_type": "stream",
          "name": "stderr",
          "text": [
            "Epoch [686/3000]: 100%|██████████| 9/9 [00:00<00:00, 86.42it/s, loss=1.88]\n"
          ]
        },
        {
          "output_type": "stream",
          "name": "stdout",
          "text": [
            "Epoch [686/3000]: Train loss: 1.5200, Valid loss: 1.8001\n"
          ]
        },
        {
          "output_type": "stream",
          "name": "stderr",
          "text": [
            "Epoch [687/3000]: 100%|██████████| 9/9 [00:00<00:00, 93.65it/s, loss=1.15]\n"
          ]
        },
        {
          "output_type": "stream",
          "name": "stdout",
          "text": [
            "Epoch [687/3000]: Train loss: 1.4764, Valid loss: 1.7565\n"
          ]
        },
        {
          "output_type": "stream",
          "name": "stderr",
          "text": [
            "Epoch [688/3000]: 100%|██████████| 9/9 [00:00<00:00, 96.82it/s, loss=1.69]\n"
          ]
        },
        {
          "output_type": "stream",
          "name": "stdout",
          "text": [
            "Epoch [688/3000]: Train loss: 1.5026, Valid loss: 1.7037\n"
          ]
        },
        {
          "output_type": "stream",
          "name": "stderr",
          "text": [
            "Epoch [689/3000]: 100%|██████████| 9/9 [00:00<00:00, 85.82it/s, loss=1.46]\n"
          ]
        },
        {
          "output_type": "stream",
          "name": "stdout",
          "text": [
            "Epoch [689/3000]: Train loss: 1.4920, Valid loss: 2.1744\n"
          ]
        },
        {
          "output_type": "stream",
          "name": "stderr",
          "text": [
            "Epoch [690/3000]: 100%|██████████| 9/9 [00:00<00:00, 110.33it/s, loss=1.07]\n"
          ]
        },
        {
          "output_type": "stream",
          "name": "stdout",
          "text": [
            "Epoch [690/3000]: Train loss: 1.4601, Valid loss: 1.8511\n"
          ]
        },
        {
          "output_type": "stream",
          "name": "stderr",
          "text": [
            "Epoch [691/3000]: 100%|██████████| 9/9 [00:00<00:00, 117.42it/s, loss=1.89]\n"
          ]
        },
        {
          "output_type": "stream",
          "name": "stdout",
          "text": [
            "Epoch [691/3000]: Train loss: 1.5173, Valid loss: 1.7063\n"
          ]
        },
        {
          "output_type": "stream",
          "name": "stderr",
          "text": [
            "Epoch [692/3000]: 100%|██████████| 9/9 [00:00<00:00, 108.43it/s, loss=1.29]\n"
          ]
        },
        {
          "output_type": "stream",
          "name": "stdout",
          "text": [
            "Epoch [692/3000]: Train loss: 1.4687, Valid loss: 1.7013\n"
          ]
        },
        {
          "output_type": "stream",
          "name": "stderr",
          "text": [
            "Epoch [693/3000]: 100%|██████████| 9/9 [00:00<00:00, 93.32it/s, loss=1.74]\n"
          ]
        },
        {
          "output_type": "stream",
          "name": "stdout",
          "text": [
            "Epoch [693/3000]: Train loss: 1.5038, Valid loss: 1.7284\n"
          ]
        },
        {
          "output_type": "stream",
          "name": "stderr",
          "text": [
            "Epoch [694/3000]: 100%|██████████| 9/9 [00:00<00:00, 86.57it/s, loss=0.968]\n"
          ]
        },
        {
          "output_type": "stream",
          "name": "stdout",
          "text": [
            "Epoch [694/3000]: Train loss: 1.4501, Valid loss: 1.8192\n"
          ]
        },
        {
          "output_type": "stream",
          "name": "stderr",
          "text": [
            "Epoch [695/3000]: 100%|██████████| 9/9 [00:00<00:00, 84.18it/s, loss=1.42]\n"
          ]
        },
        {
          "output_type": "stream",
          "name": "stdout",
          "text": [
            "Epoch [695/3000]: Train loss: 1.4707, Valid loss: 1.9387\n"
          ]
        },
        {
          "output_type": "stream",
          "name": "stderr",
          "text": [
            "Epoch [696/3000]: 100%|██████████| 9/9 [00:00<00:00, 88.76it/s, loss=1.81]\n"
          ]
        },
        {
          "output_type": "stream",
          "name": "stdout",
          "text": [
            "Epoch [696/3000]: Train loss: 1.5017, Valid loss: 1.8251\n"
          ]
        },
        {
          "output_type": "stream",
          "name": "stderr",
          "text": [
            "Epoch [697/3000]: 100%|██████████| 9/9 [00:00<00:00, 99.18it/s, loss=1.92]\n"
          ]
        },
        {
          "output_type": "stream",
          "name": "stdout",
          "text": [
            "Epoch [697/3000]: Train loss: 1.5032, Valid loss: 1.9637\n"
          ]
        },
        {
          "output_type": "stream",
          "name": "stderr",
          "text": [
            "Epoch [698/3000]: 100%|██████████| 9/9 [00:00<00:00, 90.18it/s, loss=1.87]\n"
          ]
        },
        {
          "output_type": "stream",
          "name": "stdout",
          "text": [
            "Epoch [698/3000]: Train loss: 1.4996, Valid loss: 1.7715\n"
          ]
        },
        {
          "output_type": "stream",
          "name": "stderr",
          "text": [
            "Epoch [699/3000]: 100%|██████████| 9/9 [00:00<00:00, 102.32it/s, loss=1.13]\n"
          ]
        },
        {
          "output_type": "stream",
          "name": "stdout",
          "text": [
            "Epoch [699/3000]: Train loss: 1.4822, Valid loss: 1.7023\n"
          ]
        },
        {
          "output_type": "stream",
          "name": "stderr",
          "text": [
            "Epoch [700/3000]: 100%|██████████| 9/9 [00:00<00:00, 111.88it/s, loss=1.44]\n"
          ]
        },
        {
          "output_type": "stream",
          "name": "stdout",
          "text": [
            "Epoch [700/3000]: Train loss: 1.4771, Valid loss: 2.0859\n"
          ]
        },
        {
          "output_type": "stream",
          "name": "stderr",
          "text": [
            "Epoch [701/3000]: 100%|██████████| 9/9 [00:00<00:00, 91.97it/s, loss=1.43]\n"
          ]
        },
        {
          "output_type": "stream",
          "name": "stdout",
          "text": [
            "Epoch [701/3000]: Train loss: 1.4765, Valid loss: 1.7182\n"
          ]
        },
        {
          "output_type": "stream",
          "name": "stderr",
          "text": [
            "Epoch [702/3000]: 100%|██████████| 9/9 [00:00<00:00, 92.21it/s, loss=1.26]\n"
          ]
        },
        {
          "output_type": "stream",
          "name": "stdout",
          "text": [
            "Epoch [702/3000]: Train loss: 1.4661, Valid loss: 1.6922\n"
          ]
        },
        {
          "output_type": "stream",
          "name": "stderr",
          "text": [
            "Epoch [703/3000]: 100%|██████████| 9/9 [00:00<00:00, 100.29it/s, loss=1.54]\n"
          ]
        },
        {
          "output_type": "stream",
          "name": "stdout",
          "text": [
            "Epoch [703/3000]: Train loss: 1.4791, Valid loss: 1.8752\n"
          ]
        },
        {
          "output_type": "stream",
          "name": "stderr",
          "text": [
            "Epoch [704/3000]: 100%|██████████| 9/9 [00:00<00:00, 89.82it/s, loss=1.87]\n"
          ]
        },
        {
          "output_type": "stream",
          "name": "stdout",
          "text": [
            "Epoch [704/3000]: Train loss: 1.5023, Valid loss: 1.8721\n"
          ]
        },
        {
          "output_type": "stream",
          "name": "stderr",
          "text": [
            "Epoch [705/3000]: 100%|██████████| 9/9 [00:00<00:00, 95.27it/s, loss=1.44]\n"
          ]
        },
        {
          "output_type": "stream",
          "name": "stdout",
          "text": [
            "Epoch [705/3000]: Train loss: 1.4734, Valid loss: 1.7875\n"
          ]
        },
        {
          "output_type": "stream",
          "name": "stderr",
          "text": [
            "Epoch [706/3000]: 100%|██████████| 9/9 [00:00<00:00, 107.07it/s, loss=1.7]\n"
          ]
        },
        {
          "output_type": "stream",
          "name": "stdout",
          "text": [
            "Epoch [706/3000]: Train loss: 1.4731, Valid loss: 1.6664\n"
          ]
        },
        {
          "output_type": "stream",
          "name": "stderr",
          "text": [
            "Epoch [707/3000]: 100%|██████████| 9/9 [00:00<00:00, 96.42it/s, loss=1.35]\n"
          ]
        },
        {
          "output_type": "stream",
          "name": "stdout",
          "text": [
            "Epoch [707/3000]: Train loss: 1.4572, Valid loss: 1.8388\n"
          ]
        },
        {
          "output_type": "stream",
          "name": "stderr",
          "text": [
            "Epoch [708/3000]: 100%|██████████| 9/9 [00:00<00:00, 80.03it/s, loss=1.82]\n"
          ]
        },
        {
          "output_type": "stream",
          "name": "stdout",
          "text": [
            "Epoch [708/3000]: Train loss: 1.4872, Valid loss: 1.8331\n"
          ]
        },
        {
          "output_type": "stream",
          "name": "stderr",
          "text": [
            "Epoch [709/3000]: 100%|██████████| 9/9 [00:00<00:00, 98.58it/s, loss=1.25]\n"
          ]
        },
        {
          "output_type": "stream",
          "name": "stdout",
          "text": [
            "Epoch [709/3000]: Train loss: 1.4512, Valid loss: 1.7465\n"
          ]
        },
        {
          "output_type": "stream",
          "name": "stderr",
          "text": [
            "Epoch [710/3000]: 100%|██████████| 9/9 [00:00<00:00, 90.92it/s, loss=1.59]\n"
          ]
        },
        {
          "output_type": "stream",
          "name": "stdout",
          "text": [
            "Epoch [710/3000]: Train loss: 1.4663, Valid loss: 1.9883\n"
          ]
        },
        {
          "output_type": "stream",
          "name": "stderr",
          "text": [
            "Epoch [711/3000]: 100%|██████████| 9/9 [00:00<00:00, 86.05it/s, loss=1.07]\n"
          ]
        },
        {
          "output_type": "stream",
          "name": "stdout",
          "text": [
            "Epoch [711/3000]: Train loss: 1.4287, Valid loss: 1.6208\n"
          ]
        },
        {
          "output_type": "stream",
          "name": "stderr",
          "text": [
            "Epoch [712/3000]: 100%|██████████| 9/9 [00:00<00:00, 107.98it/s, loss=1.39]\n"
          ]
        },
        {
          "output_type": "stream",
          "name": "stdout",
          "text": [
            "Epoch [712/3000]: Train loss: 1.4563, Valid loss: 2.0315\n"
          ]
        },
        {
          "output_type": "stream",
          "name": "stderr",
          "text": [
            "Epoch [713/3000]: 100%|██████████| 9/9 [00:00<00:00, 98.24it/s, loss=1.65]\n"
          ]
        },
        {
          "output_type": "stream",
          "name": "stdout",
          "text": [
            "Epoch [713/3000]: Train loss: 1.4792, Valid loss: 1.7777\n"
          ]
        },
        {
          "output_type": "stream",
          "name": "stderr",
          "text": [
            "Epoch [714/3000]: 100%|██████████| 9/9 [00:00<00:00, 90.56it/s, loss=1.57]\n"
          ]
        },
        {
          "output_type": "stream",
          "name": "stdout",
          "text": [
            "Epoch [714/3000]: Train loss: 1.4812, Valid loss: 1.5251\n"
          ]
        },
        {
          "output_type": "stream",
          "name": "stderr",
          "text": [
            "Epoch [715/3000]: 100%|██████████| 9/9 [00:00<00:00, 102.24it/s, loss=2]\n"
          ]
        },
        {
          "output_type": "stream",
          "name": "stdout",
          "text": [
            "Epoch [715/3000]: Train loss: 1.4813, Valid loss: 1.5361\n"
          ]
        },
        {
          "output_type": "stream",
          "name": "stderr",
          "text": [
            "Epoch [716/3000]: 100%|██████████| 9/9 [00:00<00:00, 75.24it/s, loss=1.89]\n"
          ]
        },
        {
          "output_type": "stream",
          "name": "stdout",
          "text": [
            "Epoch [716/3000]: Train loss: 1.4813, Valid loss: 1.6440\n"
          ]
        },
        {
          "output_type": "stream",
          "name": "stderr",
          "text": [
            "Epoch [717/3000]: 100%|██████████| 9/9 [00:00<00:00, 104.37it/s, loss=1.43]\n"
          ]
        },
        {
          "output_type": "stream",
          "name": "stdout",
          "text": [
            "Epoch [717/3000]: Train loss: 1.4552, Valid loss: 1.7557\n"
          ]
        },
        {
          "output_type": "stream",
          "name": "stderr",
          "text": [
            "Epoch [718/3000]: 100%|██████████| 9/9 [00:00<00:00, 115.10it/s, loss=1.15]\n"
          ]
        },
        {
          "output_type": "stream",
          "name": "stdout",
          "text": [
            "Epoch [718/3000]: Train loss: 1.4297, Valid loss: 1.9586\n"
          ]
        },
        {
          "output_type": "stream",
          "name": "stderr",
          "text": [
            "Epoch [719/3000]: 100%|██████████| 9/9 [00:00<00:00, 103.64it/s, loss=0.892]\n"
          ]
        },
        {
          "output_type": "stream",
          "name": "stdout",
          "text": [
            "Epoch [719/3000]: Train loss: 1.4088, Valid loss: 1.7424\n"
          ]
        },
        {
          "output_type": "stream",
          "name": "stderr",
          "text": [
            "Epoch [720/3000]: 100%|██████████| 9/9 [00:00<00:00, 98.10it/s, loss=1.53]\n"
          ]
        },
        {
          "output_type": "stream",
          "name": "stdout",
          "text": [
            "Epoch [720/3000]: Train loss: 1.4589, Valid loss: 1.7539\n"
          ]
        },
        {
          "output_type": "stream",
          "name": "stderr",
          "text": [
            "Epoch [721/3000]: 100%|██████████| 9/9 [00:00<00:00, 105.27it/s, loss=1.23]\n"
          ]
        },
        {
          "output_type": "stream",
          "name": "stdout",
          "text": [
            "Epoch [721/3000]: Train loss: 1.4403, Valid loss: 1.7008\n"
          ]
        },
        {
          "output_type": "stream",
          "name": "stderr",
          "text": [
            "Epoch [722/3000]: 100%|██████████| 9/9 [00:00<00:00, 104.24it/s, loss=1.65]\n"
          ]
        },
        {
          "output_type": "stream",
          "name": "stdout",
          "text": [
            "Epoch [722/3000]: Train loss: 1.4636, Valid loss: 1.5920\n"
          ]
        },
        {
          "output_type": "stream",
          "name": "stderr",
          "text": [
            "Epoch [723/3000]: 100%|██████████| 9/9 [00:00<00:00, 80.54it/s, loss=1.54]\n"
          ]
        },
        {
          "output_type": "stream",
          "name": "stdout",
          "text": [
            "Epoch [723/3000]: Train loss: 1.4505, Valid loss: 1.5964\n"
          ]
        },
        {
          "output_type": "stream",
          "name": "stderr",
          "text": [
            "Epoch [724/3000]: 100%|██████████| 9/9 [00:00<00:00, 83.63it/s, loss=1.58]\n"
          ]
        },
        {
          "output_type": "stream",
          "name": "stdout",
          "text": [
            "Epoch [724/3000]: Train loss: 1.4547, Valid loss: 1.5423\n"
          ]
        },
        {
          "output_type": "stream",
          "name": "stderr",
          "text": [
            "Epoch [725/3000]: 100%|██████████| 9/9 [00:00<00:00, 77.58it/s, loss=1.99]\n"
          ]
        },
        {
          "output_type": "stream",
          "name": "stdout",
          "text": [
            "Epoch [725/3000]: Train loss: 1.4739, Valid loss: 1.5999\n"
          ]
        },
        {
          "output_type": "stream",
          "name": "stderr",
          "text": [
            "Epoch [726/3000]: 100%|██████████| 9/9 [00:00<00:00, 89.36it/s, loss=1.22]\n"
          ]
        },
        {
          "output_type": "stream",
          "name": "stdout",
          "text": [
            "Epoch [726/3000]: Train loss: 1.4259, Valid loss: 1.6981\n"
          ]
        },
        {
          "output_type": "stream",
          "name": "stderr",
          "text": [
            "Epoch [727/3000]: 100%|██████████| 9/9 [00:00<00:00, 96.61it/s, loss=1.66]\n"
          ]
        },
        {
          "output_type": "stream",
          "name": "stdout",
          "text": [
            "Epoch [727/3000]: Train loss: 1.4581, Valid loss: 1.6300\n"
          ]
        },
        {
          "output_type": "stream",
          "name": "stderr",
          "text": [
            "Epoch [728/3000]: 100%|██████████| 9/9 [00:00<00:00, 101.46it/s, loss=1.95]\n"
          ]
        },
        {
          "output_type": "stream",
          "name": "stdout",
          "text": [
            "Epoch [728/3000]: Train loss: 1.5004, Valid loss: 1.9129\n"
          ]
        },
        {
          "output_type": "stream",
          "name": "stderr",
          "text": [
            "Epoch [729/3000]: 100%|██████████| 9/9 [00:00<00:00, 86.98it/s, loss=1.35]\n"
          ]
        },
        {
          "output_type": "stream",
          "name": "stdout",
          "text": [
            "Epoch [729/3000]: Train loss: 1.4381, Valid loss: 1.7529\n"
          ]
        },
        {
          "output_type": "stream",
          "name": "stderr",
          "text": [
            "Epoch [730/3000]: 100%|██████████| 9/9 [00:00<00:00, 80.89it/s, loss=1.42]\n"
          ]
        },
        {
          "output_type": "stream",
          "name": "stdout",
          "text": [
            "Epoch [730/3000]: Train loss: 1.4321, Valid loss: 1.6484\n"
          ]
        },
        {
          "output_type": "stream",
          "name": "stderr",
          "text": [
            "Epoch [731/3000]: 100%|██████████| 9/9 [00:00<00:00, 84.80it/s, loss=1.69]\n"
          ]
        },
        {
          "output_type": "stream",
          "name": "stdout",
          "text": [
            "Epoch [731/3000]: Train loss: 1.4489, Valid loss: 1.7745\n"
          ]
        },
        {
          "output_type": "stream",
          "name": "stderr",
          "text": [
            "Epoch [732/3000]: 100%|██████████| 9/9 [00:00<00:00, 92.74it/s, loss=1.46]\n"
          ]
        },
        {
          "output_type": "stream",
          "name": "stdout",
          "text": [
            "Epoch [732/3000]: Train loss: 1.4416, Valid loss: 1.4904\n"
          ]
        },
        {
          "output_type": "stream",
          "name": "stderr",
          "text": [
            "Epoch [733/3000]: 100%|██████████| 9/9 [00:00<00:00, 103.03it/s, loss=1.53]\n"
          ]
        },
        {
          "output_type": "stream",
          "name": "stdout",
          "text": [
            "Epoch [733/3000]: Train loss: 1.4353, Valid loss: 1.6020\n"
          ]
        },
        {
          "output_type": "stream",
          "name": "stderr",
          "text": [
            "Epoch [734/3000]: 100%|██████████| 9/9 [00:00<00:00, 92.47it/s, loss=1.64]\n"
          ]
        },
        {
          "output_type": "stream",
          "name": "stdout",
          "text": [
            "Epoch [734/3000]: Train loss: 1.4409, Valid loss: 1.5575\n"
          ]
        },
        {
          "output_type": "stream",
          "name": "stderr",
          "text": [
            "Epoch [735/3000]: 100%|██████████| 9/9 [00:00<00:00, 94.23it/s, loss=1.12]\n"
          ]
        },
        {
          "output_type": "stream",
          "name": "stdout",
          "text": [
            "Epoch [735/3000]: Train loss: 1.4102, Valid loss: 1.7754\n"
          ]
        },
        {
          "output_type": "stream",
          "name": "stderr",
          "text": [
            "Epoch [736/3000]: 100%|██████████| 9/9 [00:00<00:00, 97.38it/s, loss=1.25]\n"
          ]
        },
        {
          "output_type": "stream",
          "name": "stdout",
          "text": [
            "Epoch [736/3000]: Train loss: 1.4149, Valid loss: 1.7992\n"
          ]
        },
        {
          "output_type": "stream",
          "name": "stderr",
          "text": [
            "Epoch [737/3000]: 100%|██████████| 9/9 [00:00<00:00, 103.23it/s, loss=1.27]\n"
          ]
        },
        {
          "output_type": "stream",
          "name": "stdout",
          "text": [
            "Epoch [737/3000]: Train loss: 1.4193, Valid loss: 1.6178\n"
          ]
        },
        {
          "output_type": "stream",
          "name": "stderr",
          "text": [
            "Epoch [738/3000]: 100%|██████████| 9/9 [00:00<00:00, 99.90it/s, loss=1.52]\n"
          ]
        },
        {
          "output_type": "stream",
          "name": "stdout",
          "text": [
            "Epoch [738/3000]: Train loss: 1.4333, Valid loss: 1.9392\n"
          ]
        },
        {
          "output_type": "stream",
          "name": "stderr",
          "text": [
            "Epoch [739/3000]: 100%|██████████| 9/9 [00:00<00:00, 82.97it/s, loss=1.34]\n"
          ]
        },
        {
          "output_type": "stream",
          "name": "stdout",
          "text": [
            "Epoch [739/3000]: Train loss: 1.4195, Valid loss: 1.7221\n"
          ]
        },
        {
          "output_type": "stream",
          "name": "stderr",
          "text": [
            "Epoch [740/3000]: 100%|██████████| 9/9 [00:00<00:00, 80.34it/s, loss=1.47]\n"
          ]
        },
        {
          "output_type": "stream",
          "name": "stdout",
          "text": [
            "Epoch [740/3000]: Train loss: 1.4267, Valid loss: 1.5438\n"
          ]
        },
        {
          "output_type": "stream",
          "name": "stderr",
          "text": [
            "Epoch [741/3000]: 100%|██████████| 9/9 [00:00<00:00, 81.20it/s, loss=1.49]\n"
          ]
        },
        {
          "output_type": "stream",
          "name": "stdout",
          "text": [
            "Epoch [741/3000]: Train loss: 1.4251, Valid loss: 1.8107\n"
          ]
        },
        {
          "output_type": "stream",
          "name": "stderr",
          "text": [
            "Epoch [742/3000]: 100%|██████████| 9/9 [00:00<00:00, 91.72it/s, loss=1.89]\n"
          ]
        },
        {
          "output_type": "stream",
          "name": "stdout",
          "text": [
            "Epoch [742/3000]: Train loss: 1.4523, Valid loss: 1.8534\n"
          ]
        },
        {
          "output_type": "stream",
          "name": "stderr",
          "text": [
            "Epoch [743/3000]: 100%|██████████| 9/9 [00:00<00:00, 91.42it/s, loss=1.7]\n"
          ]
        },
        {
          "output_type": "stream",
          "name": "stdout",
          "text": [
            "Epoch [743/3000]: Train loss: 1.4707, Valid loss: 1.4112\n"
          ]
        },
        {
          "output_type": "stream",
          "name": "stderr",
          "text": [
            "Epoch [744/3000]: 100%|██████████| 9/9 [00:00<00:00, 102.35it/s, loss=1.41]\n"
          ]
        },
        {
          "output_type": "stream",
          "name": "stdout",
          "text": [
            "Epoch [744/3000]: Train loss: 1.4215, Valid loss: 1.5740\n"
          ]
        },
        {
          "output_type": "stream",
          "name": "stderr",
          "text": [
            "Epoch [745/3000]: 100%|██████████| 9/9 [00:00<00:00, 94.13it/s, loss=1.77]\n"
          ]
        },
        {
          "output_type": "stream",
          "name": "stdout",
          "text": [
            "Epoch [745/3000]: Train loss: 1.4417, Valid loss: 1.8616\n"
          ]
        },
        {
          "output_type": "stream",
          "name": "stderr",
          "text": [
            "Epoch [746/3000]: 100%|██████████| 9/9 [00:00<00:00, 95.34it/s, loss=1.25]\n"
          ]
        },
        {
          "output_type": "stream",
          "name": "stdout",
          "text": [
            "Epoch [746/3000]: Train loss: 1.4167, Valid loss: 1.6590\n"
          ]
        },
        {
          "output_type": "stream",
          "name": "stderr",
          "text": [
            "Epoch [747/3000]: 100%|██████████| 9/9 [00:00<00:00, 95.59it/s, loss=1.53]\n"
          ]
        },
        {
          "output_type": "stream",
          "name": "stdout",
          "text": [
            "Epoch [747/3000]: Train loss: 1.4205, Valid loss: 1.9435\n"
          ]
        },
        {
          "output_type": "stream",
          "name": "stderr",
          "text": [
            "Epoch [748/3000]: 100%|██████████| 9/9 [00:00<00:00, 100.31it/s, loss=1.99]\n"
          ]
        },
        {
          "output_type": "stream",
          "name": "stdout",
          "text": [
            "Epoch [748/3000]: Train loss: 1.4540, Valid loss: 1.5824\n"
          ]
        },
        {
          "output_type": "stream",
          "name": "stderr",
          "text": [
            "Epoch [749/3000]: 100%|██████████| 9/9 [00:00<00:00, 95.29it/s, loss=1.55]\n"
          ]
        },
        {
          "output_type": "stream",
          "name": "stdout",
          "text": [
            "Epoch [749/3000]: Train loss: 1.4204, Valid loss: 2.0449\n"
          ]
        },
        {
          "output_type": "stream",
          "name": "stderr",
          "text": [
            "Epoch [750/3000]: 100%|██████████| 9/9 [00:00<00:00, 104.52it/s, loss=1.21]\n"
          ]
        },
        {
          "output_type": "stream",
          "name": "stdout",
          "text": [
            "Epoch [750/3000]: Train loss: 1.3989, Valid loss: 1.6212\n"
          ]
        },
        {
          "output_type": "stream",
          "name": "stderr",
          "text": [
            "Epoch [751/3000]: 100%|██████████| 9/9 [00:00<00:00, 101.79it/s, loss=1.49]\n"
          ]
        },
        {
          "output_type": "stream",
          "name": "stdout",
          "text": [
            "Epoch [751/3000]: Train loss: 1.4122, Valid loss: 1.5041\n"
          ]
        },
        {
          "output_type": "stream",
          "name": "stderr",
          "text": [
            "Epoch [752/3000]: 100%|██████████| 9/9 [00:00<00:00, 72.03it/s, loss=1.69]\n"
          ]
        },
        {
          "output_type": "stream",
          "name": "stdout",
          "text": [
            "Epoch [752/3000]: Train loss: 1.4237, Valid loss: 1.8307\n"
          ]
        },
        {
          "output_type": "stream",
          "name": "stderr",
          "text": [
            "Epoch [753/3000]: 100%|██████████| 9/9 [00:00<00:00, 104.14it/s, loss=1.3]\n"
          ]
        },
        {
          "output_type": "stream",
          "name": "stdout",
          "text": [
            "Epoch [753/3000]: Train loss: 1.4109, Valid loss: 1.6628\n"
          ]
        },
        {
          "output_type": "stream",
          "name": "stderr",
          "text": [
            "Epoch [754/3000]: 100%|██████████| 9/9 [00:00<00:00, 105.78it/s, loss=1.39]\n"
          ]
        },
        {
          "output_type": "stream",
          "name": "stdout",
          "text": [
            "Epoch [754/3000]: Train loss: 1.4171, Valid loss: 1.7116\n"
          ]
        },
        {
          "output_type": "stream",
          "name": "stderr",
          "text": [
            "Epoch [755/3000]: 100%|██████████| 9/9 [00:00<00:00, 110.36it/s, loss=1.51]"
          ]
        },
        {
          "output_type": "stream",
          "name": "stdout",
          "text": [
            "Epoch [755/3000]: Train loss: 1.4339, Valid loss: 2.2688"
          ]
        },
        {
          "output_type": "stream",
          "name": "stderr",
          "text": [
            "\n"
          ]
        },
        {
          "output_type": "stream",
          "name": "stdout",
          "text": [
            "\n"
          ]
        },
        {
          "output_type": "stream",
          "name": "stderr",
          "text": [
            "Epoch [756/3000]: 100%|██████████| 9/9 [00:00<00:00, 111.56it/s, loss=0.916]\n"
          ]
        },
        {
          "output_type": "stream",
          "name": "stdout",
          "text": [
            "Epoch [756/3000]: Train loss: 1.3789, Valid loss: 1.9585\n"
          ]
        },
        {
          "output_type": "stream",
          "name": "stderr",
          "text": [
            "Epoch [757/3000]: 100%|██████████| 9/9 [00:00<00:00, 114.99it/s, loss=1.4]\n"
          ]
        },
        {
          "output_type": "stream",
          "name": "stdout",
          "text": [
            "Epoch [757/3000]: Train loss: 1.4160, Valid loss: 1.6670\n"
          ]
        },
        {
          "output_type": "stream",
          "name": "stderr",
          "text": [
            "Epoch [758/3000]: 100%|██████████| 9/9 [00:00<00:00, 117.81it/s, loss=1.48]\n"
          ]
        },
        {
          "output_type": "stream",
          "name": "stdout",
          "text": [
            "Epoch [758/3000]: Train loss: 1.4081, Valid loss: 1.9261\n"
          ]
        },
        {
          "output_type": "stream",
          "name": "stderr",
          "text": [
            "Epoch [759/3000]: 100%|██████████| 9/9 [00:00<00:00, 112.84it/s, loss=1.83]\n"
          ]
        },
        {
          "output_type": "stream",
          "name": "stdout",
          "text": [
            "Epoch [759/3000]: Train loss: 1.4214, Valid loss: 1.6665\n"
          ]
        },
        {
          "output_type": "stream",
          "name": "stderr",
          "text": [
            "Epoch [760/3000]: 100%|██████████| 9/9 [00:00<00:00, 112.11it/s, loss=1.14]\n"
          ]
        },
        {
          "output_type": "stream",
          "name": "stdout",
          "text": [
            "Epoch [760/3000]: Train loss: 1.3817, Valid loss: 1.8166\n"
          ]
        },
        {
          "output_type": "stream",
          "name": "stderr",
          "text": [
            "Epoch [761/3000]: 100%|██████████| 9/9 [00:00<00:00, 111.89it/s, loss=1.18]\n"
          ]
        },
        {
          "output_type": "stream",
          "name": "stdout",
          "text": [
            "Epoch [761/3000]: Train loss: 1.3818, Valid loss: 1.9605\n"
          ]
        },
        {
          "output_type": "stream",
          "name": "stderr",
          "text": [
            "Epoch [762/3000]: 100%|██████████| 9/9 [00:00<00:00, 124.85it/s, loss=1.35]\n"
          ]
        },
        {
          "output_type": "stream",
          "name": "stdout",
          "text": [
            "Epoch [762/3000]: Train loss: 1.4014, Valid loss: 1.7878\n"
          ]
        },
        {
          "output_type": "stream",
          "name": "stderr",
          "text": [
            "Epoch [763/3000]: 100%|██████████| 9/9 [00:00<00:00, 107.48it/s, loss=1.69]\n"
          ]
        },
        {
          "output_type": "stream",
          "name": "stdout",
          "text": [
            "Epoch [763/3000]: Train loss: 1.4165, Valid loss: 1.6778\n"
          ]
        },
        {
          "output_type": "stream",
          "name": "stderr",
          "text": [
            "Epoch [764/3000]: 100%|██████████| 9/9 [00:00<00:00, 113.77it/s, loss=1.49]\n"
          ]
        },
        {
          "output_type": "stream",
          "name": "stdout",
          "text": [
            "Epoch [764/3000]: Train loss: 1.4054, Valid loss: 1.6021\n"
          ]
        },
        {
          "output_type": "stream",
          "name": "stderr",
          "text": [
            "Epoch [765/3000]: 100%|██████████| 9/9 [00:00<00:00, 108.06it/s, loss=1.19]\n"
          ]
        },
        {
          "output_type": "stream",
          "name": "stdout",
          "text": [
            "Epoch [765/3000]: Train loss: 1.3933, Valid loss: 1.6062\n"
          ]
        },
        {
          "output_type": "stream",
          "name": "stderr",
          "text": [
            "Epoch [766/3000]: 100%|██████████| 9/9 [00:00<00:00, 102.21it/s, loss=1.16]\n"
          ]
        },
        {
          "output_type": "stream",
          "name": "stdout",
          "text": [
            "Epoch [766/3000]: Train loss: 1.3771, Valid loss: 1.7055\n"
          ]
        },
        {
          "output_type": "stream",
          "name": "stderr",
          "text": [
            "Epoch [767/3000]: 100%|██████████| 9/9 [00:00<00:00, 93.43it/s, loss=1.48]\n"
          ]
        },
        {
          "output_type": "stream",
          "name": "stdout",
          "text": [
            "Epoch [767/3000]: Train loss: 1.3923, Valid loss: 1.5664\n"
          ]
        },
        {
          "output_type": "stream",
          "name": "stderr",
          "text": [
            "Epoch [768/3000]: 100%|██████████| 9/9 [00:00<00:00, 100.97it/s, loss=1.23]\n"
          ]
        },
        {
          "output_type": "stream",
          "name": "stdout",
          "text": [
            "Epoch [768/3000]: Train loss: 1.3733, Valid loss: 1.6674\n"
          ]
        },
        {
          "output_type": "stream",
          "name": "stderr",
          "text": [
            "Epoch [769/3000]: 100%|██████████| 9/9 [00:00<00:00, 93.59it/s, loss=1.77]\n"
          ]
        },
        {
          "output_type": "stream",
          "name": "stdout",
          "text": [
            "Epoch [769/3000]: Train loss: 1.4138, Valid loss: 1.4992\n"
          ]
        },
        {
          "output_type": "stream",
          "name": "stderr",
          "text": [
            "Epoch [770/3000]: 100%|██████████| 9/9 [00:00<00:00, 107.52it/s, loss=1.42]\n"
          ]
        },
        {
          "output_type": "stream",
          "name": "stdout",
          "text": [
            "Epoch [770/3000]: Train loss: 1.3977, Valid loss: 1.9154\n"
          ]
        },
        {
          "output_type": "stream",
          "name": "stderr",
          "text": [
            "Epoch [771/3000]: 100%|██████████| 9/9 [00:00<00:00, 99.44it/s, loss=1.04]\n"
          ]
        },
        {
          "output_type": "stream",
          "name": "stdout",
          "text": [
            "Epoch [771/3000]: Train loss: 1.3868, Valid loss: 1.6541\n"
          ]
        },
        {
          "output_type": "stream",
          "name": "stderr",
          "text": [
            "Epoch [772/3000]: 100%|██████████| 9/9 [00:00<00:00, 102.55it/s, loss=1.51]\n"
          ]
        },
        {
          "output_type": "stream",
          "name": "stdout",
          "text": [
            "Epoch [772/3000]: Train loss: 1.4047, Valid loss: 1.6328\n"
          ]
        },
        {
          "output_type": "stream",
          "name": "stderr",
          "text": [
            "Epoch [773/3000]: 100%|██████████| 9/9 [00:00<00:00, 100.25it/s, loss=1.18]\n"
          ]
        },
        {
          "output_type": "stream",
          "name": "stdout",
          "text": [
            "Epoch [773/3000]: Train loss: 1.3878, Valid loss: 1.5214\n"
          ]
        },
        {
          "output_type": "stream",
          "name": "stderr",
          "text": [
            "Epoch [774/3000]: 100%|██████████| 9/9 [00:00<00:00, 107.81it/s, loss=1.37]\n"
          ]
        },
        {
          "output_type": "stream",
          "name": "stdout",
          "text": [
            "Epoch [774/3000]: Train loss: 1.3915, Valid loss: 1.7504\n"
          ]
        },
        {
          "output_type": "stream",
          "name": "stderr",
          "text": [
            "Epoch [775/3000]: 100%|██████████| 9/9 [00:00<00:00, 116.77it/s, loss=1.33]\n"
          ]
        },
        {
          "output_type": "stream",
          "name": "stdout",
          "text": [
            "Epoch [775/3000]: Train loss: 1.3754, Valid loss: 1.5471\n"
          ]
        },
        {
          "output_type": "stream",
          "name": "stderr",
          "text": [
            "Epoch [776/3000]: 100%|██████████| 9/9 [00:00<00:00, 119.79it/s, loss=1.51]\n"
          ]
        },
        {
          "output_type": "stream",
          "name": "stdout",
          "text": [
            "Epoch [776/3000]: Train loss: 1.4049, Valid loss: 1.6203\n"
          ]
        },
        {
          "output_type": "stream",
          "name": "stderr",
          "text": [
            "Epoch [777/3000]: 100%|██████████| 9/9 [00:00<00:00, 111.99it/s, loss=1.13]\n"
          ]
        },
        {
          "output_type": "stream",
          "name": "stdout",
          "text": [
            "Epoch [777/3000]: Train loss: 1.3622, Valid loss: 1.6318\n"
          ]
        },
        {
          "output_type": "stream",
          "name": "stderr",
          "text": [
            "Epoch [778/3000]: 100%|██████████| 9/9 [00:00<00:00, 119.12it/s, loss=1.41]\n"
          ]
        },
        {
          "output_type": "stream",
          "name": "stdout",
          "text": [
            "Epoch [778/3000]: Train loss: 1.3787, Valid loss: 1.5192\n"
          ]
        },
        {
          "output_type": "stream",
          "name": "stderr",
          "text": [
            "Epoch [779/3000]: 100%|██████████| 9/9 [00:00<00:00, 106.93it/s, loss=1.47]\n"
          ]
        },
        {
          "output_type": "stream",
          "name": "stdout",
          "text": [
            "Epoch [779/3000]: Train loss: 1.3828, Valid loss: 1.6480\n"
          ]
        },
        {
          "output_type": "stream",
          "name": "stderr",
          "text": [
            "Epoch [780/3000]: 100%|██████████| 9/9 [00:00<00:00, 90.92it/s, loss=1.31]\n"
          ]
        },
        {
          "output_type": "stream",
          "name": "stdout",
          "text": [
            "Epoch [780/3000]: Train loss: 1.3768, Valid loss: 1.4353\n"
          ]
        },
        {
          "output_type": "stream",
          "name": "stderr",
          "text": [
            "Epoch [781/3000]: 100%|██████████| 9/9 [00:00<00:00, 101.09it/s, loss=1.34]\n"
          ]
        },
        {
          "output_type": "stream",
          "name": "stdout",
          "text": [
            "Epoch [781/3000]: Train loss: 1.3693, Valid loss: 1.4777\n"
          ]
        },
        {
          "output_type": "stream",
          "name": "stderr",
          "text": [
            "Epoch [782/3000]: 100%|██████████| 9/9 [00:00<00:00, 90.11it/s, loss=1.45]\n"
          ]
        },
        {
          "output_type": "stream",
          "name": "stdout",
          "text": [
            "Epoch [782/3000]: Train loss: 1.3762, Valid loss: 1.4323\n"
          ]
        },
        {
          "output_type": "stream",
          "name": "stderr",
          "text": [
            "Epoch [783/3000]: 100%|██████████| 9/9 [00:00<00:00, 90.43it/s, loss=1.61]\n"
          ]
        },
        {
          "output_type": "stream",
          "name": "stdout",
          "text": [
            "Epoch [783/3000]: Train loss: 1.3846, Valid loss: 1.6102\n"
          ]
        },
        {
          "output_type": "stream",
          "name": "stderr",
          "text": [
            "Epoch [784/3000]: 100%|██████████| 9/9 [00:00<00:00, 81.38it/s, loss=1.27]\n"
          ]
        },
        {
          "output_type": "stream",
          "name": "stdout",
          "text": [
            "Epoch [784/3000]: Train loss: 1.3797, Valid loss: 1.5355\n"
          ]
        },
        {
          "output_type": "stream",
          "name": "stderr",
          "text": [
            "Epoch [785/3000]: 100%|██████████| 9/9 [00:00<00:00, 92.36it/s, loss=1.92]\n"
          ]
        },
        {
          "output_type": "stream",
          "name": "stdout",
          "text": [
            "Epoch [785/3000]: Train loss: 1.4439, Valid loss: 1.7062\n"
          ]
        },
        {
          "output_type": "stream",
          "name": "stderr",
          "text": [
            "Epoch [786/3000]: 100%|██████████| 9/9 [00:00<00:00, 81.76it/s, loss=1.36]\n"
          ]
        },
        {
          "output_type": "stream",
          "name": "stdout",
          "text": [
            "Epoch [786/3000]: Train loss: 1.3889, Valid loss: 1.7317\n"
          ]
        },
        {
          "output_type": "stream",
          "name": "stderr",
          "text": [
            "Epoch [787/3000]: 100%|██████████| 9/9 [00:00<00:00, 106.73it/s, loss=1.95]\n"
          ]
        },
        {
          "output_type": "stream",
          "name": "stdout",
          "text": [
            "Epoch [787/3000]: Train loss: 1.4104, Valid loss: 1.6092\n"
          ]
        },
        {
          "output_type": "stream",
          "name": "stderr",
          "text": [
            "Epoch [788/3000]: 100%|██████████| 9/9 [00:00<00:00, 113.60it/s, loss=1.2]\n"
          ]
        },
        {
          "output_type": "stream",
          "name": "stdout",
          "text": [
            "Epoch [788/3000]: Train loss: 1.3675, Valid loss: 1.5289\n"
          ]
        },
        {
          "output_type": "stream",
          "name": "stderr",
          "text": [
            "Epoch [789/3000]: 100%|██████████| 9/9 [00:00<00:00, 94.27it/s, loss=1.33]\n"
          ]
        },
        {
          "output_type": "stream",
          "name": "stdout",
          "text": [
            "Epoch [789/3000]: Train loss: 1.3897, Valid loss: 1.7552\n"
          ]
        },
        {
          "output_type": "stream",
          "name": "stderr",
          "text": [
            "Epoch [790/3000]: 100%|██████████| 9/9 [00:00<00:00, 99.67it/s, loss=1.52]\n"
          ]
        },
        {
          "output_type": "stream",
          "name": "stdout",
          "text": [
            "Epoch [790/3000]: Train loss: 1.3899, Valid loss: 2.1406\n"
          ]
        },
        {
          "output_type": "stream",
          "name": "stderr",
          "text": [
            "Epoch [791/3000]: 100%|██████████| 9/9 [00:00<00:00, 96.97it/s, loss=1.12]\n"
          ]
        },
        {
          "output_type": "stream",
          "name": "stdout",
          "text": [
            "Epoch [791/3000]: Train loss: 1.3857, Valid loss: 1.7860\n"
          ]
        },
        {
          "output_type": "stream",
          "name": "stderr",
          "text": [
            "Epoch [792/3000]: 100%|██████████| 9/9 [00:00<00:00, 91.11it/s, loss=1.21]\n"
          ]
        },
        {
          "output_type": "stream",
          "name": "stdout",
          "text": [
            "Epoch [792/3000]: Train loss: 1.4008, Valid loss: 1.5820\n"
          ]
        },
        {
          "output_type": "stream",
          "name": "stderr",
          "text": [
            "Epoch [793/3000]: 100%|██████████| 9/9 [00:00<00:00, 98.93it/s, loss=1.68]\n"
          ]
        },
        {
          "output_type": "stream",
          "name": "stdout",
          "text": [
            "Epoch [793/3000]: Train loss: 1.4057, Valid loss: 1.4925\n"
          ]
        },
        {
          "output_type": "stream",
          "name": "stderr",
          "text": [
            "Epoch [794/3000]: 100%|██████████| 9/9 [00:00<00:00, 97.70it/s, loss=1.13]\n"
          ]
        },
        {
          "output_type": "stream",
          "name": "stdout",
          "text": [
            "Epoch [794/3000]: Train loss: 1.3485, Valid loss: 1.6812\n"
          ]
        },
        {
          "output_type": "stream",
          "name": "stderr",
          "text": [
            "Epoch [795/3000]: 100%|██████████| 9/9 [00:00<00:00, 82.83it/s, loss=1.02]\n"
          ]
        },
        {
          "output_type": "stream",
          "name": "stdout",
          "text": [
            "Epoch [795/3000]: Train loss: 1.3382, Valid loss: 1.6979\n"
          ]
        },
        {
          "output_type": "stream",
          "name": "stderr",
          "text": [
            "Epoch [796/3000]: 100%|██████████| 9/9 [00:00<00:00, 101.46it/s, loss=1.27]\n"
          ]
        },
        {
          "output_type": "stream",
          "name": "stdout",
          "text": [
            "Epoch [796/3000]: Train loss: 1.3684, Valid loss: 1.5726\n"
          ]
        },
        {
          "output_type": "stream",
          "name": "stderr",
          "text": [
            "Epoch [797/3000]: 100%|██████████| 9/9 [00:00<00:00, 85.53it/s, loss=1.38]\n"
          ]
        },
        {
          "output_type": "stream",
          "name": "stdout",
          "text": [
            "Epoch [797/3000]: Train loss: 1.3843, Valid loss: 1.8785\n"
          ]
        },
        {
          "output_type": "stream",
          "name": "stderr",
          "text": [
            "Epoch [798/3000]: 100%|██████████| 9/9 [00:00<00:00, 82.16it/s, loss=1.49]\n"
          ]
        },
        {
          "output_type": "stream",
          "name": "stdout",
          "text": [
            "Epoch [798/3000]: Train loss: 1.4041, Valid loss: 1.4439\n"
          ]
        },
        {
          "output_type": "stream",
          "name": "stderr",
          "text": [
            "Epoch [799/3000]: 100%|██████████| 9/9 [00:00<00:00, 97.58it/s, loss=1.56]\n"
          ]
        },
        {
          "output_type": "stream",
          "name": "stdout",
          "text": [
            "Epoch [799/3000]: Train loss: 1.4149, Valid loss: 1.5521\n"
          ]
        },
        {
          "output_type": "stream",
          "name": "stderr",
          "text": [
            "Epoch [800/3000]: 100%|██████████| 9/9 [00:00<00:00, 90.45it/s, loss=1.33]\n"
          ]
        },
        {
          "output_type": "stream",
          "name": "stdout",
          "text": [
            "Epoch [800/3000]: Train loss: 1.3652, Valid loss: 1.5312\n"
          ]
        },
        {
          "output_type": "stream",
          "name": "stderr",
          "text": [
            "Epoch [801/3000]: 100%|██████████| 9/9 [00:00<00:00, 77.18it/s, loss=1.41]\n"
          ]
        },
        {
          "output_type": "stream",
          "name": "stdout",
          "text": [
            "Epoch [801/3000]: Train loss: 1.3642, Valid loss: 1.3585\n",
            "Saving model with loss 1.358...\n"
          ]
        },
        {
          "output_type": "stream",
          "name": "stderr",
          "text": [
            "Epoch [802/3000]: 100%|██████████| 9/9 [00:00<00:00, 78.38it/s, loss=1.22]\n"
          ]
        },
        {
          "output_type": "stream",
          "name": "stdout",
          "text": [
            "Epoch [802/3000]: Train loss: 1.3822, Valid loss: 1.5546\n"
          ]
        },
        {
          "output_type": "stream",
          "name": "stderr",
          "text": [
            "Epoch [803/3000]: 100%|██████████| 9/9 [00:00<00:00, 91.61it/s, loss=1.96]\n"
          ]
        },
        {
          "output_type": "stream",
          "name": "stdout",
          "text": [
            "Epoch [803/3000]: Train loss: 1.3916, Valid loss: 1.5622\n"
          ]
        },
        {
          "output_type": "stream",
          "name": "stderr",
          "text": [
            "Epoch [804/3000]: 100%|██████████| 9/9 [00:00<00:00, 101.14it/s, loss=1.22]\n"
          ]
        },
        {
          "output_type": "stream",
          "name": "stdout",
          "text": [
            "Epoch [804/3000]: Train loss: 1.3680, Valid loss: 1.7051\n"
          ]
        },
        {
          "output_type": "stream",
          "name": "stderr",
          "text": [
            "Epoch [805/3000]: 100%|██████████| 9/9 [00:00<00:00, 116.67it/s, loss=0.973]\n"
          ]
        },
        {
          "output_type": "stream",
          "name": "stdout",
          "text": [
            "Epoch [805/3000]: Train loss: 1.3587, Valid loss: 1.6588\n"
          ]
        },
        {
          "output_type": "stream",
          "name": "stderr",
          "text": [
            "Epoch [806/3000]: 100%|██████████| 9/9 [00:00<00:00, 84.55it/s, loss=1.58]\n"
          ]
        },
        {
          "output_type": "stream",
          "name": "stdout",
          "text": [
            "Epoch [806/3000]: Train loss: 1.3703, Valid loss: 1.4475\n"
          ]
        },
        {
          "output_type": "stream",
          "name": "stderr",
          "text": [
            "Epoch [807/3000]: 100%|██████████| 9/9 [00:00<00:00, 91.35it/s, loss=1.38]\n"
          ]
        },
        {
          "output_type": "stream",
          "name": "stdout",
          "text": [
            "Epoch [807/3000]: Train loss: 1.3527, Valid loss: 1.6722\n"
          ]
        },
        {
          "output_type": "stream",
          "name": "stderr",
          "text": [
            "Epoch [808/3000]: 100%|██████████| 9/9 [00:00<00:00, 91.40it/s, loss=1.39]\n"
          ]
        },
        {
          "output_type": "stream",
          "name": "stdout",
          "text": [
            "Epoch [808/3000]: Train loss: 1.3649, Valid loss: 1.4968\n"
          ]
        },
        {
          "output_type": "stream",
          "name": "stderr",
          "text": [
            "Epoch [809/3000]: 100%|██████████| 9/9 [00:00<00:00, 105.98it/s, loss=1.71]\n"
          ]
        },
        {
          "output_type": "stream",
          "name": "stdout",
          "text": [
            "Epoch [809/3000]: Train loss: 1.3654, Valid loss: 1.4139\n"
          ]
        },
        {
          "output_type": "stream",
          "name": "stderr",
          "text": [
            "Epoch [810/3000]: 100%|██████████| 9/9 [00:00<00:00, 101.80it/s, loss=1.41]\n"
          ]
        },
        {
          "output_type": "stream",
          "name": "stdout",
          "text": [
            "Epoch [810/3000]: Train loss: 1.3503, Valid loss: 1.7696\n"
          ]
        },
        {
          "output_type": "stream",
          "name": "stderr",
          "text": [
            "Epoch [811/3000]: 100%|██████████| 9/9 [00:00<00:00, 83.87it/s, loss=1.33]\n"
          ]
        },
        {
          "output_type": "stream",
          "name": "stdout",
          "text": [
            "Epoch [811/3000]: Train loss: 1.3467, Valid loss: 1.8618\n"
          ]
        },
        {
          "output_type": "stream",
          "name": "stderr",
          "text": [
            "Epoch [812/3000]: 100%|██████████| 9/9 [00:00<00:00, 105.64it/s, loss=1.44]\n"
          ]
        },
        {
          "output_type": "stream",
          "name": "stdout",
          "text": [
            "Epoch [812/3000]: Train loss: 1.3666, Valid loss: 1.4849\n"
          ]
        },
        {
          "output_type": "stream",
          "name": "stderr",
          "text": [
            "Epoch [813/3000]: 100%|██████████| 9/9 [00:00<00:00, 85.20it/s, loss=1.26]\n"
          ]
        },
        {
          "output_type": "stream",
          "name": "stdout",
          "text": [
            "Epoch [813/3000]: Train loss: 1.3391, Valid loss: 1.4961\n"
          ]
        },
        {
          "output_type": "stream",
          "name": "stderr",
          "text": [
            "Epoch [814/3000]: 100%|██████████| 9/9 [00:00<00:00, 95.77it/s, loss=1.23]\n"
          ]
        },
        {
          "output_type": "stream",
          "name": "stdout",
          "text": [
            "Epoch [814/3000]: Train loss: 1.3383, Valid loss: 1.7983\n"
          ]
        },
        {
          "output_type": "stream",
          "name": "stderr",
          "text": [
            "Epoch [815/3000]: 100%|██████████| 9/9 [00:00<00:00, 110.18it/s, loss=1.22]\n"
          ]
        },
        {
          "output_type": "stream",
          "name": "stdout",
          "text": [
            "Epoch [815/3000]: Train loss: 1.3349, Valid loss: 1.3663\n"
          ]
        },
        {
          "output_type": "stream",
          "name": "stderr",
          "text": [
            "Epoch [816/3000]: 100%|██████████| 9/9 [00:00<00:00, 113.23it/s, loss=1.81]\n"
          ]
        },
        {
          "output_type": "stream",
          "name": "stdout",
          "text": [
            "Epoch [816/3000]: Train loss: 1.3685, Valid loss: 1.4507\n"
          ]
        },
        {
          "output_type": "stream",
          "name": "stderr",
          "text": [
            "Epoch [817/3000]: 100%|██████████| 9/9 [00:00<00:00, 85.70it/s, loss=1.63]\n"
          ]
        },
        {
          "output_type": "stream",
          "name": "stdout",
          "text": [
            "Epoch [817/3000]: Train loss: 1.3552, Valid loss: 1.8021\n"
          ]
        },
        {
          "output_type": "stream",
          "name": "stderr",
          "text": [
            "Epoch [818/3000]: 100%|██████████| 9/9 [00:00<00:00, 79.27it/s, loss=1.47]\n"
          ]
        },
        {
          "output_type": "stream",
          "name": "stdout",
          "text": [
            "Epoch [818/3000]: Train loss: 1.3441, Valid loss: 1.8942\n"
          ]
        },
        {
          "output_type": "stream",
          "name": "stderr",
          "text": [
            "Epoch [819/3000]: 100%|██████████| 9/9 [00:00<00:00, 84.62it/s, loss=1.39]\n"
          ]
        },
        {
          "output_type": "stream",
          "name": "stdout",
          "text": [
            "Epoch [819/3000]: Train loss: 1.3374, Valid loss: 1.5230\n"
          ]
        },
        {
          "output_type": "stream",
          "name": "stderr",
          "text": [
            "Epoch [820/3000]: 100%|██████████| 9/9 [00:00<00:00, 85.54it/s, loss=1.5]\n"
          ]
        },
        {
          "output_type": "stream",
          "name": "stdout",
          "text": [
            "Epoch [820/3000]: Train loss: 1.3561, Valid loss: 1.7840\n"
          ]
        },
        {
          "output_type": "stream",
          "name": "stderr",
          "text": [
            "Epoch [821/3000]: 100%|██████████| 9/9 [00:00<00:00, 109.87it/s, loss=1.36]\n"
          ]
        },
        {
          "output_type": "stream",
          "name": "stdout",
          "text": [
            "Epoch [821/3000]: Train loss: 1.3665, Valid loss: 1.4895\n"
          ]
        },
        {
          "output_type": "stream",
          "name": "stderr",
          "text": [
            "Epoch [822/3000]: 100%|██████████| 9/9 [00:00<00:00, 109.99it/s, loss=2.11]\n"
          ]
        },
        {
          "output_type": "stream",
          "name": "stdout",
          "text": [
            "Epoch [822/3000]: Train loss: 1.4245, Valid loss: 1.4858\n"
          ]
        },
        {
          "output_type": "stream",
          "name": "stderr",
          "text": [
            "Epoch [823/3000]: 100%|██████████| 9/9 [00:00<00:00, 111.02it/s, loss=0.841]\n"
          ]
        },
        {
          "output_type": "stream",
          "name": "stdout",
          "text": [
            "Epoch [823/3000]: Train loss: 1.3461, Valid loss: 1.5419\n"
          ]
        },
        {
          "output_type": "stream",
          "name": "stderr",
          "text": [
            "Epoch [824/3000]: 100%|██████████| 9/9 [00:00<00:00, 108.04it/s, loss=1.44]\n"
          ]
        },
        {
          "output_type": "stream",
          "name": "stdout",
          "text": [
            "Epoch [824/3000]: Train loss: 1.3477, Valid loss: 1.4470\n"
          ]
        },
        {
          "output_type": "stream",
          "name": "stderr",
          "text": [
            "Epoch [825/3000]: 100%|██████████| 9/9 [00:00<00:00, 122.40it/s, loss=1.11]\n"
          ]
        },
        {
          "output_type": "stream",
          "name": "stdout",
          "text": [
            "Epoch [825/3000]: Train loss: 1.3318, Valid loss: 1.4039\n"
          ]
        },
        {
          "output_type": "stream",
          "name": "stderr",
          "text": [
            "Epoch [826/3000]: 100%|██████████| 9/9 [00:00<00:00, 112.29it/s, loss=1.93]\n"
          ]
        },
        {
          "output_type": "stream",
          "name": "stdout",
          "text": [
            "Epoch [826/3000]: Train loss: 1.3734, Valid loss: 1.4548\n"
          ]
        },
        {
          "output_type": "stream",
          "name": "stderr",
          "text": [
            "Epoch [827/3000]: 100%|██████████| 9/9 [00:00<00:00, 115.74it/s, loss=1.25]\n"
          ]
        },
        {
          "output_type": "stream",
          "name": "stdout",
          "text": [
            "Epoch [827/3000]: Train loss: 1.3318, Valid loss: 1.5448\n"
          ]
        },
        {
          "output_type": "stream",
          "name": "stderr",
          "text": [
            "Epoch [828/3000]: 100%|██████████| 9/9 [00:00<00:00, 102.74it/s, loss=1.35]\n"
          ]
        },
        {
          "output_type": "stream",
          "name": "stdout",
          "text": [
            "Epoch [828/3000]: Train loss: 1.3283, Valid loss: 1.4768\n"
          ]
        },
        {
          "output_type": "stream",
          "name": "stderr",
          "text": [
            "Epoch [829/3000]: 100%|██████████| 9/9 [00:00<00:00, 94.15it/s, loss=1.49]\n"
          ]
        },
        {
          "output_type": "stream",
          "name": "stdout",
          "text": [
            "Epoch [829/3000]: Train loss: 1.3412, Valid loss: 1.4177\n"
          ]
        },
        {
          "output_type": "stream",
          "name": "stderr",
          "text": [
            "Epoch [830/3000]: 100%|██████████| 9/9 [00:00<00:00, 82.15it/s, loss=1.35]\n"
          ]
        },
        {
          "output_type": "stream",
          "name": "stdout",
          "text": [
            "Epoch [830/3000]: Train loss: 1.3244, Valid loss: 1.8395\n"
          ]
        },
        {
          "output_type": "stream",
          "name": "stderr",
          "text": [
            "Epoch [831/3000]: 100%|██████████| 9/9 [00:00<00:00, 91.41it/s, loss=1.62]\n"
          ]
        },
        {
          "output_type": "stream",
          "name": "stdout",
          "text": [
            "Epoch [831/3000]: Train loss: 1.3445, Valid loss: 1.7964\n"
          ]
        },
        {
          "output_type": "stream",
          "name": "stderr",
          "text": [
            "Epoch [832/3000]: 100%|██████████| 9/9 [00:00<00:00, 101.86it/s, loss=1.09]\n"
          ]
        },
        {
          "output_type": "stream",
          "name": "stdout",
          "text": [
            "Epoch [832/3000]: Train loss: 1.3132, Valid loss: 1.5375\n"
          ]
        },
        {
          "output_type": "stream",
          "name": "stderr",
          "text": [
            "Epoch [833/3000]: 100%|██████████| 9/9 [00:00<00:00, 109.13it/s, loss=1.02]\n"
          ]
        },
        {
          "output_type": "stream",
          "name": "stdout",
          "text": [
            "Epoch [833/3000]: Train loss: 1.3134, Valid loss: 1.6660\n"
          ]
        },
        {
          "output_type": "stream",
          "name": "stderr",
          "text": [
            "Epoch [834/3000]: 100%|██████████| 9/9 [00:00<00:00, 114.84it/s, loss=1.46]\n"
          ]
        },
        {
          "output_type": "stream",
          "name": "stdout",
          "text": [
            "Epoch [834/3000]: Train loss: 1.3386, Valid loss: 1.7693\n"
          ]
        },
        {
          "output_type": "stream",
          "name": "stderr",
          "text": [
            "Epoch [835/3000]: 100%|██████████| 9/9 [00:00<00:00, 113.15it/s, loss=1.49]\n"
          ]
        },
        {
          "output_type": "stream",
          "name": "stdout",
          "text": [
            "Epoch [835/3000]: Train loss: 1.3292, Valid loss: 1.9060\n"
          ]
        },
        {
          "output_type": "stream",
          "name": "stderr",
          "text": [
            "Epoch [836/3000]: 100%|██████████| 9/9 [00:00<00:00, 102.30it/s, loss=1.05]\n"
          ]
        },
        {
          "output_type": "stream",
          "name": "stdout",
          "text": [
            "Epoch [836/3000]: Train loss: 1.3015, Valid loss: 1.4770\n"
          ]
        },
        {
          "output_type": "stream",
          "name": "stderr",
          "text": [
            "Epoch [837/3000]: 100%|██████████| 9/9 [00:00<00:00, 83.93it/s, loss=1.38]\n"
          ]
        },
        {
          "output_type": "stream",
          "name": "stdout",
          "text": [
            "Epoch [837/3000]: Train loss: 1.3251, Valid loss: 1.5585\n"
          ]
        },
        {
          "output_type": "stream",
          "name": "stderr",
          "text": [
            "Epoch [838/3000]: 100%|██████████| 9/9 [00:00<00:00, 106.14it/s, loss=1.34]\n"
          ]
        },
        {
          "output_type": "stream",
          "name": "stdout",
          "text": [
            "Epoch [838/3000]: Train loss: 1.3237, Valid loss: 1.3626\n"
          ]
        },
        {
          "output_type": "stream",
          "name": "stderr",
          "text": [
            "Epoch [839/3000]: 100%|██████████| 9/9 [00:00<00:00, 103.92it/s, loss=1.45]\n"
          ]
        },
        {
          "output_type": "stream",
          "name": "stdout",
          "text": [
            "Epoch [839/3000]: Train loss: 1.3246, Valid loss: 1.9999\n"
          ]
        },
        {
          "output_type": "stream",
          "name": "stderr",
          "text": [
            "Epoch [840/3000]: 100%|██████████| 9/9 [00:00<00:00, 82.46it/s, loss=1.56]\n"
          ]
        },
        {
          "output_type": "stream",
          "name": "stdout",
          "text": [
            "Epoch [840/3000]: Train loss: 1.3378, Valid loss: 1.5108\n"
          ]
        },
        {
          "output_type": "stream",
          "name": "stderr",
          "text": [
            "Epoch [841/3000]: 100%|██████████| 9/9 [00:00<00:00, 94.22it/s, loss=1.22]\n"
          ]
        },
        {
          "output_type": "stream",
          "name": "stdout",
          "text": [
            "Epoch [841/3000]: Train loss: 1.3130, Valid loss: 1.5956\n"
          ]
        },
        {
          "output_type": "stream",
          "name": "stderr",
          "text": [
            "Epoch [842/3000]: 100%|██████████| 9/9 [00:00<00:00, 84.36it/s, loss=1.22]\n"
          ]
        },
        {
          "output_type": "stream",
          "name": "stdout",
          "text": [
            "Epoch [842/3000]: Train loss: 1.3113, Valid loss: 1.8472\n"
          ]
        },
        {
          "output_type": "stream",
          "name": "stderr",
          "text": [
            "Epoch [843/3000]: 100%|██████████| 9/9 [00:00<00:00, 84.87it/s, loss=1.65]\n"
          ]
        },
        {
          "output_type": "stream",
          "name": "stdout",
          "text": [
            "Epoch [843/3000]: Train loss: 1.3375, Valid loss: 1.5425\n"
          ]
        },
        {
          "output_type": "stream",
          "name": "stderr",
          "text": [
            "Epoch [844/3000]: 100%|██████████| 9/9 [00:00<00:00, 73.32it/s, loss=1.62]\n"
          ]
        },
        {
          "output_type": "stream",
          "name": "stdout",
          "text": [
            "Epoch [844/3000]: Train loss: 1.3406, Valid loss: 1.5992\n"
          ]
        },
        {
          "output_type": "stream",
          "name": "stderr",
          "text": [
            "Epoch [845/3000]: 100%|██████████| 9/9 [00:00<00:00, 97.63it/s, loss=1.44]\n"
          ]
        },
        {
          "output_type": "stream",
          "name": "stdout",
          "text": [
            "Epoch [845/3000]: Train loss: 1.3184, Valid loss: 1.5016\n"
          ]
        },
        {
          "output_type": "stream",
          "name": "stderr",
          "text": [
            "Epoch [846/3000]: 100%|██████████| 9/9 [00:00<00:00, 103.72it/s, loss=1.49]\n"
          ]
        },
        {
          "output_type": "stream",
          "name": "stdout",
          "text": [
            "Epoch [846/3000]: Train loss: 1.3456, Valid loss: 1.6388\n"
          ]
        },
        {
          "output_type": "stream",
          "name": "stderr",
          "text": [
            "Epoch [847/3000]: 100%|██████████| 9/9 [00:00<00:00, 91.79it/s, loss=1.55]\n"
          ]
        },
        {
          "output_type": "stream",
          "name": "stdout",
          "text": [
            "Epoch [847/3000]: Train loss: 1.3524, Valid loss: 1.5078\n"
          ]
        },
        {
          "output_type": "stream",
          "name": "stderr",
          "text": [
            "Epoch [848/3000]: 100%|██████████| 9/9 [00:00<00:00, 102.34it/s, loss=1.15]\n"
          ]
        },
        {
          "output_type": "stream",
          "name": "stdout",
          "text": [
            "Epoch [848/3000]: Train loss: 1.3149, Valid loss: 1.6152\n"
          ]
        },
        {
          "output_type": "stream",
          "name": "stderr",
          "text": [
            "Epoch [849/3000]: 100%|██████████| 9/9 [00:00<00:00, 105.58it/s, loss=1.06]\n"
          ]
        },
        {
          "output_type": "stream",
          "name": "stdout",
          "text": [
            "Epoch [849/3000]: Train loss: 1.3054, Valid loss: 1.4260\n"
          ]
        },
        {
          "output_type": "stream",
          "name": "stderr",
          "text": [
            "Epoch [850/3000]: 100%|██████████| 9/9 [00:00<00:00, 93.54it/s, loss=1.57]\n"
          ]
        },
        {
          "output_type": "stream",
          "name": "stdout",
          "text": [
            "Epoch [850/3000]: Train loss: 1.3283, Valid loss: 1.7079\n"
          ]
        },
        {
          "output_type": "stream",
          "name": "stderr",
          "text": [
            "Epoch [851/3000]: 100%|██████████| 9/9 [00:00<00:00, 72.89it/s, loss=0.874]\n"
          ]
        },
        {
          "output_type": "stream",
          "name": "stdout",
          "text": [
            "Epoch [851/3000]: Train loss: 1.2876, Valid loss: 1.5042\n"
          ]
        },
        {
          "output_type": "stream",
          "name": "stderr",
          "text": [
            "Epoch [852/3000]: 100%|██████████| 9/9 [00:00<00:00, 99.84it/s, loss=1.07]\n"
          ]
        },
        {
          "output_type": "stream",
          "name": "stdout",
          "text": [
            "Epoch [852/3000]: Train loss: 1.2993, Valid loss: 1.4255\n"
          ]
        },
        {
          "output_type": "stream",
          "name": "stderr",
          "text": [
            "Epoch [853/3000]: 100%|██████████| 9/9 [00:00<00:00, 102.84it/s, loss=1.19]\n"
          ]
        },
        {
          "output_type": "stream",
          "name": "stdout",
          "text": [
            "Epoch [853/3000]: Train loss: 1.3247, Valid loss: 1.4379\n"
          ]
        },
        {
          "output_type": "stream",
          "name": "stderr",
          "text": [
            "Epoch [854/3000]: 100%|██████████| 9/9 [00:00<00:00, 86.04it/s, loss=1.69]\n"
          ]
        },
        {
          "output_type": "stream",
          "name": "stdout",
          "text": [
            "Epoch [854/3000]: Train loss: 1.3421, Valid loss: 1.5327\n"
          ]
        },
        {
          "output_type": "stream",
          "name": "stderr",
          "text": [
            "Epoch [855/3000]: 100%|██████████| 9/9 [00:00<00:00, 33.33it/s, loss=0.955]\n"
          ]
        },
        {
          "output_type": "stream",
          "name": "stdout",
          "text": [
            "Epoch [855/3000]: Train loss: 1.2904, Valid loss: 1.5301\n"
          ]
        },
        {
          "output_type": "stream",
          "name": "stderr",
          "text": [
            "Epoch [856/3000]: 100%|██████████| 9/9 [00:00<00:00, 94.33it/s, loss=1.18]\n"
          ]
        },
        {
          "output_type": "stream",
          "name": "stdout",
          "text": [
            "Epoch [856/3000]: Train loss: 1.3129, Valid loss: 1.6661\n"
          ]
        },
        {
          "output_type": "stream",
          "name": "stderr",
          "text": [
            "Epoch [857/3000]: 100%|██████████| 9/9 [00:00<00:00, 83.97it/s, loss=1.17]\n"
          ]
        },
        {
          "output_type": "stream",
          "name": "stdout",
          "text": [
            "Epoch [857/3000]: Train loss: 1.3032, Valid loss: 1.7339\n"
          ]
        },
        {
          "output_type": "stream",
          "name": "stderr",
          "text": [
            "Epoch [858/3000]: 100%|██████████| 9/9 [00:00<00:00, 83.78it/s, loss=1.48]\n"
          ]
        },
        {
          "output_type": "stream",
          "name": "stdout",
          "text": [
            "Epoch [858/3000]: Train loss: 1.3105, Valid loss: 1.5705\n"
          ]
        },
        {
          "output_type": "stream",
          "name": "stderr",
          "text": [
            "Epoch [859/3000]: 100%|██████████| 9/9 [00:00<00:00, 89.94it/s, loss=1.16]\n"
          ]
        },
        {
          "output_type": "stream",
          "name": "stdout",
          "text": [
            "Epoch [859/3000]: Train loss: 1.2938, Valid loss: 1.4496\n"
          ]
        },
        {
          "output_type": "stream",
          "name": "stderr",
          "text": [
            "Epoch [860/3000]: 100%|██████████| 9/9 [00:00<00:00, 101.89it/s, loss=1.58]\n"
          ]
        },
        {
          "output_type": "stream",
          "name": "stdout",
          "text": [
            "Epoch [860/3000]: Train loss: 1.3202, Valid loss: 1.7527\n"
          ]
        },
        {
          "output_type": "stream",
          "name": "stderr",
          "text": [
            "Epoch [861/3000]: 100%|██████████| 9/9 [00:00<00:00, 93.22it/s, loss=1.38]\n"
          ]
        },
        {
          "output_type": "stream",
          "name": "stdout",
          "text": [
            "Epoch [861/3000]: Train loss: 1.3055, Valid loss: 1.7366\n"
          ]
        },
        {
          "output_type": "stream",
          "name": "stderr",
          "text": [
            "Epoch [862/3000]: 100%|██████████| 9/9 [00:00<00:00, 96.81it/s, loss=1.08]\n"
          ]
        },
        {
          "output_type": "stream",
          "name": "stdout",
          "text": [
            "Epoch [862/3000]: Train loss: 1.2891, Valid loss: 1.5940\n"
          ]
        },
        {
          "output_type": "stream",
          "name": "stderr",
          "text": [
            "Epoch [863/3000]: 100%|██████████| 9/9 [00:00<00:00, 66.18it/s, loss=1.06]\n"
          ]
        },
        {
          "output_type": "stream",
          "name": "stdout",
          "text": [
            "Epoch [863/3000]: Train loss: 1.2819, Valid loss: 1.6381\n"
          ]
        },
        {
          "output_type": "stream",
          "name": "stderr",
          "text": [
            "Epoch [864/3000]: 100%|██████████| 9/9 [00:00<00:00, 72.13it/s, loss=1.55]\n"
          ]
        },
        {
          "output_type": "stream",
          "name": "stdout",
          "text": [
            "Epoch [864/3000]: Train loss: 1.3100, Valid loss: 1.5793\n"
          ]
        },
        {
          "output_type": "stream",
          "name": "stderr",
          "text": [
            "Epoch [865/3000]: 100%|██████████| 9/9 [00:00<00:00, 99.26it/s, loss=1]\n"
          ]
        },
        {
          "output_type": "stream",
          "name": "stdout",
          "text": [
            "Epoch [865/3000]: Train loss: 1.2868, Valid loss: 1.5375\n"
          ]
        },
        {
          "output_type": "stream",
          "name": "stderr",
          "text": [
            "Epoch [866/3000]: 100%|██████████| 9/9 [00:00<00:00, 109.49it/s, loss=0.899]\n"
          ]
        },
        {
          "output_type": "stream",
          "name": "stdout",
          "text": [
            "Epoch [866/3000]: Train loss: 1.2935, Valid loss: 1.7107\n"
          ]
        },
        {
          "output_type": "stream",
          "name": "stderr",
          "text": [
            "Epoch [867/3000]: 100%|██████████| 9/9 [00:00<00:00, 102.02it/s, loss=1.22]\n"
          ]
        },
        {
          "output_type": "stream",
          "name": "stdout",
          "text": [
            "Epoch [867/3000]: Train loss: 1.3010, Valid loss: 1.4481\n"
          ]
        },
        {
          "output_type": "stream",
          "name": "stderr",
          "text": [
            "Epoch [868/3000]: 100%|██████████| 9/9 [00:00<00:00, 81.91it/s, loss=1.06]\n"
          ]
        },
        {
          "output_type": "stream",
          "name": "stdout",
          "text": [
            "Epoch [868/3000]: Train loss: 1.2916, Valid loss: 1.7096\n"
          ]
        },
        {
          "output_type": "stream",
          "name": "stderr",
          "text": [
            "Epoch [869/3000]: 100%|██████████| 9/9 [00:00<00:00, 108.15it/s, loss=1.1]\n"
          ]
        },
        {
          "output_type": "stream",
          "name": "stdout",
          "text": [
            "Epoch [869/3000]: Train loss: 1.2892, Valid loss: 2.0193\n"
          ]
        },
        {
          "output_type": "stream",
          "name": "stderr",
          "text": [
            "Epoch [870/3000]: 100%|██████████| 9/9 [00:00<00:00, 85.88it/s, loss=0.981]\n"
          ]
        },
        {
          "output_type": "stream",
          "name": "stdout",
          "text": [
            "Epoch [870/3000]: Train loss: 1.2967, Valid loss: 1.5566\n"
          ]
        },
        {
          "output_type": "stream",
          "name": "stderr",
          "text": [
            "Epoch [871/3000]: 100%|██████████| 9/9 [00:00<00:00, 121.83it/s, loss=0.994]\n"
          ]
        },
        {
          "output_type": "stream",
          "name": "stdout",
          "text": [
            "Epoch [871/3000]: Train loss: 1.2791, Valid loss: 1.5753\n"
          ]
        },
        {
          "output_type": "stream",
          "name": "stderr",
          "text": [
            "Epoch [872/3000]: 100%|██████████| 9/9 [00:00<00:00, 94.70it/s, loss=1.14]\n"
          ]
        },
        {
          "output_type": "stream",
          "name": "stdout",
          "text": [
            "Epoch [872/3000]: Train loss: 1.2796, Valid loss: 1.4548\n"
          ]
        },
        {
          "output_type": "stream",
          "name": "stderr",
          "text": [
            "Epoch [873/3000]: 100%|██████████| 9/9 [00:00<00:00, 79.11it/s, loss=1.16]\n"
          ]
        },
        {
          "output_type": "stream",
          "name": "stdout",
          "text": [
            "Epoch [873/3000]: Train loss: 1.2811, Valid loss: 1.4471\n"
          ]
        },
        {
          "output_type": "stream",
          "name": "stderr",
          "text": [
            "Epoch [874/3000]: 100%|██████████| 9/9 [00:00<00:00, 91.99it/s, loss=1.5]\n"
          ]
        },
        {
          "output_type": "stream",
          "name": "stdout",
          "text": [
            "Epoch [874/3000]: Train loss: 1.3158, Valid loss: 1.7720\n"
          ]
        },
        {
          "output_type": "stream",
          "name": "stderr",
          "text": [
            "Epoch [875/3000]: 100%|██████████| 9/9 [00:00<00:00, 108.31it/s, loss=1.49]\n"
          ]
        },
        {
          "output_type": "stream",
          "name": "stdout",
          "text": [
            "Epoch [875/3000]: Train loss: 1.3040, Valid loss: 1.3914\n"
          ]
        },
        {
          "output_type": "stream",
          "name": "stderr",
          "text": [
            "Epoch [876/3000]: 100%|██████████| 9/9 [00:00<00:00, 92.10it/s, loss=1.07]\n"
          ]
        },
        {
          "output_type": "stream",
          "name": "stdout",
          "text": [
            "Epoch [876/3000]: Train loss: 1.2783, Valid loss: 1.2395\n",
            "Saving model with loss 1.240...\n"
          ]
        },
        {
          "output_type": "stream",
          "name": "stderr",
          "text": [
            "Epoch [877/3000]: 100%|██████████| 9/9 [00:00<00:00, 91.17it/s, loss=0.859]\n"
          ]
        },
        {
          "output_type": "stream",
          "name": "stdout",
          "text": [
            "Epoch [877/3000]: Train loss: 1.2629, Valid loss: 1.6914\n"
          ]
        },
        {
          "output_type": "stream",
          "name": "stderr",
          "text": [
            "Epoch [878/3000]: 100%|██████████| 9/9 [00:00<00:00, 78.82it/s, loss=1.46]\n"
          ]
        },
        {
          "output_type": "stream",
          "name": "stdout",
          "text": [
            "Epoch [878/3000]: Train loss: 1.3010, Valid loss: 1.7834\n"
          ]
        },
        {
          "output_type": "stream",
          "name": "stderr",
          "text": [
            "Epoch [879/3000]: 100%|██████████| 9/9 [00:00<00:00, 75.40it/s, loss=1.18]\n"
          ]
        },
        {
          "output_type": "stream",
          "name": "stdout",
          "text": [
            "Epoch [879/3000]: Train loss: 1.2764, Valid loss: 1.4826\n"
          ]
        },
        {
          "output_type": "stream",
          "name": "stderr",
          "text": [
            "Epoch [880/3000]: 100%|██████████| 9/9 [00:00<00:00, 76.95it/s, loss=0.832]\n"
          ]
        },
        {
          "output_type": "stream",
          "name": "stdout",
          "text": [
            "Epoch [880/3000]: Train loss: 1.2552, Valid loss: 1.3359\n"
          ]
        },
        {
          "output_type": "stream",
          "name": "stderr",
          "text": [
            "Epoch [881/3000]: 100%|██████████| 9/9 [00:00<00:00, 118.13it/s, loss=1.31]\n"
          ]
        },
        {
          "output_type": "stream",
          "name": "stdout",
          "text": [
            "Epoch [881/3000]: Train loss: 1.2821, Valid loss: 1.5488\n"
          ]
        },
        {
          "output_type": "stream",
          "name": "stderr",
          "text": [
            "Epoch [882/3000]: 100%|██████████| 9/9 [00:00<00:00, 106.60it/s, loss=1.3]\n"
          ]
        },
        {
          "output_type": "stream",
          "name": "stdout",
          "text": [
            "Epoch [882/3000]: Train loss: 1.2821, Valid loss: 1.4986\n"
          ]
        },
        {
          "output_type": "stream",
          "name": "stderr",
          "text": [
            "Epoch [883/3000]: 100%|██████████| 9/9 [00:00<00:00, 111.67it/s, loss=0.659]\n"
          ]
        },
        {
          "output_type": "stream",
          "name": "stdout",
          "text": [
            "Epoch [883/3000]: Train loss: 1.2516, Valid loss: 1.7078\n"
          ]
        },
        {
          "output_type": "stream",
          "name": "stderr",
          "text": [
            "Epoch [884/3000]: 100%|██████████| 9/9 [00:00<00:00, 109.01it/s, loss=1.51]\n"
          ]
        },
        {
          "output_type": "stream",
          "name": "stdout",
          "text": [
            "Epoch [884/3000]: Train loss: 1.3193, Valid loss: 1.6378\n"
          ]
        },
        {
          "output_type": "stream",
          "name": "stderr",
          "text": [
            "Epoch [885/3000]: 100%|██████████| 9/9 [00:00<00:00, 113.67it/s, loss=0.974]\n"
          ]
        },
        {
          "output_type": "stream",
          "name": "stdout",
          "text": [
            "Epoch [885/3000]: Train loss: 1.2587, Valid loss: 1.5241\n"
          ]
        },
        {
          "output_type": "stream",
          "name": "stderr",
          "text": [
            "Epoch [886/3000]: 100%|██████████| 9/9 [00:00<00:00, 117.31it/s, loss=1.33]\n"
          ]
        },
        {
          "output_type": "stream",
          "name": "stdout",
          "text": [
            "Epoch [886/3000]: Train loss: 1.2896, Valid loss: 1.7442\n"
          ]
        },
        {
          "output_type": "stream",
          "name": "stderr",
          "text": [
            "Epoch [887/3000]: 100%|██████████| 9/9 [00:00<00:00, 97.37it/s, loss=1.26]\n"
          ]
        },
        {
          "output_type": "stream",
          "name": "stdout",
          "text": [
            "Epoch [887/3000]: Train loss: 1.2992, Valid loss: 1.5339\n"
          ]
        },
        {
          "output_type": "stream",
          "name": "stderr",
          "text": [
            "Epoch [888/3000]: 100%|██████████| 9/9 [00:00<00:00, 89.13it/s, loss=1.58]\n"
          ]
        },
        {
          "output_type": "stream",
          "name": "stdout",
          "text": [
            "Epoch [888/3000]: Train loss: 1.3111, Valid loss: 1.4131\n"
          ]
        },
        {
          "output_type": "stream",
          "name": "stderr",
          "text": [
            "Epoch [889/3000]: 100%|██████████| 9/9 [00:00<00:00, 78.63it/s, loss=1.52]\n"
          ]
        },
        {
          "output_type": "stream",
          "name": "stdout",
          "text": [
            "Epoch [889/3000]: Train loss: 1.3196, Valid loss: 1.6367\n"
          ]
        },
        {
          "output_type": "stream",
          "name": "stderr",
          "text": [
            "Epoch [890/3000]: 100%|██████████| 9/9 [00:00<00:00, 80.05it/s, loss=1.38]\n"
          ]
        },
        {
          "output_type": "stream",
          "name": "stdout",
          "text": [
            "Epoch [890/3000]: Train loss: 1.3254, Valid loss: 1.3891\n"
          ]
        },
        {
          "output_type": "stream",
          "name": "stderr",
          "text": [
            "Epoch [891/3000]: 100%|██████████| 9/9 [00:00<00:00, 78.97it/s, loss=1.26]\n"
          ]
        },
        {
          "output_type": "stream",
          "name": "stdout",
          "text": [
            "Epoch [891/3000]: Train loss: 1.2970, Valid loss: 1.4288\n"
          ]
        },
        {
          "output_type": "stream",
          "name": "stderr",
          "text": [
            "Epoch [892/3000]: 100%|██████████| 9/9 [00:00<00:00, 72.29it/s, loss=1.44]\n"
          ]
        },
        {
          "output_type": "stream",
          "name": "stdout",
          "text": [
            "Epoch [892/3000]: Train loss: 1.3001, Valid loss: 1.3528\n"
          ]
        },
        {
          "output_type": "stream",
          "name": "stderr",
          "text": [
            "Epoch [893/3000]: 100%|██████████| 9/9 [00:00<00:00, 78.33it/s, loss=1.34]\n"
          ]
        },
        {
          "output_type": "stream",
          "name": "stdout",
          "text": [
            "Epoch [893/3000]: Train loss: 1.2758, Valid loss: 1.7050\n"
          ]
        },
        {
          "output_type": "stream",
          "name": "stderr",
          "text": [
            "Epoch [894/3000]: 100%|██████████| 9/9 [00:00<00:00, 103.38it/s, loss=1.09]\n"
          ]
        },
        {
          "output_type": "stream",
          "name": "stdout",
          "text": [
            "Epoch [894/3000]: Train loss: 1.2630, Valid loss: 1.6244\n"
          ]
        },
        {
          "output_type": "stream",
          "name": "stderr",
          "text": [
            "Epoch [895/3000]: 100%|██████████| 9/9 [00:00<00:00, 98.64it/s, loss=1.25]\n"
          ]
        },
        {
          "output_type": "stream",
          "name": "stdout",
          "text": [
            "Epoch [895/3000]: Train loss: 1.2710, Valid loss: 1.2732\n"
          ]
        },
        {
          "output_type": "stream",
          "name": "stderr",
          "text": [
            "Epoch [896/3000]: 100%|██████████| 9/9 [00:00<00:00, 99.00it/s, loss=0.938]\n"
          ]
        },
        {
          "output_type": "stream",
          "name": "stdout",
          "text": [
            "Epoch [896/3000]: Train loss: 1.2608, Valid loss: 1.6063\n"
          ]
        },
        {
          "output_type": "stream",
          "name": "stderr",
          "text": [
            "Epoch [897/3000]: 100%|██████████| 9/9 [00:00<00:00, 99.28it/s, loss=1.31]\n"
          ]
        },
        {
          "output_type": "stream",
          "name": "stdout",
          "text": [
            "Epoch [897/3000]: Train loss: 1.2776, Valid loss: 1.5425\n"
          ]
        },
        {
          "output_type": "stream",
          "name": "stderr",
          "text": [
            "Epoch [898/3000]: 100%|██████████| 9/9 [00:00<00:00, 93.10it/s, loss=1.39]\n"
          ]
        },
        {
          "output_type": "stream",
          "name": "stdout",
          "text": [
            "Epoch [898/3000]: Train loss: 1.2869, Valid loss: 1.2877\n"
          ]
        },
        {
          "output_type": "stream",
          "name": "stderr",
          "text": [
            "Epoch [899/3000]: 100%|██████████| 9/9 [00:00<00:00, 92.03it/s, loss=1.31]\n"
          ]
        },
        {
          "output_type": "stream",
          "name": "stdout",
          "text": [
            "Epoch [899/3000]: Train loss: 1.2937, Valid loss: 1.6148\n"
          ]
        },
        {
          "output_type": "stream",
          "name": "stderr",
          "text": [
            "Epoch [900/3000]: 100%|██████████| 9/9 [00:00<00:00, 94.41it/s, loss=0.955]\n"
          ]
        },
        {
          "output_type": "stream",
          "name": "stdout",
          "text": [
            "Epoch [900/3000]: Train loss: 1.2799, Valid loss: 1.3568\n"
          ]
        },
        {
          "output_type": "stream",
          "name": "stderr",
          "text": [
            "Epoch [901/3000]: 100%|██████████| 9/9 [00:00<00:00, 96.88it/s, loss=1.35]\n"
          ]
        },
        {
          "output_type": "stream",
          "name": "stdout",
          "text": [
            "Epoch [901/3000]: Train loss: 1.2867, Valid loss: 1.5727\n"
          ]
        },
        {
          "output_type": "stream",
          "name": "stderr",
          "text": [
            "Epoch [902/3000]: 100%|██████████| 9/9 [00:00<00:00, 88.02it/s, loss=0.971]\n"
          ]
        },
        {
          "output_type": "stream",
          "name": "stdout",
          "text": [
            "Epoch [902/3000]: Train loss: 1.2478, Valid loss: 1.4826\n"
          ]
        },
        {
          "output_type": "stream",
          "name": "stderr",
          "text": [
            "Epoch [903/3000]: 100%|██████████| 9/9 [00:00<00:00, 96.01it/s, loss=1.48]\n"
          ]
        },
        {
          "output_type": "stream",
          "name": "stdout",
          "text": [
            "Epoch [903/3000]: Train loss: 1.2835, Valid loss: 1.4675\n"
          ]
        },
        {
          "output_type": "stream",
          "name": "stderr",
          "text": [
            "Epoch [904/3000]: 100%|██████████| 9/9 [00:00<00:00, 98.04it/s, loss=1.63]\n"
          ]
        },
        {
          "output_type": "stream",
          "name": "stdout",
          "text": [
            "Epoch [904/3000]: Train loss: 1.2939, Valid loss: 1.5763\n"
          ]
        },
        {
          "output_type": "stream",
          "name": "stderr",
          "text": [
            "Epoch [905/3000]: 100%|██████████| 9/9 [00:00<00:00, 80.06it/s, loss=1.32]\n"
          ]
        },
        {
          "output_type": "stream",
          "name": "stdout",
          "text": [
            "Epoch [905/3000]: Train loss: 1.2862, Valid loss: 1.5250\n"
          ]
        },
        {
          "output_type": "stream",
          "name": "stderr",
          "text": [
            "Epoch [906/3000]: 100%|██████████| 9/9 [00:00<00:00, 92.88it/s, loss=1.09]\n"
          ]
        },
        {
          "output_type": "stream",
          "name": "stdout",
          "text": [
            "Epoch [906/3000]: Train loss: 1.2744, Valid loss: 1.3982\n"
          ]
        },
        {
          "output_type": "stream",
          "name": "stderr",
          "text": [
            "Epoch [907/3000]: 100%|██████████| 9/9 [00:00<00:00, 96.96it/s, loss=1.32]\n"
          ]
        },
        {
          "output_type": "stream",
          "name": "stdout",
          "text": [
            "Epoch [907/3000]: Train loss: 1.2756, Valid loss: 1.8453\n"
          ]
        },
        {
          "output_type": "stream",
          "name": "stderr",
          "text": [
            "Epoch [908/3000]: 100%|██████████| 9/9 [00:00<00:00, 107.19it/s, loss=1.18]\n"
          ]
        },
        {
          "output_type": "stream",
          "name": "stdout",
          "text": [
            "Epoch [908/3000]: Train loss: 1.2600, Valid loss: 1.2163\n",
            "Saving model with loss 1.216...\n"
          ]
        },
        {
          "output_type": "stream",
          "name": "stderr",
          "text": [
            "Epoch [909/3000]: 100%|██████████| 9/9 [00:00<00:00, 104.11it/s, loss=1.5]\n"
          ]
        },
        {
          "output_type": "stream",
          "name": "stdout",
          "text": [
            "Epoch [909/3000]: Train loss: 1.2745, Valid loss: 1.5843\n"
          ]
        },
        {
          "output_type": "stream",
          "name": "stderr",
          "text": [
            "Epoch [910/3000]: 100%|██████████| 9/9 [00:00<00:00, 91.49it/s, loss=1.49]\n"
          ]
        },
        {
          "output_type": "stream",
          "name": "stdout",
          "text": [
            "Epoch [910/3000]: Train loss: 1.2807, Valid loss: 1.6564\n"
          ]
        },
        {
          "output_type": "stream",
          "name": "stderr",
          "text": [
            "Epoch [911/3000]: 100%|██████████| 9/9 [00:00<00:00, 90.35it/s, loss=1.44]\n"
          ]
        },
        {
          "output_type": "stream",
          "name": "stdout",
          "text": [
            "Epoch [911/3000]: Train loss: 1.2688, Valid loss: 1.4477\n"
          ]
        },
        {
          "output_type": "stream",
          "name": "stderr",
          "text": [
            "Epoch [912/3000]: 100%|██████████| 9/9 [00:00<00:00, 101.19it/s, loss=1.6]\n"
          ]
        },
        {
          "output_type": "stream",
          "name": "stdout",
          "text": [
            "Epoch [912/3000]: Train loss: 1.3016, Valid loss: 1.3612\n"
          ]
        },
        {
          "output_type": "stream",
          "name": "stderr",
          "text": [
            "Epoch [913/3000]: 100%|██████████| 9/9 [00:00<00:00, 83.74it/s, loss=1.04]\n"
          ]
        },
        {
          "output_type": "stream",
          "name": "stdout",
          "text": [
            "Epoch [913/3000]: Train loss: 1.2742, Valid loss: 1.4641\n"
          ]
        },
        {
          "output_type": "stream",
          "name": "stderr",
          "text": [
            "Epoch [914/3000]: 100%|██████████| 9/9 [00:00<00:00, 87.15it/s, loss=1.48]\n"
          ]
        },
        {
          "output_type": "stream",
          "name": "stdout",
          "text": [
            "Epoch [914/3000]: Train loss: 1.2939, Valid loss: 1.3344\n"
          ]
        },
        {
          "output_type": "stream",
          "name": "stderr",
          "text": [
            "Epoch [915/3000]: 100%|██████████| 9/9 [00:00<00:00, 102.26it/s, loss=1.88]\n"
          ]
        },
        {
          "output_type": "stream",
          "name": "stdout",
          "text": [
            "Epoch [915/3000]: Train loss: 1.3030, Valid loss: 1.4695\n"
          ]
        },
        {
          "output_type": "stream",
          "name": "stderr",
          "text": [
            "Epoch [916/3000]: 100%|██████████| 9/9 [00:00<00:00, 92.18it/s, loss=1.53]\n"
          ]
        },
        {
          "output_type": "stream",
          "name": "stdout",
          "text": [
            "Epoch [916/3000]: Train loss: 1.2751, Valid loss: 1.5513\n"
          ]
        },
        {
          "output_type": "stream",
          "name": "stderr",
          "text": [
            "Epoch [917/3000]: 100%|██████████| 9/9 [00:00<00:00, 113.57it/s, loss=1.18]\n"
          ]
        },
        {
          "output_type": "stream",
          "name": "stdout",
          "text": [
            "Epoch [917/3000]: Train loss: 1.2497, Valid loss: 1.4743\n"
          ]
        },
        {
          "output_type": "stream",
          "name": "stderr",
          "text": [
            "Epoch [918/3000]: 100%|██████████| 9/9 [00:00<00:00, 108.57it/s, loss=1.31]\n"
          ]
        },
        {
          "output_type": "stream",
          "name": "stdout",
          "text": [
            "Epoch [918/3000]: Train loss: 1.2579, Valid loss: 1.6003\n"
          ]
        },
        {
          "output_type": "stream",
          "name": "stderr",
          "text": [
            "Epoch [919/3000]: 100%|██████████| 9/9 [00:00<00:00, 112.03it/s, loss=1.43]\n"
          ]
        },
        {
          "output_type": "stream",
          "name": "stdout",
          "text": [
            "Epoch [919/3000]: Train loss: 1.2609, Valid loss: 1.4914\n"
          ]
        },
        {
          "output_type": "stream",
          "name": "stderr",
          "text": [
            "Epoch [920/3000]: 100%|██████████| 9/9 [00:00<00:00, 85.38it/s, loss=0.862]\n"
          ]
        },
        {
          "output_type": "stream",
          "name": "stdout",
          "text": [
            "Epoch [920/3000]: Train loss: 1.2243, Valid loss: 1.6462\n"
          ]
        },
        {
          "output_type": "stream",
          "name": "stderr",
          "text": [
            "Epoch [921/3000]: 100%|██████████| 9/9 [00:00<00:00, 92.41it/s, loss=0.909]\n"
          ]
        },
        {
          "output_type": "stream",
          "name": "stdout",
          "text": [
            "Epoch [921/3000]: Train loss: 1.2284, Valid loss: 1.6593\n"
          ]
        },
        {
          "output_type": "stream",
          "name": "stderr",
          "text": [
            "Epoch [922/3000]: 100%|██████████| 9/9 [00:00<00:00, 69.75it/s, loss=1.63]\n"
          ]
        },
        {
          "output_type": "stream",
          "name": "stdout",
          "text": [
            "Epoch [922/3000]: Train loss: 1.2728, Valid loss: 1.5733\n"
          ]
        },
        {
          "output_type": "stream",
          "name": "stderr",
          "text": [
            "Epoch [923/3000]: 100%|██████████| 9/9 [00:00<00:00, 73.53it/s, loss=1.35]\n"
          ]
        },
        {
          "output_type": "stream",
          "name": "stdout",
          "text": [
            "Epoch [923/3000]: Train loss: 1.2622, Valid loss: 1.6745\n"
          ]
        },
        {
          "output_type": "stream",
          "name": "stderr",
          "text": [
            "Epoch [924/3000]: 100%|██████████| 9/9 [00:00<00:00, 97.02it/s, loss=1.34]\n"
          ]
        },
        {
          "output_type": "stream",
          "name": "stdout",
          "text": [
            "Epoch [924/3000]: Train loss: 1.2597, Valid loss: 1.3815\n"
          ]
        },
        {
          "output_type": "stream",
          "name": "stderr",
          "text": [
            "Epoch [925/3000]: 100%|██████████| 9/9 [00:00<00:00, 106.70it/s, loss=1.55]\n"
          ]
        },
        {
          "output_type": "stream",
          "name": "stdout",
          "text": [
            "Epoch [925/3000]: Train loss: 1.2686, Valid loss: 1.7125\n"
          ]
        },
        {
          "output_type": "stream",
          "name": "stderr",
          "text": [
            "Epoch [926/3000]: 100%|██████████| 9/9 [00:00<00:00, 78.92it/s, loss=1.42]\n"
          ]
        },
        {
          "output_type": "stream",
          "name": "stdout",
          "text": [
            "Epoch [926/3000]: Train loss: 1.2600, Valid loss: 1.4266\n"
          ]
        },
        {
          "output_type": "stream",
          "name": "stderr",
          "text": [
            "Epoch [927/3000]: 100%|██████████| 9/9 [00:00<00:00, 108.64it/s, loss=1.51]\n"
          ]
        },
        {
          "output_type": "stream",
          "name": "stdout",
          "text": [
            "Epoch [927/3000]: Train loss: 1.2622, Valid loss: 1.3516\n"
          ]
        },
        {
          "output_type": "stream",
          "name": "stderr",
          "text": [
            "Epoch [928/3000]: 100%|██████████| 9/9 [00:00<00:00, 113.88it/s, loss=1.41]\n"
          ]
        },
        {
          "output_type": "stream",
          "name": "stdout",
          "text": [
            "Epoch [928/3000]: Train loss: 1.2537, Valid loss: 1.5763\n"
          ]
        },
        {
          "output_type": "stream",
          "name": "stderr",
          "text": [
            "Epoch [929/3000]: 100%|██████████| 9/9 [00:00<00:00, 111.78it/s, loss=1.42]\n"
          ]
        },
        {
          "output_type": "stream",
          "name": "stdout",
          "text": [
            "Epoch [929/3000]: Train loss: 1.2585, Valid loss: 1.6713\n"
          ]
        },
        {
          "output_type": "stream",
          "name": "stderr",
          "text": [
            "Epoch [930/3000]: 100%|██████████| 9/9 [00:00<00:00, 108.81it/s, loss=1.47]\n"
          ]
        },
        {
          "output_type": "stream",
          "name": "stdout",
          "text": [
            "Epoch [930/3000]: Train loss: 1.2611, Valid loss: 1.4060\n"
          ]
        },
        {
          "output_type": "stream",
          "name": "stderr",
          "text": [
            "Epoch [931/3000]: 100%|██████████| 9/9 [00:00<00:00, 90.25it/s, loss=1.12]\n"
          ]
        },
        {
          "output_type": "stream",
          "name": "stdout",
          "text": [
            "Epoch [931/3000]: Train loss: 1.2520, Valid loss: 1.5962\n"
          ]
        },
        {
          "output_type": "stream",
          "name": "stderr",
          "text": [
            "Epoch [932/3000]: 100%|██████████| 9/9 [00:00<00:00, 106.64it/s, loss=1.26]\n"
          ]
        },
        {
          "output_type": "stream",
          "name": "stdout",
          "text": [
            "Epoch [932/3000]: Train loss: 1.2478, Valid loss: 1.8586\n"
          ]
        },
        {
          "output_type": "stream",
          "name": "stderr",
          "text": [
            "Epoch [933/3000]: 100%|██████████| 9/9 [00:00<00:00, 117.26it/s, loss=0.805]\n"
          ]
        },
        {
          "output_type": "stream",
          "name": "stdout",
          "text": [
            "Epoch [933/3000]: Train loss: 1.2225, Valid loss: 1.4826\n"
          ]
        },
        {
          "output_type": "stream",
          "name": "stderr",
          "text": [
            "Epoch [934/3000]: 100%|██████████| 9/9 [00:00<00:00, 93.93it/s, loss=1.02]\n"
          ]
        },
        {
          "output_type": "stream",
          "name": "stdout",
          "text": [
            "Epoch [934/3000]: Train loss: 1.2305, Valid loss: 1.3971\n"
          ]
        },
        {
          "output_type": "stream",
          "name": "stderr",
          "text": [
            "Epoch [935/3000]: 100%|██████████| 9/9 [00:00<00:00, 102.23it/s, loss=1.12]\n"
          ]
        },
        {
          "output_type": "stream",
          "name": "stdout",
          "text": [
            "Epoch [935/3000]: Train loss: 1.2425, Valid loss: 1.4481\n"
          ]
        },
        {
          "output_type": "stream",
          "name": "stderr",
          "text": [
            "Epoch [936/3000]: 100%|██████████| 9/9 [00:00<00:00, 98.03it/s, loss=1.19]\n"
          ]
        },
        {
          "output_type": "stream",
          "name": "stdout",
          "text": [
            "Epoch [936/3000]: Train loss: 1.2436, Valid loss: 1.3876\n"
          ]
        },
        {
          "output_type": "stream",
          "name": "stderr",
          "text": [
            "Epoch [937/3000]: 100%|██████████| 9/9 [00:00<00:00, 100.88it/s, loss=1.09]\n"
          ]
        },
        {
          "output_type": "stream",
          "name": "stdout",
          "text": [
            "Epoch [937/3000]: Train loss: 1.2394, Valid loss: 1.5296\n"
          ]
        },
        {
          "output_type": "stream",
          "name": "stderr",
          "text": [
            "Epoch [938/3000]: 100%|██████████| 9/9 [00:00<00:00, 98.71it/s, loss=1.09]\n"
          ]
        },
        {
          "output_type": "stream",
          "name": "stdout",
          "text": [
            "Epoch [938/3000]: Train loss: 1.2466, Valid loss: 1.2990\n"
          ]
        },
        {
          "output_type": "stream",
          "name": "stderr",
          "text": [
            "Epoch [939/3000]: 100%|██████████| 9/9 [00:00<00:00, 97.50it/s, loss=1.26]\n"
          ]
        },
        {
          "output_type": "stream",
          "name": "stdout",
          "text": [
            "Epoch [939/3000]: Train loss: 1.2699, Valid loss: 1.9075\n"
          ]
        },
        {
          "output_type": "stream",
          "name": "stderr",
          "text": [
            "Epoch [940/3000]: 100%|██████████| 9/9 [00:00<00:00, 86.40it/s, loss=1.3]\n"
          ]
        },
        {
          "output_type": "stream",
          "name": "stdout",
          "text": [
            "Epoch [940/3000]: Train loss: 1.2710, Valid loss: 1.4328\n"
          ]
        },
        {
          "output_type": "stream",
          "name": "stderr",
          "text": [
            "Epoch [941/3000]: 100%|██████████| 9/9 [00:00<00:00, 96.62it/s, loss=1]\n"
          ]
        },
        {
          "output_type": "stream",
          "name": "stdout",
          "text": [
            "Epoch [941/3000]: Train loss: 1.2266, Valid loss: 1.4632\n"
          ]
        },
        {
          "output_type": "stream",
          "name": "stderr",
          "text": [
            "Epoch [942/3000]: 100%|██████████| 9/9 [00:00<00:00, 73.89it/s, loss=1.25]\n"
          ]
        },
        {
          "output_type": "stream",
          "name": "stdout",
          "text": [
            "Epoch [942/3000]: Train loss: 1.2416, Valid loss: 1.2888\n"
          ]
        },
        {
          "output_type": "stream",
          "name": "stderr",
          "text": [
            "Epoch [943/3000]: 100%|██████████| 9/9 [00:00<00:00, 100.56it/s, loss=1.62]\n"
          ]
        },
        {
          "output_type": "stream",
          "name": "stdout",
          "text": [
            "Epoch [943/3000]: Train loss: 1.2581, Valid loss: 1.4311\n"
          ]
        },
        {
          "output_type": "stream",
          "name": "stderr",
          "text": [
            "Epoch [944/3000]: 100%|██████████| 9/9 [00:00<00:00, 95.22it/s, loss=1.17]\n"
          ]
        },
        {
          "output_type": "stream",
          "name": "stdout",
          "text": [
            "Epoch [944/3000]: Train loss: 1.2270, Valid loss: 1.4666\n"
          ]
        },
        {
          "output_type": "stream",
          "name": "stderr",
          "text": [
            "Epoch [945/3000]: 100%|██████████| 9/9 [00:00<00:00, 84.60it/s, loss=1.43]\n"
          ]
        },
        {
          "output_type": "stream",
          "name": "stdout",
          "text": [
            "Epoch [945/3000]: Train loss: 1.2635, Valid loss: 1.4111\n"
          ]
        },
        {
          "output_type": "stream",
          "name": "stderr",
          "text": [
            "Epoch [946/3000]: 100%|██████████| 9/9 [00:00<00:00, 93.33it/s, loss=1.25]\n"
          ]
        },
        {
          "output_type": "stream",
          "name": "stdout",
          "text": [
            "Epoch [946/3000]: Train loss: 1.2635, Valid loss: 1.5236\n"
          ]
        },
        {
          "output_type": "stream",
          "name": "stderr",
          "text": [
            "Epoch [947/3000]: 100%|██████████| 9/9 [00:00<00:00, 80.85it/s, loss=1.44]\n"
          ]
        },
        {
          "output_type": "stream",
          "name": "stdout",
          "text": [
            "Epoch [947/3000]: Train loss: 1.2513, Valid loss: 1.3275\n"
          ]
        },
        {
          "output_type": "stream",
          "name": "stderr",
          "text": [
            "Epoch [948/3000]: 100%|██████████| 9/9 [00:00<00:00, 92.16it/s, loss=1.49]\n"
          ]
        },
        {
          "output_type": "stream",
          "name": "stdout",
          "text": [
            "Epoch [948/3000]: Train loss: 1.2518, Valid loss: 1.8292\n"
          ]
        },
        {
          "output_type": "stream",
          "name": "stderr",
          "text": [
            "Epoch [949/3000]: 100%|██████████| 9/9 [00:00<00:00, 100.01it/s, loss=1.63]\n"
          ]
        },
        {
          "output_type": "stream",
          "name": "stdout",
          "text": [
            "Epoch [949/3000]: Train loss: 1.2562, Valid loss: 1.4740\n"
          ]
        },
        {
          "output_type": "stream",
          "name": "stderr",
          "text": [
            "Epoch [950/3000]: 100%|██████████| 9/9 [00:00<00:00, 90.22it/s, loss=1.59]\n"
          ]
        },
        {
          "output_type": "stream",
          "name": "stdout",
          "text": [
            "Epoch [950/3000]: Train loss: 1.2563, Valid loss: 1.5801\n"
          ]
        },
        {
          "output_type": "stream",
          "name": "stderr",
          "text": [
            "Epoch [951/3000]: 100%|██████████| 9/9 [00:00<00:00, 91.87it/s, loss=1.16]\n"
          ]
        },
        {
          "output_type": "stream",
          "name": "stdout",
          "text": [
            "Epoch [951/3000]: Train loss: 1.2245, Valid loss: 1.5674\n"
          ]
        },
        {
          "output_type": "stream",
          "name": "stderr",
          "text": [
            "Epoch [952/3000]: 100%|██████████| 9/9 [00:00<00:00, 92.81it/s, loss=1.03]\n"
          ]
        },
        {
          "output_type": "stream",
          "name": "stdout",
          "text": [
            "Epoch [952/3000]: Train loss: 1.2153, Valid loss: 1.6306\n"
          ]
        },
        {
          "output_type": "stream",
          "name": "stderr",
          "text": [
            "Epoch [953/3000]: 100%|██████████| 9/9 [00:00<00:00, 98.98it/s, loss=1.28]\n"
          ]
        },
        {
          "output_type": "stream",
          "name": "stdout",
          "text": [
            "Epoch [953/3000]: Train loss: 1.2543, Valid loss: 1.3859\n"
          ]
        },
        {
          "output_type": "stream",
          "name": "stderr",
          "text": [
            "Epoch [954/3000]: 100%|██████████| 9/9 [00:00<00:00, 78.58it/s, loss=1.36]\n"
          ]
        },
        {
          "output_type": "stream",
          "name": "stdout",
          "text": [
            "Epoch [954/3000]: Train loss: 1.2362, Valid loss: 1.5241\n"
          ]
        },
        {
          "output_type": "stream",
          "name": "stderr",
          "text": [
            "Epoch [955/3000]: 100%|██████████| 9/9 [00:00<00:00, 87.74it/s, loss=0.847]\n"
          ]
        },
        {
          "output_type": "stream",
          "name": "stdout",
          "text": [
            "Epoch [955/3000]: Train loss: 1.2117, Valid loss: 1.4726\n"
          ]
        },
        {
          "output_type": "stream",
          "name": "stderr",
          "text": [
            "Epoch [956/3000]: 100%|██████████| 9/9 [00:00<00:00, 72.80it/s, loss=1.47]\n"
          ]
        },
        {
          "output_type": "stream",
          "name": "stdout",
          "text": [
            "Epoch [956/3000]: Train loss: 1.2715, Valid loss: 1.5040\n"
          ]
        },
        {
          "output_type": "stream",
          "name": "stderr",
          "text": [
            "Epoch [957/3000]: 100%|██████████| 9/9 [00:00<00:00, 93.68it/s, loss=1.14]\n"
          ]
        },
        {
          "output_type": "stream",
          "name": "stdout",
          "text": [
            "Epoch [957/3000]: Train loss: 1.2460, Valid loss: 1.6193\n"
          ]
        },
        {
          "output_type": "stream",
          "name": "stderr",
          "text": [
            "Epoch [958/3000]: 100%|██████████| 9/9 [00:00<00:00, 97.25it/s, loss=1.32]\n"
          ]
        },
        {
          "output_type": "stream",
          "name": "stdout",
          "text": [
            "Epoch [958/3000]: Train loss: 1.2591, Valid loss: 1.6257\n"
          ]
        },
        {
          "output_type": "stream",
          "name": "stderr",
          "text": [
            "Epoch [959/3000]: 100%|██████████| 9/9 [00:00<00:00, 75.77it/s, loss=1.18]\n"
          ]
        },
        {
          "output_type": "stream",
          "name": "stdout",
          "text": [
            "Epoch [959/3000]: Train loss: 1.2758, Valid loss: 1.6279\n"
          ]
        },
        {
          "output_type": "stream",
          "name": "stderr",
          "text": [
            "Epoch [960/3000]: 100%|██████████| 9/9 [00:00<00:00, 73.02it/s, loss=1.31]\n"
          ]
        },
        {
          "output_type": "stream",
          "name": "stdout",
          "text": [
            "Epoch [960/3000]: Train loss: 1.2557, Valid loss: 1.8469\n"
          ]
        },
        {
          "output_type": "stream",
          "name": "stderr",
          "text": [
            "Epoch [961/3000]: 100%|██████████| 9/9 [00:00<00:00, 75.82it/s, loss=0.889]\n"
          ]
        },
        {
          "output_type": "stream",
          "name": "stdout",
          "text": [
            "Epoch [961/3000]: Train loss: 1.2285, Valid loss: 1.3702\n"
          ]
        },
        {
          "output_type": "stream",
          "name": "stderr",
          "text": [
            "Epoch [962/3000]: 100%|██████████| 9/9 [00:00<00:00, 103.76it/s, loss=1.66]\n"
          ]
        },
        {
          "output_type": "stream",
          "name": "stdout",
          "text": [
            "Epoch [962/3000]: Train loss: 1.2540, Valid loss: 1.4129\n"
          ]
        },
        {
          "output_type": "stream",
          "name": "stderr",
          "text": [
            "Epoch [963/3000]: 100%|██████████| 9/9 [00:00<00:00, 110.37it/s, loss=1.34]\n"
          ]
        },
        {
          "output_type": "stream",
          "name": "stdout",
          "text": [
            "Epoch [963/3000]: Train loss: 1.2483, Valid loss: 1.4729\n"
          ]
        },
        {
          "output_type": "stream",
          "name": "stderr",
          "text": [
            "Epoch [964/3000]: 100%|██████████| 9/9 [00:00<00:00, 115.47it/s, loss=1.52]\n"
          ]
        },
        {
          "output_type": "stream",
          "name": "stdout",
          "text": [
            "Epoch [964/3000]: Train loss: 1.2554, Valid loss: 1.5575\n"
          ]
        },
        {
          "output_type": "stream",
          "name": "stderr",
          "text": [
            "Epoch [965/3000]: 100%|██████████| 9/9 [00:00<00:00, 119.04it/s, loss=1.49]\n"
          ]
        },
        {
          "output_type": "stream",
          "name": "stdout",
          "text": [
            "Epoch [965/3000]: Train loss: 1.2433, Valid loss: 1.4869\n"
          ]
        },
        {
          "output_type": "stream",
          "name": "stderr",
          "text": [
            "Epoch [966/3000]: 100%|██████████| 9/9 [00:00<00:00, 102.11it/s, loss=0.946]\n"
          ]
        },
        {
          "output_type": "stream",
          "name": "stdout",
          "text": [
            "Epoch [966/3000]: Train loss: 1.2057, Valid loss: 1.4028\n"
          ]
        },
        {
          "output_type": "stream",
          "name": "stderr",
          "text": [
            "Epoch [967/3000]: 100%|██████████| 9/9 [00:00<00:00, 83.67it/s, loss=1.4]\n"
          ]
        },
        {
          "output_type": "stream",
          "name": "stdout",
          "text": [
            "Epoch [967/3000]: Train loss: 1.2370, Valid loss: 1.4151\n"
          ]
        },
        {
          "output_type": "stream",
          "name": "stderr",
          "text": [
            "Epoch [968/3000]: 100%|██████████| 9/9 [00:00<00:00, 93.06it/s, loss=1.15]\n"
          ]
        },
        {
          "output_type": "stream",
          "name": "stdout",
          "text": [
            "Epoch [968/3000]: Train loss: 1.2257, Valid loss: 1.4965\n"
          ]
        },
        {
          "output_type": "stream",
          "name": "stderr",
          "text": [
            "Epoch [969/3000]: 100%|██████████| 9/9 [00:00<00:00, 93.26it/s, loss=1.2]\n"
          ]
        },
        {
          "output_type": "stream",
          "name": "stdout",
          "text": [
            "Epoch [969/3000]: Train loss: 1.2373, Valid loss: 1.6031\n"
          ]
        },
        {
          "output_type": "stream",
          "name": "stderr",
          "text": [
            "Epoch [970/3000]: 100%|██████████| 9/9 [00:00<00:00, 99.26it/s, loss=1.31]\n"
          ]
        },
        {
          "output_type": "stream",
          "name": "stdout",
          "text": [
            "Epoch [970/3000]: Train loss: 1.2268, Valid loss: 1.2531\n"
          ]
        },
        {
          "output_type": "stream",
          "name": "stderr",
          "text": [
            "Epoch [971/3000]: 100%|██████████| 9/9 [00:00<00:00, 86.72it/s, loss=1.29]\n"
          ]
        },
        {
          "output_type": "stream",
          "name": "stdout",
          "text": [
            "Epoch [971/3000]: Train loss: 1.2188, Valid loss: 1.5477\n"
          ]
        },
        {
          "output_type": "stream",
          "name": "stderr",
          "text": [
            "Epoch [972/3000]: 100%|██████████| 9/9 [00:00<00:00, 107.02it/s, loss=0.863]\n"
          ]
        },
        {
          "output_type": "stream",
          "name": "stdout",
          "text": [
            "Epoch [972/3000]: Train loss: 1.1960, Valid loss: 1.5682\n"
          ]
        },
        {
          "output_type": "stream",
          "name": "stderr",
          "text": [
            "Epoch [973/3000]: 100%|██████████| 9/9 [00:00<00:00, 113.16it/s, loss=1.14]\n"
          ]
        },
        {
          "output_type": "stream",
          "name": "stdout",
          "text": [
            "Epoch [973/3000]: Train loss: 1.2210, Valid loss: 1.6155\n"
          ]
        },
        {
          "output_type": "stream",
          "name": "stderr",
          "text": [
            "Epoch [974/3000]: 100%|██████████| 9/9 [00:00<00:00, 100.64it/s, loss=1.29]\n"
          ]
        },
        {
          "output_type": "stream",
          "name": "stdout",
          "text": [
            "Epoch [974/3000]: Train loss: 1.2281, Valid loss: 1.5186\n"
          ]
        },
        {
          "output_type": "stream",
          "name": "stderr",
          "text": [
            "Epoch [975/3000]: 100%|██████████| 9/9 [00:00<00:00, 105.55it/s, loss=1.55]\n"
          ]
        },
        {
          "output_type": "stream",
          "name": "stdout",
          "text": [
            "Epoch [975/3000]: Train loss: 1.2337, Valid loss: 1.2821\n"
          ]
        },
        {
          "output_type": "stream",
          "name": "stderr",
          "text": [
            "Epoch [976/3000]: 100%|██████████| 9/9 [00:00<00:00, 90.85it/s, loss=0.986]\n"
          ]
        },
        {
          "output_type": "stream",
          "name": "stdout",
          "text": [
            "Epoch [976/3000]: Train loss: 1.1990, Valid loss: 1.3407\n"
          ]
        },
        {
          "output_type": "stream",
          "name": "stderr",
          "text": [
            "Epoch [977/3000]: 100%|██████████| 9/9 [00:00<00:00, 95.93it/s, loss=1.5]\n"
          ]
        },
        {
          "output_type": "stream",
          "name": "stdout",
          "text": [
            "Epoch [977/3000]: Train loss: 1.2289, Valid loss: 1.5308\n"
          ]
        },
        {
          "output_type": "stream",
          "name": "stderr",
          "text": [
            "Epoch [978/3000]: 100%|██████████| 9/9 [00:00<00:00, 78.22it/s, loss=1.67]\n"
          ]
        },
        {
          "output_type": "stream",
          "name": "stdout",
          "text": [
            "Epoch [978/3000]: Train loss: 1.2492, Valid loss: 1.6160\n"
          ]
        },
        {
          "output_type": "stream",
          "name": "stderr",
          "text": [
            "Epoch [979/3000]: 100%|██████████| 9/9 [00:00<00:00, 74.36it/s, loss=0.863]\n"
          ]
        },
        {
          "output_type": "stream",
          "name": "stdout",
          "text": [
            "Epoch [979/3000]: Train loss: 1.1952, Valid loss: 1.4901\n"
          ]
        },
        {
          "output_type": "stream",
          "name": "stderr",
          "text": [
            "Epoch [980/3000]: 100%|██████████| 9/9 [00:00<00:00, 70.89it/s, loss=1.09]\n"
          ]
        },
        {
          "output_type": "stream",
          "name": "stdout",
          "text": [
            "Epoch [980/3000]: Train loss: 1.2184, Valid loss: 1.4087\n"
          ]
        },
        {
          "output_type": "stream",
          "name": "stderr",
          "text": [
            "Epoch [981/3000]: 100%|██████████| 9/9 [00:00<00:00, 87.78it/s, loss=1.16]\n"
          ]
        },
        {
          "output_type": "stream",
          "name": "stdout",
          "text": [
            "Epoch [981/3000]: Train loss: 1.2326, Valid loss: 1.7495\n"
          ]
        },
        {
          "output_type": "stream",
          "name": "stderr",
          "text": [
            "Epoch [982/3000]: 100%|██████████| 9/9 [00:00<00:00, 93.64it/s, loss=1.19]\n"
          ]
        },
        {
          "output_type": "stream",
          "name": "stdout",
          "text": [
            "Epoch [982/3000]: Train loss: 1.2363, Valid loss: 1.2880\n"
          ]
        },
        {
          "output_type": "stream",
          "name": "stderr",
          "text": [
            "Epoch [983/3000]: 100%|██████████| 9/9 [00:00<00:00, 84.71it/s, loss=1.38]\n"
          ]
        },
        {
          "output_type": "stream",
          "name": "stdout",
          "text": [
            "Epoch [983/3000]: Train loss: 1.2404, Valid loss: 1.4609\n"
          ]
        },
        {
          "output_type": "stream",
          "name": "stderr",
          "text": [
            "Epoch [984/3000]: 100%|██████████| 9/9 [00:00<00:00, 82.56it/s, loss=0.913]\n"
          ]
        },
        {
          "output_type": "stream",
          "name": "stdout",
          "text": [
            "Epoch [984/3000]: Train loss: 1.1987, Valid loss: 1.3994\n"
          ]
        },
        {
          "output_type": "stream",
          "name": "stderr",
          "text": [
            "Epoch [985/3000]: 100%|██████████| 9/9 [00:00<00:00, 87.34it/s, loss=1.14]\n"
          ]
        },
        {
          "output_type": "stream",
          "name": "stdout",
          "text": [
            "Epoch [985/3000]: Train loss: 1.2040, Valid loss: 1.3694\n"
          ]
        },
        {
          "output_type": "stream",
          "name": "stderr",
          "text": [
            "Epoch [986/3000]: 100%|██████████| 9/9 [00:00<00:00, 86.46it/s, loss=0.973]\n"
          ]
        },
        {
          "output_type": "stream",
          "name": "stdout",
          "text": [
            "Epoch [986/3000]: Train loss: 1.1918, Valid loss: 1.4797\n"
          ]
        },
        {
          "output_type": "stream",
          "name": "stderr",
          "text": [
            "Epoch [987/3000]: 100%|██████████| 9/9 [00:00<00:00, 107.08it/s, loss=1.66]\n"
          ]
        },
        {
          "output_type": "stream",
          "name": "stdout",
          "text": [
            "Epoch [987/3000]: Train loss: 1.2339, Valid loss: 1.5938\n"
          ]
        },
        {
          "output_type": "stream",
          "name": "stderr",
          "text": [
            "Epoch [988/3000]: 100%|██████████| 9/9 [00:00<00:00, 92.30it/s, loss=1.59]\n"
          ]
        },
        {
          "output_type": "stream",
          "name": "stdout",
          "text": [
            "Epoch [988/3000]: Train loss: 1.2307, Valid loss: 1.4375\n"
          ]
        },
        {
          "output_type": "stream",
          "name": "stderr",
          "text": [
            "Epoch [989/3000]: 100%|██████████| 9/9 [00:00<00:00, 90.63it/s, loss=0.982]\n"
          ]
        },
        {
          "output_type": "stream",
          "name": "stdout",
          "text": [
            "Epoch [989/3000]: Train loss: 1.2267, Valid loss: 1.4568\n"
          ]
        },
        {
          "output_type": "stream",
          "name": "stderr",
          "text": [
            "Epoch [990/3000]: 100%|██████████| 9/9 [00:00<00:00, 84.46it/s, loss=1.18]\n"
          ]
        },
        {
          "output_type": "stream",
          "name": "stdout",
          "text": [
            "Epoch [990/3000]: Train loss: 1.2057, Valid loss: 1.2453\n"
          ]
        },
        {
          "output_type": "stream",
          "name": "stderr",
          "text": [
            "Epoch [991/3000]: 100%|██████████| 9/9 [00:00<00:00, 71.46it/s, loss=1.02]\n"
          ]
        },
        {
          "output_type": "stream",
          "name": "stdout",
          "text": [
            "Epoch [991/3000]: Train loss: 1.1958, Valid loss: 1.3321\n"
          ]
        },
        {
          "output_type": "stream",
          "name": "stderr",
          "text": [
            "Epoch [992/3000]: 100%|██████████| 9/9 [00:00<00:00, 83.94it/s, loss=1.12]\n"
          ]
        },
        {
          "output_type": "stream",
          "name": "stdout",
          "text": [
            "Epoch [992/3000]: Train loss: 1.2176, Valid loss: 1.4047\n"
          ]
        },
        {
          "output_type": "stream",
          "name": "stderr",
          "text": [
            "Epoch [993/3000]: 100%|██████████| 9/9 [00:00<00:00, 83.50it/s, loss=1.22]\n"
          ]
        },
        {
          "output_type": "stream",
          "name": "stdout",
          "text": [
            "Epoch [993/3000]: Train loss: 1.2140, Valid loss: 1.4459\n"
          ]
        },
        {
          "output_type": "stream",
          "name": "stderr",
          "text": [
            "Epoch [994/3000]: 100%|██████████| 9/9 [00:00<00:00, 81.39it/s, loss=1.32]\n"
          ]
        },
        {
          "output_type": "stream",
          "name": "stdout",
          "text": [
            "Epoch [994/3000]: Train loss: 1.2172, Valid loss: 1.4375\n"
          ]
        },
        {
          "output_type": "stream",
          "name": "stderr",
          "text": [
            "Epoch [995/3000]: 100%|██████████| 9/9 [00:00<00:00, 73.12it/s, loss=0.96]\n"
          ]
        },
        {
          "output_type": "stream",
          "name": "stdout",
          "text": [
            "Epoch [995/3000]: Train loss: 1.1958, Valid loss: 1.2677\n"
          ]
        },
        {
          "output_type": "stream",
          "name": "stderr",
          "text": [
            "Epoch [996/3000]: 100%|██████████| 9/9 [00:00<00:00, 87.34it/s, loss=1.24]\n"
          ]
        },
        {
          "output_type": "stream",
          "name": "stdout",
          "text": [
            "Epoch [996/3000]: Train loss: 1.2106, Valid loss: 1.5076\n"
          ]
        },
        {
          "output_type": "stream",
          "name": "stderr",
          "text": [
            "Epoch [997/3000]: 100%|██████████| 9/9 [00:00<00:00, 99.14it/s, loss=1.2]\n"
          ]
        },
        {
          "output_type": "stream",
          "name": "stdout",
          "text": [
            "Epoch [997/3000]: Train loss: 1.2168, Valid loss: 1.3215\n"
          ]
        },
        {
          "output_type": "stream",
          "name": "stderr",
          "text": [
            "Epoch [998/3000]: 100%|██████████| 9/9 [00:00<00:00, 80.96it/s, loss=1.18]\n"
          ]
        },
        {
          "output_type": "stream",
          "name": "stdout",
          "text": [
            "Epoch [998/3000]: Train loss: 1.2046, Valid loss: 1.3584\n"
          ]
        },
        {
          "output_type": "stream",
          "name": "stderr",
          "text": [
            "Epoch [999/3000]: 100%|██████████| 9/9 [00:00<00:00, 86.94it/s, loss=1.4]\n"
          ]
        },
        {
          "output_type": "stream",
          "name": "stdout",
          "text": [
            "Epoch [999/3000]: Train loss: 1.2157, Valid loss: 1.5435\n"
          ]
        },
        {
          "output_type": "stream",
          "name": "stderr",
          "text": [
            "Epoch [1000/3000]: 100%|██████████| 9/9 [00:00<00:00, 97.92it/s, loss=1.21]\n"
          ]
        },
        {
          "output_type": "stream",
          "name": "stdout",
          "text": [
            "Epoch [1000/3000]: Train loss: 1.2099, Valid loss: 1.6307\n"
          ]
        },
        {
          "output_type": "stream",
          "name": "stderr",
          "text": [
            "Epoch [1001/3000]: 100%|██████████| 9/9 [00:00<00:00, 81.89it/s, loss=1.15]\n"
          ]
        },
        {
          "output_type": "stream",
          "name": "stdout",
          "text": [
            "Epoch [1001/3000]: Train loss: 1.1976, Valid loss: 1.4799\n"
          ]
        },
        {
          "output_type": "stream",
          "name": "stderr",
          "text": [
            "Epoch [1002/3000]: 100%|██████████| 9/9 [00:00<00:00, 87.32it/s, loss=1.79]\n"
          ]
        },
        {
          "output_type": "stream",
          "name": "stdout",
          "text": [
            "Epoch [1002/3000]: Train loss: 1.2375, Valid loss: 1.4824\n"
          ]
        },
        {
          "output_type": "stream",
          "name": "stderr",
          "text": [
            "Epoch [1003/3000]: 100%|██████████| 9/9 [00:00<00:00, 94.25it/s, loss=1.29]\n"
          ]
        },
        {
          "output_type": "stream",
          "name": "stdout",
          "text": [
            "Epoch [1003/3000]: Train loss: 1.2032, Valid loss: 1.3961\n"
          ]
        },
        {
          "output_type": "stream",
          "name": "stderr",
          "text": [
            "Epoch [1004/3000]: 100%|██████████| 9/9 [00:00<00:00, 80.43it/s, loss=0.847]\n"
          ]
        },
        {
          "output_type": "stream",
          "name": "stdout",
          "text": [
            "Epoch [1004/3000]: Train loss: 1.1815, Valid loss: 1.3900\n"
          ]
        },
        {
          "output_type": "stream",
          "name": "stderr",
          "text": [
            "Epoch [1005/3000]: 100%|██████████| 9/9 [00:00<00:00, 90.03it/s, loss=1.03]\n"
          ]
        },
        {
          "output_type": "stream",
          "name": "stdout",
          "text": [
            "Epoch [1005/3000]: Train loss: 1.1864, Valid loss: 1.3776\n"
          ]
        },
        {
          "output_type": "stream",
          "name": "stderr",
          "text": [
            "Epoch [1006/3000]: 100%|██████████| 9/9 [00:00<00:00, 93.52it/s, loss=1.22]\n"
          ]
        },
        {
          "output_type": "stream",
          "name": "stdout",
          "text": [
            "Epoch [1006/3000]: Train loss: 1.2013, Valid loss: 1.4531\n"
          ]
        },
        {
          "output_type": "stream",
          "name": "stderr",
          "text": [
            "Epoch [1007/3000]: 100%|██████████| 9/9 [00:00<00:00, 95.84it/s, loss=1.15]\n"
          ]
        },
        {
          "output_type": "stream",
          "name": "stdout",
          "text": [
            "Epoch [1007/3000]: Train loss: 1.2006, Valid loss: 1.2729\n"
          ]
        },
        {
          "output_type": "stream",
          "name": "stderr",
          "text": [
            "Epoch [1008/3000]: 100%|██████████| 9/9 [00:00<00:00, 93.98it/s, loss=1]\n"
          ]
        },
        {
          "output_type": "stream",
          "name": "stdout",
          "text": [
            "Epoch [1008/3000]: Train loss: 1.1938, Valid loss: 1.4403\n"
          ]
        },
        {
          "output_type": "stream",
          "name": "stderr",
          "text": [
            "Epoch [1009/3000]: 100%|██████████| 9/9 [00:00<00:00, 75.75it/s, loss=1.07]\n"
          ]
        },
        {
          "output_type": "stream",
          "name": "stdout",
          "text": [
            "Epoch [1009/3000]: Train loss: 1.1893, Valid loss: 1.5210\n"
          ]
        },
        {
          "output_type": "stream",
          "name": "stderr",
          "text": [
            "Epoch [1010/3000]: 100%|██████████| 9/9 [00:00<00:00, 67.93it/s, loss=1.18]\n"
          ]
        },
        {
          "output_type": "stream",
          "name": "stdout",
          "text": [
            "Epoch [1010/3000]: Train loss: 1.1941, Valid loss: 1.5321\n"
          ]
        },
        {
          "output_type": "stream",
          "name": "stderr",
          "text": [
            "Epoch [1011/3000]: 100%|██████████| 9/9 [00:00<00:00, 82.14it/s, loss=1.01]\n"
          ]
        },
        {
          "output_type": "stream",
          "name": "stdout",
          "text": [
            "Epoch [1011/3000]: Train loss: 1.1904, Valid loss: 1.3718\n"
          ]
        },
        {
          "output_type": "stream",
          "name": "stderr",
          "text": [
            "Epoch [1012/3000]: 100%|██████████| 9/9 [00:00<00:00, 110.87it/s, loss=1.09]\n"
          ]
        },
        {
          "output_type": "stream",
          "name": "stdout",
          "text": [
            "Epoch [1012/3000]: Train loss: 1.2057, Valid loss: 1.8711\n"
          ]
        },
        {
          "output_type": "stream",
          "name": "stderr",
          "text": [
            "Epoch [1013/3000]: 100%|██████████| 9/9 [00:00<00:00, 107.02it/s, loss=1.23]\n"
          ]
        },
        {
          "output_type": "stream",
          "name": "stdout",
          "text": [
            "Epoch [1013/3000]: Train loss: 1.2064, Valid loss: 1.4473\n"
          ]
        },
        {
          "output_type": "stream",
          "name": "stderr",
          "text": [
            "Epoch [1014/3000]: 100%|██████████| 9/9 [00:00<00:00, 94.44it/s, loss=0.928]\n"
          ]
        },
        {
          "output_type": "stream",
          "name": "stdout",
          "text": [
            "Epoch [1014/3000]: Train loss: 1.1863, Valid loss: 1.5230\n"
          ]
        },
        {
          "output_type": "stream",
          "name": "stderr",
          "text": [
            "Epoch [1015/3000]: 100%|██████████| 9/9 [00:00<00:00, 103.08it/s, loss=1.11]\n"
          ]
        },
        {
          "output_type": "stream",
          "name": "stdout",
          "text": [
            "Epoch [1015/3000]: Train loss: 1.1910, Valid loss: 1.4976\n"
          ]
        },
        {
          "output_type": "stream",
          "name": "stderr",
          "text": [
            "Epoch [1016/3000]: 100%|██████████| 9/9 [00:00<00:00, 110.06it/s, loss=1.11]\n"
          ]
        },
        {
          "output_type": "stream",
          "name": "stdout",
          "text": [
            "Epoch [1016/3000]: Train loss: 1.1944, Valid loss: 1.4029\n"
          ]
        },
        {
          "output_type": "stream",
          "name": "stderr",
          "text": [
            "Epoch [1017/3000]: 100%|██████████| 9/9 [00:00<00:00, 112.64it/s, loss=0.8]\n"
          ]
        },
        {
          "output_type": "stream",
          "name": "stdout",
          "text": [
            "Epoch [1017/3000]: Train loss: 1.1757, Valid loss: 1.6407\n"
          ]
        },
        {
          "output_type": "stream",
          "name": "stderr",
          "text": [
            "Epoch [1018/3000]: 100%|██████████| 9/9 [00:00<00:00, 110.96it/s, loss=1.15]\n"
          ]
        },
        {
          "output_type": "stream",
          "name": "stdout",
          "text": [
            "Epoch [1018/3000]: Train loss: 1.2202, Valid loss: 1.4676\n"
          ]
        },
        {
          "output_type": "stream",
          "name": "stderr",
          "text": [
            "Epoch [1019/3000]: 100%|██████████| 9/9 [00:00<00:00, 102.30it/s, loss=1.26]\n"
          ]
        },
        {
          "output_type": "stream",
          "name": "stdout",
          "text": [
            "Epoch [1019/3000]: Train loss: 1.2128, Valid loss: 1.5880\n"
          ]
        },
        {
          "output_type": "stream",
          "name": "stderr",
          "text": [
            "Epoch [1020/3000]: 100%|██████████| 9/9 [00:00<00:00, 107.37it/s, loss=1.26]\n"
          ]
        },
        {
          "output_type": "stream",
          "name": "stdout",
          "text": [
            "Epoch [1020/3000]: Train loss: 1.2094, Valid loss: 1.2475\n"
          ]
        },
        {
          "output_type": "stream",
          "name": "stderr",
          "text": [
            "Epoch [1021/3000]: 100%|██████████| 9/9 [00:00<00:00, 84.16it/s, loss=1.27]\n"
          ]
        },
        {
          "output_type": "stream",
          "name": "stdout",
          "text": [
            "Epoch [1021/3000]: Train loss: 1.2069, Valid loss: 1.4628\n"
          ]
        },
        {
          "output_type": "stream",
          "name": "stderr",
          "text": [
            "Epoch [1022/3000]: 100%|██████████| 9/9 [00:00<00:00, 70.81it/s, loss=1.16]\n"
          ]
        },
        {
          "output_type": "stream",
          "name": "stdout",
          "text": [
            "Epoch [1022/3000]: Train loss: 1.1914, Valid loss: 1.4698\n"
          ]
        },
        {
          "output_type": "stream",
          "name": "stderr",
          "text": [
            "Epoch [1023/3000]: 100%|██████████| 9/9 [00:00<00:00, 104.89it/s, loss=1.23]\n"
          ]
        },
        {
          "output_type": "stream",
          "name": "stdout",
          "text": [
            "Epoch [1023/3000]: Train loss: 1.1913, Valid loss: 1.4582\n"
          ]
        },
        {
          "output_type": "stream",
          "name": "stderr",
          "text": [
            "Epoch [1024/3000]: 100%|██████████| 9/9 [00:00<00:00, 85.83it/s, loss=1.21]\n"
          ]
        },
        {
          "output_type": "stream",
          "name": "stdout",
          "text": [
            "Epoch [1024/3000]: Train loss: 1.1909, Valid loss: 1.3755\n"
          ]
        },
        {
          "output_type": "stream",
          "name": "stderr",
          "text": [
            "Epoch [1025/3000]: 100%|██████████| 9/9 [00:00<00:00, 90.73it/s, loss=1.36]\n"
          ]
        },
        {
          "output_type": "stream",
          "name": "stdout",
          "text": [
            "Epoch [1025/3000]: Train loss: 1.2000, Valid loss: 1.3945\n"
          ]
        },
        {
          "output_type": "stream",
          "name": "stderr",
          "text": [
            "Epoch [1026/3000]: 100%|██████████| 9/9 [00:00<00:00, 85.73it/s, loss=0.888]\n"
          ]
        },
        {
          "output_type": "stream",
          "name": "stdout",
          "text": [
            "Epoch [1026/3000]: Train loss: 1.1678, Valid loss: 1.5851\n"
          ]
        },
        {
          "output_type": "stream",
          "name": "stderr",
          "text": [
            "Epoch [1027/3000]: 100%|██████████| 9/9 [00:00<00:00, 81.16it/s, loss=0.866]\n"
          ]
        },
        {
          "output_type": "stream",
          "name": "stdout",
          "text": [
            "Epoch [1027/3000]: Train loss: 1.1647, Valid loss: 1.3459\n"
          ]
        },
        {
          "output_type": "stream",
          "name": "stderr",
          "text": [
            "Epoch [1028/3000]: 100%|██████████| 9/9 [00:00<00:00, 33.63it/s, loss=1.68]\n"
          ]
        },
        {
          "output_type": "stream",
          "name": "stdout",
          "text": [
            "Epoch [1028/3000]: Train loss: 1.2208, Valid loss: 1.3870\n"
          ]
        },
        {
          "output_type": "stream",
          "name": "stderr",
          "text": [
            "Epoch [1029/3000]: 100%|██████████| 9/9 [00:00<00:00, 119.77it/s, loss=1.24]\n"
          ]
        },
        {
          "output_type": "stream",
          "name": "stdout",
          "text": [
            "Epoch [1029/3000]: Train loss: 1.2181, Valid loss: 1.2812\n"
          ]
        },
        {
          "output_type": "stream",
          "name": "stderr",
          "text": [
            "Epoch [1030/3000]: 100%|██████████| 9/9 [00:00<00:00, 89.85it/s, loss=0.914]\n"
          ]
        },
        {
          "output_type": "stream",
          "name": "stdout",
          "text": [
            "Epoch [1030/3000]: Train loss: 1.1788, Valid loss: 1.2317\n"
          ]
        },
        {
          "output_type": "stream",
          "name": "stderr",
          "text": [
            "Epoch [1031/3000]: 100%|██████████| 9/9 [00:00<00:00, 98.43it/s, loss=1.51]\n"
          ]
        },
        {
          "output_type": "stream",
          "name": "stdout",
          "text": [
            "Epoch [1031/3000]: Train loss: 1.2166, Valid loss: 1.6236\n"
          ]
        },
        {
          "output_type": "stream",
          "name": "stderr",
          "text": [
            "Epoch [1032/3000]: 100%|██████████| 9/9 [00:00<00:00, 97.81it/s, loss=1.45]\n"
          ]
        },
        {
          "output_type": "stream",
          "name": "stdout",
          "text": [
            "Epoch [1032/3000]: Train loss: 1.2278, Valid loss: 1.4512\n"
          ]
        },
        {
          "output_type": "stream",
          "name": "stderr",
          "text": [
            "Epoch [1033/3000]: 100%|██████████| 9/9 [00:00<00:00, 95.83it/s, loss=1.15]\n"
          ]
        },
        {
          "output_type": "stream",
          "name": "stdout",
          "text": [
            "Epoch [1033/3000]: Train loss: 1.1905, Valid loss: 1.4797\n"
          ]
        },
        {
          "output_type": "stream",
          "name": "stderr",
          "text": [
            "Epoch [1034/3000]: 100%|██████████| 9/9 [00:00<00:00, 97.12it/s, loss=1.36]\n"
          ]
        },
        {
          "output_type": "stream",
          "name": "stdout",
          "text": [
            "Epoch [1034/3000]: Train loss: 1.1934, Valid loss: 1.4960\n"
          ]
        },
        {
          "output_type": "stream",
          "name": "stderr",
          "text": [
            "Epoch [1035/3000]: 100%|██████████| 9/9 [00:00<00:00, 95.31it/s, loss=1.21]\n"
          ]
        },
        {
          "output_type": "stream",
          "name": "stdout",
          "text": [
            "Epoch [1035/3000]: Train loss: 1.1877, Valid loss: 1.4634\n"
          ]
        },
        {
          "output_type": "stream",
          "name": "stderr",
          "text": [
            "Epoch [1036/3000]: 100%|██████████| 9/9 [00:00<00:00, 88.89it/s, loss=1.07]\n"
          ]
        },
        {
          "output_type": "stream",
          "name": "stdout",
          "text": [
            "Epoch [1036/3000]: Train loss: 1.1855, Valid loss: 1.3396\n"
          ]
        },
        {
          "output_type": "stream",
          "name": "stderr",
          "text": [
            "Epoch [1037/3000]: 100%|██████████| 9/9 [00:00<00:00, 68.98it/s, loss=1.08]\n"
          ]
        },
        {
          "output_type": "stream",
          "name": "stdout",
          "text": [
            "Epoch [1037/3000]: Train loss: 1.2100, Valid loss: 1.2521\n"
          ]
        },
        {
          "output_type": "stream",
          "name": "stderr",
          "text": [
            "Epoch [1038/3000]: 100%|██████████| 9/9 [00:00<00:00, 123.20it/s, loss=1.26]\n"
          ]
        },
        {
          "output_type": "stream",
          "name": "stdout",
          "text": [
            "Epoch [1038/3000]: Train loss: 1.2086, Valid loss: 1.5994\n"
          ]
        },
        {
          "output_type": "stream",
          "name": "stderr",
          "text": [
            "Epoch [1039/3000]: 100%|██████████| 9/9 [00:00<00:00, 68.99it/s, loss=1.91]\n"
          ]
        },
        {
          "output_type": "stream",
          "name": "stdout",
          "text": [
            "Epoch [1039/3000]: Train loss: 1.2381, Valid loss: 1.3558\n"
          ]
        },
        {
          "output_type": "stream",
          "name": "stderr",
          "text": [
            "Epoch [1040/3000]: 100%|██████████| 9/9 [00:00<00:00, 102.46it/s, loss=1.31]\n"
          ]
        },
        {
          "output_type": "stream",
          "name": "stdout",
          "text": [
            "Epoch [1040/3000]: Train loss: 1.1989, Valid loss: 1.6224\n"
          ]
        },
        {
          "output_type": "stream",
          "name": "stderr",
          "text": [
            "Epoch [1041/3000]: 100%|██████████| 9/9 [00:00<00:00, 110.94it/s, loss=0.844]\n"
          ]
        },
        {
          "output_type": "stream",
          "name": "stdout",
          "text": [
            "Epoch [1041/3000]: Train loss: 1.1620, Valid loss: 1.6813\n"
          ]
        },
        {
          "output_type": "stream",
          "name": "stderr",
          "text": [
            "Epoch [1042/3000]: 100%|██████████| 9/9 [00:00<00:00, 108.27it/s, loss=1.57]\n"
          ]
        },
        {
          "output_type": "stream",
          "name": "stdout",
          "text": [
            "Epoch [1042/3000]: Train loss: 1.2039, Valid loss: 1.3706\n"
          ]
        },
        {
          "output_type": "stream",
          "name": "stderr",
          "text": [
            "Epoch [1043/3000]: 100%|██████████| 9/9 [00:00<00:00, 117.55it/s, loss=0.923]\n"
          ]
        },
        {
          "output_type": "stream",
          "name": "stdout",
          "text": [
            "Epoch [1043/3000]: Train loss: 1.1699, Valid loss: 1.5781\n"
          ]
        },
        {
          "output_type": "stream",
          "name": "stderr",
          "text": [
            "Epoch [1044/3000]: 100%|██████████| 9/9 [00:00<00:00, 107.12it/s, loss=1.07]\n"
          ]
        },
        {
          "output_type": "stream",
          "name": "stdout",
          "text": [
            "Epoch [1044/3000]: Train loss: 1.1811, Valid loss: 1.2592\n"
          ]
        },
        {
          "output_type": "stream",
          "name": "stderr",
          "text": [
            "Epoch [1045/3000]: 100%|██████████| 9/9 [00:00<00:00, 115.84it/s, loss=1.22]\n"
          ]
        },
        {
          "output_type": "stream",
          "name": "stdout",
          "text": [
            "Epoch [1045/3000]: Train loss: 1.1853, Valid loss: 1.2891\n"
          ]
        },
        {
          "output_type": "stream",
          "name": "stderr",
          "text": [
            "Epoch [1046/3000]: 100%|██████████| 9/9 [00:00<00:00, 115.37it/s, loss=1.01]\n"
          ]
        },
        {
          "output_type": "stream",
          "name": "stdout",
          "text": [
            "Epoch [1046/3000]: Train loss: 1.1785, Valid loss: 1.3298\n"
          ]
        },
        {
          "output_type": "stream",
          "name": "stderr",
          "text": [
            "Epoch [1047/3000]: 100%|██████████| 9/9 [00:00<00:00, 107.45it/s, loss=1.08]\n"
          ]
        },
        {
          "output_type": "stream",
          "name": "stdout",
          "text": [
            "Epoch [1047/3000]: Train loss: 1.1964, Valid loss: 1.3583\n"
          ]
        },
        {
          "output_type": "stream",
          "name": "stderr",
          "text": [
            "Epoch [1048/3000]: 100%|██████████| 9/9 [00:00<00:00, 85.20it/s, loss=1.18]\n"
          ]
        },
        {
          "output_type": "stream",
          "name": "stdout",
          "text": [
            "Epoch [1048/3000]: Train loss: 1.1846, Valid loss: 1.1602\n",
            "Saving model with loss 1.160...\n"
          ]
        },
        {
          "output_type": "stream",
          "name": "stderr",
          "text": [
            "Epoch [1049/3000]: 100%|██████████| 9/9 [00:00<00:00, 94.58it/s, loss=0.932]\n"
          ]
        },
        {
          "output_type": "stream",
          "name": "stdout",
          "text": [
            "Epoch [1049/3000]: Train loss: 1.1577, Valid loss: 1.4763\n"
          ]
        },
        {
          "output_type": "stream",
          "name": "stderr",
          "text": [
            "Epoch [1050/3000]: 100%|██████████| 9/9 [00:00<00:00, 100.87it/s, loss=0.819]\n"
          ]
        },
        {
          "output_type": "stream",
          "name": "stdout",
          "text": [
            "Epoch [1050/3000]: Train loss: 1.1596, Valid loss: 1.3987\n"
          ]
        },
        {
          "output_type": "stream",
          "name": "stderr",
          "text": [
            "Epoch [1051/3000]: 100%|██████████| 9/9 [00:00<00:00, 69.29it/s, loss=0.874]\n"
          ]
        },
        {
          "output_type": "stream",
          "name": "stdout",
          "text": [
            "Epoch [1051/3000]: Train loss: 1.1769, Valid loss: 1.2012\n"
          ]
        },
        {
          "output_type": "stream",
          "name": "stderr",
          "text": [
            "Epoch [1052/3000]: 100%|██████████| 9/9 [00:00<00:00, 83.14it/s, loss=1.44]\n"
          ]
        },
        {
          "output_type": "stream",
          "name": "stdout",
          "text": [
            "Epoch [1052/3000]: Train loss: 1.2121, Valid loss: 1.5137\n"
          ]
        },
        {
          "output_type": "stream",
          "name": "stderr",
          "text": [
            "Epoch [1053/3000]: 100%|██████████| 9/9 [00:00<00:00, 85.88it/s, loss=1.36]\n"
          ]
        },
        {
          "output_type": "stream",
          "name": "stdout",
          "text": [
            "Epoch [1053/3000]: Train loss: 1.2031, Valid loss: 1.5484\n"
          ]
        },
        {
          "output_type": "stream",
          "name": "stderr",
          "text": [
            "Epoch [1054/3000]: 100%|██████████| 9/9 [00:00<00:00, 95.70it/s, loss=1.11]\n"
          ]
        },
        {
          "output_type": "stream",
          "name": "stdout",
          "text": [
            "Epoch [1054/3000]: Train loss: 1.1687, Valid loss: 1.2776\n"
          ]
        },
        {
          "output_type": "stream",
          "name": "stderr",
          "text": [
            "Epoch [1055/3000]: 100%|██████████| 9/9 [00:00<00:00, 100.00it/s, loss=1.05]\n"
          ]
        },
        {
          "output_type": "stream",
          "name": "stdout",
          "text": [
            "Epoch [1055/3000]: Train loss: 1.1685, Valid loss: 1.4299\n"
          ]
        },
        {
          "output_type": "stream",
          "name": "stderr",
          "text": [
            "Epoch [1056/3000]: 100%|██████████| 9/9 [00:00<00:00, 98.11it/s, loss=1.07]\n"
          ]
        },
        {
          "output_type": "stream",
          "name": "stdout",
          "text": [
            "Epoch [1056/3000]: Train loss: 1.1888, Valid loss: 1.2631\n"
          ]
        },
        {
          "output_type": "stream",
          "name": "stderr",
          "text": [
            "Epoch [1057/3000]: 100%|██████████| 9/9 [00:00<00:00, 101.60it/s, loss=1.27]\n"
          ]
        },
        {
          "output_type": "stream",
          "name": "stdout",
          "text": [
            "Epoch [1057/3000]: Train loss: 1.2145, Valid loss: 1.5778\n"
          ]
        },
        {
          "output_type": "stream",
          "name": "stderr",
          "text": [
            "Epoch [1058/3000]: 100%|██████████| 9/9 [00:00<00:00, 90.46it/s, loss=1.7]\n"
          ]
        },
        {
          "output_type": "stream",
          "name": "stdout",
          "text": [
            "Epoch [1058/3000]: Train loss: 1.2327, Valid loss: 1.6067\n"
          ]
        },
        {
          "output_type": "stream",
          "name": "stderr",
          "text": [
            "Epoch [1059/3000]: 100%|██████████| 9/9 [00:00<00:00, 94.71it/s, loss=1.2]\n"
          ]
        },
        {
          "output_type": "stream",
          "name": "stdout",
          "text": [
            "Epoch [1059/3000]: Train loss: 1.2118, Valid loss: 1.3245\n"
          ]
        },
        {
          "output_type": "stream",
          "name": "stderr",
          "text": [
            "Epoch [1060/3000]: 100%|██████████| 9/9 [00:00<00:00, 85.56it/s, loss=1.46]\n"
          ]
        },
        {
          "output_type": "stream",
          "name": "stdout",
          "text": [
            "Epoch [1060/3000]: Train loss: 1.2065, Valid loss: 1.4111\n"
          ]
        },
        {
          "output_type": "stream",
          "name": "stderr",
          "text": [
            "Epoch [1061/3000]: 100%|██████████| 9/9 [00:00<00:00, 99.70it/s, loss=1.55]\n"
          ]
        },
        {
          "output_type": "stream",
          "name": "stdout",
          "text": [
            "Epoch [1061/3000]: Train loss: 1.2037, Valid loss: 1.2786\n"
          ]
        },
        {
          "output_type": "stream",
          "name": "stderr",
          "text": [
            "Epoch [1062/3000]: 100%|██████████| 9/9 [00:00<00:00, 93.97it/s, loss=1.29]\n"
          ]
        },
        {
          "output_type": "stream",
          "name": "stdout",
          "text": [
            "Epoch [1062/3000]: Train loss: 1.1844, Valid loss: 1.4452\n"
          ]
        },
        {
          "output_type": "stream",
          "name": "stderr",
          "text": [
            "Epoch [1063/3000]: 100%|██████████| 9/9 [00:00<00:00, 79.65it/s, loss=1.22]\n"
          ]
        },
        {
          "output_type": "stream",
          "name": "stdout",
          "text": [
            "Epoch [1063/3000]: Train loss: 1.1961, Valid loss: 1.4008\n"
          ]
        },
        {
          "output_type": "stream",
          "name": "stderr",
          "text": [
            "Epoch [1064/3000]: 100%|██████████| 9/9 [00:00<00:00, 86.90it/s, loss=1]\n"
          ]
        },
        {
          "output_type": "stream",
          "name": "stdout",
          "text": [
            "Epoch [1064/3000]: Train loss: 1.1785, Valid loss: 1.3591\n"
          ]
        },
        {
          "output_type": "stream",
          "name": "stderr",
          "text": [
            "Epoch [1065/3000]: 100%|██████████| 9/9 [00:00<00:00, 104.44it/s, loss=1.52]\n"
          ]
        },
        {
          "output_type": "stream",
          "name": "stdout",
          "text": [
            "Epoch [1065/3000]: Train loss: 1.1903, Valid loss: 1.6201\n"
          ]
        },
        {
          "output_type": "stream",
          "name": "stderr",
          "text": [
            "Epoch [1066/3000]: 100%|██████████| 9/9 [00:00<00:00, 110.51it/s, loss=1.27]\n"
          ]
        },
        {
          "output_type": "stream",
          "name": "stdout",
          "text": [
            "Epoch [1066/3000]: Train loss: 1.1779, Valid loss: 1.3755\n"
          ]
        },
        {
          "output_type": "stream",
          "name": "stderr",
          "text": [
            "Epoch [1067/3000]: 100%|██████████| 9/9 [00:00<00:00, 92.08it/s, loss=1.38]\n"
          ]
        },
        {
          "output_type": "stream",
          "name": "stdout",
          "text": [
            "Epoch [1067/3000]: Train loss: 1.1968, Valid loss: 1.5182\n"
          ]
        },
        {
          "output_type": "stream",
          "name": "stderr",
          "text": [
            "Epoch [1068/3000]: 100%|██████████| 9/9 [00:00<00:00, 94.63it/s, loss=1.44]\n"
          ]
        },
        {
          "output_type": "stream",
          "name": "stdout",
          "text": [
            "Epoch [1068/3000]: Train loss: 1.2597, Valid loss: 1.2633\n"
          ]
        },
        {
          "output_type": "stream",
          "name": "stderr",
          "text": [
            "Epoch [1069/3000]: 100%|██████████| 9/9 [00:00<00:00, 87.26it/s, loss=0.76]\n"
          ]
        },
        {
          "output_type": "stream",
          "name": "stdout",
          "text": [
            "Epoch [1069/3000]: Train loss: 1.1782, Valid loss: 1.5546\n"
          ]
        },
        {
          "output_type": "stream",
          "name": "stderr",
          "text": [
            "Epoch [1070/3000]: 100%|██████████| 9/9 [00:00<00:00, 78.47it/s, loss=1.13]\n"
          ]
        },
        {
          "output_type": "stream",
          "name": "stdout",
          "text": [
            "Epoch [1070/3000]: Train loss: 1.1798, Valid loss: 1.1628\n"
          ]
        },
        {
          "output_type": "stream",
          "name": "stderr",
          "text": [
            "Epoch [1071/3000]: 100%|██████████| 9/9 [00:00<00:00, 98.95it/s, loss=1.22]\n"
          ]
        },
        {
          "output_type": "stream",
          "name": "stdout",
          "text": [
            "Epoch [1071/3000]: Train loss: 1.1805, Valid loss: 1.4744\n"
          ]
        },
        {
          "output_type": "stream",
          "name": "stderr",
          "text": [
            "Epoch [1072/3000]: 100%|██████████| 9/9 [00:00<00:00, 97.78it/s, loss=1.29]\n"
          ]
        },
        {
          "output_type": "stream",
          "name": "stdout",
          "text": [
            "Epoch [1072/3000]: Train loss: 1.1915, Valid loss: 1.5019\n"
          ]
        },
        {
          "output_type": "stream",
          "name": "stderr",
          "text": [
            "Epoch [1073/3000]: 100%|██████████| 9/9 [00:00<00:00, 93.40it/s, loss=1.06]\n"
          ]
        },
        {
          "output_type": "stream",
          "name": "stdout",
          "text": [
            "Epoch [1073/3000]: Train loss: 1.1758, Valid loss: 1.3763\n"
          ]
        },
        {
          "output_type": "stream",
          "name": "stderr",
          "text": [
            "Epoch [1074/3000]: 100%|██████████| 9/9 [00:00<00:00, 80.28it/s, loss=1.09]\n"
          ]
        },
        {
          "output_type": "stream",
          "name": "stdout",
          "text": [
            "Epoch [1074/3000]: Train loss: 1.1582, Valid loss: 1.3241\n"
          ]
        },
        {
          "output_type": "stream",
          "name": "stderr",
          "text": [
            "Epoch [1075/3000]: 100%|██████████| 9/9 [00:00<00:00, 98.19it/s, loss=1.56]\n"
          ]
        },
        {
          "output_type": "stream",
          "name": "stdout",
          "text": [
            "Epoch [1075/3000]: Train loss: 1.2091, Valid loss: 1.2548\n"
          ]
        },
        {
          "output_type": "stream",
          "name": "stderr",
          "text": [
            "Epoch [1076/3000]: 100%|██████████| 9/9 [00:00<00:00, 100.36it/s, loss=1.2]\n"
          ]
        },
        {
          "output_type": "stream",
          "name": "stdout",
          "text": [
            "Epoch [1076/3000]: Train loss: 1.1893, Valid loss: 1.6504\n"
          ]
        },
        {
          "output_type": "stream",
          "name": "stderr",
          "text": [
            "Epoch [1077/3000]: 100%|██████████| 9/9 [00:00<00:00, 109.62it/s, loss=1.22]\n"
          ]
        },
        {
          "output_type": "stream",
          "name": "stdout",
          "text": [
            "Epoch [1077/3000]: Train loss: 1.2033, Valid loss: 1.5140\n"
          ]
        },
        {
          "output_type": "stream",
          "name": "stderr",
          "text": [
            "Epoch [1078/3000]: 100%|██████████| 9/9 [00:00<00:00, 112.56it/s, loss=1.24]\n"
          ]
        },
        {
          "output_type": "stream",
          "name": "stdout",
          "text": [
            "Epoch [1078/3000]: Train loss: 1.1902, Valid loss: 1.3273\n"
          ]
        },
        {
          "output_type": "stream",
          "name": "stderr",
          "text": [
            "Epoch [1079/3000]: 100%|██████████| 9/9 [00:00<00:00, 99.01it/s, loss=0.742]\n"
          ]
        },
        {
          "output_type": "stream",
          "name": "stdout",
          "text": [
            "Epoch [1079/3000]: Train loss: 1.1401, Valid loss: 1.4839\n"
          ]
        },
        {
          "output_type": "stream",
          "name": "stderr",
          "text": [
            "Epoch [1080/3000]: 100%|██████████| 9/9 [00:00<00:00, 100.61it/s, loss=1.32]\n"
          ]
        },
        {
          "output_type": "stream",
          "name": "stdout",
          "text": [
            "Epoch [1080/3000]: Train loss: 1.1759, Valid loss: 1.2956\n"
          ]
        },
        {
          "output_type": "stream",
          "name": "stderr",
          "text": [
            "Epoch [1081/3000]: 100%|██████████| 9/9 [00:00<00:00, 88.20it/s, loss=0.876]\n"
          ]
        },
        {
          "output_type": "stream",
          "name": "stdout",
          "text": [
            "Epoch [1081/3000]: Train loss: 1.1446, Valid loss: 1.2064\n"
          ]
        },
        {
          "output_type": "stream",
          "name": "stderr",
          "text": [
            "Epoch [1082/3000]: 100%|██████████| 9/9 [00:00<00:00, 90.05it/s, loss=1.32]\n"
          ]
        },
        {
          "output_type": "stream",
          "name": "stdout",
          "text": [
            "Epoch [1082/3000]: Train loss: 1.1719, Valid loss: 1.5784\n"
          ]
        },
        {
          "output_type": "stream",
          "name": "stderr",
          "text": [
            "Epoch [1083/3000]: 100%|██████████| 9/9 [00:00<00:00, 91.31it/s, loss=1.1]\n"
          ]
        },
        {
          "output_type": "stream",
          "name": "stdout",
          "text": [
            "Epoch [1083/3000]: Train loss: 1.1600, Valid loss: 1.2765\n"
          ]
        },
        {
          "output_type": "stream",
          "name": "stderr",
          "text": [
            "Epoch [1084/3000]: 100%|██████████| 9/9 [00:00<00:00, 95.21it/s, loss=0.972]\n"
          ]
        },
        {
          "output_type": "stream",
          "name": "stdout",
          "text": [
            "Epoch [1084/3000]: Train loss: 1.1499, Valid loss: 1.3214\n"
          ]
        },
        {
          "output_type": "stream",
          "name": "stderr",
          "text": [
            "Epoch [1085/3000]: 100%|██████████| 9/9 [00:00<00:00, 90.46it/s, loss=1.35]\n"
          ]
        },
        {
          "output_type": "stream",
          "name": "stdout",
          "text": [
            "Epoch [1085/3000]: Train loss: 1.1725, Valid loss: 1.4212\n"
          ]
        },
        {
          "output_type": "stream",
          "name": "stderr",
          "text": [
            "Epoch [1086/3000]: 100%|██████████| 9/9 [00:00<00:00, 112.73it/s, loss=1.14]\n"
          ]
        },
        {
          "output_type": "stream",
          "name": "stdout",
          "text": [
            "Epoch [1086/3000]: Train loss: 1.1589, Valid loss: 1.4585\n"
          ]
        },
        {
          "output_type": "stream",
          "name": "stderr",
          "text": [
            "Epoch [1087/3000]: 100%|██████████| 9/9 [00:00<00:00, 115.14it/s, loss=1.03]\n"
          ]
        },
        {
          "output_type": "stream",
          "name": "stdout",
          "text": [
            "Epoch [1087/3000]: Train loss: 1.1502, Valid loss: 1.2114\n"
          ]
        },
        {
          "output_type": "stream",
          "name": "stderr",
          "text": [
            "Epoch [1088/3000]: 100%|██████████| 9/9 [00:00<00:00, 111.23it/s, loss=1.15]\n"
          ]
        },
        {
          "output_type": "stream",
          "name": "stdout",
          "text": [
            "Epoch [1088/3000]: Train loss: 1.1606, Valid loss: 1.4794\n"
          ]
        },
        {
          "output_type": "stream",
          "name": "stderr",
          "text": [
            "Epoch [1089/3000]: 100%|██████████| 9/9 [00:00<00:00, 85.36it/s, loss=0.857]\n"
          ]
        },
        {
          "output_type": "stream",
          "name": "stdout",
          "text": [
            "Epoch [1089/3000]: Train loss: 1.1493, Valid loss: 1.3281\n"
          ]
        },
        {
          "output_type": "stream",
          "name": "stderr",
          "text": [
            "Epoch [1090/3000]: 100%|██████████| 9/9 [00:00<00:00, 90.62it/s, loss=1.8]\n"
          ]
        },
        {
          "output_type": "stream",
          "name": "stdout",
          "text": [
            "Epoch [1090/3000]: Train loss: 1.2121, Valid loss: 1.4104\n"
          ]
        },
        {
          "output_type": "stream",
          "name": "stderr",
          "text": [
            "Epoch [1091/3000]: 100%|██████████| 9/9 [00:00<00:00, 90.33it/s, loss=1.68]\n"
          ]
        },
        {
          "output_type": "stream",
          "name": "stdout",
          "text": [
            "Epoch [1091/3000]: Train loss: 1.1979, Valid loss: 1.5363\n"
          ]
        },
        {
          "output_type": "stream",
          "name": "stderr",
          "text": [
            "Epoch [1092/3000]: 100%|██████████| 9/9 [00:00<00:00, 93.86it/s, loss=1.14]\n"
          ]
        },
        {
          "output_type": "stream",
          "name": "stdout",
          "text": [
            "Epoch [1092/3000]: Train loss: 1.1560, Valid loss: 1.5876\n"
          ]
        },
        {
          "output_type": "stream",
          "name": "stderr",
          "text": [
            "Epoch [1093/3000]: 100%|██████████| 9/9 [00:00<00:00, 88.96it/s, loss=1.28]\n"
          ]
        },
        {
          "output_type": "stream",
          "name": "stdout",
          "text": [
            "Epoch [1093/3000]: Train loss: 1.1707, Valid loss: 1.4626\n"
          ]
        },
        {
          "output_type": "stream",
          "name": "stderr",
          "text": [
            "Epoch [1094/3000]: 100%|██████████| 9/9 [00:00<00:00, 87.08it/s, loss=1.36]\n"
          ]
        },
        {
          "output_type": "stream",
          "name": "stdout",
          "text": [
            "Epoch [1094/3000]: Train loss: 1.1893, Valid loss: 1.5479\n"
          ]
        },
        {
          "output_type": "stream",
          "name": "stderr",
          "text": [
            "Epoch [1095/3000]: 100%|██████████| 9/9 [00:00<00:00, 94.16it/s, loss=0.844]\n"
          ]
        },
        {
          "output_type": "stream",
          "name": "stdout",
          "text": [
            "Epoch [1095/3000]: Train loss: 1.1391, Valid loss: 1.5437\n"
          ]
        },
        {
          "output_type": "stream",
          "name": "stderr",
          "text": [
            "Epoch [1096/3000]: 100%|██████████| 9/9 [00:00<00:00, 70.24it/s, loss=1]\n"
          ]
        },
        {
          "output_type": "stream",
          "name": "stdout",
          "text": [
            "Epoch [1096/3000]: Train loss: 1.1459, Valid loss: 1.4228\n"
          ]
        },
        {
          "output_type": "stream",
          "name": "stderr",
          "text": [
            "Epoch [1097/3000]: 100%|██████████| 9/9 [00:00<00:00, 93.14it/s, loss=1]\n"
          ]
        },
        {
          "output_type": "stream",
          "name": "stdout",
          "text": [
            "Epoch [1097/3000]: Train loss: 1.1449, Valid loss: 1.2440\n"
          ]
        },
        {
          "output_type": "stream",
          "name": "stderr",
          "text": [
            "Epoch [1098/3000]: 100%|██████████| 9/9 [00:00<00:00, 111.77it/s, loss=1.46]\n"
          ]
        },
        {
          "output_type": "stream",
          "name": "stdout",
          "text": [
            "Epoch [1098/3000]: Train loss: 1.1727, Valid loss: 1.3307\n"
          ]
        },
        {
          "output_type": "stream",
          "name": "stderr",
          "text": [
            "Epoch [1099/3000]: 100%|██████████| 9/9 [00:00<00:00, 87.44it/s, loss=1.12]\n"
          ]
        },
        {
          "output_type": "stream",
          "name": "stdout",
          "text": [
            "Epoch [1099/3000]: Train loss: 1.1708, Valid loss: 1.3669\n"
          ]
        },
        {
          "output_type": "stream",
          "name": "stderr",
          "text": [
            "Epoch [1100/3000]: 100%|██████████| 9/9 [00:00<00:00, 77.90it/s, loss=1.32]\n"
          ]
        },
        {
          "output_type": "stream",
          "name": "stdout",
          "text": [
            "Epoch [1100/3000]: Train loss: 1.1739, Valid loss: 1.2918\n"
          ]
        },
        {
          "output_type": "stream",
          "name": "stderr",
          "text": [
            "Epoch [1101/3000]: 100%|██████████| 9/9 [00:00<00:00, 79.14it/s, loss=1.26]\n"
          ]
        },
        {
          "output_type": "stream",
          "name": "stdout",
          "text": [
            "Epoch [1101/3000]: Train loss: 1.1576, Valid loss: 1.4356\n"
          ]
        },
        {
          "output_type": "stream",
          "name": "stderr",
          "text": [
            "Epoch [1102/3000]: 100%|██████████| 9/9 [00:00<00:00, 112.32it/s, loss=1.02]\n"
          ]
        },
        {
          "output_type": "stream",
          "name": "stdout",
          "text": [
            "Epoch [1102/3000]: Train loss: 1.1459, Valid loss: 1.3165\n"
          ]
        },
        {
          "output_type": "stream",
          "name": "stderr",
          "text": [
            "Epoch [1103/3000]: 100%|██████████| 9/9 [00:00<00:00, 107.04it/s, loss=0.93]\n"
          ]
        },
        {
          "output_type": "stream",
          "name": "stdout",
          "text": [
            "Epoch [1103/3000]: Train loss: 1.1392, Valid loss: 1.4868\n"
          ]
        },
        {
          "output_type": "stream",
          "name": "stderr",
          "text": [
            "Epoch [1104/3000]: 100%|██████████| 9/9 [00:00<00:00, 84.03it/s, loss=1.5]\n"
          ]
        },
        {
          "output_type": "stream",
          "name": "stdout",
          "text": [
            "Epoch [1104/3000]: Train loss: 1.1816, Valid loss: 1.4126\n"
          ]
        },
        {
          "output_type": "stream",
          "name": "stderr",
          "text": [
            "Epoch [1105/3000]: 100%|██████████| 9/9 [00:00<00:00, 98.98it/s, loss=1.28]\n"
          ]
        },
        {
          "output_type": "stream",
          "name": "stdout",
          "text": [
            "Epoch [1105/3000]: Train loss: 1.1638, Valid loss: 1.3654\n"
          ]
        },
        {
          "output_type": "stream",
          "name": "stderr",
          "text": [
            "Epoch [1106/3000]: 100%|██████████| 9/9 [00:00<00:00, 81.59it/s, loss=1.16]\n"
          ]
        },
        {
          "output_type": "stream",
          "name": "stdout",
          "text": [
            "Epoch [1106/3000]: Train loss: 1.1659, Valid loss: 1.3369\n"
          ]
        },
        {
          "output_type": "stream",
          "name": "stderr",
          "text": [
            "Epoch [1107/3000]: 100%|██████████| 9/9 [00:00<00:00, 91.10it/s, loss=1.03]\n"
          ]
        },
        {
          "output_type": "stream",
          "name": "stdout",
          "text": [
            "Epoch [1107/3000]: Train loss: 1.1625, Valid loss: 1.3096\n"
          ]
        },
        {
          "output_type": "stream",
          "name": "stderr",
          "text": [
            "Epoch [1108/3000]: 100%|██████████| 9/9 [00:00<00:00, 98.94it/s, loss=1.15]\n"
          ]
        },
        {
          "output_type": "stream",
          "name": "stdout",
          "text": [
            "Epoch [1108/3000]: Train loss: 1.1721, Valid loss: 1.5421\n"
          ]
        },
        {
          "output_type": "stream",
          "name": "stderr",
          "text": [
            "Epoch [1109/3000]: 100%|██████████| 9/9 [00:00<00:00, 83.18it/s, loss=0.893]\n"
          ]
        },
        {
          "output_type": "stream",
          "name": "stdout",
          "text": [
            "Epoch [1109/3000]: Train loss: 1.1475, Valid loss: 1.3404\n"
          ]
        },
        {
          "output_type": "stream",
          "name": "stderr",
          "text": [
            "Epoch [1110/3000]: 100%|██████████| 9/9 [00:00<00:00, 99.45it/s, loss=1.12]\n"
          ]
        },
        {
          "output_type": "stream",
          "name": "stdout",
          "text": [
            "Epoch [1110/3000]: Train loss: 1.1515, Valid loss: 1.2718\n"
          ]
        },
        {
          "output_type": "stream",
          "name": "stderr",
          "text": [
            "Epoch [1111/3000]: 100%|██████████| 9/9 [00:00<00:00, 83.60it/s, loss=1.02]\n"
          ]
        },
        {
          "output_type": "stream",
          "name": "stdout",
          "text": [
            "Epoch [1111/3000]: Train loss: 1.1496, Valid loss: 1.1886\n"
          ]
        },
        {
          "output_type": "stream",
          "name": "stderr",
          "text": [
            "Epoch [1112/3000]: 100%|██████████| 9/9 [00:00<00:00, 92.96it/s, loss=1.47]\n"
          ]
        },
        {
          "output_type": "stream",
          "name": "stdout",
          "text": [
            "Epoch [1112/3000]: Train loss: 1.1922, Valid loss: 1.6508\n"
          ]
        },
        {
          "output_type": "stream",
          "name": "stderr",
          "text": [
            "Epoch [1113/3000]: 100%|██████████| 9/9 [00:00<00:00, 92.62it/s, loss=1.22]\n"
          ]
        },
        {
          "output_type": "stream",
          "name": "stdout",
          "text": [
            "Epoch [1113/3000]: Train loss: 1.1903, Valid loss: 1.3098\n"
          ]
        },
        {
          "output_type": "stream",
          "name": "stderr",
          "text": [
            "Epoch [1114/3000]: 100%|██████████| 9/9 [00:00<00:00, 87.15it/s, loss=1.22]\n"
          ]
        },
        {
          "output_type": "stream",
          "name": "stdout",
          "text": [
            "Epoch [1114/3000]: Train loss: 1.2102, Valid loss: 1.6433\n"
          ]
        },
        {
          "output_type": "stream",
          "name": "stderr",
          "text": [
            "Epoch [1115/3000]: 100%|██████████| 9/9 [00:00<00:00, 79.17it/s, loss=1.33]\n"
          ]
        },
        {
          "output_type": "stream",
          "name": "stdout",
          "text": [
            "Epoch [1115/3000]: Train loss: 1.1989, Valid loss: 1.8816\n"
          ]
        },
        {
          "output_type": "stream",
          "name": "stderr",
          "text": [
            "Epoch [1116/3000]: 100%|██████████| 9/9 [00:00<00:00, 96.59it/s, loss=1.17]\n"
          ]
        },
        {
          "output_type": "stream",
          "name": "stdout",
          "text": [
            "Epoch [1116/3000]: Train loss: 1.2021, Valid loss: 1.4477\n"
          ]
        },
        {
          "output_type": "stream",
          "name": "stderr",
          "text": [
            "Epoch [1117/3000]: 100%|██████████| 9/9 [00:00<00:00, 98.70it/s, loss=1.2]\n"
          ]
        },
        {
          "output_type": "stream",
          "name": "stdout",
          "text": [
            "Epoch [1117/3000]: Train loss: 1.1687, Valid loss: 1.4211\n"
          ]
        },
        {
          "output_type": "stream",
          "name": "stderr",
          "text": [
            "Epoch [1118/3000]: 100%|██████████| 9/9 [00:00<00:00, 114.20it/s, loss=1.35]\n"
          ]
        },
        {
          "output_type": "stream",
          "name": "stdout",
          "text": [
            "Epoch [1118/3000]: Train loss: 1.1576, Valid loss: 1.2672\n"
          ]
        },
        {
          "output_type": "stream",
          "name": "stderr",
          "text": [
            "Epoch [1119/3000]: 100%|██████████| 9/9 [00:00<00:00, 112.19it/s, loss=0.911]\n"
          ]
        },
        {
          "output_type": "stream",
          "name": "stdout",
          "text": [
            "Epoch [1119/3000]: Train loss: 1.1488, Valid loss: 1.2924\n"
          ]
        },
        {
          "output_type": "stream",
          "name": "stderr",
          "text": [
            "Epoch [1120/3000]: 100%|██████████| 9/9 [00:00<00:00, 75.02it/s, loss=0.939]\n"
          ]
        },
        {
          "output_type": "stream",
          "name": "stdout",
          "text": [
            "Epoch [1120/3000]: Train loss: 1.1443, Valid loss: 1.4312\n"
          ]
        },
        {
          "output_type": "stream",
          "name": "stderr",
          "text": [
            "Epoch [1121/3000]: 100%|██████████| 9/9 [00:00<00:00, 76.97it/s, loss=1.4]\n"
          ]
        },
        {
          "output_type": "stream",
          "name": "stdout",
          "text": [
            "Epoch [1121/3000]: Train loss: 1.1625, Valid loss: 1.6158\n"
          ]
        },
        {
          "output_type": "stream",
          "name": "stderr",
          "text": [
            "Epoch [1122/3000]: 100%|██████████| 9/9 [00:00<00:00, 84.87it/s, loss=0.984]\n"
          ]
        },
        {
          "output_type": "stream",
          "name": "stdout",
          "text": [
            "Epoch [1122/3000]: Train loss: 1.1364, Valid loss: 1.3468\n"
          ]
        },
        {
          "output_type": "stream",
          "name": "stderr",
          "text": [
            "Epoch [1123/3000]: 100%|██████████| 9/9 [00:00<00:00, 89.95it/s, loss=1.37]\n"
          ]
        },
        {
          "output_type": "stream",
          "name": "stdout",
          "text": [
            "Epoch [1123/3000]: Train loss: 1.1568, Valid loss: 1.3317\n"
          ]
        },
        {
          "output_type": "stream",
          "name": "stderr",
          "text": [
            "Epoch [1124/3000]: 100%|██████████| 9/9 [00:00<00:00, 77.99it/s, loss=0.897]\n"
          ]
        },
        {
          "output_type": "stream",
          "name": "stdout",
          "text": [
            "Epoch [1124/3000]: Train loss: 1.1319, Valid loss: 1.4975\n"
          ]
        },
        {
          "output_type": "stream",
          "name": "stderr",
          "text": [
            "Epoch [1125/3000]: 100%|██████████| 9/9 [00:00<00:00, 90.24it/s, loss=1.28]\n"
          ]
        },
        {
          "output_type": "stream",
          "name": "stdout",
          "text": [
            "Epoch [1125/3000]: Train loss: 1.1554, Valid loss: 1.2339\n"
          ]
        },
        {
          "output_type": "stream",
          "name": "stderr",
          "text": [
            "Epoch [1126/3000]: 100%|██████████| 9/9 [00:00<00:00, 94.96it/s, loss=1.27]\n"
          ]
        },
        {
          "output_type": "stream",
          "name": "stdout",
          "text": [
            "Epoch [1126/3000]: Train loss: 1.1478, Valid loss: 1.6501\n"
          ]
        },
        {
          "output_type": "stream",
          "name": "stderr",
          "text": [
            "Epoch [1127/3000]: 100%|██████████| 9/9 [00:00<00:00, 86.77it/s, loss=0.944]\n"
          ]
        },
        {
          "output_type": "stream",
          "name": "stdout",
          "text": [
            "Epoch [1127/3000]: Train loss: 1.1551, Valid loss: 1.6552\n"
          ]
        },
        {
          "output_type": "stream",
          "name": "stderr",
          "text": [
            "Epoch [1128/3000]: 100%|██████████| 9/9 [00:00<00:00, 96.19it/s, loss=0.736]\n"
          ]
        },
        {
          "output_type": "stream",
          "name": "stdout",
          "text": [
            "Epoch [1128/3000]: Train loss: 1.1521, Valid loss: 1.3027\n"
          ]
        },
        {
          "output_type": "stream",
          "name": "stderr",
          "text": [
            "Epoch [1129/3000]: 100%|██████████| 9/9 [00:00<00:00, 99.84it/s, loss=1.49]\n"
          ]
        },
        {
          "output_type": "stream",
          "name": "stdout",
          "text": [
            "Epoch [1129/3000]: Train loss: 1.1786, Valid loss: 1.3033\n"
          ]
        },
        {
          "output_type": "stream",
          "name": "stderr",
          "text": [
            "Epoch [1130/3000]: 100%|██████████| 9/9 [00:00<00:00, 100.03it/s, loss=1.26]\n"
          ]
        },
        {
          "output_type": "stream",
          "name": "stdout",
          "text": [
            "Epoch [1130/3000]: Train loss: 1.1456, Valid loss: 1.3804\n"
          ]
        },
        {
          "output_type": "stream",
          "name": "stderr",
          "text": [
            "Epoch [1131/3000]: 100%|██████████| 9/9 [00:00<00:00, 90.14it/s, loss=1.34]\n"
          ]
        },
        {
          "output_type": "stream",
          "name": "stdout",
          "text": [
            "Epoch [1131/3000]: Train loss: 1.1561, Valid loss: 1.4203\n"
          ]
        },
        {
          "output_type": "stream",
          "name": "stderr",
          "text": [
            "Epoch [1132/3000]: 100%|██████████| 9/9 [00:00<00:00, 69.63it/s, loss=0.971]\n"
          ]
        },
        {
          "output_type": "stream",
          "name": "stdout",
          "text": [
            "Epoch [1132/3000]: Train loss: 1.1313, Valid loss: 1.2845\n"
          ]
        },
        {
          "output_type": "stream",
          "name": "stderr",
          "text": [
            "Epoch [1133/3000]: 100%|██████████| 9/9 [00:00<00:00, 97.32it/s, loss=0.815]\n"
          ]
        },
        {
          "output_type": "stream",
          "name": "stdout",
          "text": [
            "Epoch [1133/3000]: Train loss: 1.1189, Valid loss: 1.5734\n"
          ]
        },
        {
          "output_type": "stream",
          "name": "stderr",
          "text": [
            "Epoch [1134/3000]: 100%|██████████| 9/9 [00:00<00:00, 85.36it/s, loss=1.2]\n"
          ]
        },
        {
          "output_type": "stream",
          "name": "stdout",
          "text": [
            "Epoch [1134/3000]: Train loss: 1.1426, Valid loss: 1.3102\n"
          ]
        },
        {
          "output_type": "stream",
          "name": "stderr",
          "text": [
            "Epoch [1135/3000]: 100%|██████████| 9/9 [00:00<00:00, 101.33it/s, loss=1.27]\n"
          ]
        },
        {
          "output_type": "stream",
          "name": "stdout",
          "text": [
            "Epoch [1135/3000]: Train loss: 1.1480, Valid loss: 1.4016\n"
          ]
        },
        {
          "output_type": "stream",
          "name": "stderr",
          "text": [
            "Epoch [1136/3000]: 100%|██████████| 9/9 [00:00<00:00, 97.30it/s, loss=0.919]\n"
          ]
        },
        {
          "output_type": "stream",
          "name": "stdout",
          "text": [
            "Epoch [1136/3000]: Train loss: 1.1304, Valid loss: 1.2550\n"
          ]
        },
        {
          "output_type": "stream",
          "name": "stderr",
          "text": [
            "Epoch [1137/3000]: 100%|██████████| 9/9 [00:00<00:00, 104.60it/s, loss=1.07]\n"
          ]
        },
        {
          "output_type": "stream",
          "name": "stdout",
          "text": [
            "Epoch [1137/3000]: Train loss: 1.1392, Valid loss: 1.4275\n"
          ]
        },
        {
          "output_type": "stream",
          "name": "stderr",
          "text": [
            "Epoch [1138/3000]: 100%|██████████| 9/9 [00:00<00:00, 108.47it/s, loss=0.953]"
          ]
        },
        {
          "output_type": "stream",
          "name": "stdout",
          "text": [
            "Epoch [1138/3000]: Train loss: 1.1341, Valid loss: 1.2368"
          ]
        },
        {
          "output_type": "stream",
          "name": "stderr",
          "text": [
            "\n"
          ]
        },
        {
          "output_type": "stream",
          "name": "stdout",
          "text": [
            "\n"
          ]
        },
        {
          "output_type": "stream",
          "name": "stderr",
          "text": [
            "Epoch [1139/3000]: 100%|██████████| 9/9 [00:00<00:00, 103.54it/s, loss=1.26]\n"
          ]
        },
        {
          "output_type": "stream",
          "name": "stdout",
          "text": [
            "Epoch [1139/3000]: Train loss: 1.1731, Valid loss: 1.3278\n"
          ]
        },
        {
          "output_type": "stream",
          "name": "stderr",
          "text": [
            "Epoch [1140/3000]: 100%|██████████| 9/9 [00:00<00:00, 102.82it/s, loss=0.925]\n"
          ]
        },
        {
          "output_type": "stream",
          "name": "stdout",
          "text": [
            "Epoch [1140/3000]: Train loss: 1.1342, Valid loss: 1.3000\n"
          ]
        },
        {
          "output_type": "stream",
          "name": "stderr",
          "text": [
            "Epoch [1141/3000]: 100%|██████████| 9/9 [00:00<00:00, 111.06it/s, loss=1.14]\n"
          ]
        },
        {
          "output_type": "stream",
          "name": "stdout",
          "text": [
            "Epoch [1141/3000]: Train loss: 1.1407, Valid loss: 1.2924\n"
          ]
        },
        {
          "output_type": "stream",
          "name": "stderr",
          "text": [
            "Epoch [1142/3000]: 100%|██████████| 9/9 [00:00<00:00, 100.02it/s, loss=1.3]\n"
          ]
        },
        {
          "output_type": "stream",
          "name": "stdout",
          "text": [
            "Epoch [1142/3000]: Train loss: 1.1560, Valid loss: 1.3763\n"
          ]
        },
        {
          "output_type": "stream",
          "name": "stderr",
          "text": [
            "Epoch [1143/3000]: 100%|██████████| 9/9 [00:00<00:00, 82.58it/s, loss=1.42]\n"
          ]
        },
        {
          "output_type": "stream",
          "name": "stdout",
          "text": [
            "Epoch [1143/3000]: Train loss: 1.1522, Valid loss: 1.4950\n"
          ]
        },
        {
          "output_type": "stream",
          "name": "stderr",
          "text": [
            "Epoch [1144/3000]: 100%|██████████| 9/9 [00:00<00:00, 114.82it/s, loss=0.886]\n"
          ]
        },
        {
          "output_type": "stream",
          "name": "stdout",
          "text": [
            "Epoch [1144/3000]: Train loss: 1.1405, Valid loss: 1.3195\n"
          ]
        },
        {
          "output_type": "stream",
          "name": "stderr",
          "text": [
            "Epoch [1145/3000]: 100%|██████████| 9/9 [00:00<00:00, 103.01it/s, loss=0.894]\n"
          ]
        },
        {
          "output_type": "stream",
          "name": "stdout",
          "text": [
            "Epoch [1145/3000]: Train loss: 1.1416, Valid loss: 1.5759\n"
          ]
        },
        {
          "output_type": "stream",
          "name": "stderr",
          "text": [
            "Epoch [1146/3000]: 100%|██████████| 9/9 [00:00<00:00, 94.45it/s, loss=1.01]\n"
          ]
        },
        {
          "output_type": "stream",
          "name": "stdout",
          "text": [
            "Epoch [1146/3000]: Train loss: 1.1611, Valid loss: 1.3546\n"
          ]
        },
        {
          "output_type": "stream",
          "name": "stderr",
          "text": [
            "Epoch [1147/3000]: 100%|██████████| 9/9 [00:00<00:00, 73.94it/s, loss=0.805]\n"
          ]
        },
        {
          "output_type": "stream",
          "name": "stdout",
          "text": [
            "Epoch [1147/3000]: Train loss: 1.1665, Valid loss: 1.5574\n"
          ]
        },
        {
          "output_type": "stream",
          "name": "stderr",
          "text": [
            "Epoch [1148/3000]: 100%|██████████| 9/9 [00:00<00:00, 98.10it/s, loss=1.37]\n"
          ]
        },
        {
          "output_type": "stream",
          "name": "stdout",
          "text": [
            "Epoch [1148/3000]: Train loss: 1.1610, Valid loss: 1.2688\n"
          ]
        },
        {
          "output_type": "stream",
          "name": "stderr",
          "text": [
            "Epoch [1149/3000]: 100%|██████████| 9/9 [00:00<00:00, 92.26it/s, loss=1.41]\n"
          ]
        },
        {
          "output_type": "stream",
          "name": "stdout",
          "text": [
            "Epoch [1149/3000]: Train loss: 1.1623, Valid loss: 1.9640\n"
          ]
        },
        {
          "output_type": "stream",
          "name": "stderr",
          "text": [
            "Epoch [1150/3000]: 100%|██████████| 9/9 [00:00<00:00, 99.79it/s, loss=1.02]\n"
          ]
        },
        {
          "output_type": "stream",
          "name": "stdout",
          "text": [
            "Epoch [1150/3000]: Train loss: 1.1345, Valid loss: 1.5116\n"
          ]
        },
        {
          "output_type": "stream",
          "name": "stderr",
          "text": [
            "Epoch [1151/3000]: 100%|██████████| 9/9 [00:00<00:00, 90.85it/s, loss=0.788]\n"
          ]
        },
        {
          "output_type": "stream",
          "name": "stdout",
          "text": [
            "Epoch [1151/3000]: Train loss: 1.1180, Valid loss: 1.0724\n",
            "Saving model with loss 1.072...\n"
          ]
        },
        {
          "output_type": "stream",
          "name": "stderr",
          "text": [
            "Epoch [1152/3000]: 100%|██████████| 9/9 [00:00<00:00, 93.83it/s, loss=0.848]\n"
          ]
        },
        {
          "output_type": "stream",
          "name": "stdout",
          "text": [
            "Epoch [1152/3000]: Train loss: 1.1227, Valid loss: 1.4447\n"
          ]
        },
        {
          "output_type": "stream",
          "name": "stderr",
          "text": [
            "Epoch [1153/3000]: 100%|██████████| 9/9 [00:00<00:00, 81.74it/s, loss=1.13]\n"
          ]
        },
        {
          "output_type": "stream",
          "name": "stdout",
          "text": [
            "Epoch [1153/3000]: Train loss: 1.1622, Valid loss: 1.3091\n"
          ]
        },
        {
          "output_type": "stream",
          "name": "stderr",
          "text": [
            "Epoch [1154/3000]: 100%|██████████| 9/9 [00:00<00:00, 76.09it/s, loss=1.13]\n"
          ]
        },
        {
          "output_type": "stream",
          "name": "stdout",
          "text": [
            "Epoch [1154/3000]: Train loss: 1.1813, Valid loss: 1.4286\n"
          ]
        },
        {
          "output_type": "stream",
          "name": "stderr",
          "text": [
            "Epoch [1155/3000]: 100%|██████████| 9/9 [00:00<00:00, 82.06it/s, loss=1.49]\n"
          ]
        },
        {
          "output_type": "stream",
          "name": "stdout",
          "text": [
            "Epoch [1155/3000]: Train loss: 1.1713, Valid loss: 1.2090\n"
          ]
        },
        {
          "output_type": "stream",
          "name": "stderr",
          "text": [
            "Epoch [1156/3000]: 100%|██████████| 9/9 [00:00<00:00, 93.14it/s, loss=1.3]\n"
          ]
        },
        {
          "output_type": "stream",
          "name": "stdout",
          "text": [
            "Epoch [1156/3000]: Train loss: 1.1623, Valid loss: 1.3584\n"
          ]
        },
        {
          "output_type": "stream",
          "name": "stderr",
          "text": [
            "Epoch [1157/3000]: 100%|██████████| 9/9 [00:00<00:00, 93.69it/s, loss=0.918]\n"
          ]
        },
        {
          "output_type": "stream",
          "name": "stdout",
          "text": [
            "Epoch [1157/3000]: Train loss: 1.1315, Valid loss: 1.3339\n"
          ]
        },
        {
          "output_type": "stream",
          "name": "stderr",
          "text": [
            "Epoch [1158/3000]: 100%|██████████| 9/9 [00:00<00:00, 99.51it/s, loss=0.912]\n"
          ]
        },
        {
          "output_type": "stream",
          "name": "stdout",
          "text": [
            "Epoch [1158/3000]: Train loss: 1.1357, Valid loss: 1.4505\n"
          ]
        },
        {
          "output_type": "stream",
          "name": "stderr",
          "text": [
            "Epoch [1159/3000]: 100%|██████████| 9/9 [00:00<00:00, 91.19it/s, loss=0.979]\n"
          ]
        },
        {
          "output_type": "stream",
          "name": "stdout",
          "text": [
            "Epoch [1159/3000]: Train loss: 1.1314, Valid loss: 1.2066\n"
          ]
        },
        {
          "output_type": "stream",
          "name": "stderr",
          "text": [
            "Epoch [1160/3000]: 100%|██████████| 9/9 [00:00<00:00, 76.91it/s, loss=1.05]\n"
          ]
        },
        {
          "output_type": "stream",
          "name": "stdout",
          "text": [
            "Epoch [1160/3000]: Train loss: 1.1259, Valid loss: 1.2381\n"
          ]
        },
        {
          "output_type": "stream",
          "name": "stderr",
          "text": [
            "Epoch [1161/3000]: 100%|██████████| 9/9 [00:00<00:00, 107.91it/s, loss=1.13]\n"
          ]
        },
        {
          "output_type": "stream",
          "name": "stdout",
          "text": [
            "Epoch [1161/3000]: Train loss: 1.1295, Valid loss: 1.4320\n"
          ]
        },
        {
          "output_type": "stream",
          "name": "stderr",
          "text": [
            "Epoch [1162/3000]: 100%|██████████| 9/9 [00:00<00:00, 113.23it/s, loss=1.57]\n"
          ]
        },
        {
          "output_type": "stream",
          "name": "stdout",
          "text": [
            "Epoch [1162/3000]: Train loss: 1.1590, Valid loss: 1.6137\n"
          ]
        },
        {
          "output_type": "stream",
          "name": "stderr",
          "text": [
            "Epoch [1163/3000]: 100%|██████████| 9/9 [00:00<00:00, 89.99it/s, loss=0.937]\n"
          ]
        },
        {
          "output_type": "stream",
          "name": "stdout",
          "text": [
            "Epoch [1163/3000]: Train loss: 1.1565, Valid loss: 1.4008\n"
          ]
        },
        {
          "output_type": "stream",
          "name": "stderr",
          "text": [
            "Epoch [1164/3000]: 100%|██████████| 9/9 [00:00<00:00, 92.66it/s, loss=0.792]\n"
          ]
        },
        {
          "output_type": "stream",
          "name": "stdout",
          "text": [
            "Epoch [1164/3000]: Train loss: 1.1156, Valid loss: 1.2583\n"
          ]
        },
        {
          "output_type": "stream",
          "name": "stderr",
          "text": [
            "Epoch [1165/3000]: 100%|██████████| 9/9 [00:00<00:00, 78.44it/s, loss=1.22]\n"
          ]
        },
        {
          "output_type": "stream",
          "name": "stdout",
          "text": [
            "Epoch [1165/3000]: Train loss: 1.1416, Valid loss: 1.4319\n"
          ]
        },
        {
          "output_type": "stream",
          "name": "stderr",
          "text": [
            "Epoch [1166/3000]: 100%|██████████| 9/9 [00:00<00:00, 79.69it/s, loss=1.3]\n"
          ]
        },
        {
          "output_type": "stream",
          "name": "stdout",
          "text": [
            "Epoch [1166/3000]: Train loss: 1.1437, Valid loss: 1.1956\n"
          ]
        },
        {
          "output_type": "stream",
          "name": "stderr",
          "text": [
            "Epoch [1167/3000]: 100%|██████████| 9/9 [00:00<00:00, 81.91it/s, loss=1.3]\n"
          ]
        },
        {
          "output_type": "stream",
          "name": "stdout",
          "text": [
            "Epoch [1167/3000]: Train loss: 1.1438, Valid loss: 1.2404\n"
          ]
        },
        {
          "output_type": "stream",
          "name": "stderr",
          "text": [
            "Epoch [1168/3000]: 100%|██████████| 9/9 [00:00<00:00, 80.43it/s, loss=1.36]\n"
          ]
        },
        {
          "output_type": "stream",
          "name": "stdout",
          "text": [
            "Epoch [1168/3000]: Train loss: 1.1472, Valid loss: 1.3410\n"
          ]
        },
        {
          "output_type": "stream",
          "name": "stderr",
          "text": [
            "Epoch [1169/3000]: 100%|██████████| 9/9 [00:00<00:00, 90.11it/s, loss=1.13]\n"
          ]
        },
        {
          "output_type": "stream",
          "name": "stdout",
          "text": [
            "Epoch [1169/3000]: Train loss: 1.1301, Valid loss: 1.3622\n"
          ]
        },
        {
          "output_type": "stream",
          "name": "stderr",
          "text": [
            "Epoch [1170/3000]: 100%|██████████| 9/9 [00:00<00:00, 75.52it/s, loss=0.903]\n"
          ]
        },
        {
          "output_type": "stream",
          "name": "stdout",
          "text": [
            "Epoch [1170/3000]: Train loss: 1.1154, Valid loss: 1.3137\n"
          ]
        },
        {
          "output_type": "stream",
          "name": "stderr",
          "text": [
            "Epoch [1171/3000]: 100%|██████████| 9/9 [00:00<00:00, 103.23it/s, loss=1.45]\n"
          ]
        },
        {
          "output_type": "stream",
          "name": "stdout",
          "text": [
            "Epoch [1171/3000]: Train loss: 1.1557, Valid loss: 1.6111\n"
          ]
        },
        {
          "output_type": "stream",
          "name": "stderr",
          "text": [
            "Epoch [1172/3000]: 100%|██████████| 9/9 [00:00<00:00, 106.11it/s, loss=1.25]\n"
          ]
        },
        {
          "output_type": "stream",
          "name": "stdout",
          "text": [
            "Epoch [1172/3000]: Train loss: 1.1339, Valid loss: 1.3061\n"
          ]
        },
        {
          "output_type": "stream",
          "name": "stderr",
          "text": [
            "Epoch [1173/3000]: 100%|██████████| 9/9 [00:00<00:00, 104.01it/s, loss=1.66]\n"
          ]
        },
        {
          "output_type": "stream",
          "name": "stdout",
          "text": [
            "Epoch [1173/3000]: Train loss: 1.1622, Valid loss: 1.3632\n"
          ]
        },
        {
          "output_type": "stream",
          "name": "stderr",
          "text": [
            "Epoch [1174/3000]: 100%|██████████| 9/9 [00:00<00:00, 103.38it/s, loss=1.06]\n"
          ]
        },
        {
          "output_type": "stream",
          "name": "stdout",
          "text": [
            "Epoch [1174/3000]: Train loss: 1.1245, Valid loss: 1.3646\n"
          ]
        },
        {
          "output_type": "stream",
          "name": "stderr",
          "text": [
            "Epoch [1175/3000]: 100%|██████████| 9/9 [00:00<00:00, 99.93it/s, loss=1.4]\n"
          ]
        },
        {
          "output_type": "stream",
          "name": "stdout",
          "text": [
            "Epoch [1175/3000]: Train loss: 1.1449, Valid loss: 1.1645\n"
          ]
        },
        {
          "output_type": "stream",
          "name": "stderr",
          "text": [
            "Epoch [1176/3000]: 100%|██████████| 9/9 [00:00<00:00, 116.40it/s, loss=1.4]\n"
          ]
        },
        {
          "output_type": "stream",
          "name": "stdout",
          "text": [
            "Epoch [1176/3000]: Train loss: 1.1520, Valid loss: 1.3798\n"
          ]
        },
        {
          "output_type": "stream",
          "name": "stderr",
          "text": [
            "Epoch [1177/3000]: 100%|██████████| 9/9 [00:00<00:00, 84.16it/s, loss=1.21]\n"
          ]
        },
        {
          "output_type": "stream",
          "name": "stdout",
          "text": [
            "Epoch [1177/3000]: Train loss: 1.1342, Valid loss: 1.3758\n"
          ]
        },
        {
          "output_type": "stream",
          "name": "stderr",
          "text": [
            "Epoch [1178/3000]: 100%|██████████| 9/9 [00:00<00:00, 84.42it/s, loss=1.02]\n"
          ]
        },
        {
          "output_type": "stream",
          "name": "stdout",
          "text": [
            "Epoch [1178/3000]: Train loss: 1.1265, Valid loss: 1.4102\n"
          ]
        },
        {
          "output_type": "stream",
          "name": "stderr",
          "text": [
            "Epoch [1179/3000]: 100%|██████████| 9/9 [00:00<00:00, 108.83it/s, loss=1.38]\n"
          ]
        },
        {
          "output_type": "stream",
          "name": "stdout",
          "text": [
            "Epoch [1179/3000]: Train loss: 1.1394, Valid loss: 1.4117\n"
          ]
        },
        {
          "output_type": "stream",
          "name": "stderr",
          "text": [
            "Epoch [1180/3000]: 100%|██████████| 9/9 [00:00<00:00, 110.38it/s, loss=1.48]\n"
          ]
        },
        {
          "output_type": "stream",
          "name": "stdout",
          "text": [
            "Epoch [1180/3000]: Train loss: 1.1647, Valid loss: 1.4359\n"
          ]
        },
        {
          "output_type": "stream",
          "name": "stderr",
          "text": [
            "Epoch [1181/3000]: 100%|██████████| 9/9 [00:00<00:00, 111.99it/s, loss=1.05]\n"
          ]
        },
        {
          "output_type": "stream",
          "name": "stdout",
          "text": [
            "Epoch [1181/3000]: Train loss: 1.1439, Valid loss: 1.3766\n"
          ]
        },
        {
          "output_type": "stream",
          "name": "stderr",
          "text": [
            "Epoch [1182/3000]: 100%|██████████| 9/9 [00:00<00:00, 94.24it/s, loss=1.11]\n"
          ]
        },
        {
          "output_type": "stream",
          "name": "stdout",
          "text": [
            "Epoch [1182/3000]: Train loss: 1.1616, Valid loss: 1.2522\n"
          ]
        },
        {
          "output_type": "stream",
          "name": "stderr",
          "text": [
            "Epoch [1183/3000]: 100%|██████████| 9/9 [00:00<00:00, 90.55it/s, loss=0.763]\n"
          ]
        },
        {
          "output_type": "stream",
          "name": "stdout",
          "text": [
            "Epoch [1183/3000]: Train loss: 1.1180, Valid loss: 1.4625\n"
          ]
        },
        {
          "output_type": "stream",
          "name": "stderr",
          "text": [
            "Epoch [1184/3000]: 100%|██████████| 9/9 [00:00<00:00, 102.25it/s, loss=1.13]\n"
          ]
        },
        {
          "output_type": "stream",
          "name": "stdout",
          "text": [
            "Epoch [1184/3000]: Train loss: 1.1327, Valid loss: 1.1731\n"
          ]
        },
        {
          "output_type": "stream",
          "name": "stderr",
          "text": [
            "Epoch [1185/3000]: 100%|██████████| 9/9 [00:00<00:00, 94.68it/s, loss=1.24]\n"
          ]
        },
        {
          "output_type": "stream",
          "name": "stdout",
          "text": [
            "Epoch [1185/3000]: Train loss: 1.1630, Valid loss: 1.5867\n"
          ]
        },
        {
          "output_type": "stream",
          "name": "stderr",
          "text": [
            "Epoch [1186/3000]: 100%|██████████| 9/9 [00:00<00:00, 92.40it/s, loss=1.57]\n"
          ]
        },
        {
          "output_type": "stream",
          "name": "stdout",
          "text": [
            "Epoch [1186/3000]: Train loss: 1.1731, Valid loss: 1.3346\n"
          ]
        },
        {
          "output_type": "stream",
          "name": "stderr",
          "text": [
            "Epoch [1187/3000]: 100%|██████████| 9/9 [00:00<00:00, 87.98it/s, loss=1.07]\n"
          ]
        },
        {
          "output_type": "stream",
          "name": "stdout",
          "text": [
            "Epoch [1187/3000]: Train loss: 1.1616, Valid loss: 1.2950\n"
          ]
        },
        {
          "output_type": "stream",
          "name": "stderr",
          "text": [
            "Epoch [1188/3000]: 100%|██████████| 9/9 [00:00<00:00, 96.84it/s, loss=0.974]\n"
          ]
        },
        {
          "output_type": "stream",
          "name": "stdout",
          "text": [
            "Epoch [1188/3000]: Train loss: 1.1152, Valid loss: 1.4251\n"
          ]
        },
        {
          "output_type": "stream",
          "name": "stderr",
          "text": [
            "Epoch [1189/3000]: 100%|██████████| 9/9 [00:00<00:00, 104.16it/s, loss=1.14]\n"
          ]
        },
        {
          "output_type": "stream",
          "name": "stdout",
          "text": [
            "Epoch [1189/3000]: Train loss: 1.1252, Valid loss: 1.3941\n"
          ]
        },
        {
          "output_type": "stream",
          "name": "stderr",
          "text": [
            "Epoch [1190/3000]: 100%|██████████| 9/9 [00:00<00:00, 77.86it/s, loss=1.22]\n"
          ]
        },
        {
          "output_type": "stream",
          "name": "stdout",
          "text": [
            "Epoch [1190/3000]: Train loss: 1.1333, Valid loss: 1.2601\n"
          ]
        },
        {
          "output_type": "stream",
          "name": "stderr",
          "text": [
            "Epoch [1191/3000]: 100%|██████████| 9/9 [00:00<00:00, 99.87it/s, loss=1.07]\n"
          ]
        },
        {
          "output_type": "stream",
          "name": "stdout",
          "text": [
            "Epoch [1191/3000]: Train loss: 1.1240, Valid loss: 1.2548\n"
          ]
        },
        {
          "output_type": "stream",
          "name": "stderr",
          "text": [
            "Epoch [1192/3000]: 100%|██████████| 9/9 [00:00<00:00, 88.81it/s, loss=1.13]\n"
          ]
        },
        {
          "output_type": "stream",
          "name": "stdout",
          "text": [
            "Epoch [1192/3000]: Train loss: 1.1267, Valid loss: 1.4610\n"
          ]
        },
        {
          "output_type": "stream",
          "name": "stderr",
          "text": [
            "Epoch [1193/3000]: 100%|██████████| 9/9 [00:00<00:00, 84.87it/s, loss=1.73]\n"
          ]
        },
        {
          "output_type": "stream",
          "name": "stdout",
          "text": [
            "Epoch [1193/3000]: Train loss: 1.1606, Valid loss: 1.5186\n"
          ]
        },
        {
          "output_type": "stream",
          "name": "stderr",
          "text": [
            "Epoch [1194/3000]: 100%|██████████| 9/9 [00:00<00:00, 82.99it/s, loss=1.22]\n"
          ]
        },
        {
          "output_type": "stream",
          "name": "stdout",
          "text": [
            "Epoch [1194/3000]: Train loss: 1.1353, Valid loss: 1.4313\n"
          ]
        },
        {
          "output_type": "stream",
          "name": "stderr",
          "text": [
            "Epoch [1195/3000]: 100%|██████████| 9/9 [00:00<00:00, 104.17it/s, loss=0.76]\n"
          ]
        },
        {
          "output_type": "stream",
          "name": "stdout",
          "text": [
            "Epoch [1195/3000]: Train loss: 1.1009, Valid loss: 1.5258\n"
          ]
        },
        {
          "output_type": "stream",
          "name": "stderr",
          "text": [
            "Epoch [1196/3000]: 100%|██████████| 9/9 [00:00<00:00, 89.97it/s, loss=0.813]\n"
          ]
        },
        {
          "output_type": "stream",
          "name": "stdout",
          "text": [
            "Epoch [1196/3000]: Train loss: 1.1164, Valid loss: 1.3341\n"
          ]
        },
        {
          "output_type": "stream",
          "name": "stderr",
          "text": [
            "Epoch [1197/3000]: 100%|██████████| 9/9 [00:00<00:00, 73.33it/s, loss=0.96]\n"
          ]
        },
        {
          "output_type": "stream",
          "name": "stdout",
          "text": [
            "Epoch [1197/3000]: Train loss: 1.1384, Valid loss: 1.3758\n"
          ]
        },
        {
          "output_type": "stream",
          "name": "stderr",
          "text": [
            "Epoch [1198/3000]: 100%|██████████| 9/9 [00:00<00:00, 95.42it/s, loss=1.69]\n"
          ]
        },
        {
          "output_type": "stream",
          "name": "stdout",
          "text": [
            "Epoch [1198/3000]: Train loss: 1.1754, Valid loss: 1.6350\n"
          ]
        },
        {
          "output_type": "stream",
          "name": "stderr",
          "text": [
            "Epoch [1199/3000]: 100%|██████████| 9/9 [00:00<00:00, 99.77it/s, loss=1.35]\n"
          ]
        },
        {
          "output_type": "stream",
          "name": "stdout",
          "text": [
            "Epoch [1199/3000]: Train loss: 1.1458, Valid loss: 1.2575\n"
          ]
        },
        {
          "output_type": "stream",
          "name": "stderr",
          "text": [
            "Epoch [1200/3000]: 100%|██████████| 9/9 [00:00<00:00, 91.51it/s, loss=1.14]\n"
          ]
        },
        {
          "output_type": "stream",
          "name": "stdout",
          "text": [
            "Epoch [1200/3000]: Train loss: 1.1257, Valid loss: 1.2399\n"
          ]
        },
        {
          "output_type": "stream",
          "name": "stderr",
          "text": [
            "Epoch [1201/3000]: 100%|██████████| 9/9 [00:00<00:00, 30.93it/s, loss=1.39]\n"
          ]
        },
        {
          "output_type": "stream",
          "name": "stdout",
          "text": [
            "Epoch [1201/3000]: Train loss: 1.1447, Valid loss: 1.3725\n"
          ]
        },
        {
          "output_type": "stream",
          "name": "stderr",
          "text": [
            "Epoch [1202/3000]: 100%|██████████| 9/9 [00:00<00:00, 87.02it/s, loss=1.51]\n"
          ]
        },
        {
          "output_type": "stream",
          "name": "stdout",
          "text": [
            "Epoch [1202/3000]: Train loss: 1.1415, Valid loss: 1.3531\n"
          ]
        },
        {
          "output_type": "stream",
          "name": "stderr",
          "text": [
            "Epoch [1203/3000]: 100%|██████████| 9/9 [00:00<00:00, 97.82it/s, loss=1.41]\n"
          ]
        },
        {
          "output_type": "stream",
          "name": "stdout",
          "text": [
            "Epoch [1203/3000]: Train loss: 1.1401, Valid loss: 1.3532\n"
          ]
        },
        {
          "output_type": "stream",
          "name": "stderr",
          "text": [
            "Epoch [1204/3000]: 100%|██████████| 9/9 [00:00<00:00, 104.18it/s, loss=1.85]\n"
          ]
        },
        {
          "output_type": "stream",
          "name": "stdout",
          "text": [
            "Epoch [1204/3000]: Train loss: 1.1711, Valid loss: 1.2906\n"
          ]
        },
        {
          "output_type": "stream",
          "name": "stderr",
          "text": [
            "Epoch [1205/3000]: 100%|██████████| 9/9 [00:00<00:00, 103.83it/s, loss=1.11]\n"
          ]
        },
        {
          "output_type": "stream",
          "name": "stdout",
          "text": [
            "Epoch [1205/3000]: Train loss: 1.1327, Valid loss: 1.2737\n"
          ]
        },
        {
          "output_type": "stream",
          "name": "stderr",
          "text": [
            "Epoch [1206/3000]: 100%|██████████| 9/9 [00:00<00:00, 96.91it/s, loss=1.07]\n"
          ]
        },
        {
          "output_type": "stream",
          "name": "stdout",
          "text": [
            "Epoch [1206/3000]: Train loss: 1.1201, Valid loss: 1.4600\n"
          ]
        },
        {
          "output_type": "stream",
          "name": "stderr",
          "text": [
            "Epoch [1207/3000]: 100%|██████████| 9/9 [00:00<00:00, 74.77it/s, loss=1.23]\n"
          ]
        },
        {
          "output_type": "stream",
          "name": "stdout",
          "text": [
            "Epoch [1207/3000]: Train loss: 1.1234, Valid loss: 1.1721\n"
          ]
        },
        {
          "output_type": "stream",
          "name": "stderr",
          "text": [
            "Epoch [1208/3000]: 100%|██████████| 9/9 [00:00<00:00, 94.93it/s, loss=1.18]\n"
          ]
        },
        {
          "output_type": "stream",
          "name": "stdout",
          "text": [
            "Epoch [1208/3000]: Train loss: 1.1248, Valid loss: 1.2991\n"
          ]
        },
        {
          "output_type": "stream",
          "name": "stderr",
          "text": [
            "Epoch [1209/3000]: 100%|██████████| 9/9 [00:00<00:00, 78.04it/s, loss=0.923]\n"
          ]
        },
        {
          "output_type": "stream",
          "name": "stdout",
          "text": [
            "Epoch [1209/3000]: Train loss: 1.1127, Valid loss: 1.2078\n"
          ]
        },
        {
          "output_type": "stream",
          "name": "stderr",
          "text": [
            "Epoch [1210/3000]: 100%|██████████| 9/9 [00:00<00:00, 95.66it/s, loss=0.99]\n"
          ]
        },
        {
          "output_type": "stream",
          "name": "stdout",
          "text": [
            "Epoch [1210/3000]: Train loss: 1.1083, Valid loss: 1.3964\n"
          ]
        },
        {
          "output_type": "stream",
          "name": "stderr",
          "text": [
            "Epoch [1211/3000]: 100%|██████████| 9/9 [00:00<00:00, 83.60it/s, loss=1.22]\n"
          ]
        },
        {
          "output_type": "stream",
          "name": "stdout",
          "text": [
            "Epoch [1211/3000]: Train loss: 1.1236, Valid loss: 1.4425\n"
          ]
        },
        {
          "output_type": "stream",
          "name": "stderr",
          "text": [
            "Epoch [1212/3000]: 100%|██████████| 9/9 [00:00<00:00, 85.22it/s, loss=0.983]\n"
          ]
        },
        {
          "output_type": "stream",
          "name": "stdout",
          "text": [
            "Epoch [1212/3000]: Train loss: 1.1341, Valid loss: 1.3138\n"
          ]
        },
        {
          "output_type": "stream",
          "name": "stderr",
          "text": [
            "Epoch [1213/3000]: 100%|██████████| 9/9 [00:00<00:00, 94.05it/s, loss=1.14]\n"
          ]
        },
        {
          "output_type": "stream",
          "name": "stdout",
          "text": [
            "Epoch [1213/3000]: Train loss: 1.1209, Valid loss: 1.3886\n"
          ]
        },
        {
          "output_type": "stream",
          "name": "stderr",
          "text": [
            "Epoch [1214/3000]: 100%|██████████| 9/9 [00:00<00:00, 73.08it/s, loss=1.4]\n"
          ]
        },
        {
          "output_type": "stream",
          "name": "stdout",
          "text": [
            "Epoch [1214/3000]: Train loss: 1.1421, Valid loss: 1.2736\n"
          ]
        },
        {
          "output_type": "stream",
          "name": "stderr",
          "text": [
            "Epoch [1215/3000]: 100%|██████████| 9/9 [00:00<00:00, 76.15it/s, loss=1.11]\n"
          ]
        },
        {
          "output_type": "stream",
          "name": "stdout",
          "text": [
            "Epoch [1215/3000]: Train loss: 1.1307, Valid loss: 1.2786\n"
          ]
        },
        {
          "output_type": "stream",
          "name": "stderr",
          "text": [
            "Epoch [1216/3000]: 100%|██████████| 9/9 [00:00<00:00, 97.22it/s, loss=1.01]\n"
          ]
        },
        {
          "output_type": "stream",
          "name": "stdout",
          "text": [
            "Epoch [1216/3000]: Train loss: 1.1154, Valid loss: 1.3041\n"
          ]
        },
        {
          "output_type": "stream",
          "name": "stderr",
          "text": [
            "Epoch [1217/3000]: 100%|██████████| 9/9 [00:00<00:00, 87.34it/s, loss=1.36]\n"
          ]
        },
        {
          "output_type": "stream",
          "name": "stdout",
          "text": [
            "Epoch [1217/3000]: Train loss: 1.1368, Valid loss: 1.3854\n"
          ]
        },
        {
          "output_type": "stream",
          "name": "stderr",
          "text": [
            "Epoch [1218/3000]: 100%|██████████| 9/9 [00:00<00:00, 94.08it/s, loss=0.85]\n"
          ]
        },
        {
          "output_type": "stream",
          "name": "stdout",
          "text": [
            "Epoch [1218/3000]: Train loss: 1.1065, Valid loss: 1.2100\n"
          ]
        },
        {
          "output_type": "stream",
          "name": "stderr",
          "text": [
            "Epoch [1219/3000]: 100%|██████████| 9/9 [00:00<00:00, 107.80it/s, loss=1.16]\n"
          ]
        },
        {
          "output_type": "stream",
          "name": "stdout",
          "text": [
            "Epoch [1219/3000]: Train loss: 1.1352, Valid loss: 1.6210\n"
          ]
        },
        {
          "output_type": "stream",
          "name": "stderr",
          "text": [
            "Epoch [1220/3000]: 100%|██████████| 9/9 [00:00<00:00, 103.03it/s, loss=1.34]\n"
          ]
        },
        {
          "output_type": "stream",
          "name": "stdout",
          "text": [
            "Epoch [1220/3000]: Train loss: 1.1293, Valid loss: 1.4795\n"
          ]
        },
        {
          "output_type": "stream",
          "name": "stderr",
          "text": [
            "Epoch [1221/3000]: 100%|██████████| 9/9 [00:00<00:00, 105.98it/s, loss=0.955]\n"
          ]
        },
        {
          "output_type": "stream",
          "name": "stdout",
          "text": [
            "Epoch [1221/3000]: Train loss: 1.1186, Valid loss: 1.2146\n"
          ]
        },
        {
          "output_type": "stream",
          "name": "stderr",
          "text": [
            "Epoch [1222/3000]: 100%|██████████| 9/9 [00:00<00:00, 105.68it/s, loss=1.06]\n"
          ]
        },
        {
          "output_type": "stream",
          "name": "stdout",
          "text": [
            "Epoch [1222/3000]: Train loss: 1.1079, Valid loss: 1.3483\n"
          ]
        },
        {
          "output_type": "stream",
          "name": "stderr",
          "text": [
            "Epoch [1223/3000]: 100%|██████████| 9/9 [00:00<00:00, 104.12it/s, loss=0.875]\n"
          ]
        },
        {
          "output_type": "stream",
          "name": "stdout",
          "text": [
            "Epoch [1223/3000]: Train loss: 1.0973, Valid loss: 1.2012\n"
          ]
        },
        {
          "output_type": "stream",
          "name": "stderr",
          "text": [
            "Epoch [1224/3000]: 100%|██████████| 9/9 [00:00<00:00, 90.51it/s, loss=1.33]\n"
          ]
        },
        {
          "output_type": "stream",
          "name": "stdout",
          "text": [
            "Epoch [1224/3000]: Train loss: 1.1242, Valid loss: 1.0718\n",
            "Saving model with loss 1.072...\n"
          ]
        },
        {
          "output_type": "stream",
          "name": "stderr",
          "text": [
            "Epoch [1225/3000]: 100%|██████████| 9/9 [00:00<00:00, 93.29it/s, loss=1.07]\n"
          ]
        },
        {
          "output_type": "stream",
          "name": "stdout",
          "text": [
            "Epoch [1225/3000]: Train loss: 1.1119, Valid loss: 1.1872\n"
          ]
        },
        {
          "output_type": "stream",
          "name": "stderr",
          "text": [
            "Epoch [1226/3000]: 100%|██████████| 9/9 [00:00<00:00, 73.54it/s, loss=0.948]\n"
          ]
        },
        {
          "output_type": "stream",
          "name": "stdout",
          "text": [
            "Epoch [1226/3000]: Train loss: 1.1095, Valid loss: 1.4629\n"
          ]
        },
        {
          "output_type": "stream",
          "name": "stderr",
          "text": [
            "Epoch [1227/3000]: 100%|██████████| 9/9 [00:00<00:00, 78.63it/s, loss=0.961]\n"
          ]
        },
        {
          "output_type": "stream",
          "name": "stdout",
          "text": [
            "Epoch [1227/3000]: Train loss: 1.1076, Valid loss: 1.6168\n"
          ]
        },
        {
          "output_type": "stream",
          "name": "stderr",
          "text": [
            "Epoch [1228/3000]: 100%|██████████| 9/9 [00:00<00:00, 79.02it/s, loss=1.45]\n"
          ]
        },
        {
          "output_type": "stream",
          "name": "stdout",
          "text": [
            "Epoch [1228/3000]: Train loss: 1.1338, Valid loss: 1.4704\n"
          ]
        },
        {
          "output_type": "stream",
          "name": "stderr",
          "text": [
            "Epoch [1229/3000]: 100%|██████████| 9/9 [00:00<00:00, 115.05it/s, loss=1.25]\n"
          ]
        },
        {
          "output_type": "stream",
          "name": "stdout",
          "text": [
            "Epoch [1229/3000]: Train loss: 1.1238, Valid loss: 1.4463\n"
          ]
        },
        {
          "output_type": "stream",
          "name": "stderr",
          "text": [
            "Epoch [1230/3000]: 100%|██████████| 9/9 [00:00<00:00, 113.33it/s, loss=0.927]\n"
          ]
        },
        {
          "output_type": "stream",
          "name": "stdout",
          "text": [
            "Epoch [1230/3000]: Train loss: 1.1335, Valid loss: 1.5891\n"
          ]
        },
        {
          "output_type": "stream",
          "name": "stderr",
          "text": [
            "Epoch [1231/3000]: 100%|██████████| 9/9 [00:00<00:00, 91.64it/s, loss=1.48]\n"
          ]
        },
        {
          "output_type": "stream",
          "name": "stdout",
          "text": [
            "Epoch [1231/3000]: Train loss: 1.1597, Valid loss: 1.2145\n"
          ]
        },
        {
          "output_type": "stream",
          "name": "stderr",
          "text": [
            "Epoch [1232/3000]: 100%|██████████| 9/9 [00:00<00:00, 89.84it/s, loss=0.83]\n"
          ]
        },
        {
          "output_type": "stream",
          "name": "stdout",
          "text": [
            "Epoch [1232/3000]: Train loss: 1.0999, Valid loss: 1.3126\n"
          ]
        },
        {
          "output_type": "stream",
          "name": "stderr",
          "text": [
            "Epoch [1233/3000]: 100%|██████████| 9/9 [00:00<00:00, 82.88it/s, loss=0.929]\n"
          ]
        },
        {
          "output_type": "stream",
          "name": "stdout",
          "text": [
            "Epoch [1233/3000]: Train loss: 1.0978, Valid loss: 1.3832\n"
          ]
        },
        {
          "output_type": "stream",
          "name": "stderr",
          "text": [
            "Epoch [1234/3000]: 100%|██████████| 9/9 [00:00<00:00, 95.24it/s, loss=1.07]\n"
          ]
        },
        {
          "output_type": "stream",
          "name": "stdout",
          "text": [
            "Epoch [1234/3000]: Train loss: 1.1049, Valid loss: 1.3580\n"
          ]
        },
        {
          "output_type": "stream",
          "name": "stderr",
          "text": [
            "Epoch [1235/3000]: 100%|██████████| 9/9 [00:00<00:00, 81.72it/s, loss=1.38]\n"
          ]
        },
        {
          "output_type": "stream",
          "name": "stdout",
          "text": [
            "Epoch [1235/3000]: Train loss: 1.1340, Valid loss: 1.4569\n"
          ]
        },
        {
          "output_type": "stream",
          "name": "stderr",
          "text": [
            "Epoch [1236/3000]: 100%|██████████| 9/9 [00:00<00:00, 75.56it/s, loss=1.17]\n"
          ]
        },
        {
          "output_type": "stream",
          "name": "stdout",
          "text": [
            "Epoch [1236/3000]: Train loss: 1.1160, Valid loss: 1.4070\n"
          ]
        },
        {
          "output_type": "stream",
          "name": "stderr",
          "text": [
            "Epoch [1237/3000]: 100%|██████████| 9/9 [00:00<00:00, 98.34it/s, loss=1.11]\n"
          ]
        },
        {
          "output_type": "stream",
          "name": "stdout",
          "text": [
            "Epoch [1237/3000]: Train loss: 1.1120, Valid loss: 1.2529\n"
          ]
        },
        {
          "output_type": "stream",
          "name": "stderr",
          "text": [
            "Epoch [1238/3000]: 100%|██████████| 9/9 [00:00<00:00, 79.21it/s, loss=1.19]\n"
          ]
        },
        {
          "output_type": "stream",
          "name": "stdout",
          "text": [
            "Epoch [1238/3000]: Train loss: 1.1239, Valid loss: 1.5046\n"
          ]
        },
        {
          "output_type": "stream",
          "name": "stderr",
          "text": [
            "Epoch [1239/3000]: 100%|██████████| 9/9 [00:00<00:00, 102.30it/s, loss=1.16]\n"
          ]
        },
        {
          "output_type": "stream",
          "name": "stdout",
          "text": [
            "Epoch [1239/3000]: Train loss: 1.1408, Valid loss: 1.3174\n"
          ]
        },
        {
          "output_type": "stream",
          "name": "stderr",
          "text": [
            "Epoch [1240/3000]: 100%|██████████| 9/9 [00:00<00:00, 106.65it/s, loss=0.732]\n"
          ]
        },
        {
          "output_type": "stream",
          "name": "stdout",
          "text": [
            "Epoch [1240/3000]: Train loss: 1.0853, Valid loss: 1.2654\n"
          ]
        },
        {
          "output_type": "stream",
          "name": "stderr",
          "text": [
            "Epoch [1241/3000]: 100%|██████████| 9/9 [00:00<00:00, 90.29it/s, loss=0.929]\n"
          ]
        },
        {
          "output_type": "stream",
          "name": "stdout",
          "text": [
            "Epoch [1241/3000]: Train loss: 1.0986, Valid loss: 1.5866\n"
          ]
        },
        {
          "output_type": "stream",
          "name": "stderr",
          "text": [
            "Epoch [1242/3000]: 100%|██████████| 9/9 [00:00<00:00, 82.79it/s, loss=0.994]\n"
          ]
        },
        {
          "output_type": "stream",
          "name": "stdout",
          "text": [
            "Epoch [1242/3000]: Train loss: 1.1082, Valid loss: 1.1358\n"
          ]
        },
        {
          "output_type": "stream",
          "name": "stderr",
          "text": [
            "Epoch [1243/3000]: 100%|██████████| 9/9 [00:00<00:00, 84.08it/s, loss=1.05]\n"
          ]
        },
        {
          "output_type": "stream",
          "name": "stdout",
          "text": [
            "Epoch [1243/3000]: Train loss: 1.1142, Valid loss: 1.3336\n"
          ]
        },
        {
          "output_type": "stream",
          "name": "stderr",
          "text": [
            "Epoch [1244/3000]: 100%|██████████| 9/9 [00:00<00:00, 85.52it/s, loss=0.884]\n"
          ]
        },
        {
          "output_type": "stream",
          "name": "stdout",
          "text": [
            "Epoch [1244/3000]: Train loss: 1.0980, Valid loss: 1.7658\n"
          ]
        },
        {
          "output_type": "stream",
          "name": "stderr",
          "text": [
            "Epoch [1245/3000]: 100%|██████████| 9/9 [00:00<00:00, 80.86it/s, loss=1.24]\n"
          ]
        },
        {
          "output_type": "stream",
          "name": "stdout",
          "text": [
            "Epoch [1245/3000]: Train loss: 1.1220, Valid loss: 1.4066\n"
          ]
        },
        {
          "output_type": "stream",
          "name": "stderr",
          "text": [
            "Epoch [1246/3000]: 100%|██████████| 9/9 [00:00<00:00, 102.52it/s, loss=0.967]\n"
          ]
        },
        {
          "output_type": "stream",
          "name": "stdout",
          "text": [
            "Epoch [1246/3000]: Train loss: 1.0982, Valid loss: 1.3406\n"
          ]
        },
        {
          "output_type": "stream",
          "name": "stderr",
          "text": [
            "Epoch [1247/3000]: 100%|██████████| 9/9 [00:00<00:00, 107.73it/s, loss=0.862]\n"
          ]
        },
        {
          "output_type": "stream",
          "name": "stdout",
          "text": [
            "Epoch [1247/3000]: Train loss: 1.0943, Valid loss: 1.2330\n"
          ]
        },
        {
          "output_type": "stream",
          "name": "stderr",
          "text": [
            "Epoch [1248/3000]: 100%|██████████| 9/9 [00:00<00:00, 90.82it/s, loss=1.14]\n"
          ]
        },
        {
          "output_type": "stream",
          "name": "stdout",
          "text": [
            "Epoch [1248/3000]: Train loss: 1.1326, Valid loss: 1.3334\n"
          ]
        },
        {
          "output_type": "stream",
          "name": "stderr",
          "text": [
            "Epoch [1249/3000]: 100%|██████████| 9/9 [00:00<00:00, 90.52it/s, loss=1.27]\n"
          ]
        },
        {
          "output_type": "stream",
          "name": "stdout",
          "text": [
            "Epoch [1249/3000]: Train loss: 1.1308, Valid loss: 1.1367\n"
          ]
        },
        {
          "output_type": "stream",
          "name": "stderr",
          "text": [
            "Epoch [1250/3000]: 100%|██████████| 9/9 [00:00<00:00, 93.11it/s, loss=1.05]\n"
          ]
        },
        {
          "output_type": "stream",
          "name": "stdout",
          "text": [
            "Epoch [1250/3000]: Train loss: 1.1268, Valid loss: 1.1699\n"
          ]
        },
        {
          "output_type": "stream",
          "name": "stderr",
          "text": [
            "Epoch [1251/3000]: 100%|██████████| 9/9 [00:00<00:00, 78.96it/s, loss=1.14]\n"
          ]
        },
        {
          "output_type": "stream",
          "name": "stdout",
          "text": [
            "Epoch [1251/3000]: Train loss: 1.1442, Valid loss: 1.3284\n"
          ]
        },
        {
          "output_type": "stream",
          "name": "stderr",
          "text": [
            "Epoch [1252/3000]: 100%|██████████| 9/9 [00:00<00:00, 90.24it/s, loss=0.911]\n"
          ]
        },
        {
          "output_type": "stream",
          "name": "stdout",
          "text": [
            "Epoch [1252/3000]: Train loss: 1.1107, Valid loss: 1.2556\n"
          ]
        },
        {
          "output_type": "stream",
          "name": "stderr",
          "text": [
            "Epoch [1253/3000]: 100%|██████████| 9/9 [00:00<00:00, 74.63it/s, loss=0.778]\n"
          ]
        },
        {
          "output_type": "stream",
          "name": "stdout",
          "text": [
            "Epoch [1253/3000]: Train loss: 1.0842, Valid loss: 1.5022\n"
          ]
        },
        {
          "output_type": "stream",
          "name": "stderr",
          "text": [
            "Epoch [1254/3000]: 100%|██████████| 9/9 [00:00<00:00, 94.09it/s, loss=0.925]\n"
          ]
        },
        {
          "output_type": "stream",
          "name": "stdout",
          "text": [
            "Epoch [1254/3000]: Train loss: 1.0976, Valid loss: 1.3964\n"
          ]
        },
        {
          "output_type": "stream",
          "name": "stderr",
          "text": [
            "Epoch [1255/3000]: 100%|██████████| 9/9 [00:00<00:00, 82.73it/s, loss=1.04]\n"
          ]
        },
        {
          "output_type": "stream",
          "name": "stdout",
          "text": [
            "Epoch [1255/3000]: Train loss: 1.1078, Valid loss: 1.3167\n"
          ]
        },
        {
          "output_type": "stream",
          "name": "stderr",
          "text": [
            "Epoch [1256/3000]: 100%|██████████| 9/9 [00:00<00:00, 96.01it/s, loss=1.33]\n"
          ]
        },
        {
          "output_type": "stream",
          "name": "stdout",
          "text": [
            "Epoch [1256/3000]: Train loss: 1.1179, Valid loss: 1.1333\n"
          ]
        },
        {
          "output_type": "stream",
          "name": "stderr",
          "text": [
            "Epoch [1257/3000]: 100%|██████████| 9/9 [00:00<00:00, 104.75it/s, loss=1.23]\n"
          ]
        },
        {
          "output_type": "stream",
          "name": "stdout",
          "text": [
            "Epoch [1257/3000]: Train loss: 1.1189, Valid loss: 1.4029\n"
          ]
        },
        {
          "output_type": "stream",
          "name": "stderr",
          "text": [
            "Epoch [1258/3000]: 100%|██████████| 9/9 [00:00<00:00, 105.25it/s, loss=1.25]\n"
          ]
        },
        {
          "output_type": "stream",
          "name": "stdout",
          "text": [
            "Epoch [1258/3000]: Train loss: 1.1193, Valid loss: 1.3113\n"
          ]
        },
        {
          "output_type": "stream",
          "name": "stderr",
          "text": [
            "Epoch [1259/3000]: 100%|██████████| 9/9 [00:00<00:00, 117.04it/s, loss=1.04]\n"
          ]
        },
        {
          "output_type": "stream",
          "name": "stdout",
          "text": [
            "Epoch [1259/3000]: Train loss: 1.1060, Valid loss: 1.5182\n"
          ]
        },
        {
          "output_type": "stream",
          "name": "stderr",
          "text": [
            "Epoch [1260/3000]: 100%|██████████| 9/9 [00:00<00:00, 120.66it/s, loss=1.16]\n"
          ]
        },
        {
          "output_type": "stream",
          "name": "stdout",
          "text": [
            "Epoch [1260/3000]: Train loss: 1.1069, Valid loss: 1.2973\n"
          ]
        },
        {
          "output_type": "stream",
          "name": "stderr",
          "text": [
            "Epoch [1261/3000]: 100%|██████████| 9/9 [00:00<00:00, 71.22it/s, loss=1.37]\n"
          ]
        },
        {
          "output_type": "stream",
          "name": "stdout",
          "text": [
            "Epoch [1261/3000]: Train loss: 1.1359, Valid loss: 1.6222\n"
          ]
        },
        {
          "output_type": "stream",
          "name": "stderr",
          "text": [
            "Epoch [1262/3000]: 100%|██████████| 9/9 [00:00<00:00, 85.83it/s, loss=1.05]\n"
          ]
        },
        {
          "output_type": "stream",
          "name": "stdout",
          "text": [
            "Epoch [1262/3000]: Train loss: 1.1010, Valid loss: 1.4774\n"
          ]
        },
        {
          "output_type": "stream",
          "name": "stderr",
          "text": [
            "Epoch [1263/3000]: 100%|██████████| 9/9 [00:00<00:00, 86.78it/s, loss=1.39]\n"
          ]
        },
        {
          "output_type": "stream",
          "name": "stdout",
          "text": [
            "Epoch [1263/3000]: Train loss: 1.1290, Valid loss: 1.3159\n"
          ]
        },
        {
          "output_type": "stream",
          "name": "stderr",
          "text": [
            "Epoch [1264/3000]: 100%|██████████| 9/9 [00:00<00:00, 80.38it/s, loss=1.01]\n"
          ]
        },
        {
          "output_type": "stream",
          "name": "stdout",
          "text": [
            "Epoch [1264/3000]: Train loss: 1.0947, Valid loss: 1.3035\n"
          ]
        },
        {
          "output_type": "stream",
          "name": "stderr",
          "text": [
            "Epoch [1265/3000]: 100%|██████████| 9/9 [00:00<00:00, 86.48it/s, loss=1.26]\n"
          ]
        },
        {
          "output_type": "stream",
          "name": "stdout",
          "text": [
            "Epoch [1265/3000]: Train loss: 1.1121, Valid loss: 1.3188\n"
          ]
        },
        {
          "output_type": "stream",
          "name": "stderr",
          "text": [
            "Epoch [1266/3000]: 100%|██████████| 9/9 [00:00<00:00, 74.69it/s, loss=0.889]\n"
          ]
        },
        {
          "output_type": "stream",
          "name": "stdout",
          "text": [
            "Epoch [1266/3000]: Train loss: 1.1027, Valid loss: 1.1936\n"
          ]
        },
        {
          "output_type": "stream",
          "name": "stderr",
          "text": [
            "Epoch [1267/3000]: 100%|██████████| 9/9 [00:00<00:00, 100.08it/s, loss=0.824]\n"
          ]
        },
        {
          "output_type": "stream",
          "name": "stdout",
          "text": [
            "Epoch [1267/3000]: Train loss: 1.0841, Valid loss: 1.1530\n"
          ]
        },
        {
          "output_type": "stream",
          "name": "stderr",
          "text": [
            "Epoch [1268/3000]: 100%|██████████| 9/9 [00:00<00:00, 80.57it/s, loss=1.06]\n"
          ]
        },
        {
          "output_type": "stream",
          "name": "stdout",
          "text": [
            "Epoch [1268/3000]: Train loss: 1.0975, Valid loss: 1.4737\n"
          ]
        },
        {
          "output_type": "stream",
          "name": "stderr",
          "text": [
            "Epoch [1269/3000]: 100%|██████████| 9/9 [00:00<00:00, 92.17it/s, loss=1.45]\n"
          ]
        },
        {
          "output_type": "stream",
          "name": "stdout",
          "text": [
            "Epoch [1269/3000]: Train loss: 1.1258, Valid loss: 1.6382\n"
          ]
        },
        {
          "output_type": "stream",
          "name": "stderr",
          "text": [
            "Epoch [1270/3000]: 100%|██████████| 9/9 [00:00<00:00, 80.45it/s, loss=1.11]\n"
          ]
        },
        {
          "output_type": "stream",
          "name": "stdout",
          "text": [
            "Epoch [1270/3000]: Train loss: 1.1217, Valid loss: 1.5932\n"
          ]
        },
        {
          "output_type": "stream",
          "name": "stderr",
          "text": [
            "Epoch [1271/3000]: 100%|██████████| 9/9 [00:00<00:00, 89.87it/s, loss=0.863]\n"
          ]
        },
        {
          "output_type": "stream",
          "name": "stdout",
          "text": [
            "Epoch [1271/3000]: Train loss: 1.0983, Valid loss: 1.1631\n"
          ]
        },
        {
          "output_type": "stream",
          "name": "stderr",
          "text": [
            "Epoch [1272/3000]: 100%|██████████| 9/9 [00:00<00:00, 106.87it/s, loss=0.878]\n"
          ]
        },
        {
          "output_type": "stream",
          "name": "stdout",
          "text": [
            "Epoch [1272/3000]: Train loss: 1.0943, Valid loss: 1.2860\n"
          ]
        },
        {
          "output_type": "stream",
          "name": "stderr",
          "text": [
            "Epoch [1273/3000]: 100%|██████████| 9/9 [00:00<00:00, 71.66it/s, loss=1.23]\n"
          ]
        },
        {
          "output_type": "stream",
          "name": "stdout",
          "text": [
            "Epoch [1273/3000]: Train loss: 1.1279, Valid loss: 1.6899\n"
          ]
        },
        {
          "output_type": "stream",
          "name": "stderr",
          "text": [
            "Epoch [1274/3000]: 100%|██████████| 9/9 [00:00<00:00, 71.61it/s, loss=0.848]\n"
          ]
        },
        {
          "output_type": "stream",
          "name": "stdout",
          "text": [
            "Epoch [1274/3000]: Train loss: 1.0968, Valid loss: 1.4168\n"
          ]
        },
        {
          "output_type": "stream",
          "name": "stderr",
          "text": [
            "Epoch [1275/3000]: 100%|██████████| 9/9 [00:00<00:00, 72.85it/s, loss=1.11]\n"
          ]
        },
        {
          "output_type": "stream",
          "name": "stdout",
          "text": [
            "Epoch [1275/3000]: Train loss: 1.1012, Valid loss: 1.1887\n"
          ]
        },
        {
          "output_type": "stream",
          "name": "stderr",
          "text": [
            "Epoch [1276/3000]: 100%|██████████| 9/9 [00:00<00:00, 84.80it/s, loss=0.708]\n"
          ]
        },
        {
          "output_type": "stream",
          "name": "stdout",
          "text": [
            "Epoch [1276/3000]: Train loss: 1.0782, Valid loss: 1.2128\n"
          ]
        },
        {
          "output_type": "stream",
          "name": "stderr",
          "text": [
            "Epoch [1277/3000]: 100%|██████████| 9/9 [00:00<00:00, 84.71it/s, loss=1.09]\n"
          ]
        },
        {
          "output_type": "stream",
          "name": "stdout",
          "text": [
            "Epoch [1277/3000]: Train loss: 1.1087, Valid loss: 1.5980\n"
          ]
        },
        {
          "output_type": "stream",
          "name": "stderr",
          "text": [
            "Epoch [1278/3000]: 100%|██████████| 9/9 [00:00<00:00, 66.41it/s, loss=0.851]\n"
          ]
        },
        {
          "output_type": "stream",
          "name": "stdout",
          "text": [
            "Epoch [1278/3000]: Train loss: 1.0902, Valid loss: 1.3691\n"
          ]
        },
        {
          "output_type": "stream",
          "name": "stderr",
          "text": [
            "Epoch [1279/3000]: 100%|██████████| 9/9 [00:00<00:00, 106.01it/s, loss=1.35]\n"
          ]
        },
        {
          "output_type": "stream",
          "name": "stdout",
          "text": [
            "Epoch [1279/3000]: Train loss: 1.1199, Valid loss: 1.2678\n"
          ]
        },
        {
          "output_type": "stream",
          "name": "stderr",
          "text": [
            "Epoch [1280/3000]: 100%|██████████| 9/9 [00:00<00:00, 104.38it/s, loss=0.931]\n"
          ]
        },
        {
          "output_type": "stream",
          "name": "stdout",
          "text": [
            "Epoch [1280/3000]: Train loss: 1.0860, Valid loss: 1.2170\n"
          ]
        },
        {
          "output_type": "stream",
          "name": "stderr",
          "text": [
            "Epoch [1281/3000]: 100%|██████████| 9/9 [00:00<00:00, 107.09it/s, loss=1.19]\n"
          ]
        },
        {
          "output_type": "stream",
          "name": "stdout",
          "text": [
            "Epoch [1281/3000]: Train loss: 1.1084, Valid loss: 1.1594\n"
          ]
        },
        {
          "output_type": "stream",
          "name": "stderr",
          "text": [
            "Epoch [1282/3000]: 100%|██████████| 9/9 [00:00<00:00, 86.15it/s, loss=1.09]\n"
          ]
        },
        {
          "output_type": "stream",
          "name": "stdout",
          "text": [
            "Epoch [1282/3000]: Train loss: 1.1031, Valid loss: 1.7511\n"
          ]
        },
        {
          "output_type": "stream",
          "name": "stderr",
          "text": [
            "Epoch [1283/3000]: 100%|██████████| 9/9 [00:00<00:00, 95.91it/s, loss=1.03]\n"
          ]
        },
        {
          "output_type": "stream",
          "name": "stdout",
          "text": [
            "Epoch [1283/3000]: Train loss: 1.1001, Valid loss: 1.3437\n"
          ]
        },
        {
          "output_type": "stream",
          "name": "stderr",
          "text": [
            "Epoch [1284/3000]: 100%|██████████| 9/9 [00:00<00:00, 97.61it/s, loss=0.857]\n"
          ]
        },
        {
          "output_type": "stream",
          "name": "stdout",
          "text": [
            "Epoch [1284/3000]: Train loss: 1.0942, Valid loss: 1.1642\n"
          ]
        },
        {
          "output_type": "stream",
          "name": "stderr",
          "text": [
            "Epoch [1285/3000]: 100%|██████████| 9/9 [00:00<00:00, 86.85it/s, loss=1.1]\n"
          ]
        },
        {
          "output_type": "stream",
          "name": "stdout",
          "text": [
            "Epoch [1285/3000]: Train loss: 1.1177, Valid loss: 1.3625\n"
          ]
        },
        {
          "output_type": "stream",
          "name": "stderr",
          "text": [
            "Epoch [1286/3000]: 100%|██████████| 9/9 [00:00<00:00, 104.82it/s, loss=0.929]\n"
          ]
        },
        {
          "output_type": "stream",
          "name": "stdout",
          "text": [
            "Epoch [1286/3000]: Train loss: 1.1009, Valid loss: 1.6046\n"
          ]
        },
        {
          "output_type": "stream",
          "name": "stderr",
          "text": [
            "Epoch [1287/3000]: 100%|██████████| 9/9 [00:00<00:00, 100.20it/s, loss=0.96]\n"
          ]
        },
        {
          "output_type": "stream",
          "name": "stdout",
          "text": [
            "Epoch [1287/3000]: Train loss: 1.1099, Valid loss: 1.4259\n"
          ]
        },
        {
          "output_type": "stream",
          "name": "stderr",
          "text": [
            "Epoch [1288/3000]: 100%|██████████| 9/9 [00:00<00:00, 109.04it/s, loss=1.29]\n"
          ]
        },
        {
          "output_type": "stream",
          "name": "stdout",
          "text": [
            "Epoch [1288/3000]: Train loss: 1.1407, Valid loss: 1.2950\n"
          ]
        },
        {
          "output_type": "stream",
          "name": "stderr",
          "text": [
            "Epoch [1289/3000]: 100%|██████████| 9/9 [00:00<00:00, 112.53it/s, loss=1.36]\n"
          ]
        },
        {
          "output_type": "stream",
          "name": "stdout",
          "text": [
            "Epoch [1289/3000]: Train loss: 1.1389, Valid loss: 1.8148\n"
          ]
        },
        {
          "output_type": "stream",
          "name": "stderr",
          "text": [
            "Epoch [1290/3000]: 100%|██████████| 9/9 [00:00<00:00, 112.98it/s, loss=1.15]\n"
          ]
        },
        {
          "output_type": "stream",
          "name": "stdout",
          "text": [
            "Epoch [1290/3000]: Train loss: 1.1101, Valid loss: 1.3699\n"
          ]
        },
        {
          "output_type": "stream",
          "name": "stderr",
          "text": [
            "Epoch [1291/3000]: 100%|██████████| 9/9 [00:00<00:00, 81.97it/s, loss=1]\n"
          ]
        },
        {
          "output_type": "stream",
          "name": "stdout",
          "text": [
            "Epoch [1291/3000]: Train loss: 1.0888, Valid loss: 1.3624\n"
          ]
        },
        {
          "output_type": "stream",
          "name": "stderr",
          "text": [
            "Epoch [1292/3000]: 100%|██████████| 9/9 [00:00<00:00, 85.28it/s, loss=0.876]\n"
          ]
        },
        {
          "output_type": "stream",
          "name": "stdout",
          "text": [
            "Epoch [1292/3000]: Train loss: 1.0905, Valid loss: 1.6207\n"
          ]
        },
        {
          "output_type": "stream",
          "name": "stderr",
          "text": [
            "Epoch [1293/3000]: 100%|██████████| 9/9 [00:00<00:00, 80.72it/s, loss=0.823]\n"
          ]
        },
        {
          "output_type": "stream",
          "name": "stdout",
          "text": [
            "Epoch [1293/3000]: Train loss: 1.0983, Valid loss: 1.4560\n"
          ]
        },
        {
          "output_type": "stream",
          "name": "stderr",
          "text": [
            "Epoch [1294/3000]: 100%|██████████| 9/9 [00:00<00:00, 91.46it/s, loss=1.06]\n"
          ]
        },
        {
          "output_type": "stream",
          "name": "stdout",
          "text": [
            "Epoch [1294/3000]: Train loss: 1.1435, Valid loss: 1.3759\n"
          ]
        },
        {
          "output_type": "stream",
          "name": "stderr",
          "text": [
            "Epoch [1295/3000]: 100%|██████████| 9/9 [00:00<00:00, 96.22it/s, loss=0.868]\n"
          ]
        },
        {
          "output_type": "stream",
          "name": "stdout",
          "text": [
            "Epoch [1295/3000]: Train loss: 1.1138, Valid loss: 1.5580\n"
          ]
        },
        {
          "output_type": "stream",
          "name": "stderr",
          "text": [
            "Epoch [1296/3000]: 100%|██████████| 9/9 [00:00<00:00, 109.72it/s, loss=1.17]\n"
          ]
        },
        {
          "output_type": "stream",
          "name": "stdout",
          "text": [
            "Epoch [1296/3000]: Train loss: 1.1234, Valid loss: 1.4753\n"
          ]
        },
        {
          "output_type": "stream",
          "name": "stderr",
          "text": [
            "Epoch [1297/3000]: 100%|██████████| 9/9 [00:00<00:00, 91.07it/s, loss=1.2]\n"
          ]
        },
        {
          "output_type": "stream",
          "name": "stdout",
          "text": [
            "Epoch [1297/3000]: Train loss: 1.1097, Valid loss: 1.5858\n"
          ]
        },
        {
          "output_type": "stream",
          "name": "stderr",
          "text": [
            "Epoch [1298/3000]: 100%|██████████| 9/9 [00:00<00:00, 74.86it/s, loss=1.05]\n"
          ]
        },
        {
          "output_type": "stream",
          "name": "stdout",
          "text": [
            "Epoch [1298/3000]: Train loss: 1.0986, Valid loss: 1.1742\n"
          ]
        },
        {
          "output_type": "stream",
          "name": "stderr",
          "text": [
            "Epoch [1299/3000]: 100%|██████████| 9/9 [00:00<00:00, 79.89it/s, loss=1.1]\n"
          ]
        },
        {
          "output_type": "stream",
          "name": "stdout",
          "text": [
            "Epoch [1299/3000]: Train loss: 1.0943, Valid loss: 1.2390\n"
          ]
        },
        {
          "output_type": "stream",
          "name": "stderr",
          "text": [
            "Epoch [1300/3000]: 100%|██████████| 9/9 [00:00<00:00, 71.63it/s, loss=1.14]\n"
          ]
        },
        {
          "output_type": "stream",
          "name": "stdout",
          "text": [
            "Epoch [1300/3000]: Train loss: 1.0991, Valid loss: 1.3925\n"
          ]
        },
        {
          "output_type": "stream",
          "name": "stderr",
          "text": [
            "Epoch [1301/3000]: 100%|██████████| 9/9 [00:00<00:00, 93.20it/s, loss=1.35]\n"
          ]
        },
        {
          "output_type": "stream",
          "name": "stdout",
          "text": [
            "Epoch [1301/3000]: Train loss: 1.1131, Valid loss: 1.3090\n"
          ]
        },
        {
          "output_type": "stream",
          "name": "stderr",
          "text": [
            "Epoch [1302/3000]: 100%|██████████| 9/9 [00:00<00:00, 77.05it/s, loss=1.32]\n"
          ]
        },
        {
          "output_type": "stream",
          "name": "stdout",
          "text": [
            "Epoch [1302/3000]: Train loss: 1.1070, Valid loss: 1.2454\n"
          ]
        },
        {
          "output_type": "stream",
          "name": "stderr",
          "text": [
            "Epoch [1303/3000]: 100%|██████████| 9/9 [00:00<00:00, 77.76it/s, loss=0.922]\n"
          ]
        },
        {
          "output_type": "stream",
          "name": "stdout",
          "text": [
            "Epoch [1303/3000]: Train loss: 1.0889, Valid loss: 1.4309\n"
          ]
        },
        {
          "output_type": "stream",
          "name": "stderr",
          "text": [
            "Epoch [1304/3000]: 100%|██████████| 9/9 [00:00<00:00, 101.03it/s, loss=1.19]\n"
          ]
        },
        {
          "output_type": "stream",
          "name": "stdout",
          "text": [
            "Epoch [1304/3000]: Train loss: 1.1227, Valid loss: 1.3420\n"
          ]
        },
        {
          "output_type": "stream",
          "name": "stderr",
          "text": [
            "Epoch [1305/3000]: 100%|██████████| 9/9 [00:00<00:00, 111.48it/s, loss=1.12]\n"
          ]
        },
        {
          "output_type": "stream",
          "name": "stdout",
          "text": [
            "Epoch [1305/3000]: Train loss: 1.1001, Valid loss: 1.4290\n"
          ]
        },
        {
          "output_type": "stream",
          "name": "stderr",
          "text": [
            "Epoch [1306/3000]: 100%|██████████| 9/9 [00:00<00:00, 99.26it/s, loss=1.14]\n"
          ]
        },
        {
          "output_type": "stream",
          "name": "stdout",
          "text": [
            "Epoch [1306/3000]: Train loss: 1.1022, Valid loss: 1.2772\n"
          ]
        },
        {
          "output_type": "stream",
          "name": "stderr",
          "text": [
            "Epoch [1307/3000]: 100%|██████████| 9/9 [00:00<00:00, 91.93it/s, loss=0.735]\n"
          ]
        },
        {
          "output_type": "stream",
          "name": "stdout",
          "text": [
            "Epoch [1307/3000]: Train loss: 1.0697, Valid loss: 1.6108\n"
          ]
        },
        {
          "output_type": "stream",
          "name": "stderr",
          "text": [
            "Epoch [1308/3000]: 100%|██████████| 9/9 [00:00<00:00, 81.91it/s, loss=1.2]\n"
          ]
        },
        {
          "output_type": "stream",
          "name": "stdout",
          "text": [
            "Epoch [1308/3000]: Train loss: 1.1048, Valid loss: 1.3002\n"
          ]
        },
        {
          "output_type": "stream",
          "name": "stderr",
          "text": [
            "Epoch [1309/3000]: 100%|██████████| 9/9 [00:00<00:00, 100.55it/s, loss=0.922]\n"
          ]
        },
        {
          "output_type": "stream",
          "name": "stdout",
          "text": [
            "Epoch [1309/3000]: Train loss: 1.0863, Valid loss: 1.2202\n"
          ]
        },
        {
          "output_type": "stream",
          "name": "stderr",
          "text": [
            "Epoch [1310/3000]: 100%|██████████| 9/9 [00:00<00:00, 97.60it/s, loss=1.42]\n"
          ]
        },
        {
          "output_type": "stream",
          "name": "stdout",
          "text": [
            "Epoch [1310/3000]: Train loss: 1.1246, Valid loss: 1.8660\n"
          ]
        },
        {
          "output_type": "stream",
          "name": "stderr",
          "text": [
            "Epoch [1311/3000]: 100%|██████████| 9/9 [00:00<00:00, 109.63it/s, loss=0.899]\n"
          ]
        },
        {
          "output_type": "stream",
          "name": "stdout",
          "text": [
            "Epoch [1311/3000]: Train loss: 1.1252, Valid loss: 1.1671\n"
          ]
        },
        {
          "output_type": "stream",
          "name": "stderr",
          "text": [
            "Epoch [1312/3000]: 100%|██████████| 9/9 [00:00<00:00, 100.68it/s, loss=1.33]\n"
          ]
        },
        {
          "output_type": "stream",
          "name": "stdout",
          "text": [
            "Epoch [1312/3000]: Train loss: 1.1150, Valid loss: 1.2732\n"
          ]
        },
        {
          "output_type": "stream",
          "name": "stderr",
          "text": [
            "Epoch [1313/3000]: 100%|██████████| 9/9 [00:00<00:00, 106.17it/s, loss=1.35]\n"
          ]
        },
        {
          "output_type": "stream",
          "name": "stdout",
          "text": [
            "Epoch [1313/3000]: Train loss: 1.1065, Valid loss: 1.4417\n"
          ]
        },
        {
          "output_type": "stream",
          "name": "stderr",
          "text": [
            "Epoch [1314/3000]: 100%|██████████| 9/9 [00:00<00:00, 114.77it/s, loss=1.19]\n"
          ]
        },
        {
          "output_type": "stream",
          "name": "stdout",
          "text": [
            "Epoch [1314/3000]: Train loss: 1.0964, Valid loss: 1.3502\n"
          ]
        },
        {
          "output_type": "stream",
          "name": "stderr",
          "text": [
            "Epoch [1315/3000]: 100%|██████████| 9/9 [00:00<00:00, 113.70it/s, loss=1.13]\n"
          ]
        },
        {
          "output_type": "stream",
          "name": "stdout",
          "text": [
            "Epoch [1315/3000]: Train loss: 1.0950, Valid loss: 1.3497\n"
          ]
        },
        {
          "output_type": "stream",
          "name": "stderr",
          "text": [
            "Epoch [1316/3000]: 100%|██████████| 9/9 [00:00<00:00, 103.63it/s, loss=0.847]\n"
          ]
        },
        {
          "output_type": "stream",
          "name": "stdout",
          "text": [
            "Epoch [1316/3000]: Train loss: 1.0728, Valid loss: 1.2510\n"
          ]
        },
        {
          "output_type": "stream",
          "name": "stderr",
          "text": [
            "Epoch [1317/3000]: 100%|██████████| 9/9 [00:00<00:00, 97.45it/s, loss=1.16]\n"
          ]
        },
        {
          "output_type": "stream",
          "name": "stdout",
          "text": [
            "Epoch [1317/3000]: Train loss: 1.0966, Valid loss: 1.5471\n"
          ]
        },
        {
          "output_type": "stream",
          "name": "stderr",
          "text": [
            "Epoch [1318/3000]: 100%|██████████| 9/9 [00:00<00:00, 112.87it/s, loss=1.13]\n"
          ]
        },
        {
          "output_type": "stream",
          "name": "stdout",
          "text": [
            "Epoch [1318/3000]: Train loss: 1.0905, Valid loss: 1.2286\n"
          ]
        },
        {
          "output_type": "stream",
          "name": "stderr",
          "text": [
            "Epoch [1319/3000]: 100%|██████████| 9/9 [00:00<00:00, 105.25it/s, loss=0.777]\n"
          ]
        },
        {
          "output_type": "stream",
          "name": "stdout",
          "text": [
            "Epoch [1319/3000]: Train loss: 1.0706, Valid loss: 1.1881\n"
          ]
        },
        {
          "output_type": "stream",
          "name": "stderr",
          "text": [
            "Epoch [1320/3000]: 100%|██████████| 9/9 [00:00<00:00, 112.09it/s, loss=0.955]\n"
          ]
        },
        {
          "output_type": "stream",
          "name": "stdout",
          "text": [
            "Epoch [1320/3000]: Train loss: 1.0817, Valid loss: 1.3901\n"
          ]
        },
        {
          "output_type": "stream",
          "name": "stderr",
          "text": [
            "Epoch [1321/3000]: 100%|██████████| 9/9 [00:00<00:00, 114.45it/s, loss=1.15]\n"
          ]
        },
        {
          "output_type": "stream",
          "name": "stdout",
          "text": [
            "Epoch [1321/3000]: Train loss: 1.0892, Valid loss: 1.4660\n"
          ]
        },
        {
          "output_type": "stream",
          "name": "stderr",
          "text": [
            "Epoch [1322/3000]: 100%|██████████| 9/9 [00:00<00:00, 111.94it/s, loss=1.23]\n"
          ]
        },
        {
          "output_type": "stream",
          "name": "stdout",
          "text": [
            "Epoch [1322/3000]: Train loss: 1.1148, Valid loss: 1.4161\n"
          ]
        },
        {
          "output_type": "stream",
          "name": "stderr",
          "text": [
            "Epoch [1323/3000]: 100%|██████████| 9/9 [00:00<00:00, 94.53it/s, loss=0.89]\n"
          ]
        },
        {
          "output_type": "stream",
          "name": "stdout",
          "text": [
            "Epoch [1323/3000]: Train loss: 1.0874, Valid loss: 1.4145\n"
          ]
        },
        {
          "output_type": "stream",
          "name": "stderr",
          "text": [
            "Epoch [1324/3000]: 100%|██████████| 9/9 [00:00<00:00, 81.69it/s, loss=0.87]\n"
          ]
        },
        {
          "output_type": "stream",
          "name": "stdout",
          "text": [
            "Epoch [1324/3000]: Train loss: 1.0872, Valid loss: 1.9218\n"
          ]
        },
        {
          "output_type": "stream",
          "name": "stderr",
          "text": [
            "Epoch [1325/3000]: 100%|██████████| 9/9 [00:00<00:00, 83.94it/s, loss=1.44]\n"
          ]
        },
        {
          "output_type": "stream",
          "name": "stdout",
          "text": [
            "Epoch [1325/3000]: Train loss: 1.1276, Valid loss: 1.2791\n"
          ]
        },
        {
          "output_type": "stream",
          "name": "stderr",
          "text": [
            "Epoch [1326/3000]: 100%|██████████| 9/9 [00:00<00:00, 84.01it/s, loss=1.11]\n"
          ]
        },
        {
          "output_type": "stream",
          "name": "stdout",
          "text": [
            "Epoch [1326/3000]: Train loss: 1.1227, Valid loss: 1.3436\n"
          ]
        },
        {
          "output_type": "stream",
          "name": "stderr",
          "text": [
            "Epoch [1327/3000]: 100%|██████████| 9/9 [00:00<00:00, 85.30it/s, loss=0.835]\n"
          ]
        },
        {
          "output_type": "stream",
          "name": "stdout",
          "text": [
            "Epoch [1327/3000]: Train loss: 1.1023, Valid loss: 1.4681\n"
          ]
        },
        {
          "output_type": "stream",
          "name": "stderr",
          "text": [
            "Epoch [1328/3000]: 100%|██████████| 9/9 [00:00<00:00, 79.69it/s, loss=0.94]\n"
          ]
        },
        {
          "output_type": "stream",
          "name": "stdout",
          "text": [
            "Epoch [1328/3000]: Train loss: 1.0950, Valid loss: 1.2542\n"
          ]
        },
        {
          "output_type": "stream",
          "name": "stderr",
          "text": [
            "Epoch [1329/3000]: 100%|██████████| 9/9 [00:00<00:00, 78.48it/s, loss=0.691]\n"
          ]
        },
        {
          "output_type": "stream",
          "name": "stdout",
          "text": [
            "Epoch [1329/3000]: Train loss: 1.0884, Valid loss: 1.4733\n"
          ]
        },
        {
          "output_type": "stream",
          "name": "stderr",
          "text": [
            "Epoch [1330/3000]: 100%|██████████| 9/9 [00:00<00:00, 85.06it/s, loss=0.881]\n"
          ]
        },
        {
          "output_type": "stream",
          "name": "stdout",
          "text": [
            "Epoch [1330/3000]: Train loss: 1.0939, Valid loss: 1.3053\n"
          ]
        },
        {
          "output_type": "stream",
          "name": "stderr",
          "text": [
            "Epoch [1331/3000]: 100%|██████████| 9/9 [00:00<00:00, 77.96it/s, loss=1.05]\n"
          ]
        },
        {
          "output_type": "stream",
          "name": "stdout",
          "text": [
            "Epoch [1331/3000]: Train loss: 1.0962, Valid loss: 1.3473\n"
          ]
        },
        {
          "output_type": "stream",
          "name": "stderr",
          "text": [
            "Epoch [1332/3000]: 100%|██████████| 9/9 [00:00<00:00, 87.27it/s, loss=1.27]\n"
          ]
        },
        {
          "output_type": "stream",
          "name": "stdout",
          "text": [
            "Epoch [1332/3000]: Train loss: 1.0996, Valid loss: 1.3077\n"
          ]
        },
        {
          "output_type": "stream",
          "name": "stderr",
          "text": [
            "Epoch [1333/3000]: 100%|██████████| 9/9 [00:00<00:00, 89.86it/s, loss=1.38]\n"
          ]
        },
        {
          "output_type": "stream",
          "name": "stdout",
          "text": [
            "Epoch [1333/3000]: Train loss: 1.1033, Valid loss: 1.5226\n"
          ]
        },
        {
          "output_type": "stream",
          "name": "stderr",
          "text": [
            "Epoch [1334/3000]: 100%|██████████| 9/9 [00:00<00:00, 96.31it/s, loss=0.821]\n"
          ]
        },
        {
          "output_type": "stream",
          "name": "stdout",
          "text": [
            "Epoch [1334/3000]: Train loss: 1.0718, Valid loss: 1.6534\n"
          ]
        },
        {
          "output_type": "stream",
          "name": "stderr",
          "text": [
            "Epoch [1335/3000]: 100%|██████████| 9/9 [00:00<00:00, 108.99it/s, loss=1.24]\n"
          ]
        },
        {
          "output_type": "stream",
          "name": "stdout",
          "text": [
            "Epoch [1335/3000]: Train loss: 1.1043, Valid loss: 1.4314\n"
          ]
        },
        {
          "output_type": "stream",
          "name": "stderr",
          "text": [
            "Epoch [1336/3000]: 100%|██████████| 9/9 [00:00<00:00, 91.87it/s, loss=1.17]\n"
          ]
        },
        {
          "output_type": "stream",
          "name": "stdout",
          "text": [
            "Epoch [1336/3000]: Train loss: 1.1143, Valid loss: 1.1773\n"
          ]
        },
        {
          "output_type": "stream",
          "name": "stderr",
          "text": [
            "Epoch [1337/3000]: 100%|██████████| 9/9 [00:00<00:00, 93.30it/s, loss=1.25]\n"
          ]
        },
        {
          "output_type": "stream",
          "name": "stdout",
          "text": [
            "Epoch [1337/3000]: Train loss: 1.1082, Valid loss: 1.2991\n"
          ]
        },
        {
          "output_type": "stream",
          "name": "stderr",
          "text": [
            "Epoch [1338/3000]: 100%|██████████| 9/9 [00:00<00:00, 103.85it/s, loss=1.4]\n"
          ]
        },
        {
          "output_type": "stream",
          "name": "stdout",
          "text": [
            "Epoch [1338/3000]: Train loss: 1.1065, Valid loss: 1.4012\n"
          ]
        },
        {
          "output_type": "stream",
          "name": "stderr",
          "text": [
            "Epoch [1339/3000]: 100%|██████████| 9/9 [00:00<00:00, 95.11it/s, loss=1.17]\n"
          ]
        },
        {
          "output_type": "stream",
          "name": "stdout",
          "text": [
            "Epoch [1339/3000]: Train loss: 1.1116, Valid loss: 1.5728\n"
          ]
        },
        {
          "output_type": "stream",
          "name": "stderr",
          "text": [
            "Epoch [1340/3000]: 100%|██████████| 9/9 [00:00<00:00, 73.50it/s, loss=0.746]\n"
          ]
        },
        {
          "output_type": "stream",
          "name": "stdout",
          "text": [
            "Epoch [1340/3000]: Train loss: 1.0816, Valid loss: 1.2818\n"
          ]
        },
        {
          "output_type": "stream",
          "name": "stderr",
          "text": [
            "Epoch [1341/3000]: 100%|██████████| 9/9 [00:00<00:00, 53.82it/s, loss=0.748]\n"
          ]
        },
        {
          "output_type": "stream",
          "name": "stdout",
          "text": [
            "Epoch [1341/3000]: Train loss: 1.0639, Valid loss: 1.4138\n"
          ]
        },
        {
          "output_type": "stream",
          "name": "stderr",
          "text": [
            "Epoch [1342/3000]: 100%|██████████| 9/9 [00:00<00:00, 43.84it/s, loss=1.04]\n"
          ]
        },
        {
          "output_type": "stream",
          "name": "stdout",
          "text": [
            "Epoch [1342/3000]: Train loss: 1.0923, Valid loss: 1.4106\n"
          ]
        },
        {
          "output_type": "stream",
          "name": "stderr",
          "text": [
            "Epoch [1343/3000]: 100%|██████████| 9/9 [00:00<00:00, 74.12it/s, loss=0.911]\n"
          ]
        },
        {
          "output_type": "stream",
          "name": "stdout",
          "text": [
            "Epoch [1343/3000]: Train loss: 1.0791, Valid loss: 1.2741\n"
          ]
        },
        {
          "output_type": "stream",
          "name": "stderr",
          "text": [
            "Epoch [1344/3000]: 100%|██████████| 9/9 [00:00<00:00, 56.43it/s, loss=1.81]\n"
          ]
        },
        {
          "output_type": "stream",
          "name": "stdout",
          "text": [
            "Epoch [1344/3000]: Train loss: 1.1657, Valid loss: 1.2613\n"
          ]
        },
        {
          "output_type": "stream",
          "name": "stderr",
          "text": [
            "Epoch [1345/3000]: 100%|██████████| 9/9 [00:00<00:00, 66.50it/s, loss=0.752]\n"
          ]
        },
        {
          "output_type": "stream",
          "name": "stdout",
          "text": [
            "Epoch [1345/3000]: Train loss: 1.0747, Valid loss: 1.3845\n"
          ]
        },
        {
          "output_type": "stream",
          "name": "stderr",
          "text": [
            "Epoch [1346/3000]: 100%|██████████| 9/9 [00:00<00:00, 77.64it/s, loss=1.24]\n"
          ]
        },
        {
          "output_type": "stream",
          "name": "stdout",
          "text": [
            "Epoch [1346/3000]: Train loss: 1.1020, Valid loss: 1.2763\n"
          ]
        },
        {
          "output_type": "stream",
          "name": "stderr",
          "text": [
            "Epoch [1347/3000]: 100%|██████████| 9/9 [00:00<00:00, 96.74it/s, loss=1.53]\n"
          ]
        },
        {
          "output_type": "stream",
          "name": "stdout",
          "text": [
            "Epoch [1347/3000]: Train loss: 1.1134, Valid loss: 1.2513\n"
          ]
        },
        {
          "output_type": "stream",
          "name": "stderr",
          "text": [
            "Epoch [1348/3000]: 100%|██████████| 9/9 [00:00<00:00, 102.58it/s, loss=1.27]\n"
          ]
        },
        {
          "output_type": "stream",
          "name": "stdout",
          "text": [
            "Epoch [1348/3000]: Train loss: 1.1204, Valid loss: 1.3613\n"
          ]
        },
        {
          "output_type": "stream",
          "name": "stderr",
          "text": [
            "Epoch [1349/3000]: 100%|██████████| 9/9 [00:00<00:00, 91.50it/s, loss=0.826]\n"
          ]
        },
        {
          "output_type": "stream",
          "name": "stdout",
          "text": [
            "Epoch [1349/3000]: Train loss: 1.0740, Valid loss: 1.3695\n"
          ]
        },
        {
          "output_type": "stream",
          "name": "stderr",
          "text": [
            "Epoch [1350/3000]: 100%|██████████| 9/9 [00:00<00:00, 89.88it/s, loss=0.854]\n"
          ]
        },
        {
          "output_type": "stream",
          "name": "stdout",
          "text": [
            "Epoch [1350/3000]: Train loss: 1.0762, Valid loss: 1.2396\n"
          ]
        },
        {
          "output_type": "stream",
          "name": "stderr",
          "text": [
            "Epoch [1351/3000]: 100%|██████████| 9/9 [00:00<00:00, 91.35it/s, loss=1.37]\n"
          ]
        },
        {
          "output_type": "stream",
          "name": "stdout",
          "text": [
            "Epoch [1351/3000]: Train loss: 1.1071, Valid loss: 1.4794\n"
          ]
        },
        {
          "output_type": "stream",
          "name": "stderr",
          "text": [
            "Epoch [1352/3000]: 100%|██████████| 9/9 [00:00<00:00, 96.97it/s, loss=1.38]\n"
          ]
        },
        {
          "output_type": "stream",
          "name": "stdout",
          "text": [
            "Epoch [1352/3000]: Train loss: 1.1083, Valid loss: 1.2616\n"
          ]
        },
        {
          "output_type": "stream",
          "name": "stderr",
          "text": [
            "Epoch [1353/3000]: 100%|██████████| 9/9 [00:00<00:00, 75.55it/s, loss=0.816]\n"
          ]
        },
        {
          "output_type": "stream",
          "name": "stdout",
          "text": [
            "Epoch [1353/3000]: Train loss: 1.0788, Valid loss: 1.5870\n"
          ]
        },
        {
          "output_type": "stream",
          "name": "stderr",
          "text": [
            "Epoch [1354/3000]: 100%|██████████| 9/9 [00:00<00:00, 84.50it/s, loss=0.98]\n"
          ]
        },
        {
          "output_type": "stream",
          "name": "stdout",
          "text": [
            "Epoch [1354/3000]: Train loss: 1.0797, Valid loss: 1.4114\n"
          ]
        },
        {
          "output_type": "stream",
          "name": "stderr",
          "text": [
            "Epoch [1355/3000]: 100%|██████████| 9/9 [00:00<00:00, 85.90it/s, loss=1.64]\n"
          ]
        },
        {
          "output_type": "stream",
          "name": "stdout",
          "text": [
            "Epoch [1355/3000]: Train loss: 1.1197, Valid loss: 1.1655\n"
          ]
        },
        {
          "output_type": "stream",
          "name": "stderr",
          "text": [
            "Epoch [1356/3000]: 100%|██████████| 9/9 [00:00<00:00, 81.65it/s, loss=1.32]\n"
          ]
        },
        {
          "output_type": "stream",
          "name": "stdout",
          "text": [
            "Epoch [1356/3000]: Train loss: 1.1012, Valid loss: 1.2397\n"
          ]
        },
        {
          "output_type": "stream",
          "name": "stderr",
          "text": [
            "Epoch [1357/3000]: 100%|██████████| 9/9 [00:00<00:00, 108.40it/s, loss=1.02]\n"
          ]
        },
        {
          "output_type": "stream",
          "name": "stdout",
          "text": [
            "Epoch [1357/3000]: Train loss: 1.0786, Valid loss: 1.5228\n"
          ]
        },
        {
          "output_type": "stream",
          "name": "stderr",
          "text": [
            "Epoch [1358/3000]: 100%|██████████| 9/9 [00:00<00:00, 107.88it/s, loss=1.34]\n"
          ]
        },
        {
          "output_type": "stream",
          "name": "stdout",
          "text": [
            "Epoch [1358/3000]: Train loss: 1.0955, Valid loss: 1.2929\n"
          ]
        },
        {
          "output_type": "stream",
          "name": "stderr",
          "text": [
            "Epoch [1359/3000]: 100%|██████████| 9/9 [00:00<00:00, 113.10it/s, loss=1.25]\n"
          ]
        },
        {
          "output_type": "stream",
          "name": "stdout",
          "text": [
            "Epoch [1359/3000]: Train loss: 1.0990, Valid loss: 1.3845\n"
          ]
        },
        {
          "output_type": "stream",
          "name": "stderr",
          "text": [
            "Epoch [1360/3000]: 100%|██████████| 9/9 [00:00<00:00, 102.45it/s, loss=0.671]\n"
          ]
        },
        {
          "output_type": "stream",
          "name": "stdout",
          "text": [
            "Epoch [1360/3000]: Train loss: 1.0587, Valid loss: 1.3571\n"
          ]
        },
        {
          "output_type": "stream",
          "name": "stderr",
          "text": [
            "Epoch [1361/3000]: 100%|██████████| 9/9 [00:00<00:00, 108.84it/s, loss=1.26]\n"
          ]
        },
        {
          "output_type": "stream",
          "name": "stdout",
          "text": [
            "Epoch [1361/3000]: Train loss: 1.1002, Valid loss: 1.1375\n"
          ]
        },
        {
          "output_type": "stream",
          "name": "stderr",
          "text": [
            "Epoch [1362/3000]: 100%|██████████| 9/9 [00:00<00:00, 109.58it/s, loss=1.03]\n"
          ]
        },
        {
          "output_type": "stream",
          "name": "stdout",
          "text": [
            "Epoch [1362/3000]: Train loss: 1.1036, Valid loss: 1.2766\n"
          ]
        },
        {
          "output_type": "stream",
          "name": "stderr",
          "text": [
            "Epoch [1363/3000]: 100%|██████████| 9/9 [00:00<00:00, 82.73it/s, loss=1.02]\n"
          ]
        },
        {
          "output_type": "stream",
          "name": "stdout",
          "text": [
            "Epoch [1363/3000]: Train loss: 1.0910, Valid loss: 1.1196\n"
          ]
        },
        {
          "output_type": "stream",
          "name": "stderr",
          "text": [
            "Epoch [1364/3000]: 100%|██████████| 9/9 [00:00<00:00, 92.29it/s, loss=0.982]\n"
          ]
        },
        {
          "output_type": "stream",
          "name": "stdout",
          "text": [
            "Epoch [1364/3000]: Train loss: 1.0758, Valid loss: 1.1991\n"
          ]
        },
        {
          "output_type": "stream",
          "name": "stderr",
          "text": [
            "Epoch [1365/3000]: 100%|██████████| 9/9 [00:00<00:00, 83.50it/s, loss=0.675]\n"
          ]
        },
        {
          "output_type": "stream",
          "name": "stdout",
          "text": [
            "Epoch [1365/3000]: Train loss: 1.0538, Valid loss: 1.2253\n"
          ]
        },
        {
          "output_type": "stream",
          "name": "stderr",
          "text": [
            "Epoch [1366/3000]: 100%|██████████| 9/9 [00:00<00:00, 95.18it/s, loss=0.996]\n"
          ]
        },
        {
          "output_type": "stream",
          "name": "stdout",
          "text": [
            "Epoch [1366/3000]: Train loss: 1.0760, Valid loss: 1.4807\n"
          ]
        },
        {
          "output_type": "stream",
          "name": "stderr",
          "text": [
            "Epoch [1367/3000]: 100%|██████████| 9/9 [00:00<00:00, 84.56it/s, loss=0.967]\n"
          ]
        },
        {
          "output_type": "stream",
          "name": "stdout",
          "text": [
            "Epoch [1367/3000]: Train loss: 1.0745, Valid loss: 1.2293\n"
          ]
        },
        {
          "output_type": "stream",
          "name": "stderr",
          "text": [
            "Epoch [1368/3000]: 100%|██████████| 9/9 [00:00<00:00, 105.30it/s, loss=0.972]\n"
          ]
        },
        {
          "output_type": "stream",
          "name": "stdout",
          "text": [
            "Epoch [1368/3000]: Train loss: 1.0714, Valid loss: 1.4165\n"
          ]
        },
        {
          "output_type": "stream",
          "name": "stderr",
          "text": [
            "Epoch [1369/3000]: 100%|██████████| 9/9 [00:00<00:00, 92.74it/s, loss=0.954]\n"
          ]
        },
        {
          "output_type": "stream",
          "name": "stdout",
          "text": [
            "Epoch [1369/3000]: Train loss: 1.0830, Valid loss: 1.2882\n"
          ]
        },
        {
          "output_type": "stream",
          "name": "stderr",
          "text": [
            "Epoch [1370/3000]: 100%|██████████| 9/9 [00:00<00:00, 76.30it/s, loss=0.926]\n"
          ]
        },
        {
          "output_type": "stream",
          "name": "stdout",
          "text": [
            "Epoch [1370/3000]: Train loss: 1.0703, Valid loss: 1.7427\n"
          ]
        },
        {
          "output_type": "stream",
          "name": "stderr",
          "text": [
            "Epoch [1371/3000]: 100%|██████████| 9/9 [00:00<00:00, 112.49it/s, loss=1.23]\n"
          ]
        },
        {
          "output_type": "stream",
          "name": "stdout",
          "text": [
            "Epoch [1371/3000]: Train loss: 1.0955, Valid loss: 1.2088\n"
          ]
        },
        {
          "output_type": "stream",
          "name": "stderr",
          "text": [
            "Epoch [1372/3000]: 100%|██████████| 9/9 [00:00<00:00, 80.39it/s, loss=1.05]\n"
          ]
        },
        {
          "output_type": "stream",
          "name": "stdout",
          "text": [
            "Epoch [1372/3000]: Train loss: 1.0759, Valid loss: 1.2115\n"
          ]
        },
        {
          "output_type": "stream",
          "name": "stderr",
          "text": [
            "Epoch [1373/3000]: 100%|██████████| 9/9 [00:00<00:00, 79.10it/s, loss=1.32]\n"
          ]
        },
        {
          "output_type": "stream",
          "name": "stdout",
          "text": [
            "Epoch [1373/3000]: Train loss: 1.1051, Valid loss: 1.2488\n"
          ]
        },
        {
          "output_type": "stream",
          "name": "stderr",
          "text": [
            "Epoch [1374/3000]: 100%|██████████| 9/9 [00:00<00:00, 29.47it/s, loss=1.12]\n"
          ]
        },
        {
          "output_type": "stream",
          "name": "stdout",
          "text": [
            "Epoch [1374/3000]: Train loss: 1.0816, Valid loss: 1.1893\n"
          ]
        },
        {
          "output_type": "stream",
          "name": "stderr",
          "text": [
            "Epoch [1375/3000]: 100%|██████████| 9/9 [00:00<00:00, 79.96it/s, loss=0.981]\n"
          ]
        },
        {
          "output_type": "stream",
          "name": "stdout",
          "text": [
            "Epoch [1375/3000]: Train loss: 1.0886, Valid loss: 1.4510\n"
          ]
        },
        {
          "output_type": "stream",
          "name": "stderr",
          "text": [
            "Epoch [1376/3000]: 100%|██████████| 9/9 [00:00<00:00, 69.96it/s, loss=0.924]\n"
          ]
        },
        {
          "output_type": "stream",
          "name": "stdout",
          "text": [
            "Epoch [1376/3000]: Train loss: 1.0712, Valid loss: 1.4868\n"
          ]
        },
        {
          "output_type": "stream",
          "name": "stderr",
          "text": [
            "Epoch [1377/3000]: 100%|██████████| 9/9 [00:00<00:00, 94.21it/s, loss=0.937]\n"
          ]
        },
        {
          "output_type": "stream",
          "name": "stdout",
          "text": [
            "Epoch [1377/3000]: Train loss: 1.0715, Valid loss: 1.2253\n"
          ]
        },
        {
          "output_type": "stream",
          "name": "stderr",
          "text": [
            "Epoch [1378/3000]: 100%|██████████| 9/9 [00:00<00:00, 109.88it/s, loss=1.15]\n"
          ]
        },
        {
          "output_type": "stream",
          "name": "stdout",
          "text": [
            "Epoch [1378/3000]: Train loss: 1.0942, Valid loss: 1.9047\n"
          ]
        },
        {
          "output_type": "stream",
          "name": "stderr",
          "text": [
            "Epoch [1379/3000]: 100%|██████████| 9/9 [00:00<00:00, 92.37it/s, loss=0.968]\n"
          ]
        },
        {
          "output_type": "stream",
          "name": "stdout",
          "text": [
            "Epoch [1379/3000]: Train loss: 1.1025, Valid loss: 1.2627\n"
          ]
        },
        {
          "output_type": "stream",
          "name": "stderr",
          "text": [
            "Epoch [1380/3000]: 100%|██████████| 9/9 [00:00<00:00, 76.00it/s, loss=1.2]\n"
          ]
        },
        {
          "output_type": "stream",
          "name": "stdout",
          "text": [
            "Epoch [1380/3000]: Train loss: 1.1045, Valid loss: 1.2416\n"
          ]
        },
        {
          "output_type": "stream",
          "name": "stderr",
          "text": [
            "Epoch [1381/3000]: 100%|██████████| 9/9 [00:00<00:00, 92.76it/s, loss=1.47]\n"
          ]
        },
        {
          "output_type": "stream",
          "name": "stdout",
          "text": [
            "Epoch [1381/3000]: Train loss: 1.1231, Valid loss: 1.0894\n"
          ]
        },
        {
          "output_type": "stream",
          "name": "stderr",
          "text": [
            "Epoch [1382/3000]: 100%|██████████| 9/9 [00:00<00:00, 96.69it/s, loss=0.897]\n"
          ]
        },
        {
          "output_type": "stream",
          "name": "stdout",
          "text": [
            "Epoch [1382/3000]: Train loss: 1.0807, Valid loss: 1.2755\n"
          ]
        },
        {
          "output_type": "stream",
          "name": "stderr",
          "text": [
            "Epoch [1383/3000]: 100%|██████████| 9/9 [00:00<00:00, 98.66it/s, loss=0.71]\n"
          ]
        },
        {
          "output_type": "stream",
          "name": "stdout",
          "text": [
            "Epoch [1383/3000]: Train loss: 1.0839, Valid loss: 1.0542\n",
            "Saving model with loss 1.054...\n"
          ]
        },
        {
          "output_type": "stream",
          "name": "stderr",
          "text": [
            "Epoch [1384/3000]: 100%|██████████| 9/9 [00:00<00:00, 95.99it/s, loss=0.962]\n"
          ]
        },
        {
          "output_type": "stream",
          "name": "stdout",
          "text": [
            "Epoch [1384/3000]: Train loss: 1.0835, Valid loss: 1.3067\n"
          ]
        },
        {
          "output_type": "stream",
          "name": "stderr",
          "text": [
            "Epoch [1385/3000]: 100%|██████████| 9/9 [00:00<00:00, 76.50it/s, loss=1.01]\n"
          ]
        },
        {
          "output_type": "stream",
          "name": "stdout",
          "text": [
            "Epoch [1385/3000]: Train loss: 1.0819, Valid loss: 1.1866\n"
          ]
        },
        {
          "output_type": "stream",
          "name": "stderr",
          "text": [
            "Epoch [1386/3000]: 100%|██████████| 9/9 [00:00<00:00, 90.86it/s, loss=0.574]\n"
          ]
        },
        {
          "output_type": "stream",
          "name": "stdout",
          "text": [
            "Epoch [1386/3000]: Train loss: 1.0546, Valid loss: 1.3627\n"
          ]
        },
        {
          "output_type": "stream",
          "name": "stderr",
          "text": [
            "Epoch [1387/3000]: 100%|██████████| 9/9 [00:00<00:00, 78.07it/s, loss=1.04]\n"
          ]
        },
        {
          "output_type": "stream",
          "name": "stdout",
          "text": [
            "Epoch [1387/3000]: Train loss: 1.0778, Valid loss: 1.1909\n"
          ]
        },
        {
          "output_type": "stream",
          "name": "stderr",
          "text": [
            "Epoch [1388/3000]: 100%|██████████| 9/9 [00:00<00:00, 78.62it/s, loss=1.08]\n"
          ]
        },
        {
          "output_type": "stream",
          "name": "stdout",
          "text": [
            "Epoch [1388/3000]: Train loss: 1.0925, Valid loss: 1.2488\n"
          ]
        },
        {
          "output_type": "stream",
          "name": "stderr",
          "text": [
            "Epoch [1389/3000]: 100%|██████████| 9/9 [00:00<00:00, 90.26it/s, loss=1.18]\n"
          ]
        },
        {
          "output_type": "stream",
          "name": "stdout",
          "text": [
            "Epoch [1389/3000]: Train loss: 1.0865, Valid loss: 1.2236\n"
          ]
        },
        {
          "output_type": "stream",
          "name": "stderr",
          "text": [
            "Epoch [1390/3000]: 100%|██████████| 9/9 [00:00<00:00, 86.05it/s, loss=0.938]\n"
          ]
        },
        {
          "output_type": "stream",
          "name": "stdout",
          "text": [
            "Epoch [1390/3000]: Train loss: 1.0797, Valid loss: 1.2692\n"
          ]
        },
        {
          "output_type": "stream",
          "name": "stderr",
          "text": [
            "Epoch [1391/3000]: 100%|██████████| 9/9 [00:00<00:00, 76.20it/s, loss=1.08]\n"
          ]
        },
        {
          "output_type": "stream",
          "name": "stdout",
          "text": [
            "Epoch [1391/3000]: Train loss: 1.0754, Valid loss: 1.1144\n"
          ]
        },
        {
          "output_type": "stream",
          "name": "stderr",
          "text": [
            "Epoch [1392/3000]: 100%|██████████| 9/9 [00:00<00:00, 95.68it/s, loss=0.761]\n"
          ]
        },
        {
          "output_type": "stream",
          "name": "stdout",
          "text": [
            "Epoch [1392/3000]: Train loss: 1.0572, Valid loss: 1.2733\n"
          ]
        },
        {
          "output_type": "stream",
          "name": "stderr",
          "text": [
            "Epoch [1393/3000]: 100%|██████████| 9/9 [00:00<00:00, 84.65it/s, loss=1.48]\n"
          ]
        },
        {
          "output_type": "stream",
          "name": "stdout",
          "text": [
            "Epoch [1393/3000]: Train loss: 1.1021, Valid loss: 1.3806\n"
          ]
        },
        {
          "output_type": "stream",
          "name": "stderr",
          "text": [
            "Epoch [1394/3000]: 100%|██████████| 9/9 [00:00<00:00, 78.16it/s, loss=1.05]\n"
          ]
        },
        {
          "output_type": "stream",
          "name": "stdout",
          "text": [
            "Epoch [1394/3000]: Train loss: 1.0946, Valid loss: 1.8030\n"
          ]
        },
        {
          "output_type": "stream",
          "name": "stderr",
          "text": [
            "Epoch [1395/3000]: 100%|██████████| 9/9 [00:00<00:00, 88.40it/s, loss=1.01]\n"
          ]
        },
        {
          "output_type": "stream",
          "name": "stdout",
          "text": [
            "Epoch [1395/3000]: Train loss: 1.0858, Valid loss: 1.2137\n"
          ]
        },
        {
          "output_type": "stream",
          "name": "stderr",
          "text": [
            "Epoch [1396/3000]: 100%|██████████| 9/9 [00:00<00:00, 98.41it/s, loss=1.17]\n"
          ]
        },
        {
          "output_type": "stream",
          "name": "stdout",
          "text": [
            "Epoch [1396/3000]: Train loss: 1.0915, Valid loss: 1.2336\n"
          ]
        },
        {
          "output_type": "stream",
          "name": "stderr",
          "text": [
            "Epoch [1397/3000]: 100%|██████████| 9/9 [00:00<00:00, 99.13it/s, loss=1.32]\n"
          ]
        },
        {
          "output_type": "stream",
          "name": "stdout",
          "text": [
            "Epoch [1397/3000]: Train loss: 1.1003, Valid loss: 1.1103\n"
          ]
        },
        {
          "output_type": "stream",
          "name": "stderr",
          "text": [
            "Epoch [1398/3000]: 100%|██████████| 9/9 [00:00<00:00, 97.11it/s, loss=1.32]\n"
          ]
        },
        {
          "output_type": "stream",
          "name": "stdout",
          "text": [
            "Epoch [1398/3000]: Train loss: 1.0966, Valid loss: 1.3279\n"
          ]
        },
        {
          "output_type": "stream",
          "name": "stderr",
          "text": [
            "Epoch [1399/3000]: 100%|██████████| 9/9 [00:00<00:00, 85.03it/s, loss=1.27]\n"
          ]
        },
        {
          "output_type": "stream",
          "name": "stdout",
          "text": [
            "Epoch [1399/3000]: Train loss: 1.0947, Valid loss: 1.1513\n"
          ]
        },
        {
          "output_type": "stream",
          "name": "stderr",
          "text": [
            "Epoch [1400/3000]: 100%|██████████| 9/9 [00:00<00:00, 106.25it/s, loss=1.01]\n"
          ]
        },
        {
          "output_type": "stream",
          "name": "stdout",
          "text": [
            "Epoch [1400/3000]: Train loss: 1.0794, Valid loss: 1.1847\n"
          ]
        },
        {
          "output_type": "stream",
          "name": "stderr",
          "text": [
            "Epoch [1401/3000]: 100%|██████████| 9/9 [00:00<00:00, 80.85it/s, loss=1.23]\n"
          ]
        },
        {
          "output_type": "stream",
          "name": "stdout",
          "text": [
            "Epoch [1401/3000]: Train loss: 1.0854, Valid loss: 1.2014\n"
          ]
        },
        {
          "output_type": "stream",
          "name": "stderr",
          "text": [
            "Epoch [1402/3000]: 100%|██████████| 9/9 [00:00<00:00, 73.38it/s, loss=0.934]\n"
          ]
        },
        {
          "output_type": "stream",
          "name": "stdout",
          "text": [
            "Epoch [1402/3000]: Train loss: 1.0724, Valid loss: 1.2554\n"
          ]
        },
        {
          "output_type": "stream",
          "name": "stderr",
          "text": [
            "Epoch [1403/3000]: 100%|██████████| 9/9 [00:00<00:00, 78.32it/s, loss=1.07]\n"
          ]
        },
        {
          "output_type": "stream",
          "name": "stdout",
          "text": [
            "Epoch [1403/3000]: Train loss: 1.0756, Valid loss: 1.1513\n"
          ]
        },
        {
          "output_type": "stream",
          "name": "stderr",
          "text": [
            "Epoch [1404/3000]: 100%|██████████| 9/9 [00:00<00:00, 84.90it/s, loss=1.07]\n"
          ]
        },
        {
          "output_type": "stream",
          "name": "stdout",
          "text": [
            "Epoch [1404/3000]: Train loss: 1.0831, Valid loss: 1.2197\n"
          ]
        },
        {
          "output_type": "stream",
          "name": "stderr",
          "text": [
            "Epoch [1405/3000]: 100%|██████████| 9/9 [00:00<00:00, 94.08it/s, loss=0.848]\n"
          ]
        },
        {
          "output_type": "stream",
          "name": "stdout",
          "text": [
            "Epoch [1405/3000]: Train loss: 1.0763, Valid loss: 1.2929\n"
          ]
        },
        {
          "output_type": "stream",
          "name": "stderr",
          "text": [
            "Epoch [1406/3000]: 100%|██████████| 9/9 [00:00<00:00, 88.00it/s, loss=0.935]\n"
          ]
        },
        {
          "output_type": "stream",
          "name": "stdout",
          "text": [
            "Epoch [1406/3000]: Train loss: 1.0698, Valid loss: 1.4797\n"
          ]
        },
        {
          "output_type": "stream",
          "name": "stderr",
          "text": [
            "Epoch [1407/3000]: 100%|██████████| 9/9 [00:00<00:00, 101.97it/s, loss=0.938]\n"
          ]
        },
        {
          "output_type": "stream",
          "name": "stdout",
          "text": [
            "Epoch [1407/3000]: Train loss: 1.0739, Valid loss: 1.2851\n"
          ]
        },
        {
          "output_type": "stream",
          "name": "stderr",
          "text": [
            "Epoch [1408/3000]: 100%|██████████| 9/9 [00:00<00:00, 106.29it/s, loss=0.912]\n"
          ]
        },
        {
          "output_type": "stream",
          "name": "stdout",
          "text": [
            "Epoch [1408/3000]: Train loss: 1.0706, Valid loss: 1.2930\n"
          ]
        },
        {
          "output_type": "stream",
          "name": "stderr",
          "text": [
            "Epoch [1409/3000]: 100%|██████████| 9/9 [00:00<00:00, 84.14it/s, loss=1.21]\n"
          ]
        },
        {
          "output_type": "stream",
          "name": "stdout",
          "text": [
            "Epoch [1409/3000]: Train loss: 1.0805, Valid loss: 1.1855\n"
          ]
        },
        {
          "output_type": "stream",
          "name": "stderr",
          "text": [
            "Epoch [1410/3000]: 100%|██████████| 9/9 [00:00<00:00, 91.22it/s, loss=0.892]\n"
          ]
        },
        {
          "output_type": "stream",
          "name": "stdout",
          "text": [
            "Epoch [1410/3000]: Train loss: 1.0596, Valid loss: 1.1555\n"
          ]
        },
        {
          "output_type": "stream",
          "name": "stderr",
          "text": [
            "Epoch [1411/3000]: 100%|██████████| 9/9 [00:00<00:00, 85.88it/s, loss=1.51]\n"
          ]
        },
        {
          "output_type": "stream",
          "name": "stdout",
          "text": [
            "Epoch [1411/3000]: Train loss: 1.1040, Valid loss: 1.3756\n"
          ]
        },
        {
          "output_type": "stream",
          "name": "stderr",
          "text": [
            "Epoch [1412/3000]: 100%|██████████| 9/9 [00:00<00:00, 84.81it/s, loss=0.925]\n"
          ]
        },
        {
          "output_type": "stream",
          "name": "stdout",
          "text": [
            "Epoch [1412/3000]: Train loss: 1.0686, Valid loss: 1.3346\n"
          ]
        },
        {
          "output_type": "stream",
          "name": "stderr",
          "text": [
            "Epoch [1413/3000]: 100%|██████████| 9/9 [00:00<00:00, 94.07it/s, loss=0.828]\n"
          ]
        },
        {
          "output_type": "stream",
          "name": "stdout",
          "text": [
            "Epoch [1413/3000]: Train loss: 1.0572, Valid loss: 1.3323\n"
          ]
        },
        {
          "output_type": "stream",
          "name": "stderr",
          "text": [
            "Epoch [1414/3000]: 100%|██████████| 9/9 [00:00<00:00, 80.26it/s, loss=1.01]\n"
          ]
        },
        {
          "output_type": "stream",
          "name": "stdout",
          "text": [
            "Epoch [1414/3000]: Train loss: 1.0674, Valid loss: 1.2431\n"
          ]
        },
        {
          "output_type": "stream",
          "name": "stderr",
          "text": [
            "Epoch [1415/3000]: 100%|██████████| 9/9 [00:00<00:00, 102.18it/s, loss=1.12]\n"
          ]
        },
        {
          "output_type": "stream",
          "name": "stdout",
          "text": [
            "Epoch [1415/3000]: Train loss: 1.0745, Valid loss: 1.1958\n"
          ]
        },
        {
          "output_type": "stream",
          "name": "stderr",
          "text": [
            "Epoch [1416/3000]: 100%|██████████| 9/9 [00:00<00:00, 106.62it/s, loss=0.847]\n"
          ]
        },
        {
          "output_type": "stream",
          "name": "stdout",
          "text": [
            "Epoch [1416/3000]: Train loss: 1.0705, Valid loss: 1.4309\n"
          ]
        },
        {
          "output_type": "stream",
          "name": "stderr",
          "text": [
            "Epoch [1417/3000]: 100%|██████████| 9/9 [00:00<00:00, 107.86it/s, loss=0.944]\n"
          ]
        },
        {
          "output_type": "stream",
          "name": "stdout",
          "text": [
            "Epoch [1417/3000]: Train loss: 1.0690, Valid loss: 1.4259\n"
          ]
        },
        {
          "output_type": "stream",
          "name": "stderr",
          "text": [
            "Epoch [1418/3000]: 100%|██████████| 9/9 [00:00<00:00, 79.85it/s, loss=0.907]\n"
          ]
        },
        {
          "output_type": "stream",
          "name": "stdout",
          "text": [
            "Epoch [1418/3000]: Train loss: 1.0864, Valid loss: 1.2362\n"
          ]
        },
        {
          "output_type": "stream",
          "name": "stderr",
          "text": [
            "Epoch [1419/3000]: 100%|██████████| 9/9 [00:00<00:00, 82.31it/s, loss=0.865]\n"
          ]
        },
        {
          "output_type": "stream",
          "name": "stdout",
          "text": [
            "Epoch [1419/3000]: Train loss: 1.0679, Valid loss: 1.4610\n"
          ]
        },
        {
          "output_type": "stream",
          "name": "stderr",
          "text": [
            "Epoch [1420/3000]: 100%|██████████| 9/9 [00:00<00:00, 83.29it/s, loss=1.21]\n"
          ]
        },
        {
          "output_type": "stream",
          "name": "stdout",
          "text": [
            "Epoch [1420/3000]: Train loss: 1.0804, Valid loss: 1.2129\n"
          ]
        },
        {
          "output_type": "stream",
          "name": "stderr",
          "text": [
            "Epoch [1421/3000]: 100%|██████████| 9/9 [00:00<00:00, 81.93it/s, loss=0.922]\n"
          ]
        },
        {
          "output_type": "stream",
          "name": "stdout",
          "text": [
            "Epoch [1421/3000]: Train loss: 1.0765, Valid loss: 1.3054\n"
          ]
        },
        {
          "output_type": "stream",
          "name": "stderr",
          "text": [
            "Epoch [1422/3000]: 100%|██████████| 9/9 [00:00<00:00, 92.49it/s, loss=0.828]\n"
          ]
        },
        {
          "output_type": "stream",
          "name": "stdout",
          "text": [
            "Epoch [1422/3000]: Train loss: 1.0780, Valid loss: 1.2446\n"
          ]
        },
        {
          "output_type": "stream",
          "name": "stderr",
          "text": [
            "Epoch [1423/3000]: 100%|██████████| 9/9 [00:00<00:00, 110.46it/s, loss=1.34]\n"
          ]
        },
        {
          "output_type": "stream",
          "name": "stdout",
          "text": [
            "Epoch [1423/3000]: Train loss: 1.1121, Valid loss: 1.2232\n"
          ]
        },
        {
          "output_type": "stream",
          "name": "stderr",
          "text": [
            "Epoch [1424/3000]: 100%|██████████| 9/9 [00:00<00:00, 87.29it/s, loss=1.01]\n"
          ]
        },
        {
          "output_type": "stream",
          "name": "stdout",
          "text": [
            "Epoch [1424/3000]: Train loss: 1.0816, Valid loss: 1.4327\n"
          ]
        },
        {
          "output_type": "stream",
          "name": "stderr",
          "text": [
            "Epoch [1425/3000]: 100%|██████████| 9/9 [00:00<00:00, 78.23it/s, loss=0.866]\n"
          ]
        },
        {
          "output_type": "stream",
          "name": "stdout",
          "text": [
            "Epoch [1425/3000]: Train loss: 1.0602, Valid loss: 1.2603\n"
          ]
        },
        {
          "output_type": "stream",
          "name": "stderr",
          "text": [
            "Epoch [1426/3000]: 100%|██████████| 9/9 [00:00<00:00, 80.81it/s, loss=1.05]\n"
          ]
        },
        {
          "output_type": "stream",
          "name": "stdout",
          "text": [
            "Epoch [1426/3000]: Train loss: 1.0714, Valid loss: 1.6797\n"
          ]
        },
        {
          "output_type": "stream",
          "name": "stderr",
          "text": [
            "Epoch [1427/3000]: 100%|██████████| 9/9 [00:00<00:00, 81.27it/s, loss=0.821]\n"
          ]
        },
        {
          "output_type": "stream",
          "name": "stdout",
          "text": [
            "Epoch [1427/3000]: Train loss: 1.0625, Valid loss: 1.3275\n"
          ]
        },
        {
          "output_type": "stream",
          "name": "stderr",
          "text": [
            "Epoch [1428/3000]: 100%|██████████| 9/9 [00:00<00:00, 76.81it/s, loss=0.95]\n"
          ]
        },
        {
          "output_type": "stream",
          "name": "stdout",
          "text": [
            "Epoch [1428/3000]: Train loss: 1.0620, Valid loss: 1.5069\n"
          ]
        },
        {
          "output_type": "stream",
          "name": "stderr",
          "text": [
            "Epoch [1429/3000]: 100%|██████████| 9/9 [00:00<00:00, 100.82it/s, loss=1.12]\n"
          ]
        },
        {
          "output_type": "stream",
          "name": "stdout",
          "text": [
            "Epoch [1429/3000]: Train loss: 1.0756, Valid loss: 1.3635\n"
          ]
        },
        {
          "output_type": "stream",
          "name": "stderr",
          "text": [
            "Epoch [1430/3000]: 100%|██████████| 9/9 [00:00<00:00, 77.15it/s, loss=0.799]\n"
          ]
        },
        {
          "output_type": "stream",
          "name": "stdout",
          "text": [
            "Epoch [1430/3000]: Train loss: 1.0579, Valid loss: 1.2696\n"
          ]
        },
        {
          "output_type": "stream",
          "name": "stderr",
          "text": [
            "Epoch [1431/3000]: 100%|██████████| 9/9 [00:00<00:00, 89.83it/s, loss=1.05]\n"
          ]
        },
        {
          "output_type": "stream",
          "name": "stdout",
          "text": [
            "Epoch [1431/3000]: Train loss: 1.0778, Valid loss: 1.3111\n"
          ]
        },
        {
          "output_type": "stream",
          "name": "stderr",
          "text": [
            "Epoch [1432/3000]: 100%|██████████| 9/9 [00:00<00:00, 82.81it/s, loss=1.03]\n"
          ]
        },
        {
          "output_type": "stream",
          "name": "stdout",
          "text": [
            "Epoch [1432/3000]: Train loss: 1.0802, Valid loss: 1.4886\n"
          ]
        },
        {
          "output_type": "stream",
          "name": "stderr",
          "text": [
            "Epoch [1433/3000]: 100%|██████████| 9/9 [00:00<00:00, 97.62it/s, loss=1.28]\n"
          ]
        },
        {
          "output_type": "stream",
          "name": "stdout",
          "text": [
            "Epoch [1433/3000]: Train loss: 1.0867, Valid loss: 1.1449\n"
          ]
        },
        {
          "output_type": "stream",
          "name": "stderr",
          "text": [
            "Epoch [1434/3000]: 100%|██████████| 9/9 [00:00<00:00, 74.74it/s, loss=1.52]\n"
          ]
        },
        {
          "output_type": "stream",
          "name": "stdout",
          "text": [
            "Epoch [1434/3000]: Train loss: 1.1063, Valid loss: 1.3922\n"
          ]
        },
        {
          "output_type": "stream",
          "name": "stderr",
          "text": [
            "Epoch [1435/3000]: 100%|██████████| 9/9 [00:00<00:00, 103.15it/s, loss=1]\n"
          ]
        },
        {
          "output_type": "stream",
          "name": "stdout",
          "text": [
            "Epoch [1435/3000]: Train loss: 1.0616, Valid loss: 1.4089\n"
          ]
        },
        {
          "output_type": "stream",
          "name": "stderr",
          "text": [
            "Epoch [1436/3000]: 100%|██████████| 9/9 [00:00<00:00, 109.66it/s, loss=1.48]\n"
          ]
        },
        {
          "output_type": "stream",
          "name": "stdout",
          "text": [
            "Epoch [1436/3000]: Train loss: 1.0976, Valid loss: 1.2221\n"
          ]
        },
        {
          "output_type": "stream",
          "name": "stderr",
          "text": [
            "Epoch [1437/3000]: 100%|██████████| 9/9 [00:00<00:00, 93.48it/s, loss=0.756]\n"
          ]
        },
        {
          "output_type": "stream",
          "name": "stdout",
          "text": [
            "Epoch [1437/3000]: Train loss: 1.0540, Valid loss: 1.2860\n"
          ]
        },
        {
          "output_type": "stream",
          "name": "stderr",
          "text": [
            "Epoch [1438/3000]: 100%|██████████| 9/9 [00:00<00:00, 91.38it/s, loss=0.982]\n"
          ]
        },
        {
          "output_type": "stream",
          "name": "stdout",
          "text": [
            "Epoch [1438/3000]: Train loss: 1.0645, Valid loss: 1.2091\n"
          ]
        },
        {
          "output_type": "stream",
          "name": "stderr",
          "text": [
            "Epoch [1439/3000]: 100%|██████████| 9/9 [00:00<00:00, 98.79it/s, loss=1.12]\n"
          ]
        },
        {
          "output_type": "stream",
          "name": "stdout",
          "text": [
            "Epoch [1439/3000]: Train loss: 1.0776, Valid loss: 1.2172\n"
          ]
        },
        {
          "output_type": "stream",
          "name": "stderr",
          "text": [
            "Epoch [1440/3000]: 100%|██████████| 9/9 [00:00<00:00, 104.95it/s, loss=1.15]\n"
          ]
        },
        {
          "output_type": "stream",
          "name": "stdout",
          "text": [
            "Epoch [1440/3000]: Train loss: 1.0942, Valid loss: 1.1224\n"
          ]
        },
        {
          "output_type": "stream",
          "name": "stderr",
          "text": [
            "Epoch [1441/3000]: 100%|██████████| 9/9 [00:00<00:00, 91.00it/s, loss=1.16]\n"
          ]
        },
        {
          "output_type": "stream",
          "name": "stdout",
          "text": [
            "Epoch [1441/3000]: Train loss: 1.0823, Valid loss: 1.3549\n"
          ]
        },
        {
          "output_type": "stream",
          "name": "stderr",
          "text": [
            "Epoch [1442/3000]: 100%|██████████| 9/9 [00:00<00:00, 90.70it/s, loss=1.26]\n"
          ]
        },
        {
          "output_type": "stream",
          "name": "stdout",
          "text": [
            "Epoch [1442/3000]: Train loss: 1.0779, Valid loss: 1.4100\n"
          ]
        },
        {
          "output_type": "stream",
          "name": "stderr",
          "text": [
            "Epoch [1443/3000]: 100%|██████████| 9/9 [00:00<00:00, 86.82it/s, loss=1.37]\n"
          ]
        },
        {
          "output_type": "stream",
          "name": "stdout",
          "text": [
            "Epoch [1443/3000]: Train loss: 1.0913, Valid loss: 1.3392\n"
          ]
        },
        {
          "output_type": "stream",
          "name": "stderr",
          "text": [
            "Epoch [1444/3000]: 100%|██████████| 9/9 [00:00<00:00, 95.94it/s, loss=1.02]\n"
          ]
        },
        {
          "output_type": "stream",
          "name": "stdout",
          "text": [
            "Epoch [1444/3000]: Train loss: 1.0629, Valid loss: 1.2358\n"
          ]
        },
        {
          "output_type": "stream",
          "name": "stderr",
          "text": [
            "Epoch [1445/3000]: 100%|██████████| 9/9 [00:00<00:00, 96.67it/s, loss=0.908]\n"
          ]
        },
        {
          "output_type": "stream",
          "name": "stdout",
          "text": [
            "Epoch [1445/3000]: Train loss: 1.0550, Valid loss: 1.3207\n"
          ]
        },
        {
          "output_type": "stream",
          "name": "stderr",
          "text": [
            "Epoch [1446/3000]: 100%|██████████| 9/9 [00:00<00:00, 94.96it/s, loss=0.701]\n"
          ]
        },
        {
          "output_type": "stream",
          "name": "stdout",
          "text": [
            "Epoch [1446/3000]: Train loss: 1.0425, Valid loss: 1.3149\n"
          ]
        },
        {
          "output_type": "stream",
          "name": "stderr",
          "text": [
            "Epoch [1447/3000]: 100%|██████████| 9/9 [00:00<00:00, 85.79it/s, loss=1.15]\n"
          ]
        },
        {
          "output_type": "stream",
          "name": "stdout",
          "text": [
            "Epoch [1447/3000]: Train loss: 1.0771, Valid loss: 1.5674\n"
          ]
        },
        {
          "output_type": "stream",
          "name": "stderr",
          "text": [
            "Epoch [1448/3000]: 100%|██████████| 9/9 [00:00<00:00, 81.38it/s, loss=1.15]\n"
          ]
        },
        {
          "output_type": "stream",
          "name": "stdout",
          "text": [
            "Epoch [1448/3000]: Train loss: 1.0730, Valid loss: 1.3830\n"
          ]
        },
        {
          "output_type": "stream",
          "name": "stderr",
          "text": [
            "Epoch [1449/3000]: 100%|██████████| 9/9 [00:00<00:00, 81.54it/s, loss=1.04]\n"
          ]
        },
        {
          "output_type": "stream",
          "name": "stdout",
          "text": [
            "Epoch [1449/3000]: Train loss: 1.0668, Valid loss: 1.1570\n"
          ]
        },
        {
          "output_type": "stream",
          "name": "stderr",
          "text": [
            "Epoch [1450/3000]: 100%|██████████| 9/9 [00:00<00:00, 78.59it/s, loss=1.16]\n"
          ]
        },
        {
          "output_type": "stream",
          "name": "stdout",
          "text": [
            "Epoch [1450/3000]: Train loss: 1.0820, Valid loss: 1.3121\n"
          ]
        },
        {
          "output_type": "stream",
          "name": "stderr",
          "text": [
            "Epoch [1451/3000]: 100%|██████████| 9/9 [00:00<00:00, 95.92it/s, loss=0.814]\n"
          ]
        },
        {
          "output_type": "stream",
          "name": "stdout",
          "text": [
            "Epoch [1451/3000]: Train loss: 1.0538, Valid loss: 1.2504\n"
          ]
        },
        {
          "output_type": "stream",
          "name": "stderr",
          "text": [
            "Epoch [1452/3000]: 100%|██████████| 9/9 [00:00<00:00, 76.33it/s, loss=1.23]\n"
          ]
        },
        {
          "output_type": "stream",
          "name": "stdout",
          "text": [
            "Epoch [1452/3000]: Train loss: 1.0764, Valid loss: 1.2374\n"
          ]
        },
        {
          "output_type": "stream",
          "name": "stderr",
          "text": [
            "Epoch [1453/3000]: 100%|██████████| 9/9 [00:00<00:00, 80.92it/s, loss=1.25]\n"
          ]
        },
        {
          "output_type": "stream",
          "name": "stdout",
          "text": [
            "Epoch [1453/3000]: Train loss: 1.0802, Valid loss: 1.2367\n"
          ]
        },
        {
          "output_type": "stream",
          "name": "stderr",
          "text": [
            "Epoch [1454/3000]: 100%|██████████| 9/9 [00:00<00:00, 76.19it/s, loss=1.1]\n"
          ]
        },
        {
          "output_type": "stream",
          "name": "stdout",
          "text": [
            "Epoch [1454/3000]: Train loss: 1.0656, Valid loss: 1.2030\n"
          ]
        },
        {
          "output_type": "stream",
          "name": "stderr",
          "text": [
            "Epoch [1455/3000]: 100%|██████████| 9/9 [00:00<00:00, 80.23it/s, loss=0.818]\n"
          ]
        },
        {
          "output_type": "stream",
          "name": "stdout",
          "text": [
            "Epoch [1455/3000]: Train loss: 1.0590, Valid loss: 1.1851\n"
          ]
        },
        {
          "output_type": "stream",
          "name": "stderr",
          "text": [
            "Epoch [1456/3000]: 100%|██████████| 9/9 [00:00<00:00, 81.52it/s, loss=1.08]\n"
          ]
        },
        {
          "output_type": "stream",
          "name": "stdout",
          "text": [
            "Epoch [1456/3000]: Train loss: 1.0657, Valid loss: 1.6125\n"
          ]
        },
        {
          "output_type": "stream",
          "name": "stderr",
          "text": [
            "Epoch [1457/3000]: 100%|██████████| 9/9 [00:00<00:00, 82.00it/s, loss=0.831]\n"
          ]
        },
        {
          "output_type": "stream",
          "name": "stdout",
          "text": [
            "Epoch [1457/3000]: Train loss: 1.0498, Valid loss: 1.2766\n"
          ]
        },
        {
          "output_type": "stream",
          "name": "stderr",
          "text": [
            "Epoch [1458/3000]: 100%|██████████| 9/9 [00:00<00:00, 75.69it/s, loss=0.937]\n"
          ]
        },
        {
          "output_type": "stream",
          "name": "stdout",
          "text": [
            "Epoch [1458/3000]: Train loss: 1.0680, Valid loss: 1.1726\n"
          ]
        },
        {
          "output_type": "stream",
          "name": "stderr",
          "text": [
            "Epoch [1459/3000]: 100%|██████████| 9/9 [00:00<00:00, 84.62it/s, loss=0.876]\n"
          ]
        },
        {
          "output_type": "stream",
          "name": "stdout",
          "text": [
            "Epoch [1459/3000]: Train loss: 1.0691, Valid loss: 1.2216\n"
          ]
        },
        {
          "output_type": "stream",
          "name": "stderr",
          "text": [
            "Epoch [1460/3000]: 100%|██████████| 9/9 [00:00<00:00, 100.22it/s, loss=1.11]\n"
          ]
        },
        {
          "output_type": "stream",
          "name": "stdout",
          "text": [
            "Epoch [1460/3000]: Train loss: 1.0887, Valid loss: 1.3868\n"
          ]
        },
        {
          "output_type": "stream",
          "name": "stderr",
          "text": [
            "Epoch [1461/3000]: 100%|██████████| 9/9 [00:00<00:00, 101.52it/s, loss=0.892]\n"
          ]
        },
        {
          "output_type": "stream",
          "name": "stdout",
          "text": [
            "Epoch [1461/3000]: Train loss: 1.0665, Valid loss: 1.1394\n"
          ]
        },
        {
          "output_type": "stream",
          "name": "stderr",
          "text": [
            "Epoch [1462/3000]: 100%|██████████| 9/9 [00:00<00:00, 86.17it/s, loss=0.84]\n"
          ]
        },
        {
          "output_type": "stream",
          "name": "stdout",
          "text": [
            "Epoch [1462/3000]: Train loss: 1.0493, Valid loss: 1.2400\n"
          ]
        },
        {
          "output_type": "stream",
          "name": "stderr",
          "text": [
            "Epoch [1463/3000]: 100%|██████████| 9/9 [00:00<00:00, 85.73it/s, loss=1.03]\n"
          ]
        },
        {
          "output_type": "stream",
          "name": "stdout",
          "text": [
            "Epoch [1463/3000]: Train loss: 1.0673, Valid loss: 1.7444\n"
          ]
        },
        {
          "output_type": "stream",
          "name": "stderr",
          "text": [
            "Epoch [1464/3000]: 100%|██████████| 9/9 [00:00<00:00, 101.14it/s, loss=1.1]\n"
          ]
        },
        {
          "output_type": "stream",
          "name": "stdout",
          "text": [
            "Epoch [1464/3000]: Train loss: 1.0763, Valid loss: 1.5180\n"
          ]
        },
        {
          "output_type": "stream",
          "name": "stderr",
          "text": [
            "Epoch [1465/3000]: 100%|██████████| 9/9 [00:00<00:00, 107.57it/s, loss=1.13]\n"
          ]
        },
        {
          "output_type": "stream",
          "name": "stdout",
          "text": [
            "Epoch [1465/3000]: Train loss: 1.0733, Valid loss: 1.2417\n"
          ]
        },
        {
          "output_type": "stream",
          "name": "stderr",
          "text": [
            "Epoch [1466/3000]: 100%|██████████| 9/9 [00:00<00:00, 80.68it/s, loss=0.87]\n"
          ]
        },
        {
          "output_type": "stream",
          "name": "stdout",
          "text": [
            "Epoch [1466/3000]: Train loss: 1.0585, Valid loss: 1.2328\n"
          ]
        },
        {
          "output_type": "stream",
          "name": "stderr",
          "text": [
            "Epoch [1467/3000]: 100%|██████████| 9/9 [00:00<00:00, 83.68it/s, loss=0.942]\n"
          ]
        },
        {
          "output_type": "stream",
          "name": "stdout",
          "text": [
            "Epoch [1467/3000]: Train loss: 1.0600, Valid loss: 1.1929\n"
          ]
        },
        {
          "output_type": "stream",
          "name": "stderr",
          "text": [
            "Epoch [1468/3000]: 100%|██████████| 9/9 [00:00<00:00, 77.33it/s, loss=1.13]\n"
          ]
        },
        {
          "output_type": "stream",
          "name": "stdout",
          "text": [
            "Epoch [1468/3000]: Train loss: 1.0759, Valid loss: 1.2965\n"
          ]
        },
        {
          "output_type": "stream",
          "name": "stderr",
          "text": [
            "Epoch [1469/3000]: 100%|██████████| 9/9 [00:00<00:00, 84.78it/s, loss=0.999]\n"
          ]
        },
        {
          "output_type": "stream",
          "name": "stdout",
          "text": [
            "Epoch [1469/3000]: Train loss: 1.0591, Valid loss: 1.3782\n"
          ]
        },
        {
          "output_type": "stream",
          "name": "stderr",
          "text": [
            "Epoch [1470/3000]: 100%|██████████| 9/9 [00:00<00:00, 73.73it/s, loss=1.34]\n"
          ]
        },
        {
          "output_type": "stream",
          "name": "stdout",
          "text": [
            "Epoch [1470/3000]: Train loss: 1.0798, Valid loss: 1.5792\n"
          ]
        },
        {
          "output_type": "stream",
          "name": "stderr",
          "text": [
            "Epoch [1471/3000]: 100%|██████████| 9/9 [00:00<00:00, 83.28it/s, loss=1.24]\n"
          ]
        },
        {
          "output_type": "stream",
          "name": "stdout",
          "text": [
            "Epoch [1471/3000]: Train loss: 1.0852, Valid loss: 1.2511\n"
          ]
        },
        {
          "output_type": "stream",
          "name": "stderr",
          "text": [
            "Epoch [1472/3000]: 100%|██████████| 9/9 [00:00<00:00, 95.51it/s, loss=1.04]\n"
          ]
        },
        {
          "output_type": "stream",
          "name": "stdout",
          "text": [
            "Epoch [1472/3000]: Train loss: 1.0784, Valid loss: 1.2570\n"
          ]
        },
        {
          "output_type": "stream",
          "name": "stderr",
          "text": [
            "Epoch [1473/3000]: 100%|██████████| 9/9 [00:00<00:00, 98.41it/s, loss=0.892]\n"
          ]
        },
        {
          "output_type": "stream",
          "name": "stdout",
          "text": [
            "Epoch [1473/3000]: Train loss: 1.0581, Valid loss: 1.5150\n"
          ]
        },
        {
          "output_type": "stream",
          "name": "stderr",
          "text": [
            "Epoch [1474/3000]: 100%|██████████| 9/9 [00:00<00:00, 73.45it/s, loss=0.851]\n"
          ]
        },
        {
          "output_type": "stream",
          "name": "stdout",
          "text": [
            "Epoch [1474/3000]: Train loss: 1.0545, Valid loss: 1.5437\n"
          ]
        },
        {
          "output_type": "stream",
          "name": "stderr",
          "text": [
            "Epoch [1475/3000]: 100%|██████████| 9/9 [00:00<00:00, 91.51it/s, loss=1.15]\n"
          ]
        },
        {
          "output_type": "stream",
          "name": "stdout",
          "text": [
            "Epoch [1475/3000]: Train loss: 1.0968, Valid loss: 1.1477\n"
          ]
        },
        {
          "output_type": "stream",
          "name": "stderr",
          "text": [
            "Epoch [1476/3000]: 100%|██████████| 9/9 [00:00<00:00, 78.93it/s, loss=1.03]\n"
          ]
        },
        {
          "output_type": "stream",
          "name": "stdout",
          "text": [
            "Epoch [1476/3000]: Train loss: 1.0809, Valid loss: 1.3875\n"
          ]
        },
        {
          "output_type": "stream",
          "name": "stderr",
          "text": [
            "Epoch [1477/3000]: 100%|██████████| 9/9 [00:00<00:00, 111.17it/s, loss=0.904]\n"
          ]
        },
        {
          "output_type": "stream",
          "name": "stdout",
          "text": [
            "Epoch [1477/3000]: Train loss: 1.0571, Valid loss: 1.2534\n"
          ]
        },
        {
          "output_type": "stream",
          "name": "stderr",
          "text": [
            "Epoch [1478/3000]: 100%|██████████| 9/9 [00:00<00:00, 114.52it/s, loss=0.8]\n"
          ]
        },
        {
          "output_type": "stream",
          "name": "stdout",
          "text": [
            "Epoch [1478/3000]: Train loss: 1.0818, Valid loss: 1.2610\n"
          ]
        },
        {
          "output_type": "stream",
          "name": "stderr",
          "text": [
            "Epoch [1479/3000]: 100%|██████████| 9/9 [00:00<00:00, 105.20it/s, loss=1.52]\n"
          ]
        },
        {
          "output_type": "stream",
          "name": "stdout",
          "text": [
            "Epoch [1479/3000]: Train loss: 1.1104, Valid loss: 1.3470\n"
          ]
        },
        {
          "output_type": "stream",
          "name": "stderr",
          "text": [
            "Epoch [1480/3000]: 100%|██████████| 9/9 [00:00<00:00, 111.90it/s, loss=1.37]"
          ]
        },
        {
          "output_type": "stream",
          "name": "stdout",
          "text": [
            "Epoch [1480/3000]: Train loss: 1.0811, Valid loss: 1.2292"
          ]
        },
        {
          "output_type": "stream",
          "name": "stderr",
          "text": [
            "\n"
          ]
        },
        {
          "output_type": "stream",
          "name": "stdout",
          "text": [
            "\n"
          ]
        },
        {
          "output_type": "stream",
          "name": "stderr",
          "text": [
            "Epoch [1481/3000]: 100%|██████████| 9/9 [00:00<00:00, 114.72it/s, loss=1.18]\n"
          ]
        },
        {
          "output_type": "stream",
          "name": "stdout",
          "text": [
            "Epoch [1481/3000]: Train loss: 1.0698, Valid loss: 1.2476\n"
          ]
        },
        {
          "output_type": "stream",
          "name": "stderr",
          "text": [
            "Epoch [1482/3000]: 100%|██████████| 9/9 [00:00<00:00, 110.13it/s, loss=1.2]\n"
          ]
        },
        {
          "output_type": "stream",
          "name": "stdout",
          "text": [
            "Epoch [1482/3000]: Train loss: 1.0810, Valid loss: 1.1474\n"
          ]
        },
        {
          "output_type": "stream",
          "name": "stderr",
          "text": [
            "Epoch [1483/3000]: 100%|██████████| 9/9 [00:00<00:00, 114.33it/s, loss=0.971]\n"
          ]
        },
        {
          "output_type": "stream",
          "name": "stdout",
          "text": [
            "Epoch [1483/3000]: Train loss: 1.0650, Valid loss: 1.3438\n"
          ]
        },
        {
          "output_type": "stream",
          "name": "stderr",
          "text": [
            "Epoch [1484/3000]: 100%|██████████| 9/9 [00:00<00:00, 96.81it/s, loss=1.51]\n"
          ]
        },
        {
          "output_type": "stream",
          "name": "stdout",
          "text": [
            "Epoch [1484/3000]: Train loss: 1.1190, Valid loss: 1.1688\n"
          ]
        },
        {
          "output_type": "stream",
          "name": "stderr",
          "text": [
            "Epoch [1485/3000]: 100%|██████████| 9/9 [00:00<00:00, 91.53it/s, loss=1.07]\n"
          ]
        },
        {
          "output_type": "stream",
          "name": "stdout",
          "text": [
            "Epoch [1485/3000]: Train loss: 1.0816, Valid loss: 1.3266\n"
          ]
        },
        {
          "output_type": "stream",
          "name": "stderr",
          "text": [
            "Epoch [1486/3000]: 100%|██████████| 9/9 [00:00<00:00, 81.05it/s, loss=0.922]\n"
          ]
        },
        {
          "output_type": "stream",
          "name": "stdout",
          "text": [
            "Epoch [1486/3000]: Train loss: 1.0624, Valid loss: 1.2295\n"
          ]
        },
        {
          "output_type": "stream",
          "name": "stderr",
          "text": [
            "Epoch [1487/3000]: 100%|██████████| 9/9 [00:00<00:00, 86.81it/s, loss=0.965]\n"
          ]
        },
        {
          "output_type": "stream",
          "name": "stdout",
          "text": [
            "Epoch [1487/3000]: Train loss: 1.0574, Valid loss: 1.4240\n"
          ]
        },
        {
          "output_type": "stream",
          "name": "stderr",
          "text": [
            "Epoch [1488/3000]: 100%|██████████| 9/9 [00:00<00:00, 106.14it/s, loss=1.33]\n"
          ]
        },
        {
          "output_type": "stream",
          "name": "stdout",
          "text": [
            "Epoch [1488/3000]: Train loss: 1.0914, Valid loss: 1.4663\n"
          ]
        },
        {
          "output_type": "stream",
          "name": "stderr",
          "text": [
            "Epoch [1489/3000]: 100%|██████████| 9/9 [00:00<00:00, 87.64it/s, loss=1.18]\n"
          ]
        },
        {
          "output_type": "stream",
          "name": "stdout",
          "text": [
            "Epoch [1489/3000]: Train loss: 1.0801, Valid loss: 1.2377\n"
          ]
        },
        {
          "output_type": "stream",
          "name": "stderr",
          "text": [
            "Epoch [1490/3000]: 100%|██████████| 9/9 [00:00<00:00, 114.64it/s, loss=1.23]\n"
          ]
        },
        {
          "output_type": "stream",
          "name": "stdout",
          "text": [
            "Epoch [1490/3000]: Train loss: 1.0906, Valid loss: 1.3337\n"
          ]
        },
        {
          "output_type": "stream",
          "name": "stderr",
          "text": [
            "Epoch [1491/3000]: 100%|██████████| 9/9 [00:00<00:00, 115.96it/s, loss=0.934]\n"
          ]
        },
        {
          "output_type": "stream",
          "name": "stdout",
          "text": [
            "Epoch [1491/3000]: Train loss: 1.0563, Valid loss: 1.0426\n",
            "Saving model with loss 1.043...\n"
          ]
        },
        {
          "output_type": "stream",
          "name": "stderr",
          "text": [
            "Epoch [1492/3000]: 100%|██████████| 9/9 [00:00<00:00, 90.47it/s, loss=0.693]\n"
          ]
        },
        {
          "output_type": "stream",
          "name": "stdout",
          "text": [
            "Epoch [1492/3000]: Train loss: 1.0518, Valid loss: 1.2600\n"
          ]
        },
        {
          "output_type": "stream",
          "name": "stderr",
          "text": [
            "Epoch [1493/3000]: 100%|██████████| 9/9 [00:00<00:00, 114.51it/s, loss=0.824]\n"
          ]
        },
        {
          "output_type": "stream",
          "name": "stdout",
          "text": [
            "Epoch [1493/3000]: Train loss: 1.0546, Valid loss: 1.1559\n"
          ]
        },
        {
          "output_type": "stream",
          "name": "stderr",
          "text": [
            "Epoch [1494/3000]: 100%|██████████| 9/9 [00:00<00:00, 93.38it/s, loss=0.876]\n"
          ]
        },
        {
          "output_type": "stream",
          "name": "stdout",
          "text": [
            "Epoch [1494/3000]: Train loss: 1.0647, Valid loss: 1.1838\n"
          ]
        },
        {
          "output_type": "stream",
          "name": "stderr",
          "text": [
            "Epoch [1495/3000]: 100%|██████████| 9/9 [00:00<00:00, 78.17it/s, loss=0.849]\n"
          ]
        },
        {
          "output_type": "stream",
          "name": "stdout",
          "text": [
            "Epoch [1495/3000]: Train loss: 1.0564, Valid loss: 1.2051\n"
          ]
        },
        {
          "output_type": "stream",
          "name": "stderr",
          "text": [
            "Epoch [1496/3000]: 100%|██████████| 9/9 [00:00<00:00, 100.61it/s, loss=0.9]\n"
          ]
        },
        {
          "output_type": "stream",
          "name": "stdout",
          "text": [
            "Epoch [1496/3000]: Train loss: 1.0808, Valid loss: 1.6665\n"
          ]
        },
        {
          "output_type": "stream",
          "name": "stderr",
          "text": [
            "Epoch [1497/3000]: 100%|██████████| 9/9 [00:00<00:00, 94.28it/s, loss=0.945]\n"
          ]
        },
        {
          "output_type": "stream",
          "name": "stdout",
          "text": [
            "Epoch [1497/3000]: Train loss: 1.1057, Valid loss: 1.1766\n"
          ]
        },
        {
          "output_type": "stream",
          "name": "stderr",
          "text": [
            "Epoch [1498/3000]: 100%|██████████| 9/9 [00:00<00:00, 109.56it/s, loss=0.871]\n"
          ]
        },
        {
          "output_type": "stream",
          "name": "stdout",
          "text": [
            "Epoch [1498/3000]: Train loss: 1.0478, Valid loss: 1.4655\n"
          ]
        },
        {
          "output_type": "stream",
          "name": "stderr",
          "text": [
            "Epoch [1499/3000]: 100%|██████████| 9/9 [00:00<00:00, 83.36it/s, loss=1.18]\n"
          ]
        },
        {
          "output_type": "stream",
          "name": "stdout",
          "text": [
            "Epoch [1499/3000]: Train loss: 1.0769, Valid loss: 1.0751\n"
          ]
        },
        {
          "output_type": "stream",
          "name": "stderr",
          "text": [
            "Epoch [1500/3000]: 100%|██████████| 9/9 [00:00<00:00, 93.30it/s, loss=0.815]\n"
          ]
        },
        {
          "output_type": "stream",
          "name": "stdout",
          "text": [
            "Epoch [1500/3000]: Train loss: 1.0500, Valid loss: 1.4448\n"
          ]
        },
        {
          "output_type": "stream",
          "name": "stderr",
          "text": [
            "Epoch [1501/3000]: 100%|██████████| 9/9 [00:00<00:00, 101.67it/s, loss=1.07]\n"
          ]
        },
        {
          "output_type": "stream",
          "name": "stdout",
          "text": [
            "Epoch [1501/3000]: Train loss: 1.0614, Valid loss: 1.2544\n"
          ]
        },
        {
          "output_type": "stream",
          "name": "stderr",
          "text": [
            "Epoch [1502/3000]: 100%|██████████| 9/9 [00:00<00:00, 103.63it/s, loss=1.09]\n"
          ]
        },
        {
          "output_type": "stream",
          "name": "stdout",
          "text": [
            "Epoch [1502/3000]: Train loss: 1.0625, Valid loss: 1.2652\n"
          ]
        },
        {
          "output_type": "stream",
          "name": "stderr",
          "text": [
            "Epoch [1503/3000]: 100%|██████████| 9/9 [00:00<00:00, 75.65it/s, loss=0.764]\n"
          ]
        },
        {
          "output_type": "stream",
          "name": "stdout",
          "text": [
            "Epoch [1503/3000]: Train loss: 1.0417, Valid loss: 1.1875\n"
          ]
        },
        {
          "output_type": "stream",
          "name": "stderr",
          "text": [
            "Epoch [1504/3000]: 100%|██████████| 9/9 [00:00<00:00, 90.25it/s, loss=1.19]\n"
          ]
        },
        {
          "output_type": "stream",
          "name": "stdout",
          "text": [
            "Epoch [1504/3000]: Train loss: 1.0718, Valid loss: 1.5801\n"
          ]
        },
        {
          "output_type": "stream",
          "name": "stderr",
          "text": [
            "Epoch [1505/3000]: 100%|██████████| 9/9 [00:00<00:00, 95.37it/s, loss=1.13]\n"
          ]
        },
        {
          "output_type": "stream",
          "name": "stdout",
          "text": [
            "Epoch [1505/3000]: Train loss: 1.0763, Valid loss: 1.6386\n"
          ]
        },
        {
          "output_type": "stream",
          "name": "stderr",
          "text": [
            "Epoch [1506/3000]: 100%|██████████| 9/9 [00:00<00:00, 99.21it/s, loss=1.19]\n"
          ]
        },
        {
          "output_type": "stream",
          "name": "stdout",
          "text": [
            "Epoch [1506/3000]: Train loss: 1.1141, Valid loss: 1.3713\n"
          ]
        },
        {
          "output_type": "stream",
          "name": "stderr",
          "text": [
            "Epoch [1507/3000]: 100%|██████████| 9/9 [00:00<00:00, 86.41it/s, loss=1.15]\n"
          ]
        },
        {
          "output_type": "stream",
          "name": "stdout",
          "text": [
            "Epoch [1507/3000]: Train loss: 1.0837, Valid loss: 1.2188\n"
          ]
        },
        {
          "output_type": "stream",
          "name": "stderr",
          "text": [
            "Epoch [1508/3000]: 100%|██████████| 9/9 [00:00<00:00, 102.30it/s, loss=0.901]\n"
          ]
        },
        {
          "output_type": "stream",
          "name": "stdout",
          "text": [
            "Epoch [1508/3000]: Train loss: 1.0531, Valid loss: 1.4479\n"
          ]
        },
        {
          "output_type": "stream",
          "name": "stderr",
          "text": [
            "Epoch [1509/3000]: 100%|██████████| 9/9 [00:00<00:00, 96.66it/s, loss=1.55]\n"
          ]
        },
        {
          "output_type": "stream",
          "name": "stdout",
          "text": [
            "Epoch [1509/3000]: Train loss: 1.0857, Valid loss: 1.2472\n"
          ]
        },
        {
          "output_type": "stream",
          "name": "stderr",
          "text": [
            "Epoch [1510/3000]: 100%|██████████| 9/9 [00:00<00:00, 85.02it/s, loss=1.28]\n"
          ]
        },
        {
          "output_type": "stream",
          "name": "stdout",
          "text": [
            "Epoch [1510/3000]: Train loss: 1.0833, Valid loss: 1.2752\n"
          ]
        },
        {
          "output_type": "stream",
          "name": "stderr",
          "text": [
            "Epoch [1511/3000]: 100%|██████████| 9/9 [00:00<00:00, 80.67it/s, loss=1.04]\n"
          ]
        },
        {
          "output_type": "stream",
          "name": "stdout",
          "text": [
            "Epoch [1511/3000]: Train loss: 1.0823, Valid loss: 1.2771\n"
          ]
        },
        {
          "output_type": "stream",
          "name": "stderr",
          "text": [
            "Epoch [1512/3000]: 100%|██████████| 9/9 [00:00<00:00, 81.83it/s, loss=1.01]\n"
          ]
        },
        {
          "output_type": "stream",
          "name": "stdout",
          "text": [
            "Epoch [1512/3000]: Train loss: 1.0680, Valid loss: 1.0543\n"
          ]
        },
        {
          "output_type": "stream",
          "name": "stderr",
          "text": [
            "Epoch [1513/3000]: 100%|██████████| 9/9 [00:00<00:00, 108.49it/s, loss=1.06]\n"
          ]
        },
        {
          "output_type": "stream",
          "name": "stdout",
          "text": [
            "Epoch [1513/3000]: Train loss: 1.0807, Valid loss: 1.3455\n"
          ]
        },
        {
          "output_type": "stream",
          "name": "stderr",
          "text": [
            "Epoch [1514/3000]: 100%|██████████| 9/9 [00:00<00:00, 103.85it/s, loss=1.43]\n"
          ]
        },
        {
          "output_type": "stream",
          "name": "stdout",
          "text": [
            "Epoch [1514/3000]: Train loss: 1.1105, Valid loss: 1.1479\n"
          ]
        },
        {
          "output_type": "stream",
          "name": "stderr",
          "text": [
            "Epoch [1515/3000]: 100%|██████████| 9/9 [00:00<00:00, 100.13it/s, loss=1.65]\n"
          ]
        },
        {
          "output_type": "stream",
          "name": "stdout",
          "text": [
            "Epoch [1515/3000]: Train loss: 1.1128, Valid loss: 1.2826\n"
          ]
        },
        {
          "output_type": "stream",
          "name": "stderr",
          "text": [
            "Epoch [1516/3000]: 100%|██████████| 9/9 [00:00<00:00, 101.99it/s, loss=1.27]\n"
          ]
        },
        {
          "output_type": "stream",
          "name": "stdout",
          "text": [
            "Epoch [1516/3000]: Train loss: 1.1169, Valid loss: 1.4671\n"
          ]
        },
        {
          "output_type": "stream",
          "name": "stderr",
          "text": [
            "Epoch [1517/3000]: 100%|██████████| 9/9 [00:00<00:00, 83.48it/s, loss=0.929]\n"
          ]
        },
        {
          "output_type": "stream",
          "name": "stdout",
          "text": [
            "Epoch [1517/3000]: Train loss: 1.0894, Valid loss: 1.1298\n"
          ]
        },
        {
          "output_type": "stream",
          "name": "stderr",
          "text": [
            "Epoch [1518/3000]: 100%|██████████| 9/9 [00:00<00:00, 94.41it/s, loss=0.888]\n"
          ]
        },
        {
          "output_type": "stream",
          "name": "stdout",
          "text": [
            "Epoch [1518/3000]: Train loss: 1.0644, Valid loss: 1.3115\n"
          ]
        },
        {
          "output_type": "stream",
          "name": "stderr",
          "text": [
            "Epoch [1519/3000]: 100%|██████████| 9/9 [00:00<00:00, 104.29it/s, loss=1.04]\n"
          ]
        },
        {
          "output_type": "stream",
          "name": "stdout",
          "text": [
            "Epoch [1519/3000]: Train loss: 1.0701, Valid loss: 1.1586\n"
          ]
        },
        {
          "output_type": "stream",
          "name": "stderr",
          "text": [
            "Epoch [1520/3000]: 100%|██████████| 9/9 [00:00<00:00, 102.39it/s, loss=1.23]\n"
          ]
        },
        {
          "output_type": "stream",
          "name": "stdout",
          "text": [
            "Epoch [1520/3000]: Train loss: 1.0754, Valid loss: 1.5633\n"
          ]
        },
        {
          "output_type": "stream",
          "name": "stderr",
          "text": [
            "Epoch [1521/3000]: 100%|██████████| 9/9 [00:00<00:00, 78.37it/s, loss=0.976]\n"
          ]
        },
        {
          "output_type": "stream",
          "name": "stdout",
          "text": [
            "Epoch [1521/3000]: Train loss: 1.0562, Valid loss: 1.1496\n"
          ]
        },
        {
          "output_type": "stream",
          "name": "stderr",
          "text": [
            "Epoch [1522/3000]: 100%|██████████| 9/9 [00:00<00:00, 81.18it/s, loss=1.13]\n"
          ]
        },
        {
          "output_type": "stream",
          "name": "stdout",
          "text": [
            "Epoch [1522/3000]: Train loss: 1.0613, Valid loss: 1.1030\n"
          ]
        },
        {
          "output_type": "stream",
          "name": "stderr",
          "text": [
            "Epoch [1523/3000]: 100%|██████████| 9/9 [00:00<00:00, 92.82it/s, loss=1.3]\n"
          ]
        },
        {
          "output_type": "stream",
          "name": "stdout",
          "text": [
            "Epoch [1523/3000]: Train loss: 1.0715, Valid loss: 1.3218\n"
          ]
        },
        {
          "output_type": "stream",
          "name": "stderr",
          "text": [
            "Epoch [1524/3000]: 100%|██████████| 9/9 [00:00<00:00, 101.35it/s, loss=1.15]\n"
          ]
        },
        {
          "output_type": "stream",
          "name": "stdout",
          "text": [
            "Epoch [1524/3000]: Train loss: 1.0820, Valid loss: 1.2217\n"
          ]
        },
        {
          "output_type": "stream",
          "name": "stderr",
          "text": [
            "Epoch [1525/3000]: 100%|██████████| 9/9 [00:00<00:00, 104.32it/s, loss=1.06]\n"
          ]
        },
        {
          "output_type": "stream",
          "name": "stdout",
          "text": [
            "Epoch [1525/3000]: Train loss: 1.0617, Valid loss: 1.2831\n"
          ]
        },
        {
          "output_type": "stream",
          "name": "stderr",
          "text": [
            "Epoch [1526/3000]: 100%|██████████| 9/9 [00:00<00:00, 94.22it/s, loss=0.964]\n"
          ]
        },
        {
          "output_type": "stream",
          "name": "stdout",
          "text": [
            "Epoch [1526/3000]: Train loss: 1.0545, Valid loss: 1.4461\n"
          ]
        },
        {
          "output_type": "stream",
          "name": "stderr",
          "text": [
            "Epoch [1527/3000]: 100%|██████████| 9/9 [00:00<00:00, 83.55it/s, loss=1.22]\n"
          ]
        },
        {
          "output_type": "stream",
          "name": "stdout",
          "text": [
            "Epoch [1527/3000]: Train loss: 1.0641, Valid loss: 1.2003\n"
          ]
        },
        {
          "output_type": "stream",
          "name": "stderr",
          "text": [
            "Epoch [1528/3000]: 100%|██████████| 9/9 [00:00<00:00, 103.16it/s, loss=1.11]\n"
          ]
        },
        {
          "output_type": "stream",
          "name": "stdout",
          "text": [
            "Epoch [1528/3000]: Train loss: 1.0621, Valid loss: 1.3100\n"
          ]
        },
        {
          "output_type": "stream",
          "name": "stderr",
          "text": [
            "Epoch [1529/3000]: 100%|██████████| 9/9 [00:00<00:00, 98.68it/s, loss=1.47]\n"
          ]
        },
        {
          "output_type": "stream",
          "name": "stdout",
          "text": [
            "Epoch [1529/3000]: Train loss: 1.0918, Valid loss: 1.4226\n"
          ]
        },
        {
          "output_type": "stream",
          "name": "stderr",
          "text": [
            "Epoch [1530/3000]: 100%|██████████| 9/9 [00:00<00:00, 102.74it/s, loss=0.934]\n"
          ]
        },
        {
          "output_type": "stream",
          "name": "stdout",
          "text": [
            "Epoch [1530/3000]: Train loss: 1.0747, Valid loss: 1.3884\n"
          ]
        },
        {
          "output_type": "stream",
          "name": "stderr",
          "text": [
            "Epoch [1531/3000]: 100%|██████████| 9/9 [00:00<00:00, 99.26it/s, loss=1.17]\n"
          ]
        },
        {
          "output_type": "stream",
          "name": "stdout",
          "text": [
            "Epoch [1531/3000]: Train loss: 1.0744, Valid loss: 1.1591\n"
          ]
        },
        {
          "output_type": "stream",
          "name": "stderr",
          "text": [
            "Epoch [1532/3000]: 100%|██████████| 9/9 [00:00<00:00, 91.97it/s, loss=1.2]\n"
          ]
        },
        {
          "output_type": "stream",
          "name": "stdout",
          "text": [
            "Epoch [1532/3000]: Train loss: 1.0620, Valid loss: 1.3890\n"
          ]
        },
        {
          "output_type": "stream",
          "name": "stderr",
          "text": [
            "Epoch [1533/3000]: 100%|██████████| 9/9 [00:00<00:00, 82.67it/s, loss=0.983]\n"
          ]
        },
        {
          "output_type": "stream",
          "name": "stdout",
          "text": [
            "Epoch [1533/3000]: Train loss: 1.0486, Valid loss: 1.4307\n"
          ]
        },
        {
          "output_type": "stream",
          "name": "stderr",
          "text": [
            "Epoch [1534/3000]: 100%|██████████| 9/9 [00:00<00:00, 98.95it/s, loss=1.06]\n"
          ]
        },
        {
          "output_type": "stream",
          "name": "stdout",
          "text": [
            "Epoch [1534/3000]: Train loss: 1.0596, Valid loss: 1.2555\n"
          ]
        },
        {
          "output_type": "stream",
          "name": "stderr",
          "text": [
            "Epoch [1535/3000]: 100%|██████████| 9/9 [00:00<00:00, 78.44it/s, loss=1.25]\n"
          ]
        },
        {
          "output_type": "stream",
          "name": "stdout",
          "text": [
            "Epoch [1535/3000]: Train loss: 1.0803, Valid loss: 1.3555\n"
          ]
        },
        {
          "output_type": "stream",
          "name": "stderr",
          "text": [
            "Epoch [1536/3000]: 100%|██████████| 9/9 [00:00<00:00, 97.28it/s, loss=1.09]\n"
          ]
        },
        {
          "output_type": "stream",
          "name": "stdout",
          "text": [
            "Epoch [1536/3000]: Train loss: 1.0851, Valid loss: 1.1971\n"
          ]
        },
        {
          "output_type": "stream",
          "name": "stderr",
          "text": [
            "Epoch [1537/3000]: 100%|██████████| 9/9 [00:00<00:00, 92.20it/s, loss=1.2]\n"
          ]
        },
        {
          "output_type": "stream",
          "name": "stdout",
          "text": [
            "Epoch [1537/3000]: Train loss: 1.0849, Valid loss: 1.1130\n"
          ]
        },
        {
          "output_type": "stream",
          "name": "stderr",
          "text": [
            "Epoch [1538/3000]: 100%|██████████| 9/9 [00:00<00:00, 99.88it/s, loss=1.19]\n"
          ]
        },
        {
          "output_type": "stream",
          "name": "stdout",
          "text": [
            "Epoch [1538/3000]: Train loss: 1.0635, Valid loss: 1.2998\n"
          ]
        },
        {
          "output_type": "stream",
          "name": "stderr",
          "text": [
            "Epoch [1539/3000]: 100%|██████████| 9/9 [00:00<00:00, 103.45it/s, loss=1.15]\n"
          ]
        },
        {
          "output_type": "stream",
          "name": "stdout",
          "text": [
            "Epoch [1539/3000]: Train loss: 1.0662, Valid loss: 1.5191\n"
          ]
        },
        {
          "output_type": "stream",
          "name": "stderr",
          "text": [
            "Epoch [1540/3000]: 100%|██████████| 9/9 [00:00<00:00, 108.75it/s, loss=1.1]\n"
          ]
        },
        {
          "output_type": "stream",
          "name": "stdout",
          "text": [
            "Epoch [1540/3000]: Train loss: 1.0590, Valid loss: 1.3293\n"
          ]
        },
        {
          "output_type": "stream",
          "name": "stderr",
          "text": [
            "Epoch [1541/3000]: 100%|██████████| 9/9 [00:00<00:00, 102.21it/s, loss=1.46]\n"
          ]
        },
        {
          "output_type": "stream",
          "name": "stdout",
          "text": [
            "Epoch [1541/3000]: Train loss: 1.0809, Valid loss: 1.1329\n"
          ]
        },
        {
          "output_type": "stream",
          "name": "stderr",
          "text": [
            "Epoch [1542/3000]: 100%|██████████| 9/9 [00:00<00:00, 109.56it/s, loss=1.11]\n"
          ]
        },
        {
          "output_type": "stream",
          "name": "stdout",
          "text": [
            "Epoch [1542/3000]: Train loss: 1.0681, Valid loss: 1.3250\n"
          ]
        },
        {
          "output_type": "stream",
          "name": "stderr",
          "text": [
            "Epoch [1543/3000]: 100%|██████████| 9/9 [00:00<00:00, 111.37it/s, loss=1.1]\n"
          ]
        },
        {
          "output_type": "stream",
          "name": "stdout",
          "text": [
            "Epoch [1543/3000]: Train loss: 1.0568, Valid loss: 1.1587\n"
          ]
        },
        {
          "output_type": "stream",
          "name": "stderr",
          "text": [
            "Epoch [1544/3000]: 100%|██████████| 9/9 [00:00<00:00, 104.98it/s, loss=0.933]"
          ]
        },
        {
          "output_type": "stream",
          "name": "stdout",
          "text": [
            "Epoch [1544/3000]: Train loss: 1.0483, Valid loss: 1.2113"
          ]
        },
        {
          "output_type": "stream",
          "name": "stderr",
          "text": [
            "\n"
          ]
        },
        {
          "output_type": "stream",
          "name": "stdout",
          "text": [
            "\n"
          ]
        },
        {
          "output_type": "stream",
          "name": "stderr",
          "text": [
            "Epoch [1545/3000]: 100%|██████████| 9/9 [00:00<00:00, 83.11it/s, loss=0.623]\n"
          ]
        },
        {
          "output_type": "stream",
          "name": "stdout",
          "text": [
            "Epoch [1545/3000]: Train loss: 1.0291, Valid loss: 1.1144\n"
          ]
        },
        {
          "output_type": "stream",
          "name": "stderr",
          "text": [
            "Epoch [1546/3000]: 100%|██████████| 9/9 [00:00<00:00, 113.40it/s, loss=0.887]\n"
          ]
        },
        {
          "output_type": "stream",
          "name": "stdout",
          "text": [
            "Epoch [1546/3000]: Train loss: 1.0491, Valid loss: 1.3203\n"
          ]
        },
        {
          "output_type": "stream",
          "name": "stderr",
          "text": [
            "Epoch [1547/3000]: 100%|██████████| 9/9 [00:00<00:00, 29.96it/s, loss=1.19]\n"
          ]
        },
        {
          "output_type": "stream",
          "name": "stdout",
          "text": [
            "Epoch [1547/3000]: Train loss: 1.0770, Valid loss: 1.3217\n"
          ]
        },
        {
          "output_type": "stream",
          "name": "stderr",
          "text": [
            "Epoch [1548/3000]: 100%|██████████| 9/9 [00:00<00:00, 92.73it/s, loss=1.15]\n"
          ]
        },
        {
          "output_type": "stream",
          "name": "stdout",
          "text": [
            "Epoch [1548/3000]: Train loss: 1.0651, Valid loss: 1.2123\n"
          ]
        },
        {
          "output_type": "stream",
          "name": "stderr",
          "text": [
            "Epoch [1549/3000]: 100%|██████████| 9/9 [00:00<00:00, 90.12it/s, loss=1.62]\n"
          ]
        },
        {
          "output_type": "stream",
          "name": "stdout",
          "text": [
            "Epoch [1549/3000]: Train loss: 1.0935, Valid loss: 1.1888\n"
          ]
        },
        {
          "output_type": "stream",
          "name": "stderr",
          "text": [
            "Epoch [1550/3000]: 100%|██████████| 9/9 [00:00<00:00, 75.06it/s, loss=1.48]\n"
          ]
        },
        {
          "output_type": "stream",
          "name": "stdout",
          "text": [
            "Epoch [1550/3000]: Train loss: 1.0882, Valid loss: 1.2988\n"
          ]
        },
        {
          "output_type": "stream",
          "name": "stderr",
          "text": [
            "Epoch [1551/3000]: 100%|██████████| 9/9 [00:00<00:00, 84.39it/s, loss=0.933]\n"
          ]
        },
        {
          "output_type": "stream",
          "name": "stdout",
          "text": [
            "Epoch [1551/3000]: Train loss: 1.0648, Valid loss: 1.1979\n"
          ]
        },
        {
          "output_type": "stream",
          "name": "stderr",
          "text": [
            "Epoch [1552/3000]: 100%|██████████| 9/9 [00:00<00:00, 82.45it/s, loss=0.782]\n"
          ]
        },
        {
          "output_type": "stream",
          "name": "stdout",
          "text": [
            "Epoch [1552/3000]: Train loss: 1.0674, Valid loss: 1.1009\n"
          ]
        },
        {
          "output_type": "stream",
          "name": "stderr",
          "text": [
            "Epoch [1553/3000]: 100%|██████████| 9/9 [00:00<00:00, 107.83it/s, loss=0.851]\n"
          ]
        },
        {
          "output_type": "stream",
          "name": "stdout",
          "text": [
            "Epoch [1553/3000]: Train loss: 1.0444, Valid loss: 1.3073\n"
          ]
        },
        {
          "output_type": "stream",
          "name": "stderr",
          "text": [
            "Epoch [1554/3000]: 100%|██████████| 9/9 [00:00<00:00, 73.68it/s, loss=0.906]\n"
          ]
        },
        {
          "output_type": "stream",
          "name": "stdout",
          "text": [
            "Epoch [1554/3000]: Train loss: 1.0410, Valid loss: 1.3645\n"
          ]
        },
        {
          "output_type": "stream",
          "name": "stderr",
          "text": [
            "Epoch [1555/3000]: 100%|██████████| 9/9 [00:00<00:00, 91.13it/s, loss=0.763]\n"
          ]
        },
        {
          "output_type": "stream",
          "name": "stdout",
          "text": [
            "Epoch [1555/3000]: Train loss: 1.0471, Valid loss: 1.2254\n"
          ]
        },
        {
          "output_type": "stream",
          "name": "stderr",
          "text": [
            "Epoch [1556/3000]: 100%|██████████| 9/9 [00:00<00:00, 74.93it/s, loss=1.05]\n"
          ]
        },
        {
          "output_type": "stream",
          "name": "stdout",
          "text": [
            "Epoch [1556/3000]: Train loss: 1.0931, Valid loss: 1.0785\n"
          ]
        },
        {
          "output_type": "stream",
          "name": "stderr",
          "text": [
            "Epoch [1557/3000]: 100%|██████████| 9/9 [00:00<00:00, 95.26it/s, loss=0.938]\n"
          ]
        },
        {
          "output_type": "stream",
          "name": "stdout",
          "text": [
            "Epoch [1557/3000]: Train loss: 1.0686, Valid loss: 1.2743\n"
          ]
        },
        {
          "output_type": "stream",
          "name": "stderr",
          "text": [
            "Epoch [1558/3000]: 100%|██████████| 9/9 [00:00<00:00, 81.66it/s, loss=1.28]\n"
          ]
        },
        {
          "output_type": "stream",
          "name": "stdout",
          "text": [
            "Epoch [1558/3000]: Train loss: 1.0757, Valid loss: 1.2029\n"
          ]
        },
        {
          "output_type": "stream",
          "name": "stderr",
          "text": [
            "Epoch [1559/3000]: 100%|██████████| 9/9 [00:00<00:00, 101.55it/s, loss=1.18]\n"
          ]
        },
        {
          "output_type": "stream",
          "name": "stdout",
          "text": [
            "Epoch [1559/3000]: Train loss: 1.0672, Valid loss: 1.1673\n"
          ]
        },
        {
          "output_type": "stream",
          "name": "stderr",
          "text": [
            "Epoch [1560/3000]: 100%|██████████| 9/9 [00:00<00:00, 67.96it/s, loss=0.958]\n"
          ]
        },
        {
          "output_type": "stream",
          "name": "stdout",
          "text": [
            "Epoch [1560/3000]: Train loss: 1.0872, Valid loss: 1.1635\n"
          ]
        },
        {
          "output_type": "stream",
          "name": "stderr",
          "text": [
            "Epoch [1561/3000]: 100%|██████████| 9/9 [00:00<00:00, 95.49it/s, loss=0.831]\n"
          ]
        },
        {
          "output_type": "stream",
          "name": "stdout",
          "text": [
            "Epoch [1561/3000]: Train loss: 1.0540, Valid loss: 1.2383\n"
          ]
        },
        {
          "output_type": "stream",
          "name": "stderr",
          "text": [
            "Epoch [1562/3000]: 100%|██████████| 9/9 [00:00<00:00, 100.49it/s, loss=0.827]\n"
          ]
        },
        {
          "output_type": "stream",
          "name": "stdout",
          "text": [
            "Epoch [1562/3000]: Train loss: 1.0351, Valid loss: 1.2094\n"
          ]
        },
        {
          "output_type": "stream",
          "name": "stderr",
          "text": [
            "Epoch [1563/3000]: 100%|██████████| 9/9 [00:00<00:00, 90.72it/s, loss=1.26]\n"
          ]
        },
        {
          "output_type": "stream",
          "name": "stdout",
          "text": [
            "Epoch [1563/3000]: Train loss: 1.0683, Valid loss: 1.1689\n"
          ]
        },
        {
          "output_type": "stream",
          "name": "stderr",
          "text": [
            "Epoch [1564/3000]: 100%|██████████| 9/9 [00:00<00:00, 101.86it/s, loss=0.931]\n"
          ]
        },
        {
          "output_type": "stream",
          "name": "stdout",
          "text": [
            "Epoch [1564/3000]: Train loss: 1.0460, Valid loss: 1.3701\n"
          ]
        },
        {
          "output_type": "stream",
          "name": "stderr",
          "text": [
            "Epoch [1565/3000]: 100%|██████████| 9/9 [00:00<00:00, 86.98it/s, loss=0.809]\n"
          ]
        },
        {
          "output_type": "stream",
          "name": "stdout",
          "text": [
            "Epoch [1565/3000]: Train loss: 1.0561, Valid loss: 1.5099\n"
          ]
        },
        {
          "output_type": "stream",
          "name": "stderr",
          "text": [
            "Epoch [1566/3000]: 100%|██████████| 9/9 [00:00<00:00, 94.01it/s, loss=0.949]\n"
          ]
        },
        {
          "output_type": "stream",
          "name": "stdout",
          "text": [
            "Epoch [1566/3000]: Train loss: 1.0546, Valid loss: 1.2089\n"
          ]
        },
        {
          "output_type": "stream",
          "name": "stderr",
          "text": [
            "Epoch [1567/3000]: 100%|██████████| 9/9 [00:00<00:00, 85.92it/s, loss=1.19]\n"
          ]
        },
        {
          "output_type": "stream",
          "name": "stdout",
          "text": [
            "Epoch [1567/3000]: Train loss: 1.0623, Valid loss: 1.5575\n"
          ]
        },
        {
          "output_type": "stream",
          "name": "stderr",
          "text": [
            "Epoch [1568/3000]: 100%|██████████| 9/9 [00:00<00:00, 96.12it/s, loss=1.06]\n"
          ]
        },
        {
          "output_type": "stream",
          "name": "stdout",
          "text": [
            "Epoch [1568/3000]: Train loss: 1.0546, Valid loss: 1.1621\n"
          ]
        },
        {
          "output_type": "stream",
          "name": "stderr",
          "text": [
            "Epoch [1569/3000]: 100%|██████████| 9/9 [00:00<00:00, 92.41it/s, loss=1.35]\n"
          ]
        },
        {
          "output_type": "stream",
          "name": "stdout",
          "text": [
            "Epoch [1569/3000]: Train loss: 1.0719, Valid loss: 1.3542\n"
          ]
        },
        {
          "output_type": "stream",
          "name": "stderr",
          "text": [
            "Epoch [1570/3000]: 100%|██████████| 9/9 [00:00<00:00, 83.83it/s, loss=1.08]\n"
          ]
        },
        {
          "output_type": "stream",
          "name": "stdout",
          "text": [
            "Epoch [1570/3000]: Train loss: 1.0663, Valid loss: 1.8713\n"
          ]
        },
        {
          "output_type": "stream",
          "name": "stderr",
          "text": [
            "Epoch [1571/3000]: 100%|██████████| 9/9 [00:00<00:00, 90.27it/s, loss=0.973]\n"
          ]
        },
        {
          "output_type": "stream",
          "name": "stdout",
          "text": [
            "Epoch [1571/3000]: Train loss: 1.0832, Valid loss: 1.3078\n"
          ]
        },
        {
          "output_type": "stream",
          "name": "stderr",
          "text": [
            "Epoch [1572/3000]: 100%|██████████| 9/9 [00:00<00:00, 92.11it/s, loss=1.22]\n"
          ]
        },
        {
          "output_type": "stream",
          "name": "stdout",
          "text": [
            "Epoch [1572/3000]: Train loss: 1.0949, Valid loss: 1.3833\n"
          ]
        },
        {
          "output_type": "stream",
          "name": "stderr",
          "text": [
            "Epoch [1573/3000]: 100%|██████████| 9/9 [00:00<00:00, 99.59it/s, loss=1.29]\n"
          ]
        },
        {
          "output_type": "stream",
          "name": "stdout",
          "text": [
            "Epoch [1573/3000]: Train loss: 1.0897, Valid loss: 1.2350\n"
          ]
        },
        {
          "output_type": "stream",
          "name": "stderr",
          "text": [
            "Epoch [1574/3000]: 100%|██████████| 9/9 [00:00<00:00, 102.03it/s, loss=1.18]\n"
          ]
        },
        {
          "output_type": "stream",
          "name": "stdout",
          "text": [
            "Epoch [1574/3000]: Train loss: 1.0762, Valid loss: 1.3507\n"
          ]
        },
        {
          "output_type": "stream",
          "name": "stderr",
          "text": [
            "Epoch [1575/3000]: 100%|██████████| 9/9 [00:00<00:00, 117.03it/s, loss=1.23]\n"
          ]
        },
        {
          "output_type": "stream",
          "name": "stdout",
          "text": [
            "Epoch [1575/3000]: Train loss: 1.0871, Valid loss: 1.1747\n"
          ]
        },
        {
          "output_type": "stream",
          "name": "stderr",
          "text": [
            "Epoch [1576/3000]: 100%|██████████| 9/9 [00:00<00:00, 112.08it/s, loss=1.09]\n"
          ]
        },
        {
          "output_type": "stream",
          "name": "stdout",
          "text": [
            "Epoch [1576/3000]: Train loss: 1.0558, Valid loss: 1.2441\n"
          ]
        },
        {
          "output_type": "stream",
          "name": "stderr",
          "text": [
            "Epoch [1577/3000]: 100%|██████████| 9/9 [00:00<00:00, 125.67it/s, loss=1.29]\n"
          ]
        },
        {
          "output_type": "stream",
          "name": "stdout",
          "text": [
            "Epoch [1577/3000]: Train loss: 1.0753, Valid loss: 1.1978\n"
          ]
        },
        {
          "output_type": "stream",
          "name": "stderr",
          "text": [
            "Epoch [1578/3000]: 100%|██████████| 9/9 [00:00<00:00, 103.25it/s, loss=0.939]\n"
          ]
        },
        {
          "output_type": "stream",
          "name": "stdout",
          "text": [
            "Epoch [1578/3000]: Train loss: 1.0589, Valid loss: 1.5187\n"
          ]
        },
        {
          "output_type": "stream",
          "name": "stderr",
          "text": [
            "Epoch [1579/3000]: 100%|██████████| 9/9 [00:00<00:00, 116.84it/s, loss=0.893]\n"
          ]
        },
        {
          "output_type": "stream",
          "name": "stdout",
          "text": [
            "Epoch [1579/3000]: Train loss: 1.0719, Valid loss: 1.5434\n"
          ]
        },
        {
          "output_type": "stream",
          "name": "stderr",
          "text": [
            "Epoch [1580/3000]: 100%|██████████| 9/9 [00:00<00:00, 103.47it/s, loss=1.16]\n"
          ]
        },
        {
          "output_type": "stream",
          "name": "stdout",
          "text": [
            "Epoch [1580/3000]: Train loss: 1.0762, Valid loss: 1.2566\n"
          ]
        },
        {
          "output_type": "stream",
          "name": "stderr",
          "text": [
            "Epoch [1581/3000]: 100%|██████████| 9/9 [00:00<00:00, 91.50it/s, loss=1.28]\n"
          ]
        },
        {
          "output_type": "stream",
          "name": "stdout",
          "text": [
            "Epoch [1581/3000]: Train loss: 1.0795, Valid loss: 1.4743\n"
          ]
        },
        {
          "output_type": "stream",
          "name": "stderr",
          "text": [
            "Epoch [1582/3000]: 100%|██████████| 9/9 [00:00<00:00, 84.37it/s, loss=1.13]\n"
          ]
        },
        {
          "output_type": "stream",
          "name": "stdout",
          "text": [
            "Epoch [1582/3000]: Train loss: 1.0644, Valid loss: 1.5225\n"
          ]
        },
        {
          "output_type": "stream",
          "name": "stderr",
          "text": [
            "Epoch [1583/3000]: 100%|██████████| 9/9 [00:00<00:00, 86.35it/s, loss=0.751]\n"
          ]
        },
        {
          "output_type": "stream",
          "name": "stdout",
          "text": [
            "Epoch [1583/3000]: Train loss: 1.0388, Valid loss: 1.1418\n"
          ]
        },
        {
          "output_type": "stream",
          "name": "stderr",
          "text": [
            "Epoch [1584/3000]: 100%|██████████| 9/9 [00:00<00:00, 101.00it/s, loss=1.04]\n"
          ]
        },
        {
          "output_type": "stream",
          "name": "stdout",
          "text": [
            "Epoch [1584/3000]: Train loss: 1.0786, Valid loss: 1.2429\n"
          ]
        },
        {
          "output_type": "stream",
          "name": "stderr",
          "text": [
            "Epoch [1585/3000]: 100%|██████████| 9/9 [00:00<00:00, 105.47it/s, loss=1.18]\n"
          ]
        },
        {
          "output_type": "stream",
          "name": "stdout",
          "text": [
            "Epoch [1585/3000]: Train loss: 1.0957, Valid loss: 1.4796\n"
          ]
        },
        {
          "output_type": "stream",
          "name": "stderr",
          "text": [
            "Epoch [1586/3000]: 100%|██████████| 9/9 [00:00<00:00, 103.86it/s, loss=1.17]\n"
          ]
        },
        {
          "output_type": "stream",
          "name": "stdout",
          "text": [
            "Epoch [1586/3000]: Train loss: 1.0809, Valid loss: 1.2370\n"
          ]
        },
        {
          "output_type": "stream",
          "name": "stderr",
          "text": [
            "Epoch [1587/3000]: 100%|██████████| 9/9 [00:00<00:00, 102.72it/s, loss=1.12]\n"
          ]
        },
        {
          "output_type": "stream",
          "name": "stdout",
          "text": [
            "Epoch [1587/3000]: Train loss: 1.0683, Valid loss: 1.2748\n"
          ]
        },
        {
          "output_type": "stream",
          "name": "stderr",
          "text": [
            "Epoch [1588/3000]: 100%|██████████| 9/9 [00:00<00:00, 110.84it/s, loss=0.737]\n"
          ]
        },
        {
          "output_type": "stream",
          "name": "stdout",
          "text": [
            "Epoch [1588/3000]: Train loss: 1.0380, Valid loss: 1.1375\n"
          ]
        },
        {
          "output_type": "stream",
          "name": "stderr",
          "text": [
            "Epoch [1589/3000]: 100%|██████████| 9/9 [00:00<00:00, 104.84it/s, loss=1.25]\n"
          ]
        },
        {
          "output_type": "stream",
          "name": "stdout",
          "text": [
            "Epoch [1589/3000]: Train loss: 1.0592, Valid loss: 1.4338\n"
          ]
        },
        {
          "output_type": "stream",
          "name": "stderr",
          "text": [
            "Epoch [1590/3000]: 100%|██████████| 9/9 [00:00<00:00, 108.26it/s, loss=1.06]\n"
          ]
        },
        {
          "output_type": "stream",
          "name": "stdout",
          "text": [
            "Epoch [1590/3000]: Train loss: 1.0507, Valid loss: 1.1767\n"
          ]
        },
        {
          "output_type": "stream",
          "name": "stderr",
          "text": [
            "Epoch [1591/3000]: 100%|██████████| 9/9 [00:00<00:00, 91.49it/s, loss=0.924]\n"
          ]
        },
        {
          "output_type": "stream",
          "name": "stdout",
          "text": [
            "Epoch [1591/3000]: Train loss: 1.0432, Valid loss: 1.4047\n"
          ]
        },
        {
          "output_type": "stream",
          "name": "stderr",
          "text": [
            "Epoch [1592/3000]: 100%|██████████| 9/9 [00:00<00:00, 85.91it/s, loss=1.01]\n"
          ]
        },
        {
          "output_type": "stream",
          "name": "stdout",
          "text": [
            "Epoch [1592/3000]: Train loss: 1.0531, Valid loss: 1.6009\n"
          ]
        },
        {
          "output_type": "stream",
          "name": "stderr",
          "text": [
            "Epoch [1593/3000]: 100%|██████████| 9/9 [00:00<00:00, 107.05it/s, loss=1.11]\n"
          ]
        },
        {
          "output_type": "stream",
          "name": "stdout",
          "text": [
            "Epoch [1593/3000]: Train loss: 1.0679, Valid loss: 1.1615\n"
          ]
        },
        {
          "output_type": "stream",
          "name": "stderr",
          "text": [
            "Epoch [1594/3000]: 100%|██████████| 9/9 [00:00<00:00, 92.53it/s, loss=0.931]\n"
          ]
        },
        {
          "output_type": "stream",
          "name": "stdout",
          "text": [
            "Epoch [1594/3000]: Train loss: 1.0724, Valid loss: 1.7942\n"
          ]
        },
        {
          "output_type": "stream",
          "name": "stderr",
          "text": [
            "Epoch [1595/3000]: 100%|██████████| 9/9 [00:00<00:00, 90.37it/s, loss=0.89]\n"
          ]
        },
        {
          "output_type": "stream",
          "name": "stdout",
          "text": [
            "Epoch [1595/3000]: Train loss: 1.0600, Valid loss: 1.2150\n"
          ]
        },
        {
          "output_type": "stream",
          "name": "stderr",
          "text": [
            "Epoch [1596/3000]: 100%|██████████| 9/9 [00:00<00:00, 92.18it/s, loss=0.947]\n"
          ]
        },
        {
          "output_type": "stream",
          "name": "stdout",
          "text": [
            "Epoch [1596/3000]: Train loss: 1.0572, Valid loss: 1.2615\n"
          ]
        },
        {
          "output_type": "stream",
          "name": "stderr",
          "text": [
            "Epoch [1597/3000]: 100%|██████████| 9/9 [00:00<00:00, 91.92it/s, loss=0.933]\n"
          ]
        },
        {
          "output_type": "stream",
          "name": "stdout",
          "text": [
            "Epoch [1597/3000]: Train loss: 1.0627, Valid loss: 1.3586\n"
          ]
        },
        {
          "output_type": "stream",
          "name": "stderr",
          "text": [
            "Epoch [1598/3000]: 100%|██████████| 9/9 [00:00<00:00, 87.27it/s, loss=1.12]\n"
          ]
        },
        {
          "output_type": "stream",
          "name": "stdout",
          "text": [
            "Epoch [1598/3000]: Train loss: 1.0510, Valid loss: 1.2516\n"
          ]
        },
        {
          "output_type": "stream",
          "name": "stderr",
          "text": [
            "Epoch [1599/3000]: 100%|██████████| 9/9 [00:00<00:00, 85.68it/s, loss=1.36]\n"
          ]
        },
        {
          "output_type": "stream",
          "name": "stdout",
          "text": [
            "Epoch [1599/3000]: Train loss: 1.0675, Valid loss: 1.1832\n"
          ]
        },
        {
          "output_type": "stream",
          "name": "stderr",
          "text": [
            "Epoch [1600/3000]: 100%|██████████| 9/9 [00:00<00:00, 95.55it/s, loss=1.43]\n"
          ]
        },
        {
          "output_type": "stream",
          "name": "stdout",
          "text": [
            "Epoch [1600/3000]: Train loss: 1.0766, Valid loss: 1.3562\n"
          ]
        },
        {
          "output_type": "stream",
          "name": "stderr",
          "text": [
            "Epoch [1601/3000]: 100%|██████████| 9/9 [00:00<00:00, 81.07it/s, loss=1.39]\n"
          ]
        },
        {
          "output_type": "stream",
          "name": "stdout",
          "text": [
            "Epoch [1601/3000]: Train loss: 1.0714, Valid loss: 1.4387\n"
          ]
        },
        {
          "output_type": "stream",
          "name": "stderr",
          "text": [
            "Epoch [1602/3000]: 100%|██████████| 9/9 [00:00<00:00, 87.03it/s, loss=1.07]\n"
          ]
        },
        {
          "output_type": "stream",
          "name": "stdout",
          "text": [
            "Epoch [1602/3000]: Train loss: 1.0939, Valid loss: 1.4268\n"
          ]
        },
        {
          "output_type": "stream",
          "name": "stderr",
          "text": [
            "Epoch [1603/3000]: 100%|██████████| 9/9 [00:00<00:00, 94.37it/s, loss=1.33]\n"
          ]
        },
        {
          "output_type": "stream",
          "name": "stdout",
          "text": [
            "Epoch [1603/3000]: Train loss: 1.1067, Valid loss: 1.1417\n"
          ]
        },
        {
          "output_type": "stream",
          "name": "stderr",
          "text": [
            "Epoch [1604/3000]: 100%|██████████| 9/9 [00:00<00:00, 88.80it/s, loss=0.842]\n"
          ]
        },
        {
          "output_type": "stream",
          "name": "stdout",
          "text": [
            "Epoch [1604/3000]: Train loss: 1.0570, Valid loss: 1.2143\n"
          ]
        },
        {
          "output_type": "stream",
          "name": "stderr",
          "text": [
            "Epoch [1605/3000]: 100%|██████████| 9/9 [00:00<00:00, 90.03it/s, loss=1.13]\n"
          ]
        },
        {
          "output_type": "stream",
          "name": "stdout",
          "text": [
            "Epoch [1605/3000]: Train loss: 1.0862, Valid loss: 1.3492\n"
          ]
        },
        {
          "output_type": "stream",
          "name": "stderr",
          "text": [
            "Epoch [1606/3000]: 100%|██████████| 9/9 [00:00<00:00, 97.15it/s, loss=1.01]\n"
          ]
        },
        {
          "output_type": "stream",
          "name": "stdout",
          "text": [
            "Epoch [1606/3000]: Train loss: 1.0543, Valid loss: 1.2168\n"
          ]
        },
        {
          "output_type": "stream",
          "name": "stderr",
          "text": [
            "Epoch [1607/3000]: 100%|██████████| 9/9 [00:00<00:00, 101.45it/s, loss=0.7]\n"
          ]
        },
        {
          "output_type": "stream",
          "name": "stdout",
          "text": [
            "Epoch [1607/3000]: Train loss: 1.0364, Valid loss: 1.4509\n"
          ]
        },
        {
          "output_type": "stream",
          "name": "stderr",
          "text": [
            "Epoch [1608/3000]: 100%|██████████| 9/9 [00:00<00:00, 82.63it/s, loss=1.15]\n"
          ]
        },
        {
          "output_type": "stream",
          "name": "stdout",
          "text": [
            "Epoch [1608/3000]: Train loss: 1.0700, Valid loss: 1.2920\n"
          ]
        },
        {
          "output_type": "stream",
          "name": "stderr",
          "text": [
            "Epoch [1609/3000]: 100%|██████████| 9/9 [00:00<00:00, 91.29it/s, loss=1.39]\n"
          ]
        },
        {
          "output_type": "stream",
          "name": "stdout",
          "text": [
            "Epoch [1609/3000]: Train loss: 1.0749, Valid loss: 1.1793\n"
          ]
        },
        {
          "output_type": "stream",
          "name": "stderr",
          "text": [
            "Epoch [1610/3000]: 100%|██████████| 9/9 [00:00<00:00, 106.77it/s, loss=0.98]\n"
          ]
        },
        {
          "output_type": "stream",
          "name": "stdout",
          "text": [
            "Epoch [1610/3000]: Train loss: 1.0429, Valid loss: 1.4168\n"
          ]
        },
        {
          "output_type": "stream",
          "name": "stderr",
          "text": [
            "Epoch [1611/3000]: 100%|██████████| 9/9 [00:00<00:00, 102.41it/s, loss=1.05]\n"
          ]
        },
        {
          "output_type": "stream",
          "name": "stdout",
          "text": [
            "Epoch [1611/3000]: Train loss: 1.0462, Valid loss: 1.2740\n"
          ]
        },
        {
          "output_type": "stream",
          "name": "stderr",
          "text": [
            "Epoch [1612/3000]: 100%|██████████| 9/9 [00:00<00:00, 81.62it/s, loss=1.15]\n"
          ]
        },
        {
          "output_type": "stream",
          "name": "stdout",
          "text": [
            "Epoch [1612/3000]: Train loss: 1.0623, Valid loss: 1.1428\n"
          ]
        },
        {
          "output_type": "stream",
          "name": "stderr",
          "text": [
            "Epoch [1613/3000]: 100%|██████████| 9/9 [00:00<00:00, 79.61it/s, loss=1.14]\n"
          ]
        },
        {
          "output_type": "stream",
          "name": "stdout",
          "text": [
            "Epoch [1613/3000]: Train loss: 1.0657, Valid loss: 1.1651\n"
          ]
        },
        {
          "output_type": "stream",
          "name": "stderr",
          "text": [
            "Epoch [1614/3000]: 100%|██████████| 9/9 [00:00<00:00, 90.25it/s, loss=0.827]\n"
          ]
        },
        {
          "output_type": "stream",
          "name": "stdout",
          "text": [
            "Epoch [1614/3000]: Train loss: 1.0394, Valid loss: 1.1096\n"
          ]
        },
        {
          "output_type": "stream",
          "name": "stderr",
          "text": [
            "Epoch [1615/3000]: 100%|██████████| 9/9 [00:00<00:00, 81.18it/s, loss=0.672]\n"
          ]
        },
        {
          "output_type": "stream",
          "name": "stdout",
          "text": [
            "Epoch [1615/3000]: Train loss: 1.0253, Valid loss: 1.4596\n"
          ]
        },
        {
          "output_type": "stream",
          "name": "stderr",
          "text": [
            "Epoch [1616/3000]: 100%|██████████| 9/9 [00:00<00:00, 86.96it/s, loss=0.907]\n"
          ]
        },
        {
          "output_type": "stream",
          "name": "stdout",
          "text": [
            "Epoch [1616/3000]: Train loss: 1.0426, Valid loss: 1.2003\n"
          ]
        },
        {
          "output_type": "stream",
          "name": "stderr",
          "text": [
            "Epoch [1617/3000]: 100%|██████████| 9/9 [00:00<00:00, 93.98it/s, loss=0.843]\n"
          ]
        },
        {
          "output_type": "stream",
          "name": "stdout",
          "text": [
            "Epoch [1617/3000]: Train loss: 1.0335, Valid loss: 1.2563\n"
          ]
        },
        {
          "output_type": "stream",
          "name": "stderr",
          "text": [
            "Epoch [1618/3000]: 100%|██████████| 9/9 [00:00<00:00, 92.29it/s, loss=1.19]\n"
          ]
        },
        {
          "output_type": "stream",
          "name": "stdout",
          "text": [
            "Epoch [1618/3000]: Train loss: 1.0579, Valid loss: 1.6790\n"
          ]
        },
        {
          "output_type": "stream",
          "name": "stderr",
          "text": [
            "Epoch [1619/3000]: 100%|██████████| 9/9 [00:00<00:00, 80.40it/s, loss=1.23]\n"
          ]
        },
        {
          "output_type": "stream",
          "name": "stdout",
          "text": [
            "Epoch [1619/3000]: Train loss: 1.0676, Valid loss: 1.3768\n"
          ]
        },
        {
          "output_type": "stream",
          "name": "stderr",
          "text": [
            "Epoch [1620/3000]: 100%|██████████| 9/9 [00:00<00:00, 98.90it/s, loss=0.811]\n"
          ]
        },
        {
          "output_type": "stream",
          "name": "stdout",
          "text": [
            "Epoch [1620/3000]: Train loss: 1.0599, Valid loss: 1.2032\n"
          ]
        },
        {
          "output_type": "stream",
          "name": "stderr",
          "text": [
            "Epoch [1621/3000]: 100%|██████████| 9/9 [00:00<00:00, 83.77it/s, loss=0.991]\n"
          ]
        },
        {
          "output_type": "stream",
          "name": "stdout",
          "text": [
            "Epoch [1621/3000]: Train loss: 1.0469, Valid loss: 1.2022\n"
          ]
        },
        {
          "output_type": "stream",
          "name": "stderr",
          "text": [
            "Epoch [1622/3000]: 100%|██████████| 9/9 [00:00<00:00, 97.70it/s, loss=0.866]\n"
          ]
        },
        {
          "output_type": "stream",
          "name": "stdout",
          "text": [
            "Epoch [1622/3000]: Train loss: 1.0371, Valid loss: 1.3691\n"
          ]
        },
        {
          "output_type": "stream",
          "name": "stderr",
          "text": [
            "Epoch [1623/3000]: 100%|██████████| 9/9 [00:00<00:00, 90.25it/s, loss=0.992]\n"
          ]
        },
        {
          "output_type": "stream",
          "name": "stdout",
          "text": [
            "Epoch [1623/3000]: Train loss: 1.0578, Valid loss: 1.4454\n"
          ]
        },
        {
          "output_type": "stream",
          "name": "stderr",
          "text": [
            "Epoch [1624/3000]: 100%|██████████| 9/9 [00:00<00:00, 91.09it/s, loss=1.12]\n"
          ]
        },
        {
          "output_type": "stream",
          "name": "stdout",
          "text": [
            "Epoch [1624/3000]: Train loss: 1.0621, Valid loss: 1.2898\n"
          ]
        },
        {
          "output_type": "stream",
          "name": "stderr",
          "text": [
            "Epoch [1625/3000]: 100%|██████████| 9/9 [00:00<00:00, 89.91it/s, loss=1.13]\n"
          ]
        },
        {
          "output_type": "stream",
          "name": "stdout",
          "text": [
            "Epoch [1625/3000]: Train loss: 1.0809, Valid loss: 1.4910\n"
          ]
        },
        {
          "output_type": "stream",
          "name": "stderr",
          "text": [
            "Epoch [1626/3000]: 100%|██████████| 9/9 [00:00<00:00, 85.47it/s, loss=1.45]\n"
          ]
        },
        {
          "output_type": "stream",
          "name": "stdout",
          "text": [
            "Epoch [1626/3000]: Train loss: 1.0714, Valid loss: 1.2366\n"
          ]
        },
        {
          "output_type": "stream",
          "name": "stderr",
          "text": [
            "Epoch [1627/3000]: 100%|██████████| 9/9 [00:00<00:00, 94.91it/s, loss=0.884]\n"
          ]
        },
        {
          "output_type": "stream",
          "name": "stdout",
          "text": [
            "Epoch [1627/3000]: Train loss: 1.0449, Valid loss: 1.3259\n"
          ]
        },
        {
          "output_type": "stream",
          "name": "stderr",
          "text": [
            "Epoch [1628/3000]: 100%|██████████| 9/9 [00:00<00:00, 85.95it/s, loss=1.16]\n"
          ]
        },
        {
          "output_type": "stream",
          "name": "stdout",
          "text": [
            "Epoch [1628/3000]: Train loss: 1.0710, Valid loss: 1.2698\n"
          ]
        },
        {
          "output_type": "stream",
          "name": "stderr",
          "text": [
            "Epoch [1629/3000]: 100%|██████████| 9/9 [00:00<00:00, 98.33it/s, loss=1.12]\n"
          ]
        },
        {
          "output_type": "stream",
          "name": "stdout",
          "text": [
            "Epoch [1629/3000]: Train loss: 1.0659, Valid loss: 1.2507\n"
          ]
        },
        {
          "output_type": "stream",
          "name": "stderr",
          "text": [
            "Epoch [1630/3000]: 100%|██████████| 9/9 [00:00<00:00, 90.01it/s, loss=1.25]\n"
          ]
        },
        {
          "output_type": "stream",
          "name": "stdout",
          "text": [
            "Epoch [1630/3000]: Train loss: 1.0669, Valid loss: 1.4630\n"
          ]
        },
        {
          "output_type": "stream",
          "name": "stderr",
          "text": [
            "Epoch [1631/3000]: 100%|██████████| 9/9 [00:00<00:00, 93.17it/s, loss=1.1]\n"
          ]
        },
        {
          "output_type": "stream",
          "name": "stdout",
          "text": [
            "Epoch [1631/3000]: Train loss: 1.0593, Valid loss: 1.2318\n"
          ]
        },
        {
          "output_type": "stream",
          "name": "stderr",
          "text": [
            "Epoch [1632/3000]: 100%|██████████| 9/9 [00:00<00:00, 73.58it/s, loss=0.967]\n"
          ]
        },
        {
          "output_type": "stream",
          "name": "stdout",
          "text": [
            "Epoch [1632/3000]: Train loss: 1.0486, Valid loss: 1.4185\n"
          ]
        },
        {
          "output_type": "stream",
          "name": "stderr",
          "text": [
            "Epoch [1633/3000]: 100%|██████████| 9/9 [00:00<00:00, 72.44it/s, loss=1.03]\n"
          ]
        },
        {
          "output_type": "stream",
          "name": "stdout",
          "text": [
            "Epoch [1633/3000]: Train loss: 1.0699, Valid loss: 1.1888\n"
          ]
        },
        {
          "output_type": "stream",
          "name": "stderr",
          "text": [
            "Epoch [1634/3000]: 100%|██████████| 9/9 [00:00<00:00, 80.73it/s, loss=1.11]\n"
          ]
        },
        {
          "output_type": "stream",
          "name": "stdout",
          "text": [
            "Epoch [1634/3000]: Train loss: 1.0586, Valid loss: 1.2053\n"
          ]
        },
        {
          "output_type": "stream",
          "name": "stderr",
          "text": [
            "Epoch [1635/3000]: 100%|██████████| 9/9 [00:00<00:00, 112.77it/s, loss=0.739]\n"
          ]
        },
        {
          "output_type": "stream",
          "name": "stdout",
          "text": [
            "Epoch [1635/3000]: Train loss: 1.0347, Valid loss: 1.2172\n"
          ]
        },
        {
          "output_type": "stream",
          "name": "stderr",
          "text": [
            "Epoch [1636/3000]: 100%|██████████| 9/9 [00:00<00:00, 92.40it/s, loss=0.71]\n"
          ]
        },
        {
          "output_type": "stream",
          "name": "stdout",
          "text": [
            "Epoch [1636/3000]: Train loss: 1.0303, Valid loss: 1.4699\n"
          ]
        },
        {
          "output_type": "stream",
          "name": "stderr",
          "text": [
            "Epoch [1637/3000]: 100%|██████████| 9/9 [00:00<00:00, 103.30it/s, loss=1.16]\n"
          ]
        },
        {
          "output_type": "stream",
          "name": "stdout",
          "text": [
            "Epoch [1637/3000]: Train loss: 1.0819, Valid loss: 1.2646\n"
          ]
        },
        {
          "output_type": "stream",
          "name": "stderr",
          "text": [
            "Epoch [1638/3000]: 100%|██████████| 9/9 [00:00<00:00, 95.03it/s, loss=1.01]\n"
          ]
        },
        {
          "output_type": "stream",
          "name": "stdout",
          "text": [
            "Epoch [1638/3000]: Train loss: 1.0461, Valid loss: 1.1678\n"
          ]
        },
        {
          "output_type": "stream",
          "name": "stderr",
          "text": [
            "Epoch [1639/3000]: 100%|██████████| 9/9 [00:00<00:00, 82.58it/s, loss=1.32]\n"
          ]
        },
        {
          "output_type": "stream",
          "name": "stdout",
          "text": [
            "Epoch [1639/3000]: Train loss: 1.0662, Valid loss: 1.4899\n"
          ]
        },
        {
          "output_type": "stream",
          "name": "stderr",
          "text": [
            "Epoch [1640/3000]: 100%|██████████| 9/9 [00:00<00:00, 108.85it/s, loss=1.73]\n"
          ]
        },
        {
          "output_type": "stream",
          "name": "stdout",
          "text": [
            "Epoch [1640/3000]: Train loss: 1.1253, Valid loss: 1.1858\n"
          ]
        },
        {
          "output_type": "stream",
          "name": "stderr",
          "text": [
            "Epoch [1641/3000]: 100%|██████████| 9/9 [00:00<00:00, 113.65it/s, loss=1.23]\n"
          ]
        },
        {
          "output_type": "stream",
          "name": "stdout",
          "text": [
            "Epoch [1641/3000]: Train loss: 1.0857, Valid loss: 1.1579\n"
          ]
        },
        {
          "output_type": "stream",
          "name": "stderr",
          "text": [
            "Epoch [1642/3000]: 100%|██████████| 9/9 [00:00<00:00, 115.58it/s, loss=1.26]\n"
          ]
        },
        {
          "output_type": "stream",
          "name": "stdout",
          "text": [
            "Epoch [1642/3000]: Train loss: 1.0705, Valid loss: 1.2620\n"
          ]
        },
        {
          "output_type": "stream",
          "name": "stderr",
          "text": [
            "Epoch [1643/3000]: 100%|██████████| 9/9 [00:00<00:00, 104.15it/s, loss=0.98]\n"
          ]
        },
        {
          "output_type": "stream",
          "name": "stdout",
          "text": [
            "Epoch [1643/3000]: Train loss: 1.0465, Valid loss: 1.1601\n"
          ]
        },
        {
          "output_type": "stream",
          "name": "stderr",
          "text": [
            "Epoch [1644/3000]: 100%|██████████| 9/9 [00:00<00:00, 102.95it/s, loss=1.1]\n"
          ]
        },
        {
          "output_type": "stream",
          "name": "stdout",
          "text": [
            "Epoch [1644/3000]: Train loss: 1.0552, Valid loss: 1.1551\n"
          ]
        },
        {
          "output_type": "stream",
          "name": "stderr",
          "text": [
            "Epoch [1645/3000]: 100%|██████████| 9/9 [00:00<00:00, 118.23it/s, loss=0.768]\n"
          ]
        },
        {
          "output_type": "stream",
          "name": "stdout",
          "text": [
            "Epoch [1645/3000]: Train loss: 1.0298, Valid loss: 1.1057\n"
          ]
        },
        {
          "output_type": "stream",
          "name": "stderr",
          "text": [
            "Epoch [1646/3000]: 100%|██████████| 9/9 [00:00<00:00, 116.15it/s, loss=1.16]\n"
          ]
        },
        {
          "output_type": "stream",
          "name": "stdout",
          "text": [
            "Epoch [1646/3000]: Train loss: 1.0508, Valid loss: 1.0652\n"
          ]
        },
        {
          "output_type": "stream",
          "name": "stderr",
          "text": [
            "Epoch [1647/3000]: 100%|██████████| 9/9 [00:00<00:00, 114.70it/s, loss=0.959]\n"
          ]
        },
        {
          "output_type": "stream",
          "name": "stdout",
          "text": [
            "Epoch [1647/3000]: Train loss: 1.0393, Valid loss: 1.2605\n"
          ]
        },
        {
          "output_type": "stream",
          "name": "stderr",
          "text": [
            "Epoch [1648/3000]: 100%|██████████| 9/9 [00:00<00:00, 107.85it/s, loss=1.04]\n"
          ]
        },
        {
          "output_type": "stream",
          "name": "stdout",
          "text": [
            "Epoch [1648/3000]: Train loss: 1.0518, Valid loss: 1.3417\n"
          ]
        },
        {
          "output_type": "stream",
          "name": "stderr",
          "text": [
            "Epoch [1649/3000]: 100%|██████████| 9/9 [00:00<00:00, 92.65it/s, loss=1.11]\n"
          ]
        },
        {
          "output_type": "stream",
          "name": "stdout",
          "text": [
            "Epoch [1649/3000]: Train loss: 1.0573, Valid loss: 1.1417\n"
          ]
        },
        {
          "output_type": "stream",
          "name": "stderr",
          "text": [
            "Epoch [1650/3000]: 100%|██████████| 9/9 [00:00<00:00, 94.57it/s, loss=1.1]\n"
          ]
        },
        {
          "output_type": "stream",
          "name": "stdout",
          "text": [
            "Epoch [1650/3000]: Train loss: 1.0517, Valid loss: 1.3212\n"
          ]
        },
        {
          "output_type": "stream",
          "name": "stderr",
          "text": [
            "Epoch [1651/3000]: 100%|██████████| 9/9 [00:00<00:00, 84.14it/s, loss=1.15]\n"
          ]
        },
        {
          "output_type": "stream",
          "name": "stdout",
          "text": [
            "Epoch [1651/3000]: Train loss: 1.0525, Valid loss: 1.4144\n"
          ]
        },
        {
          "output_type": "stream",
          "name": "stderr",
          "text": [
            "Epoch [1652/3000]: 100%|██████████| 9/9 [00:00<00:00, 85.53it/s, loss=0.911]\n"
          ]
        },
        {
          "output_type": "stream",
          "name": "stdout",
          "text": [
            "Epoch [1652/3000]: Train loss: 1.0406, Valid loss: 1.2909\n"
          ]
        },
        {
          "output_type": "stream",
          "name": "stderr",
          "text": [
            "Epoch [1653/3000]: 100%|██████████| 9/9 [00:00<00:00, 93.43it/s, loss=0.844]\n"
          ]
        },
        {
          "output_type": "stream",
          "name": "stdout",
          "text": [
            "Epoch [1653/3000]: Train loss: 1.0433, Valid loss: 1.2351\n"
          ]
        },
        {
          "output_type": "stream",
          "name": "stderr",
          "text": [
            "Epoch [1654/3000]: 100%|██████████| 9/9 [00:00<00:00, 97.81it/s, loss=1.44]\n"
          ]
        },
        {
          "output_type": "stream",
          "name": "stdout",
          "text": [
            "Epoch [1654/3000]: Train loss: 1.0716, Valid loss: 1.2529\n"
          ]
        },
        {
          "output_type": "stream",
          "name": "stderr",
          "text": [
            "Epoch [1655/3000]: 100%|██████████| 9/9 [00:00<00:00, 91.75it/s, loss=0.94]\n"
          ]
        },
        {
          "output_type": "stream",
          "name": "stdout",
          "text": [
            "Epoch [1655/3000]: Train loss: 1.0365, Valid loss: 1.0888\n"
          ]
        },
        {
          "output_type": "stream",
          "name": "stderr",
          "text": [
            "Epoch [1656/3000]: 100%|██████████| 9/9 [00:00<00:00, 71.20it/s, loss=1.25]\n"
          ]
        },
        {
          "output_type": "stream",
          "name": "stdout",
          "text": [
            "Epoch [1656/3000]: Train loss: 1.0602, Valid loss: 1.3354\n"
          ]
        },
        {
          "output_type": "stream",
          "name": "stderr",
          "text": [
            "Epoch [1657/3000]: 100%|██████████| 9/9 [00:00<00:00, 90.67it/s, loss=0.98]\n"
          ]
        },
        {
          "output_type": "stream",
          "name": "stdout",
          "text": [
            "Epoch [1657/3000]: Train loss: 1.0418, Valid loss: 1.0937\n"
          ]
        },
        {
          "output_type": "stream",
          "name": "stderr",
          "text": [
            "Epoch [1658/3000]: 100%|██████████| 9/9 [00:00<00:00, 94.13it/s, loss=1.27]\n"
          ]
        },
        {
          "output_type": "stream",
          "name": "stdout",
          "text": [
            "Epoch [1658/3000]: Train loss: 1.0660, Valid loss: 1.2868\n"
          ]
        },
        {
          "output_type": "stream",
          "name": "stderr",
          "text": [
            "Epoch [1659/3000]: 100%|██████████| 9/9 [00:00<00:00, 85.74it/s, loss=1.44]\n"
          ]
        },
        {
          "output_type": "stream",
          "name": "stdout",
          "text": [
            "Epoch [1659/3000]: Train loss: 1.0689, Valid loss: 1.4503\n"
          ]
        },
        {
          "output_type": "stream",
          "name": "stderr",
          "text": [
            "Epoch [1660/3000]: 100%|██████████| 9/9 [00:00<00:00, 83.33it/s, loss=1.06]\n"
          ]
        },
        {
          "output_type": "stream",
          "name": "stdout",
          "text": [
            "Epoch [1660/3000]: Train loss: 1.0434, Valid loss: 1.3140\n"
          ]
        },
        {
          "output_type": "stream",
          "name": "stderr",
          "text": [
            "Epoch [1661/3000]: 100%|██████████| 9/9 [00:00<00:00, 112.51it/s, loss=1.07]\n"
          ]
        },
        {
          "output_type": "stream",
          "name": "stdout",
          "text": [
            "Epoch [1661/3000]: Train loss: 1.0501, Valid loss: 1.2243\n"
          ]
        },
        {
          "output_type": "stream",
          "name": "stderr",
          "text": [
            "Epoch [1662/3000]: 100%|██████████| 9/9 [00:00<00:00, 110.87it/s, loss=1.12]\n"
          ]
        },
        {
          "output_type": "stream",
          "name": "stdout",
          "text": [
            "Epoch [1662/3000]: Train loss: 1.0536, Valid loss: 1.0942\n"
          ]
        },
        {
          "output_type": "stream",
          "name": "stderr",
          "text": [
            "Epoch [1663/3000]: 100%|██████████| 9/9 [00:00<00:00, 122.33it/s, loss=1.05]\n"
          ]
        },
        {
          "output_type": "stream",
          "name": "stdout",
          "text": [
            "Epoch [1663/3000]: Train loss: 1.0453, Valid loss: 1.3333\n"
          ]
        },
        {
          "output_type": "stream",
          "name": "stderr",
          "text": [
            "Epoch [1664/3000]: 100%|██████████| 9/9 [00:00<00:00, 106.43it/s, loss=1.11]\n"
          ]
        },
        {
          "output_type": "stream",
          "name": "stdout",
          "text": [
            "Epoch [1664/3000]: Train loss: 1.0480, Valid loss: 1.2201\n"
          ]
        },
        {
          "output_type": "stream",
          "name": "stderr",
          "text": [
            "Epoch [1665/3000]: 100%|██████████| 9/9 [00:00<00:00, 90.15it/s, loss=1.06]\n"
          ]
        },
        {
          "output_type": "stream",
          "name": "stdout",
          "text": [
            "Epoch [1665/3000]: Train loss: 1.0541, Valid loss: 1.2327\n"
          ]
        },
        {
          "output_type": "stream",
          "name": "stderr",
          "text": [
            "Epoch [1666/3000]: 100%|██████████| 9/9 [00:00<00:00, 115.64it/s, loss=0.926]\n"
          ]
        },
        {
          "output_type": "stream",
          "name": "stdout",
          "text": [
            "Epoch [1666/3000]: Train loss: 1.0494, Valid loss: 1.4415\n"
          ]
        },
        {
          "output_type": "stream",
          "name": "stderr",
          "text": [
            "Epoch [1667/3000]: 100%|██████████| 9/9 [00:00<00:00, 104.78it/s, loss=1.11]\n"
          ]
        },
        {
          "output_type": "stream",
          "name": "stdout",
          "text": [
            "Epoch [1667/3000]: Train loss: 1.0519, Valid loss: 1.2340\n"
          ]
        },
        {
          "output_type": "stream",
          "name": "stderr",
          "text": [
            "Epoch [1668/3000]: 100%|██████████| 9/9 [00:00<00:00, 111.13it/s, loss=1.04]\n"
          ]
        },
        {
          "output_type": "stream",
          "name": "stdout",
          "text": [
            "Epoch [1668/3000]: Train loss: 1.0507, Valid loss: 1.7032\n"
          ]
        },
        {
          "output_type": "stream",
          "name": "stderr",
          "text": [
            "Epoch [1669/3000]: 100%|██████████| 9/9 [00:00<00:00, 101.25it/s, loss=0.753]\n"
          ]
        },
        {
          "output_type": "stream",
          "name": "stdout",
          "text": [
            "Epoch [1669/3000]: Train loss: 1.0281, Valid loss: 1.1959\n"
          ]
        },
        {
          "output_type": "stream",
          "name": "stderr",
          "text": [
            "Epoch [1670/3000]: 100%|██████████| 9/9 [00:00<00:00, 99.02it/s, loss=1.15]\n"
          ]
        },
        {
          "output_type": "stream",
          "name": "stdout",
          "text": [
            "Epoch [1670/3000]: Train loss: 1.0449, Valid loss: 1.4390\n"
          ]
        },
        {
          "output_type": "stream",
          "name": "stderr",
          "text": [
            "Epoch [1671/3000]: 100%|██████████| 9/9 [00:00<00:00, 111.67it/s, loss=1.06]\n"
          ]
        },
        {
          "output_type": "stream",
          "name": "stdout",
          "text": [
            "Epoch [1671/3000]: Train loss: 1.0523, Valid loss: 1.2554\n"
          ]
        },
        {
          "output_type": "stream",
          "name": "stderr",
          "text": [
            "Epoch [1672/3000]: 100%|██████████| 9/9 [00:00<00:00, 85.85it/s, loss=0.969]\n"
          ]
        },
        {
          "output_type": "stream",
          "name": "stdout",
          "text": [
            "Epoch [1672/3000]: Train loss: 1.0528, Valid loss: 1.2439\n"
          ]
        },
        {
          "output_type": "stream",
          "name": "stderr",
          "text": [
            "Epoch [1673/3000]: 100%|██████████| 9/9 [00:00<00:00, 93.81it/s, loss=1.32]\n"
          ]
        },
        {
          "output_type": "stream",
          "name": "stdout",
          "text": [
            "Epoch [1673/3000]: Train loss: 1.0625, Valid loss: 1.1844\n"
          ]
        },
        {
          "output_type": "stream",
          "name": "stderr",
          "text": [
            "Epoch [1674/3000]: 100%|██████████| 9/9 [00:00<00:00, 94.18it/s, loss=0.745]\n"
          ]
        },
        {
          "output_type": "stream",
          "name": "stdout",
          "text": [
            "Epoch [1674/3000]: Train loss: 1.0357, Valid loss: 1.5371\n"
          ]
        },
        {
          "output_type": "stream",
          "name": "stderr",
          "text": [
            "Epoch [1675/3000]: 100%|██████████| 9/9 [00:00<00:00, 85.57it/s, loss=1.18]\n"
          ]
        },
        {
          "output_type": "stream",
          "name": "stdout",
          "text": [
            "Epoch [1675/3000]: Train loss: 1.0644, Valid loss: 1.1564\n"
          ]
        },
        {
          "output_type": "stream",
          "name": "stderr",
          "text": [
            "Epoch [1676/3000]: 100%|██████████| 9/9 [00:00<00:00, 81.52it/s, loss=1.21]\n"
          ]
        },
        {
          "output_type": "stream",
          "name": "stdout",
          "text": [
            "Epoch [1676/3000]: Train loss: 1.0607, Valid loss: 1.2390\n"
          ]
        },
        {
          "output_type": "stream",
          "name": "stderr",
          "text": [
            "Epoch [1677/3000]: 100%|██████████| 9/9 [00:00<00:00, 87.29it/s, loss=1]\n"
          ]
        },
        {
          "output_type": "stream",
          "name": "stdout",
          "text": [
            "Epoch [1677/3000]: Train loss: 1.0429, Valid loss: 1.3274\n"
          ]
        },
        {
          "output_type": "stream",
          "name": "stderr",
          "text": [
            "Epoch [1678/3000]: 100%|██████████| 9/9 [00:00<00:00, 108.67it/s, loss=1.56]\n"
          ]
        },
        {
          "output_type": "stream",
          "name": "stdout",
          "text": [
            "Epoch [1678/3000]: Train loss: 1.0788, Valid loss: 1.4277\n"
          ]
        },
        {
          "output_type": "stream",
          "name": "stderr",
          "text": [
            "Epoch [1679/3000]: 100%|██████████| 9/9 [00:00<00:00, 96.93it/s, loss=0.902]\n"
          ]
        },
        {
          "output_type": "stream",
          "name": "stdout",
          "text": [
            "Epoch [1679/3000]: Train loss: 1.0347, Valid loss: 1.2964\n"
          ]
        },
        {
          "output_type": "stream",
          "name": "stderr",
          "text": [
            "Epoch [1680/3000]: 100%|██████████| 9/9 [00:00<00:00, 93.99it/s, loss=1.07]\n"
          ]
        },
        {
          "output_type": "stream",
          "name": "stdout",
          "text": [
            "Epoch [1680/3000]: Train loss: 1.0465, Valid loss: 1.1784\n"
          ]
        },
        {
          "output_type": "stream",
          "name": "stderr",
          "text": [
            "Epoch [1681/3000]: 100%|██████████| 9/9 [00:00<00:00, 95.01it/s, loss=1.07]\n"
          ]
        },
        {
          "output_type": "stream",
          "name": "stdout",
          "text": [
            "Epoch [1681/3000]: Train loss: 1.0406, Valid loss: 1.2033\n"
          ]
        },
        {
          "output_type": "stream",
          "name": "stderr",
          "text": [
            "Epoch [1682/3000]: 100%|██████████| 9/9 [00:00<00:00, 81.67it/s, loss=1.2]\n"
          ]
        },
        {
          "output_type": "stream",
          "name": "stdout",
          "text": [
            "Epoch [1682/3000]: Train loss: 1.0574, Valid loss: 1.2209\n"
          ]
        },
        {
          "output_type": "stream",
          "name": "stderr",
          "text": [
            "Epoch [1683/3000]: 100%|██████████| 9/9 [00:00<00:00, 78.76it/s, loss=0.987]\n"
          ]
        },
        {
          "output_type": "stream",
          "name": "stdout",
          "text": [
            "Epoch [1683/3000]: Train loss: 1.0530, Valid loss: 1.1103\n"
          ]
        },
        {
          "output_type": "stream",
          "name": "stderr",
          "text": [
            "Epoch [1684/3000]: 100%|██████████| 9/9 [00:00<00:00, 82.39it/s, loss=0.934]\n"
          ]
        },
        {
          "output_type": "stream",
          "name": "stdout",
          "text": [
            "Epoch [1684/3000]: Train loss: 1.0651, Valid loss: 1.1287\n"
          ]
        },
        {
          "output_type": "stream",
          "name": "stderr",
          "text": [
            "Epoch [1685/3000]: 100%|██████████| 9/9 [00:00<00:00, 75.51it/s, loss=1.04]\n"
          ]
        },
        {
          "output_type": "stream",
          "name": "stdout",
          "text": [
            "Epoch [1685/3000]: Train loss: 1.0968, Valid loss: 1.2776\n"
          ]
        },
        {
          "output_type": "stream",
          "name": "stderr",
          "text": [
            "Epoch [1686/3000]: 100%|██████████| 9/9 [00:00<00:00, 82.37it/s, loss=1.2]\n"
          ]
        },
        {
          "output_type": "stream",
          "name": "stdout",
          "text": [
            "Epoch [1686/3000]: Train loss: 1.0897, Valid loss: 1.3863\n"
          ]
        },
        {
          "output_type": "stream",
          "name": "stderr",
          "text": [
            "Epoch [1687/3000]: 100%|██████████| 9/9 [00:00<00:00, 86.30it/s, loss=1.06]\n"
          ]
        },
        {
          "output_type": "stream",
          "name": "stdout",
          "text": [
            "Epoch [1687/3000]: Train loss: 1.0381, Valid loss: 1.3036\n"
          ]
        },
        {
          "output_type": "stream",
          "name": "stderr",
          "text": [
            "Epoch [1688/3000]: 100%|██████████| 9/9 [00:00<00:00, 105.22it/s, loss=0.931]\n"
          ]
        },
        {
          "output_type": "stream",
          "name": "stdout",
          "text": [
            "Epoch [1688/3000]: Train loss: 1.0446, Valid loss: 1.1155\n"
          ]
        },
        {
          "output_type": "stream",
          "name": "stderr",
          "text": [
            "Epoch [1689/3000]: 100%|██████████| 9/9 [00:00<00:00, 84.98it/s, loss=1.03]\n"
          ]
        },
        {
          "output_type": "stream",
          "name": "stdout",
          "text": [
            "Epoch [1689/3000]: Train loss: 1.0483, Valid loss: 1.6127\n"
          ]
        },
        {
          "output_type": "stream",
          "name": "stderr",
          "text": [
            "Epoch [1690/3000]: 100%|██████████| 9/9 [00:00<00:00, 102.25it/s, loss=0.905]\n"
          ]
        },
        {
          "output_type": "stream",
          "name": "stdout",
          "text": [
            "Epoch [1690/3000]: Train loss: 1.0294, Valid loss: 1.4797\n"
          ]
        },
        {
          "output_type": "stream",
          "name": "stderr",
          "text": [
            "Epoch [1691/3000]: 100%|██████████| 9/9 [00:00<00:00, 113.18it/s, loss=0.781]\n"
          ]
        },
        {
          "output_type": "stream",
          "name": "stdout",
          "text": [
            "Epoch [1691/3000]: Train loss: 1.0327, Valid loss: 1.0950\n"
          ]
        },
        {
          "output_type": "stream",
          "name": "stderr",
          "text": [
            "Epoch [1692/3000]: 100%|██████████| 9/9 [00:00<00:00, 96.51it/s, loss=1.02]\n"
          ]
        },
        {
          "output_type": "stream",
          "name": "stdout",
          "text": [
            "Epoch [1692/3000]: Train loss: 1.0596, Valid loss: 1.2420\n"
          ]
        },
        {
          "output_type": "stream",
          "name": "stderr",
          "text": [
            "Epoch [1693/3000]: 100%|██████████| 9/9 [00:00<00:00, 78.56it/s, loss=1.08]\n"
          ]
        },
        {
          "output_type": "stream",
          "name": "stdout",
          "text": [
            "Epoch [1693/3000]: Train loss: 1.0667, Valid loss: 1.2913\n"
          ]
        },
        {
          "output_type": "stream",
          "name": "stderr",
          "text": [
            "Epoch [1694/3000]: 100%|██████████| 9/9 [00:00<00:00, 90.03it/s, loss=1.02]\n"
          ]
        },
        {
          "output_type": "stream",
          "name": "stdout",
          "text": [
            "Epoch [1694/3000]: Train loss: 1.0464, Valid loss: 1.4623\n"
          ]
        },
        {
          "output_type": "stream",
          "name": "stderr",
          "text": [
            "Epoch [1695/3000]: 100%|██████████| 9/9 [00:00<00:00, 81.55it/s, loss=0.975]\n"
          ]
        },
        {
          "output_type": "stream",
          "name": "stdout",
          "text": [
            "Epoch [1695/3000]: Train loss: 1.0633, Valid loss: 1.5568\n"
          ]
        },
        {
          "output_type": "stream",
          "name": "stderr",
          "text": [
            "Epoch [1696/3000]: 100%|██████████| 9/9 [00:00<00:00, 97.09it/s, loss=1.4]\n"
          ]
        },
        {
          "output_type": "stream",
          "name": "stdout",
          "text": [
            "Epoch [1696/3000]: Train loss: 1.0994, Valid loss: 1.2327\n"
          ]
        },
        {
          "output_type": "stream",
          "name": "stderr",
          "text": [
            "Epoch [1697/3000]: 100%|██████████| 9/9 [00:00<00:00, 94.21it/s, loss=1.1]\n"
          ]
        },
        {
          "output_type": "stream",
          "name": "stdout",
          "text": [
            "Epoch [1697/3000]: Train loss: 1.0528, Valid loss: 1.2154\n"
          ]
        },
        {
          "output_type": "stream",
          "name": "stderr",
          "text": [
            "Epoch [1698/3000]: 100%|██████████| 9/9 [00:00<00:00, 96.47it/s, loss=0.894]\n"
          ]
        },
        {
          "output_type": "stream",
          "name": "stdout",
          "text": [
            "Epoch [1698/3000]: Train loss: 1.0450, Valid loss: 1.2151\n"
          ]
        },
        {
          "output_type": "stream",
          "name": "stderr",
          "text": [
            "Epoch [1699/3000]: 100%|██████████| 9/9 [00:00<00:00, 82.88it/s, loss=0.83]\n"
          ]
        },
        {
          "output_type": "stream",
          "name": "stdout",
          "text": [
            "Epoch [1699/3000]: Train loss: 1.0334, Valid loss: 1.1989\n"
          ]
        },
        {
          "output_type": "stream",
          "name": "stderr",
          "text": [
            "Epoch [1700/3000]: 100%|██████████| 9/9 [00:00<00:00, 94.01it/s, loss=1.12]\n"
          ]
        },
        {
          "output_type": "stream",
          "name": "stdout",
          "text": [
            "Epoch [1700/3000]: Train loss: 1.0498, Valid loss: 1.3684\n"
          ]
        },
        {
          "output_type": "stream",
          "name": "stderr",
          "text": [
            "Epoch [1701/3000]: 100%|██████████| 9/9 [00:00<00:00, 89.49it/s, loss=1.35]\n"
          ]
        },
        {
          "output_type": "stream",
          "name": "stdout",
          "text": [
            "Epoch [1701/3000]: Train loss: 1.0672, Valid loss: 1.4775\n"
          ]
        },
        {
          "output_type": "stream",
          "name": "stderr",
          "text": [
            "Epoch [1702/3000]: 100%|██████████| 9/9 [00:00<00:00, 78.98it/s, loss=0.835]\n"
          ]
        },
        {
          "output_type": "stream",
          "name": "stdout",
          "text": [
            "Epoch [1702/3000]: Train loss: 1.0534, Valid loss: 1.3950\n"
          ]
        },
        {
          "output_type": "stream",
          "name": "stderr",
          "text": [
            "Epoch [1703/3000]: 100%|██████████| 9/9 [00:00<00:00, 86.11it/s, loss=1.06]\n"
          ]
        },
        {
          "output_type": "stream",
          "name": "stdout",
          "text": [
            "Epoch [1703/3000]: Train loss: 1.0540, Valid loss: 1.4015\n"
          ]
        },
        {
          "output_type": "stream",
          "name": "stderr",
          "text": [
            "Epoch [1704/3000]: 100%|██████████| 9/9 [00:00<00:00, 81.91it/s, loss=1.08]\n"
          ]
        },
        {
          "output_type": "stream",
          "name": "stdout",
          "text": [
            "Epoch [1704/3000]: Train loss: 1.0415, Valid loss: 1.3427\n"
          ]
        },
        {
          "output_type": "stream",
          "name": "stderr",
          "text": [
            "Epoch [1705/3000]: 100%|██████████| 9/9 [00:00<00:00, 111.36it/s, loss=1.05]\n"
          ]
        },
        {
          "output_type": "stream",
          "name": "stdout",
          "text": [
            "Epoch [1705/3000]: Train loss: 1.0430, Valid loss: 1.1384\n"
          ]
        },
        {
          "output_type": "stream",
          "name": "stderr",
          "text": [
            "Epoch [1706/3000]: 100%|██████████| 9/9 [00:00<00:00, 107.07it/s, loss=1.04]\n"
          ]
        },
        {
          "output_type": "stream",
          "name": "stdout",
          "text": [
            "Epoch [1706/3000]: Train loss: 1.0482, Valid loss: 1.2312\n"
          ]
        },
        {
          "output_type": "stream",
          "name": "stderr",
          "text": [
            "Epoch [1707/3000]: 100%|██████████| 9/9 [00:00<00:00, 106.43it/s, loss=0.852]\n"
          ]
        },
        {
          "output_type": "stream",
          "name": "stdout",
          "text": [
            "Epoch [1707/3000]: Train loss: 1.0302, Valid loss: 1.0924\n"
          ]
        },
        {
          "output_type": "stream",
          "name": "stderr",
          "text": [
            "Epoch [1708/3000]: 100%|██████████| 9/9 [00:00<00:00, 111.82it/s, loss=0.646]\n"
          ]
        },
        {
          "output_type": "stream",
          "name": "stdout",
          "text": [
            "Epoch [1708/3000]: Train loss: 1.0150, Valid loss: 1.3125\n"
          ]
        },
        {
          "output_type": "stream",
          "name": "stderr",
          "text": [
            "Epoch [1709/3000]: 100%|██████████| 9/9 [00:00<00:00, 100.28it/s, loss=0.904]\n"
          ]
        },
        {
          "output_type": "stream",
          "name": "stdout",
          "text": [
            "Epoch [1709/3000]: Train loss: 1.0433, Valid loss: 1.1789\n"
          ]
        },
        {
          "output_type": "stream",
          "name": "stderr",
          "text": [
            "Epoch [1710/3000]: 100%|██████████| 9/9 [00:00<00:00, 90.50it/s, loss=0.911]\n"
          ]
        },
        {
          "output_type": "stream",
          "name": "stdout",
          "text": [
            "Epoch [1710/3000]: Train loss: 1.0358, Valid loss: 1.3578\n"
          ]
        },
        {
          "output_type": "stream",
          "name": "stderr",
          "text": [
            "Epoch [1711/3000]: 100%|██████████| 9/9 [00:00<00:00, 108.59it/s, loss=0.931]\n"
          ]
        },
        {
          "output_type": "stream",
          "name": "stdout",
          "text": [
            "Epoch [1711/3000]: Train loss: 1.0408, Valid loss: 1.3507\n"
          ]
        },
        {
          "output_type": "stream",
          "name": "stderr",
          "text": [
            "Epoch [1712/3000]: 100%|██████████| 9/9 [00:00<00:00, 118.08it/s, loss=0.999]\n"
          ]
        },
        {
          "output_type": "stream",
          "name": "stdout",
          "text": [
            "Epoch [1712/3000]: Train loss: 1.0555, Valid loss: 1.6821\n"
          ]
        },
        {
          "output_type": "stream",
          "name": "stderr",
          "text": [
            "Epoch [1713/3000]: 100%|██████████| 9/9 [00:00<00:00, 112.92it/s, loss=1.04]\n"
          ]
        },
        {
          "output_type": "stream",
          "name": "stdout",
          "text": [
            "Epoch [1713/3000]: Train loss: 1.0571, Valid loss: 1.2461\n"
          ]
        },
        {
          "output_type": "stream",
          "name": "stderr",
          "text": [
            "Epoch [1714/3000]: 100%|██████████| 9/9 [00:00<00:00, 106.86it/s, loss=0.749]\n"
          ]
        },
        {
          "output_type": "stream",
          "name": "stdout",
          "text": [
            "Epoch [1714/3000]: Train loss: 1.0203, Valid loss: 1.2151\n"
          ]
        },
        {
          "output_type": "stream",
          "name": "stderr",
          "text": [
            "Epoch [1715/3000]: 100%|██████████| 9/9 [00:00<00:00, 90.02it/s, loss=1.12]\n"
          ]
        },
        {
          "output_type": "stream",
          "name": "stdout",
          "text": [
            "Epoch [1715/3000]: Train loss: 1.0479, Valid loss: 1.4861\n"
          ]
        },
        {
          "output_type": "stream",
          "name": "stderr",
          "text": [
            "Epoch [1716/3000]: 100%|██████████| 9/9 [00:00<00:00, 105.44it/s, loss=1.25]\n"
          ]
        },
        {
          "output_type": "stream",
          "name": "stdout",
          "text": [
            "Epoch [1716/3000]: Train loss: 1.0654, Valid loss: 1.3643\n"
          ]
        },
        {
          "output_type": "stream",
          "name": "stderr",
          "text": [
            "Epoch [1717/3000]: 100%|██████████| 9/9 [00:00<00:00, 95.66it/s, loss=1.14]\n"
          ]
        },
        {
          "output_type": "stream",
          "name": "stdout",
          "text": [
            "Epoch [1717/3000]: Train loss: 1.0690, Valid loss: 1.3447\n"
          ]
        },
        {
          "output_type": "stream",
          "name": "stderr",
          "text": [
            "Epoch [1718/3000]: 100%|██████████| 9/9 [00:00<00:00, 89.22it/s, loss=0.995]\n"
          ]
        },
        {
          "output_type": "stream",
          "name": "stdout",
          "text": [
            "Epoch [1718/3000]: Train loss: 1.0491, Valid loss: 1.2308\n"
          ]
        },
        {
          "output_type": "stream",
          "name": "stderr",
          "text": [
            "Epoch [1719/3000]: 100%|██████████| 9/9 [00:00<00:00, 95.56it/s, loss=1.01]\n"
          ]
        },
        {
          "output_type": "stream",
          "name": "stdout",
          "text": [
            "Epoch [1719/3000]: Train loss: 1.0406, Valid loss: 1.1139\n"
          ]
        },
        {
          "output_type": "stream",
          "name": "stderr",
          "text": [
            "Epoch [1720/3000]: 100%|██████████| 9/9 [00:00<00:00, 31.57it/s, loss=0.844]\n"
          ]
        },
        {
          "output_type": "stream",
          "name": "stdout",
          "text": [
            "Epoch [1720/3000]: Train loss: 1.0331, Valid loss: 1.3406\n"
          ]
        },
        {
          "output_type": "stream",
          "name": "stderr",
          "text": [
            "Epoch [1721/3000]: 100%|██████████| 9/9 [00:00<00:00, 109.54it/s, loss=1.43]\n"
          ]
        },
        {
          "output_type": "stream",
          "name": "stdout",
          "text": [
            "Epoch [1721/3000]: Train loss: 1.0662, Valid loss: 1.4494\n"
          ]
        },
        {
          "output_type": "stream",
          "name": "stderr",
          "text": [
            "Epoch [1722/3000]: 100%|██████████| 9/9 [00:00<00:00, 105.29it/s, loss=1.12]"
          ]
        },
        {
          "output_type": "stream",
          "name": "stdout",
          "text": [
            "Epoch [1722/3000]: Train loss: 1.0542, Valid loss: 1.6031\n"
          ]
        },
        {
          "output_type": "stream",
          "name": "stderr",
          "text": [
            "\n",
            "Epoch [1723/3000]: 100%|██████████| 9/9 [00:00<00:00, 114.07it/s, loss=0.849]\n"
          ]
        },
        {
          "output_type": "stream",
          "name": "stdout",
          "text": [
            "Epoch [1723/3000]: Train loss: 1.0509, Valid loss: 1.2053\n"
          ]
        },
        {
          "output_type": "stream",
          "name": "stderr",
          "text": [
            "Epoch [1724/3000]: 100%|██████████| 9/9 [00:00<00:00, 92.23it/s, loss=1.18]\n"
          ]
        },
        {
          "output_type": "stream",
          "name": "stdout",
          "text": [
            "Epoch [1724/3000]: Train loss: 1.0713, Valid loss: 1.2503\n"
          ]
        },
        {
          "output_type": "stream",
          "name": "stderr",
          "text": [
            "Epoch [1725/3000]: 100%|██████████| 9/9 [00:00<00:00, 118.76it/s, loss=1.02]\n"
          ]
        },
        {
          "output_type": "stream",
          "name": "stdout",
          "text": [
            "Epoch [1725/3000]: Train loss: 1.0660, Valid loss: 1.1970\n"
          ]
        },
        {
          "output_type": "stream",
          "name": "stderr",
          "text": [
            "Epoch [1726/3000]: 100%|██████████| 9/9 [00:00<00:00, 78.68it/s, loss=1.22]\n"
          ]
        },
        {
          "output_type": "stream",
          "name": "stdout",
          "text": [
            "Epoch [1726/3000]: Train loss: 1.0569, Valid loss: 1.1967\n"
          ]
        },
        {
          "output_type": "stream",
          "name": "stderr",
          "text": [
            "Epoch [1727/3000]: 100%|██████████| 9/9 [00:00<00:00, 90.13it/s, loss=0.894]\n"
          ]
        },
        {
          "output_type": "stream",
          "name": "stdout",
          "text": [
            "Epoch [1727/3000]: Train loss: 1.0462, Valid loss: 1.3054\n"
          ]
        },
        {
          "output_type": "stream",
          "name": "stderr",
          "text": [
            "Epoch [1728/3000]: 100%|██████████| 9/9 [00:00<00:00, 94.92it/s, loss=0.936]\n"
          ]
        },
        {
          "output_type": "stream",
          "name": "stdout",
          "text": [
            "Epoch [1728/3000]: Train loss: 1.0430, Valid loss: 1.1966\n"
          ]
        },
        {
          "output_type": "stream",
          "name": "stderr",
          "text": [
            "Epoch [1729/3000]: 100%|██████████| 9/9 [00:00<00:00, 80.67it/s, loss=1.22]\n"
          ]
        },
        {
          "output_type": "stream",
          "name": "stdout",
          "text": [
            "Epoch [1729/3000]: Train loss: 1.0538, Valid loss: 1.1938\n"
          ]
        },
        {
          "output_type": "stream",
          "name": "stderr",
          "text": [
            "Epoch [1730/3000]: 100%|██████████| 9/9 [00:00<00:00, 94.96it/s, loss=0.902]\n"
          ]
        },
        {
          "output_type": "stream",
          "name": "stdout",
          "text": [
            "Epoch [1730/3000]: Train loss: 1.0392, Valid loss: 1.3981\n"
          ]
        },
        {
          "output_type": "stream",
          "name": "stderr",
          "text": [
            "Epoch [1731/3000]: 100%|██████████| 9/9 [00:00<00:00, 94.48it/s, loss=1.03]\n"
          ]
        },
        {
          "output_type": "stream",
          "name": "stdout",
          "text": [
            "Epoch [1731/3000]: Train loss: 1.0566, Valid loss: 1.1793\n"
          ]
        },
        {
          "output_type": "stream",
          "name": "stderr",
          "text": [
            "Epoch [1732/3000]: 100%|██████████| 9/9 [00:00<00:00, 83.59it/s, loss=0.909]\n"
          ]
        },
        {
          "output_type": "stream",
          "name": "stdout",
          "text": [
            "Epoch [1732/3000]: Train loss: 1.0464, Valid loss: 1.2636\n"
          ]
        },
        {
          "output_type": "stream",
          "name": "stderr",
          "text": [
            "Epoch [1733/3000]: 100%|██████████| 9/9 [00:00<00:00, 75.12it/s, loss=0.865]\n"
          ]
        },
        {
          "output_type": "stream",
          "name": "stdout",
          "text": [
            "Epoch [1733/3000]: Train loss: 1.0523, Valid loss: 1.2545\n"
          ]
        },
        {
          "output_type": "stream",
          "name": "stderr",
          "text": [
            "Epoch [1734/3000]: 100%|██████████| 9/9 [00:00<00:00, 106.93it/s, loss=0.968]\n"
          ]
        },
        {
          "output_type": "stream",
          "name": "stdout",
          "text": [
            "Epoch [1734/3000]: Train loss: 1.0481, Valid loss: 1.2482\n"
          ]
        },
        {
          "output_type": "stream",
          "name": "stderr",
          "text": [
            "Epoch [1735/3000]: 100%|██████████| 9/9 [00:00<00:00, 113.49it/s, loss=1.4]\n"
          ]
        },
        {
          "output_type": "stream",
          "name": "stdout",
          "text": [
            "Epoch [1735/3000]: Train loss: 1.0668, Valid loss: 1.8654\n"
          ]
        },
        {
          "output_type": "stream",
          "name": "stderr",
          "text": [
            "Epoch [1736/3000]: 100%|██████████| 9/9 [00:00<00:00, 108.54it/s, loss=0.933]\n"
          ]
        },
        {
          "output_type": "stream",
          "name": "stdout",
          "text": [
            "Epoch [1736/3000]: Train loss: 1.0366, Valid loss: 1.2350\n"
          ]
        },
        {
          "output_type": "stream",
          "name": "stderr",
          "text": [
            "Epoch [1737/3000]: 100%|██████████| 9/9 [00:00<00:00, 108.20it/s, loss=1.04]\n"
          ]
        },
        {
          "output_type": "stream",
          "name": "stdout",
          "text": [
            "Epoch [1737/3000]: Train loss: 1.0427, Valid loss: 1.2014\n"
          ]
        },
        {
          "output_type": "stream",
          "name": "stderr",
          "text": [
            "Epoch [1738/3000]: 100%|██████████| 9/9 [00:00<00:00, 99.76it/s, loss=0.714]\n"
          ]
        },
        {
          "output_type": "stream",
          "name": "stdout",
          "text": [
            "Epoch [1738/3000]: Train loss: 1.0220, Valid loss: 1.2112\n"
          ]
        },
        {
          "output_type": "stream",
          "name": "stderr",
          "text": [
            "Epoch [1739/3000]: 100%|██████████| 9/9 [00:00<00:00, 84.52it/s, loss=0.944]\n"
          ]
        },
        {
          "output_type": "stream",
          "name": "stdout",
          "text": [
            "Epoch [1739/3000]: Train loss: 1.0352, Valid loss: 1.4572\n"
          ]
        },
        {
          "output_type": "stream",
          "name": "stderr",
          "text": [
            "Epoch [1740/3000]: 100%|██████████| 9/9 [00:00<00:00, 90.77it/s, loss=0.737]\n"
          ]
        },
        {
          "output_type": "stream",
          "name": "stdout",
          "text": [
            "Epoch [1740/3000]: Train loss: 1.0261, Valid loss: 1.1974\n"
          ]
        },
        {
          "output_type": "stream",
          "name": "stderr",
          "text": [
            "Epoch [1741/3000]: 100%|██████████| 9/9 [00:00<00:00, 91.51it/s, loss=0.956]\n"
          ]
        },
        {
          "output_type": "stream",
          "name": "stdout",
          "text": [
            "Epoch [1741/3000]: Train loss: 1.0521, Valid loss: 1.3549\n"
          ]
        },
        {
          "output_type": "stream",
          "name": "stderr",
          "text": [
            "Epoch [1742/3000]: 100%|██████████| 9/9 [00:00<00:00, 105.86it/s, loss=1.36]\n"
          ]
        },
        {
          "output_type": "stream",
          "name": "stdout",
          "text": [
            "Epoch [1742/3000]: Train loss: 1.0724, Valid loss: 1.2784\n"
          ]
        },
        {
          "output_type": "stream",
          "name": "stderr",
          "text": [
            "Epoch [1743/3000]: 100%|██████████| 9/9 [00:00<00:00, 105.28it/s, loss=1.02]\n"
          ]
        },
        {
          "output_type": "stream",
          "name": "stdout",
          "text": [
            "Epoch [1743/3000]: Train loss: 1.0352, Valid loss: 1.2900\n"
          ]
        },
        {
          "output_type": "stream",
          "name": "stderr",
          "text": [
            "Epoch [1744/3000]: 100%|██████████| 9/9 [00:00<00:00, 80.34it/s, loss=0.85]\n"
          ]
        },
        {
          "output_type": "stream",
          "name": "stdout",
          "text": [
            "Epoch [1744/3000]: Train loss: 1.0219, Valid loss: 1.3857\n"
          ]
        },
        {
          "output_type": "stream",
          "name": "stderr",
          "text": [
            "Epoch [1745/3000]: 100%|██████████| 9/9 [00:00<00:00, 85.71it/s, loss=1.04]\n"
          ]
        },
        {
          "output_type": "stream",
          "name": "stdout",
          "text": [
            "Epoch [1745/3000]: Train loss: 1.0649, Valid loss: 1.3434\n"
          ]
        },
        {
          "output_type": "stream",
          "name": "stderr",
          "text": [
            "Epoch [1746/3000]: 100%|██████████| 9/9 [00:00<00:00, 91.79it/s, loss=0.85]\n"
          ]
        },
        {
          "output_type": "stream",
          "name": "stdout",
          "text": [
            "Epoch [1746/3000]: Train loss: 1.0249, Valid loss: 1.1106\n"
          ]
        },
        {
          "output_type": "stream",
          "name": "stderr",
          "text": [
            "Epoch [1747/3000]: 100%|██████████| 9/9 [00:00<00:00, 113.05it/s, loss=1.21]\n"
          ]
        },
        {
          "output_type": "stream",
          "name": "stdout",
          "text": [
            "Epoch [1747/3000]: Train loss: 1.0504, Valid loss: 1.8510\n"
          ]
        },
        {
          "output_type": "stream",
          "name": "stderr",
          "text": [
            "Epoch [1748/3000]: 100%|██████████| 9/9 [00:00<00:00, 116.24it/s, loss=1.69]\n"
          ]
        },
        {
          "output_type": "stream",
          "name": "stdout",
          "text": [
            "Epoch [1748/3000]: Train loss: 1.0788, Valid loss: 1.3830\n"
          ]
        },
        {
          "output_type": "stream",
          "name": "stderr",
          "text": [
            "Epoch [1749/3000]: 100%|██████████| 9/9 [00:00<00:00, 90.73it/s, loss=1]\n"
          ]
        },
        {
          "output_type": "stream",
          "name": "stdout",
          "text": [
            "Epoch [1749/3000]: Train loss: 1.0394, Valid loss: 1.2413\n"
          ]
        },
        {
          "output_type": "stream",
          "name": "stderr",
          "text": [
            "Epoch [1750/3000]: 100%|██████████| 9/9 [00:00<00:00, 95.38it/s, loss=0.79]\n"
          ]
        },
        {
          "output_type": "stream",
          "name": "stdout",
          "text": [
            "Epoch [1750/3000]: Train loss: 1.0217, Valid loss: 1.2776\n"
          ]
        },
        {
          "output_type": "stream",
          "name": "stderr",
          "text": [
            "Epoch [1751/3000]: 100%|██████████| 9/9 [00:00<00:00, 91.75it/s, loss=1.03]\n"
          ]
        },
        {
          "output_type": "stream",
          "name": "stdout",
          "text": [
            "Epoch [1751/3000]: Train loss: 1.0366, Valid loss: 1.2323\n"
          ]
        },
        {
          "output_type": "stream",
          "name": "stderr",
          "text": [
            "Epoch [1752/3000]: 100%|██████████| 9/9 [00:00<00:00, 96.91it/s, loss=0.776]\n"
          ]
        },
        {
          "output_type": "stream",
          "name": "stdout",
          "text": [
            "Epoch [1752/3000]: Train loss: 1.0180, Valid loss: 1.2422\n"
          ]
        },
        {
          "output_type": "stream",
          "name": "stderr",
          "text": [
            "Epoch [1753/3000]: 100%|██████████| 9/9 [00:00<00:00, 101.04it/s, loss=0.924]\n"
          ]
        },
        {
          "output_type": "stream",
          "name": "stdout",
          "text": [
            "Epoch [1753/3000]: Train loss: 1.0269, Valid loss: 1.4712\n"
          ]
        },
        {
          "output_type": "stream",
          "name": "stderr",
          "text": [
            "Epoch [1754/3000]: 100%|██████████| 9/9 [00:00<00:00, 72.48it/s, loss=1.59]\n"
          ]
        },
        {
          "output_type": "stream",
          "name": "stdout",
          "text": [
            "Epoch [1754/3000]: Train loss: 1.0696, Valid loss: 1.2853\n"
          ]
        },
        {
          "output_type": "stream",
          "name": "stderr",
          "text": [
            "Epoch [1755/3000]: 100%|██████████| 9/9 [00:00<00:00, 90.87it/s, loss=1.22]\n"
          ]
        },
        {
          "output_type": "stream",
          "name": "stdout",
          "text": [
            "Epoch [1755/3000]: Train loss: 1.0498, Valid loss: 1.1997\n"
          ]
        },
        {
          "output_type": "stream",
          "name": "stderr",
          "text": [
            "Epoch [1756/3000]: 100%|██████████| 9/9 [00:00<00:00, 79.96it/s, loss=1.55]\n"
          ]
        },
        {
          "output_type": "stream",
          "name": "stdout",
          "text": [
            "Epoch [1756/3000]: Train loss: 1.0727, Valid loss: 1.2038\n"
          ]
        },
        {
          "output_type": "stream",
          "name": "stderr",
          "text": [
            "Epoch [1757/3000]: 100%|██████████| 9/9 [00:00<00:00, 69.84it/s, loss=0.764]\n"
          ]
        },
        {
          "output_type": "stream",
          "name": "stdout",
          "text": [
            "Epoch [1757/3000]: Train loss: 1.0264, Valid loss: 1.2393\n"
          ]
        },
        {
          "output_type": "stream",
          "name": "stderr",
          "text": [
            "Epoch [1758/3000]: 100%|██████████| 9/9 [00:00<00:00, 82.54it/s, loss=0.755]\n"
          ]
        },
        {
          "output_type": "stream",
          "name": "stdout",
          "text": [
            "Epoch [1758/3000]: Train loss: 1.0256, Valid loss: 1.5783\n"
          ]
        },
        {
          "output_type": "stream",
          "name": "stderr",
          "text": [
            "Epoch [1759/3000]: 100%|██████████| 9/9 [00:00<00:00, 98.81it/s, loss=0.567]\n"
          ]
        },
        {
          "output_type": "stream",
          "name": "stdout",
          "text": [
            "Epoch [1759/3000]: Train loss: 1.0107, Valid loss: 1.3567\n"
          ]
        },
        {
          "output_type": "stream",
          "name": "stderr",
          "text": [
            "Epoch [1760/3000]: 100%|██████████| 9/9 [00:00<00:00, 98.78it/s, loss=0.973]\n"
          ]
        },
        {
          "output_type": "stream",
          "name": "stdout",
          "text": [
            "Epoch [1760/3000]: Train loss: 1.0554, Valid loss: 1.2139\n"
          ]
        },
        {
          "output_type": "stream",
          "name": "stderr",
          "text": [
            "Epoch [1761/3000]: 100%|██████████| 9/9 [00:00<00:00, 86.27it/s, loss=1.24]\n"
          ]
        },
        {
          "output_type": "stream",
          "name": "stdout",
          "text": [
            "Epoch [1761/3000]: Train loss: 1.0565, Valid loss: 1.2288\n"
          ]
        },
        {
          "output_type": "stream",
          "name": "stderr",
          "text": [
            "Epoch [1762/3000]: 100%|██████████| 9/9 [00:00<00:00, 97.21it/s, loss=1.25]\n"
          ]
        },
        {
          "output_type": "stream",
          "name": "stdout",
          "text": [
            "Epoch [1762/3000]: Train loss: 1.0497, Valid loss: 1.3894\n"
          ]
        },
        {
          "output_type": "stream",
          "name": "stderr",
          "text": [
            "Epoch [1763/3000]: 100%|██████████| 9/9 [00:00<00:00, 102.94it/s, loss=1.03]\n"
          ]
        },
        {
          "output_type": "stream",
          "name": "stdout",
          "text": [
            "Epoch [1763/3000]: Train loss: 1.0379, Valid loss: 1.1580\n"
          ]
        },
        {
          "output_type": "stream",
          "name": "stderr",
          "text": [
            "Epoch [1764/3000]: 100%|██████████| 9/9 [00:00<00:00, 87.54it/s, loss=1.05]\n"
          ]
        },
        {
          "output_type": "stream",
          "name": "stdout",
          "text": [
            "Epoch [1764/3000]: Train loss: 1.0388, Valid loss: 1.2570\n"
          ]
        },
        {
          "output_type": "stream",
          "name": "stderr",
          "text": [
            "Epoch [1765/3000]: 100%|██████████| 9/9 [00:00<00:00, 103.76it/s, loss=0.829]\n"
          ]
        },
        {
          "output_type": "stream",
          "name": "stdout",
          "text": [
            "Epoch [1765/3000]: Train loss: 1.0204, Valid loss: 1.1232\n"
          ]
        },
        {
          "output_type": "stream",
          "name": "stderr",
          "text": [
            "Epoch [1766/3000]: 100%|██████████| 9/9 [00:00<00:00, 112.44it/s, loss=1.04]\n"
          ]
        },
        {
          "output_type": "stream",
          "name": "stdout",
          "text": [
            "Epoch [1766/3000]: Train loss: 1.0333, Valid loss: 1.7138\n"
          ]
        },
        {
          "output_type": "stream",
          "name": "stderr",
          "text": [
            "Epoch [1767/3000]: 100%|██████████| 9/9 [00:00<00:00, 106.30it/s, loss=1.04]\n"
          ]
        },
        {
          "output_type": "stream",
          "name": "stdout",
          "text": [
            "Epoch [1767/3000]: Train loss: 1.0351, Valid loss: 1.5498\n"
          ]
        },
        {
          "output_type": "stream",
          "name": "stderr",
          "text": [
            "Epoch [1768/3000]: 100%|██████████| 9/9 [00:00<00:00, 114.91it/s, loss=0.923]\n"
          ]
        },
        {
          "output_type": "stream",
          "name": "stdout",
          "text": [
            "Epoch [1768/3000]: Train loss: 1.0294, Valid loss: 1.3675\n"
          ]
        },
        {
          "output_type": "stream",
          "name": "stderr",
          "text": [
            "Epoch [1769/3000]: 100%|██████████| 9/9 [00:00<00:00, 89.87it/s, loss=0.991]\n"
          ]
        },
        {
          "output_type": "stream",
          "name": "stdout",
          "text": [
            "Epoch [1769/3000]: Train loss: 1.0524, Valid loss: 1.5766\n"
          ]
        },
        {
          "output_type": "stream",
          "name": "stderr",
          "text": [
            "Epoch [1770/3000]: 100%|██████████| 9/9 [00:00<00:00, 85.04it/s, loss=1.16]\n"
          ]
        },
        {
          "output_type": "stream",
          "name": "stdout",
          "text": [
            "Epoch [1770/3000]: Train loss: 1.0645, Valid loss: 1.6069\n"
          ]
        },
        {
          "output_type": "stream",
          "name": "stderr",
          "text": [
            "Epoch [1771/3000]: 100%|██████████| 9/9 [00:00<00:00, 108.61it/s, loss=1.24]\n"
          ]
        },
        {
          "output_type": "stream",
          "name": "stdout",
          "text": [
            "Epoch [1771/3000]: Train loss: 1.0527, Valid loss: 1.2895\n"
          ]
        },
        {
          "output_type": "stream",
          "name": "stderr",
          "text": [
            "Epoch [1772/3000]: 100%|██████████| 9/9 [00:00<00:00, 84.26it/s, loss=1.28]\n"
          ]
        },
        {
          "output_type": "stream",
          "name": "stdout",
          "text": [
            "Epoch [1772/3000]: Train loss: 1.0580, Valid loss: 1.1366\n"
          ]
        },
        {
          "output_type": "stream",
          "name": "stderr",
          "text": [
            "Epoch [1773/3000]: 100%|██████████| 9/9 [00:00<00:00, 76.52it/s, loss=1.14]\n"
          ]
        },
        {
          "output_type": "stream",
          "name": "stdout",
          "text": [
            "Epoch [1773/3000]: Train loss: 1.0488, Valid loss: 1.1993\n"
          ]
        },
        {
          "output_type": "stream",
          "name": "stderr",
          "text": [
            "Epoch [1774/3000]: 100%|██████████| 9/9 [00:00<00:00, 68.61it/s, loss=0.936]\n"
          ]
        },
        {
          "output_type": "stream",
          "name": "stdout",
          "text": [
            "Epoch [1774/3000]: Train loss: 1.0414, Valid loss: 1.2169\n"
          ]
        },
        {
          "output_type": "stream",
          "name": "stderr",
          "text": [
            "Epoch [1775/3000]: 100%|██████████| 9/9 [00:00<00:00, 83.35it/s, loss=1.13]\n"
          ]
        },
        {
          "output_type": "stream",
          "name": "stdout",
          "text": [
            "Epoch [1775/3000]: Train loss: 1.0412, Valid loss: 1.2629\n"
          ]
        },
        {
          "output_type": "stream",
          "name": "stderr",
          "text": [
            "Epoch [1776/3000]: 100%|██████████| 9/9 [00:00<00:00, 87.01it/s, loss=0.814]\n"
          ]
        },
        {
          "output_type": "stream",
          "name": "stdout",
          "text": [
            "Epoch [1776/3000]: Train loss: 1.0303, Valid loss: 1.3450\n"
          ]
        },
        {
          "output_type": "stream",
          "name": "stderr",
          "text": [
            "Epoch [1777/3000]: 100%|██████████| 9/9 [00:00<00:00, 81.07it/s, loss=1.21]\n"
          ]
        },
        {
          "output_type": "stream",
          "name": "stdout",
          "text": [
            "Epoch [1777/3000]: Train loss: 1.0446, Valid loss: 1.3414\n"
          ]
        },
        {
          "output_type": "stream",
          "name": "stderr",
          "text": [
            "Epoch [1778/3000]: 100%|██████████| 9/9 [00:00<00:00, 92.28it/s, loss=1]\n"
          ]
        },
        {
          "output_type": "stream",
          "name": "stdout",
          "text": [
            "Epoch [1778/3000]: Train loss: 1.0342, Valid loss: 1.4133\n"
          ]
        },
        {
          "output_type": "stream",
          "name": "stderr",
          "text": [
            "Epoch [1779/3000]: 100%|██████████| 9/9 [00:00<00:00, 82.97it/s, loss=1.22]\n"
          ]
        },
        {
          "output_type": "stream",
          "name": "stdout",
          "text": [
            "Epoch [1779/3000]: Train loss: 1.0519, Valid loss: 1.3487\n"
          ]
        },
        {
          "output_type": "stream",
          "name": "stderr",
          "text": [
            "Epoch [1780/3000]: 100%|██████████| 9/9 [00:00<00:00, 91.78it/s, loss=1.48]\n"
          ]
        },
        {
          "output_type": "stream",
          "name": "stdout",
          "text": [
            "Epoch [1780/3000]: Train loss: 1.0662, Valid loss: 1.2914\n"
          ]
        },
        {
          "output_type": "stream",
          "name": "stderr",
          "text": [
            "Epoch [1781/3000]: 100%|██████████| 9/9 [00:00<00:00, 97.27it/s, loss=1.17]\n"
          ]
        },
        {
          "output_type": "stream",
          "name": "stdout",
          "text": [
            "Epoch [1781/3000]: Train loss: 1.0579, Valid loss: 1.2338\n"
          ]
        },
        {
          "output_type": "stream",
          "name": "stderr",
          "text": [
            "Epoch [1782/3000]: 100%|██████████| 9/9 [00:00<00:00, 73.80it/s, loss=0.831]\n"
          ]
        },
        {
          "output_type": "stream",
          "name": "stdout",
          "text": [
            "Epoch [1782/3000]: Train loss: 1.0416, Valid loss: 1.3150\n"
          ]
        },
        {
          "output_type": "stream",
          "name": "stderr",
          "text": [
            "Epoch [1783/3000]: 100%|██████████| 9/9 [00:00<00:00, 91.97it/s, loss=1.16]\n"
          ]
        },
        {
          "output_type": "stream",
          "name": "stdout",
          "text": [
            "Epoch [1783/3000]: Train loss: 1.0499, Valid loss: 1.1856\n"
          ]
        },
        {
          "output_type": "stream",
          "name": "stderr",
          "text": [
            "Epoch [1784/3000]: 100%|██████████| 9/9 [00:00<00:00, 84.21it/s, loss=0.869]\n"
          ]
        },
        {
          "output_type": "stream",
          "name": "stdout",
          "text": [
            "Epoch [1784/3000]: Train loss: 1.0336, Valid loss: 1.3705\n"
          ]
        },
        {
          "output_type": "stream",
          "name": "stderr",
          "text": [
            "Epoch [1785/3000]: 100%|██████████| 9/9 [00:00<00:00, 85.70it/s, loss=0.923]\n"
          ]
        },
        {
          "output_type": "stream",
          "name": "stdout",
          "text": [
            "Epoch [1785/3000]: Train loss: 1.0464, Valid loss: 1.1211\n"
          ]
        },
        {
          "output_type": "stream",
          "name": "stderr",
          "text": [
            "Epoch [1786/3000]: 100%|██████████| 9/9 [00:00<00:00, 82.83it/s, loss=1.41]\n"
          ]
        },
        {
          "output_type": "stream",
          "name": "stdout",
          "text": [
            "Epoch [1786/3000]: Train loss: 1.0743, Valid loss: 1.7422\n"
          ]
        },
        {
          "output_type": "stream",
          "name": "stderr",
          "text": [
            "Epoch [1787/3000]: 100%|██████████| 9/9 [00:00<00:00, 101.13it/s, loss=1.07]\n"
          ]
        },
        {
          "output_type": "stream",
          "name": "stdout",
          "text": [
            "Epoch [1787/3000]: Train loss: 1.0536, Valid loss: 1.2834\n"
          ]
        },
        {
          "output_type": "stream",
          "name": "stderr",
          "text": [
            "Epoch [1788/3000]: 100%|██████████| 9/9 [00:00<00:00, 83.33it/s, loss=1.18]\n"
          ]
        },
        {
          "output_type": "stream",
          "name": "stdout",
          "text": [
            "Epoch [1788/3000]: Train loss: 1.0445, Valid loss: 1.3955\n"
          ]
        },
        {
          "output_type": "stream",
          "name": "stderr",
          "text": [
            "Epoch [1789/3000]: 100%|██████████| 9/9 [00:00<00:00, 105.87it/s, loss=0.839]\n"
          ]
        },
        {
          "output_type": "stream",
          "name": "stdout",
          "text": [
            "Epoch [1789/3000]: Train loss: 1.0276, Valid loss: 1.2725\n"
          ]
        },
        {
          "output_type": "stream",
          "name": "stderr",
          "text": [
            "Epoch [1790/3000]: 100%|██████████| 9/9 [00:00<00:00, 112.81it/s, loss=0.962]\n"
          ]
        },
        {
          "output_type": "stream",
          "name": "stdout",
          "text": [
            "Epoch [1790/3000]: Train loss: 1.0325, Valid loss: 1.2510\n"
          ]
        },
        {
          "output_type": "stream",
          "name": "stderr",
          "text": [
            "Epoch [1791/3000]: 100%|██████████| 9/9 [00:00<00:00, 114.83it/s, loss=1.28]\n"
          ]
        },
        {
          "output_type": "stream",
          "name": "stdout",
          "text": [
            "Epoch [1791/3000]: Train loss: 1.0537, Valid loss: 1.0728\n"
          ]
        },
        {
          "output_type": "stream",
          "name": "stderr",
          "text": [
            "Epoch [1792/3000]: 100%|██████████| 9/9 [00:00<00:00, 112.55it/s, loss=1.17]\n"
          ]
        },
        {
          "output_type": "stream",
          "name": "stdout",
          "text": [
            "Epoch [1792/3000]: Train loss: 1.0450, Valid loss: 1.4047\n"
          ]
        },
        {
          "output_type": "stream",
          "name": "stderr",
          "text": [
            "Epoch [1793/3000]: 100%|██████████| 9/9 [00:00<00:00, 107.67it/s, loss=1.12]\n"
          ]
        },
        {
          "output_type": "stream",
          "name": "stdout",
          "text": [
            "Epoch [1793/3000]: Train loss: 1.0434, Valid loss: 1.1945\n"
          ]
        },
        {
          "output_type": "stream",
          "name": "stderr",
          "text": [
            "Epoch [1794/3000]: 100%|██████████| 9/9 [00:00<00:00, 97.32it/s, loss=0.728]\n"
          ]
        },
        {
          "output_type": "stream",
          "name": "stdout",
          "text": [
            "Epoch [1794/3000]: Train loss: 1.0161, Valid loss: 1.7352\n"
          ]
        },
        {
          "output_type": "stream",
          "name": "stderr",
          "text": [
            "Epoch [1795/3000]: 100%|██████████| 9/9 [00:00<00:00, 110.93it/s, loss=1.35]\n"
          ]
        },
        {
          "output_type": "stream",
          "name": "stdout",
          "text": [
            "Epoch [1795/3000]: Train loss: 1.0605, Valid loss: 1.1718\n"
          ]
        },
        {
          "output_type": "stream",
          "name": "stderr",
          "text": [
            "Epoch [1796/3000]: 100%|██████████| 9/9 [00:00<00:00, 112.94it/s, loss=1.32]\n"
          ]
        },
        {
          "output_type": "stream",
          "name": "stdout",
          "text": [
            "Epoch [1796/3000]: Train loss: 1.0637, Valid loss: 1.2284\n"
          ]
        },
        {
          "output_type": "stream",
          "name": "stderr",
          "text": [
            "Epoch [1797/3000]: 100%|██████████| 9/9 [00:00<00:00, 114.85it/s, loss=0.891]\n"
          ]
        },
        {
          "output_type": "stream",
          "name": "stdout",
          "text": [
            "Epoch [1797/3000]: Train loss: 1.0246, Valid loss: 1.2276\n"
          ]
        },
        {
          "output_type": "stream",
          "name": "stderr",
          "text": [
            "Epoch [1798/3000]: 100%|██████████| 9/9 [00:00<00:00, 114.11it/s, loss=0.758]\n"
          ]
        },
        {
          "output_type": "stream",
          "name": "stdout",
          "text": [
            "Epoch [1798/3000]: Train loss: 1.0133, Valid loss: 1.1904\n"
          ]
        },
        {
          "output_type": "stream",
          "name": "stderr",
          "text": [
            "Epoch [1799/3000]: 100%|██████████| 9/9 [00:00<00:00, 117.53it/s, loss=0.84]\n"
          ]
        },
        {
          "output_type": "stream",
          "name": "stdout",
          "text": [
            "Epoch [1799/3000]: Train loss: 1.0222, Valid loss: 1.2370\n"
          ]
        },
        {
          "output_type": "stream",
          "name": "stderr",
          "text": [
            "Epoch [1800/3000]: 100%|██████████| 9/9 [00:00<00:00, 113.07it/s, loss=1.04]\n"
          ]
        },
        {
          "output_type": "stream",
          "name": "stdout",
          "text": [
            "Epoch [1800/3000]: Train loss: 1.0492, Valid loss: 1.4351\n"
          ]
        },
        {
          "output_type": "stream",
          "name": "stderr",
          "text": [
            "Epoch [1801/3000]: 100%|██████████| 9/9 [00:00<00:00, 119.23it/s, loss=0.835]\n"
          ]
        },
        {
          "output_type": "stream",
          "name": "stdout",
          "text": [
            "Epoch [1801/3000]: Train loss: 1.0201, Valid loss: 1.3574\n"
          ]
        },
        {
          "output_type": "stream",
          "name": "stderr",
          "text": [
            "Epoch [1802/3000]: 100%|██████████| 9/9 [00:00<00:00, 124.47it/s, loss=1.67]\n"
          ]
        },
        {
          "output_type": "stream",
          "name": "stdout",
          "text": [
            "Epoch [1802/3000]: Train loss: 1.0743, Valid loss: 1.1603\n"
          ]
        },
        {
          "output_type": "stream",
          "name": "stderr",
          "text": [
            "Epoch [1803/3000]: 100%|██████████| 9/9 [00:00<00:00, 119.38it/s, loss=1.36]\n"
          ]
        },
        {
          "output_type": "stream",
          "name": "stdout",
          "text": [
            "Epoch [1803/3000]: Train loss: 1.0512, Valid loss: 1.2065\n"
          ]
        },
        {
          "output_type": "stream",
          "name": "stderr",
          "text": [
            "Epoch [1804/3000]: 100%|██████████| 9/9 [00:00<00:00, 86.45it/s, loss=1.28]\n"
          ]
        },
        {
          "output_type": "stream",
          "name": "stdout",
          "text": [
            "Epoch [1804/3000]: Train loss: 1.0502, Valid loss: 1.2412\n"
          ]
        },
        {
          "output_type": "stream",
          "name": "stderr",
          "text": [
            "Epoch [1805/3000]: 100%|██████████| 9/9 [00:00<00:00, 116.18it/s, loss=0.972]\n"
          ]
        },
        {
          "output_type": "stream",
          "name": "stdout",
          "text": [
            "Epoch [1805/3000]: Train loss: 1.0286, Valid loss: 1.1700\n"
          ]
        },
        {
          "output_type": "stream",
          "name": "stderr",
          "text": [
            "Epoch [1806/3000]: 100%|██████████| 9/9 [00:00<00:00, 120.44it/s, loss=1.28]\n"
          ]
        },
        {
          "output_type": "stream",
          "name": "stdout",
          "text": [
            "Epoch [1806/3000]: Train loss: 1.0459, Valid loss: 1.2442\n"
          ]
        },
        {
          "output_type": "stream",
          "name": "stderr",
          "text": [
            "Epoch [1807/3000]: 100%|██████████| 9/9 [00:00<00:00, 93.56it/s, loss=0.85]\n"
          ]
        },
        {
          "output_type": "stream",
          "name": "stdout",
          "text": [
            "Epoch [1807/3000]: Train loss: 1.0230, Valid loss: 1.0845\n"
          ]
        },
        {
          "output_type": "stream",
          "name": "stderr",
          "text": [
            "Epoch [1808/3000]: 100%|██████████| 9/9 [00:00<00:00, 94.44it/s, loss=1.14]\n"
          ]
        },
        {
          "output_type": "stream",
          "name": "stdout",
          "text": [
            "Epoch [1808/3000]: Train loss: 1.0354, Valid loss: 1.3130\n"
          ]
        },
        {
          "output_type": "stream",
          "name": "stderr",
          "text": [
            "Epoch [1809/3000]: 100%|██████████| 9/9 [00:00<00:00, 83.15it/s, loss=1.01]\n"
          ]
        },
        {
          "output_type": "stream",
          "name": "stdout",
          "text": [
            "Epoch [1809/3000]: Train loss: 1.0374, Valid loss: 1.2889\n"
          ]
        },
        {
          "output_type": "stream",
          "name": "stderr",
          "text": [
            "Epoch [1810/3000]: 100%|██████████| 9/9 [00:00<00:00, 111.52it/s, loss=0.763]\n"
          ]
        },
        {
          "output_type": "stream",
          "name": "stdout",
          "text": [
            "Epoch [1810/3000]: Train loss: 1.0208, Valid loss: 1.2513\n"
          ]
        },
        {
          "output_type": "stream",
          "name": "stderr",
          "text": [
            "Epoch [1811/3000]: 100%|██████████| 9/9 [00:00<00:00, 110.27it/s, loss=1.13]\n"
          ]
        },
        {
          "output_type": "stream",
          "name": "stdout",
          "text": [
            "Epoch [1811/3000]: Train loss: 1.0480, Valid loss: 1.1767\n"
          ]
        },
        {
          "output_type": "stream",
          "name": "stderr",
          "text": [
            "Epoch [1812/3000]: 100%|██████████| 9/9 [00:00<00:00, 96.44it/s, loss=1.38]\n"
          ]
        },
        {
          "output_type": "stream",
          "name": "stdout",
          "text": [
            "Epoch [1812/3000]: Train loss: 1.0609, Valid loss: 1.4392\n"
          ]
        },
        {
          "output_type": "stream",
          "name": "stderr",
          "text": [
            "Epoch [1813/3000]: 100%|██████████| 9/9 [00:00<00:00, 91.88it/s, loss=0.705]\n"
          ]
        },
        {
          "output_type": "stream",
          "name": "stdout",
          "text": [
            "Epoch [1813/3000]: Train loss: 1.0134, Valid loss: 1.2849\n"
          ]
        },
        {
          "output_type": "stream",
          "name": "stderr",
          "text": [
            "Epoch [1814/3000]: 100%|██████████| 9/9 [00:00<00:00, 103.69it/s, loss=0.861]\n"
          ]
        },
        {
          "output_type": "stream",
          "name": "stdout",
          "text": [
            "Epoch [1814/3000]: Train loss: 1.0245, Valid loss: 1.3878\n"
          ]
        },
        {
          "output_type": "stream",
          "name": "stderr",
          "text": [
            "Epoch [1815/3000]: 100%|██████████| 9/9 [00:00<00:00, 81.33it/s, loss=0.904]\n"
          ]
        },
        {
          "output_type": "stream",
          "name": "stdout",
          "text": [
            "Epoch [1815/3000]: Train loss: 1.0304, Valid loss: 1.2442\n"
          ]
        },
        {
          "output_type": "stream",
          "name": "stderr",
          "text": [
            "Epoch [1816/3000]: 100%|██████████| 9/9 [00:00<00:00, 92.89it/s, loss=1.22]\n"
          ]
        },
        {
          "output_type": "stream",
          "name": "stdout",
          "text": [
            "Epoch [1816/3000]: Train loss: 1.0497, Valid loss: 1.1420\n"
          ]
        },
        {
          "output_type": "stream",
          "name": "stderr",
          "text": [
            "Epoch [1817/3000]: 100%|██████████| 9/9 [00:00<00:00, 91.75it/s, loss=0.919]\n"
          ]
        },
        {
          "output_type": "stream",
          "name": "stdout",
          "text": [
            "Epoch [1817/3000]: Train loss: 1.0298, Valid loss: 1.2306\n"
          ]
        },
        {
          "output_type": "stream",
          "name": "stderr",
          "text": [
            "Epoch [1818/3000]: 100%|██████████| 9/9 [00:00<00:00, 82.02it/s, loss=1.14]\n"
          ]
        },
        {
          "output_type": "stream",
          "name": "stdout",
          "text": [
            "Epoch [1818/3000]: Train loss: 1.0395, Valid loss: 1.4873\n"
          ]
        },
        {
          "output_type": "stream",
          "name": "stderr",
          "text": [
            "Epoch [1819/3000]: 100%|██████████| 9/9 [00:00<00:00, 72.49it/s, loss=1.3]\n"
          ]
        },
        {
          "output_type": "stream",
          "name": "stdout",
          "text": [
            "Epoch [1819/3000]: Train loss: 1.0490, Valid loss: 1.2473\n"
          ]
        },
        {
          "output_type": "stream",
          "name": "stderr",
          "text": [
            "Epoch [1820/3000]: 100%|██████████| 9/9 [00:00<00:00, 99.23it/s, loss=0.755]\n"
          ]
        },
        {
          "output_type": "stream",
          "name": "stdout",
          "text": [
            "Epoch [1820/3000]: Train loss: 1.0139, Valid loss: 1.0497\n"
          ]
        },
        {
          "output_type": "stream",
          "name": "stderr",
          "text": [
            "Epoch [1821/3000]: 100%|██████████| 9/9 [00:00<00:00, 86.60it/s, loss=1.1]\n"
          ]
        },
        {
          "output_type": "stream",
          "name": "stdout",
          "text": [
            "Epoch [1821/3000]: Train loss: 1.0378, Valid loss: 1.3666\n"
          ]
        },
        {
          "output_type": "stream",
          "name": "stderr",
          "text": [
            "Epoch [1822/3000]: 100%|██████████| 9/9 [00:00<00:00, 84.06it/s, loss=0.98]\n"
          ]
        },
        {
          "output_type": "stream",
          "name": "stdout",
          "text": [
            "Epoch [1822/3000]: Train loss: 1.0343, Valid loss: 1.3471\n"
          ]
        },
        {
          "output_type": "stream",
          "name": "stderr",
          "text": [
            "Epoch [1823/3000]: 100%|██████████| 9/9 [00:00<00:00, 85.69it/s, loss=0.882]\n"
          ]
        },
        {
          "output_type": "stream",
          "name": "stdout",
          "text": [
            "Epoch [1823/3000]: Train loss: 1.0312, Valid loss: 1.1796\n"
          ]
        },
        {
          "output_type": "stream",
          "name": "stderr",
          "text": [
            "Epoch [1824/3000]: 100%|██████████| 9/9 [00:00<00:00, 94.80it/s, loss=1.18]\n"
          ]
        },
        {
          "output_type": "stream",
          "name": "stdout",
          "text": [
            "Epoch [1824/3000]: Train loss: 1.0431, Valid loss: 1.2155\n"
          ]
        },
        {
          "output_type": "stream",
          "name": "stderr",
          "text": [
            "Epoch [1825/3000]: 100%|██████████| 9/9 [00:00<00:00, 101.63it/s, loss=1.11]\n"
          ]
        },
        {
          "output_type": "stream",
          "name": "stdout",
          "text": [
            "Epoch [1825/3000]: Train loss: 1.0326, Valid loss: 1.1847\n"
          ]
        },
        {
          "output_type": "stream",
          "name": "stderr",
          "text": [
            "Epoch [1826/3000]: 100%|██████████| 9/9 [00:00<00:00, 100.94it/s, loss=0.888]\n"
          ]
        },
        {
          "output_type": "stream",
          "name": "stdout",
          "text": [
            "Epoch [1826/3000]: Train loss: 1.0269, Valid loss: 1.0082\n",
            "Saving model with loss 1.008...\n"
          ]
        },
        {
          "output_type": "stream",
          "name": "stderr",
          "text": [
            "Epoch [1827/3000]: 100%|██████████| 9/9 [00:00<00:00, 82.32it/s, loss=1.16]\n"
          ]
        },
        {
          "output_type": "stream",
          "name": "stdout",
          "text": [
            "Epoch [1827/3000]: Train loss: 1.0426, Valid loss: 1.1039\n"
          ]
        },
        {
          "output_type": "stream",
          "name": "stderr",
          "text": [
            "Epoch [1828/3000]: 100%|██████████| 9/9 [00:00<00:00, 71.13it/s, loss=1.07]\n"
          ]
        },
        {
          "output_type": "stream",
          "name": "stdout",
          "text": [
            "Epoch [1828/3000]: Train loss: 1.0399, Valid loss: 1.3410\n"
          ]
        },
        {
          "output_type": "stream",
          "name": "stderr",
          "text": [
            "Epoch [1829/3000]: 100%|██████████| 9/9 [00:00<00:00, 91.68it/s, loss=1.19]\n"
          ]
        },
        {
          "output_type": "stream",
          "name": "stdout",
          "text": [
            "Epoch [1829/3000]: Train loss: 1.0613, Valid loss: 1.2672\n"
          ]
        },
        {
          "output_type": "stream",
          "name": "stderr",
          "text": [
            "Epoch [1830/3000]: 100%|██████████| 9/9 [00:00<00:00, 78.83it/s, loss=0.897]\n"
          ]
        },
        {
          "output_type": "stream",
          "name": "stdout",
          "text": [
            "Epoch [1830/3000]: Train loss: 1.0334, Valid loss: 1.2171\n"
          ]
        },
        {
          "output_type": "stream",
          "name": "stderr",
          "text": [
            "Epoch [1831/3000]: 100%|██████████| 9/9 [00:00<00:00, 99.69it/s, loss=1.27]\n"
          ]
        },
        {
          "output_type": "stream",
          "name": "stdout",
          "text": [
            "Epoch [1831/3000]: Train loss: 1.0483, Valid loss: 1.4422\n"
          ]
        },
        {
          "output_type": "stream",
          "name": "stderr",
          "text": [
            "Epoch [1832/3000]: 100%|██████████| 9/9 [00:00<00:00, 106.73it/s, loss=0.662]\n"
          ]
        },
        {
          "output_type": "stream",
          "name": "stdout",
          "text": [
            "Epoch [1832/3000]: Train loss: 1.0143, Valid loss: 1.3265\n"
          ]
        },
        {
          "output_type": "stream",
          "name": "stderr",
          "text": [
            "Epoch [1833/3000]: 100%|██████████| 9/9 [00:00<00:00, 84.04it/s, loss=1.06]\n"
          ]
        },
        {
          "output_type": "stream",
          "name": "stdout",
          "text": [
            "Epoch [1833/3000]: Train loss: 1.0575, Valid loss: 1.2815\n"
          ]
        },
        {
          "output_type": "stream",
          "name": "stderr",
          "text": [
            "Epoch [1834/3000]: 100%|██████████| 9/9 [00:00<00:00, 80.17it/s, loss=1.54]\n"
          ]
        },
        {
          "output_type": "stream",
          "name": "stdout",
          "text": [
            "Epoch [1834/3000]: Train loss: 1.1167, Valid loss: 1.4702\n"
          ]
        },
        {
          "output_type": "stream",
          "name": "stderr",
          "text": [
            "Epoch [1835/3000]: 100%|██████████| 9/9 [00:00<00:00, 72.09it/s, loss=0.945]\n"
          ]
        },
        {
          "output_type": "stream",
          "name": "stdout",
          "text": [
            "Epoch [1835/3000]: Train loss: 1.0352, Valid loss: 1.3493\n"
          ]
        },
        {
          "output_type": "stream",
          "name": "stderr",
          "text": [
            "Epoch [1836/3000]: 100%|██████████| 9/9 [00:00<00:00, 72.47it/s, loss=1.2]\n"
          ]
        },
        {
          "output_type": "stream",
          "name": "stdout",
          "text": [
            "Epoch [1836/3000]: Train loss: 1.0415, Valid loss: 1.2550\n"
          ]
        },
        {
          "output_type": "stream",
          "name": "stderr",
          "text": [
            "Epoch [1837/3000]: 100%|██████████| 9/9 [00:00<00:00, 91.43it/s, loss=1.02]\n"
          ]
        },
        {
          "output_type": "stream",
          "name": "stdout",
          "text": [
            "Epoch [1837/3000]: Train loss: 1.0565, Valid loss: 1.1831\n"
          ]
        },
        {
          "output_type": "stream",
          "name": "stderr",
          "text": [
            "Epoch [1838/3000]: 100%|██████████| 9/9 [00:00<00:00, 65.39it/s, loss=0.909]\n"
          ]
        },
        {
          "output_type": "stream",
          "name": "stdout",
          "text": [
            "Epoch [1838/3000]: Train loss: 1.0330, Valid loss: 1.3236\n"
          ]
        },
        {
          "output_type": "stream",
          "name": "stderr",
          "text": [
            "Epoch [1839/3000]: 100%|██████████| 9/9 [00:00<00:00, 99.45it/s, loss=0.815]\n"
          ]
        },
        {
          "output_type": "stream",
          "name": "stdout",
          "text": [
            "Epoch [1839/3000]: Train loss: 1.0158, Valid loss: 1.1167\n"
          ]
        },
        {
          "output_type": "stream",
          "name": "stderr",
          "text": [
            "Epoch [1840/3000]: 100%|██████████| 9/9 [00:00<00:00, 98.24it/s, loss=1.25]\n"
          ]
        },
        {
          "output_type": "stream",
          "name": "stdout",
          "text": [
            "Epoch [1840/3000]: Train loss: 1.0439, Valid loss: 1.1594\n"
          ]
        },
        {
          "output_type": "stream",
          "name": "stderr",
          "text": [
            "Epoch [1841/3000]: 100%|██████████| 9/9 [00:00<00:00, 95.81it/s, loss=0.956]\n"
          ]
        },
        {
          "output_type": "stream",
          "name": "stdout",
          "text": [
            "Epoch [1841/3000]: Train loss: 1.0297, Valid loss: 1.1545\n"
          ]
        },
        {
          "output_type": "stream",
          "name": "stderr",
          "text": [
            "Epoch [1842/3000]: 100%|██████████| 9/9 [00:00<00:00, 73.69it/s, loss=0.85]\n"
          ]
        },
        {
          "output_type": "stream",
          "name": "stdout",
          "text": [
            "Epoch [1842/3000]: Train loss: 1.0287, Valid loss: 1.3430\n"
          ]
        },
        {
          "output_type": "stream",
          "name": "stderr",
          "text": [
            "Epoch [1843/3000]: 100%|██████████| 9/9 [00:00<00:00, 82.38it/s, loss=0.718]\n"
          ]
        },
        {
          "output_type": "stream",
          "name": "stdout",
          "text": [
            "Epoch [1843/3000]: Train loss: 1.0262, Valid loss: 1.4298\n"
          ]
        },
        {
          "output_type": "stream",
          "name": "stderr",
          "text": [
            "Epoch [1844/3000]: 100%|██████████| 9/9 [00:00<00:00, 87.01it/s, loss=1.01]\n"
          ]
        },
        {
          "output_type": "stream",
          "name": "stdout",
          "text": [
            "Epoch [1844/3000]: Train loss: 1.0685, Valid loss: 1.3443\n"
          ]
        },
        {
          "output_type": "stream",
          "name": "stderr",
          "text": [
            "Epoch [1845/3000]: 100%|██████████| 9/9 [00:00<00:00, 84.78it/s, loss=1.03]\n"
          ]
        },
        {
          "output_type": "stream",
          "name": "stdout",
          "text": [
            "Epoch [1845/3000]: Train loss: 1.0308, Valid loss: 1.1892\n"
          ]
        },
        {
          "output_type": "stream",
          "name": "stderr",
          "text": [
            "Epoch [1846/3000]: 100%|██████████| 9/9 [00:00<00:00, 101.17it/s, loss=0.865]\n"
          ]
        },
        {
          "output_type": "stream",
          "name": "stdout",
          "text": [
            "Epoch [1846/3000]: Train loss: 1.0234, Valid loss: 1.1586\n"
          ]
        },
        {
          "output_type": "stream",
          "name": "stderr",
          "text": [
            "Epoch [1847/3000]: 100%|██████████| 9/9 [00:00<00:00, 80.20it/s, loss=0.969]\n"
          ]
        },
        {
          "output_type": "stream",
          "name": "stdout",
          "text": [
            "Epoch [1847/3000]: Train loss: 1.0281, Valid loss: 1.1744\n"
          ]
        },
        {
          "output_type": "stream",
          "name": "stderr",
          "text": [
            "Epoch [1848/3000]: 100%|██████████| 9/9 [00:00<00:00, 107.14it/s, loss=1.11]\n"
          ]
        },
        {
          "output_type": "stream",
          "name": "stdout",
          "text": [
            "Epoch [1848/3000]: Train loss: 1.0363, Valid loss: 1.2021\n"
          ]
        },
        {
          "output_type": "stream",
          "name": "stderr",
          "text": [
            "Epoch [1849/3000]: 100%|██████████| 9/9 [00:00<00:00, 91.96it/s, loss=1.03]\n"
          ]
        },
        {
          "output_type": "stream",
          "name": "stdout",
          "text": [
            "Epoch [1849/3000]: Train loss: 1.0288, Valid loss: 1.3352\n"
          ]
        },
        {
          "output_type": "stream",
          "name": "stderr",
          "text": [
            "Epoch [1850/3000]: 100%|██████████| 9/9 [00:00<00:00, 101.31it/s, loss=0.617]\n"
          ]
        },
        {
          "output_type": "stream",
          "name": "stdout",
          "text": [
            "Epoch [1850/3000]: Train loss: 1.0113, Valid loss: 1.1874\n"
          ]
        },
        {
          "output_type": "stream",
          "name": "stderr",
          "text": [
            "Epoch [1851/3000]: 100%|██████████| 9/9 [00:00<00:00, 99.37it/s, loss=0.708]\n"
          ]
        },
        {
          "output_type": "stream",
          "name": "stdout",
          "text": [
            "Epoch [1851/3000]: Train loss: 1.0219, Valid loss: 1.2067\n"
          ]
        },
        {
          "output_type": "stream",
          "name": "stderr",
          "text": [
            "Epoch [1852/3000]: 100%|██████████| 9/9 [00:00<00:00, 101.89it/s, loss=0.853]\n"
          ]
        },
        {
          "output_type": "stream",
          "name": "stdout",
          "text": [
            "Epoch [1852/3000]: Train loss: 1.0145, Valid loss: 1.4046\n"
          ]
        },
        {
          "output_type": "stream",
          "name": "stderr",
          "text": [
            "Epoch [1853/3000]: 100%|██████████| 9/9 [00:00<00:00, 100.80it/s, loss=0.842]\n"
          ]
        },
        {
          "output_type": "stream",
          "name": "stdout",
          "text": [
            "Epoch [1853/3000]: Train loss: 1.0175, Valid loss: 1.2589\n"
          ]
        },
        {
          "output_type": "stream",
          "name": "stderr",
          "text": [
            "Epoch [1854/3000]: 100%|██████████| 9/9 [00:00<00:00, 83.62it/s, loss=1.15]\n"
          ]
        },
        {
          "output_type": "stream",
          "name": "stdout",
          "text": [
            "Epoch [1854/3000]: Train loss: 1.0377, Valid loss: 1.2213\n"
          ]
        },
        {
          "output_type": "stream",
          "name": "stderr",
          "text": [
            "Epoch [1855/3000]: 100%|██████████| 9/9 [00:00<00:00, 97.44it/s, loss=0.778]\n"
          ]
        },
        {
          "output_type": "stream",
          "name": "stdout",
          "text": [
            "Epoch [1855/3000]: Train loss: 1.0275, Valid loss: 1.2329\n"
          ]
        },
        {
          "output_type": "stream",
          "name": "stderr",
          "text": [
            "Epoch [1856/3000]: 100%|██████████| 9/9 [00:00<00:00, 104.39it/s, loss=1.05]\n"
          ]
        },
        {
          "output_type": "stream",
          "name": "stdout",
          "text": [
            "Epoch [1856/3000]: Train loss: 1.0330, Valid loss: 1.1474\n"
          ]
        },
        {
          "output_type": "stream",
          "name": "stderr",
          "text": [
            "Epoch [1857/3000]: 100%|██████████| 9/9 [00:00<00:00, 102.87it/s, loss=1.55]\n"
          ]
        },
        {
          "output_type": "stream",
          "name": "stdout",
          "text": [
            "Epoch [1857/3000]: Train loss: 1.0714, Valid loss: 1.2824\n"
          ]
        },
        {
          "output_type": "stream",
          "name": "stderr",
          "text": [
            "Epoch [1858/3000]: 100%|██████████| 9/9 [00:00<00:00, 104.68it/s, loss=1.05]\n"
          ]
        },
        {
          "output_type": "stream",
          "name": "stdout",
          "text": [
            "Epoch [1858/3000]: Train loss: 1.0354, Valid loss: 1.2513\n"
          ]
        },
        {
          "output_type": "stream",
          "name": "stderr",
          "text": [
            "Epoch [1859/3000]: 100%|██████████| 9/9 [00:00<00:00, 93.97it/s, loss=1.01]\n"
          ]
        },
        {
          "output_type": "stream",
          "name": "stdout",
          "text": [
            "Epoch [1859/3000]: Train loss: 1.0265, Valid loss: 1.2023\n"
          ]
        },
        {
          "output_type": "stream",
          "name": "stderr",
          "text": [
            "Epoch [1860/3000]: 100%|██████████| 9/9 [00:00<00:00, 99.04it/s, loss=1.53]\n"
          ]
        },
        {
          "output_type": "stream",
          "name": "stdout",
          "text": [
            "Epoch [1860/3000]: Train loss: 1.0663, Valid loss: 1.2839\n"
          ]
        },
        {
          "output_type": "stream",
          "name": "stderr",
          "text": [
            "Epoch [1861/3000]: 100%|██████████| 9/9 [00:00<00:00, 77.66it/s, loss=1.19]\n"
          ]
        },
        {
          "output_type": "stream",
          "name": "stdout",
          "text": [
            "Epoch [1861/3000]: Train loss: 1.0595, Valid loss: 1.1620\n"
          ]
        },
        {
          "output_type": "stream",
          "name": "stderr",
          "text": [
            "Epoch [1862/3000]: 100%|██████████| 9/9 [00:00<00:00, 98.41it/s, loss=1.19]\n"
          ]
        },
        {
          "output_type": "stream",
          "name": "stdout",
          "text": [
            "Epoch [1862/3000]: Train loss: 1.0568, Valid loss: 1.1436\n"
          ]
        },
        {
          "output_type": "stream",
          "name": "stderr",
          "text": [
            "Epoch [1863/3000]: 100%|██████████| 9/9 [00:00<00:00, 91.34it/s, loss=0.715]\n"
          ]
        },
        {
          "output_type": "stream",
          "name": "stdout",
          "text": [
            "Epoch [1863/3000]: Train loss: 1.0217, Valid loss: 1.2252\n"
          ]
        },
        {
          "output_type": "stream",
          "name": "stderr",
          "text": [
            "Epoch [1864/3000]: 100%|██████████| 9/9 [00:00<00:00, 86.31it/s, loss=0.743]\n"
          ]
        },
        {
          "output_type": "stream",
          "name": "stdout",
          "text": [
            "Epoch [1864/3000]: Train loss: 1.0128, Valid loss: 1.0971\n"
          ]
        },
        {
          "output_type": "stream",
          "name": "stderr",
          "text": [
            "Epoch [1865/3000]: 100%|██████████| 9/9 [00:00<00:00, 83.74it/s, loss=0.944]\n"
          ]
        },
        {
          "output_type": "stream",
          "name": "stdout",
          "text": [
            "Epoch [1865/3000]: Train loss: 1.0239, Valid loss: 1.3286\n"
          ]
        },
        {
          "output_type": "stream",
          "name": "stderr",
          "text": [
            "Epoch [1866/3000]: 100%|██████████| 9/9 [00:00<00:00, 91.74it/s, loss=1.4]\n"
          ]
        },
        {
          "output_type": "stream",
          "name": "stdout",
          "text": [
            "Epoch [1866/3000]: Train loss: 1.0513, Valid loss: 1.1392\n"
          ]
        },
        {
          "output_type": "stream",
          "name": "stderr",
          "text": [
            "Epoch [1867/3000]: 100%|██████████| 9/9 [00:00<00:00, 84.72it/s, loss=1.08]\n"
          ]
        },
        {
          "output_type": "stream",
          "name": "stdout",
          "text": [
            "Epoch [1867/3000]: Train loss: 1.0315, Valid loss: 1.2323\n"
          ]
        },
        {
          "output_type": "stream",
          "name": "stderr",
          "text": [
            "Epoch [1868/3000]: 100%|██████████| 9/9 [00:00<00:00, 81.85it/s, loss=1.03]\n"
          ]
        },
        {
          "output_type": "stream",
          "name": "stdout",
          "text": [
            "Epoch [1868/3000]: Train loss: 1.0461, Valid loss: 1.0958\n"
          ]
        },
        {
          "output_type": "stream",
          "name": "stderr",
          "text": [
            "Epoch [1869/3000]: 100%|██████████| 9/9 [00:00<00:00, 74.15it/s, loss=0.968]\n"
          ]
        },
        {
          "output_type": "stream",
          "name": "stdout",
          "text": [
            "Epoch [1869/3000]: Train loss: 1.0275, Valid loss: 1.4352\n"
          ]
        },
        {
          "output_type": "stream",
          "name": "stderr",
          "text": [
            "Epoch [1870/3000]: 100%|██████████| 9/9 [00:00<00:00, 112.24it/s, loss=0.923]\n"
          ]
        },
        {
          "output_type": "stream",
          "name": "stdout",
          "text": [
            "Epoch [1870/3000]: Train loss: 1.0256, Valid loss: 1.2662\n"
          ]
        },
        {
          "output_type": "stream",
          "name": "stderr",
          "text": [
            "Epoch [1871/3000]: 100%|██████████| 9/9 [00:00<00:00, 86.37it/s, loss=0.85]\n"
          ]
        },
        {
          "output_type": "stream",
          "name": "stdout",
          "text": [
            "Epoch [1871/3000]: Train loss: 1.0177, Valid loss: 1.2738\n"
          ]
        },
        {
          "output_type": "stream",
          "name": "stderr",
          "text": [
            "Epoch [1872/3000]: 100%|██████████| 9/9 [00:00<00:00, 90.36it/s, loss=1.04]\n"
          ]
        },
        {
          "output_type": "stream",
          "name": "stdout",
          "text": [
            "Epoch [1872/3000]: Train loss: 1.0292, Valid loss: 1.1313\n"
          ]
        },
        {
          "output_type": "stream",
          "name": "stderr",
          "text": [
            "Epoch [1873/3000]: 100%|██████████| 9/9 [00:00<00:00, 97.59it/s, loss=0.949]\n"
          ]
        },
        {
          "output_type": "stream",
          "name": "stdout",
          "text": [
            "Epoch [1873/3000]: Train loss: 1.0264, Valid loss: 1.2306\n"
          ]
        },
        {
          "output_type": "stream",
          "name": "stderr",
          "text": [
            "Epoch [1874/3000]: 100%|██████████| 9/9 [00:00<00:00, 95.03it/s, loss=0.802]\n"
          ]
        },
        {
          "output_type": "stream",
          "name": "stdout",
          "text": [
            "Epoch [1874/3000]: Train loss: 1.0208, Valid loss: 1.2011\n"
          ]
        },
        {
          "output_type": "stream",
          "name": "stderr",
          "text": [
            "Epoch [1875/3000]: 100%|██████████| 9/9 [00:00<00:00, 97.63it/s, loss=1.14]\n"
          ]
        },
        {
          "output_type": "stream",
          "name": "stdout",
          "text": [
            "Epoch [1875/3000]: Train loss: 1.0571, Valid loss: 1.2084\n"
          ]
        },
        {
          "output_type": "stream",
          "name": "stderr",
          "text": [
            "Epoch [1876/3000]: 100%|██████████| 9/9 [00:00<00:00, 86.82it/s, loss=0.928]\n"
          ]
        },
        {
          "output_type": "stream",
          "name": "stdout",
          "text": [
            "Epoch [1876/3000]: Train loss: 1.0218, Valid loss: 1.1868\n"
          ]
        },
        {
          "output_type": "stream",
          "name": "stderr",
          "text": [
            "Epoch [1877/3000]: 100%|██████████| 9/9 [00:00<00:00, 82.90it/s, loss=1.13]\n"
          ]
        },
        {
          "output_type": "stream",
          "name": "stdout",
          "text": [
            "Epoch [1877/3000]: Train loss: 1.0526, Valid loss: 1.2646\n"
          ]
        },
        {
          "output_type": "stream",
          "name": "stderr",
          "text": [
            "Epoch [1878/3000]: 100%|██████████| 9/9 [00:00<00:00, 84.99it/s, loss=1.03]\n"
          ]
        },
        {
          "output_type": "stream",
          "name": "stdout",
          "text": [
            "Epoch [1878/3000]: Train loss: 1.0315, Valid loss: 1.2703\n"
          ]
        },
        {
          "output_type": "stream",
          "name": "stderr",
          "text": [
            "Epoch [1879/3000]: 100%|██████████| 9/9 [00:00<00:00, 95.54it/s, loss=0.872]\n"
          ]
        },
        {
          "output_type": "stream",
          "name": "stdout",
          "text": [
            "Epoch [1879/3000]: Train loss: 1.0189, Valid loss: 1.5298\n"
          ]
        },
        {
          "output_type": "stream",
          "name": "stderr",
          "text": [
            "Epoch [1880/3000]: 100%|██████████| 9/9 [00:00<00:00, 96.08it/s, loss=0.775]\n"
          ]
        },
        {
          "output_type": "stream",
          "name": "stdout",
          "text": [
            "Epoch [1880/3000]: Train loss: 1.0176, Valid loss: 1.2971\n"
          ]
        },
        {
          "output_type": "stream",
          "name": "stderr",
          "text": [
            "Epoch [1881/3000]: 100%|██████████| 9/9 [00:00<00:00, 97.21it/s, loss=1.07]\n"
          ]
        },
        {
          "output_type": "stream",
          "name": "stdout",
          "text": [
            "Epoch [1881/3000]: Train loss: 1.0294, Valid loss: 1.3596\n"
          ]
        },
        {
          "output_type": "stream",
          "name": "stderr",
          "text": [
            "Epoch [1882/3000]: 100%|██████████| 9/9 [00:00<00:00, 83.28it/s, loss=0.75]\n"
          ]
        },
        {
          "output_type": "stream",
          "name": "stdout",
          "text": [
            "Epoch [1882/3000]: Train loss: 1.0087, Valid loss: 1.2091\n"
          ]
        },
        {
          "output_type": "stream",
          "name": "stderr",
          "text": [
            "Epoch [1883/3000]: 100%|██████████| 9/9 [00:00<00:00, 80.07it/s, loss=1.13]\n"
          ]
        },
        {
          "output_type": "stream",
          "name": "stdout",
          "text": [
            "Epoch [1883/3000]: Train loss: 1.0427, Valid loss: 1.2562\n"
          ]
        },
        {
          "output_type": "stream",
          "name": "stderr",
          "text": [
            "Epoch [1884/3000]: 100%|██████████| 9/9 [00:00<00:00, 92.25it/s, loss=0.712]\n"
          ]
        },
        {
          "output_type": "stream",
          "name": "stdout",
          "text": [
            "Epoch [1884/3000]: Train loss: 1.0224, Valid loss: 1.2033\n"
          ]
        },
        {
          "output_type": "stream",
          "name": "stderr",
          "text": [
            "Epoch [1885/3000]: 100%|██████████| 9/9 [00:00<00:00, 108.53it/s, loss=1.09]\n"
          ]
        },
        {
          "output_type": "stream",
          "name": "stdout",
          "text": [
            "Epoch [1885/3000]: Train loss: 1.0305, Valid loss: 1.2276\n"
          ]
        },
        {
          "output_type": "stream",
          "name": "stderr",
          "text": [
            "Epoch [1886/3000]: 100%|██████████| 9/9 [00:00<00:00, 85.60it/s, loss=0.966]\n"
          ]
        },
        {
          "output_type": "stream",
          "name": "stdout",
          "text": [
            "Epoch [1886/3000]: Train loss: 1.0219, Valid loss: 1.3564\n"
          ]
        },
        {
          "output_type": "stream",
          "name": "stderr",
          "text": [
            "Epoch [1887/3000]: 100%|██████████| 9/9 [00:00<00:00, 106.95it/s, loss=0.984]\n"
          ]
        },
        {
          "output_type": "stream",
          "name": "stdout",
          "text": [
            "Epoch [1887/3000]: Train loss: 1.0267, Valid loss: 1.2961\n"
          ]
        },
        {
          "output_type": "stream",
          "name": "stderr",
          "text": [
            "Epoch [1888/3000]: 100%|██████████| 9/9 [00:00<00:00, 101.69it/s, loss=0.981]\n"
          ]
        },
        {
          "output_type": "stream",
          "name": "stdout",
          "text": [
            "Epoch [1888/3000]: Train loss: 1.0219, Valid loss: 1.1888\n"
          ]
        },
        {
          "output_type": "stream",
          "name": "stderr",
          "text": [
            "Epoch [1889/3000]: 100%|██████████| 9/9 [00:00<00:00, 102.42it/s, loss=1.01]\n"
          ]
        },
        {
          "output_type": "stream",
          "name": "stdout",
          "text": [
            "Epoch [1889/3000]: Train loss: 1.0296, Valid loss: 1.2918\n"
          ]
        },
        {
          "output_type": "stream",
          "name": "stderr",
          "text": [
            "Epoch [1890/3000]: 100%|██████████| 9/9 [00:00<00:00, 108.06it/s, loss=1.34]\n"
          ]
        },
        {
          "output_type": "stream",
          "name": "stdout",
          "text": [
            "Epoch [1890/3000]: Train loss: 1.0491, Valid loss: 1.2449\n"
          ]
        },
        {
          "output_type": "stream",
          "name": "stderr",
          "text": [
            "Epoch [1891/3000]: 100%|██████████| 9/9 [00:00<00:00, 80.40it/s, loss=1.05]\n"
          ]
        },
        {
          "output_type": "stream",
          "name": "stdout",
          "text": [
            "Epoch [1891/3000]: Train loss: 1.0482, Valid loss: 1.3803\n"
          ]
        },
        {
          "output_type": "stream",
          "name": "stderr",
          "text": [
            "Epoch [1892/3000]: 100%|██████████| 9/9 [00:00<00:00, 83.19it/s, loss=1.02]\n"
          ]
        },
        {
          "output_type": "stream",
          "name": "stdout",
          "text": [
            "Epoch [1892/3000]: Train loss: 1.0319, Valid loss: 1.1899\n"
          ]
        },
        {
          "output_type": "stream",
          "name": "stderr",
          "text": [
            "Epoch [1893/3000]: 100%|██████████| 9/9 [00:00<00:00, 29.98it/s, loss=1.28]\n"
          ]
        },
        {
          "output_type": "stream",
          "name": "stdout",
          "text": [
            "Epoch [1893/3000]: Train loss: 1.0426, Valid loss: 1.1410\n"
          ]
        },
        {
          "output_type": "stream",
          "name": "stderr",
          "text": [
            "Epoch [1894/3000]: 100%|██████████| 9/9 [00:00<00:00, 104.93it/s, loss=1.02]\n"
          ]
        },
        {
          "output_type": "stream",
          "name": "stdout",
          "text": [
            "Epoch [1894/3000]: Train loss: 1.0370, Valid loss: 1.4123\n"
          ]
        },
        {
          "output_type": "stream",
          "name": "stderr",
          "text": [
            "Epoch [1895/3000]: 100%|██████████| 9/9 [00:00<00:00, 108.56it/s, loss=1.29]"
          ]
        },
        {
          "output_type": "stream",
          "name": "stdout",
          "text": [
            "Epoch [1895/3000]: Train loss: 1.0411, Valid loss: 1.4428"
          ]
        },
        {
          "output_type": "stream",
          "name": "stderr",
          "text": [
            "\n"
          ]
        },
        {
          "output_type": "stream",
          "name": "stdout",
          "text": [
            "\n"
          ]
        },
        {
          "output_type": "stream",
          "name": "stderr",
          "text": [
            "Epoch [1896/3000]: 100%|██████████| 9/9 [00:00<00:00, 113.34it/s, loss=1.08]\n"
          ]
        },
        {
          "output_type": "stream",
          "name": "stdout",
          "text": [
            "Epoch [1896/3000]: Train loss: 1.0289, Valid loss: 1.1712\n"
          ]
        },
        {
          "output_type": "stream",
          "name": "stderr",
          "text": [
            "Epoch [1897/3000]: 100%|██████████| 9/9 [00:00<00:00, 115.95it/s, loss=0.898]\n"
          ]
        },
        {
          "output_type": "stream",
          "name": "stdout",
          "text": [
            "Epoch [1897/3000]: Train loss: 1.0345, Valid loss: 1.2034\n"
          ]
        },
        {
          "output_type": "stream",
          "name": "stderr",
          "text": [
            "Epoch [1898/3000]: 100%|██████████| 9/9 [00:00<00:00, 93.92it/s, loss=1.11]\n"
          ]
        },
        {
          "output_type": "stream",
          "name": "stdout",
          "text": [
            "Epoch [1898/3000]: Train loss: 1.0547, Valid loss: 1.3471\n"
          ]
        },
        {
          "output_type": "stream",
          "name": "stderr",
          "text": [
            "Epoch [1899/3000]: 100%|██████████| 9/9 [00:00<00:00, 106.34it/s, loss=1.35]\n"
          ]
        },
        {
          "output_type": "stream",
          "name": "stdout",
          "text": [
            "Epoch [1899/3000]: Train loss: 1.0498, Valid loss: 1.5083\n"
          ]
        },
        {
          "output_type": "stream",
          "name": "stderr",
          "text": [
            "Epoch [1900/3000]: 100%|██████████| 9/9 [00:00<00:00, 116.46it/s, loss=1.05]\n"
          ]
        },
        {
          "output_type": "stream",
          "name": "stdout",
          "text": [
            "Epoch [1900/3000]: Train loss: 1.0394, Valid loss: 1.2724\n"
          ]
        },
        {
          "output_type": "stream",
          "name": "stderr",
          "text": [
            "Epoch [1901/3000]: 100%|██████████| 9/9 [00:00<00:00, 116.53it/s, loss=0.999]\n"
          ]
        },
        {
          "output_type": "stream",
          "name": "stdout",
          "text": [
            "Epoch [1901/3000]: Train loss: 1.0225, Valid loss: 1.5279\n"
          ]
        },
        {
          "output_type": "stream",
          "name": "stderr",
          "text": [
            "Epoch [1902/3000]: 100%|██████████| 9/9 [00:00<00:00, 81.89it/s, loss=1.33]\n"
          ]
        },
        {
          "output_type": "stream",
          "name": "stdout",
          "text": [
            "Epoch [1902/3000]: Train loss: 1.0465, Valid loss: 1.1176\n"
          ]
        },
        {
          "output_type": "stream",
          "name": "stderr",
          "text": [
            "Epoch [1903/3000]: 100%|██████████| 9/9 [00:00<00:00, 93.73it/s, loss=1.21]\n"
          ]
        },
        {
          "output_type": "stream",
          "name": "stdout",
          "text": [
            "Epoch [1903/3000]: Train loss: 1.0407, Valid loss: 1.2411\n"
          ]
        },
        {
          "output_type": "stream",
          "name": "stderr",
          "text": [
            "Epoch [1904/3000]: 100%|██████████| 9/9 [00:00<00:00, 84.44it/s, loss=0.863]\n"
          ]
        },
        {
          "output_type": "stream",
          "name": "stdout",
          "text": [
            "Epoch [1904/3000]: Train loss: 1.0181, Valid loss: 1.1764\n"
          ]
        },
        {
          "output_type": "stream",
          "name": "stderr",
          "text": [
            "Epoch [1905/3000]: 100%|██████████| 9/9 [00:00<00:00, 95.05it/s, loss=0.777]\n"
          ]
        },
        {
          "output_type": "stream",
          "name": "stdout",
          "text": [
            "Epoch [1905/3000]: Train loss: 1.0181, Valid loss: 1.2004\n"
          ]
        },
        {
          "output_type": "stream",
          "name": "stderr",
          "text": [
            "Epoch [1906/3000]: 100%|██████████| 9/9 [00:00<00:00, 88.31it/s, loss=0.956]\n"
          ]
        },
        {
          "output_type": "stream",
          "name": "stdout",
          "text": [
            "Epoch [1906/3000]: Train loss: 1.0258, Valid loss: 1.1893\n"
          ]
        },
        {
          "output_type": "stream",
          "name": "stderr",
          "text": [
            "Epoch [1907/3000]: 100%|██████████| 9/9 [00:00<00:00, 90.44it/s, loss=1.03]\n"
          ]
        },
        {
          "output_type": "stream",
          "name": "stdout",
          "text": [
            "Epoch [1907/3000]: Train loss: 1.0445, Valid loss: 1.5483\n"
          ]
        },
        {
          "output_type": "stream",
          "name": "stderr",
          "text": [
            "Epoch [1908/3000]: 100%|██████████| 9/9 [00:00<00:00, 84.69it/s, loss=0.937]\n"
          ]
        },
        {
          "output_type": "stream",
          "name": "stdout",
          "text": [
            "Epoch [1908/3000]: Train loss: 1.0449, Valid loss: 1.3054\n"
          ]
        },
        {
          "output_type": "stream",
          "name": "stderr",
          "text": [
            "Epoch [1909/3000]: 100%|██████████| 9/9 [00:00<00:00, 69.64it/s, loss=1.19]\n"
          ]
        },
        {
          "output_type": "stream",
          "name": "stdout",
          "text": [
            "Epoch [1909/3000]: Train loss: 1.0496, Valid loss: 1.2187\n"
          ]
        },
        {
          "output_type": "stream",
          "name": "stderr",
          "text": [
            "Epoch [1910/3000]: 100%|██████████| 9/9 [00:00<00:00, 81.45it/s, loss=0.879]\n"
          ]
        },
        {
          "output_type": "stream",
          "name": "stdout",
          "text": [
            "Epoch [1910/3000]: Train loss: 1.0240, Valid loss: 1.2348\n"
          ]
        },
        {
          "output_type": "stream",
          "name": "stderr",
          "text": [
            "Epoch [1911/3000]: 100%|██████████| 9/9 [00:00<00:00, 94.57it/s, loss=1]\n"
          ]
        },
        {
          "output_type": "stream",
          "name": "stdout",
          "text": [
            "Epoch [1911/3000]: Train loss: 1.0304, Valid loss: 1.4180\n"
          ]
        },
        {
          "output_type": "stream",
          "name": "stderr",
          "text": [
            "Epoch [1912/3000]: 100%|██████████| 9/9 [00:00<00:00, 96.15it/s, loss=1.02]\n"
          ]
        },
        {
          "output_type": "stream",
          "name": "stdout",
          "text": [
            "Epoch [1912/3000]: Train loss: 1.0301, Valid loss: 1.5750\n"
          ]
        },
        {
          "output_type": "stream",
          "name": "stderr",
          "text": [
            "Epoch [1913/3000]: 100%|██████████| 9/9 [00:00<00:00, 87.56it/s, loss=1.07]\n"
          ]
        },
        {
          "output_type": "stream",
          "name": "stdout",
          "text": [
            "Epoch [1913/3000]: Train loss: 1.0407, Valid loss: 1.2449\n"
          ]
        },
        {
          "output_type": "stream",
          "name": "stderr",
          "text": [
            "Epoch [1914/3000]: 100%|██████████| 9/9 [00:00<00:00, 95.09it/s, loss=1.05]\n"
          ]
        },
        {
          "output_type": "stream",
          "name": "stdout",
          "text": [
            "Epoch [1914/3000]: Train loss: 1.0317, Valid loss: 1.2261\n"
          ]
        },
        {
          "output_type": "stream",
          "name": "stderr",
          "text": [
            "Epoch [1915/3000]: 100%|██████████| 9/9 [00:00<00:00, 112.08it/s, loss=1.07]\n"
          ]
        },
        {
          "output_type": "stream",
          "name": "stdout",
          "text": [
            "Epoch [1915/3000]: Train loss: 1.0307, Valid loss: 1.6800\n"
          ]
        },
        {
          "output_type": "stream",
          "name": "stderr",
          "text": [
            "Epoch [1916/3000]: 100%|██████████| 9/9 [00:00<00:00, 109.41it/s, loss=1.04]\n"
          ]
        },
        {
          "output_type": "stream",
          "name": "stdout",
          "text": [
            "Epoch [1916/3000]: Train loss: 1.0356, Valid loss: 1.2379\n"
          ]
        },
        {
          "output_type": "stream",
          "name": "stderr",
          "text": [
            "Epoch [1917/3000]: 100%|██████████| 9/9 [00:00<00:00, 115.29it/s, loss=0.738]\n"
          ]
        },
        {
          "output_type": "stream",
          "name": "stdout",
          "text": [
            "Epoch [1917/3000]: Train loss: 1.0104, Valid loss: 1.1530\n"
          ]
        },
        {
          "output_type": "stream",
          "name": "stderr",
          "text": [
            "Epoch [1918/3000]: 100%|██████████| 9/9 [00:00<00:00, 112.23it/s, loss=1.09]\n"
          ]
        },
        {
          "output_type": "stream",
          "name": "stdout",
          "text": [
            "Epoch [1918/3000]: Train loss: 1.0383, Valid loss: 1.2561\n"
          ]
        },
        {
          "output_type": "stream",
          "name": "stderr",
          "text": [
            "Epoch [1919/3000]: 100%|██████████| 9/9 [00:00<00:00, 85.41it/s, loss=1]\n"
          ]
        },
        {
          "output_type": "stream",
          "name": "stdout",
          "text": [
            "Epoch [1919/3000]: Train loss: 1.0265, Valid loss: 1.2092\n"
          ]
        },
        {
          "output_type": "stream",
          "name": "stderr",
          "text": [
            "Epoch [1920/3000]: 100%|██████████| 9/9 [00:00<00:00, 96.55it/s, loss=0.844]\n"
          ]
        },
        {
          "output_type": "stream",
          "name": "stdout",
          "text": [
            "Epoch [1920/3000]: Train loss: 1.0172, Valid loss: 1.1593\n"
          ]
        },
        {
          "output_type": "stream",
          "name": "stderr",
          "text": [
            "Epoch [1921/3000]: 100%|██████████| 9/9 [00:00<00:00, 82.83it/s, loss=1.11]\n"
          ]
        },
        {
          "output_type": "stream",
          "name": "stdout",
          "text": [
            "Epoch [1921/3000]: Train loss: 1.0290, Valid loss: 1.3211\n"
          ]
        },
        {
          "output_type": "stream",
          "name": "stderr",
          "text": [
            "Epoch [1922/3000]: 100%|██████████| 9/9 [00:00<00:00, 87.67it/s, loss=0.956]\n"
          ]
        },
        {
          "output_type": "stream",
          "name": "stdout",
          "text": [
            "Epoch [1922/3000]: Train loss: 1.0159, Valid loss: 1.6130\n"
          ]
        },
        {
          "output_type": "stream",
          "name": "stderr",
          "text": [
            "Epoch [1923/3000]: 100%|██████████| 9/9 [00:00<00:00, 94.03it/s, loss=1.64]\n"
          ]
        },
        {
          "output_type": "stream",
          "name": "stdout",
          "text": [
            "Epoch [1923/3000]: Train loss: 1.0777, Valid loss: 1.2269\n"
          ]
        },
        {
          "output_type": "stream",
          "name": "stderr",
          "text": [
            "Epoch [1924/3000]: 100%|██████████| 9/9 [00:00<00:00, 95.73it/s, loss=0.925]\n"
          ]
        },
        {
          "output_type": "stream",
          "name": "stdout",
          "text": [
            "Epoch [1924/3000]: Train loss: 1.0175, Valid loss: 1.1212\n"
          ]
        },
        {
          "output_type": "stream",
          "name": "stderr",
          "text": [
            "Epoch [1925/3000]: 100%|██████████| 9/9 [00:00<00:00, 94.75it/s, loss=1.01]\n"
          ]
        },
        {
          "output_type": "stream",
          "name": "stdout",
          "text": [
            "Epoch [1925/3000]: Train loss: 1.0207, Valid loss: 1.1893\n"
          ]
        },
        {
          "output_type": "stream",
          "name": "stderr",
          "text": [
            "Epoch [1926/3000]: 100%|██████████| 9/9 [00:00<00:00, 77.14it/s, loss=1.05]\n"
          ]
        },
        {
          "output_type": "stream",
          "name": "stdout",
          "text": [
            "Epoch [1926/3000]: Train loss: 1.0336, Valid loss: 1.2695\n"
          ]
        },
        {
          "output_type": "stream",
          "name": "stderr",
          "text": [
            "Epoch [1927/3000]: 100%|██████████| 9/9 [00:00<00:00, 92.34it/s, loss=0.812]\n"
          ]
        },
        {
          "output_type": "stream",
          "name": "stdout",
          "text": [
            "Epoch [1927/3000]: Train loss: 1.0185, Valid loss: 1.2080\n"
          ]
        },
        {
          "output_type": "stream",
          "name": "stderr",
          "text": [
            "Epoch [1928/3000]: 100%|██████████| 9/9 [00:00<00:00, 87.71it/s, loss=0.913]\n"
          ]
        },
        {
          "output_type": "stream",
          "name": "stdout",
          "text": [
            "Epoch [1928/3000]: Train loss: 1.0310, Valid loss: 1.3430\n"
          ]
        },
        {
          "output_type": "stream",
          "name": "stderr",
          "text": [
            "Epoch [1929/3000]: 100%|██████████| 9/9 [00:00<00:00, 83.12it/s, loss=1.08]\n"
          ]
        },
        {
          "output_type": "stream",
          "name": "stdout",
          "text": [
            "Epoch [1929/3000]: Train loss: 1.0261, Valid loss: 1.2743\n"
          ]
        },
        {
          "output_type": "stream",
          "name": "stderr",
          "text": [
            "Epoch [1930/3000]: 100%|██████████| 9/9 [00:00<00:00, 91.43it/s, loss=1.2]\n"
          ]
        },
        {
          "output_type": "stream",
          "name": "stdout",
          "text": [
            "Epoch [1930/3000]: Train loss: 1.0334, Valid loss: 1.3570\n"
          ]
        },
        {
          "output_type": "stream",
          "name": "stderr",
          "text": [
            "Epoch [1931/3000]: 100%|██████████| 9/9 [00:00<00:00, 84.03it/s, loss=1.19]\n"
          ]
        },
        {
          "output_type": "stream",
          "name": "stdout",
          "text": [
            "Epoch [1931/3000]: Train loss: 1.0526, Valid loss: 1.1556\n"
          ]
        },
        {
          "output_type": "stream",
          "name": "stderr",
          "text": [
            "Epoch [1932/3000]: 100%|██████████| 9/9 [00:00<00:00, 81.15it/s, loss=0.936]\n"
          ]
        },
        {
          "output_type": "stream",
          "name": "stdout",
          "text": [
            "Epoch [1932/3000]: Train loss: 1.0361, Valid loss: 1.1119\n"
          ]
        },
        {
          "output_type": "stream",
          "name": "stderr",
          "text": [
            "Epoch [1933/3000]: 100%|██████████| 9/9 [00:00<00:00, 99.66it/s, loss=0.679]\n"
          ]
        },
        {
          "output_type": "stream",
          "name": "stdout",
          "text": [
            "Epoch [1933/3000]: Train loss: 1.0047, Valid loss: 1.3976\n"
          ]
        },
        {
          "output_type": "stream",
          "name": "stderr",
          "text": [
            "Epoch [1934/3000]: 100%|██████████| 9/9 [00:00<00:00, 69.91it/s, loss=1.21]\n"
          ]
        },
        {
          "output_type": "stream",
          "name": "stdout",
          "text": [
            "Epoch [1934/3000]: Train loss: 1.0501, Valid loss: 1.3557\n"
          ]
        },
        {
          "output_type": "stream",
          "name": "stderr",
          "text": [
            "Epoch [1935/3000]: 100%|██████████| 9/9 [00:00<00:00, 72.06it/s, loss=0.853]\n"
          ]
        },
        {
          "output_type": "stream",
          "name": "stdout",
          "text": [
            "Epoch [1935/3000]: Train loss: 1.0538, Valid loss: 1.3163\n"
          ]
        },
        {
          "output_type": "stream",
          "name": "stderr",
          "text": [
            "Epoch [1936/3000]: 100%|██████████| 9/9 [00:00<00:00, 100.90it/s, loss=0.954]\n"
          ]
        },
        {
          "output_type": "stream",
          "name": "stdout",
          "text": [
            "Epoch [1936/3000]: Train loss: 1.0309, Valid loss: 1.1915\n"
          ]
        },
        {
          "output_type": "stream",
          "name": "stderr",
          "text": [
            "Epoch [1937/3000]: 100%|██████████| 9/9 [00:00<00:00, 67.75it/s, loss=1.2]\n"
          ]
        },
        {
          "output_type": "stream",
          "name": "stdout",
          "text": [
            "Epoch [1937/3000]: Train loss: 1.0580, Valid loss: 1.2346\n"
          ]
        },
        {
          "output_type": "stream",
          "name": "stderr",
          "text": [
            "Epoch [1938/3000]: 100%|██████████| 9/9 [00:00<00:00, 94.70it/s, loss=1.02]\n"
          ]
        },
        {
          "output_type": "stream",
          "name": "stdout",
          "text": [
            "Epoch [1938/3000]: Train loss: 1.0348, Valid loss: 1.3312\n"
          ]
        },
        {
          "output_type": "stream",
          "name": "stderr",
          "text": [
            "Epoch [1939/3000]: 100%|██████████| 9/9 [00:00<00:00, 89.90it/s, loss=0.808]\n"
          ]
        },
        {
          "output_type": "stream",
          "name": "stdout",
          "text": [
            "Epoch [1939/3000]: Train loss: 1.0224, Valid loss: 1.3302\n"
          ]
        },
        {
          "output_type": "stream",
          "name": "stderr",
          "text": [
            "Epoch [1940/3000]: 100%|██████████| 9/9 [00:00<00:00, 90.91it/s, loss=1.17]\n"
          ]
        },
        {
          "output_type": "stream",
          "name": "stdout",
          "text": [
            "Epoch [1940/3000]: Train loss: 1.0491, Valid loss: 1.2838\n"
          ]
        },
        {
          "output_type": "stream",
          "name": "stderr",
          "text": [
            "Epoch [1941/3000]: 100%|██████████| 9/9 [00:00<00:00, 93.17it/s, loss=1.18]\n"
          ]
        },
        {
          "output_type": "stream",
          "name": "stdout",
          "text": [
            "Epoch [1941/3000]: Train loss: 1.0333, Valid loss: 1.2437\n"
          ]
        },
        {
          "output_type": "stream",
          "name": "stderr",
          "text": [
            "Epoch [1942/3000]: 100%|██████████| 9/9 [00:00<00:00, 78.88it/s, loss=0.792]\n"
          ]
        },
        {
          "output_type": "stream",
          "name": "stdout",
          "text": [
            "Epoch [1942/3000]: Train loss: 1.0092, Valid loss: 1.2386\n"
          ]
        },
        {
          "output_type": "stream",
          "name": "stderr",
          "text": [
            "Epoch [1943/3000]: 100%|██████████| 9/9 [00:00<00:00, 105.23it/s, loss=0.991]\n"
          ]
        },
        {
          "output_type": "stream",
          "name": "stdout",
          "text": [
            "Epoch [1943/3000]: Train loss: 1.0433, Valid loss: 1.1388\n"
          ]
        },
        {
          "output_type": "stream",
          "name": "stderr",
          "text": [
            "Epoch [1944/3000]: 100%|██████████| 9/9 [00:00<00:00, 112.89it/s, loss=1.55]\n"
          ]
        },
        {
          "output_type": "stream",
          "name": "stdout",
          "text": [
            "Epoch [1944/3000]: Train loss: 1.0760, Valid loss: 1.0605\n"
          ]
        },
        {
          "output_type": "stream",
          "name": "stderr",
          "text": [
            "Epoch [1945/3000]: 100%|██████████| 9/9 [00:00<00:00, 108.68it/s, loss=0.871]\n"
          ]
        },
        {
          "output_type": "stream",
          "name": "stdout",
          "text": [
            "Epoch [1945/3000]: Train loss: 1.0164, Valid loss: 1.2012\n"
          ]
        },
        {
          "output_type": "stream",
          "name": "stderr",
          "text": [
            "Epoch [1946/3000]: 100%|██████████| 9/9 [00:00<00:00, 106.20it/s, loss=1.06]\n"
          ]
        },
        {
          "output_type": "stream",
          "name": "stdout",
          "text": [
            "Epoch [1946/3000]: Train loss: 1.0259, Valid loss: 1.3276\n"
          ]
        },
        {
          "output_type": "stream",
          "name": "stderr",
          "text": [
            "Epoch [1947/3000]: 100%|██████████| 9/9 [00:00<00:00, 96.54it/s, loss=1.28]\n"
          ]
        },
        {
          "output_type": "stream",
          "name": "stdout",
          "text": [
            "Epoch [1947/3000]: Train loss: 1.0463, Valid loss: 1.1314\n"
          ]
        },
        {
          "output_type": "stream",
          "name": "stderr",
          "text": [
            "Epoch [1948/3000]: 100%|██████████| 9/9 [00:00<00:00, 76.62it/s, loss=0.774]\n"
          ]
        },
        {
          "output_type": "stream",
          "name": "stdout",
          "text": [
            "Epoch [1948/3000]: Train loss: 1.0159, Valid loss: 1.1533\n"
          ]
        },
        {
          "output_type": "stream",
          "name": "stderr",
          "text": [
            "Epoch [1949/3000]: 100%|██████████| 9/9 [00:00<00:00, 95.78it/s, loss=1.27]\n"
          ]
        },
        {
          "output_type": "stream",
          "name": "stdout",
          "text": [
            "Epoch [1949/3000]: Train loss: 1.0395, Valid loss: 1.5712\n"
          ]
        },
        {
          "output_type": "stream",
          "name": "stderr",
          "text": [
            "Epoch [1950/3000]: 100%|██████████| 9/9 [00:00<00:00, 90.70it/s, loss=1.02]\n"
          ]
        },
        {
          "output_type": "stream",
          "name": "stdout",
          "text": [
            "Epoch [1950/3000]: Train loss: 1.0230, Valid loss: 1.1784\n"
          ]
        },
        {
          "output_type": "stream",
          "name": "stderr",
          "text": [
            "Epoch [1951/3000]: 100%|██████████| 9/9 [00:00<00:00, 83.43it/s, loss=0.809]\n"
          ]
        },
        {
          "output_type": "stream",
          "name": "stdout",
          "text": [
            "Epoch [1951/3000]: Train loss: 1.0164, Valid loss: 1.3258\n"
          ]
        },
        {
          "output_type": "stream",
          "name": "stderr",
          "text": [
            "Epoch [1952/3000]: 100%|██████████| 9/9 [00:00<00:00, 106.29it/s, loss=1.04]\n"
          ]
        },
        {
          "output_type": "stream",
          "name": "stdout",
          "text": [
            "Epoch [1952/3000]: Train loss: 1.0363, Valid loss: 1.2056\n"
          ]
        },
        {
          "output_type": "stream",
          "name": "stderr",
          "text": [
            "Epoch [1953/3000]: 100%|██████████| 9/9 [00:00<00:00, 91.97it/s, loss=0.99]\n"
          ]
        },
        {
          "output_type": "stream",
          "name": "stdout",
          "text": [
            "Epoch [1953/3000]: Train loss: 1.0179, Valid loss: 1.2773\n"
          ]
        },
        {
          "output_type": "stream",
          "name": "stderr",
          "text": [
            "Epoch [1954/3000]: 100%|██████████| 9/9 [00:00<00:00, 82.11it/s, loss=1.09]\n"
          ]
        },
        {
          "output_type": "stream",
          "name": "stdout",
          "text": [
            "Epoch [1954/3000]: Train loss: 1.0337, Valid loss: 1.2676\n"
          ]
        },
        {
          "output_type": "stream",
          "name": "stderr",
          "text": [
            "Epoch [1955/3000]: 100%|██████████| 9/9 [00:00<00:00, 84.97it/s, loss=0.946]\n"
          ]
        },
        {
          "output_type": "stream",
          "name": "stdout",
          "text": [
            "Epoch [1955/3000]: Train loss: 1.0194, Valid loss: 1.0990\n"
          ]
        },
        {
          "output_type": "stream",
          "name": "stderr",
          "text": [
            "Epoch [1956/3000]: 100%|██████████| 9/9 [00:00<00:00, 81.86it/s, loss=1.43]\n"
          ]
        },
        {
          "output_type": "stream",
          "name": "stdout",
          "text": [
            "Epoch [1956/3000]: Train loss: 1.0536, Valid loss: 1.2078\n"
          ]
        },
        {
          "output_type": "stream",
          "name": "stderr",
          "text": [
            "Epoch [1957/3000]: 100%|██████████| 9/9 [00:00<00:00, 98.84it/s, loss=0.793]\n"
          ]
        },
        {
          "output_type": "stream",
          "name": "stdout",
          "text": [
            "Epoch [1957/3000]: Train loss: 1.0071, Valid loss: 1.3515\n"
          ]
        },
        {
          "output_type": "stream",
          "name": "stderr",
          "text": [
            "Epoch [1958/3000]: 100%|██████████| 9/9 [00:00<00:00, 106.57it/s, loss=0.773]\n"
          ]
        },
        {
          "output_type": "stream",
          "name": "stdout",
          "text": [
            "Epoch [1958/3000]: Train loss: 1.0065, Valid loss: 1.1759\n"
          ]
        },
        {
          "output_type": "stream",
          "name": "stderr",
          "text": [
            "Epoch [1959/3000]: 100%|██████████| 9/9 [00:00<00:00, 100.26it/s, loss=1.28]\n"
          ]
        },
        {
          "output_type": "stream",
          "name": "stdout",
          "text": [
            "Epoch [1959/3000]: Train loss: 1.0396, Valid loss: 1.0360\n"
          ]
        },
        {
          "output_type": "stream",
          "name": "stderr",
          "text": [
            "Epoch [1960/3000]: 100%|██████████| 9/9 [00:00<00:00, 76.36it/s, loss=0.977]\n"
          ]
        },
        {
          "output_type": "stream",
          "name": "stdout",
          "text": [
            "Epoch [1960/3000]: Train loss: 1.0197, Valid loss: 1.2613\n"
          ]
        },
        {
          "output_type": "stream",
          "name": "stderr",
          "text": [
            "Epoch [1961/3000]: 100%|██████████| 9/9 [00:00<00:00, 90.38it/s, loss=0.942]\n"
          ]
        },
        {
          "output_type": "stream",
          "name": "stdout",
          "text": [
            "Epoch [1961/3000]: Train loss: 1.0243, Valid loss: 1.1189\n"
          ]
        },
        {
          "output_type": "stream",
          "name": "stderr",
          "text": [
            "Epoch [1962/3000]: 100%|██████████| 9/9 [00:00<00:00, 80.76it/s, loss=1.08]\n"
          ]
        },
        {
          "output_type": "stream",
          "name": "stdout",
          "text": [
            "Epoch [1962/3000]: Train loss: 1.0341, Valid loss: 1.2386\n"
          ]
        },
        {
          "output_type": "stream",
          "name": "stderr",
          "text": [
            "Epoch [1963/3000]: 100%|██████████| 9/9 [00:00<00:00, 79.53it/s, loss=1.14]\n"
          ]
        },
        {
          "output_type": "stream",
          "name": "stdout",
          "text": [
            "Epoch [1963/3000]: Train loss: 1.0339, Valid loss: 1.1232\n"
          ]
        },
        {
          "output_type": "stream",
          "name": "stderr",
          "text": [
            "Epoch [1964/3000]: 100%|██████████| 9/9 [00:00<00:00, 91.08it/s, loss=1.21]\n"
          ]
        },
        {
          "output_type": "stream",
          "name": "stdout",
          "text": [
            "Epoch [1964/3000]: Train loss: 1.0337, Valid loss: 1.2121\n"
          ]
        },
        {
          "output_type": "stream",
          "name": "stderr",
          "text": [
            "Epoch [1965/3000]: 100%|██████████| 9/9 [00:00<00:00, 80.45it/s, loss=0.828]\n"
          ]
        },
        {
          "output_type": "stream",
          "name": "stdout",
          "text": [
            "Epoch [1965/3000]: Train loss: 1.0129, Valid loss: 1.2471\n"
          ]
        },
        {
          "output_type": "stream",
          "name": "stderr",
          "text": [
            "Epoch [1966/3000]: 100%|██████████| 9/9 [00:00<00:00, 90.81it/s, loss=0.946]\n"
          ]
        },
        {
          "output_type": "stream",
          "name": "stdout",
          "text": [
            "Epoch [1966/3000]: Train loss: 1.0214, Valid loss: 1.1372\n"
          ]
        },
        {
          "output_type": "stream",
          "name": "stderr",
          "text": [
            "Epoch [1967/3000]: 100%|██████████| 9/9 [00:00<00:00, 95.13it/s, loss=1.16]\n"
          ]
        },
        {
          "output_type": "stream",
          "name": "stdout",
          "text": [
            "Epoch [1967/3000]: Train loss: 1.0314, Valid loss: 1.3582\n"
          ]
        },
        {
          "output_type": "stream",
          "name": "stderr",
          "text": [
            "Epoch [1968/3000]: 100%|██████████| 9/9 [00:00<00:00, 95.26it/s, loss=1.5]\n"
          ]
        },
        {
          "output_type": "stream",
          "name": "stdout",
          "text": [
            "Epoch [1968/3000]: Train loss: 1.0515, Valid loss: 1.3844\n"
          ]
        },
        {
          "output_type": "stream",
          "name": "stderr",
          "text": [
            "Epoch [1969/3000]: 100%|██████████| 9/9 [00:00<00:00, 87.93it/s, loss=1.39]\n"
          ]
        },
        {
          "output_type": "stream",
          "name": "stdout",
          "text": [
            "Epoch [1969/3000]: Train loss: 1.0598, Valid loss: 1.2893\n"
          ]
        },
        {
          "output_type": "stream",
          "name": "stderr",
          "text": [
            "Epoch [1970/3000]: 100%|██████████| 9/9 [00:00<00:00, 110.17it/s, loss=1.08]\n"
          ]
        },
        {
          "output_type": "stream",
          "name": "stdout",
          "text": [
            "Epoch [1970/3000]: Train loss: 1.0363, Valid loss: 1.4811\n"
          ]
        },
        {
          "output_type": "stream",
          "name": "stderr",
          "text": [
            "Epoch [1971/3000]: 100%|██████████| 9/9 [00:00<00:00, 103.59it/s, loss=1.13]"
          ]
        },
        {
          "output_type": "stream",
          "name": "stdout",
          "text": [
            "Epoch [1971/3000]: Train loss: 1.0550, Valid loss: 1.1369"
          ]
        },
        {
          "output_type": "stream",
          "name": "stderr",
          "text": [
            "\n"
          ]
        },
        {
          "output_type": "stream",
          "name": "stdout",
          "text": [
            "\n"
          ]
        },
        {
          "output_type": "stream",
          "name": "stderr",
          "text": [
            "Epoch [1972/3000]: 100%|██████████| 9/9 [00:00<00:00, 102.71it/s, loss=1.29]\n"
          ]
        },
        {
          "output_type": "stream",
          "name": "stdout",
          "text": [
            "Epoch [1972/3000]: Train loss: 1.0435, Valid loss: 1.0851\n"
          ]
        },
        {
          "output_type": "stream",
          "name": "stderr",
          "text": [
            "Epoch [1973/3000]: 100%|██████████| 9/9 [00:00<00:00, 109.36it/s, loss=1.18]\n"
          ]
        },
        {
          "output_type": "stream",
          "name": "stdout",
          "text": [
            "Epoch [1973/3000]: Train loss: 1.0430, Valid loss: 1.4503\n"
          ]
        },
        {
          "output_type": "stream",
          "name": "stderr",
          "text": [
            "Epoch [1974/3000]: 100%|██████████| 9/9 [00:00<00:00, 91.86it/s, loss=0.775]\n"
          ]
        },
        {
          "output_type": "stream",
          "name": "stdout",
          "text": [
            "Epoch [1974/3000]: Train loss: 1.0193, Valid loss: 1.3108\n"
          ]
        },
        {
          "output_type": "stream",
          "name": "stderr",
          "text": [
            "Epoch [1975/3000]: 100%|██████████| 9/9 [00:00<00:00, 88.55it/s, loss=1.06]\n"
          ]
        },
        {
          "output_type": "stream",
          "name": "stdout",
          "text": [
            "Epoch [1975/3000]: Train loss: 1.0447, Valid loss: 1.2138\n"
          ]
        },
        {
          "output_type": "stream",
          "name": "stderr",
          "text": [
            "Epoch [1976/3000]: 100%|██████████| 9/9 [00:00<00:00, 73.17it/s, loss=1.06]\n"
          ]
        },
        {
          "output_type": "stream",
          "name": "stdout",
          "text": [
            "Epoch [1976/3000]: Train loss: 1.0570, Valid loss: 1.2241\n"
          ]
        },
        {
          "output_type": "stream",
          "name": "stderr",
          "text": [
            "Epoch [1977/3000]: 100%|██████████| 9/9 [00:00<00:00, 94.89it/s, loss=0.978]\n"
          ]
        },
        {
          "output_type": "stream",
          "name": "stdout",
          "text": [
            "Epoch [1977/3000]: Train loss: 1.0936, Valid loss: 1.5317\n"
          ]
        },
        {
          "output_type": "stream",
          "name": "stderr",
          "text": [
            "Epoch [1978/3000]: 100%|██████████| 9/9 [00:00<00:00, 104.12it/s, loss=0.899]\n"
          ]
        },
        {
          "output_type": "stream",
          "name": "stdout",
          "text": [
            "Epoch [1978/3000]: Train loss: 1.0790, Valid loss: 1.2259\n"
          ]
        },
        {
          "output_type": "stream",
          "name": "stderr",
          "text": [
            "Epoch [1979/3000]: 100%|██████████| 9/9 [00:00<00:00, 103.91it/s, loss=0.938]\n"
          ]
        },
        {
          "output_type": "stream",
          "name": "stdout",
          "text": [
            "Epoch [1979/3000]: Train loss: 1.0439, Valid loss: 1.2242\n"
          ]
        },
        {
          "output_type": "stream",
          "name": "stderr",
          "text": [
            "Epoch [1980/3000]: 100%|██████████| 9/9 [00:00<00:00, 104.47it/s, loss=0.794]\n"
          ]
        },
        {
          "output_type": "stream",
          "name": "stdout",
          "text": [
            "Epoch [1980/3000]: Train loss: 1.0137, Valid loss: 1.3542\n"
          ]
        },
        {
          "output_type": "stream",
          "name": "stderr",
          "text": [
            "Epoch [1981/3000]: 100%|██████████| 9/9 [00:00<00:00, 102.02it/s, loss=1.26]\n"
          ]
        },
        {
          "output_type": "stream",
          "name": "stdout",
          "text": [
            "Epoch [1981/3000]: Train loss: 1.0501, Valid loss: 1.0701\n"
          ]
        },
        {
          "output_type": "stream",
          "name": "stderr",
          "text": [
            "Epoch [1982/3000]: 100%|██████████| 9/9 [00:00<00:00, 91.17it/s, loss=0.93]\n"
          ]
        },
        {
          "output_type": "stream",
          "name": "stdout",
          "text": [
            "Epoch [1982/3000]: Train loss: 1.0435, Valid loss: 1.2635\n"
          ]
        },
        {
          "output_type": "stream",
          "name": "stderr",
          "text": [
            "Epoch [1983/3000]: 100%|██████████| 9/9 [00:00<00:00, 79.66it/s, loss=0.856]\n"
          ]
        },
        {
          "output_type": "stream",
          "name": "stdout",
          "text": [
            "Epoch [1983/3000]: Train loss: 1.0332, Valid loss: 1.3359\n"
          ]
        },
        {
          "output_type": "stream",
          "name": "stderr",
          "text": [
            "Epoch [1984/3000]: 100%|██████████| 9/9 [00:00<00:00, 102.54it/s, loss=1.17]\n"
          ]
        },
        {
          "output_type": "stream",
          "name": "stdout",
          "text": [
            "Epoch [1984/3000]: Train loss: 1.0374, Valid loss: 1.2745\n"
          ]
        },
        {
          "output_type": "stream",
          "name": "stderr",
          "text": [
            "Epoch [1985/3000]: 100%|██████████| 9/9 [00:00<00:00, 83.61it/s, loss=0.946]\n"
          ]
        },
        {
          "output_type": "stream",
          "name": "stdout",
          "text": [
            "Epoch [1985/3000]: Train loss: 1.0260, Valid loss: 1.1833\n"
          ]
        },
        {
          "output_type": "stream",
          "name": "stderr",
          "text": [
            "Epoch [1986/3000]: 100%|██████████| 9/9 [00:00<00:00, 95.42it/s, loss=1.04]\n"
          ]
        },
        {
          "output_type": "stream",
          "name": "stdout",
          "text": [
            "Epoch [1986/3000]: Train loss: 1.0333, Valid loss: 1.5504\n"
          ]
        },
        {
          "output_type": "stream",
          "name": "stderr",
          "text": [
            "Epoch [1987/3000]: 100%|██████████| 9/9 [00:00<00:00, 91.57it/s, loss=0.925]\n"
          ]
        },
        {
          "output_type": "stream",
          "name": "stdout",
          "text": [
            "Epoch [1987/3000]: Train loss: 1.0260, Valid loss: 1.2335\n"
          ]
        },
        {
          "output_type": "stream",
          "name": "stderr",
          "text": [
            "Epoch [1988/3000]: 100%|██████████| 9/9 [00:00<00:00, 84.70it/s, loss=0.975]\n"
          ]
        },
        {
          "output_type": "stream",
          "name": "stdout",
          "text": [
            "Epoch [1988/3000]: Train loss: 1.0161, Valid loss: 1.1198\n"
          ]
        },
        {
          "output_type": "stream",
          "name": "stderr",
          "text": [
            "Epoch [1989/3000]: 100%|██████████| 9/9 [00:00<00:00, 81.89it/s, loss=0.745]\n"
          ]
        },
        {
          "output_type": "stream",
          "name": "stdout",
          "text": [
            "Epoch [1989/3000]: Train loss: 1.0078, Valid loss: 1.2007\n"
          ]
        },
        {
          "output_type": "stream",
          "name": "stderr",
          "text": [
            "Epoch [1990/3000]: 100%|██████████| 9/9 [00:00<00:00, 94.08it/s, loss=1.1]\n"
          ]
        },
        {
          "output_type": "stream",
          "name": "stdout",
          "text": [
            "Epoch [1990/3000]: Train loss: 1.0340, Valid loss: 1.2068\n"
          ]
        },
        {
          "output_type": "stream",
          "name": "stderr",
          "text": [
            "Epoch [1991/3000]: 100%|██████████| 9/9 [00:00<00:00, 101.08it/s, loss=1.05]\n"
          ]
        },
        {
          "output_type": "stream",
          "name": "stdout",
          "text": [
            "Epoch [1991/3000]: Train loss: 1.0549, Valid loss: 1.2933\n"
          ]
        },
        {
          "output_type": "stream",
          "name": "stderr",
          "text": [
            "Epoch [1992/3000]: 100%|██████████| 9/9 [00:00<00:00, 99.47it/s, loss=0.788]\n"
          ]
        },
        {
          "output_type": "stream",
          "name": "stdout",
          "text": [
            "Epoch [1992/3000]: Train loss: 1.0471, Valid loss: 1.4145\n"
          ]
        },
        {
          "output_type": "stream",
          "name": "stderr",
          "text": [
            "Epoch [1993/3000]: 100%|██████████| 9/9 [00:00<00:00, 93.80it/s, loss=0.837]\n"
          ]
        },
        {
          "output_type": "stream",
          "name": "stdout",
          "text": [
            "Epoch [1993/3000]: Train loss: 1.0074, Valid loss: 1.1814\n"
          ]
        },
        {
          "output_type": "stream",
          "name": "stderr",
          "text": [
            "Epoch [1994/3000]: 100%|██████████| 9/9 [00:00<00:00, 74.89it/s, loss=0.91]\n"
          ]
        },
        {
          "output_type": "stream",
          "name": "stdout",
          "text": [
            "Epoch [1994/3000]: Train loss: 1.0358, Valid loss: 1.3783\n"
          ]
        },
        {
          "output_type": "stream",
          "name": "stderr",
          "text": [
            "Epoch [1995/3000]: 100%|██████████| 9/9 [00:00<00:00, 99.29it/s, loss=0.834]\n"
          ]
        },
        {
          "output_type": "stream",
          "name": "stdout",
          "text": [
            "Epoch [1995/3000]: Train loss: 1.0268, Valid loss: 1.1467\n"
          ]
        },
        {
          "output_type": "stream",
          "name": "stderr",
          "text": [
            "Epoch [1996/3000]: 100%|██████████| 9/9 [00:00<00:00, 82.45it/s, loss=0.923]\n"
          ]
        },
        {
          "output_type": "stream",
          "name": "stdout",
          "text": [
            "Epoch [1996/3000]: Train loss: 1.0155, Valid loss: 1.2398\n"
          ]
        },
        {
          "output_type": "stream",
          "name": "stderr",
          "text": [
            "Epoch [1997/3000]: 100%|██████████| 9/9 [00:00<00:00, 81.87it/s, loss=0.835]\n"
          ]
        },
        {
          "output_type": "stream",
          "name": "stdout",
          "text": [
            "Epoch [1997/3000]: Train loss: 1.0082, Valid loss: 1.1129\n"
          ]
        },
        {
          "output_type": "stream",
          "name": "stderr",
          "text": [
            "Epoch [1998/3000]: 100%|██████████| 9/9 [00:00<00:00, 93.64it/s, loss=1.63]\n"
          ]
        },
        {
          "output_type": "stream",
          "name": "stdout",
          "text": [
            "Epoch [1998/3000]: Train loss: 1.0639, Valid loss: 1.3782\n"
          ]
        },
        {
          "output_type": "stream",
          "name": "stderr",
          "text": [
            "Epoch [1999/3000]: 100%|██████████| 9/9 [00:00<00:00, 95.56it/s, loss=1.18]\n"
          ]
        },
        {
          "output_type": "stream",
          "name": "stdout",
          "text": [
            "Epoch [1999/3000]: Train loss: 1.0379, Valid loss: 1.2602\n"
          ]
        },
        {
          "output_type": "stream",
          "name": "stderr",
          "text": [
            "Epoch [2000/3000]: 100%|██████████| 9/9 [00:00<00:00, 83.89it/s, loss=1.03]\n"
          ]
        },
        {
          "output_type": "stream",
          "name": "stdout",
          "text": [
            "Epoch [2000/3000]: Train loss: 1.0245, Valid loss: 1.4238\n"
          ]
        },
        {
          "output_type": "stream",
          "name": "stderr",
          "text": [
            "Epoch [2001/3000]: 100%|██████████| 9/9 [00:00<00:00, 87.18it/s, loss=1.16]\n"
          ]
        },
        {
          "output_type": "stream",
          "name": "stdout",
          "text": [
            "Epoch [2001/3000]: Train loss: 1.0528, Valid loss: 1.3179\n"
          ]
        },
        {
          "output_type": "stream",
          "name": "stderr",
          "text": [
            "Epoch [2002/3000]: 100%|██████████| 9/9 [00:00<00:00, 98.93it/s, loss=0.947]\n"
          ]
        },
        {
          "output_type": "stream",
          "name": "stdout",
          "text": [
            "Epoch [2002/3000]: Train loss: 1.0176, Valid loss: 1.2220\n"
          ]
        },
        {
          "output_type": "stream",
          "name": "stderr",
          "text": [
            "Epoch [2003/3000]: 100%|██████████| 9/9 [00:00<00:00, 110.04it/s, loss=0.799]\n"
          ]
        },
        {
          "output_type": "stream",
          "name": "stdout",
          "text": [
            "Epoch [2003/3000]: Train loss: 1.0120, Valid loss: 1.1529\n"
          ]
        },
        {
          "output_type": "stream",
          "name": "stderr",
          "text": [
            "Epoch [2004/3000]: 100%|██████████| 9/9 [00:00<00:00, 92.66it/s, loss=1.02]\n"
          ]
        },
        {
          "output_type": "stream",
          "name": "stdout",
          "text": [
            "Epoch [2004/3000]: Train loss: 1.0194, Valid loss: 1.1042\n"
          ]
        },
        {
          "output_type": "stream",
          "name": "stderr",
          "text": [
            "Epoch [2005/3000]: 100%|██████████| 9/9 [00:00<00:00, 84.86it/s, loss=1.08]\n"
          ]
        },
        {
          "output_type": "stream",
          "name": "stdout",
          "text": [
            "Epoch [2005/3000]: Train loss: 1.0231, Valid loss: 1.3228\n"
          ]
        },
        {
          "output_type": "stream",
          "name": "stderr",
          "text": [
            "Epoch [2006/3000]: 100%|██████████| 9/9 [00:00<00:00, 113.86it/s, loss=0.979]\n"
          ]
        },
        {
          "output_type": "stream",
          "name": "stdout",
          "text": [
            "Epoch [2006/3000]: Train loss: 1.0168, Valid loss: 1.1061\n"
          ]
        },
        {
          "output_type": "stream",
          "name": "stderr",
          "text": [
            "Epoch [2007/3000]: 100%|██████████| 9/9 [00:00<00:00, 113.00it/s, loss=1.25]\n"
          ]
        },
        {
          "output_type": "stream",
          "name": "stdout",
          "text": [
            "Epoch [2007/3000]: Train loss: 1.0502, Valid loss: 1.1382\n"
          ]
        },
        {
          "output_type": "stream",
          "name": "stderr",
          "text": [
            "Epoch [2008/3000]: 100%|██████████| 9/9 [00:00<00:00, 98.14it/s, loss=1.09]\n"
          ]
        },
        {
          "output_type": "stream",
          "name": "stdout",
          "text": [
            "Epoch [2008/3000]: Train loss: 1.0370, Valid loss: 1.5384\n"
          ]
        },
        {
          "output_type": "stream",
          "name": "stderr",
          "text": [
            "Epoch [2009/3000]: 100%|██████████| 9/9 [00:00<00:00, 91.53it/s, loss=1.01]\n"
          ]
        },
        {
          "output_type": "stream",
          "name": "stdout",
          "text": [
            "Epoch [2009/3000]: Train loss: 1.0164, Valid loss: 1.4875\n"
          ]
        },
        {
          "output_type": "stream",
          "name": "stderr",
          "text": [
            "Epoch [2010/3000]: 100%|██████████| 9/9 [00:00<00:00, 89.94it/s, loss=1.09]\n"
          ]
        },
        {
          "output_type": "stream",
          "name": "stdout",
          "text": [
            "Epoch [2010/3000]: Train loss: 1.0424, Valid loss: 1.3006\n"
          ]
        },
        {
          "output_type": "stream",
          "name": "stderr",
          "text": [
            "Epoch [2011/3000]: 100%|██████████| 9/9 [00:00<00:00, 93.20it/s, loss=0.979]\n"
          ]
        },
        {
          "output_type": "stream",
          "name": "stdout",
          "text": [
            "Epoch [2011/3000]: Train loss: 1.0224, Valid loss: 1.0803\n"
          ]
        },
        {
          "output_type": "stream",
          "name": "stderr",
          "text": [
            "Epoch [2012/3000]: 100%|██████████| 9/9 [00:00<00:00, 69.45it/s, loss=1.52]\n"
          ]
        },
        {
          "output_type": "stream",
          "name": "stdout",
          "text": [
            "Epoch [2012/3000]: Train loss: 1.0695, Valid loss: 1.3101\n"
          ]
        },
        {
          "output_type": "stream",
          "name": "stderr",
          "text": [
            "Epoch [2013/3000]: 100%|██████████| 9/9 [00:00<00:00, 106.33it/s, loss=0.936]\n"
          ]
        },
        {
          "output_type": "stream",
          "name": "stdout",
          "text": [
            "Epoch [2013/3000]: Train loss: 1.0303, Valid loss: 1.2782\n"
          ]
        },
        {
          "output_type": "stream",
          "name": "stderr",
          "text": [
            "Epoch [2014/3000]: 100%|██████████| 9/9 [00:00<00:00, 99.85it/s, loss=0.931]\n"
          ]
        },
        {
          "output_type": "stream",
          "name": "stdout",
          "text": [
            "Epoch [2014/3000]: Train loss: 1.0535, Valid loss: 1.3178\n"
          ]
        },
        {
          "output_type": "stream",
          "name": "stderr",
          "text": [
            "Epoch [2015/3000]: 100%|██████████| 9/9 [00:00<00:00, 91.29it/s, loss=0.933]\n"
          ]
        },
        {
          "output_type": "stream",
          "name": "stdout",
          "text": [
            "Epoch [2015/3000]: Train loss: 1.0293, Valid loss: 1.2971\n"
          ]
        },
        {
          "output_type": "stream",
          "name": "stderr",
          "text": [
            "Epoch [2016/3000]: 100%|██████████| 9/9 [00:00<00:00, 105.22it/s, loss=0.931]\n"
          ]
        },
        {
          "output_type": "stream",
          "name": "stdout",
          "text": [
            "Epoch [2016/3000]: Train loss: 1.0195, Valid loss: 1.1929\n"
          ]
        },
        {
          "output_type": "stream",
          "name": "stderr",
          "text": [
            "Epoch [2017/3000]: 100%|██████████| 9/9 [00:00<00:00, 73.45it/s, loss=0.935]\n"
          ]
        },
        {
          "output_type": "stream",
          "name": "stdout",
          "text": [
            "Epoch [2017/3000]: Train loss: 1.0175, Valid loss: 1.6399\n"
          ]
        },
        {
          "output_type": "stream",
          "name": "stderr",
          "text": [
            "Epoch [2018/3000]: 100%|██████████| 9/9 [00:00<00:00, 90.40it/s, loss=1.43]\n"
          ]
        },
        {
          "output_type": "stream",
          "name": "stdout",
          "text": [
            "Epoch [2018/3000]: Train loss: 1.0603, Valid loss: 1.2037\n"
          ]
        },
        {
          "output_type": "stream",
          "name": "stderr",
          "text": [
            "Epoch [2019/3000]: 100%|██████████| 9/9 [00:00<00:00, 85.33it/s, loss=0.941]\n"
          ]
        },
        {
          "output_type": "stream",
          "name": "stdout",
          "text": [
            "Epoch [2019/3000]: Train loss: 1.0226, Valid loss: 1.2482\n"
          ]
        },
        {
          "output_type": "stream",
          "name": "stderr",
          "text": [
            "Epoch [2020/3000]: 100%|██████████| 9/9 [00:00<00:00, 90.98it/s, loss=0.766]\n"
          ]
        },
        {
          "output_type": "stream",
          "name": "stdout",
          "text": [
            "Epoch [2020/3000]: Train loss: 1.0368, Valid loss: 1.2915\n"
          ]
        },
        {
          "output_type": "stream",
          "name": "stderr",
          "text": [
            "Epoch [2021/3000]: 100%|██████████| 9/9 [00:00<00:00, 85.69it/s, loss=0.903]\n"
          ]
        },
        {
          "output_type": "stream",
          "name": "stdout",
          "text": [
            "Epoch [2021/3000]: Train loss: 1.0509, Valid loss: 1.3984\n"
          ]
        },
        {
          "output_type": "stream",
          "name": "stderr",
          "text": [
            "Epoch [2022/3000]: 100%|██████████| 9/9 [00:00<00:00, 95.57it/s, loss=1.46]\n"
          ]
        },
        {
          "output_type": "stream",
          "name": "stdout",
          "text": [
            "Epoch [2022/3000]: Train loss: 1.0616, Valid loss: 1.3050\n"
          ]
        },
        {
          "output_type": "stream",
          "name": "stderr",
          "text": [
            "Epoch [2023/3000]: 100%|██████████| 9/9 [00:00<00:00, 90.16it/s, loss=0.826]\n"
          ]
        },
        {
          "output_type": "stream",
          "name": "stdout",
          "text": [
            "Epoch [2023/3000]: Train loss: 1.0274, Valid loss: 1.4335\n"
          ]
        },
        {
          "output_type": "stream",
          "name": "stderr",
          "text": [
            "Epoch [2024/3000]: 100%|██████████| 9/9 [00:00<00:00, 106.42it/s, loss=0.729]\n"
          ]
        },
        {
          "output_type": "stream",
          "name": "stdout",
          "text": [
            "Epoch [2024/3000]: Train loss: 1.0091, Valid loss: 1.3194\n"
          ]
        },
        {
          "output_type": "stream",
          "name": "stderr",
          "text": [
            "Epoch [2025/3000]: 100%|██████████| 9/9 [00:00<00:00, 104.80it/s, loss=0.984]\n"
          ]
        },
        {
          "output_type": "stream",
          "name": "stdout",
          "text": [
            "Epoch [2025/3000]: Train loss: 1.0228, Valid loss: 1.6000\n"
          ]
        },
        {
          "output_type": "stream",
          "name": "stderr",
          "text": [
            "Epoch [2026/3000]: 100%|██████████| 9/9 [00:00<00:00, 111.82it/s, loss=0.989]\n"
          ]
        },
        {
          "output_type": "stream",
          "name": "stdout",
          "text": [
            "Epoch [2026/3000]: Train loss: 1.0185, Valid loss: 1.4373\n"
          ]
        },
        {
          "output_type": "stream",
          "name": "stderr",
          "text": [
            "Epoch [2027/3000]: 100%|██████████| 9/9 [00:00<00:00, 99.68it/s, loss=1.22]\n"
          ]
        },
        {
          "output_type": "stream",
          "name": "stdout",
          "text": [
            "Epoch [2027/3000]: Train loss: 1.0457, Valid loss: 1.2674\n"
          ]
        },
        {
          "output_type": "stream",
          "name": "stderr",
          "text": [
            "Epoch [2028/3000]: 100%|██████████| 9/9 [00:00<00:00, 117.02it/s, loss=1.11]\n"
          ]
        },
        {
          "output_type": "stream",
          "name": "stdout",
          "text": [
            "Epoch [2028/3000]: Train loss: 1.0323, Valid loss: 1.5417\n"
          ]
        },
        {
          "output_type": "stream",
          "name": "stderr",
          "text": [
            "Epoch [2029/3000]: 100%|██████████| 9/9 [00:00<00:00, 113.08it/s, loss=0.874]\n"
          ]
        },
        {
          "output_type": "stream",
          "name": "stdout",
          "text": [
            "Epoch [2029/3000]: Train loss: 1.0150, Valid loss: 1.3850\n"
          ]
        },
        {
          "output_type": "stream",
          "name": "stderr",
          "text": [
            "Epoch [2030/3000]: 100%|██████████| 9/9 [00:00<00:00, 116.11it/s, loss=1.16]\n"
          ]
        },
        {
          "output_type": "stream",
          "name": "stdout",
          "text": [
            "Epoch [2030/3000]: Train loss: 1.0255, Valid loss: 1.1605\n"
          ]
        },
        {
          "output_type": "stream",
          "name": "stderr",
          "text": [
            "Epoch [2031/3000]: 100%|██████████| 9/9 [00:00<00:00, 113.35it/s, loss=0.83]\n"
          ]
        },
        {
          "output_type": "stream",
          "name": "stdout",
          "text": [
            "Epoch [2031/3000]: Train loss: 1.0073, Valid loss: 1.1244\n"
          ]
        },
        {
          "output_type": "stream",
          "name": "stderr",
          "text": [
            "Epoch [2032/3000]: 100%|██████████| 9/9 [00:00<00:00, 99.19it/s, loss=1.02]\n"
          ]
        },
        {
          "output_type": "stream",
          "name": "stdout",
          "text": [
            "Epoch [2032/3000]: Train loss: 1.0188, Valid loss: 1.2096\n"
          ]
        },
        {
          "output_type": "stream",
          "name": "stderr",
          "text": [
            "Epoch [2033/3000]: 100%|██████████| 9/9 [00:00<00:00, 93.91it/s, loss=0.958]\n"
          ]
        },
        {
          "output_type": "stream",
          "name": "stdout",
          "text": [
            "Epoch [2033/3000]: Train loss: 1.0129, Valid loss: 1.2334\n"
          ]
        },
        {
          "output_type": "stream",
          "name": "stderr",
          "text": [
            "Epoch [2034/3000]: 100%|██████████| 9/9 [00:00<00:00, 102.37it/s, loss=1.26]\n"
          ]
        },
        {
          "output_type": "stream",
          "name": "stdout",
          "text": [
            "Epoch [2034/3000]: Train loss: 1.0485, Valid loss: 1.1852\n"
          ]
        },
        {
          "output_type": "stream",
          "name": "stderr",
          "text": [
            "Epoch [2035/3000]: 100%|██████████| 9/9 [00:00<00:00, 86.87it/s, loss=1.1]\n"
          ]
        },
        {
          "output_type": "stream",
          "name": "stdout",
          "text": [
            "Epoch [2035/3000]: Train loss: 1.0394, Valid loss: 1.2642\n"
          ]
        },
        {
          "output_type": "stream",
          "name": "stderr",
          "text": [
            "Epoch [2036/3000]: 100%|██████████| 9/9 [00:00<00:00, 97.38it/s, loss=1.06]\n"
          ]
        },
        {
          "output_type": "stream",
          "name": "stdout",
          "text": [
            "Epoch [2036/3000]: Train loss: 1.0217, Valid loss: 1.3881\n"
          ]
        },
        {
          "output_type": "stream",
          "name": "stderr",
          "text": [
            "Epoch [2037/3000]: 100%|██████████| 9/9 [00:00<00:00, 94.43it/s, loss=0.888]\n"
          ]
        },
        {
          "output_type": "stream",
          "name": "stdout",
          "text": [
            "Epoch [2037/3000]: Train loss: 1.0097, Valid loss: 1.2983\n"
          ]
        },
        {
          "output_type": "stream",
          "name": "stderr",
          "text": [
            "Epoch [2038/3000]: 100%|██████████| 9/9 [00:00<00:00, 112.78it/s, loss=0.99]\n"
          ]
        },
        {
          "output_type": "stream",
          "name": "stdout",
          "text": [
            "Epoch [2038/3000]: Train loss: 1.0156, Valid loss: 1.1060\n"
          ]
        },
        {
          "output_type": "stream",
          "name": "stderr",
          "text": [
            "Epoch [2039/3000]: 100%|██████████| 9/9 [00:00<00:00, 112.82it/s, loss=1.15]\n"
          ]
        },
        {
          "output_type": "stream",
          "name": "stdout",
          "text": [
            "Epoch [2039/3000]: Train loss: 1.0252, Valid loss: 1.3714\n"
          ]
        },
        {
          "output_type": "stream",
          "name": "stderr",
          "text": [
            "Epoch [2040/3000]: 100%|██████████| 9/9 [00:00<00:00, 111.10it/s, loss=0.88]\n"
          ]
        },
        {
          "output_type": "stream",
          "name": "stdout",
          "text": [
            "Epoch [2040/3000]: Train loss: 1.0148, Valid loss: 1.6305\n"
          ]
        },
        {
          "output_type": "stream",
          "name": "stderr",
          "text": [
            "Epoch [2041/3000]: 100%|██████████| 9/9 [00:00<00:00, 87.34it/s, loss=1.23]\n"
          ]
        },
        {
          "output_type": "stream",
          "name": "stdout",
          "text": [
            "Epoch [2041/3000]: Train loss: 1.0432, Valid loss: 1.3039\n"
          ]
        },
        {
          "output_type": "stream",
          "name": "stderr",
          "text": [
            "Epoch [2042/3000]: 100%|██████████| 9/9 [00:00<00:00, 99.23it/s, loss=0.665]\n"
          ]
        },
        {
          "output_type": "stream",
          "name": "stdout",
          "text": [
            "Epoch [2042/3000]: Train loss: 1.0021, Valid loss: 1.4085\n"
          ]
        },
        {
          "output_type": "stream",
          "name": "stderr",
          "text": [
            "Epoch [2043/3000]: 100%|██████████| 9/9 [00:00<00:00, 113.56it/s, loss=0.865]\n"
          ]
        },
        {
          "output_type": "stream",
          "name": "stdout",
          "text": [
            "Epoch [2043/3000]: Train loss: 1.0061, Valid loss: 1.3072\n"
          ]
        },
        {
          "output_type": "stream",
          "name": "stderr",
          "text": [
            "Epoch [2044/3000]: 100%|██████████| 9/9 [00:00<00:00, 109.59it/s, loss=0.919]\n"
          ]
        },
        {
          "output_type": "stream",
          "name": "stdout",
          "text": [
            "Epoch [2044/3000]: Train loss: 1.0228, Valid loss: 1.5888\n"
          ]
        },
        {
          "output_type": "stream",
          "name": "stderr",
          "text": [
            "Epoch [2045/3000]: 100%|██████████| 9/9 [00:00<00:00, 93.50it/s, loss=0.857]\n"
          ]
        },
        {
          "output_type": "stream",
          "name": "stdout",
          "text": [
            "Epoch [2045/3000]: Train loss: 1.0129, Valid loss: 1.3133\n"
          ]
        },
        {
          "output_type": "stream",
          "name": "stderr",
          "text": [
            "Epoch [2046/3000]: 100%|██████████| 9/9 [00:00<00:00, 92.63it/s, loss=1.14]\n"
          ]
        },
        {
          "output_type": "stream",
          "name": "stdout",
          "text": [
            "Epoch [2046/3000]: Train loss: 1.0239, Valid loss: 1.2786\n"
          ]
        },
        {
          "output_type": "stream",
          "name": "stderr",
          "text": [
            "Epoch [2047/3000]: 100%|██████████| 9/9 [00:00<00:00, 95.33it/s, loss=0.888]\n"
          ]
        },
        {
          "output_type": "stream",
          "name": "stdout",
          "text": [
            "Epoch [2047/3000]: Train loss: 1.0201, Valid loss: 1.3069\n"
          ]
        },
        {
          "output_type": "stream",
          "name": "stderr",
          "text": [
            "Epoch [2048/3000]: 100%|██████████| 9/9 [00:00<00:00, 91.85it/s, loss=1.33]\n"
          ]
        },
        {
          "output_type": "stream",
          "name": "stdout",
          "text": [
            "Epoch [2048/3000]: Train loss: 1.0388, Valid loss: 1.2985\n"
          ]
        },
        {
          "output_type": "stream",
          "name": "stderr",
          "text": [
            "Epoch [2049/3000]: 100%|██████████| 9/9 [00:00<00:00, 108.44it/s, loss=1.08]\n"
          ]
        },
        {
          "output_type": "stream",
          "name": "stdout",
          "text": [
            "Epoch [2049/3000]: Train loss: 1.0203, Valid loss: 1.2535\n"
          ]
        },
        {
          "output_type": "stream",
          "name": "stderr",
          "text": [
            "Epoch [2050/3000]: 100%|██████████| 9/9 [00:00<00:00, 108.26it/s, loss=1.06]\n"
          ]
        },
        {
          "output_type": "stream",
          "name": "stdout",
          "text": [
            "Epoch [2050/3000]: Train loss: 1.0176, Valid loss: 1.1106\n"
          ]
        },
        {
          "output_type": "stream",
          "name": "stderr",
          "text": [
            "Epoch [2051/3000]: 100%|██████████| 9/9 [00:00<00:00, 99.96it/s, loss=1]\n"
          ]
        },
        {
          "output_type": "stream",
          "name": "stdout",
          "text": [
            "Epoch [2051/3000]: Train loss: 1.0159, Valid loss: 1.3715\n"
          ]
        },
        {
          "output_type": "stream",
          "name": "stderr",
          "text": [
            "Epoch [2052/3000]: 100%|██████████| 9/9 [00:00<00:00, 105.94it/s, loss=0.994]\n"
          ]
        },
        {
          "output_type": "stream",
          "name": "stdout",
          "text": [
            "Epoch [2052/3000]: Train loss: 1.0141, Valid loss: 1.3191\n"
          ]
        },
        {
          "output_type": "stream",
          "name": "stderr",
          "text": [
            "Epoch [2053/3000]: 100%|██████████| 9/9 [00:00<00:00, 101.98it/s, loss=1.05]\n"
          ]
        },
        {
          "output_type": "stream",
          "name": "stdout",
          "text": [
            "Epoch [2053/3000]: Train loss: 1.0357, Valid loss: 1.4929\n"
          ]
        },
        {
          "output_type": "stream",
          "name": "stderr",
          "text": [
            "Epoch [2054/3000]: 100%|██████████| 9/9 [00:00<00:00, 106.78it/s, loss=0.897]\n"
          ]
        },
        {
          "output_type": "stream",
          "name": "stdout",
          "text": [
            "Epoch [2054/3000]: Train loss: 1.0115, Valid loss: 1.1642\n"
          ]
        },
        {
          "output_type": "stream",
          "name": "stderr",
          "text": [
            "Epoch [2055/3000]: 100%|██████████| 9/9 [00:00<00:00, 107.35it/s, loss=1.12]"
          ]
        },
        {
          "output_type": "stream",
          "name": "stdout",
          "text": [
            "Epoch [2055/3000]: Train loss: 1.0308, Valid loss: 1.1718"
          ]
        },
        {
          "output_type": "stream",
          "name": "stderr",
          "text": [
            "\n"
          ]
        },
        {
          "output_type": "stream",
          "name": "stdout",
          "text": [
            "\n"
          ]
        },
        {
          "output_type": "stream",
          "name": "stderr",
          "text": [
            "Epoch [2056/3000]: 100%|██████████| 9/9 [00:00<00:00, 115.17it/s, loss=1.22]\n"
          ]
        },
        {
          "output_type": "stream",
          "name": "stdout",
          "text": [
            "Epoch [2056/3000]: Train loss: 1.0376, Valid loss: 1.2999\n"
          ]
        },
        {
          "output_type": "stream",
          "name": "stderr",
          "text": [
            "Epoch [2057/3000]: 100%|██████████| 9/9 [00:00<00:00, 96.00it/s, loss=0.848]\n"
          ]
        },
        {
          "output_type": "stream",
          "name": "stdout",
          "text": [
            "Epoch [2057/3000]: Train loss: 1.0215, Valid loss: 1.2107\n"
          ]
        },
        {
          "output_type": "stream",
          "name": "stderr",
          "text": [
            "Epoch [2058/3000]: 100%|██████████| 9/9 [00:00<00:00, 91.81it/s, loss=0.976]\n"
          ]
        },
        {
          "output_type": "stream",
          "name": "stdout",
          "text": [
            "Epoch [2058/3000]: Train loss: 1.0137, Valid loss: 1.1457\n"
          ]
        },
        {
          "output_type": "stream",
          "name": "stderr",
          "text": [
            "Epoch [2059/3000]: 100%|██████████| 9/9 [00:00<00:00, 91.87it/s, loss=0.816]\n"
          ]
        },
        {
          "output_type": "stream",
          "name": "stdout",
          "text": [
            "Epoch [2059/3000]: Train loss: 1.0053, Valid loss: 1.2047\n"
          ]
        },
        {
          "output_type": "stream",
          "name": "stderr",
          "text": [
            "Epoch [2060/3000]: 100%|██████████| 9/9 [00:00<00:00, 95.65it/s, loss=1.06]\n"
          ]
        },
        {
          "output_type": "stream",
          "name": "stdout",
          "text": [
            "Epoch [2060/3000]: Train loss: 1.0179, Valid loss: 1.4306\n"
          ]
        },
        {
          "output_type": "stream",
          "name": "stderr",
          "text": [
            "Epoch [2061/3000]: 100%|██████████| 9/9 [00:00<00:00, 78.17it/s, loss=1.02]\n"
          ]
        },
        {
          "output_type": "stream",
          "name": "stdout",
          "text": [
            "Epoch [2061/3000]: Train loss: 1.0200, Valid loss: 1.2736\n"
          ]
        },
        {
          "output_type": "stream",
          "name": "stderr",
          "text": [
            "Epoch [2062/3000]: 100%|██████████| 9/9 [00:00<00:00, 107.00it/s, loss=0.704]\n"
          ]
        },
        {
          "output_type": "stream",
          "name": "stdout",
          "text": [
            "Epoch [2062/3000]: Train loss: 0.9984, Valid loss: 1.1625\n"
          ]
        },
        {
          "output_type": "stream",
          "name": "stderr",
          "text": [
            "Epoch [2063/3000]: 100%|██████████| 9/9 [00:00<00:00, 107.31it/s, loss=1.01]\n"
          ]
        },
        {
          "output_type": "stream",
          "name": "stdout",
          "text": [
            "Epoch [2063/3000]: Train loss: 1.0129, Valid loss: 1.1634\n"
          ]
        },
        {
          "output_type": "stream",
          "name": "stderr",
          "text": [
            "Epoch [2064/3000]: 100%|██████████| 9/9 [00:00<00:00, 83.96it/s, loss=0.987]\n"
          ]
        },
        {
          "output_type": "stream",
          "name": "stdout",
          "text": [
            "Epoch [2064/3000]: Train loss: 1.0173, Valid loss: 1.0972\n"
          ]
        },
        {
          "output_type": "stream",
          "name": "stderr",
          "text": [
            "Epoch [2065/3000]: 100%|██████████| 9/9 [00:00<00:00, 93.73it/s, loss=1.06]\n"
          ]
        },
        {
          "output_type": "stream",
          "name": "stdout",
          "text": [
            "Epoch [2065/3000]: Train loss: 1.0212, Valid loss: 1.3178\n"
          ]
        },
        {
          "output_type": "stream",
          "name": "stderr",
          "text": [
            "Epoch [2066/3000]: 100%|██████████| 9/9 [00:00<00:00, 29.85it/s, loss=1.16]\n"
          ]
        },
        {
          "output_type": "stream",
          "name": "stdout",
          "text": [
            "Epoch [2066/3000]: Train loss: 1.0330, Valid loss: 1.1140\n"
          ]
        },
        {
          "output_type": "stream",
          "name": "stderr",
          "text": [
            "Epoch [2067/3000]: 100%|██████████| 9/9 [00:00<00:00, 99.66it/s, loss=0.929]\n"
          ]
        },
        {
          "output_type": "stream",
          "name": "stdout",
          "text": [
            "Epoch [2067/3000]: Train loss: 1.0156, Valid loss: 1.1851\n"
          ]
        },
        {
          "output_type": "stream",
          "name": "stderr",
          "text": [
            "Epoch [2068/3000]: 100%|██████████| 9/9 [00:00<00:00, 96.27it/s, loss=1.03]\n"
          ]
        },
        {
          "output_type": "stream",
          "name": "stdout",
          "text": [
            "Epoch [2068/3000]: Train loss: 1.0397, Valid loss: 1.2907\n"
          ]
        },
        {
          "output_type": "stream",
          "name": "stderr",
          "text": [
            "Epoch [2069/3000]: 100%|██████████| 9/9 [00:00<00:00, 82.09it/s, loss=1.06]\n"
          ]
        },
        {
          "output_type": "stream",
          "name": "stdout",
          "text": [
            "Epoch [2069/3000]: Train loss: 1.0219, Valid loss: 1.0973\n"
          ]
        },
        {
          "output_type": "stream",
          "name": "stderr",
          "text": [
            "Epoch [2070/3000]: 100%|██████████| 9/9 [00:00<00:00, 87.60it/s, loss=1.43]\n"
          ]
        },
        {
          "output_type": "stream",
          "name": "stdout",
          "text": [
            "Epoch [2070/3000]: Train loss: 1.0574, Valid loss: 1.2301\n"
          ]
        },
        {
          "output_type": "stream",
          "name": "stderr",
          "text": [
            "Epoch [2071/3000]: 100%|██████████| 9/9 [00:00<00:00, 105.05it/s, loss=0.946]\n"
          ]
        },
        {
          "output_type": "stream",
          "name": "stdout",
          "text": [
            "Epoch [2071/3000]: Train loss: 1.0134, Valid loss: 1.2465\n"
          ]
        },
        {
          "output_type": "stream",
          "name": "stderr",
          "text": [
            "Epoch [2072/3000]: 100%|██████████| 9/9 [00:00<00:00, 106.45it/s, loss=0.958]\n"
          ]
        },
        {
          "output_type": "stream",
          "name": "stdout",
          "text": [
            "Epoch [2072/3000]: Train loss: 1.0143, Valid loss: 1.0442\n"
          ]
        },
        {
          "output_type": "stream",
          "name": "stderr",
          "text": [
            "Epoch [2073/3000]: 100%|██████████| 9/9 [00:00<00:00, 104.94it/s, loss=0.993]\n"
          ]
        },
        {
          "output_type": "stream",
          "name": "stdout",
          "text": [
            "Epoch [2073/3000]: Train loss: 1.0147, Valid loss: 1.2161\n"
          ]
        },
        {
          "output_type": "stream",
          "name": "stderr",
          "text": [
            "Epoch [2074/3000]: 100%|██████████| 9/9 [00:00<00:00, 114.09it/s, loss=1.37]\n"
          ]
        },
        {
          "output_type": "stream",
          "name": "stdout",
          "text": [
            "Epoch [2074/3000]: Train loss: 1.1014, Valid loss: 1.6745\n"
          ]
        },
        {
          "output_type": "stream",
          "name": "stderr",
          "text": [
            "Epoch [2075/3000]: 100%|██████████| 9/9 [00:00<00:00, 84.69it/s, loss=0.829]\n"
          ]
        },
        {
          "output_type": "stream",
          "name": "stdout",
          "text": [
            "Epoch [2075/3000]: Train loss: 1.0465, Valid loss: 1.2063\n"
          ]
        },
        {
          "output_type": "stream",
          "name": "stderr",
          "text": [
            "Epoch [2076/3000]: 100%|██████████| 9/9 [00:00<00:00, 91.95it/s, loss=0.956]\n"
          ]
        },
        {
          "output_type": "stream",
          "name": "stdout",
          "text": [
            "Epoch [2076/3000]: Train loss: 1.0224, Valid loss: 1.3452\n"
          ]
        },
        {
          "output_type": "stream",
          "name": "stderr",
          "text": [
            "Epoch [2077/3000]: 100%|██████████| 9/9 [00:00<00:00, 86.77it/s, loss=0.927]\n"
          ]
        },
        {
          "output_type": "stream",
          "name": "stdout",
          "text": [
            "Epoch [2077/3000]: Train loss: 1.0113, Valid loss: 1.2580\n"
          ]
        },
        {
          "output_type": "stream",
          "name": "stderr",
          "text": [
            "Epoch [2078/3000]: 100%|██████████| 9/9 [00:00<00:00, 79.67it/s, loss=1.05]\n"
          ]
        },
        {
          "output_type": "stream",
          "name": "stdout",
          "text": [
            "Epoch [2078/3000]: Train loss: 1.0159, Valid loss: 1.3100\n"
          ]
        },
        {
          "output_type": "stream",
          "name": "stderr",
          "text": [
            "Epoch [2079/3000]: 100%|██████████| 9/9 [00:00<00:00, 77.21it/s, loss=0.932]\n"
          ]
        },
        {
          "output_type": "stream",
          "name": "stdout",
          "text": [
            "Epoch [2079/3000]: Train loss: 1.0097, Valid loss: 1.2998\n"
          ]
        },
        {
          "output_type": "stream",
          "name": "stderr",
          "text": [
            "Epoch [2080/3000]: 100%|██████████| 9/9 [00:00<00:00, 81.47it/s, loss=0.752]\n"
          ]
        },
        {
          "output_type": "stream",
          "name": "stdout",
          "text": [
            "Epoch [2080/3000]: Train loss: 1.0233, Valid loss: 1.0612\n"
          ]
        },
        {
          "output_type": "stream",
          "name": "stderr",
          "text": [
            "Epoch [2081/3000]: 100%|██████████| 9/9 [00:00<00:00, 83.31it/s, loss=1.15]\n"
          ]
        },
        {
          "output_type": "stream",
          "name": "stdout",
          "text": [
            "Epoch [2081/3000]: Train loss: 1.0471, Valid loss: 1.2940\n"
          ]
        },
        {
          "output_type": "stream",
          "name": "stderr",
          "text": [
            "Epoch [2082/3000]: 100%|██████████| 9/9 [00:00<00:00, 94.21it/s, loss=1.04]\n"
          ]
        },
        {
          "output_type": "stream",
          "name": "stdout",
          "text": [
            "Epoch [2082/3000]: Train loss: 1.0172, Valid loss: 1.1326\n"
          ]
        },
        {
          "output_type": "stream",
          "name": "stderr",
          "text": [
            "Epoch [2083/3000]: 100%|██████████| 9/9 [00:00<00:00, 99.94it/s, loss=1]\n"
          ]
        },
        {
          "output_type": "stream",
          "name": "stdout",
          "text": [
            "Epoch [2083/3000]: Train loss: 1.0152, Valid loss: 1.2829\n"
          ]
        },
        {
          "output_type": "stream",
          "name": "stderr",
          "text": [
            "Epoch [2084/3000]: 100%|██████████| 9/9 [00:00<00:00, 90.44it/s, loss=1.32]\n"
          ]
        },
        {
          "output_type": "stream",
          "name": "stdout",
          "text": [
            "Epoch [2084/3000]: Train loss: 1.0386, Valid loss: 1.2250\n"
          ]
        },
        {
          "output_type": "stream",
          "name": "stderr",
          "text": [
            "Epoch [2085/3000]: 100%|██████████| 9/9 [00:00<00:00, 105.08it/s, loss=1.09]\n"
          ]
        },
        {
          "output_type": "stream",
          "name": "stdout",
          "text": [
            "Epoch [2085/3000]: Train loss: 1.0207, Valid loss: 1.4040\n"
          ]
        },
        {
          "output_type": "stream",
          "name": "stderr",
          "text": [
            "Epoch [2086/3000]: 100%|██████████| 9/9 [00:00<00:00, 75.39it/s, loss=1.05]\n"
          ]
        },
        {
          "output_type": "stream",
          "name": "stdout",
          "text": [
            "Epoch [2086/3000]: Train loss: 1.0170, Valid loss: 1.3049\n"
          ]
        },
        {
          "output_type": "stream",
          "name": "stderr",
          "text": [
            "Epoch [2087/3000]: 100%|██████████| 9/9 [00:00<00:00, 86.26it/s, loss=1.2]\n"
          ]
        },
        {
          "output_type": "stream",
          "name": "stdout",
          "text": [
            "Epoch [2087/3000]: Train loss: 1.0353, Valid loss: 1.1742\n"
          ]
        },
        {
          "output_type": "stream",
          "name": "stderr",
          "text": [
            "Epoch [2088/3000]: 100%|██████████| 9/9 [00:00<00:00, 100.94it/s, loss=1.13]\n"
          ]
        },
        {
          "output_type": "stream",
          "name": "stdout",
          "text": [
            "Epoch [2088/3000]: Train loss: 1.0273, Valid loss: 1.1806\n"
          ]
        },
        {
          "output_type": "stream",
          "name": "stderr",
          "text": [
            "Epoch [2089/3000]: 100%|██████████| 9/9 [00:00<00:00, 103.11it/s, loss=1.22]\n"
          ]
        },
        {
          "output_type": "stream",
          "name": "stdout",
          "text": [
            "Epoch [2089/3000]: Train loss: 1.0447, Valid loss: 1.1394\n"
          ]
        },
        {
          "output_type": "stream",
          "name": "stderr",
          "text": [
            "Epoch [2090/3000]: 100%|██████████| 9/9 [00:00<00:00, 97.58it/s, loss=1.21]\n"
          ]
        },
        {
          "output_type": "stream",
          "name": "stdout",
          "text": [
            "Epoch [2090/3000]: Train loss: 1.0372, Valid loss: 1.2856\n"
          ]
        },
        {
          "output_type": "stream",
          "name": "stderr",
          "text": [
            "Epoch [2091/3000]: 100%|██████████| 9/9 [00:00<00:00, 84.23it/s, loss=1.26]\n"
          ]
        },
        {
          "output_type": "stream",
          "name": "stdout",
          "text": [
            "Epoch [2091/3000]: Train loss: 1.0521, Valid loss: 1.3544\n"
          ]
        },
        {
          "output_type": "stream",
          "name": "stderr",
          "text": [
            "Epoch [2092/3000]: 100%|██████████| 9/9 [00:00<00:00, 105.64it/s, loss=1.14]\n"
          ]
        },
        {
          "output_type": "stream",
          "name": "stdout",
          "text": [
            "Epoch [2092/3000]: Train loss: 1.0423, Valid loss: 1.0318\n"
          ]
        },
        {
          "output_type": "stream",
          "name": "stderr",
          "text": [
            "Epoch [2093/3000]: 100%|██████████| 9/9 [00:00<00:00, 107.35it/s, loss=1.25]\n"
          ]
        },
        {
          "output_type": "stream",
          "name": "stdout",
          "text": [
            "Epoch [2093/3000]: Train loss: 1.0287, Valid loss: 1.0957\n"
          ]
        },
        {
          "output_type": "stream",
          "name": "stderr",
          "text": [
            "Epoch [2094/3000]: 100%|██████████| 9/9 [00:00<00:00, 92.88it/s, loss=0.843]\n"
          ]
        },
        {
          "output_type": "stream",
          "name": "stdout",
          "text": [
            "Epoch [2094/3000]: Train loss: 1.0039, Valid loss: 1.3691\n"
          ]
        },
        {
          "output_type": "stream",
          "name": "stderr",
          "text": [
            "Epoch [2095/3000]: 100%|██████████| 9/9 [00:00<00:00, 74.83it/s, loss=0.764]\n"
          ]
        },
        {
          "output_type": "stream",
          "name": "stdout",
          "text": [
            "Epoch [2095/3000]: Train loss: 1.0027, Valid loss: 1.6245\n"
          ]
        },
        {
          "output_type": "stream",
          "name": "stderr",
          "text": [
            "Epoch [2096/3000]: 100%|██████████| 9/9 [00:00<00:00, 76.38it/s, loss=1.07]\n"
          ]
        },
        {
          "output_type": "stream",
          "name": "stdout",
          "text": [
            "Epoch [2096/3000]: Train loss: 1.0257, Valid loss: 1.4152\n"
          ]
        },
        {
          "output_type": "stream",
          "name": "stderr",
          "text": [
            "Epoch [2097/3000]: 100%|██████████| 9/9 [00:00<00:00, 96.47it/s, loss=0.828]\n"
          ]
        },
        {
          "output_type": "stream",
          "name": "stdout",
          "text": [
            "Epoch [2097/3000]: Train loss: 1.0209, Valid loss: 1.2510\n"
          ]
        },
        {
          "output_type": "stream",
          "name": "stderr",
          "text": [
            "Epoch [2098/3000]: 100%|██████████| 9/9 [00:00<00:00, 103.06it/s, loss=1.11]\n"
          ]
        },
        {
          "output_type": "stream",
          "name": "stdout",
          "text": [
            "Epoch [2098/3000]: Train loss: 1.0299, Valid loss: 1.3768\n"
          ]
        },
        {
          "output_type": "stream",
          "name": "stderr",
          "text": [
            "Epoch [2099/3000]: 100%|██████████| 9/9 [00:00<00:00, 86.13it/s, loss=0.834]\n"
          ]
        },
        {
          "output_type": "stream",
          "name": "stdout",
          "text": [
            "Epoch [2099/3000]: Train loss: 1.0178, Valid loss: 1.2136\n"
          ]
        },
        {
          "output_type": "stream",
          "name": "stderr",
          "text": [
            "Epoch [2100/3000]: 100%|██████████| 9/9 [00:00<00:00, 90.56it/s, loss=0.987]\n"
          ]
        },
        {
          "output_type": "stream",
          "name": "stdout",
          "text": [
            "Epoch [2100/3000]: Train loss: 1.0116, Valid loss: 1.2823\n"
          ]
        },
        {
          "output_type": "stream",
          "name": "stderr",
          "text": [
            "Epoch [2101/3000]: 100%|██████████| 9/9 [00:00<00:00, 95.26it/s, loss=1.01]\n"
          ]
        },
        {
          "output_type": "stream",
          "name": "stdout",
          "text": [
            "Epoch [2101/3000]: Train loss: 1.0167, Valid loss: 1.2869\n"
          ]
        },
        {
          "output_type": "stream",
          "name": "stderr",
          "text": [
            "Epoch [2102/3000]: 100%|██████████| 9/9 [00:00<00:00, 92.36it/s, loss=0.93]\n"
          ]
        },
        {
          "output_type": "stream",
          "name": "stdout",
          "text": [
            "Epoch [2102/3000]: Train loss: 1.0370, Valid loss: 1.3416\n"
          ]
        },
        {
          "output_type": "stream",
          "name": "stderr",
          "text": [
            "Epoch [2103/3000]: 100%|██████████| 9/9 [00:00<00:00, 99.34it/s, loss=1.07]\n"
          ]
        },
        {
          "output_type": "stream",
          "name": "stdout",
          "text": [
            "Epoch [2103/3000]: Train loss: 1.0302, Valid loss: 1.2845\n"
          ]
        },
        {
          "output_type": "stream",
          "name": "stderr",
          "text": [
            "Epoch [2104/3000]: 100%|██████████| 9/9 [00:00<00:00, 94.14it/s, loss=0.82]\n"
          ]
        },
        {
          "output_type": "stream",
          "name": "stdout",
          "text": [
            "Epoch [2104/3000]: Train loss: 1.0182, Valid loss: 1.2955\n"
          ]
        },
        {
          "output_type": "stream",
          "name": "stderr",
          "text": [
            "Epoch [2105/3000]: 100%|██████████| 9/9 [00:00<00:00, 84.31it/s, loss=1.23]\n"
          ]
        },
        {
          "output_type": "stream",
          "name": "stdout",
          "text": [
            "Epoch [2105/3000]: Train loss: 1.0383, Valid loss: 1.1360\n"
          ]
        },
        {
          "output_type": "stream",
          "name": "stderr",
          "text": [
            "Epoch [2106/3000]: 100%|██████████| 9/9 [00:00<00:00, 81.92it/s, loss=1.24]\n"
          ]
        },
        {
          "output_type": "stream",
          "name": "stdout",
          "text": [
            "Epoch [2106/3000]: Train loss: 1.0330, Valid loss: 1.2537\n"
          ]
        },
        {
          "output_type": "stream",
          "name": "stderr",
          "text": [
            "Epoch [2107/3000]: 100%|██████████| 9/9 [00:00<00:00, 82.85it/s, loss=0.862]\n"
          ]
        },
        {
          "output_type": "stream",
          "name": "stdout",
          "text": [
            "Epoch [2107/3000]: Train loss: 1.0131, Valid loss: 1.0285\n"
          ]
        },
        {
          "output_type": "stream",
          "name": "stderr",
          "text": [
            "Epoch [2108/3000]: 100%|██████████| 9/9 [00:00<00:00, 94.96it/s, loss=0.98]\n"
          ]
        },
        {
          "output_type": "stream",
          "name": "stdout",
          "text": [
            "Epoch [2108/3000]: Train loss: 1.0194, Valid loss: 1.3590\n"
          ]
        },
        {
          "output_type": "stream",
          "name": "stderr",
          "text": [
            "Epoch [2109/3000]: 100%|██████████| 9/9 [00:00<00:00, 105.54it/s, loss=1.29]\n"
          ]
        },
        {
          "output_type": "stream",
          "name": "stdout",
          "text": [
            "Epoch [2109/3000]: Train loss: 1.0356, Valid loss: 1.5346\n"
          ]
        },
        {
          "output_type": "stream",
          "name": "stderr",
          "text": [
            "Epoch [2110/3000]: 100%|██████████| 9/9 [00:00<00:00, 109.62it/s, loss=0.84]\n"
          ]
        },
        {
          "output_type": "stream",
          "name": "stdout",
          "text": [
            "Epoch [2110/3000]: Train loss: 1.0228, Valid loss: 1.6646\n"
          ]
        },
        {
          "output_type": "stream",
          "name": "stderr",
          "text": [
            "Epoch [2111/3000]: 100%|██████████| 9/9 [00:00<00:00, 110.71it/s, loss=0.798]\n"
          ]
        },
        {
          "output_type": "stream",
          "name": "stdout",
          "text": [
            "Epoch [2111/3000]: Train loss: 1.0013, Valid loss: 1.3942\n"
          ]
        },
        {
          "output_type": "stream",
          "name": "stderr",
          "text": [
            "Epoch [2112/3000]: 100%|██████████| 9/9 [00:00<00:00, 111.62it/s, loss=1.47]\n"
          ]
        },
        {
          "output_type": "stream",
          "name": "stdout",
          "text": [
            "Epoch [2112/3000]: Train loss: 1.0500, Valid loss: 1.2423\n"
          ]
        },
        {
          "output_type": "stream",
          "name": "stderr",
          "text": [
            "Epoch [2113/3000]: 100%|██████████| 9/9 [00:00<00:00, 81.17it/s, loss=0.93]\n"
          ]
        },
        {
          "output_type": "stream",
          "name": "stdout",
          "text": [
            "Epoch [2113/3000]: Train loss: 1.0220, Valid loss: 1.2464\n"
          ]
        },
        {
          "output_type": "stream",
          "name": "stderr",
          "text": [
            "Epoch [2114/3000]: 100%|██████████| 9/9 [00:00<00:00, 105.92it/s, loss=0.874]\n"
          ]
        },
        {
          "output_type": "stream",
          "name": "stdout",
          "text": [
            "Epoch [2114/3000]: Train loss: 1.0070, Valid loss: 1.3636\n"
          ]
        },
        {
          "output_type": "stream",
          "name": "stderr",
          "text": [
            "Epoch [2115/3000]: 100%|██████████| 9/9 [00:00<00:00, 81.73it/s, loss=1.04]\n"
          ]
        },
        {
          "output_type": "stream",
          "name": "stdout",
          "text": [
            "Epoch [2115/3000]: Train loss: 1.0212, Valid loss: 1.4766\n"
          ]
        },
        {
          "output_type": "stream",
          "name": "stderr",
          "text": [
            "Epoch [2116/3000]: 100%|██████████| 9/9 [00:00<00:00, 76.34it/s, loss=0.76]\n"
          ]
        },
        {
          "output_type": "stream",
          "name": "stdout",
          "text": [
            "Epoch [2116/3000]: Train loss: 1.0039, Valid loss: 1.6318\n"
          ]
        },
        {
          "output_type": "stream",
          "name": "stderr",
          "text": [
            "Epoch [2117/3000]: 100%|██████████| 9/9 [00:00<00:00, 94.06it/s, loss=0.69]\n"
          ]
        },
        {
          "output_type": "stream",
          "name": "stdout",
          "text": [
            "Epoch [2117/3000]: Train loss: 1.0211, Valid loss: 1.2962\n"
          ]
        },
        {
          "output_type": "stream",
          "name": "stderr",
          "text": [
            "Epoch [2118/3000]: 100%|██████████| 9/9 [00:00<00:00, 91.08it/s, loss=1.05]\n"
          ]
        },
        {
          "output_type": "stream",
          "name": "stdout",
          "text": [
            "Epoch [2118/3000]: Train loss: 1.0195, Valid loss: 1.0745\n"
          ]
        },
        {
          "output_type": "stream",
          "name": "stderr",
          "text": [
            "Epoch [2119/3000]: 100%|██████████| 9/9 [00:00<00:00, 107.11it/s, loss=1.14]\n"
          ]
        },
        {
          "output_type": "stream",
          "name": "stdout",
          "text": [
            "Epoch [2119/3000]: Train loss: 1.0256, Valid loss: 1.1679\n"
          ]
        },
        {
          "output_type": "stream",
          "name": "stderr",
          "text": [
            "Epoch [2120/3000]: 100%|██████████| 9/9 [00:00<00:00, 111.85it/s, loss=0.716]\n"
          ]
        },
        {
          "output_type": "stream",
          "name": "stdout",
          "text": [
            "Epoch [2120/3000]: Train loss: 1.0495, Valid loss: 1.2381\n"
          ]
        },
        {
          "output_type": "stream",
          "name": "stderr",
          "text": [
            "Epoch [2121/3000]: 100%|██████████| 9/9 [00:00<00:00, 111.95it/s, loss=1.26]\n"
          ]
        },
        {
          "output_type": "stream",
          "name": "stdout",
          "text": [
            "Epoch [2121/3000]: Train loss: 1.0795, Valid loss: 1.1365\n"
          ]
        },
        {
          "output_type": "stream",
          "name": "stderr",
          "text": [
            "Epoch [2122/3000]: 100%|██████████| 9/9 [00:00<00:00, 110.84it/s, loss=1.14]\n"
          ]
        },
        {
          "output_type": "stream",
          "name": "stdout",
          "text": [
            "Epoch [2122/3000]: Train loss: 1.0534, Valid loss: 1.2307\n"
          ]
        },
        {
          "output_type": "stream",
          "name": "stderr",
          "text": [
            "Epoch [2123/3000]: 100%|██████████| 9/9 [00:00<00:00, 104.10it/s, loss=1.48]\n"
          ]
        },
        {
          "output_type": "stream",
          "name": "stdout",
          "text": [
            "Epoch [2123/3000]: Train loss: 1.0580, Valid loss: 1.3115\n"
          ]
        },
        {
          "output_type": "stream",
          "name": "stderr",
          "text": [
            "Epoch [2124/3000]: 100%|██████████| 9/9 [00:00<00:00, 87.86it/s, loss=0.78]\n"
          ]
        },
        {
          "output_type": "stream",
          "name": "stdout",
          "text": [
            "Epoch [2124/3000]: Train loss: 1.0062, Valid loss: 1.1948\n"
          ]
        },
        {
          "output_type": "stream",
          "name": "stderr",
          "text": [
            "Epoch [2125/3000]: 100%|██████████| 9/9 [00:00<00:00, 102.10it/s, loss=1.11]\n"
          ]
        },
        {
          "output_type": "stream",
          "name": "stdout",
          "text": [
            "Epoch [2125/3000]: Train loss: 1.0171, Valid loss: 1.7619\n"
          ]
        },
        {
          "output_type": "stream",
          "name": "stderr",
          "text": [
            "Epoch [2126/3000]: 100%|██████████| 9/9 [00:00<00:00, 102.20it/s, loss=1.08]\n"
          ]
        },
        {
          "output_type": "stream",
          "name": "stdout",
          "text": [
            "Epoch [2126/3000]: Train loss: 1.0287, Valid loss: 1.2393\n"
          ]
        },
        {
          "output_type": "stream",
          "name": "stderr",
          "text": [
            "Epoch [2127/3000]: 100%|██████████| 9/9 [00:00<00:00, 112.09it/s, loss=1]\n"
          ]
        },
        {
          "output_type": "stream",
          "name": "stdout",
          "text": [
            "Epoch [2127/3000]: Train loss: 1.0284, Valid loss: 1.1031\n"
          ]
        },
        {
          "output_type": "stream",
          "name": "stderr",
          "text": [
            "Epoch [2128/3000]: 100%|██████████| 9/9 [00:00<00:00, 99.05it/s, loss=1.18]\n"
          ]
        },
        {
          "output_type": "stream",
          "name": "stdout",
          "text": [
            "Epoch [2128/3000]: Train loss: 1.0433, Valid loss: 1.1191\n"
          ]
        },
        {
          "output_type": "stream",
          "name": "stderr",
          "text": [
            "Epoch [2129/3000]: 100%|██████████| 9/9 [00:00<00:00, 112.60it/s, loss=1.56]\n"
          ]
        },
        {
          "output_type": "stream",
          "name": "stdout",
          "text": [
            "Epoch [2129/3000]: Train loss: 1.0819, Valid loss: 1.0834\n"
          ]
        },
        {
          "output_type": "stream",
          "name": "stderr",
          "text": [
            "Epoch [2130/3000]: 100%|██████████| 9/9 [00:00<00:00, 87.73it/s, loss=0.809]\n"
          ]
        },
        {
          "output_type": "stream",
          "name": "stdout",
          "text": [
            "Epoch [2130/3000]: Train loss: 1.0329, Valid loss: 1.1362\n"
          ]
        },
        {
          "output_type": "stream",
          "name": "stderr",
          "text": [
            "Epoch [2131/3000]: 100%|██████████| 9/9 [00:00<00:00, 108.07it/s, loss=1.1]\n"
          ]
        },
        {
          "output_type": "stream",
          "name": "stdout",
          "text": [
            "Epoch [2131/3000]: Train loss: 1.0168, Valid loss: 1.2142\n"
          ]
        },
        {
          "output_type": "stream",
          "name": "stderr",
          "text": [
            "Epoch [2132/3000]: 100%|██████████| 9/9 [00:00<00:00, 113.05it/s, loss=0.877]\n"
          ]
        },
        {
          "output_type": "stream",
          "name": "stdout",
          "text": [
            "Epoch [2132/3000]: Train loss: 1.0144, Valid loss: 1.1596\n"
          ]
        },
        {
          "output_type": "stream",
          "name": "stderr",
          "text": [
            "Epoch [2133/3000]: 100%|██████████| 9/9 [00:00<00:00, 113.77it/s, loss=1.09]\n"
          ]
        },
        {
          "output_type": "stream",
          "name": "stdout",
          "text": [
            "Epoch [2133/3000]: Train loss: 1.0327, Valid loss: 1.0692\n"
          ]
        },
        {
          "output_type": "stream",
          "name": "stderr",
          "text": [
            "Epoch [2134/3000]: 100%|██████████| 9/9 [00:00<00:00, 97.58it/s, loss=1.12]\n"
          ]
        },
        {
          "output_type": "stream",
          "name": "stdout",
          "text": [
            "Epoch [2134/3000]: Train loss: 1.0225, Valid loss: 1.5091\n"
          ]
        },
        {
          "output_type": "stream",
          "name": "stderr",
          "text": [
            "Epoch [2135/3000]: 100%|██████████| 9/9 [00:00<00:00, 83.99it/s, loss=0.986]\n"
          ]
        },
        {
          "output_type": "stream",
          "name": "stdout",
          "text": [
            "Epoch [2135/3000]: Train loss: 1.0169, Valid loss: 1.4530\n"
          ]
        },
        {
          "output_type": "stream",
          "name": "stderr",
          "text": [
            "Epoch [2136/3000]: 100%|██████████| 9/9 [00:00<00:00, 83.76it/s, loss=0.971]\n"
          ]
        },
        {
          "output_type": "stream",
          "name": "stdout",
          "text": [
            "Epoch [2136/3000]: Train loss: 1.0302, Valid loss: 1.1487\n"
          ]
        },
        {
          "output_type": "stream",
          "name": "stderr",
          "text": [
            "Epoch [2137/3000]: 100%|██████████| 9/9 [00:00<00:00, 82.72it/s, loss=0.948]\n"
          ]
        },
        {
          "output_type": "stream",
          "name": "stdout",
          "text": [
            "Epoch [2137/3000]: Train loss: 1.0099, Valid loss: 1.2644\n"
          ]
        },
        {
          "output_type": "stream",
          "name": "stderr",
          "text": [
            "Epoch [2138/3000]: 100%|██████████| 9/9 [00:00<00:00, 84.62it/s, loss=0.885]\n"
          ]
        },
        {
          "output_type": "stream",
          "name": "stdout",
          "text": [
            "Epoch [2138/3000]: Train loss: 1.0080, Valid loss: 1.4465\n"
          ]
        },
        {
          "output_type": "stream",
          "name": "stderr",
          "text": [
            "Epoch [2139/3000]: 100%|██████████| 9/9 [00:00<00:00, 101.07it/s, loss=0.697]\n"
          ]
        },
        {
          "output_type": "stream",
          "name": "stdout",
          "text": [
            "Epoch [2139/3000]: Train loss: 1.0233, Valid loss: 1.2169\n"
          ]
        },
        {
          "output_type": "stream",
          "name": "stderr",
          "text": [
            "Epoch [2140/3000]: 100%|██████████| 9/9 [00:00<00:00, 111.98it/s, loss=1.24]"
          ]
        },
        {
          "output_type": "stream",
          "name": "stdout",
          "text": [
            "Epoch [2140/3000]: Train loss: 1.0447, Valid loss: 1.4313"
          ]
        },
        {
          "output_type": "stream",
          "name": "stderr",
          "text": [
            "\n"
          ]
        },
        {
          "output_type": "stream",
          "name": "stdout",
          "text": [
            "\n"
          ]
        },
        {
          "output_type": "stream",
          "name": "stderr",
          "text": [
            "Epoch [2141/3000]: 100%|██████████| 9/9 [00:00<00:00, 117.91it/s, loss=1.2]\n"
          ]
        },
        {
          "output_type": "stream",
          "name": "stdout",
          "text": [
            "Epoch [2141/3000]: Train loss: 1.0262, Valid loss: 1.2636\n"
          ]
        },
        {
          "output_type": "stream",
          "name": "stderr",
          "text": [
            "Epoch [2142/3000]: 100%|██████████| 9/9 [00:00<00:00, 111.54it/s, loss=0.843]\n"
          ]
        },
        {
          "output_type": "stream",
          "name": "stdout",
          "text": [
            "Epoch [2142/3000]: Train loss: 1.0056, Valid loss: 1.4129\n"
          ]
        },
        {
          "output_type": "stream",
          "name": "stderr",
          "text": [
            "Epoch [2143/3000]: 100%|██████████| 9/9 [00:00<00:00, 112.04it/s, loss=0.79]\n"
          ]
        },
        {
          "output_type": "stream",
          "name": "stdout",
          "text": [
            "Epoch [2143/3000]: Train loss: 1.0316, Valid loss: 1.1675\n"
          ]
        },
        {
          "output_type": "stream",
          "name": "stderr",
          "text": [
            "Epoch [2144/3000]: 100%|██████████| 9/9 [00:00<00:00, 106.81it/s, loss=1.25]\n"
          ]
        },
        {
          "output_type": "stream",
          "name": "stdout",
          "text": [
            "Epoch [2144/3000]: Train loss: 1.0474, Valid loss: 1.2113\n"
          ]
        },
        {
          "output_type": "stream",
          "name": "stderr",
          "text": [
            "Epoch [2145/3000]: 100%|██████████| 9/9 [00:00<00:00, 118.36it/s, loss=0.942]\n"
          ]
        },
        {
          "output_type": "stream",
          "name": "stdout",
          "text": [
            "Epoch [2145/3000]: Train loss: 1.0616, Valid loss: 1.3270\n"
          ]
        },
        {
          "output_type": "stream",
          "name": "stderr",
          "text": [
            "Epoch [2146/3000]: 100%|██████████| 9/9 [00:00<00:00, 99.23it/s, loss=0.831]\n"
          ]
        },
        {
          "output_type": "stream",
          "name": "stdout",
          "text": [
            "Epoch [2146/3000]: Train loss: 1.0134, Valid loss: 1.3465\n"
          ]
        },
        {
          "output_type": "stream",
          "name": "stderr",
          "text": [
            "Epoch [2147/3000]: 100%|██████████| 9/9 [00:00<00:00, 115.80it/s, loss=0.813]\n"
          ]
        },
        {
          "output_type": "stream",
          "name": "stdout",
          "text": [
            "Epoch [2147/3000]: Train loss: 1.0055, Valid loss: 1.4308\n"
          ]
        },
        {
          "output_type": "stream",
          "name": "stderr",
          "text": [
            "Epoch [2148/3000]: 100%|██████████| 9/9 [00:00<00:00, 100.88it/s, loss=1.01]\n"
          ]
        },
        {
          "output_type": "stream",
          "name": "stdout",
          "text": [
            "Epoch [2148/3000]: Train loss: 1.0173, Valid loss: 1.3593\n"
          ]
        },
        {
          "output_type": "stream",
          "name": "stderr",
          "text": [
            "Epoch [2149/3000]: 100%|██████████| 9/9 [00:00<00:00, 86.20it/s, loss=0.814]\n"
          ]
        },
        {
          "output_type": "stream",
          "name": "stdout",
          "text": [
            "Epoch [2149/3000]: Train loss: 1.0161, Valid loss: 1.5070\n"
          ]
        },
        {
          "output_type": "stream",
          "name": "stderr",
          "text": [
            "Epoch [2150/3000]: 100%|██████████| 9/9 [00:00<00:00, 96.71it/s, loss=0.869]\n"
          ]
        },
        {
          "output_type": "stream",
          "name": "stdout",
          "text": [
            "Epoch [2150/3000]: Train loss: 1.0300, Valid loss: 1.1752\n"
          ]
        },
        {
          "output_type": "stream",
          "name": "stderr",
          "text": [
            "Epoch [2151/3000]: 100%|██████████| 9/9 [00:00<00:00, 96.55it/s, loss=0.765]\n"
          ]
        },
        {
          "output_type": "stream",
          "name": "stdout",
          "text": [
            "Epoch [2151/3000]: Train loss: 1.0200, Valid loss: 1.1482\n"
          ]
        },
        {
          "output_type": "stream",
          "name": "stderr",
          "text": [
            "Epoch [2152/3000]: 100%|██████████| 9/9 [00:00<00:00, 98.39it/s, loss=1.25]\n"
          ]
        },
        {
          "output_type": "stream",
          "name": "stdout",
          "text": [
            "Epoch [2152/3000]: Train loss: 1.0453, Valid loss: 1.1948\n"
          ]
        },
        {
          "output_type": "stream",
          "name": "stderr",
          "text": [
            "Epoch [2153/3000]: 100%|██████████| 9/9 [00:00<00:00, 92.93it/s, loss=1.04]\n"
          ]
        },
        {
          "output_type": "stream",
          "name": "stdout",
          "text": [
            "Epoch [2153/3000]: Train loss: 1.0261, Valid loss: 1.7591\n"
          ]
        },
        {
          "output_type": "stream",
          "name": "stderr",
          "text": [
            "Epoch [2154/3000]: 100%|██████████| 9/9 [00:00<00:00, 89.66it/s, loss=1.11]\n"
          ]
        },
        {
          "output_type": "stream",
          "name": "stdout",
          "text": [
            "Epoch [2154/3000]: Train loss: 1.0255, Valid loss: 1.2664\n"
          ]
        },
        {
          "output_type": "stream",
          "name": "stderr",
          "text": [
            "Epoch [2155/3000]: 100%|██████████| 9/9 [00:00<00:00, 79.46it/s, loss=0.768]\n"
          ]
        },
        {
          "output_type": "stream",
          "name": "stdout",
          "text": [
            "Epoch [2155/3000]: Train loss: 1.0014, Valid loss: 1.2543\n"
          ]
        },
        {
          "output_type": "stream",
          "name": "stderr",
          "text": [
            "Epoch [2156/3000]: 100%|██████████| 9/9 [00:00<00:00, 91.43it/s, loss=0.494]\n"
          ]
        },
        {
          "output_type": "stream",
          "name": "stdout",
          "text": [
            "Epoch [2156/3000]: Train loss: 0.9855, Valid loss: 1.3394\n"
          ]
        },
        {
          "output_type": "stream",
          "name": "stderr",
          "text": [
            "Epoch [2157/3000]: 100%|██████████| 9/9 [00:00<00:00, 88.15it/s, loss=0.832]\n"
          ]
        },
        {
          "output_type": "stream",
          "name": "stdout",
          "text": [
            "Epoch [2157/3000]: Train loss: 0.9991, Valid loss: 1.1324\n"
          ]
        },
        {
          "output_type": "stream",
          "name": "stderr",
          "text": [
            "Epoch [2158/3000]: 100%|██████████| 9/9 [00:00<00:00, 74.22it/s, loss=1.1]\n"
          ]
        },
        {
          "output_type": "stream",
          "name": "stdout",
          "text": [
            "Epoch [2158/3000]: Train loss: 1.0421, Valid loss: 1.3595\n"
          ]
        },
        {
          "output_type": "stream",
          "name": "stderr",
          "text": [
            "Epoch [2159/3000]: 100%|██████████| 9/9 [00:00<00:00, 95.94it/s, loss=0.907]\n"
          ]
        },
        {
          "output_type": "stream",
          "name": "stdout",
          "text": [
            "Epoch [2159/3000]: Train loss: 1.0407, Valid loss: 1.2453\n"
          ]
        },
        {
          "output_type": "stream",
          "name": "stderr",
          "text": [
            "Epoch [2160/3000]: 100%|██████████| 9/9 [00:00<00:00, 98.73it/s, loss=1.31]\n"
          ]
        },
        {
          "output_type": "stream",
          "name": "stdout",
          "text": [
            "Epoch [2160/3000]: Train loss: 1.0410, Valid loss: 1.2150\n"
          ]
        },
        {
          "output_type": "stream",
          "name": "stderr",
          "text": [
            "Epoch [2161/3000]: 100%|██████████| 9/9 [00:00<00:00, 110.07it/s, loss=0.792]\n"
          ]
        },
        {
          "output_type": "stream",
          "name": "stdout",
          "text": [
            "Epoch [2161/3000]: Train loss: 1.0264, Valid loss: 1.3123\n"
          ]
        },
        {
          "output_type": "stream",
          "name": "stderr",
          "text": [
            "Epoch [2162/3000]: 100%|██████████| 9/9 [00:00<00:00, 78.95it/s, loss=0.99]\n"
          ]
        },
        {
          "output_type": "stream",
          "name": "stdout",
          "text": [
            "Epoch [2162/3000]: Train loss: 1.0195, Valid loss: 1.4445\n"
          ]
        },
        {
          "output_type": "stream",
          "name": "stderr",
          "text": [
            "Epoch [2163/3000]: 100%|██████████| 9/9 [00:00<00:00, 90.30it/s, loss=1.06]\n"
          ]
        },
        {
          "output_type": "stream",
          "name": "stdout",
          "text": [
            "Epoch [2163/3000]: Train loss: 1.0188, Valid loss: 1.1647\n"
          ]
        },
        {
          "output_type": "stream",
          "name": "stderr",
          "text": [
            "Epoch [2164/3000]: 100%|██████████| 9/9 [00:00<00:00, 93.76it/s, loss=1.08]\n"
          ]
        },
        {
          "output_type": "stream",
          "name": "stdout",
          "text": [
            "Epoch [2164/3000]: Train loss: 1.0193, Valid loss: 1.2354\n"
          ]
        },
        {
          "output_type": "stream",
          "name": "stderr",
          "text": [
            "Epoch [2165/3000]: 100%|██████████| 9/9 [00:00<00:00, 91.33it/s, loss=1.18]\n"
          ]
        },
        {
          "output_type": "stream",
          "name": "stdout",
          "text": [
            "Epoch [2165/3000]: Train loss: 1.0438, Valid loss: 1.2556\n"
          ]
        },
        {
          "output_type": "stream",
          "name": "stderr",
          "text": [
            "Epoch [2166/3000]: 100%|██████████| 9/9 [00:00<00:00, 77.21it/s, loss=0.799]\n"
          ]
        },
        {
          "output_type": "stream",
          "name": "stdout",
          "text": [
            "Epoch [2166/3000]: Train loss: 1.0412, Valid loss: 1.6024\n"
          ]
        },
        {
          "output_type": "stream",
          "name": "stderr",
          "text": [
            "Epoch [2167/3000]: 100%|██████████| 9/9 [00:00<00:00, 83.03it/s, loss=0.793]\n"
          ]
        },
        {
          "output_type": "stream",
          "name": "stdout",
          "text": [
            "Epoch [2167/3000]: Train loss: 1.0130, Valid loss: 1.2928\n"
          ]
        },
        {
          "output_type": "stream",
          "name": "stderr",
          "text": [
            "Epoch [2168/3000]: 100%|██████████| 9/9 [00:00<00:00, 97.36it/s, loss=0.898]\n"
          ]
        },
        {
          "output_type": "stream",
          "name": "stdout",
          "text": [
            "Epoch [2168/3000]: Train loss: 1.0223, Valid loss: 1.1700\n"
          ]
        },
        {
          "output_type": "stream",
          "name": "stderr",
          "text": [
            "Epoch [2169/3000]: 100%|██████████| 9/9 [00:00<00:00, 99.49it/s, loss=1.06]\n"
          ]
        },
        {
          "output_type": "stream",
          "name": "stdout",
          "text": [
            "Epoch [2169/3000]: Train loss: 1.0163, Valid loss: 1.2259\n"
          ]
        },
        {
          "output_type": "stream",
          "name": "stderr",
          "text": [
            "Epoch [2170/3000]: 100%|██████████| 9/9 [00:00<00:00, 99.51it/s, loss=0.773]\n"
          ]
        },
        {
          "output_type": "stream",
          "name": "stdout",
          "text": [
            "Epoch [2170/3000]: Train loss: 1.0030, Valid loss: 1.2176\n"
          ]
        },
        {
          "output_type": "stream",
          "name": "stderr",
          "text": [
            "Epoch [2171/3000]: 100%|██████████| 9/9 [00:00<00:00, 97.50it/s, loss=0.749]\n"
          ]
        },
        {
          "output_type": "stream",
          "name": "stdout",
          "text": [
            "Epoch [2171/3000]: Train loss: 1.0041, Valid loss: 1.4750\n"
          ]
        },
        {
          "output_type": "stream",
          "name": "stderr",
          "text": [
            "Epoch [2172/3000]: 100%|██████████| 9/9 [00:00<00:00, 109.95it/s, loss=1.15]\n"
          ]
        },
        {
          "output_type": "stream",
          "name": "stdout",
          "text": [
            "Epoch [2172/3000]: Train loss: 1.0360, Valid loss: 1.2437\n"
          ]
        },
        {
          "output_type": "stream",
          "name": "stderr",
          "text": [
            "Epoch [2173/3000]: 100%|██████████| 9/9 [00:00<00:00, 108.47it/s, loss=1.46]\n"
          ]
        },
        {
          "output_type": "stream",
          "name": "stdout",
          "text": [
            "Epoch [2173/3000]: Train loss: 1.0637, Valid loss: 1.1593\n"
          ]
        },
        {
          "output_type": "stream",
          "name": "stderr",
          "text": [
            "Epoch [2174/3000]: 100%|██████████| 9/9 [00:00<00:00, 112.74it/s, loss=1.02]\n"
          ]
        },
        {
          "output_type": "stream",
          "name": "stdout",
          "text": [
            "Epoch [2174/3000]: Train loss: 1.0416, Valid loss: 1.2426\n"
          ]
        },
        {
          "output_type": "stream",
          "name": "stderr",
          "text": [
            "Epoch [2175/3000]: 100%|██████████| 9/9 [00:00<00:00, 100.64it/s, loss=0.82]\n"
          ]
        },
        {
          "output_type": "stream",
          "name": "stdout",
          "text": [
            "Epoch [2175/3000]: Train loss: 1.0089, Valid loss: 1.2452\n"
          ]
        },
        {
          "output_type": "stream",
          "name": "stderr",
          "text": [
            "Epoch [2176/3000]: 100%|██████████| 9/9 [00:00<00:00, 97.38it/s, loss=0.909]\n"
          ]
        },
        {
          "output_type": "stream",
          "name": "stdout",
          "text": [
            "Epoch [2176/3000]: Train loss: 1.0149, Valid loss: 1.0169\n"
          ]
        },
        {
          "output_type": "stream",
          "name": "stderr",
          "text": [
            "Epoch [2177/3000]: 100%|██████████| 9/9 [00:00<00:00, 111.60it/s, loss=0.915]\n"
          ]
        },
        {
          "output_type": "stream",
          "name": "stdout",
          "text": [
            "Epoch [2177/3000]: Train loss: 1.0106, Valid loss: 1.1179\n"
          ]
        },
        {
          "output_type": "stream",
          "name": "stderr",
          "text": [
            "Epoch [2178/3000]: 100%|██████████| 9/9 [00:00<00:00, 98.50it/s, loss=1.2]\n"
          ]
        },
        {
          "output_type": "stream",
          "name": "stdout",
          "text": [
            "Epoch [2178/3000]: Train loss: 1.0309, Valid loss: 1.3996\n"
          ]
        },
        {
          "output_type": "stream",
          "name": "stderr",
          "text": [
            "Epoch [2179/3000]: 100%|██████████| 9/9 [00:00<00:00, 107.71it/s, loss=1.12]\n"
          ]
        },
        {
          "output_type": "stream",
          "name": "stdout",
          "text": [
            "Epoch [2179/3000]: Train loss: 1.0379, Valid loss: 1.0888\n"
          ]
        },
        {
          "output_type": "stream",
          "name": "stderr",
          "text": [
            "Epoch [2180/3000]: 100%|██████████| 9/9 [00:00<00:00, 92.73it/s, loss=0.883]\n"
          ]
        },
        {
          "output_type": "stream",
          "name": "stdout",
          "text": [
            "Epoch [2180/3000]: Train loss: 1.0175, Valid loss: 1.2634\n"
          ]
        },
        {
          "output_type": "stream",
          "name": "stderr",
          "text": [
            "Epoch [2181/3000]: 100%|██████████| 9/9 [00:00<00:00, 86.90it/s, loss=1.1]\n"
          ]
        },
        {
          "output_type": "stream",
          "name": "stdout",
          "text": [
            "Epoch [2181/3000]: Train loss: 1.0299, Valid loss: 1.1071\n"
          ]
        },
        {
          "output_type": "stream",
          "name": "stderr",
          "text": [
            "Epoch [2182/3000]: 100%|██████████| 9/9 [00:00<00:00, 106.64it/s, loss=0.847]\n"
          ]
        },
        {
          "output_type": "stream",
          "name": "stdout",
          "text": [
            "Epoch [2182/3000]: Train loss: 1.0132, Valid loss: 1.7052\n"
          ]
        },
        {
          "output_type": "stream",
          "name": "stderr",
          "text": [
            "Epoch [2183/3000]: 100%|██████████| 9/9 [00:00<00:00, 107.13it/s, loss=1.5]\n"
          ]
        },
        {
          "output_type": "stream",
          "name": "stdout",
          "text": [
            "Epoch [2183/3000]: Train loss: 1.0460, Valid loss: 1.3478\n"
          ]
        },
        {
          "output_type": "stream",
          "name": "stderr",
          "text": [
            "Epoch [2184/3000]: 100%|██████████| 9/9 [00:00<00:00, 94.33it/s, loss=1.04]\n"
          ]
        },
        {
          "output_type": "stream",
          "name": "stdout",
          "text": [
            "Epoch [2184/3000]: Train loss: 1.0118, Valid loss: 1.2887\n"
          ]
        },
        {
          "output_type": "stream",
          "name": "stderr",
          "text": [
            "Epoch [2185/3000]: 100%|██████████| 9/9 [00:00<00:00, 82.55it/s, loss=0.856]\n"
          ]
        },
        {
          "output_type": "stream",
          "name": "stdout",
          "text": [
            "Epoch [2185/3000]: Train loss: 1.0015, Valid loss: 1.2101\n"
          ]
        },
        {
          "output_type": "stream",
          "name": "stderr",
          "text": [
            "Epoch [2186/3000]: 100%|██████████| 9/9 [00:00<00:00, 95.25it/s, loss=0.986]\n"
          ]
        },
        {
          "output_type": "stream",
          "name": "stdout",
          "text": [
            "Epoch [2186/3000]: Train loss: 1.0093, Valid loss: 1.3034\n"
          ]
        },
        {
          "output_type": "stream",
          "name": "stderr",
          "text": [
            "Epoch [2187/3000]: 100%|██████████| 9/9 [00:00<00:00, 94.54it/s, loss=1.16]\n"
          ]
        },
        {
          "output_type": "stream",
          "name": "stdout",
          "text": [
            "Epoch [2187/3000]: Train loss: 1.0292, Valid loss: 1.2444\n"
          ]
        },
        {
          "output_type": "stream",
          "name": "stderr",
          "text": [
            "Epoch [2188/3000]: 100%|██████████| 9/9 [00:00<00:00, 113.97it/s, loss=1.09]\n"
          ]
        },
        {
          "output_type": "stream",
          "name": "stdout",
          "text": [
            "Epoch [2188/3000]: Train loss: 1.0209, Valid loss: 1.3737\n"
          ]
        },
        {
          "output_type": "stream",
          "name": "stderr",
          "text": [
            "Epoch [2189/3000]: 100%|██████████| 9/9 [00:00<00:00, 96.30it/s, loss=0.983]\n"
          ]
        },
        {
          "output_type": "stream",
          "name": "stdout",
          "text": [
            "Epoch [2189/3000]: Train loss: 1.0049, Valid loss: 1.1747\n"
          ]
        },
        {
          "output_type": "stream",
          "name": "stderr",
          "text": [
            "Epoch [2190/3000]: 100%|██████████| 9/9 [00:00<00:00, 89.62it/s, loss=1.17]\n"
          ]
        },
        {
          "output_type": "stream",
          "name": "stdout",
          "text": [
            "Epoch [2190/3000]: Train loss: 1.0219, Valid loss: 1.3613\n"
          ]
        },
        {
          "output_type": "stream",
          "name": "stderr",
          "text": [
            "Epoch [2191/3000]: 100%|██████████| 9/9 [00:00<00:00, 90.96it/s, loss=1.06]\n"
          ]
        },
        {
          "output_type": "stream",
          "name": "stdout",
          "text": [
            "Epoch [2191/3000]: Train loss: 1.0118, Valid loss: 1.1737\n"
          ]
        },
        {
          "output_type": "stream",
          "name": "stderr",
          "text": [
            "Epoch [2192/3000]: 100%|██████████| 9/9 [00:00<00:00, 101.75it/s, loss=0.844]\n"
          ]
        },
        {
          "output_type": "stream",
          "name": "stdout",
          "text": [
            "Epoch [2192/3000]: Train loss: 1.0071, Valid loss: 1.1349\n"
          ]
        },
        {
          "output_type": "stream",
          "name": "stderr",
          "text": [
            "Epoch [2193/3000]: 100%|██████████| 9/9 [00:00<00:00, 73.03it/s, loss=1.23]\n"
          ]
        },
        {
          "output_type": "stream",
          "name": "stdout",
          "text": [
            "Epoch [2193/3000]: Train loss: 1.0221, Valid loss: 1.1440\n"
          ]
        },
        {
          "output_type": "stream",
          "name": "stderr",
          "text": [
            "Epoch [2194/3000]: 100%|██████████| 9/9 [00:00<00:00, 94.38it/s, loss=0.927]\n"
          ]
        },
        {
          "output_type": "stream",
          "name": "stdout",
          "text": [
            "Epoch [2194/3000]: Train loss: 1.0054, Valid loss: 1.2061\n"
          ]
        },
        {
          "output_type": "stream",
          "name": "stderr",
          "text": [
            "Epoch [2195/3000]: 100%|██████████| 9/9 [00:00<00:00, 80.87it/s, loss=0.803]\n"
          ]
        },
        {
          "output_type": "stream",
          "name": "stdout",
          "text": [
            "Epoch [2195/3000]: Train loss: 1.0138, Valid loss: 1.0977\n"
          ]
        },
        {
          "output_type": "stream",
          "name": "stderr",
          "text": [
            "Epoch [2196/3000]: 100%|██████████| 9/9 [00:00<00:00, 112.43it/s, loss=1.24]\n"
          ]
        },
        {
          "output_type": "stream",
          "name": "stdout",
          "text": [
            "Epoch [2196/3000]: Train loss: 1.0481, Valid loss: 1.0761\n"
          ]
        },
        {
          "output_type": "stream",
          "name": "stderr",
          "text": [
            "Epoch [2197/3000]: 100%|██████████| 9/9 [00:00<00:00, 84.50it/s, loss=1.09]\n"
          ]
        },
        {
          "output_type": "stream",
          "name": "stdout",
          "text": [
            "Epoch [2197/3000]: Train loss: 1.0689, Valid loss: 1.4181\n"
          ]
        },
        {
          "output_type": "stream",
          "name": "stderr",
          "text": [
            "Epoch [2198/3000]: 100%|██████████| 9/9 [00:00<00:00, 98.90it/s, loss=0.954]\n"
          ]
        },
        {
          "output_type": "stream",
          "name": "stdout",
          "text": [
            "Epoch [2198/3000]: Train loss: 1.0584, Valid loss: 1.2794\n"
          ]
        },
        {
          "output_type": "stream",
          "name": "stderr",
          "text": [
            "Epoch [2199/3000]: 100%|██████████| 9/9 [00:00<00:00, 107.12it/s, loss=1.03]\n"
          ]
        },
        {
          "output_type": "stream",
          "name": "stdout",
          "text": [
            "Epoch [2199/3000]: Train loss: 1.0657, Valid loss: 1.2389\n"
          ]
        },
        {
          "output_type": "stream",
          "name": "stderr",
          "text": [
            "Epoch [2200/3000]: 100%|██████████| 9/9 [00:00<00:00, 107.83it/s, loss=1.07]\n"
          ]
        },
        {
          "output_type": "stream",
          "name": "stdout",
          "text": [
            "Epoch [2200/3000]: Train loss: 1.0598, Valid loss: 1.2475\n"
          ]
        },
        {
          "output_type": "stream",
          "name": "stderr",
          "text": [
            "Epoch [2201/3000]: 100%|██████████| 9/9 [00:00<00:00, 113.24it/s, loss=1.2]\n"
          ]
        },
        {
          "output_type": "stream",
          "name": "stdout",
          "text": [
            "Epoch [2201/3000]: Train loss: 1.0558, Valid loss: 1.3691\n"
          ]
        },
        {
          "output_type": "stream",
          "name": "stderr",
          "text": [
            "Epoch [2202/3000]: 100%|██████████| 9/9 [00:00<00:00, 113.46it/s, loss=0.763]\n"
          ]
        },
        {
          "output_type": "stream",
          "name": "stdout",
          "text": [
            "Epoch [2202/3000]: Train loss: 1.0075, Valid loss: 1.3041\n"
          ]
        },
        {
          "output_type": "stream",
          "name": "stderr",
          "text": [
            "Epoch [2203/3000]: 100%|██████████| 9/9 [00:00<00:00, 108.32it/s, loss=0.973]\n"
          ]
        },
        {
          "output_type": "stream",
          "name": "stdout",
          "text": [
            "Epoch [2203/3000]: Train loss: 1.0080, Valid loss: 1.2951\n"
          ]
        },
        {
          "output_type": "stream",
          "name": "stderr",
          "text": [
            "Epoch [2204/3000]: 100%|██████████| 9/9 [00:00<00:00, 111.79it/s, loss=1.04]\n"
          ]
        },
        {
          "output_type": "stream",
          "name": "stdout",
          "text": [
            "Epoch [2204/3000]: Train loss: 1.0096, Valid loss: 1.5660\n"
          ]
        },
        {
          "output_type": "stream",
          "name": "stderr",
          "text": [
            "Epoch [2205/3000]: 100%|██████████| 9/9 [00:00<00:00, 95.49it/s, loss=0.859]\n"
          ]
        },
        {
          "output_type": "stream",
          "name": "stdout",
          "text": [
            "Epoch [2205/3000]: Train loss: 1.0033, Valid loss: 1.3502\n"
          ]
        },
        {
          "output_type": "stream",
          "name": "stderr",
          "text": [
            "Epoch [2206/3000]: 100%|██████████| 9/9 [00:00<00:00, 108.82it/s, loss=0.943]\n"
          ]
        },
        {
          "output_type": "stream",
          "name": "stdout",
          "text": [
            "Epoch [2206/3000]: Train loss: 1.0044, Valid loss: 1.2730\n"
          ]
        },
        {
          "output_type": "stream",
          "name": "stderr",
          "text": [
            "Epoch [2207/3000]: 100%|██████████| 9/9 [00:00<00:00, 112.23it/s, loss=1.21]"
          ]
        },
        {
          "output_type": "stream",
          "name": "stdout",
          "text": [
            "Epoch [2207/3000]: Train loss: 1.0223, Valid loss: 1.2936"
          ]
        },
        {
          "output_type": "stream",
          "name": "stderr",
          "text": [
            "\n"
          ]
        },
        {
          "output_type": "stream",
          "name": "stdout",
          "text": [
            "\n"
          ]
        },
        {
          "output_type": "stream",
          "name": "stderr",
          "text": [
            "Epoch [2208/3000]: 100%|██████████| 9/9 [00:00<00:00, 98.73it/s, loss=0.797]\n"
          ]
        },
        {
          "output_type": "stream",
          "name": "stdout",
          "text": [
            "Epoch [2208/3000]: Train loss: 1.0089, Valid loss: 1.1635\n"
          ]
        },
        {
          "output_type": "stream",
          "name": "stderr",
          "text": [
            "Epoch [2209/3000]: 100%|██████████| 9/9 [00:00<00:00, 90.58it/s, loss=0.985]\n"
          ]
        },
        {
          "output_type": "stream",
          "name": "stdout",
          "text": [
            "Epoch [2209/3000]: Train loss: 1.0431, Valid loss: 1.2658\n"
          ]
        },
        {
          "output_type": "stream",
          "name": "stderr",
          "text": [
            "Epoch [2210/3000]: 100%|██████████| 9/9 [00:00<00:00, 102.81it/s, loss=1.04]\n"
          ]
        },
        {
          "output_type": "stream",
          "name": "stdout",
          "text": [
            "Epoch [2210/3000]: Train loss: 1.0404, Valid loss: 1.3222\n"
          ]
        },
        {
          "output_type": "stream",
          "name": "stderr",
          "text": [
            "Epoch [2211/3000]: 100%|██████████| 9/9 [00:00<00:00, 94.10it/s, loss=1.32]\n"
          ]
        },
        {
          "output_type": "stream",
          "name": "stdout",
          "text": [
            "Epoch [2211/3000]: Train loss: 1.0609, Valid loss: 1.1405\n"
          ]
        },
        {
          "output_type": "stream",
          "name": "stderr",
          "text": [
            "Epoch [2212/3000]: 100%|██████████| 9/9 [00:00<00:00, 97.81it/s, loss=0.958]\n"
          ]
        },
        {
          "output_type": "stream",
          "name": "stdout",
          "text": [
            "Epoch [2212/3000]: Train loss: 1.0401, Valid loss: 1.3870\n"
          ]
        },
        {
          "output_type": "stream",
          "name": "stderr",
          "text": [
            "Epoch [2213/3000]: 100%|██████████| 9/9 [00:00<00:00, 90.63it/s, loss=1.11]\n"
          ]
        },
        {
          "output_type": "stream",
          "name": "stdout",
          "text": [
            "Epoch [2213/3000]: Train loss: 1.0318, Valid loss: 1.2541\n"
          ]
        },
        {
          "output_type": "stream",
          "name": "stderr",
          "text": [
            "Epoch [2214/3000]: 100%|██████████| 9/9 [00:00<00:00, 100.14it/s, loss=0.863]\n"
          ]
        },
        {
          "output_type": "stream",
          "name": "stdout",
          "text": [
            "Epoch [2214/3000]: Train loss: 1.0033, Valid loss: 1.3491\n"
          ]
        },
        {
          "output_type": "stream",
          "name": "stderr",
          "text": [
            "Epoch [2215/3000]: 100%|██████████| 9/9 [00:00<00:00, 73.13it/s, loss=0.88]\n"
          ]
        },
        {
          "output_type": "stream",
          "name": "stdout",
          "text": [
            "Epoch [2215/3000]: Train loss: 1.0067, Valid loss: 1.3571\n"
          ]
        },
        {
          "output_type": "stream",
          "name": "stderr",
          "text": [
            "Epoch [2216/3000]: 100%|██████████| 9/9 [00:00<00:00, 73.82it/s, loss=0.717]\n"
          ]
        },
        {
          "output_type": "stream",
          "name": "stdout",
          "text": [
            "Epoch [2216/3000]: Train loss: 1.0019, Valid loss: 1.2319\n"
          ]
        },
        {
          "output_type": "stream",
          "name": "stderr",
          "text": [
            "Epoch [2217/3000]: 100%|██████████| 9/9 [00:00<00:00, 82.87it/s, loss=0.77]\n"
          ]
        },
        {
          "output_type": "stream",
          "name": "stdout",
          "text": [
            "Epoch [2217/3000]: Train loss: 1.0047, Valid loss: 1.3592\n"
          ]
        },
        {
          "output_type": "stream",
          "name": "stderr",
          "text": [
            "Epoch [2218/3000]: 100%|██████████| 9/9 [00:00<00:00, 101.56it/s, loss=1.07]\n"
          ]
        },
        {
          "output_type": "stream",
          "name": "stdout",
          "text": [
            "Epoch [2218/3000]: Train loss: 1.0274, Valid loss: 1.4077\n"
          ]
        },
        {
          "output_type": "stream",
          "name": "stderr",
          "text": [
            "Epoch [2219/3000]: 100%|██████████| 9/9 [00:00<00:00, 112.60it/s, loss=1.48]\n"
          ]
        },
        {
          "output_type": "stream",
          "name": "stdout",
          "text": [
            "Epoch [2219/3000]: Train loss: 1.0415, Valid loss: 1.3876\n"
          ]
        },
        {
          "output_type": "stream",
          "name": "stderr",
          "text": [
            "Epoch [2220/3000]: 100%|██████████| 9/9 [00:00<00:00, 105.43it/s, loss=1.19]\n"
          ]
        },
        {
          "output_type": "stream",
          "name": "stdout",
          "text": [
            "Epoch [2220/3000]: Train loss: 1.0209, Valid loss: 1.4286\n"
          ]
        },
        {
          "output_type": "stream",
          "name": "stderr",
          "text": [
            "Epoch [2221/3000]: 100%|██████████| 9/9 [00:00<00:00, 114.19it/s, loss=1.32]\n"
          ]
        },
        {
          "output_type": "stream",
          "name": "stdout",
          "text": [
            "Epoch [2221/3000]: Train loss: 1.0372, Valid loss: 1.4887\n"
          ]
        },
        {
          "output_type": "stream",
          "name": "stderr",
          "text": [
            "Epoch [2222/3000]: 100%|██████████| 9/9 [00:00<00:00, 115.59it/s, loss=0.938]\n"
          ]
        },
        {
          "output_type": "stream",
          "name": "stdout",
          "text": [
            "Epoch [2222/3000]: Train loss: 1.0134, Valid loss: 1.5310\n"
          ]
        },
        {
          "output_type": "stream",
          "name": "stderr",
          "text": [
            "Epoch [2223/3000]: 100%|██████████| 9/9 [00:00<00:00, 90.35it/s, loss=1.06]\n"
          ]
        },
        {
          "output_type": "stream",
          "name": "stdout",
          "text": [
            "Epoch [2223/3000]: Train loss: 1.0249, Valid loss: 1.2536\n"
          ]
        },
        {
          "output_type": "stream",
          "name": "stderr",
          "text": [
            "Epoch [2224/3000]: 100%|██████████| 9/9 [00:00<00:00, 76.74it/s, loss=1.31]\n"
          ]
        },
        {
          "output_type": "stream",
          "name": "stdout",
          "text": [
            "Epoch [2224/3000]: Train loss: 1.0470, Valid loss: 1.3529\n"
          ]
        },
        {
          "output_type": "stream",
          "name": "stderr",
          "text": [
            "Epoch [2225/3000]: 100%|██████████| 9/9 [00:00<00:00, 103.14it/s, loss=1.15]\n"
          ]
        },
        {
          "output_type": "stream",
          "name": "stdout",
          "text": [
            "Epoch [2225/3000]: Train loss: 1.0170, Valid loss: 1.3070\n"
          ]
        },
        {
          "output_type": "stream",
          "name": "stderr",
          "text": [
            "Epoch [2226/3000]: 100%|██████████| 9/9 [00:00<00:00, 109.46it/s, loss=0.831]"
          ]
        },
        {
          "output_type": "stream",
          "name": "stdout",
          "text": [
            "Epoch [2226/3000]: Train loss: 1.0063, Valid loss: 1.2181\n",
            "\n",
            "Model is not improving, so we halt the training session.\n"
          ]
        },
        {
          "output_type": "stream",
          "name": "stderr",
          "text": [
            "\n"
          ]
        }
      ],
      "source": [
        "model = My_Model(input_dim=x_train.shape[1]).to(device) # put your model and data on the same computation device.\n",
        "trainer(train_loader, valid_loader, model, config, device)"
      ]
    },
    {
      "cell_type": "markdown",
      "metadata": {
        "id": "Ik09KPqU-di-"
      },
      "source": [
        "# Plot learning curves with `tensorboard` (optional)\n",
        "\n",
        "`tensorboard` is a tool that allows you to visualize your training progress.\n",
        "\n",
        "If this block does not display your learning curve, please wait for few minutes, and re-run this block. It might take some time to load your logging information. "
      ]
    },
    {
      "cell_type": "code",
      "execution_count": 113,
      "metadata": {
        "colab": {
          "base_uri": "https://localhost:8080/",
          "height": 839
        },
        "id": "loA4nKmLGQ-n",
        "outputId": "f7e5494e-39e3-468f-c8e2-3a447a66a065"
      },
      "outputs": [
        {
          "output_type": "display_data",
          "data": {
            "text/plain": [
              "Reusing TensorBoard on port 6006 (pid 156), started 3:05:59 ago. (Use '!kill 156' to kill it.)"
            ]
          },
          "metadata": {}
        },
        {
          "output_type": "display_data",
          "data": {
            "text/plain": [
              "<IPython.core.display.Javascript object>"
            ],
            "application/javascript": [
              "\n",
              "        (async () => {\n",
              "            const url = new URL(await google.colab.kernel.proxyPort(6006, {'cache': true}));\n",
              "            url.searchParams.set('tensorboardColab', 'true');\n",
              "            const iframe = document.createElement('iframe');\n",
              "            iframe.src = url;\n",
              "            iframe.setAttribute('width', '100%');\n",
              "            iframe.setAttribute('height', '800');\n",
              "            iframe.setAttribute('frameborder', 0);\n",
              "            document.body.appendChild(iframe);\n",
              "        })();\n",
              "    "
            ]
          },
          "metadata": {}
        }
      ],
      "source": [
        "%reload_ext tensorboard\n",
        "%tensorboard --logdir=./runs/"
      ]
    },
    {
      "cell_type": "markdown",
      "metadata": {
        "id": "yhAHGqC9-woK"
      },
      "source": [
        "# Testing\n",
        "The predictions of your model on testing set will be stored at `pred.csv`."
      ]
    },
    {
      "cell_type": "code",
      "execution_count": 114,
      "metadata": {
        "colab": {
          "base_uri": "https://localhost:8080/"
        },
        "id": "Q5eVdpbvAlAe",
        "outputId": "1086d9a7-09a3-4ec6-c4f8-15f3c847def4"
      },
      "outputs": [
        {
          "output_type": "stream",
          "name": "stderr",
          "text": [
            "100%|██████████| 5/5 [00:00<00:00, 666.84it/s]\n"
          ]
        }
      ],
      "source": [
        "def save_pred(preds, file):\n",
        "    ''' Save predictions to specified file '''\n",
        "    with open(file, 'w') as fp:\n",
        "        writer = csv.writer(fp)\n",
        "        writer.writerow(['id', 'tested_positive'])\n",
        "        for i, p in enumerate(preds):\n",
        "            writer.writerow([i, p])\n",
        "\n",
        "model = My_Model(input_dim=x_train.shape[1]).to(device)\n",
        "model.load_state_dict(torch.load(config['save_path']))\n",
        "preds = predict(test_loader, model, device) \n",
        "save_pred(preds, 'pred.csv')         "
      ]
    },
    {
      "cell_type": "markdown",
      "metadata": {
        "id": "IJ_k5rY0GvSV"
      },
      "source": [
        "# Reference\n",
        "This notebook uses code written by Heng-Jui Chang @ NTUEE (https://github.com/ga642381/ML2021-Spring/blob/main/HW01/HW01.ipynb)"
      ]
    }
  ],
  "metadata": {
    "colab": {
      "collapsed_sections": [],
      "name": "ML2022Spring_HW1.ipynb",
      "provenance": [],
      "include_colab_link": true
    },
    "gpuClass": "standard",
    "kernelspec": {
      "display_name": "Python 3",
      "name": "python3"
    },
    "language_info": {
      "name": "python"
    }
  },
  "nbformat": 4,
  "nbformat_minor": 0
}